{
 "cells": [
  {
   "cell_type": "markdown",
   "source": [
    "# 10 Minutes to Pandas\n",
    "[reference](https://pandas.pydata.org/docs/user_guide/10min.html)\n",
    "https://pandas.pydata.org/docs/user_guide/10min.html\n",
    "\n",
    "fiverr.com/abd_soft\n"
   ],
   "metadata": {
    "collapsed": false,
    "pycharm": {
     "name": "#%% md\n"
    }
   }
  },
  {
   "cell_type": "markdown",
   "source": [
    "## Object creation\n"
   ],
   "metadata": {
    "collapsed": false,
    "pycharm": {
     "name": "#%% md\n"
    }
   }
  },
  {
   "cell_type": "code",
   "execution_count": 2,
   "outputs": [
    {
     "data": {
      "text/plain": "0    1\n1    2\n2    3\n3    4\n4    5\n5    6\ndtype: int32"
     },
     "execution_count": 2,
     "metadata": {},
     "output_type": "execute_result"
    }
   ],
   "source": [
    "import pandas as pd\n",
    "import numpy as np\n",
    "\n",
    "arr1 = np.array([1,2,3,4,5,6])\n",
    "s = pd.Series(arr1)\n",
    "s\n"
   ],
   "metadata": {
    "collapsed": false,
    "pycharm": {
     "name": "#%%\n"
    }
   }
  },
  {
   "cell_type": "code",
   "execution_count": 5,
   "outputs": [
    {
     "data": {
      "text/plain": "DatetimeIndex(['2023-01-01', '2023-01-02', '2023-01-03', '2023-01-04',\n               '2023-01-05', '2023-01-06', '2023-01-07', '2023-01-08',\n               '2023-01-09', '2023-01-10', '2023-01-11', '2023-01-12',\n               '2023-01-13', '2023-01-14', '2023-01-15', '2023-01-16',\n               '2023-01-17', '2023-01-18', '2023-01-19', '2023-01-20',\n               '2023-01-21', '2023-01-22', '2023-01-23', '2023-01-24',\n               '2023-01-25', '2023-01-26', '2023-01-27', '2023-01-28',\n               '2023-01-29', '2023-01-30'],\n              dtype='datetime64[ns]', freq='D')"
     },
     "execution_count": 5,
     "metadata": {},
     "output_type": "execute_result"
    }
   ],
   "source": [
    "# Creating a DataFrame by passing a NumPy array, with a datetime index using date_range() and labeled columns:\n",
    "dates = pd.date_range(\"20230101\", periods=30)\n",
    "dates"
   ],
   "metadata": {
    "collapsed": false,
    "pycharm": {
     "name": "#%%\n"
    }
   }
  },
  {
   "cell_type": "code",
   "execution_count": 11,
   "outputs": [
    {
     "data": {
      "text/plain": "array([[  1,   2,   3,   4],\n       [  5,   6,   7,   8],\n       [  9,  10,  11,  12],\n       [ 13,  14,  15,  16],\n       [ 17,  18,  19,  20],\n       [ 21,  22,  23,  24],\n       [ 25,  26,  27,  28],\n       [ 29,  30,  31,  32],\n       [ 33,  34,  35,  36],\n       [ 37,  38,  39,  40],\n       [ 41,  42,  43,  44],\n       [ 45,  46,  47,  48],\n       [ 49,  50,  51,  52],\n       [ 53,  54,  55,  56],\n       [ 57,  58,  59,  60],\n       [ 61,  62,  63,  64],\n       [ 65,  66,  67,  68],\n       [ 69,  70,  71,  72],\n       [ 73,  74,  75,  76],\n       [ 77,  78,  79,  80],\n       [ 81,  82,  83,  84],\n       [ 85,  86,  87,  88],\n       [ 89,  90,  91,  92],\n       [ 93,  94,  95,  96],\n       [ 97,  98,  99, 100],\n       [101, 102, 103, 104],\n       [105, 106, 107, 108],\n       [109, 110, 111, 112],\n       [113, 114, 115, 116],\n       [117, 118, 119, 120]])"
     },
     "execution_count": 11,
     "metadata": {},
     "output_type": "execute_result"
    }
   ],
   "source": [
    "arr = np.arange(1, 121)\n",
    "arr_2d = arr.reshape(30,4)\n",
    "arr_2d"
   ],
   "metadata": {
    "collapsed": false,
    "pycharm": {
     "name": "#%%\n"
    }
   }
  },
  {
   "cell_type": "code",
   "execution_count": 245,
   "outputs": [
    {
     "data": {
      "text/plain": "              A    B    C    D\n2023-01-01    1    2    3    4\n2023-01-02    5    6    7    8\n2023-01-03    9   10   11   12\n2023-01-04   13   14   15   16\n2023-01-05   17   18   19   20\n2023-01-06   21   22   23   24\n2023-01-07   25   26   27   28\n2023-01-08   29   30   31   32\n2023-01-09   33   34   35   36\n2023-01-10   37   38   39   40\n2023-01-11   41   42   43   44\n2023-01-12   45   46   47   48\n2023-01-13   49   50   51   52\n2023-01-14   53   54   55   56\n2023-01-15   57   58   59   60\n2023-01-16   61   62   63   64\n2023-01-17   65   66   67   68\n2023-01-18   69   70   71   72\n2023-01-19   73   74   75   76\n2023-01-20   77   78   79   80\n2023-01-21   81   82   83   84\n2023-01-22   85   86   87   88\n2023-01-23   89   90   91   92\n2023-01-24   93   94   95   96\n2023-01-25   97   98   99  100\n2023-01-26  101  102  103  104\n2023-01-27  105  106  107  108\n2023-01-28  109  110  111  112\n2023-01-29  113  114  115  116\n2023-01-30  117  118  119  120",
      "text/html": "<div>\n<style scoped>\n    .dataframe tbody tr th:only-of-type {\n        vertical-align: middle;\n    }\n\n    .dataframe tbody tr th {\n        vertical-align: top;\n    }\n\n    .dataframe thead th {\n        text-align: right;\n    }\n</style>\n<table border=\"1\" class=\"dataframe\">\n  <thead>\n    <tr style=\"text-align: right;\">\n      <th></th>\n      <th>A</th>\n      <th>B</th>\n      <th>C</th>\n      <th>D</th>\n    </tr>\n  </thead>\n  <tbody>\n    <tr>\n      <th>2023-01-01</th>\n      <td>1</td>\n      <td>2</td>\n      <td>3</td>\n      <td>4</td>\n    </tr>\n    <tr>\n      <th>2023-01-02</th>\n      <td>5</td>\n      <td>6</td>\n      <td>7</td>\n      <td>8</td>\n    </tr>\n    <tr>\n      <th>2023-01-03</th>\n      <td>9</td>\n      <td>10</td>\n      <td>11</td>\n      <td>12</td>\n    </tr>\n    <tr>\n      <th>2023-01-04</th>\n      <td>13</td>\n      <td>14</td>\n      <td>15</td>\n      <td>16</td>\n    </tr>\n    <tr>\n      <th>2023-01-05</th>\n      <td>17</td>\n      <td>18</td>\n      <td>19</td>\n      <td>20</td>\n    </tr>\n    <tr>\n      <th>2023-01-06</th>\n      <td>21</td>\n      <td>22</td>\n      <td>23</td>\n      <td>24</td>\n    </tr>\n    <tr>\n      <th>2023-01-07</th>\n      <td>25</td>\n      <td>26</td>\n      <td>27</td>\n      <td>28</td>\n    </tr>\n    <tr>\n      <th>2023-01-08</th>\n      <td>29</td>\n      <td>30</td>\n      <td>31</td>\n      <td>32</td>\n    </tr>\n    <tr>\n      <th>2023-01-09</th>\n      <td>33</td>\n      <td>34</td>\n      <td>35</td>\n      <td>36</td>\n    </tr>\n    <tr>\n      <th>2023-01-10</th>\n      <td>37</td>\n      <td>38</td>\n      <td>39</td>\n      <td>40</td>\n    </tr>\n    <tr>\n      <th>2023-01-11</th>\n      <td>41</td>\n      <td>42</td>\n      <td>43</td>\n      <td>44</td>\n    </tr>\n    <tr>\n      <th>2023-01-12</th>\n      <td>45</td>\n      <td>46</td>\n      <td>47</td>\n      <td>48</td>\n    </tr>\n    <tr>\n      <th>2023-01-13</th>\n      <td>49</td>\n      <td>50</td>\n      <td>51</td>\n      <td>52</td>\n    </tr>\n    <tr>\n      <th>2023-01-14</th>\n      <td>53</td>\n      <td>54</td>\n      <td>55</td>\n      <td>56</td>\n    </tr>\n    <tr>\n      <th>2023-01-15</th>\n      <td>57</td>\n      <td>58</td>\n      <td>59</td>\n      <td>60</td>\n    </tr>\n    <tr>\n      <th>2023-01-16</th>\n      <td>61</td>\n      <td>62</td>\n      <td>63</td>\n      <td>64</td>\n    </tr>\n    <tr>\n      <th>2023-01-17</th>\n      <td>65</td>\n      <td>66</td>\n      <td>67</td>\n      <td>68</td>\n    </tr>\n    <tr>\n      <th>2023-01-18</th>\n      <td>69</td>\n      <td>70</td>\n      <td>71</td>\n      <td>72</td>\n    </tr>\n    <tr>\n      <th>2023-01-19</th>\n      <td>73</td>\n      <td>74</td>\n      <td>75</td>\n      <td>76</td>\n    </tr>\n    <tr>\n      <th>2023-01-20</th>\n      <td>77</td>\n      <td>78</td>\n      <td>79</td>\n      <td>80</td>\n    </tr>\n    <tr>\n      <th>2023-01-21</th>\n      <td>81</td>\n      <td>82</td>\n      <td>83</td>\n      <td>84</td>\n    </tr>\n    <tr>\n      <th>2023-01-22</th>\n      <td>85</td>\n      <td>86</td>\n      <td>87</td>\n      <td>88</td>\n    </tr>\n    <tr>\n      <th>2023-01-23</th>\n      <td>89</td>\n      <td>90</td>\n      <td>91</td>\n      <td>92</td>\n    </tr>\n    <tr>\n      <th>2023-01-24</th>\n      <td>93</td>\n      <td>94</td>\n      <td>95</td>\n      <td>96</td>\n    </tr>\n    <tr>\n      <th>2023-01-25</th>\n      <td>97</td>\n      <td>98</td>\n      <td>99</td>\n      <td>100</td>\n    </tr>\n    <tr>\n      <th>2023-01-26</th>\n      <td>101</td>\n      <td>102</td>\n      <td>103</td>\n      <td>104</td>\n    </tr>\n    <tr>\n      <th>2023-01-27</th>\n      <td>105</td>\n      <td>106</td>\n      <td>107</td>\n      <td>108</td>\n    </tr>\n    <tr>\n      <th>2023-01-28</th>\n      <td>109</td>\n      <td>110</td>\n      <td>111</td>\n      <td>112</td>\n    </tr>\n    <tr>\n      <th>2023-01-29</th>\n      <td>113</td>\n      <td>114</td>\n      <td>115</td>\n      <td>116</td>\n    </tr>\n    <tr>\n      <th>2023-01-30</th>\n      <td>117</td>\n      <td>118</td>\n      <td>119</td>\n      <td>120</td>\n    </tr>\n  </tbody>\n</table>\n</div>"
     },
     "execution_count": 245,
     "metadata": {},
     "output_type": "execute_result"
    }
   ],
   "source": [
    "# df = pd.DataFrame(np.random.randn(30,4), index=dates, columns=list(\"ABCD\"))\n",
    "arr = np.arange(1, 120)\n",
    "len(arr)\n",
    "df = pd.DataFrame(arr_2d, index=dates, columns=list(\"ABCD\"))\n",
    "original_data = df.copy()\n",
    "df"
   ],
   "metadata": {
    "collapsed": false,
    "pycharm": {
     "name": "#%%\n"
    }
   }
  },
  {
   "cell_type": "code",
   "execution_count": 15,
   "outputs": [
    {
     "data": {
      "text/plain": "     A          B    C  D      E    F\n0  1.0 2013-01-02  1.0  3   test  foo\n1  1.0 2013-01-02  1.0  3  train  foo\n2  1.0 2013-01-02  1.0  3   test  foo\n3  1.0 2013-01-02  1.0  3  train  foo",
      "text/html": "<div>\n<style scoped>\n    .dataframe tbody tr th:only-of-type {\n        vertical-align: middle;\n    }\n\n    .dataframe tbody tr th {\n        vertical-align: top;\n    }\n\n    .dataframe thead th {\n        text-align: right;\n    }\n</style>\n<table border=\"1\" class=\"dataframe\">\n  <thead>\n    <tr style=\"text-align: right;\">\n      <th></th>\n      <th>A</th>\n      <th>B</th>\n      <th>C</th>\n      <th>D</th>\n      <th>E</th>\n      <th>F</th>\n    </tr>\n  </thead>\n  <tbody>\n    <tr>\n      <th>0</th>\n      <td>1.0</td>\n      <td>2013-01-02</td>\n      <td>1.0</td>\n      <td>3</td>\n      <td>test</td>\n      <td>foo</td>\n    </tr>\n    <tr>\n      <th>1</th>\n      <td>1.0</td>\n      <td>2013-01-02</td>\n      <td>1.0</td>\n      <td>3</td>\n      <td>train</td>\n      <td>foo</td>\n    </tr>\n    <tr>\n      <th>2</th>\n      <td>1.0</td>\n      <td>2013-01-02</td>\n      <td>1.0</td>\n      <td>3</td>\n      <td>test</td>\n      <td>foo</td>\n    </tr>\n    <tr>\n      <th>3</th>\n      <td>1.0</td>\n      <td>2013-01-02</td>\n      <td>1.0</td>\n      <td>3</td>\n      <td>train</td>\n      <td>foo</td>\n    </tr>\n  </tbody>\n</table>\n</div>"
     },
     "execution_count": 15,
     "metadata": {},
     "output_type": "execute_result"
    }
   ],
   "source": [
    "# Creating a DataFrame by passing a dictionary of objects that can be converted into a series-like structure:\n",
    "df2 = pd.DataFrame(\n",
    "    {\n",
    "        \"A\": 1.0,\n",
    "        \"B\": pd.Timestamp(\"20130102\"),\n",
    "        \"C\": pd.Series(1, index=list(range(4)), dtype=\"float32\"),\n",
    "        \"D\": np.array([3] * 4, dtype=\"int32\"),\n",
    "        \"E\": pd.Categorical([\"test\", \"train\", \"test\", \"train\"]),\n",
    "        \"F\": \"foo\",\n",
    "    }\n",
    ")\n",
    "df2\n"
   ],
   "metadata": {
    "collapsed": false,
    "pycharm": {
     "name": "#%%\n"
    }
   }
  },
  {
   "cell_type": "code",
   "execution_count": 25,
   "outputs": [
    {
     "data": {
      "text/plain": "0    1.0\n1    1.0\n2    1.0\n3    1.0\ndtype: float32"
     },
     "execution_count": 25,
     "metadata": {},
     "output_type": "execute_result"
    }
   ],
   "source": [
    "# testing what are the outputs of the given inputs in above df2\n",
    "pd.Series(1, index=list(range(4)), dtype=\"float32\")\n"
   ],
   "metadata": {
    "collapsed": false,
    "pycharm": {
     "name": "#%%\n"
    }
   }
  },
  {
   "cell_type": "code",
   "execution_count": 22,
   "outputs": [
    {
     "data": {
      "text/plain": "array([3, 3, 3, 3])"
     },
     "execution_count": 22,
     "metadata": {},
     "output_type": "execute_result"
    }
   ],
   "source": [
    "np.array([3] * 4, dtype=\"int32\")\n"
   ],
   "metadata": {
    "collapsed": false,
    "pycharm": {
     "name": "#%%\n"
    }
   }
  },
  {
   "cell_type": "code",
   "execution_count": 24,
   "outputs": [
    {
     "data": {
      "text/plain": "['test', 'train', 'test', 'train']\nCategories (2, object): ['test', 'train']"
     },
     "execution_count": 24,
     "metadata": {},
     "output_type": "execute_result"
    }
   ],
   "source": [
    "pd.Categorical([\"test\", \"train\", \"test\", \"train\"])\n"
   ],
   "metadata": {
    "collapsed": false,
    "pycharm": {
     "name": "#%%\n"
    }
   }
  },
  {
   "cell_type": "code",
   "execution_count": 26,
   "outputs": [
    {
     "data": {
      "text/plain": "     A          B    C  D      E    F\n0  1.0 2013-01-02  1.0  3   test  foo\n1  1.0 2013-01-02  1.0  3  train  foo\n2  1.0 2013-01-02  1.0  3   test  foo\n3  1.0 2013-01-02  1.0  3  train  foo",
      "text/html": "<div>\n<style scoped>\n    .dataframe tbody tr th:only-of-type {\n        vertical-align: middle;\n    }\n\n    .dataframe tbody tr th {\n        vertical-align: top;\n    }\n\n    .dataframe thead th {\n        text-align: right;\n    }\n</style>\n<table border=\"1\" class=\"dataframe\">\n  <thead>\n    <tr style=\"text-align: right;\">\n      <th></th>\n      <th>A</th>\n      <th>B</th>\n      <th>C</th>\n      <th>D</th>\n      <th>E</th>\n      <th>F</th>\n    </tr>\n  </thead>\n  <tbody>\n    <tr>\n      <th>0</th>\n      <td>1.0</td>\n      <td>2013-01-02</td>\n      <td>1.0</td>\n      <td>3</td>\n      <td>test</td>\n      <td>foo</td>\n    </tr>\n    <tr>\n      <th>1</th>\n      <td>1.0</td>\n      <td>2013-01-02</td>\n      <td>1.0</td>\n      <td>3</td>\n      <td>train</td>\n      <td>foo</td>\n    </tr>\n    <tr>\n      <th>2</th>\n      <td>1.0</td>\n      <td>2013-01-02</td>\n      <td>1.0</td>\n      <td>3</td>\n      <td>test</td>\n      <td>foo</td>\n    </tr>\n    <tr>\n      <th>3</th>\n      <td>1.0</td>\n      <td>2013-01-02</td>\n      <td>1.0</td>\n      <td>3</td>\n      <td>train</td>\n      <td>foo</td>\n    </tr>\n  </tbody>\n</table>\n</div>"
     },
     "execution_count": 26,
     "metadata": {},
     "output_type": "execute_result"
    }
   ],
   "source": [
    "# now we have a new dataframe df2 from a dictionary\n",
    "df2\n"
   ],
   "metadata": {
    "collapsed": false,
    "pycharm": {
     "name": "#%%\n"
    }
   }
  },
  {
   "cell_type": "code",
   "execution_count": 27,
   "outputs": [
    {
     "data": {
      "text/plain": "A           float64\nB    datetime64[ns]\nC           float32\nD             int32\nE          category\nF            object\ndtype: object"
     },
     "execution_count": 27,
     "metadata": {},
     "output_type": "execute_result"
    }
   ],
   "source": [
    "# The columns of the resulting DataFrame have different dtypes:\n",
    "df2.dtypes\n"
   ],
   "metadata": {
    "collapsed": false,
    "pycharm": {
     "name": "#%%\n"
    }
   }
  },
  {
   "cell_type": "code",
   "execution_count": 37,
   "outputs": [
    {
     "data": {
      "text/plain": "0    1.0\n1    1.0\n2    1.0\n3    1.0\nName: A, dtype: float64"
     },
     "execution_count": 37,
     "metadata": {},
     "output_type": "execute_result"
    }
   ],
   "source": [
    "df2.A\n"
   ],
   "metadata": {
    "collapsed": false,
    "pycharm": {
     "name": "#%%\n"
    }
   }
  },
  {
   "cell_type": "markdown",
   "source": [
    "## Viewing data\n"
   ],
   "metadata": {
    "collapsed": false,
    "pycharm": {
     "name": "#%% md\n"
    }
   }
  },
  {
   "cell_type": "code",
   "execution_count": 39,
   "outputs": [
    {
     "data": {
      "text/plain": "             A   B   C   D\n2023-01-01   1   2   3   4\n2023-01-02   5   6   7   8\n2023-01-03   9  10  11  12\n2023-01-04  13  14  15  16\n2023-01-05  17  18  19  20",
      "text/html": "<div>\n<style scoped>\n    .dataframe tbody tr th:only-of-type {\n        vertical-align: middle;\n    }\n\n    .dataframe tbody tr th {\n        vertical-align: top;\n    }\n\n    .dataframe thead th {\n        text-align: right;\n    }\n</style>\n<table border=\"1\" class=\"dataframe\">\n  <thead>\n    <tr style=\"text-align: right;\">\n      <th></th>\n      <th>A</th>\n      <th>B</th>\n      <th>C</th>\n      <th>D</th>\n    </tr>\n  </thead>\n  <tbody>\n    <tr>\n      <th>2023-01-01</th>\n      <td>1</td>\n      <td>2</td>\n      <td>3</td>\n      <td>4</td>\n    </tr>\n    <tr>\n      <th>2023-01-02</th>\n      <td>5</td>\n      <td>6</td>\n      <td>7</td>\n      <td>8</td>\n    </tr>\n    <tr>\n      <th>2023-01-03</th>\n      <td>9</td>\n      <td>10</td>\n      <td>11</td>\n      <td>12</td>\n    </tr>\n    <tr>\n      <th>2023-01-04</th>\n      <td>13</td>\n      <td>14</td>\n      <td>15</td>\n      <td>16</td>\n    </tr>\n    <tr>\n      <th>2023-01-05</th>\n      <td>17</td>\n      <td>18</td>\n      <td>19</td>\n      <td>20</td>\n    </tr>\n  </tbody>\n</table>\n</div>"
     },
     "execution_count": 39,
     "metadata": {},
     "output_type": "execute_result"
    }
   ],
   "source": [
    "# Use DataFrame.head() and DataFrame.tail() to view the top and bottom rows of the frame respectively:\n",
    "df.head()"
   ],
   "metadata": {
    "collapsed": false,
    "pycharm": {
     "name": "#%%\n"
    }
   }
  },
  {
   "cell_type": "code",
   "execution_count": 41,
   "outputs": [
    {
     "data": {
      "text/plain": "              A    B    C    D\n2023-01-28  109  110  111  112\n2023-01-29  113  114  115  116\n2023-01-30  117  118  119  120",
      "text/html": "<div>\n<style scoped>\n    .dataframe tbody tr th:only-of-type {\n        vertical-align: middle;\n    }\n\n    .dataframe tbody tr th {\n        vertical-align: top;\n    }\n\n    .dataframe thead th {\n        text-align: right;\n    }\n</style>\n<table border=\"1\" class=\"dataframe\">\n  <thead>\n    <tr style=\"text-align: right;\">\n      <th></th>\n      <th>A</th>\n      <th>B</th>\n      <th>C</th>\n      <th>D</th>\n    </tr>\n  </thead>\n  <tbody>\n    <tr>\n      <th>2023-01-28</th>\n      <td>109</td>\n      <td>110</td>\n      <td>111</td>\n      <td>112</td>\n    </tr>\n    <tr>\n      <th>2023-01-29</th>\n      <td>113</td>\n      <td>114</td>\n      <td>115</td>\n      <td>116</td>\n    </tr>\n    <tr>\n      <th>2023-01-30</th>\n      <td>117</td>\n      <td>118</td>\n      <td>119</td>\n      <td>120</td>\n    </tr>\n  </tbody>\n</table>\n</div>"
     },
     "execution_count": 41,
     "metadata": {},
     "output_type": "execute_result"
    }
   ],
   "source": [
    "df.tail(3)\n"
   ],
   "metadata": {
    "collapsed": false,
    "pycharm": {
     "name": "#%%\n"
    }
   }
  },
  {
   "cell_type": "code",
   "execution_count": 44,
   "outputs": [
    {
     "data": {
      "text/plain": "DatetimeIndex(['2023-01-01', '2023-01-02', '2023-01-03', '2023-01-04',\n               '2023-01-05', '2023-01-06', '2023-01-07', '2023-01-08',\n               '2023-01-09', '2023-01-10', '2023-01-11', '2023-01-12',\n               '2023-01-13', '2023-01-14', '2023-01-15', '2023-01-16',\n               '2023-01-17', '2023-01-18', '2023-01-19', '2023-01-20',\n               '2023-01-21', '2023-01-22', '2023-01-23', '2023-01-24',\n               '2023-01-25', '2023-01-26', '2023-01-27', '2023-01-28',\n               '2023-01-29', '2023-01-30'],\n              dtype='datetime64[ns]', freq='D')"
     },
     "execution_count": 44,
     "metadata": {},
     "output_type": "execute_result"
    }
   ],
   "source": [
    "# Display the DataFrame.index or DataFrame.columns:\n",
    "df.index"
   ],
   "metadata": {
    "collapsed": false,
    "pycharm": {
     "name": "#%%\n"
    }
   }
  },
  {
   "cell_type": "code",
   "execution_count": 45,
   "outputs": [
    {
     "data": {
      "text/plain": "Index(['A', 'B', 'C', 'D'], dtype='object')"
     },
     "execution_count": 45,
     "metadata": {},
     "output_type": "execute_result"
    }
   ],
   "source": [
    "df.columns\n"
   ],
   "metadata": {
    "collapsed": false,
    "pycharm": {
     "name": "#%%\n"
    }
   }
  },
  {
   "cell_type": "code",
   "execution_count": 47,
   "outputs": [
    {
     "data": {
      "text/plain": "              E    F    G    H\n2023-01-01    1    2    3    4\n2023-01-02    5    6    7    8\n2023-01-03    9   10   11   12\n2023-01-04   13   14   15   16\n2023-01-05   17   18   19   20\n2023-01-06   21   22   23   24\n2023-01-07   25   26   27   28\n2023-01-08   29   30   31   32\n2023-01-09   33   34   35   36\n2023-01-10   37   38   39   40\n2023-01-11   41   42   43   44\n2023-01-12   45   46   47   48\n2023-01-13   49   50   51   52\n2023-01-14   53   54   55   56\n2023-01-15   57   58   59   60\n2023-01-16   61   62   63   64\n2023-01-17   65   66   67   68\n2023-01-18   69   70   71   72\n2023-01-19   73   74   75   76\n2023-01-20   77   78   79   80\n2023-01-21   81   82   83   84\n2023-01-22   85   86   87   88\n2023-01-23   89   90   91   92\n2023-01-24   93   94   95   96\n2023-01-25   97   98   99  100\n2023-01-26  101  102  103  104\n2023-01-27  105  106  107  108\n2023-01-28  109  110  111  112\n2023-01-29  113  114  115  116\n2023-01-30  117  118  119  120",
      "text/html": "<div>\n<style scoped>\n    .dataframe tbody tr th:only-of-type {\n        vertical-align: middle;\n    }\n\n    .dataframe tbody tr th {\n        vertical-align: top;\n    }\n\n    .dataframe thead th {\n        text-align: right;\n    }\n</style>\n<table border=\"1\" class=\"dataframe\">\n  <thead>\n    <tr style=\"text-align: right;\">\n      <th></th>\n      <th>E</th>\n      <th>F</th>\n      <th>G</th>\n      <th>H</th>\n    </tr>\n  </thead>\n  <tbody>\n    <tr>\n      <th>2023-01-01</th>\n      <td>1</td>\n      <td>2</td>\n      <td>3</td>\n      <td>4</td>\n    </tr>\n    <tr>\n      <th>2023-01-02</th>\n      <td>5</td>\n      <td>6</td>\n      <td>7</td>\n      <td>8</td>\n    </tr>\n    <tr>\n      <th>2023-01-03</th>\n      <td>9</td>\n      <td>10</td>\n      <td>11</td>\n      <td>12</td>\n    </tr>\n    <tr>\n      <th>2023-01-04</th>\n      <td>13</td>\n      <td>14</td>\n      <td>15</td>\n      <td>16</td>\n    </tr>\n    <tr>\n      <th>2023-01-05</th>\n      <td>17</td>\n      <td>18</td>\n      <td>19</td>\n      <td>20</td>\n    </tr>\n    <tr>\n      <th>2023-01-06</th>\n      <td>21</td>\n      <td>22</td>\n      <td>23</td>\n      <td>24</td>\n    </tr>\n    <tr>\n      <th>2023-01-07</th>\n      <td>25</td>\n      <td>26</td>\n      <td>27</td>\n      <td>28</td>\n    </tr>\n    <tr>\n      <th>2023-01-08</th>\n      <td>29</td>\n      <td>30</td>\n      <td>31</td>\n      <td>32</td>\n    </tr>\n    <tr>\n      <th>2023-01-09</th>\n      <td>33</td>\n      <td>34</td>\n      <td>35</td>\n      <td>36</td>\n    </tr>\n    <tr>\n      <th>2023-01-10</th>\n      <td>37</td>\n      <td>38</td>\n      <td>39</td>\n      <td>40</td>\n    </tr>\n    <tr>\n      <th>2023-01-11</th>\n      <td>41</td>\n      <td>42</td>\n      <td>43</td>\n      <td>44</td>\n    </tr>\n    <tr>\n      <th>2023-01-12</th>\n      <td>45</td>\n      <td>46</td>\n      <td>47</td>\n      <td>48</td>\n    </tr>\n    <tr>\n      <th>2023-01-13</th>\n      <td>49</td>\n      <td>50</td>\n      <td>51</td>\n      <td>52</td>\n    </tr>\n    <tr>\n      <th>2023-01-14</th>\n      <td>53</td>\n      <td>54</td>\n      <td>55</td>\n      <td>56</td>\n    </tr>\n    <tr>\n      <th>2023-01-15</th>\n      <td>57</td>\n      <td>58</td>\n      <td>59</td>\n      <td>60</td>\n    </tr>\n    <tr>\n      <th>2023-01-16</th>\n      <td>61</td>\n      <td>62</td>\n      <td>63</td>\n      <td>64</td>\n    </tr>\n    <tr>\n      <th>2023-01-17</th>\n      <td>65</td>\n      <td>66</td>\n      <td>67</td>\n      <td>68</td>\n    </tr>\n    <tr>\n      <th>2023-01-18</th>\n      <td>69</td>\n      <td>70</td>\n      <td>71</td>\n      <td>72</td>\n    </tr>\n    <tr>\n      <th>2023-01-19</th>\n      <td>73</td>\n      <td>74</td>\n      <td>75</td>\n      <td>76</td>\n    </tr>\n    <tr>\n      <th>2023-01-20</th>\n      <td>77</td>\n      <td>78</td>\n      <td>79</td>\n      <td>80</td>\n    </tr>\n    <tr>\n      <th>2023-01-21</th>\n      <td>81</td>\n      <td>82</td>\n      <td>83</td>\n      <td>84</td>\n    </tr>\n    <tr>\n      <th>2023-01-22</th>\n      <td>85</td>\n      <td>86</td>\n      <td>87</td>\n      <td>88</td>\n    </tr>\n    <tr>\n      <th>2023-01-23</th>\n      <td>89</td>\n      <td>90</td>\n      <td>91</td>\n      <td>92</td>\n    </tr>\n    <tr>\n      <th>2023-01-24</th>\n      <td>93</td>\n      <td>94</td>\n      <td>95</td>\n      <td>96</td>\n    </tr>\n    <tr>\n      <th>2023-01-25</th>\n      <td>97</td>\n      <td>98</td>\n      <td>99</td>\n      <td>100</td>\n    </tr>\n    <tr>\n      <th>2023-01-26</th>\n      <td>101</td>\n      <td>102</td>\n      <td>103</td>\n      <td>104</td>\n    </tr>\n    <tr>\n      <th>2023-01-27</th>\n      <td>105</td>\n      <td>106</td>\n      <td>107</td>\n      <td>108</td>\n    </tr>\n    <tr>\n      <th>2023-01-28</th>\n      <td>109</td>\n      <td>110</td>\n      <td>111</td>\n      <td>112</td>\n    </tr>\n    <tr>\n      <th>2023-01-29</th>\n      <td>113</td>\n      <td>114</td>\n      <td>115</td>\n      <td>116</td>\n    </tr>\n    <tr>\n      <th>2023-01-30</th>\n      <td>117</td>\n      <td>118</td>\n      <td>119</td>\n      <td>120</td>\n    </tr>\n  </tbody>\n</table>\n</div>"
     },
     "execution_count": 47,
     "metadata": {},
     "output_type": "execute_result"
    }
   ],
   "source": [
    "df.columns = list(\"EFGH\")\n",
    "df"
   ],
   "metadata": {
    "collapsed": false,
    "pycharm": {
     "name": "#%%\n"
    }
   }
  },
  {
   "cell_type": "code",
   "execution_count": 48,
   "outputs": [
    {
     "data": {
      "text/plain": "Index(['E', 'F', 'G', 'H'], dtype='object')"
     },
     "execution_count": 48,
     "metadata": {},
     "output_type": "execute_result"
    }
   ],
   "source": [
    "df.columns\n"
   ],
   "metadata": {
    "collapsed": false,
    "pycharm": {
     "name": "#%%\n"
    }
   }
  },
  {
   "cell_type": "code",
   "execution_count": 51,
   "outputs": [
    {
     "data": {
      "text/plain": "              A    B    C    D\n2023-01-01    1    2    3    4\n2023-01-02    5    6    7    8\n2023-01-03    9   10   11   12\n2023-01-04   13   14   15   16\n2023-01-05   17   18   19   20\n2023-01-06   21   22   23   24\n2023-01-07   25   26   27   28\n2023-01-08   29   30   31   32\n2023-01-09   33   34   35   36\n2023-01-10   37   38   39   40\n2023-01-11   41   42   43   44\n2023-01-12   45   46   47   48\n2023-01-13   49   50   51   52\n2023-01-14   53   54   55   56\n2023-01-15   57   58   59   60\n2023-01-16   61   62   63   64\n2023-01-17   65   66   67   68\n2023-01-18   69   70   71   72\n2023-01-19   73   74   75   76\n2023-01-20   77   78   79   80\n2023-01-21   81   82   83   84\n2023-01-22   85   86   87   88\n2023-01-23   89   90   91   92\n2023-01-24   93   94   95   96\n2023-01-25   97   98   99  100\n2023-01-26  101  102  103  104\n2023-01-27  105  106  107  108\n2023-01-28  109  110  111  112\n2023-01-29  113  114  115  116\n2023-01-30  117  118  119  120",
      "text/html": "<div>\n<style scoped>\n    .dataframe tbody tr th:only-of-type {\n        vertical-align: middle;\n    }\n\n    .dataframe tbody tr th {\n        vertical-align: top;\n    }\n\n    .dataframe thead th {\n        text-align: right;\n    }\n</style>\n<table border=\"1\" class=\"dataframe\">\n  <thead>\n    <tr style=\"text-align: right;\">\n      <th></th>\n      <th>A</th>\n      <th>B</th>\n      <th>C</th>\n      <th>D</th>\n    </tr>\n  </thead>\n  <tbody>\n    <tr>\n      <th>2023-01-01</th>\n      <td>1</td>\n      <td>2</td>\n      <td>3</td>\n      <td>4</td>\n    </tr>\n    <tr>\n      <th>2023-01-02</th>\n      <td>5</td>\n      <td>6</td>\n      <td>7</td>\n      <td>8</td>\n    </tr>\n    <tr>\n      <th>2023-01-03</th>\n      <td>9</td>\n      <td>10</td>\n      <td>11</td>\n      <td>12</td>\n    </tr>\n    <tr>\n      <th>2023-01-04</th>\n      <td>13</td>\n      <td>14</td>\n      <td>15</td>\n      <td>16</td>\n    </tr>\n    <tr>\n      <th>2023-01-05</th>\n      <td>17</td>\n      <td>18</td>\n      <td>19</td>\n      <td>20</td>\n    </tr>\n    <tr>\n      <th>2023-01-06</th>\n      <td>21</td>\n      <td>22</td>\n      <td>23</td>\n      <td>24</td>\n    </tr>\n    <tr>\n      <th>2023-01-07</th>\n      <td>25</td>\n      <td>26</td>\n      <td>27</td>\n      <td>28</td>\n    </tr>\n    <tr>\n      <th>2023-01-08</th>\n      <td>29</td>\n      <td>30</td>\n      <td>31</td>\n      <td>32</td>\n    </tr>\n    <tr>\n      <th>2023-01-09</th>\n      <td>33</td>\n      <td>34</td>\n      <td>35</td>\n      <td>36</td>\n    </tr>\n    <tr>\n      <th>2023-01-10</th>\n      <td>37</td>\n      <td>38</td>\n      <td>39</td>\n      <td>40</td>\n    </tr>\n    <tr>\n      <th>2023-01-11</th>\n      <td>41</td>\n      <td>42</td>\n      <td>43</td>\n      <td>44</td>\n    </tr>\n    <tr>\n      <th>2023-01-12</th>\n      <td>45</td>\n      <td>46</td>\n      <td>47</td>\n      <td>48</td>\n    </tr>\n    <tr>\n      <th>2023-01-13</th>\n      <td>49</td>\n      <td>50</td>\n      <td>51</td>\n      <td>52</td>\n    </tr>\n    <tr>\n      <th>2023-01-14</th>\n      <td>53</td>\n      <td>54</td>\n      <td>55</td>\n      <td>56</td>\n    </tr>\n    <tr>\n      <th>2023-01-15</th>\n      <td>57</td>\n      <td>58</td>\n      <td>59</td>\n      <td>60</td>\n    </tr>\n    <tr>\n      <th>2023-01-16</th>\n      <td>61</td>\n      <td>62</td>\n      <td>63</td>\n      <td>64</td>\n    </tr>\n    <tr>\n      <th>2023-01-17</th>\n      <td>65</td>\n      <td>66</td>\n      <td>67</td>\n      <td>68</td>\n    </tr>\n    <tr>\n      <th>2023-01-18</th>\n      <td>69</td>\n      <td>70</td>\n      <td>71</td>\n      <td>72</td>\n    </tr>\n    <tr>\n      <th>2023-01-19</th>\n      <td>73</td>\n      <td>74</td>\n      <td>75</td>\n      <td>76</td>\n    </tr>\n    <tr>\n      <th>2023-01-20</th>\n      <td>77</td>\n      <td>78</td>\n      <td>79</td>\n      <td>80</td>\n    </tr>\n    <tr>\n      <th>2023-01-21</th>\n      <td>81</td>\n      <td>82</td>\n      <td>83</td>\n      <td>84</td>\n    </tr>\n    <tr>\n      <th>2023-01-22</th>\n      <td>85</td>\n      <td>86</td>\n      <td>87</td>\n      <td>88</td>\n    </tr>\n    <tr>\n      <th>2023-01-23</th>\n      <td>89</td>\n      <td>90</td>\n      <td>91</td>\n      <td>92</td>\n    </tr>\n    <tr>\n      <th>2023-01-24</th>\n      <td>93</td>\n      <td>94</td>\n      <td>95</td>\n      <td>96</td>\n    </tr>\n    <tr>\n      <th>2023-01-25</th>\n      <td>97</td>\n      <td>98</td>\n      <td>99</td>\n      <td>100</td>\n    </tr>\n    <tr>\n      <th>2023-01-26</th>\n      <td>101</td>\n      <td>102</td>\n      <td>103</td>\n      <td>104</td>\n    </tr>\n    <tr>\n      <th>2023-01-27</th>\n      <td>105</td>\n      <td>106</td>\n      <td>107</td>\n      <td>108</td>\n    </tr>\n    <tr>\n      <th>2023-01-28</th>\n      <td>109</td>\n      <td>110</td>\n      <td>111</td>\n      <td>112</td>\n    </tr>\n    <tr>\n      <th>2023-01-29</th>\n      <td>113</td>\n      <td>114</td>\n      <td>115</td>\n      <td>116</td>\n    </tr>\n    <tr>\n      <th>2023-01-30</th>\n      <td>117</td>\n      <td>118</td>\n      <td>119</td>\n      <td>120</td>\n    </tr>\n  </tbody>\n</table>\n</div>"
     },
     "execution_count": 51,
     "metadata": {},
     "output_type": "execute_result"
    }
   ],
   "source": [
    "df.columns = list(\"ABCD\")\n",
    "df"
   ],
   "metadata": {
    "collapsed": false,
    "pycharm": {
     "name": "#%%\n"
    }
   }
  },
  {
   "cell_type": "code",
   "execution_count": 53,
   "outputs": [
    {
     "data": {
      "text/plain": "array([[  1,   2,   3,   4],\n       [  5,   6,   7,   8],\n       [  9,  10,  11,  12],\n       [ 13,  14,  15,  16],\n       [ 17,  18,  19,  20],\n       [ 21,  22,  23,  24],\n       [ 25,  26,  27,  28],\n       [ 29,  30,  31,  32],\n       [ 33,  34,  35,  36],\n       [ 37,  38,  39,  40],\n       [ 41,  42,  43,  44],\n       [ 45,  46,  47,  48],\n       [ 49,  50,  51,  52],\n       [ 53,  54,  55,  56],\n       [ 57,  58,  59,  60],\n       [ 61,  62,  63,  64],\n       [ 65,  66,  67,  68],\n       [ 69,  70,  71,  72],\n       [ 73,  74,  75,  76],\n       [ 77,  78,  79,  80],\n       [ 81,  82,  83,  84],\n       [ 85,  86,  87,  88],\n       [ 89,  90,  91,  92],\n       [ 93,  94,  95,  96],\n       [ 97,  98,  99, 100],\n       [101, 102, 103, 104],\n       [105, 106, 107, 108],\n       [109, 110, 111, 112],\n       [113, 114, 115, 116],\n       [117, 118, 119, 120]])"
     },
     "execution_count": 53,
     "metadata": {},
     "output_type": "execute_result"
    }
   ],
   "source": [
    "# DataFrame.to_numpy() gives a NumPy representation of the underlying data. Note that this can be an expensive operation when your DataFrame has columns with different data types, which comes down to a fundamental difference between pandas and NumPy: NumPy arrays have one dtype for the entire array, while pandas DataFrames have one dtype per column. When you call DataFrame.to_numpy(), pandas will find the NumPy dtype that can hold all of the dtypes in the DataFrame. This may end up being object, which requires casting every value to a Python object.\n",
    "\n",
    "# For df, our DataFrame of all floating-point values, and DataFrame.to_numpy() is fast and doesn’t require copying data:\n",
    "df.to_numpy()"
   ],
   "metadata": {
    "collapsed": false,
    "pycharm": {
     "name": "#%%\n"
    }
   }
  },
  {
   "cell_type": "code",
   "execution_count": 55,
   "outputs": [],
   "source": [
    "# For df2, the DataFrame with multiple dtypes, DataFrame.to_numpy() is relatively expensive:\n",
    "np_data = df2.to_numpy()"
   ],
   "metadata": {
    "collapsed": false,
    "pycharm": {
     "name": "#%%\n"
    }
   }
  },
  {
   "cell_type": "code",
   "execution_count": 59,
   "outputs": [
    {
     "data": {
      "text/plain": "dtype('O')"
     },
     "execution_count": 59,
     "metadata": {},
     "output_type": "execute_result"
    }
   ],
   "source": [
    "np_data.dtype\n"
   ],
   "metadata": {
    "collapsed": false,
    "pycharm": {
     "name": "#%%\n"
    }
   }
  },
  {
   "cell_type": "code",
   "execution_count": 60,
   "outputs": [
    {
     "data": {
      "text/plain": "numpy.ndarray"
     },
     "execution_count": 60,
     "metadata": {},
     "output_type": "execute_result"
    }
   ],
   "source": [
    "type(np_data)\n"
   ],
   "metadata": {
    "collapsed": false,
    "pycharm": {
     "name": "#%%\n"
    }
   }
  },
  {
   "cell_type": "code",
   "execution_count": 61,
   "outputs": [
    {
     "data": {
      "text/plain": "array([[1.0, Timestamp('2013-01-02 00:00:00'), 1.0, 3, 'test', 'foo'],\n       [1.0, Timestamp('2013-01-02 00:00:00'), 1.0, 3, 'train', 'foo'],\n       [1.0, Timestamp('2013-01-02 00:00:00'), 1.0, 3, 'test', 'foo'],\n       [1.0, Timestamp('2013-01-02 00:00:00'), 1.0, 3, 'train', 'foo']],\n      dtype=object)"
     },
     "execution_count": 61,
     "metadata": {},
     "output_type": "execute_result"
    }
   ],
   "source": [
    "# DataFrame.to_numpy() does not include the index or column labels in the output.\n",
    "np_data"
   ],
   "metadata": {
    "collapsed": false,
    "pycharm": {
     "name": "#%%\n"
    }
   }
  },
  {
   "cell_type": "code",
   "execution_count": 62,
   "outputs": [
    {
     "data": {
      "text/plain": "                A           B           C           D\ncount   30.000000   30.000000   30.000000   30.000000\nmean    59.000000   60.000000   61.000000   62.000000\nstd     35.213634   35.213634   35.213634   35.213634\nmin      1.000000    2.000000    3.000000    4.000000\n25%     30.000000   31.000000   32.000000   33.000000\n50%     59.000000   60.000000   61.000000   62.000000\n75%     88.000000   89.000000   90.000000   91.000000\nmax    117.000000  118.000000  119.000000  120.000000",
      "text/html": "<div>\n<style scoped>\n    .dataframe tbody tr th:only-of-type {\n        vertical-align: middle;\n    }\n\n    .dataframe tbody tr th {\n        vertical-align: top;\n    }\n\n    .dataframe thead th {\n        text-align: right;\n    }\n</style>\n<table border=\"1\" class=\"dataframe\">\n  <thead>\n    <tr style=\"text-align: right;\">\n      <th></th>\n      <th>A</th>\n      <th>B</th>\n      <th>C</th>\n      <th>D</th>\n    </tr>\n  </thead>\n  <tbody>\n    <tr>\n      <th>count</th>\n      <td>30.000000</td>\n      <td>30.000000</td>\n      <td>30.000000</td>\n      <td>30.000000</td>\n    </tr>\n    <tr>\n      <th>mean</th>\n      <td>59.000000</td>\n      <td>60.000000</td>\n      <td>61.000000</td>\n      <td>62.000000</td>\n    </tr>\n    <tr>\n      <th>std</th>\n      <td>35.213634</td>\n      <td>35.213634</td>\n      <td>35.213634</td>\n      <td>35.213634</td>\n    </tr>\n    <tr>\n      <th>min</th>\n      <td>1.000000</td>\n      <td>2.000000</td>\n      <td>3.000000</td>\n      <td>4.000000</td>\n    </tr>\n    <tr>\n      <th>25%</th>\n      <td>30.000000</td>\n      <td>31.000000</td>\n      <td>32.000000</td>\n      <td>33.000000</td>\n    </tr>\n    <tr>\n      <th>50%</th>\n      <td>59.000000</td>\n      <td>60.000000</td>\n      <td>61.000000</td>\n      <td>62.000000</td>\n    </tr>\n    <tr>\n      <th>75%</th>\n      <td>88.000000</td>\n      <td>89.000000</td>\n      <td>90.000000</td>\n      <td>91.000000</td>\n    </tr>\n    <tr>\n      <th>max</th>\n      <td>117.000000</td>\n      <td>118.000000</td>\n      <td>119.000000</td>\n      <td>120.000000</td>\n    </tr>\n  </tbody>\n</table>\n</div>"
     },
     "execution_count": 62,
     "metadata": {},
     "output_type": "execute_result"
    }
   ],
   "source": [
    "# describe() shows a quick statistic summary of your data:\n",
    "df.describe()\n"
   ],
   "metadata": {
    "collapsed": false,
    "pycharm": {
     "name": "#%%\n"
    }
   }
  },
  {
   "cell_type": "code",
   "execution_count": 63,
   "outputs": [
    {
     "data": {
      "text/plain": "   2023-01-01  2023-01-02  2023-01-03  2023-01-04  2023-01-05  2023-01-06  \\\nA           1           5           9          13          17          21   \nB           2           6          10          14          18          22   \nC           3           7          11          15          19          23   \nD           4           8          12          16          20          24   \n\n   2023-01-07  2023-01-08  2023-01-09  2023-01-10  ...  2023-01-21  \\\nA          25          29          33          37  ...          81   \nB          26          30          34          38  ...          82   \nC          27          31          35          39  ...          83   \nD          28          32          36          40  ...          84   \n\n   2023-01-22  2023-01-23  2023-01-24  2023-01-25  2023-01-26  2023-01-27  \\\nA          85          89          93          97         101         105   \nB          86          90          94          98         102         106   \nC          87          91          95          99         103         107   \nD          88          92          96         100         104         108   \n\n   2023-01-28  2023-01-29  2023-01-30  \nA         109         113         117  \nB         110         114         118  \nC         111         115         119  \nD         112         116         120  \n\n[4 rows x 30 columns]",
      "text/html": "<div>\n<style scoped>\n    .dataframe tbody tr th:only-of-type {\n        vertical-align: middle;\n    }\n\n    .dataframe tbody tr th {\n        vertical-align: top;\n    }\n\n    .dataframe thead th {\n        text-align: right;\n    }\n</style>\n<table border=\"1\" class=\"dataframe\">\n  <thead>\n    <tr style=\"text-align: right;\">\n      <th></th>\n      <th>2023-01-01</th>\n      <th>2023-01-02</th>\n      <th>2023-01-03</th>\n      <th>2023-01-04</th>\n      <th>2023-01-05</th>\n      <th>2023-01-06</th>\n      <th>2023-01-07</th>\n      <th>2023-01-08</th>\n      <th>2023-01-09</th>\n      <th>2023-01-10</th>\n      <th>...</th>\n      <th>2023-01-21</th>\n      <th>2023-01-22</th>\n      <th>2023-01-23</th>\n      <th>2023-01-24</th>\n      <th>2023-01-25</th>\n      <th>2023-01-26</th>\n      <th>2023-01-27</th>\n      <th>2023-01-28</th>\n      <th>2023-01-29</th>\n      <th>2023-01-30</th>\n    </tr>\n  </thead>\n  <tbody>\n    <tr>\n      <th>A</th>\n      <td>1</td>\n      <td>5</td>\n      <td>9</td>\n      <td>13</td>\n      <td>17</td>\n      <td>21</td>\n      <td>25</td>\n      <td>29</td>\n      <td>33</td>\n      <td>37</td>\n      <td>...</td>\n      <td>81</td>\n      <td>85</td>\n      <td>89</td>\n      <td>93</td>\n      <td>97</td>\n      <td>101</td>\n      <td>105</td>\n      <td>109</td>\n      <td>113</td>\n      <td>117</td>\n    </tr>\n    <tr>\n      <th>B</th>\n      <td>2</td>\n      <td>6</td>\n      <td>10</td>\n      <td>14</td>\n      <td>18</td>\n      <td>22</td>\n      <td>26</td>\n      <td>30</td>\n      <td>34</td>\n      <td>38</td>\n      <td>...</td>\n      <td>82</td>\n      <td>86</td>\n      <td>90</td>\n      <td>94</td>\n      <td>98</td>\n      <td>102</td>\n      <td>106</td>\n      <td>110</td>\n      <td>114</td>\n      <td>118</td>\n    </tr>\n    <tr>\n      <th>C</th>\n      <td>3</td>\n      <td>7</td>\n      <td>11</td>\n      <td>15</td>\n      <td>19</td>\n      <td>23</td>\n      <td>27</td>\n      <td>31</td>\n      <td>35</td>\n      <td>39</td>\n      <td>...</td>\n      <td>83</td>\n      <td>87</td>\n      <td>91</td>\n      <td>95</td>\n      <td>99</td>\n      <td>103</td>\n      <td>107</td>\n      <td>111</td>\n      <td>115</td>\n      <td>119</td>\n    </tr>\n    <tr>\n      <th>D</th>\n      <td>4</td>\n      <td>8</td>\n      <td>12</td>\n      <td>16</td>\n      <td>20</td>\n      <td>24</td>\n      <td>28</td>\n      <td>32</td>\n      <td>36</td>\n      <td>40</td>\n      <td>...</td>\n      <td>84</td>\n      <td>88</td>\n      <td>92</td>\n      <td>96</td>\n      <td>100</td>\n      <td>104</td>\n      <td>108</td>\n      <td>112</td>\n      <td>116</td>\n      <td>120</td>\n    </tr>\n  </tbody>\n</table>\n<p>4 rows × 30 columns</p>\n</div>"
     },
     "execution_count": 63,
     "metadata": {},
     "output_type": "execute_result"
    }
   ],
   "source": [
    "# Transposing your data: i.e. rows become columns and columns become rows.\n",
    "df.T"
   ],
   "metadata": {
    "collapsed": false,
    "pycharm": {
     "name": "#%%\n"
    }
   }
  },
  {
   "cell_type": "code",
   "execution_count": 64,
   "outputs": [
    {
     "data": {
      "text/plain": "              A    B    C    D\n2023-01-01    1    2    3    4\n2023-01-02    5    6    7    8\n2023-01-03    9   10   11   12\n2023-01-04   13   14   15   16\n2023-01-05   17   18   19   20\n2023-01-06   21   22   23   24\n2023-01-07   25   26   27   28\n2023-01-08   29   30   31   32\n2023-01-09   33   34   35   36\n2023-01-10   37   38   39   40\n2023-01-11   41   42   43   44\n2023-01-12   45   46   47   48\n2023-01-13   49   50   51   52\n2023-01-14   53   54   55   56\n2023-01-15   57   58   59   60\n2023-01-16   61   62   63   64\n2023-01-17   65   66   67   68\n2023-01-18   69   70   71   72\n2023-01-19   73   74   75   76\n2023-01-20   77   78   79   80\n2023-01-21   81   82   83   84\n2023-01-22   85   86   87   88\n2023-01-23   89   90   91   92\n2023-01-24   93   94   95   96\n2023-01-25   97   98   99  100\n2023-01-26  101  102  103  104\n2023-01-27  105  106  107  108\n2023-01-28  109  110  111  112\n2023-01-29  113  114  115  116\n2023-01-30  117  118  119  120",
      "text/html": "<div>\n<style scoped>\n    .dataframe tbody tr th:only-of-type {\n        vertical-align: middle;\n    }\n\n    .dataframe tbody tr th {\n        vertical-align: top;\n    }\n\n    .dataframe thead th {\n        text-align: right;\n    }\n</style>\n<table border=\"1\" class=\"dataframe\">\n  <thead>\n    <tr style=\"text-align: right;\">\n      <th></th>\n      <th>A</th>\n      <th>B</th>\n      <th>C</th>\n      <th>D</th>\n    </tr>\n  </thead>\n  <tbody>\n    <tr>\n      <th>2023-01-01</th>\n      <td>1</td>\n      <td>2</td>\n      <td>3</td>\n      <td>4</td>\n    </tr>\n    <tr>\n      <th>2023-01-02</th>\n      <td>5</td>\n      <td>6</td>\n      <td>7</td>\n      <td>8</td>\n    </tr>\n    <tr>\n      <th>2023-01-03</th>\n      <td>9</td>\n      <td>10</td>\n      <td>11</td>\n      <td>12</td>\n    </tr>\n    <tr>\n      <th>2023-01-04</th>\n      <td>13</td>\n      <td>14</td>\n      <td>15</td>\n      <td>16</td>\n    </tr>\n    <tr>\n      <th>2023-01-05</th>\n      <td>17</td>\n      <td>18</td>\n      <td>19</td>\n      <td>20</td>\n    </tr>\n    <tr>\n      <th>2023-01-06</th>\n      <td>21</td>\n      <td>22</td>\n      <td>23</td>\n      <td>24</td>\n    </tr>\n    <tr>\n      <th>2023-01-07</th>\n      <td>25</td>\n      <td>26</td>\n      <td>27</td>\n      <td>28</td>\n    </tr>\n    <tr>\n      <th>2023-01-08</th>\n      <td>29</td>\n      <td>30</td>\n      <td>31</td>\n      <td>32</td>\n    </tr>\n    <tr>\n      <th>2023-01-09</th>\n      <td>33</td>\n      <td>34</td>\n      <td>35</td>\n      <td>36</td>\n    </tr>\n    <tr>\n      <th>2023-01-10</th>\n      <td>37</td>\n      <td>38</td>\n      <td>39</td>\n      <td>40</td>\n    </tr>\n    <tr>\n      <th>2023-01-11</th>\n      <td>41</td>\n      <td>42</td>\n      <td>43</td>\n      <td>44</td>\n    </tr>\n    <tr>\n      <th>2023-01-12</th>\n      <td>45</td>\n      <td>46</td>\n      <td>47</td>\n      <td>48</td>\n    </tr>\n    <tr>\n      <th>2023-01-13</th>\n      <td>49</td>\n      <td>50</td>\n      <td>51</td>\n      <td>52</td>\n    </tr>\n    <tr>\n      <th>2023-01-14</th>\n      <td>53</td>\n      <td>54</td>\n      <td>55</td>\n      <td>56</td>\n    </tr>\n    <tr>\n      <th>2023-01-15</th>\n      <td>57</td>\n      <td>58</td>\n      <td>59</td>\n      <td>60</td>\n    </tr>\n    <tr>\n      <th>2023-01-16</th>\n      <td>61</td>\n      <td>62</td>\n      <td>63</td>\n      <td>64</td>\n    </tr>\n    <tr>\n      <th>2023-01-17</th>\n      <td>65</td>\n      <td>66</td>\n      <td>67</td>\n      <td>68</td>\n    </tr>\n    <tr>\n      <th>2023-01-18</th>\n      <td>69</td>\n      <td>70</td>\n      <td>71</td>\n      <td>72</td>\n    </tr>\n    <tr>\n      <th>2023-01-19</th>\n      <td>73</td>\n      <td>74</td>\n      <td>75</td>\n      <td>76</td>\n    </tr>\n    <tr>\n      <th>2023-01-20</th>\n      <td>77</td>\n      <td>78</td>\n      <td>79</td>\n      <td>80</td>\n    </tr>\n    <tr>\n      <th>2023-01-21</th>\n      <td>81</td>\n      <td>82</td>\n      <td>83</td>\n      <td>84</td>\n    </tr>\n    <tr>\n      <th>2023-01-22</th>\n      <td>85</td>\n      <td>86</td>\n      <td>87</td>\n      <td>88</td>\n    </tr>\n    <tr>\n      <th>2023-01-23</th>\n      <td>89</td>\n      <td>90</td>\n      <td>91</td>\n      <td>92</td>\n    </tr>\n    <tr>\n      <th>2023-01-24</th>\n      <td>93</td>\n      <td>94</td>\n      <td>95</td>\n      <td>96</td>\n    </tr>\n    <tr>\n      <th>2023-01-25</th>\n      <td>97</td>\n      <td>98</td>\n      <td>99</td>\n      <td>100</td>\n    </tr>\n    <tr>\n      <th>2023-01-26</th>\n      <td>101</td>\n      <td>102</td>\n      <td>103</td>\n      <td>104</td>\n    </tr>\n    <tr>\n      <th>2023-01-27</th>\n      <td>105</td>\n      <td>106</td>\n      <td>107</td>\n      <td>108</td>\n    </tr>\n    <tr>\n      <th>2023-01-28</th>\n      <td>109</td>\n      <td>110</td>\n      <td>111</td>\n      <td>112</td>\n    </tr>\n    <tr>\n      <th>2023-01-29</th>\n      <td>113</td>\n      <td>114</td>\n      <td>115</td>\n      <td>116</td>\n    </tr>\n    <tr>\n      <th>2023-01-30</th>\n      <td>117</td>\n      <td>118</td>\n      <td>119</td>\n      <td>120</td>\n    </tr>\n  </tbody>\n</table>\n</div>"
     },
     "execution_count": 64,
     "metadata": {},
     "output_type": "execute_result"
    }
   ],
   "source": [
    "# DataFrame.sort_index() sorts by an axis:\n",
    "df.sort_index()\n"
   ],
   "metadata": {
    "collapsed": false,
    "pycharm": {
     "name": "#%%\n"
    }
   }
  },
  {
   "cell_type": "code",
   "execution_count": 66,
   "outputs": [
    {
     "data": {
      "text/plain": "              A    B    C    D\n2023-01-30  117  118  119  120\n2023-01-29  113  114  115  116\n2023-01-28  109  110  111  112\n2023-01-27  105  106  107  108\n2023-01-26  101  102  103  104\n2023-01-25   97   98   99  100\n2023-01-24   93   94   95   96\n2023-01-23   89   90   91   92\n2023-01-22   85   86   87   88\n2023-01-21   81   82   83   84\n2023-01-20   77   78   79   80\n2023-01-19   73   74   75   76\n2023-01-18   69   70   71   72\n2023-01-17   65   66   67   68\n2023-01-16   61   62   63   64\n2023-01-15   57   58   59   60\n2023-01-14   53   54   55   56\n2023-01-13   49   50   51   52\n2023-01-12   45   46   47   48\n2023-01-11   41   42   43   44\n2023-01-10   37   38   39   40\n2023-01-09   33   34   35   36\n2023-01-08   29   30   31   32\n2023-01-07   25   26   27   28\n2023-01-06   21   22   23   24\n2023-01-05   17   18   19   20\n2023-01-04   13   14   15   16\n2023-01-03    9   10   11   12\n2023-01-02    5    6    7    8\n2023-01-01    1    2    3    4",
      "text/html": "<div>\n<style scoped>\n    .dataframe tbody tr th:only-of-type {\n        vertical-align: middle;\n    }\n\n    .dataframe tbody tr th {\n        vertical-align: top;\n    }\n\n    .dataframe thead th {\n        text-align: right;\n    }\n</style>\n<table border=\"1\" class=\"dataframe\">\n  <thead>\n    <tr style=\"text-align: right;\">\n      <th></th>\n      <th>A</th>\n      <th>B</th>\n      <th>C</th>\n      <th>D</th>\n    </tr>\n  </thead>\n  <tbody>\n    <tr>\n      <th>2023-01-30</th>\n      <td>117</td>\n      <td>118</td>\n      <td>119</td>\n      <td>120</td>\n    </tr>\n    <tr>\n      <th>2023-01-29</th>\n      <td>113</td>\n      <td>114</td>\n      <td>115</td>\n      <td>116</td>\n    </tr>\n    <tr>\n      <th>2023-01-28</th>\n      <td>109</td>\n      <td>110</td>\n      <td>111</td>\n      <td>112</td>\n    </tr>\n    <tr>\n      <th>2023-01-27</th>\n      <td>105</td>\n      <td>106</td>\n      <td>107</td>\n      <td>108</td>\n    </tr>\n    <tr>\n      <th>2023-01-26</th>\n      <td>101</td>\n      <td>102</td>\n      <td>103</td>\n      <td>104</td>\n    </tr>\n    <tr>\n      <th>2023-01-25</th>\n      <td>97</td>\n      <td>98</td>\n      <td>99</td>\n      <td>100</td>\n    </tr>\n    <tr>\n      <th>2023-01-24</th>\n      <td>93</td>\n      <td>94</td>\n      <td>95</td>\n      <td>96</td>\n    </tr>\n    <tr>\n      <th>2023-01-23</th>\n      <td>89</td>\n      <td>90</td>\n      <td>91</td>\n      <td>92</td>\n    </tr>\n    <tr>\n      <th>2023-01-22</th>\n      <td>85</td>\n      <td>86</td>\n      <td>87</td>\n      <td>88</td>\n    </tr>\n    <tr>\n      <th>2023-01-21</th>\n      <td>81</td>\n      <td>82</td>\n      <td>83</td>\n      <td>84</td>\n    </tr>\n    <tr>\n      <th>2023-01-20</th>\n      <td>77</td>\n      <td>78</td>\n      <td>79</td>\n      <td>80</td>\n    </tr>\n    <tr>\n      <th>2023-01-19</th>\n      <td>73</td>\n      <td>74</td>\n      <td>75</td>\n      <td>76</td>\n    </tr>\n    <tr>\n      <th>2023-01-18</th>\n      <td>69</td>\n      <td>70</td>\n      <td>71</td>\n      <td>72</td>\n    </tr>\n    <tr>\n      <th>2023-01-17</th>\n      <td>65</td>\n      <td>66</td>\n      <td>67</td>\n      <td>68</td>\n    </tr>\n    <tr>\n      <th>2023-01-16</th>\n      <td>61</td>\n      <td>62</td>\n      <td>63</td>\n      <td>64</td>\n    </tr>\n    <tr>\n      <th>2023-01-15</th>\n      <td>57</td>\n      <td>58</td>\n      <td>59</td>\n      <td>60</td>\n    </tr>\n    <tr>\n      <th>2023-01-14</th>\n      <td>53</td>\n      <td>54</td>\n      <td>55</td>\n      <td>56</td>\n    </tr>\n    <tr>\n      <th>2023-01-13</th>\n      <td>49</td>\n      <td>50</td>\n      <td>51</td>\n      <td>52</td>\n    </tr>\n    <tr>\n      <th>2023-01-12</th>\n      <td>45</td>\n      <td>46</td>\n      <td>47</td>\n      <td>48</td>\n    </tr>\n    <tr>\n      <th>2023-01-11</th>\n      <td>41</td>\n      <td>42</td>\n      <td>43</td>\n      <td>44</td>\n    </tr>\n    <tr>\n      <th>2023-01-10</th>\n      <td>37</td>\n      <td>38</td>\n      <td>39</td>\n      <td>40</td>\n    </tr>\n    <tr>\n      <th>2023-01-09</th>\n      <td>33</td>\n      <td>34</td>\n      <td>35</td>\n      <td>36</td>\n    </tr>\n    <tr>\n      <th>2023-01-08</th>\n      <td>29</td>\n      <td>30</td>\n      <td>31</td>\n      <td>32</td>\n    </tr>\n    <tr>\n      <th>2023-01-07</th>\n      <td>25</td>\n      <td>26</td>\n      <td>27</td>\n      <td>28</td>\n    </tr>\n    <tr>\n      <th>2023-01-06</th>\n      <td>21</td>\n      <td>22</td>\n      <td>23</td>\n      <td>24</td>\n    </tr>\n    <tr>\n      <th>2023-01-05</th>\n      <td>17</td>\n      <td>18</td>\n      <td>19</td>\n      <td>20</td>\n    </tr>\n    <tr>\n      <th>2023-01-04</th>\n      <td>13</td>\n      <td>14</td>\n      <td>15</td>\n      <td>16</td>\n    </tr>\n    <tr>\n      <th>2023-01-03</th>\n      <td>9</td>\n      <td>10</td>\n      <td>11</td>\n      <td>12</td>\n    </tr>\n    <tr>\n      <th>2023-01-02</th>\n      <td>5</td>\n      <td>6</td>\n      <td>7</td>\n      <td>8</td>\n    </tr>\n    <tr>\n      <th>2023-01-01</th>\n      <td>1</td>\n      <td>2</td>\n      <td>3</td>\n      <td>4</td>\n    </tr>\n  </tbody>\n</table>\n</div>"
     },
     "execution_count": 66,
     "metadata": {},
     "output_type": "execute_result"
    }
   ],
   "source": [
    "df.sort_index(ascending=False)"
   ],
   "metadata": {
    "collapsed": false,
    "pycharm": {
     "name": "#%%\n"
    }
   }
  },
  {
   "cell_type": "code",
   "execution_count": 70,
   "outputs": [
    {
     "data": {
      "text/plain": "              D    C    B    A\n2023-01-01    4    3    2    1\n2023-01-02    8    7    6    5\n2023-01-03   12   11   10    9\n2023-01-04   16   15   14   13\n2023-01-05   20   19   18   17\n2023-01-06   24   23   22   21\n2023-01-07   28   27   26   25\n2023-01-08   32   31   30   29\n2023-01-09   36   35   34   33\n2023-01-10   40   39   38   37\n2023-01-11   44   43   42   41\n2023-01-12   48   47   46   45\n2023-01-13   52   51   50   49\n2023-01-14   56   55   54   53\n2023-01-15   60   59   58   57\n2023-01-16   64   63   62   61\n2023-01-17   68   67   66   65\n2023-01-18   72   71   70   69\n2023-01-19   76   75   74   73\n2023-01-20   80   79   78   77\n2023-01-21   84   83   82   81\n2023-01-22   88   87   86   85\n2023-01-23   92   91   90   89\n2023-01-24   96   95   94   93\n2023-01-25  100   99   98   97\n2023-01-26  104  103  102  101\n2023-01-27  108  107  106  105\n2023-01-28  112  111  110  109\n2023-01-29  116  115  114  113\n2023-01-30  120  119  118  117",
      "text/html": "<div>\n<style scoped>\n    .dataframe tbody tr th:only-of-type {\n        vertical-align: middle;\n    }\n\n    .dataframe tbody tr th {\n        vertical-align: top;\n    }\n\n    .dataframe thead th {\n        text-align: right;\n    }\n</style>\n<table border=\"1\" class=\"dataframe\">\n  <thead>\n    <tr style=\"text-align: right;\">\n      <th></th>\n      <th>D</th>\n      <th>C</th>\n      <th>B</th>\n      <th>A</th>\n    </tr>\n  </thead>\n  <tbody>\n    <tr>\n      <th>2023-01-01</th>\n      <td>4</td>\n      <td>3</td>\n      <td>2</td>\n      <td>1</td>\n    </tr>\n    <tr>\n      <th>2023-01-02</th>\n      <td>8</td>\n      <td>7</td>\n      <td>6</td>\n      <td>5</td>\n    </tr>\n    <tr>\n      <th>2023-01-03</th>\n      <td>12</td>\n      <td>11</td>\n      <td>10</td>\n      <td>9</td>\n    </tr>\n    <tr>\n      <th>2023-01-04</th>\n      <td>16</td>\n      <td>15</td>\n      <td>14</td>\n      <td>13</td>\n    </tr>\n    <tr>\n      <th>2023-01-05</th>\n      <td>20</td>\n      <td>19</td>\n      <td>18</td>\n      <td>17</td>\n    </tr>\n    <tr>\n      <th>2023-01-06</th>\n      <td>24</td>\n      <td>23</td>\n      <td>22</td>\n      <td>21</td>\n    </tr>\n    <tr>\n      <th>2023-01-07</th>\n      <td>28</td>\n      <td>27</td>\n      <td>26</td>\n      <td>25</td>\n    </tr>\n    <tr>\n      <th>2023-01-08</th>\n      <td>32</td>\n      <td>31</td>\n      <td>30</td>\n      <td>29</td>\n    </tr>\n    <tr>\n      <th>2023-01-09</th>\n      <td>36</td>\n      <td>35</td>\n      <td>34</td>\n      <td>33</td>\n    </tr>\n    <tr>\n      <th>2023-01-10</th>\n      <td>40</td>\n      <td>39</td>\n      <td>38</td>\n      <td>37</td>\n    </tr>\n    <tr>\n      <th>2023-01-11</th>\n      <td>44</td>\n      <td>43</td>\n      <td>42</td>\n      <td>41</td>\n    </tr>\n    <tr>\n      <th>2023-01-12</th>\n      <td>48</td>\n      <td>47</td>\n      <td>46</td>\n      <td>45</td>\n    </tr>\n    <tr>\n      <th>2023-01-13</th>\n      <td>52</td>\n      <td>51</td>\n      <td>50</td>\n      <td>49</td>\n    </tr>\n    <tr>\n      <th>2023-01-14</th>\n      <td>56</td>\n      <td>55</td>\n      <td>54</td>\n      <td>53</td>\n    </tr>\n    <tr>\n      <th>2023-01-15</th>\n      <td>60</td>\n      <td>59</td>\n      <td>58</td>\n      <td>57</td>\n    </tr>\n    <tr>\n      <th>2023-01-16</th>\n      <td>64</td>\n      <td>63</td>\n      <td>62</td>\n      <td>61</td>\n    </tr>\n    <tr>\n      <th>2023-01-17</th>\n      <td>68</td>\n      <td>67</td>\n      <td>66</td>\n      <td>65</td>\n    </tr>\n    <tr>\n      <th>2023-01-18</th>\n      <td>72</td>\n      <td>71</td>\n      <td>70</td>\n      <td>69</td>\n    </tr>\n    <tr>\n      <th>2023-01-19</th>\n      <td>76</td>\n      <td>75</td>\n      <td>74</td>\n      <td>73</td>\n    </tr>\n    <tr>\n      <th>2023-01-20</th>\n      <td>80</td>\n      <td>79</td>\n      <td>78</td>\n      <td>77</td>\n    </tr>\n    <tr>\n      <th>2023-01-21</th>\n      <td>84</td>\n      <td>83</td>\n      <td>82</td>\n      <td>81</td>\n    </tr>\n    <tr>\n      <th>2023-01-22</th>\n      <td>88</td>\n      <td>87</td>\n      <td>86</td>\n      <td>85</td>\n    </tr>\n    <tr>\n      <th>2023-01-23</th>\n      <td>92</td>\n      <td>91</td>\n      <td>90</td>\n      <td>89</td>\n    </tr>\n    <tr>\n      <th>2023-01-24</th>\n      <td>96</td>\n      <td>95</td>\n      <td>94</td>\n      <td>93</td>\n    </tr>\n    <tr>\n      <th>2023-01-25</th>\n      <td>100</td>\n      <td>99</td>\n      <td>98</td>\n      <td>97</td>\n    </tr>\n    <tr>\n      <th>2023-01-26</th>\n      <td>104</td>\n      <td>103</td>\n      <td>102</td>\n      <td>101</td>\n    </tr>\n    <tr>\n      <th>2023-01-27</th>\n      <td>108</td>\n      <td>107</td>\n      <td>106</td>\n      <td>105</td>\n    </tr>\n    <tr>\n      <th>2023-01-28</th>\n      <td>112</td>\n      <td>111</td>\n      <td>110</td>\n      <td>109</td>\n    </tr>\n    <tr>\n      <th>2023-01-29</th>\n      <td>116</td>\n      <td>115</td>\n      <td>114</td>\n      <td>113</td>\n    </tr>\n    <tr>\n      <th>2023-01-30</th>\n      <td>120</td>\n      <td>119</td>\n      <td>118</td>\n      <td>117</td>\n    </tr>\n  </tbody>\n</table>\n</div>"
     },
     "execution_count": 70,
     "metadata": {},
     "output_type": "execute_result"
    }
   ],
   "source": [
    "df.sort_index(axis=1, ascending=False)\n"
   ],
   "metadata": {
    "collapsed": false,
    "pycharm": {
     "name": "#%%\n"
    }
   }
  },
  {
   "cell_type": "code",
   "execution_count": 71,
   "outputs": [
    {
     "data": {
      "text/plain": "              A    B    C    D\n2023-01-30  117  118  119  120\n2023-01-29  113  114  115  116\n2023-01-28  109  110  111  112\n2023-01-27  105  106  107  108\n2023-01-26  101  102  103  104\n2023-01-25   97   98   99  100\n2023-01-24   93   94   95   96\n2023-01-23   89   90   91   92\n2023-01-22   85   86   87   88\n2023-01-21   81   82   83   84\n2023-01-20   77   78   79   80\n2023-01-19   73   74   75   76\n2023-01-18   69   70   71   72\n2023-01-17   65   66   67   68\n2023-01-16   61   62   63   64\n2023-01-15   57   58   59   60\n2023-01-14   53   54   55   56\n2023-01-13   49   50   51   52\n2023-01-12   45   46   47   48\n2023-01-11   41   42   43   44\n2023-01-10   37   38   39   40\n2023-01-09   33   34   35   36\n2023-01-08   29   30   31   32\n2023-01-07   25   26   27   28\n2023-01-06   21   22   23   24\n2023-01-05   17   18   19   20\n2023-01-04   13   14   15   16\n2023-01-03    9   10   11   12\n2023-01-02    5    6    7    8\n2023-01-01    1    2    3    4",
      "text/html": "<div>\n<style scoped>\n    .dataframe tbody tr th:only-of-type {\n        vertical-align: middle;\n    }\n\n    .dataframe tbody tr th {\n        vertical-align: top;\n    }\n\n    .dataframe thead th {\n        text-align: right;\n    }\n</style>\n<table border=\"1\" class=\"dataframe\">\n  <thead>\n    <tr style=\"text-align: right;\">\n      <th></th>\n      <th>A</th>\n      <th>B</th>\n      <th>C</th>\n      <th>D</th>\n    </tr>\n  </thead>\n  <tbody>\n    <tr>\n      <th>2023-01-30</th>\n      <td>117</td>\n      <td>118</td>\n      <td>119</td>\n      <td>120</td>\n    </tr>\n    <tr>\n      <th>2023-01-29</th>\n      <td>113</td>\n      <td>114</td>\n      <td>115</td>\n      <td>116</td>\n    </tr>\n    <tr>\n      <th>2023-01-28</th>\n      <td>109</td>\n      <td>110</td>\n      <td>111</td>\n      <td>112</td>\n    </tr>\n    <tr>\n      <th>2023-01-27</th>\n      <td>105</td>\n      <td>106</td>\n      <td>107</td>\n      <td>108</td>\n    </tr>\n    <tr>\n      <th>2023-01-26</th>\n      <td>101</td>\n      <td>102</td>\n      <td>103</td>\n      <td>104</td>\n    </tr>\n    <tr>\n      <th>2023-01-25</th>\n      <td>97</td>\n      <td>98</td>\n      <td>99</td>\n      <td>100</td>\n    </tr>\n    <tr>\n      <th>2023-01-24</th>\n      <td>93</td>\n      <td>94</td>\n      <td>95</td>\n      <td>96</td>\n    </tr>\n    <tr>\n      <th>2023-01-23</th>\n      <td>89</td>\n      <td>90</td>\n      <td>91</td>\n      <td>92</td>\n    </tr>\n    <tr>\n      <th>2023-01-22</th>\n      <td>85</td>\n      <td>86</td>\n      <td>87</td>\n      <td>88</td>\n    </tr>\n    <tr>\n      <th>2023-01-21</th>\n      <td>81</td>\n      <td>82</td>\n      <td>83</td>\n      <td>84</td>\n    </tr>\n    <tr>\n      <th>2023-01-20</th>\n      <td>77</td>\n      <td>78</td>\n      <td>79</td>\n      <td>80</td>\n    </tr>\n    <tr>\n      <th>2023-01-19</th>\n      <td>73</td>\n      <td>74</td>\n      <td>75</td>\n      <td>76</td>\n    </tr>\n    <tr>\n      <th>2023-01-18</th>\n      <td>69</td>\n      <td>70</td>\n      <td>71</td>\n      <td>72</td>\n    </tr>\n    <tr>\n      <th>2023-01-17</th>\n      <td>65</td>\n      <td>66</td>\n      <td>67</td>\n      <td>68</td>\n    </tr>\n    <tr>\n      <th>2023-01-16</th>\n      <td>61</td>\n      <td>62</td>\n      <td>63</td>\n      <td>64</td>\n    </tr>\n    <tr>\n      <th>2023-01-15</th>\n      <td>57</td>\n      <td>58</td>\n      <td>59</td>\n      <td>60</td>\n    </tr>\n    <tr>\n      <th>2023-01-14</th>\n      <td>53</td>\n      <td>54</td>\n      <td>55</td>\n      <td>56</td>\n    </tr>\n    <tr>\n      <th>2023-01-13</th>\n      <td>49</td>\n      <td>50</td>\n      <td>51</td>\n      <td>52</td>\n    </tr>\n    <tr>\n      <th>2023-01-12</th>\n      <td>45</td>\n      <td>46</td>\n      <td>47</td>\n      <td>48</td>\n    </tr>\n    <tr>\n      <th>2023-01-11</th>\n      <td>41</td>\n      <td>42</td>\n      <td>43</td>\n      <td>44</td>\n    </tr>\n    <tr>\n      <th>2023-01-10</th>\n      <td>37</td>\n      <td>38</td>\n      <td>39</td>\n      <td>40</td>\n    </tr>\n    <tr>\n      <th>2023-01-09</th>\n      <td>33</td>\n      <td>34</td>\n      <td>35</td>\n      <td>36</td>\n    </tr>\n    <tr>\n      <th>2023-01-08</th>\n      <td>29</td>\n      <td>30</td>\n      <td>31</td>\n      <td>32</td>\n    </tr>\n    <tr>\n      <th>2023-01-07</th>\n      <td>25</td>\n      <td>26</td>\n      <td>27</td>\n      <td>28</td>\n    </tr>\n    <tr>\n      <th>2023-01-06</th>\n      <td>21</td>\n      <td>22</td>\n      <td>23</td>\n      <td>24</td>\n    </tr>\n    <tr>\n      <th>2023-01-05</th>\n      <td>17</td>\n      <td>18</td>\n      <td>19</td>\n      <td>20</td>\n    </tr>\n    <tr>\n      <th>2023-01-04</th>\n      <td>13</td>\n      <td>14</td>\n      <td>15</td>\n      <td>16</td>\n    </tr>\n    <tr>\n      <th>2023-01-03</th>\n      <td>9</td>\n      <td>10</td>\n      <td>11</td>\n      <td>12</td>\n    </tr>\n    <tr>\n      <th>2023-01-02</th>\n      <td>5</td>\n      <td>6</td>\n      <td>7</td>\n      <td>8</td>\n    </tr>\n    <tr>\n      <th>2023-01-01</th>\n      <td>1</td>\n      <td>2</td>\n      <td>3</td>\n      <td>4</td>\n    </tr>\n  </tbody>\n</table>\n</div>"
     },
     "execution_count": 71,
     "metadata": {},
     "output_type": "execute_result"
    }
   ],
   "source": [
    "df.sort_index(axis=0, ascending=False)\n"
   ],
   "metadata": {
    "collapsed": false,
    "pycharm": {
     "name": "#%%\n"
    }
   }
  },
  {
   "cell_type": "code",
   "execution_count": 72,
   "outputs": [
    {
     "data": {
      "text/plain": "              A    B    C    D\n2023-01-01    1    2    3    4\n2023-01-02    5    6    7    8\n2023-01-03    9   10   11   12\n2023-01-04   13   14   15   16\n2023-01-05   17   18   19   20\n2023-01-06   21   22   23   24\n2023-01-07   25   26   27   28\n2023-01-08   29   30   31   32\n2023-01-09   33   34   35   36\n2023-01-10   37   38   39   40\n2023-01-11   41   42   43   44\n2023-01-12   45   46   47   48\n2023-01-13   49   50   51   52\n2023-01-14   53   54   55   56\n2023-01-15   57   58   59   60\n2023-01-16   61   62   63   64\n2023-01-17   65   66   67   68\n2023-01-18   69   70   71   72\n2023-01-19   73   74   75   76\n2023-01-20   77   78   79   80\n2023-01-21   81   82   83   84\n2023-01-22   85   86   87   88\n2023-01-23   89   90   91   92\n2023-01-24   93   94   95   96\n2023-01-25   97   98   99  100\n2023-01-26  101  102  103  104\n2023-01-27  105  106  107  108\n2023-01-28  109  110  111  112\n2023-01-29  113  114  115  116\n2023-01-30  117  118  119  120",
      "text/html": "<div>\n<style scoped>\n    .dataframe tbody tr th:only-of-type {\n        vertical-align: middle;\n    }\n\n    .dataframe tbody tr th {\n        vertical-align: top;\n    }\n\n    .dataframe thead th {\n        text-align: right;\n    }\n</style>\n<table border=\"1\" class=\"dataframe\">\n  <thead>\n    <tr style=\"text-align: right;\">\n      <th></th>\n      <th>A</th>\n      <th>B</th>\n      <th>C</th>\n      <th>D</th>\n    </tr>\n  </thead>\n  <tbody>\n    <tr>\n      <th>2023-01-01</th>\n      <td>1</td>\n      <td>2</td>\n      <td>3</td>\n      <td>4</td>\n    </tr>\n    <tr>\n      <th>2023-01-02</th>\n      <td>5</td>\n      <td>6</td>\n      <td>7</td>\n      <td>8</td>\n    </tr>\n    <tr>\n      <th>2023-01-03</th>\n      <td>9</td>\n      <td>10</td>\n      <td>11</td>\n      <td>12</td>\n    </tr>\n    <tr>\n      <th>2023-01-04</th>\n      <td>13</td>\n      <td>14</td>\n      <td>15</td>\n      <td>16</td>\n    </tr>\n    <tr>\n      <th>2023-01-05</th>\n      <td>17</td>\n      <td>18</td>\n      <td>19</td>\n      <td>20</td>\n    </tr>\n    <tr>\n      <th>2023-01-06</th>\n      <td>21</td>\n      <td>22</td>\n      <td>23</td>\n      <td>24</td>\n    </tr>\n    <tr>\n      <th>2023-01-07</th>\n      <td>25</td>\n      <td>26</td>\n      <td>27</td>\n      <td>28</td>\n    </tr>\n    <tr>\n      <th>2023-01-08</th>\n      <td>29</td>\n      <td>30</td>\n      <td>31</td>\n      <td>32</td>\n    </tr>\n    <tr>\n      <th>2023-01-09</th>\n      <td>33</td>\n      <td>34</td>\n      <td>35</td>\n      <td>36</td>\n    </tr>\n    <tr>\n      <th>2023-01-10</th>\n      <td>37</td>\n      <td>38</td>\n      <td>39</td>\n      <td>40</td>\n    </tr>\n    <tr>\n      <th>2023-01-11</th>\n      <td>41</td>\n      <td>42</td>\n      <td>43</td>\n      <td>44</td>\n    </tr>\n    <tr>\n      <th>2023-01-12</th>\n      <td>45</td>\n      <td>46</td>\n      <td>47</td>\n      <td>48</td>\n    </tr>\n    <tr>\n      <th>2023-01-13</th>\n      <td>49</td>\n      <td>50</td>\n      <td>51</td>\n      <td>52</td>\n    </tr>\n    <tr>\n      <th>2023-01-14</th>\n      <td>53</td>\n      <td>54</td>\n      <td>55</td>\n      <td>56</td>\n    </tr>\n    <tr>\n      <th>2023-01-15</th>\n      <td>57</td>\n      <td>58</td>\n      <td>59</td>\n      <td>60</td>\n    </tr>\n    <tr>\n      <th>2023-01-16</th>\n      <td>61</td>\n      <td>62</td>\n      <td>63</td>\n      <td>64</td>\n    </tr>\n    <tr>\n      <th>2023-01-17</th>\n      <td>65</td>\n      <td>66</td>\n      <td>67</td>\n      <td>68</td>\n    </tr>\n    <tr>\n      <th>2023-01-18</th>\n      <td>69</td>\n      <td>70</td>\n      <td>71</td>\n      <td>72</td>\n    </tr>\n    <tr>\n      <th>2023-01-19</th>\n      <td>73</td>\n      <td>74</td>\n      <td>75</td>\n      <td>76</td>\n    </tr>\n    <tr>\n      <th>2023-01-20</th>\n      <td>77</td>\n      <td>78</td>\n      <td>79</td>\n      <td>80</td>\n    </tr>\n    <tr>\n      <th>2023-01-21</th>\n      <td>81</td>\n      <td>82</td>\n      <td>83</td>\n      <td>84</td>\n    </tr>\n    <tr>\n      <th>2023-01-22</th>\n      <td>85</td>\n      <td>86</td>\n      <td>87</td>\n      <td>88</td>\n    </tr>\n    <tr>\n      <th>2023-01-23</th>\n      <td>89</td>\n      <td>90</td>\n      <td>91</td>\n      <td>92</td>\n    </tr>\n    <tr>\n      <th>2023-01-24</th>\n      <td>93</td>\n      <td>94</td>\n      <td>95</td>\n      <td>96</td>\n    </tr>\n    <tr>\n      <th>2023-01-25</th>\n      <td>97</td>\n      <td>98</td>\n      <td>99</td>\n      <td>100</td>\n    </tr>\n    <tr>\n      <th>2023-01-26</th>\n      <td>101</td>\n      <td>102</td>\n      <td>103</td>\n      <td>104</td>\n    </tr>\n    <tr>\n      <th>2023-01-27</th>\n      <td>105</td>\n      <td>106</td>\n      <td>107</td>\n      <td>108</td>\n    </tr>\n    <tr>\n      <th>2023-01-28</th>\n      <td>109</td>\n      <td>110</td>\n      <td>111</td>\n      <td>112</td>\n    </tr>\n    <tr>\n      <th>2023-01-29</th>\n      <td>113</td>\n      <td>114</td>\n      <td>115</td>\n      <td>116</td>\n    </tr>\n    <tr>\n      <th>2023-01-30</th>\n      <td>117</td>\n      <td>118</td>\n      <td>119</td>\n      <td>120</td>\n    </tr>\n  </tbody>\n</table>\n</div>"
     },
     "execution_count": 72,
     "metadata": {},
     "output_type": "execute_result"
    }
   ],
   "source": [
    "# DataFrame.sort_values() sorts by values:\n",
    "df.sort_values(by=\"B\")\n"
   ],
   "metadata": {
    "collapsed": false,
    "pycharm": {
     "name": "#%%\n"
    }
   }
  },
  {
   "cell_type": "code",
   "execution_count": 73,
   "outputs": [
    {
     "data": {
      "text/plain": "              A    B    C    D\n2023-01-30  117  118  119  120\n2023-01-29  113  114  115  116\n2023-01-28  109  110  111  112\n2023-01-27  105  106  107  108\n2023-01-26  101  102  103  104\n2023-01-25   97   98   99  100\n2023-01-24   93   94   95   96\n2023-01-23   89   90   91   92\n2023-01-22   85   86   87   88\n2023-01-21   81   82   83   84\n2023-01-20   77   78   79   80\n2023-01-19   73   74   75   76\n2023-01-18   69   70   71   72\n2023-01-17   65   66   67   68\n2023-01-16   61   62   63   64\n2023-01-15   57   58   59   60\n2023-01-14   53   54   55   56\n2023-01-13   49   50   51   52\n2023-01-12   45   46   47   48\n2023-01-11   41   42   43   44\n2023-01-10   37   38   39   40\n2023-01-09   33   34   35   36\n2023-01-08   29   30   31   32\n2023-01-07   25   26   27   28\n2023-01-06   21   22   23   24\n2023-01-05   17   18   19   20\n2023-01-04   13   14   15   16\n2023-01-03    9   10   11   12\n2023-01-02    5    6    7    8\n2023-01-01    1    2    3    4",
      "text/html": "<div>\n<style scoped>\n    .dataframe tbody tr th:only-of-type {\n        vertical-align: middle;\n    }\n\n    .dataframe tbody tr th {\n        vertical-align: top;\n    }\n\n    .dataframe thead th {\n        text-align: right;\n    }\n</style>\n<table border=\"1\" class=\"dataframe\">\n  <thead>\n    <tr style=\"text-align: right;\">\n      <th></th>\n      <th>A</th>\n      <th>B</th>\n      <th>C</th>\n      <th>D</th>\n    </tr>\n  </thead>\n  <tbody>\n    <tr>\n      <th>2023-01-30</th>\n      <td>117</td>\n      <td>118</td>\n      <td>119</td>\n      <td>120</td>\n    </tr>\n    <tr>\n      <th>2023-01-29</th>\n      <td>113</td>\n      <td>114</td>\n      <td>115</td>\n      <td>116</td>\n    </tr>\n    <tr>\n      <th>2023-01-28</th>\n      <td>109</td>\n      <td>110</td>\n      <td>111</td>\n      <td>112</td>\n    </tr>\n    <tr>\n      <th>2023-01-27</th>\n      <td>105</td>\n      <td>106</td>\n      <td>107</td>\n      <td>108</td>\n    </tr>\n    <tr>\n      <th>2023-01-26</th>\n      <td>101</td>\n      <td>102</td>\n      <td>103</td>\n      <td>104</td>\n    </tr>\n    <tr>\n      <th>2023-01-25</th>\n      <td>97</td>\n      <td>98</td>\n      <td>99</td>\n      <td>100</td>\n    </tr>\n    <tr>\n      <th>2023-01-24</th>\n      <td>93</td>\n      <td>94</td>\n      <td>95</td>\n      <td>96</td>\n    </tr>\n    <tr>\n      <th>2023-01-23</th>\n      <td>89</td>\n      <td>90</td>\n      <td>91</td>\n      <td>92</td>\n    </tr>\n    <tr>\n      <th>2023-01-22</th>\n      <td>85</td>\n      <td>86</td>\n      <td>87</td>\n      <td>88</td>\n    </tr>\n    <tr>\n      <th>2023-01-21</th>\n      <td>81</td>\n      <td>82</td>\n      <td>83</td>\n      <td>84</td>\n    </tr>\n    <tr>\n      <th>2023-01-20</th>\n      <td>77</td>\n      <td>78</td>\n      <td>79</td>\n      <td>80</td>\n    </tr>\n    <tr>\n      <th>2023-01-19</th>\n      <td>73</td>\n      <td>74</td>\n      <td>75</td>\n      <td>76</td>\n    </tr>\n    <tr>\n      <th>2023-01-18</th>\n      <td>69</td>\n      <td>70</td>\n      <td>71</td>\n      <td>72</td>\n    </tr>\n    <tr>\n      <th>2023-01-17</th>\n      <td>65</td>\n      <td>66</td>\n      <td>67</td>\n      <td>68</td>\n    </tr>\n    <tr>\n      <th>2023-01-16</th>\n      <td>61</td>\n      <td>62</td>\n      <td>63</td>\n      <td>64</td>\n    </tr>\n    <tr>\n      <th>2023-01-15</th>\n      <td>57</td>\n      <td>58</td>\n      <td>59</td>\n      <td>60</td>\n    </tr>\n    <tr>\n      <th>2023-01-14</th>\n      <td>53</td>\n      <td>54</td>\n      <td>55</td>\n      <td>56</td>\n    </tr>\n    <tr>\n      <th>2023-01-13</th>\n      <td>49</td>\n      <td>50</td>\n      <td>51</td>\n      <td>52</td>\n    </tr>\n    <tr>\n      <th>2023-01-12</th>\n      <td>45</td>\n      <td>46</td>\n      <td>47</td>\n      <td>48</td>\n    </tr>\n    <tr>\n      <th>2023-01-11</th>\n      <td>41</td>\n      <td>42</td>\n      <td>43</td>\n      <td>44</td>\n    </tr>\n    <tr>\n      <th>2023-01-10</th>\n      <td>37</td>\n      <td>38</td>\n      <td>39</td>\n      <td>40</td>\n    </tr>\n    <tr>\n      <th>2023-01-09</th>\n      <td>33</td>\n      <td>34</td>\n      <td>35</td>\n      <td>36</td>\n    </tr>\n    <tr>\n      <th>2023-01-08</th>\n      <td>29</td>\n      <td>30</td>\n      <td>31</td>\n      <td>32</td>\n    </tr>\n    <tr>\n      <th>2023-01-07</th>\n      <td>25</td>\n      <td>26</td>\n      <td>27</td>\n      <td>28</td>\n    </tr>\n    <tr>\n      <th>2023-01-06</th>\n      <td>21</td>\n      <td>22</td>\n      <td>23</td>\n      <td>24</td>\n    </tr>\n    <tr>\n      <th>2023-01-05</th>\n      <td>17</td>\n      <td>18</td>\n      <td>19</td>\n      <td>20</td>\n    </tr>\n    <tr>\n      <th>2023-01-04</th>\n      <td>13</td>\n      <td>14</td>\n      <td>15</td>\n      <td>16</td>\n    </tr>\n    <tr>\n      <th>2023-01-03</th>\n      <td>9</td>\n      <td>10</td>\n      <td>11</td>\n      <td>12</td>\n    </tr>\n    <tr>\n      <th>2023-01-02</th>\n      <td>5</td>\n      <td>6</td>\n      <td>7</td>\n      <td>8</td>\n    </tr>\n    <tr>\n      <th>2023-01-01</th>\n      <td>1</td>\n      <td>2</td>\n      <td>3</td>\n      <td>4</td>\n    </tr>\n  </tbody>\n</table>\n</div>"
     },
     "execution_count": 73,
     "metadata": {},
     "output_type": "execute_result"
    }
   ],
   "source": [
    "df.sort_values(by=\"B\", ascending=False)\n"
   ],
   "metadata": {
    "collapsed": false,
    "pycharm": {
     "name": "#%%\n"
    }
   }
  },
  {
   "cell_type": "markdown",
   "source": [
    "## Getting\n",
    "<span style=\"color:red\"><b>Note</b></span>\n",
    "\n",
    "While standard Python / NumPy expressions for selecting and setting are intuitive and come in handy for interactive work, for production code, we recommend the optimized pandas data access methods, `DataFrame.at()`, `DataFrame.iat()`, `DataFrame.loc()` and `DataFrame.iloc()`."
   ],
   "metadata": {
    "collapsed": false,
    "pycharm": {
     "name": "#%% md\n"
    }
   }
  },
  {
   "cell_type": "code",
   "execution_count": 75,
   "outputs": [
    {
     "data": {
      "text/plain": "2023-01-01      1\n2023-01-02      5\n2023-01-03      9\n2023-01-04     13\n2023-01-05     17\n2023-01-06     21\n2023-01-07     25\n2023-01-08     29\n2023-01-09     33\n2023-01-10     37\n2023-01-11     41\n2023-01-12     45\n2023-01-13     49\n2023-01-14     53\n2023-01-15     57\n2023-01-16     61\n2023-01-17     65\n2023-01-18     69\n2023-01-19     73\n2023-01-20     77\n2023-01-21     81\n2023-01-22     85\n2023-01-23     89\n2023-01-24     93\n2023-01-25     97\n2023-01-26    101\n2023-01-27    105\n2023-01-28    109\n2023-01-29    113\n2023-01-30    117\nFreq: D, Name: A, dtype: int32"
     },
     "execution_count": 75,
     "metadata": {},
     "output_type": "execute_result"
    }
   ],
   "source": [
    "# Selecting a single column, which yields a Series, equivalent to df.A:\n",
    "df[\"A\"]"
   ],
   "metadata": {
    "collapsed": false,
    "pycharm": {
     "name": "#%%\n"
    }
   }
  },
  {
   "cell_type": "code",
   "execution_count": 76,
   "outputs": [
    {
     "data": {
      "text/plain": "            A   B   C   D\n2023-01-01  1   2   3   4\n2023-01-02  5   6   7   8\n2023-01-03  9  10  11  12",
      "text/html": "<div>\n<style scoped>\n    .dataframe tbody tr th:only-of-type {\n        vertical-align: middle;\n    }\n\n    .dataframe tbody tr th {\n        vertical-align: top;\n    }\n\n    .dataframe thead th {\n        text-align: right;\n    }\n</style>\n<table border=\"1\" class=\"dataframe\">\n  <thead>\n    <tr style=\"text-align: right;\">\n      <th></th>\n      <th>A</th>\n      <th>B</th>\n      <th>C</th>\n      <th>D</th>\n    </tr>\n  </thead>\n  <tbody>\n    <tr>\n      <th>2023-01-01</th>\n      <td>1</td>\n      <td>2</td>\n      <td>3</td>\n      <td>4</td>\n    </tr>\n    <tr>\n      <th>2023-01-02</th>\n      <td>5</td>\n      <td>6</td>\n      <td>7</td>\n      <td>8</td>\n    </tr>\n    <tr>\n      <th>2023-01-03</th>\n      <td>9</td>\n      <td>10</td>\n      <td>11</td>\n      <td>12</td>\n    </tr>\n  </tbody>\n</table>\n</div>"
     },
     "execution_count": 76,
     "metadata": {},
     "output_type": "execute_result"
    }
   ],
   "source": [
    "# Selecting via [] (__getitem__), which slices the rows:\n",
    "df[0:3]\n"
   ],
   "metadata": {
    "collapsed": false,
    "pycharm": {
     "name": "#%%\n"
    }
   }
  },
  {
   "cell_type": "code",
   "execution_count": 77,
   "outputs": [
    {
     "data": {
      "text/plain": "             A   B   C   D\n2023-01-01   1   2   3   4\n2023-01-02   5   6   7   8\n2023-01-03   9  10  11  12\n2023-01-04  13  14  15  16\n2023-01-05  17  18  19  20",
      "text/html": "<div>\n<style scoped>\n    .dataframe tbody tr th:only-of-type {\n        vertical-align: middle;\n    }\n\n    .dataframe tbody tr th {\n        vertical-align: top;\n    }\n\n    .dataframe thead th {\n        text-align: right;\n    }\n</style>\n<table border=\"1\" class=\"dataframe\">\n  <thead>\n    <tr style=\"text-align: right;\">\n      <th></th>\n      <th>A</th>\n      <th>B</th>\n      <th>C</th>\n      <th>D</th>\n    </tr>\n  </thead>\n  <tbody>\n    <tr>\n      <th>2023-01-01</th>\n      <td>1</td>\n      <td>2</td>\n      <td>3</td>\n      <td>4</td>\n    </tr>\n    <tr>\n      <th>2023-01-02</th>\n      <td>5</td>\n      <td>6</td>\n      <td>7</td>\n      <td>8</td>\n    </tr>\n    <tr>\n      <th>2023-01-03</th>\n      <td>9</td>\n      <td>10</td>\n      <td>11</td>\n      <td>12</td>\n    </tr>\n    <tr>\n      <th>2023-01-04</th>\n      <td>13</td>\n      <td>14</td>\n      <td>15</td>\n      <td>16</td>\n    </tr>\n    <tr>\n      <th>2023-01-05</th>\n      <td>17</td>\n      <td>18</td>\n      <td>19</td>\n      <td>20</td>\n    </tr>\n  </tbody>\n</table>\n</div>"
     },
     "execution_count": 77,
     "metadata": {},
     "output_type": "execute_result"
    }
   ],
   "source": [
    "df[\"20230101\": \"20230105\"]\n"
   ],
   "metadata": {
    "collapsed": false,
    "pycharm": {
     "name": "#%%\n"
    }
   }
  },
  {
   "cell_type": "markdown",
   "source": [
    "## Selection by label\n",
    "See more in Selection by Label using `DataFrame.loc()` or `DataFrame.at()`.\n"
   ],
   "metadata": {
    "collapsed": false,
    "pycharm": {
     "name": "#%% md\n"
    }
   }
  },
  {
   "cell_type": "code",
   "execution_count": 81,
   "outputs": [
    {
     "data": {
      "text/plain": "A    1\nB    2\nC    3\nD    4\nName: 2023-01-01 00:00:00, dtype: int32"
     },
     "execution_count": 81,
     "metadata": {},
     "output_type": "execute_result"
    }
   ],
   "source": [
    "# For getting a cross section using a label:\n",
    "# dates[0]\n",
    "# df.loc[\"20230101\"]\n",
    "df.loc[dates[0]]\n"
   ],
   "metadata": {
    "collapsed": false,
    "pycharm": {
     "name": "#%%\n"
    }
   }
  },
  {
   "cell_type": "code",
   "execution_count": 93,
   "outputs": [
    {
     "data": {
      "text/plain": "             C   D\n2023-01-04  15  16\n2023-01-05  19  20",
      "text/html": "<div>\n<style scoped>\n    .dataframe tbody tr th:only-of-type {\n        vertical-align: middle;\n    }\n\n    .dataframe tbody tr th {\n        vertical-align: top;\n    }\n\n    .dataframe thead th {\n        text-align: right;\n    }\n</style>\n<table border=\"1\" class=\"dataframe\">\n  <thead>\n    <tr style=\"text-align: right;\">\n      <th></th>\n      <th>C</th>\n      <th>D</th>\n    </tr>\n  </thead>\n  <tbody>\n    <tr>\n      <th>2023-01-04</th>\n      <td>15</td>\n      <td>16</td>\n    </tr>\n    <tr>\n      <th>2023-01-05</th>\n      <td>19</td>\n      <td>20</td>\n    </tr>\n  </tbody>\n</table>\n</div>"
     },
     "execution_count": 93,
     "metadata": {},
     "output_type": "execute_result"
    }
   ],
   "source": [
    "# Selecting on a multi-axis by label:\n",
    "# these are all valid examples of selection\n",
    "\n",
    "# df.loc[\"20230101\":\"20230105\", [\"A\", \"B\"]]\n",
    "# df.loc[\"20230101\":\"20230105\", list(\"AB\")]\n",
    "# df.loc[\"20230101\":\"20230105\", list(\"AC\")]\n",
    "# df.loc[dates[0:], list(\"CD\")]\n",
    "# df.loc[dates[0:len(dates)], list(\"CD\")]\n",
    "df.loc[dates[3:5], list(\"CD\")]"
   ],
   "metadata": {
    "collapsed": false,
    "pycharm": {
     "name": "#%%\n"
    }
   }
  },
  {
   "cell_type": "code",
   "execution_count": 95,
   "outputs": [
    {
     "data": {
      "text/plain": "             A   B\n2023-01-02   5   6\n2023-01-03   9  10\n2023-01-04  13  14",
      "text/html": "<div>\n<style scoped>\n    .dataframe tbody tr th:only-of-type {\n        vertical-align: middle;\n    }\n\n    .dataframe tbody tr th {\n        vertical-align: top;\n    }\n\n    .dataframe thead th {\n        text-align: right;\n    }\n</style>\n<table border=\"1\" class=\"dataframe\">\n  <thead>\n    <tr style=\"text-align: right;\">\n      <th></th>\n      <th>A</th>\n      <th>B</th>\n    </tr>\n  </thead>\n  <tbody>\n    <tr>\n      <th>2023-01-02</th>\n      <td>5</td>\n      <td>6</td>\n    </tr>\n    <tr>\n      <th>2023-01-03</th>\n      <td>9</td>\n      <td>10</td>\n    </tr>\n    <tr>\n      <th>2023-01-04</th>\n      <td>13</td>\n      <td>14</td>\n    </tr>\n  </tbody>\n</table>\n</div>"
     },
     "execution_count": 95,
     "metadata": {},
     "output_type": "execute_result"
    }
   ],
   "source": [
    "# Showing label slicing, both endpoints are included:\n",
    "df.loc[\"20230102\":\"20230104\", [\"A\", \"B\"]]\n"
   ],
   "metadata": {
    "collapsed": false,
    "pycharm": {
     "name": "#%%\n"
    }
   }
  },
  {
   "cell_type": "code",
   "execution_count": 96,
   "outputs": [
    {
     "data": {
      "text/plain": "A    5\nB    6\nName: 2023-01-02 00:00:00, dtype: int32"
     },
     "execution_count": 96,
     "metadata": {},
     "output_type": "execute_result"
    }
   ],
   "source": [
    "# Reduction in the dimensions of the returned object:\n",
    "df.loc[\"20230102\", [\"A\", \"B\"]]\n"
   ],
   "metadata": {
    "collapsed": false,
    "pycharm": {
     "name": "#%%\n"
    }
   }
  },
  {
   "cell_type": "code",
   "execution_count": 103,
   "outputs": [],
   "source": [
    "# KeyError when entry is not available\n",
    "# df.loc[\"20130102\", [\"A\", \"B\"]]\n"
   ],
   "metadata": {
    "collapsed": false,
    "pycharm": {
     "name": "#%%\n"
    }
   }
  },
  {
   "cell_type": "code",
   "execution_count": 109,
   "outputs": [
    {
     "data": {
      "text/plain": "pandas.core.series.Series"
     },
     "execution_count": 109,
     "metadata": {},
     "output_type": "execute_result"
    }
   ],
   "source": [
    "returned_val = df.loc[dates[0], list(\"D\")]\n",
    "type(returned_val)"
   ],
   "metadata": {
    "collapsed": false,
    "pycharm": {
     "name": "#%%\n"
    }
   }
  },
  {
   "cell_type": "code",
   "execution_count": 111,
   "outputs": [
    {
     "name": "stdout",
     "output_type": "stream",
     "text": [
      "4\n"
     ]
    },
    {
     "data": {
      "text/plain": "numpy.int32"
     },
     "execution_count": 111,
     "metadata": {},
     "output_type": "execute_result"
    }
   ],
   "source": [
    "# For getting a scalar value:\n",
    "returned_val2 = df.loc[dates[0], \"D\"]\n",
    "print(returned_val2)\n",
    "type(returned_val2)"
   ],
   "metadata": {
    "collapsed": false,
    "pycharm": {
     "name": "#%%\n"
    }
   }
  },
  {
   "cell_type": "code",
   "execution_count": 113,
   "outputs": [
    {
     "data": {
      "text/plain": "4"
     },
     "execution_count": 113,
     "metadata": {},
     "output_type": "execute_result"
    }
   ],
   "source": [
    "# For getting fast access to a scalar (equivalent to the prior method):\n",
    "df.at[dates[0], \"D\"]\n"
   ],
   "metadata": {
    "collapsed": false,
    "pycharm": {
     "name": "#%%\n"
    }
   }
  },
  {
   "cell_type": "markdown",
   "source": [
    "## Selection by position\n",
    "See more in Selection by Position using `DataFrame.iloc()` or `DataFrame.at()`.\n"
   ],
   "metadata": {
    "collapsed": false,
    "pycharm": {
     "name": "#%% md\n"
    }
   }
  },
  {
   "cell_type": "code",
   "execution_count": 119,
   "outputs": [
    {
     "data": {
      "text/plain": "A    1\nB    2\nC    3\nD    4\nName: 2023-01-01 00:00:00, dtype: int32"
     },
     "execution_count": 119,
     "metadata": {},
     "output_type": "execute_result"
    }
   ],
   "source": [
    "# Select via the position of the passed integers:\n",
    "df.iloc[0]"
   ],
   "metadata": {
    "collapsed": false,
    "pycharm": {
     "name": "#%%\n"
    }
   }
  },
  {
   "cell_type": "code",
   "execution_count": 124,
   "outputs": [
    {
     "data": {
      "text/plain": "              A    B    C    D\n2023-01-29  113  114  115  116\n2023-01-30  117  118  119  120",
      "text/html": "<div>\n<style scoped>\n    .dataframe tbody tr th:only-of-type {\n        vertical-align: middle;\n    }\n\n    .dataframe tbody tr th {\n        vertical-align: top;\n    }\n\n    .dataframe thead th {\n        text-align: right;\n    }\n</style>\n<table border=\"1\" class=\"dataframe\">\n  <thead>\n    <tr style=\"text-align: right;\">\n      <th></th>\n      <th>A</th>\n      <th>B</th>\n      <th>C</th>\n      <th>D</th>\n    </tr>\n  </thead>\n  <tbody>\n    <tr>\n      <th>2023-01-29</th>\n      <td>113</td>\n      <td>114</td>\n      <td>115</td>\n      <td>116</td>\n    </tr>\n    <tr>\n      <th>2023-01-30</th>\n      <td>117</td>\n      <td>118</td>\n      <td>119</td>\n      <td>120</td>\n    </tr>\n  </tbody>\n</table>\n</div>"
     },
     "execution_count": 124,
     "metadata": {},
     "output_type": "execute_result"
    }
   ],
   "source": [
    "# By integer slices, acting similar to NumPy/Python:\n",
    "\n",
    "# df.iloc[0:5, 0:]\n",
    "# df.iloc[0:5, 0:2]\n",
    "# df.iloc[28:, :]\n",
    "df.iloc[28:, :]"
   ],
   "metadata": {
    "collapsed": false,
    "pycharm": {
     "name": "#%%\n"
    }
   }
  },
  {
   "cell_type": "code",
   "execution_count": 125,
   "outputs": [
    {
     "data": {
      "text/plain": "             A   D\n2023-01-02   5   8\n2023-01-07  25  28",
      "text/html": "<div>\n<style scoped>\n    .dataframe tbody tr th:only-of-type {\n        vertical-align: middle;\n    }\n\n    .dataframe tbody tr th {\n        vertical-align: top;\n    }\n\n    .dataframe thead th {\n        text-align: right;\n    }\n</style>\n<table border=\"1\" class=\"dataframe\">\n  <thead>\n    <tr style=\"text-align: right;\">\n      <th></th>\n      <th>A</th>\n      <th>D</th>\n    </tr>\n  </thead>\n  <tbody>\n    <tr>\n      <th>2023-01-02</th>\n      <td>5</td>\n      <td>8</td>\n    </tr>\n    <tr>\n      <th>2023-01-07</th>\n      <td>25</td>\n      <td>28</td>\n    </tr>\n  </tbody>\n</table>\n</div>"
     },
     "execution_count": 125,
     "metadata": {},
     "output_type": "execute_result"
    }
   ],
   "source": [
    "# By lists of integer position locations, similar to the NumPy/Python style:\n",
    "df.iloc[[1,6], [0,3]]\n"
   ],
   "metadata": {
    "collapsed": false,
    "pycharm": {
     "name": "#%%\n"
    }
   }
  },
  {
   "cell_type": "code",
   "execution_count": 130,
   "outputs": [
    {
     "data": {
      "text/plain": "            A   B   C   D\n2023-01-02  5   6   7   8\n2023-01-03  9  10  11  12",
      "text/html": "<div>\n<style scoped>\n    .dataframe tbody tr th:only-of-type {\n        vertical-align: middle;\n    }\n\n    .dataframe tbody tr th {\n        vertical-align: top;\n    }\n\n    .dataframe thead th {\n        text-align: right;\n    }\n</style>\n<table border=\"1\" class=\"dataframe\">\n  <thead>\n    <tr style=\"text-align: right;\">\n      <th></th>\n      <th>A</th>\n      <th>B</th>\n      <th>C</th>\n      <th>D</th>\n    </tr>\n  </thead>\n  <tbody>\n    <tr>\n      <th>2023-01-02</th>\n      <td>5</td>\n      <td>6</td>\n      <td>7</td>\n      <td>8</td>\n    </tr>\n    <tr>\n      <th>2023-01-03</th>\n      <td>9</td>\n      <td>10</td>\n      <td>11</td>\n      <td>12</td>\n    </tr>\n  </tbody>\n</table>\n</div>"
     },
     "execution_count": 130,
     "metadata": {},
     "output_type": "execute_result"
    }
   ],
   "source": [
    "# For slicing rows explicitly:\n",
    "#  e.g. defining the rows explicitly to slice from the range\n",
    "df.iloc[1:3, :]"
   ],
   "metadata": {
    "collapsed": false,
    "pycharm": {
     "name": "#%%\n"
    }
   }
  },
  {
   "cell_type": "code",
   "execution_count": 138,
   "outputs": [
    {
     "data": {
      "text/plain": "              B    C\n2023-01-01    2    3\n2023-01-02    6    7\n2023-01-03   10   11\n2023-01-04   14   15\n2023-01-05   18   19\n2023-01-06   22   23\n2023-01-07   26   27\n2023-01-08   30   31\n2023-01-09   34   35\n2023-01-10   38   39\n2023-01-11   42   43\n2023-01-12   46   47\n2023-01-13   50   51\n2023-01-14   54   55\n2023-01-15   58   59\n2023-01-16   62   63\n2023-01-17   66   67\n2023-01-18   70   71\n2023-01-19   74   75\n2023-01-20   78   79\n2023-01-21   82   83\n2023-01-22   86   87\n2023-01-23   90   91\n2023-01-24   94   95\n2023-01-25   98   99\n2023-01-26  102  103\n2023-01-27  106  107\n2023-01-28  110  111\n2023-01-29  114  115\n2023-01-30  118  119",
      "text/html": "<div>\n<style scoped>\n    .dataframe tbody tr th:only-of-type {\n        vertical-align: middle;\n    }\n\n    .dataframe tbody tr th {\n        vertical-align: top;\n    }\n\n    .dataframe thead th {\n        text-align: right;\n    }\n</style>\n<table border=\"1\" class=\"dataframe\">\n  <thead>\n    <tr style=\"text-align: right;\">\n      <th></th>\n      <th>B</th>\n      <th>C</th>\n    </tr>\n  </thead>\n  <tbody>\n    <tr>\n      <th>2023-01-01</th>\n      <td>2</td>\n      <td>3</td>\n    </tr>\n    <tr>\n      <th>2023-01-02</th>\n      <td>6</td>\n      <td>7</td>\n    </tr>\n    <tr>\n      <th>2023-01-03</th>\n      <td>10</td>\n      <td>11</td>\n    </tr>\n    <tr>\n      <th>2023-01-04</th>\n      <td>14</td>\n      <td>15</td>\n    </tr>\n    <tr>\n      <th>2023-01-05</th>\n      <td>18</td>\n      <td>19</td>\n    </tr>\n    <tr>\n      <th>2023-01-06</th>\n      <td>22</td>\n      <td>23</td>\n    </tr>\n    <tr>\n      <th>2023-01-07</th>\n      <td>26</td>\n      <td>27</td>\n    </tr>\n    <tr>\n      <th>2023-01-08</th>\n      <td>30</td>\n      <td>31</td>\n    </tr>\n    <tr>\n      <th>2023-01-09</th>\n      <td>34</td>\n      <td>35</td>\n    </tr>\n    <tr>\n      <th>2023-01-10</th>\n      <td>38</td>\n      <td>39</td>\n    </tr>\n    <tr>\n      <th>2023-01-11</th>\n      <td>42</td>\n      <td>43</td>\n    </tr>\n    <tr>\n      <th>2023-01-12</th>\n      <td>46</td>\n      <td>47</td>\n    </tr>\n    <tr>\n      <th>2023-01-13</th>\n      <td>50</td>\n      <td>51</td>\n    </tr>\n    <tr>\n      <th>2023-01-14</th>\n      <td>54</td>\n      <td>55</td>\n    </tr>\n    <tr>\n      <th>2023-01-15</th>\n      <td>58</td>\n      <td>59</td>\n    </tr>\n    <tr>\n      <th>2023-01-16</th>\n      <td>62</td>\n      <td>63</td>\n    </tr>\n    <tr>\n      <th>2023-01-17</th>\n      <td>66</td>\n      <td>67</td>\n    </tr>\n    <tr>\n      <th>2023-01-18</th>\n      <td>70</td>\n      <td>71</td>\n    </tr>\n    <tr>\n      <th>2023-01-19</th>\n      <td>74</td>\n      <td>75</td>\n    </tr>\n    <tr>\n      <th>2023-01-20</th>\n      <td>78</td>\n      <td>79</td>\n    </tr>\n    <tr>\n      <th>2023-01-21</th>\n      <td>82</td>\n      <td>83</td>\n    </tr>\n    <tr>\n      <th>2023-01-22</th>\n      <td>86</td>\n      <td>87</td>\n    </tr>\n    <tr>\n      <th>2023-01-23</th>\n      <td>90</td>\n      <td>91</td>\n    </tr>\n    <tr>\n      <th>2023-01-24</th>\n      <td>94</td>\n      <td>95</td>\n    </tr>\n    <tr>\n      <th>2023-01-25</th>\n      <td>98</td>\n      <td>99</td>\n    </tr>\n    <tr>\n      <th>2023-01-26</th>\n      <td>102</td>\n      <td>103</td>\n    </tr>\n    <tr>\n      <th>2023-01-27</th>\n      <td>106</td>\n      <td>107</td>\n    </tr>\n    <tr>\n      <th>2023-01-28</th>\n      <td>110</td>\n      <td>111</td>\n    </tr>\n    <tr>\n      <th>2023-01-29</th>\n      <td>114</td>\n      <td>115</td>\n    </tr>\n    <tr>\n      <th>2023-01-30</th>\n      <td>118</td>\n      <td>119</td>\n    </tr>\n  </tbody>\n</table>\n</div>"
     },
     "execution_count": 138,
     "metadata": {},
     "output_type": "execute_result"
    }
   ],
   "source": [
    "# For slicing columns explicitly\n",
    "df.iloc[:, 1:3]\n"
   ],
   "metadata": {
    "collapsed": false,
    "pycharm": {
     "name": "#%%\n"
    }
   }
  },
  {
   "cell_type": "code",
   "execution_count": 139,
   "outputs": [
    {
     "data": {
      "text/plain": "             B   C\n2023-01-02   6   7\n2023-01-03  10  11",
      "text/html": "<div>\n<style scoped>\n    .dataframe tbody tr th:only-of-type {\n        vertical-align: middle;\n    }\n\n    .dataframe tbody tr th {\n        vertical-align: top;\n    }\n\n    .dataframe thead th {\n        text-align: right;\n    }\n</style>\n<table border=\"1\" class=\"dataframe\">\n  <thead>\n    <tr style=\"text-align: right;\">\n      <th></th>\n      <th>B</th>\n      <th>C</th>\n    </tr>\n  </thead>\n  <tbody>\n    <tr>\n      <th>2023-01-02</th>\n      <td>6</td>\n      <td>7</td>\n    </tr>\n    <tr>\n      <th>2023-01-03</th>\n      <td>10</td>\n      <td>11</td>\n    </tr>\n  </tbody>\n</table>\n</div>"
     },
     "execution_count": 139,
     "metadata": {},
     "output_type": "execute_result"
    }
   ],
   "source": [
    "# For slicing rows and columns explicitly\n",
    "df.iloc[1:3, 1:3]\n"
   ],
   "metadata": {
    "collapsed": false,
    "pycharm": {
     "name": "#%%\n"
    }
   }
  },
  {
   "cell_type": "code",
   "execution_count": 143,
   "outputs": [
    {
     "data": {
      "text/plain": "15"
     },
     "execution_count": 143,
     "metadata": {},
     "output_type": "execute_result"
    }
   ],
   "source": [
    "# For getting a value explicitly:\n",
    "df.iloc[3,2]"
   ],
   "metadata": {
    "collapsed": false,
    "pycharm": {
     "name": "#%%\n"
    }
   }
  },
  {
   "cell_type": "code",
   "execution_count": 146,
   "outputs": [
    {
     "data": {
      "text/plain": "15"
     },
     "execution_count": 146,
     "metadata": {},
     "output_type": "execute_result"
    }
   ],
   "source": [
    "# For getting fast access to a scalar (equivalent to the prior method):\n",
    "df.iat[3,2]"
   ],
   "metadata": {
    "collapsed": false,
    "pycharm": {
     "name": "#%%\n"
    }
   }
  },
  {
   "cell_type": "markdown",
   "source": [
    "## Boolean indexing\n"
   ],
   "metadata": {
    "collapsed": false,
    "pycharm": {
     "name": "#%% md\n"
    }
   }
  },
  {
   "cell_type": "code",
   "execution_count": 157,
   "outputs": [
    {
     "data": {
      "text/plain": "              A    B    C    D\n2023-01-04   13   14   15   16\n2023-01-05   17   18   19   20\n2023-01-06   21   22   23   24\n2023-01-07   25   26   27   28\n2023-01-08   29   30   31   32\n2023-01-09   33   34   35   36\n2023-01-10   37   38   39   40\n2023-01-11   41   42   43   44\n2023-01-12   45   46   47   48\n2023-01-13   49   50   51   52\n2023-01-14   53   54   55   56\n2023-01-15   57   58   59   60\n2023-01-16   61   62   63   64\n2023-01-17   65   66   67   68\n2023-01-18   69   70   71   72\n2023-01-19   73   74   75   76\n2023-01-20   77   78   79   80\n2023-01-21   81   82   83   84\n2023-01-22   85   86   87   88\n2023-01-23   89   90   91   92\n2023-01-24   93   94   95   96\n2023-01-25   97   98   99  100\n2023-01-26  101  102  103  104\n2023-01-27  105  106  107  108\n2023-01-28  109  110  111  112\n2023-01-29  113  114  115  116\n2023-01-30  117  118  119  120",
      "text/html": "<div>\n<style scoped>\n    .dataframe tbody tr th:only-of-type {\n        vertical-align: middle;\n    }\n\n    .dataframe tbody tr th {\n        vertical-align: top;\n    }\n\n    .dataframe thead th {\n        text-align: right;\n    }\n</style>\n<table border=\"1\" class=\"dataframe\">\n  <thead>\n    <tr style=\"text-align: right;\">\n      <th></th>\n      <th>A</th>\n      <th>B</th>\n      <th>C</th>\n      <th>D</th>\n    </tr>\n  </thead>\n  <tbody>\n    <tr>\n      <th>2023-01-04</th>\n      <td>13</td>\n      <td>14</td>\n      <td>15</td>\n      <td>16</td>\n    </tr>\n    <tr>\n      <th>2023-01-05</th>\n      <td>17</td>\n      <td>18</td>\n      <td>19</td>\n      <td>20</td>\n    </tr>\n    <tr>\n      <th>2023-01-06</th>\n      <td>21</td>\n      <td>22</td>\n      <td>23</td>\n      <td>24</td>\n    </tr>\n    <tr>\n      <th>2023-01-07</th>\n      <td>25</td>\n      <td>26</td>\n      <td>27</td>\n      <td>28</td>\n    </tr>\n    <tr>\n      <th>2023-01-08</th>\n      <td>29</td>\n      <td>30</td>\n      <td>31</td>\n      <td>32</td>\n    </tr>\n    <tr>\n      <th>2023-01-09</th>\n      <td>33</td>\n      <td>34</td>\n      <td>35</td>\n      <td>36</td>\n    </tr>\n    <tr>\n      <th>2023-01-10</th>\n      <td>37</td>\n      <td>38</td>\n      <td>39</td>\n      <td>40</td>\n    </tr>\n    <tr>\n      <th>2023-01-11</th>\n      <td>41</td>\n      <td>42</td>\n      <td>43</td>\n      <td>44</td>\n    </tr>\n    <tr>\n      <th>2023-01-12</th>\n      <td>45</td>\n      <td>46</td>\n      <td>47</td>\n      <td>48</td>\n    </tr>\n    <tr>\n      <th>2023-01-13</th>\n      <td>49</td>\n      <td>50</td>\n      <td>51</td>\n      <td>52</td>\n    </tr>\n    <tr>\n      <th>2023-01-14</th>\n      <td>53</td>\n      <td>54</td>\n      <td>55</td>\n      <td>56</td>\n    </tr>\n    <tr>\n      <th>2023-01-15</th>\n      <td>57</td>\n      <td>58</td>\n      <td>59</td>\n      <td>60</td>\n    </tr>\n    <tr>\n      <th>2023-01-16</th>\n      <td>61</td>\n      <td>62</td>\n      <td>63</td>\n      <td>64</td>\n    </tr>\n    <tr>\n      <th>2023-01-17</th>\n      <td>65</td>\n      <td>66</td>\n      <td>67</td>\n      <td>68</td>\n    </tr>\n    <tr>\n      <th>2023-01-18</th>\n      <td>69</td>\n      <td>70</td>\n      <td>71</td>\n      <td>72</td>\n    </tr>\n    <tr>\n      <th>2023-01-19</th>\n      <td>73</td>\n      <td>74</td>\n      <td>75</td>\n      <td>76</td>\n    </tr>\n    <tr>\n      <th>2023-01-20</th>\n      <td>77</td>\n      <td>78</td>\n      <td>79</td>\n      <td>80</td>\n    </tr>\n    <tr>\n      <th>2023-01-21</th>\n      <td>81</td>\n      <td>82</td>\n      <td>83</td>\n      <td>84</td>\n    </tr>\n    <tr>\n      <th>2023-01-22</th>\n      <td>85</td>\n      <td>86</td>\n      <td>87</td>\n      <td>88</td>\n    </tr>\n    <tr>\n      <th>2023-01-23</th>\n      <td>89</td>\n      <td>90</td>\n      <td>91</td>\n      <td>92</td>\n    </tr>\n    <tr>\n      <th>2023-01-24</th>\n      <td>93</td>\n      <td>94</td>\n      <td>95</td>\n      <td>96</td>\n    </tr>\n    <tr>\n      <th>2023-01-25</th>\n      <td>97</td>\n      <td>98</td>\n      <td>99</td>\n      <td>100</td>\n    </tr>\n    <tr>\n      <th>2023-01-26</th>\n      <td>101</td>\n      <td>102</td>\n      <td>103</td>\n      <td>104</td>\n    </tr>\n    <tr>\n      <th>2023-01-27</th>\n      <td>105</td>\n      <td>106</td>\n      <td>107</td>\n      <td>108</td>\n    </tr>\n    <tr>\n      <th>2023-01-28</th>\n      <td>109</td>\n      <td>110</td>\n      <td>111</td>\n      <td>112</td>\n    </tr>\n    <tr>\n      <th>2023-01-29</th>\n      <td>113</td>\n      <td>114</td>\n      <td>115</td>\n      <td>116</td>\n    </tr>\n    <tr>\n      <th>2023-01-30</th>\n      <td>117</td>\n      <td>118</td>\n      <td>119</td>\n      <td>120</td>\n    </tr>\n  </tbody>\n</table>\n</div>"
     },
     "execution_count": 157,
     "metadata": {},
     "output_type": "execute_result"
    }
   ],
   "source": [
    "# Using a single column’s values to select data:\n",
    "# df[df[\"A\"]>10 & df[\"A\"] < 20] - Not working, need to check how to use multiple conditions?\n",
    "df[df[\"A\"]>10]\n",
    "# df[df[\"A\"]>10].sort_values(by=\"D\", ascending=True)"
   ],
   "metadata": {
    "collapsed": false,
    "pycharm": {
     "name": "#%%\n"
    }
   }
  },
  {
   "cell_type": "code",
   "execution_count": 158,
   "outputs": [
    {
     "data": {
      "text/plain": "                A      B      C      D\n2023-01-01    NaN    NaN    NaN    NaN\n2023-01-02    NaN    NaN    NaN    NaN\n2023-01-03    NaN    NaN   11.0   12.0\n2023-01-04   13.0   14.0   15.0   16.0\n2023-01-05   17.0   18.0   19.0   20.0\n2023-01-06   21.0   22.0   23.0   24.0\n2023-01-07   25.0   26.0   27.0   28.0\n2023-01-08   29.0   30.0   31.0   32.0\n2023-01-09   33.0   34.0   35.0   36.0\n2023-01-10   37.0   38.0   39.0   40.0\n2023-01-11   41.0   42.0   43.0   44.0\n2023-01-12   45.0   46.0   47.0   48.0\n2023-01-13   49.0   50.0   51.0   52.0\n2023-01-14   53.0   54.0   55.0   56.0\n2023-01-15   57.0   58.0   59.0   60.0\n2023-01-16   61.0   62.0   63.0   64.0\n2023-01-17   65.0   66.0   67.0   68.0\n2023-01-18   69.0   70.0   71.0   72.0\n2023-01-19   73.0   74.0   75.0   76.0\n2023-01-20   77.0   78.0   79.0   80.0\n2023-01-21   81.0   82.0   83.0   84.0\n2023-01-22   85.0   86.0   87.0   88.0\n2023-01-23   89.0   90.0   91.0   92.0\n2023-01-24   93.0   94.0   95.0   96.0\n2023-01-25   97.0   98.0   99.0  100.0\n2023-01-26  101.0  102.0  103.0  104.0\n2023-01-27  105.0  106.0  107.0  108.0\n2023-01-28  109.0  110.0  111.0  112.0\n2023-01-29  113.0  114.0  115.0  116.0\n2023-01-30  117.0  118.0  119.0  120.0",
      "text/html": "<div>\n<style scoped>\n    .dataframe tbody tr th:only-of-type {\n        vertical-align: middle;\n    }\n\n    .dataframe tbody tr th {\n        vertical-align: top;\n    }\n\n    .dataframe thead th {\n        text-align: right;\n    }\n</style>\n<table border=\"1\" class=\"dataframe\">\n  <thead>\n    <tr style=\"text-align: right;\">\n      <th></th>\n      <th>A</th>\n      <th>B</th>\n      <th>C</th>\n      <th>D</th>\n    </tr>\n  </thead>\n  <tbody>\n    <tr>\n      <th>2023-01-01</th>\n      <td>NaN</td>\n      <td>NaN</td>\n      <td>NaN</td>\n      <td>NaN</td>\n    </tr>\n    <tr>\n      <th>2023-01-02</th>\n      <td>NaN</td>\n      <td>NaN</td>\n      <td>NaN</td>\n      <td>NaN</td>\n    </tr>\n    <tr>\n      <th>2023-01-03</th>\n      <td>NaN</td>\n      <td>NaN</td>\n      <td>11.0</td>\n      <td>12.0</td>\n    </tr>\n    <tr>\n      <th>2023-01-04</th>\n      <td>13.0</td>\n      <td>14.0</td>\n      <td>15.0</td>\n      <td>16.0</td>\n    </tr>\n    <tr>\n      <th>2023-01-05</th>\n      <td>17.0</td>\n      <td>18.0</td>\n      <td>19.0</td>\n      <td>20.0</td>\n    </tr>\n    <tr>\n      <th>2023-01-06</th>\n      <td>21.0</td>\n      <td>22.0</td>\n      <td>23.0</td>\n      <td>24.0</td>\n    </tr>\n    <tr>\n      <th>2023-01-07</th>\n      <td>25.0</td>\n      <td>26.0</td>\n      <td>27.0</td>\n      <td>28.0</td>\n    </tr>\n    <tr>\n      <th>2023-01-08</th>\n      <td>29.0</td>\n      <td>30.0</td>\n      <td>31.0</td>\n      <td>32.0</td>\n    </tr>\n    <tr>\n      <th>2023-01-09</th>\n      <td>33.0</td>\n      <td>34.0</td>\n      <td>35.0</td>\n      <td>36.0</td>\n    </tr>\n    <tr>\n      <th>2023-01-10</th>\n      <td>37.0</td>\n      <td>38.0</td>\n      <td>39.0</td>\n      <td>40.0</td>\n    </tr>\n    <tr>\n      <th>2023-01-11</th>\n      <td>41.0</td>\n      <td>42.0</td>\n      <td>43.0</td>\n      <td>44.0</td>\n    </tr>\n    <tr>\n      <th>2023-01-12</th>\n      <td>45.0</td>\n      <td>46.0</td>\n      <td>47.0</td>\n      <td>48.0</td>\n    </tr>\n    <tr>\n      <th>2023-01-13</th>\n      <td>49.0</td>\n      <td>50.0</td>\n      <td>51.0</td>\n      <td>52.0</td>\n    </tr>\n    <tr>\n      <th>2023-01-14</th>\n      <td>53.0</td>\n      <td>54.0</td>\n      <td>55.0</td>\n      <td>56.0</td>\n    </tr>\n    <tr>\n      <th>2023-01-15</th>\n      <td>57.0</td>\n      <td>58.0</td>\n      <td>59.0</td>\n      <td>60.0</td>\n    </tr>\n    <tr>\n      <th>2023-01-16</th>\n      <td>61.0</td>\n      <td>62.0</td>\n      <td>63.0</td>\n      <td>64.0</td>\n    </tr>\n    <tr>\n      <th>2023-01-17</th>\n      <td>65.0</td>\n      <td>66.0</td>\n      <td>67.0</td>\n      <td>68.0</td>\n    </tr>\n    <tr>\n      <th>2023-01-18</th>\n      <td>69.0</td>\n      <td>70.0</td>\n      <td>71.0</td>\n      <td>72.0</td>\n    </tr>\n    <tr>\n      <th>2023-01-19</th>\n      <td>73.0</td>\n      <td>74.0</td>\n      <td>75.0</td>\n      <td>76.0</td>\n    </tr>\n    <tr>\n      <th>2023-01-20</th>\n      <td>77.0</td>\n      <td>78.0</td>\n      <td>79.0</td>\n      <td>80.0</td>\n    </tr>\n    <tr>\n      <th>2023-01-21</th>\n      <td>81.0</td>\n      <td>82.0</td>\n      <td>83.0</td>\n      <td>84.0</td>\n    </tr>\n    <tr>\n      <th>2023-01-22</th>\n      <td>85.0</td>\n      <td>86.0</td>\n      <td>87.0</td>\n      <td>88.0</td>\n    </tr>\n    <tr>\n      <th>2023-01-23</th>\n      <td>89.0</td>\n      <td>90.0</td>\n      <td>91.0</td>\n      <td>92.0</td>\n    </tr>\n    <tr>\n      <th>2023-01-24</th>\n      <td>93.0</td>\n      <td>94.0</td>\n      <td>95.0</td>\n      <td>96.0</td>\n    </tr>\n    <tr>\n      <th>2023-01-25</th>\n      <td>97.0</td>\n      <td>98.0</td>\n      <td>99.0</td>\n      <td>100.0</td>\n    </tr>\n    <tr>\n      <th>2023-01-26</th>\n      <td>101.0</td>\n      <td>102.0</td>\n      <td>103.0</td>\n      <td>104.0</td>\n    </tr>\n    <tr>\n      <th>2023-01-27</th>\n      <td>105.0</td>\n      <td>106.0</td>\n      <td>107.0</td>\n      <td>108.0</td>\n    </tr>\n    <tr>\n      <th>2023-01-28</th>\n      <td>109.0</td>\n      <td>110.0</td>\n      <td>111.0</td>\n      <td>112.0</td>\n    </tr>\n    <tr>\n      <th>2023-01-29</th>\n      <td>113.0</td>\n      <td>114.0</td>\n      <td>115.0</td>\n      <td>116.0</td>\n    </tr>\n    <tr>\n      <th>2023-01-30</th>\n      <td>117.0</td>\n      <td>118.0</td>\n      <td>119.0</td>\n      <td>120.0</td>\n    </tr>\n  </tbody>\n</table>\n</div>"
     },
     "execution_count": 158,
     "metadata": {},
     "output_type": "execute_result"
    }
   ],
   "source": [
    "# Selecting values from a DataFrame where a boolean condition is met:\n",
    "df[df > 10]\n"
   ],
   "metadata": {
    "collapsed": false,
    "pycharm": {
     "name": "#%%\n"
    }
   }
  },
  {
   "cell_type": "code",
   "execution_count": 170,
   "outputs": [
    {
     "data": {
      "text/plain": "              A    B    C    D     E\n2023-01-02    5    6    7    8   two\n2023-01-04   13   14   15   16  four\n2023-01-07   25   26   27   28   two\n2023-01-09   33   34   35   36  four\n2023-01-12   45   46   47   48   two\n2023-01-14   53   54   55   56  four\n2023-01-17   65   66   67   68   two\n2023-01-19   73   74   75   76  four\n2023-01-22   85   86   87   88   two\n2023-01-24   93   94   95   96  four\n2023-01-27  105  106  107  108   two\n2023-01-29  113  114  115  116  four",
      "text/html": "<div>\n<style scoped>\n    .dataframe tbody tr th:only-of-type {\n        vertical-align: middle;\n    }\n\n    .dataframe tbody tr th {\n        vertical-align: top;\n    }\n\n    .dataframe thead th {\n        text-align: right;\n    }\n</style>\n<table border=\"1\" class=\"dataframe\">\n  <thead>\n    <tr style=\"text-align: right;\">\n      <th></th>\n      <th>A</th>\n      <th>B</th>\n      <th>C</th>\n      <th>D</th>\n      <th>E</th>\n    </tr>\n  </thead>\n  <tbody>\n    <tr>\n      <th>2023-01-02</th>\n      <td>5</td>\n      <td>6</td>\n      <td>7</td>\n      <td>8</td>\n      <td>two</td>\n    </tr>\n    <tr>\n      <th>2023-01-04</th>\n      <td>13</td>\n      <td>14</td>\n      <td>15</td>\n      <td>16</td>\n      <td>four</td>\n    </tr>\n    <tr>\n      <th>2023-01-07</th>\n      <td>25</td>\n      <td>26</td>\n      <td>27</td>\n      <td>28</td>\n      <td>two</td>\n    </tr>\n    <tr>\n      <th>2023-01-09</th>\n      <td>33</td>\n      <td>34</td>\n      <td>35</td>\n      <td>36</td>\n      <td>four</td>\n    </tr>\n    <tr>\n      <th>2023-01-12</th>\n      <td>45</td>\n      <td>46</td>\n      <td>47</td>\n      <td>48</td>\n      <td>two</td>\n    </tr>\n    <tr>\n      <th>2023-01-14</th>\n      <td>53</td>\n      <td>54</td>\n      <td>55</td>\n      <td>56</td>\n      <td>four</td>\n    </tr>\n    <tr>\n      <th>2023-01-17</th>\n      <td>65</td>\n      <td>66</td>\n      <td>67</td>\n      <td>68</td>\n      <td>two</td>\n    </tr>\n    <tr>\n      <th>2023-01-19</th>\n      <td>73</td>\n      <td>74</td>\n      <td>75</td>\n      <td>76</td>\n      <td>four</td>\n    </tr>\n    <tr>\n      <th>2023-01-22</th>\n      <td>85</td>\n      <td>86</td>\n      <td>87</td>\n      <td>88</td>\n      <td>two</td>\n    </tr>\n    <tr>\n      <th>2023-01-24</th>\n      <td>93</td>\n      <td>94</td>\n      <td>95</td>\n      <td>96</td>\n      <td>four</td>\n    </tr>\n    <tr>\n      <th>2023-01-27</th>\n      <td>105</td>\n      <td>106</td>\n      <td>107</td>\n      <td>108</td>\n      <td>two</td>\n    </tr>\n    <tr>\n      <th>2023-01-29</th>\n      <td>113</td>\n      <td>114</td>\n      <td>115</td>\n      <td>116</td>\n      <td>four</td>\n    </tr>\n  </tbody>\n</table>\n</div>"
     },
     "execution_count": 170,
     "metadata": {},
     "output_type": "execute_result"
    }
   ],
   "source": [
    "# Using the isin() method for filtering:\n",
    "\n",
    "# copy the data frame into new variable\n",
    "df3 = df.copy()\n",
    "# creating_list\n",
    "l = [\"one\", \"two\", \"three\", \"four\", \"five\"] * 6\n",
    "\n",
    "# creating a new column\n",
    "df3[\"E\"] = l\n",
    "\n",
    "# df3[df3[\"E\"].isin([\"two\"])]\n",
    "df3[df3[\"E\"].isin([\"two\", \"four\"])]"
   ],
   "metadata": {
    "collapsed": false,
    "pycharm": {
     "name": "#%%\n"
    }
   }
  },
  {
   "cell_type": "code",
   "execution_count": 171,
   "outputs": [
    {
     "data": {
      "text/plain": "2023-01-01    False\n2023-01-02     True\n2023-01-03    False\n2023-01-04     True\n2023-01-05    False\n2023-01-06    False\n2023-01-07     True\n2023-01-08    False\n2023-01-09     True\n2023-01-10    False\n2023-01-11    False\n2023-01-12     True\n2023-01-13    False\n2023-01-14     True\n2023-01-15    False\n2023-01-16    False\n2023-01-17     True\n2023-01-18    False\n2023-01-19     True\n2023-01-20    False\n2023-01-21    False\n2023-01-22     True\n2023-01-23    False\n2023-01-24     True\n2023-01-25    False\n2023-01-26    False\n2023-01-27     True\n2023-01-28    False\n2023-01-29     True\n2023-01-30    False\nFreq: D, Name: E, dtype: bool"
     },
     "execution_count": 171,
     "metadata": {},
     "output_type": "execute_result"
    }
   ],
   "source": [
    "df3[\"E\"].isin([\"two\", \"four\"])\n"
   ],
   "metadata": {
    "collapsed": false,
    "pycharm": {
     "name": "#%%\n"
    }
   }
  },
  {
   "cell_type": "markdown",
   "source": [
    "# Setting Data\n"
   ],
   "metadata": {
    "collapsed": false,
    "pycharm": {
     "name": "#%% md\n"
    }
   }
  },
  {
   "cell_type": "code",
   "execution_count": 175,
   "outputs": [
    {
     "data": {
      "text/plain": "2013-01-02    1\n2013-01-03    2\n2013-01-04    3\n2013-01-05    4\n2013-01-06    5\n2013-01-07    6\nFreq: D, dtype: int64"
     },
     "execution_count": 175,
     "metadata": {},
     "output_type": "execute_result"
    }
   ],
   "source": [
    "# Setting a new column automatically aligns the data by the indexes:\n",
    "s1 = pd.Series([1, 2, 3, 4, 5, 6], index=pd.date_range(\"20130102\", periods=6))\n",
    "s1"
   ],
   "metadata": {
    "collapsed": false,
    "pycharm": {
     "name": "#%%\n"
    }
   }
  },
  {
   "cell_type": "code",
   "execution_count": 179,
   "outputs": [
    {
     "data": {
      "text/plain": "              A    B    C    D\n2023-01-01    1    2    3    4\n2023-01-02    5    6    7    8\n2023-01-03    9   10   11   12\n2023-01-04   13   14   15   16\n2023-01-05   17   18   19   20\n2023-01-06   21   22   23   24\n2023-01-07   25   26   27   28\n2023-01-08   29   30   31   32\n2023-01-09   33   34   35   36\n2023-01-10   37   38   39   40\n2023-01-11   41   42   43   44\n2023-01-12   45   46   47   48\n2023-01-13   49   50   51   52\n2023-01-14   53   54   55   56\n2023-01-15   57   58   59   60\n2023-01-16   61   62   63   64\n2023-01-17   65   66   67   68\n2023-01-18   69   70   71   72\n2023-01-19   73   74   75   76\n2023-01-20   77   78   79   80\n2023-01-21   81   82   83   84\n2023-01-22   85   86   87   88\n2023-01-23   89   90   91   92\n2023-01-24   93   94   95   96\n2023-01-25   97   98   99  100\n2023-01-26  101  102  103  104\n2023-01-27  105  106  107  108\n2023-01-28  109  110  111  112\n2023-01-29  113  114  115  116\n2023-01-30  117  118  119  120",
      "text/html": "<div>\n<style scoped>\n    .dataframe tbody tr th:only-of-type {\n        vertical-align: middle;\n    }\n\n    .dataframe tbody tr th {\n        vertical-align: top;\n    }\n\n    .dataframe thead th {\n        text-align: right;\n    }\n</style>\n<table border=\"1\" class=\"dataframe\">\n  <thead>\n    <tr style=\"text-align: right;\">\n      <th></th>\n      <th>A</th>\n      <th>B</th>\n      <th>C</th>\n      <th>D</th>\n    </tr>\n  </thead>\n  <tbody>\n    <tr>\n      <th>2023-01-01</th>\n      <td>1</td>\n      <td>2</td>\n      <td>3</td>\n      <td>4</td>\n    </tr>\n    <tr>\n      <th>2023-01-02</th>\n      <td>5</td>\n      <td>6</td>\n      <td>7</td>\n      <td>8</td>\n    </tr>\n    <tr>\n      <th>2023-01-03</th>\n      <td>9</td>\n      <td>10</td>\n      <td>11</td>\n      <td>12</td>\n    </tr>\n    <tr>\n      <th>2023-01-04</th>\n      <td>13</td>\n      <td>14</td>\n      <td>15</td>\n      <td>16</td>\n    </tr>\n    <tr>\n      <th>2023-01-05</th>\n      <td>17</td>\n      <td>18</td>\n      <td>19</td>\n      <td>20</td>\n    </tr>\n    <tr>\n      <th>2023-01-06</th>\n      <td>21</td>\n      <td>22</td>\n      <td>23</td>\n      <td>24</td>\n    </tr>\n    <tr>\n      <th>2023-01-07</th>\n      <td>25</td>\n      <td>26</td>\n      <td>27</td>\n      <td>28</td>\n    </tr>\n    <tr>\n      <th>2023-01-08</th>\n      <td>29</td>\n      <td>30</td>\n      <td>31</td>\n      <td>32</td>\n    </tr>\n    <tr>\n      <th>2023-01-09</th>\n      <td>33</td>\n      <td>34</td>\n      <td>35</td>\n      <td>36</td>\n    </tr>\n    <tr>\n      <th>2023-01-10</th>\n      <td>37</td>\n      <td>38</td>\n      <td>39</td>\n      <td>40</td>\n    </tr>\n    <tr>\n      <th>2023-01-11</th>\n      <td>41</td>\n      <td>42</td>\n      <td>43</td>\n      <td>44</td>\n    </tr>\n    <tr>\n      <th>2023-01-12</th>\n      <td>45</td>\n      <td>46</td>\n      <td>47</td>\n      <td>48</td>\n    </tr>\n    <tr>\n      <th>2023-01-13</th>\n      <td>49</td>\n      <td>50</td>\n      <td>51</td>\n      <td>52</td>\n    </tr>\n    <tr>\n      <th>2023-01-14</th>\n      <td>53</td>\n      <td>54</td>\n      <td>55</td>\n      <td>56</td>\n    </tr>\n    <tr>\n      <th>2023-01-15</th>\n      <td>57</td>\n      <td>58</td>\n      <td>59</td>\n      <td>60</td>\n    </tr>\n    <tr>\n      <th>2023-01-16</th>\n      <td>61</td>\n      <td>62</td>\n      <td>63</td>\n      <td>64</td>\n    </tr>\n    <tr>\n      <th>2023-01-17</th>\n      <td>65</td>\n      <td>66</td>\n      <td>67</td>\n      <td>68</td>\n    </tr>\n    <tr>\n      <th>2023-01-18</th>\n      <td>69</td>\n      <td>70</td>\n      <td>71</td>\n      <td>72</td>\n    </tr>\n    <tr>\n      <th>2023-01-19</th>\n      <td>73</td>\n      <td>74</td>\n      <td>75</td>\n      <td>76</td>\n    </tr>\n    <tr>\n      <th>2023-01-20</th>\n      <td>77</td>\n      <td>78</td>\n      <td>79</td>\n      <td>80</td>\n    </tr>\n    <tr>\n      <th>2023-01-21</th>\n      <td>81</td>\n      <td>82</td>\n      <td>83</td>\n      <td>84</td>\n    </tr>\n    <tr>\n      <th>2023-01-22</th>\n      <td>85</td>\n      <td>86</td>\n      <td>87</td>\n      <td>88</td>\n    </tr>\n    <tr>\n      <th>2023-01-23</th>\n      <td>89</td>\n      <td>90</td>\n      <td>91</td>\n      <td>92</td>\n    </tr>\n    <tr>\n      <th>2023-01-24</th>\n      <td>93</td>\n      <td>94</td>\n      <td>95</td>\n      <td>96</td>\n    </tr>\n    <tr>\n      <th>2023-01-25</th>\n      <td>97</td>\n      <td>98</td>\n      <td>99</td>\n      <td>100</td>\n    </tr>\n    <tr>\n      <th>2023-01-26</th>\n      <td>101</td>\n      <td>102</td>\n      <td>103</td>\n      <td>104</td>\n    </tr>\n    <tr>\n      <th>2023-01-27</th>\n      <td>105</td>\n      <td>106</td>\n      <td>107</td>\n      <td>108</td>\n    </tr>\n    <tr>\n      <th>2023-01-28</th>\n      <td>109</td>\n      <td>110</td>\n      <td>111</td>\n      <td>112</td>\n    </tr>\n    <tr>\n      <th>2023-01-29</th>\n      <td>113</td>\n      <td>114</td>\n      <td>115</td>\n      <td>116</td>\n    </tr>\n    <tr>\n      <th>2023-01-30</th>\n      <td>117</td>\n      <td>118</td>\n      <td>119</td>\n      <td>120</td>\n    </tr>\n  </tbody>\n</table>\n</div>"
     },
     "execution_count": 179,
     "metadata": {},
     "output_type": "execute_result"
    }
   ],
   "source": [
    "# Setting values by label:\n",
    "df.at[dates[0], \"A\"] = 1\n",
    "df"
   ],
   "metadata": {
    "collapsed": false,
    "pycharm": {
     "name": "#%%\n"
    }
   }
  },
  {
   "cell_type": "code",
   "execution_count": 183,
   "outputs": [],
   "source": [
    "# Setting values by position:\n",
    "df.iat[0,0] = 1\n"
   ],
   "metadata": {
    "collapsed": false,
    "pycharm": {
     "name": "#%%\n"
    }
   }
  },
  {
   "cell_type": "code",
   "execution_count": 184,
   "outputs": [
    {
     "data": {
      "text/plain": "2023-01-01      4\n2023-01-02      8\n2023-01-03     12\n2023-01-04     16\n2023-01-05     20\n2023-01-06     24\n2023-01-07     28\n2023-01-08     32\n2023-01-09     36\n2023-01-10     40\n2023-01-11     44\n2023-01-12     48\n2023-01-13     52\n2023-01-14     56\n2023-01-15     60\n2023-01-16     64\n2023-01-17     68\n2023-01-18     72\n2023-01-19     76\n2023-01-20     80\n2023-01-21     84\n2023-01-22     88\n2023-01-23     92\n2023-01-24     96\n2023-01-25    100\n2023-01-26    104\n2023-01-27    108\n2023-01-28    112\n2023-01-29    116\n2023-01-30    120\nFreq: D, Name: D, dtype: int32"
     },
     "execution_count": 184,
     "metadata": {},
     "output_type": "execute_result"
    }
   ],
   "source": [
    "df.loc[:, \"D\"]\n"
   ],
   "metadata": {
    "collapsed": false,
    "pycharm": {
     "name": "#%%\n"
    }
   }
  },
  {
   "cell_type": "code",
   "execution_count": 185,
   "outputs": [
    {
     "data": {
      "text/plain": "              A    B    C    D  E\n2023-01-01    1    2    3    4  5\n2023-01-02    5    6    7    8  5\n2023-01-03    9   10   11   12  5\n2023-01-04   13   14   15   16  5\n2023-01-05   17   18   19   20  5\n2023-01-06   21   22   23   24  5\n2023-01-07   25   26   27   28  5\n2023-01-08   29   30   31   32  5\n2023-01-09   33   34   35   36  5\n2023-01-10   37   38   39   40  5\n2023-01-11   41   42   43   44  5\n2023-01-12   45   46   47   48  5\n2023-01-13   49   50   51   52  5\n2023-01-14   53   54   55   56  5\n2023-01-15   57   58   59   60  5\n2023-01-16   61   62   63   64  5\n2023-01-17   65   66   67   68  5\n2023-01-18   69   70   71   72  5\n2023-01-19   73   74   75   76  5\n2023-01-20   77   78   79   80  5\n2023-01-21   81   82   83   84  5\n2023-01-22   85   86   87   88  5\n2023-01-23   89   90   91   92  5\n2023-01-24   93   94   95   96  5\n2023-01-25   97   98   99  100  5\n2023-01-26  101  102  103  104  5\n2023-01-27  105  106  107  108  5\n2023-01-28  109  110  111  112  5\n2023-01-29  113  114  115  116  5\n2023-01-30  117  118  119  120  5",
      "text/html": "<div>\n<style scoped>\n    .dataframe tbody tr th:only-of-type {\n        vertical-align: middle;\n    }\n\n    .dataframe tbody tr th {\n        vertical-align: top;\n    }\n\n    .dataframe thead th {\n        text-align: right;\n    }\n</style>\n<table border=\"1\" class=\"dataframe\">\n  <thead>\n    <tr style=\"text-align: right;\">\n      <th></th>\n      <th>A</th>\n      <th>B</th>\n      <th>C</th>\n      <th>D</th>\n      <th>E</th>\n    </tr>\n  </thead>\n  <tbody>\n    <tr>\n      <th>2023-01-01</th>\n      <td>1</td>\n      <td>2</td>\n      <td>3</td>\n      <td>4</td>\n      <td>5</td>\n    </tr>\n    <tr>\n      <th>2023-01-02</th>\n      <td>5</td>\n      <td>6</td>\n      <td>7</td>\n      <td>8</td>\n      <td>5</td>\n    </tr>\n    <tr>\n      <th>2023-01-03</th>\n      <td>9</td>\n      <td>10</td>\n      <td>11</td>\n      <td>12</td>\n      <td>5</td>\n    </tr>\n    <tr>\n      <th>2023-01-04</th>\n      <td>13</td>\n      <td>14</td>\n      <td>15</td>\n      <td>16</td>\n      <td>5</td>\n    </tr>\n    <tr>\n      <th>2023-01-05</th>\n      <td>17</td>\n      <td>18</td>\n      <td>19</td>\n      <td>20</td>\n      <td>5</td>\n    </tr>\n    <tr>\n      <th>2023-01-06</th>\n      <td>21</td>\n      <td>22</td>\n      <td>23</td>\n      <td>24</td>\n      <td>5</td>\n    </tr>\n    <tr>\n      <th>2023-01-07</th>\n      <td>25</td>\n      <td>26</td>\n      <td>27</td>\n      <td>28</td>\n      <td>5</td>\n    </tr>\n    <tr>\n      <th>2023-01-08</th>\n      <td>29</td>\n      <td>30</td>\n      <td>31</td>\n      <td>32</td>\n      <td>5</td>\n    </tr>\n    <tr>\n      <th>2023-01-09</th>\n      <td>33</td>\n      <td>34</td>\n      <td>35</td>\n      <td>36</td>\n      <td>5</td>\n    </tr>\n    <tr>\n      <th>2023-01-10</th>\n      <td>37</td>\n      <td>38</td>\n      <td>39</td>\n      <td>40</td>\n      <td>5</td>\n    </tr>\n    <tr>\n      <th>2023-01-11</th>\n      <td>41</td>\n      <td>42</td>\n      <td>43</td>\n      <td>44</td>\n      <td>5</td>\n    </tr>\n    <tr>\n      <th>2023-01-12</th>\n      <td>45</td>\n      <td>46</td>\n      <td>47</td>\n      <td>48</td>\n      <td>5</td>\n    </tr>\n    <tr>\n      <th>2023-01-13</th>\n      <td>49</td>\n      <td>50</td>\n      <td>51</td>\n      <td>52</td>\n      <td>5</td>\n    </tr>\n    <tr>\n      <th>2023-01-14</th>\n      <td>53</td>\n      <td>54</td>\n      <td>55</td>\n      <td>56</td>\n      <td>5</td>\n    </tr>\n    <tr>\n      <th>2023-01-15</th>\n      <td>57</td>\n      <td>58</td>\n      <td>59</td>\n      <td>60</td>\n      <td>5</td>\n    </tr>\n    <tr>\n      <th>2023-01-16</th>\n      <td>61</td>\n      <td>62</td>\n      <td>63</td>\n      <td>64</td>\n      <td>5</td>\n    </tr>\n    <tr>\n      <th>2023-01-17</th>\n      <td>65</td>\n      <td>66</td>\n      <td>67</td>\n      <td>68</td>\n      <td>5</td>\n    </tr>\n    <tr>\n      <th>2023-01-18</th>\n      <td>69</td>\n      <td>70</td>\n      <td>71</td>\n      <td>72</td>\n      <td>5</td>\n    </tr>\n    <tr>\n      <th>2023-01-19</th>\n      <td>73</td>\n      <td>74</td>\n      <td>75</td>\n      <td>76</td>\n      <td>5</td>\n    </tr>\n    <tr>\n      <th>2023-01-20</th>\n      <td>77</td>\n      <td>78</td>\n      <td>79</td>\n      <td>80</td>\n      <td>5</td>\n    </tr>\n    <tr>\n      <th>2023-01-21</th>\n      <td>81</td>\n      <td>82</td>\n      <td>83</td>\n      <td>84</td>\n      <td>5</td>\n    </tr>\n    <tr>\n      <th>2023-01-22</th>\n      <td>85</td>\n      <td>86</td>\n      <td>87</td>\n      <td>88</td>\n      <td>5</td>\n    </tr>\n    <tr>\n      <th>2023-01-23</th>\n      <td>89</td>\n      <td>90</td>\n      <td>91</td>\n      <td>92</td>\n      <td>5</td>\n    </tr>\n    <tr>\n      <th>2023-01-24</th>\n      <td>93</td>\n      <td>94</td>\n      <td>95</td>\n      <td>96</td>\n      <td>5</td>\n    </tr>\n    <tr>\n      <th>2023-01-25</th>\n      <td>97</td>\n      <td>98</td>\n      <td>99</td>\n      <td>100</td>\n      <td>5</td>\n    </tr>\n    <tr>\n      <th>2023-01-26</th>\n      <td>101</td>\n      <td>102</td>\n      <td>103</td>\n      <td>104</td>\n      <td>5</td>\n    </tr>\n    <tr>\n      <th>2023-01-27</th>\n      <td>105</td>\n      <td>106</td>\n      <td>107</td>\n      <td>108</td>\n      <td>5</td>\n    </tr>\n    <tr>\n      <th>2023-01-28</th>\n      <td>109</td>\n      <td>110</td>\n      <td>111</td>\n      <td>112</td>\n      <td>5</td>\n    </tr>\n    <tr>\n      <th>2023-01-29</th>\n      <td>113</td>\n      <td>114</td>\n      <td>115</td>\n      <td>116</td>\n      <td>5</td>\n    </tr>\n    <tr>\n      <th>2023-01-30</th>\n      <td>117</td>\n      <td>118</td>\n      <td>119</td>\n      <td>120</td>\n      <td>5</td>\n    </tr>\n  </tbody>\n</table>\n</div>"
     },
     "execution_count": 185,
     "metadata": {},
     "output_type": "execute_result"
    }
   ],
   "source": [
    "df.loc[:, \"E\"] = np.array([5] * len(df))\n",
    "df"
   ],
   "metadata": {
    "collapsed": false,
    "pycharm": {
     "name": "#%%\n"
    }
   }
  },
  {
   "cell_type": "code",
   "execution_count": 186,
   "outputs": [
    {
     "data": {
      "text/plain": "              A    B    C    D  E\n2023-01-01    1    2    3    4  4\n2023-01-02    5    6    7    8  5\n2023-01-03    9   10   11   12  5\n2023-01-04   13   14   15   16  5\n2023-01-05   17   18   19   20  5\n2023-01-06   21   22   23   24  5\n2023-01-07   25   26   27   28  5\n2023-01-08   29   30   31   32  5\n2023-01-09   33   34   35   36  5\n2023-01-10   37   38   39   40  5\n2023-01-11   41   42   43   44  5\n2023-01-12   45   46   47   48  5\n2023-01-13   49   50   51   52  5\n2023-01-14   53   54   55   56  5\n2023-01-15   57   58   59   60  5\n2023-01-16   61   62   63   64  5\n2023-01-17   65   66   67   68  5\n2023-01-18   69   70   71   72  5\n2023-01-19   73   74   75   76  5\n2023-01-20   77   78   79   80  5\n2023-01-21   81   82   83   84  5\n2023-01-22   85   86   87   88  5\n2023-01-23   89   90   91   92  5\n2023-01-24   93   94   95   96  5\n2023-01-25   97   98   99  100  5\n2023-01-26  101  102  103  104  5\n2023-01-27  105  106  107  108  5\n2023-01-28  109  110  111  112  5\n2023-01-29  113  114  115  116  5\n2023-01-30  117  118  119  120  5",
      "text/html": "<div>\n<style scoped>\n    .dataframe tbody tr th:only-of-type {\n        vertical-align: middle;\n    }\n\n    .dataframe tbody tr th {\n        vertical-align: top;\n    }\n\n    .dataframe thead th {\n        text-align: right;\n    }\n</style>\n<table border=\"1\" class=\"dataframe\">\n  <thead>\n    <tr style=\"text-align: right;\">\n      <th></th>\n      <th>A</th>\n      <th>B</th>\n      <th>C</th>\n      <th>D</th>\n      <th>E</th>\n    </tr>\n  </thead>\n  <tbody>\n    <tr>\n      <th>2023-01-01</th>\n      <td>1</td>\n      <td>2</td>\n      <td>3</td>\n      <td>4</td>\n      <td>4</td>\n    </tr>\n    <tr>\n      <th>2023-01-02</th>\n      <td>5</td>\n      <td>6</td>\n      <td>7</td>\n      <td>8</td>\n      <td>5</td>\n    </tr>\n    <tr>\n      <th>2023-01-03</th>\n      <td>9</td>\n      <td>10</td>\n      <td>11</td>\n      <td>12</td>\n      <td>5</td>\n    </tr>\n    <tr>\n      <th>2023-01-04</th>\n      <td>13</td>\n      <td>14</td>\n      <td>15</td>\n      <td>16</td>\n      <td>5</td>\n    </tr>\n    <tr>\n      <th>2023-01-05</th>\n      <td>17</td>\n      <td>18</td>\n      <td>19</td>\n      <td>20</td>\n      <td>5</td>\n    </tr>\n    <tr>\n      <th>2023-01-06</th>\n      <td>21</td>\n      <td>22</td>\n      <td>23</td>\n      <td>24</td>\n      <td>5</td>\n    </tr>\n    <tr>\n      <th>2023-01-07</th>\n      <td>25</td>\n      <td>26</td>\n      <td>27</td>\n      <td>28</td>\n      <td>5</td>\n    </tr>\n    <tr>\n      <th>2023-01-08</th>\n      <td>29</td>\n      <td>30</td>\n      <td>31</td>\n      <td>32</td>\n      <td>5</td>\n    </tr>\n    <tr>\n      <th>2023-01-09</th>\n      <td>33</td>\n      <td>34</td>\n      <td>35</td>\n      <td>36</td>\n      <td>5</td>\n    </tr>\n    <tr>\n      <th>2023-01-10</th>\n      <td>37</td>\n      <td>38</td>\n      <td>39</td>\n      <td>40</td>\n      <td>5</td>\n    </tr>\n    <tr>\n      <th>2023-01-11</th>\n      <td>41</td>\n      <td>42</td>\n      <td>43</td>\n      <td>44</td>\n      <td>5</td>\n    </tr>\n    <tr>\n      <th>2023-01-12</th>\n      <td>45</td>\n      <td>46</td>\n      <td>47</td>\n      <td>48</td>\n      <td>5</td>\n    </tr>\n    <tr>\n      <th>2023-01-13</th>\n      <td>49</td>\n      <td>50</td>\n      <td>51</td>\n      <td>52</td>\n      <td>5</td>\n    </tr>\n    <tr>\n      <th>2023-01-14</th>\n      <td>53</td>\n      <td>54</td>\n      <td>55</td>\n      <td>56</td>\n      <td>5</td>\n    </tr>\n    <tr>\n      <th>2023-01-15</th>\n      <td>57</td>\n      <td>58</td>\n      <td>59</td>\n      <td>60</td>\n      <td>5</td>\n    </tr>\n    <tr>\n      <th>2023-01-16</th>\n      <td>61</td>\n      <td>62</td>\n      <td>63</td>\n      <td>64</td>\n      <td>5</td>\n    </tr>\n    <tr>\n      <th>2023-01-17</th>\n      <td>65</td>\n      <td>66</td>\n      <td>67</td>\n      <td>68</td>\n      <td>5</td>\n    </tr>\n    <tr>\n      <th>2023-01-18</th>\n      <td>69</td>\n      <td>70</td>\n      <td>71</td>\n      <td>72</td>\n      <td>5</td>\n    </tr>\n    <tr>\n      <th>2023-01-19</th>\n      <td>73</td>\n      <td>74</td>\n      <td>75</td>\n      <td>76</td>\n      <td>5</td>\n    </tr>\n    <tr>\n      <th>2023-01-20</th>\n      <td>77</td>\n      <td>78</td>\n      <td>79</td>\n      <td>80</td>\n      <td>5</td>\n    </tr>\n    <tr>\n      <th>2023-01-21</th>\n      <td>81</td>\n      <td>82</td>\n      <td>83</td>\n      <td>84</td>\n      <td>5</td>\n    </tr>\n    <tr>\n      <th>2023-01-22</th>\n      <td>85</td>\n      <td>86</td>\n      <td>87</td>\n      <td>88</td>\n      <td>5</td>\n    </tr>\n    <tr>\n      <th>2023-01-23</th>\n      <td>89</td>\n      <td>90</td>\n      <td>91</td>\n      <td>92</td>\n      <td>5</td>\n    </tr>\n    <tr>\n      <th>2023-01-24</th>\n      <td>93</td>\n      <td>94</td>\n      <td>95</td>\n      <td>96</td>\n      <td>5</td>\n    </tr>\n    <tr>\n      <th>2023-01-25</th>\n      <td>97</td>\n      <td>98</td>\n      <td>99</td>\n      <td>100</td>\n      <td>5</td>\n    </tr>\n    <tr>\n      <th>2023-01-26</th>\n      <td>101</td>\n      <td>102</td>\n      <td>103</td>\n      <td>104</td>\n      <td>5</td>\n    </tr>\n    <tr>\n      <th>2023-01-27</th>\n      <td>105</td>\n      <td>106</td>\n      <td>107</td>\n      <td>108</td>\n      <td>5</td>\n    </tr>\n    <tr>\n      <th>2023-01-28</th>\n      <td>109</td>\n      <td>110</td>\n      <td>111</td>\n      <td>112</td>\n      <td>5</td>\n    </tr>\n    <tr>\n      <th>2023-01-29</th>\n      <td>113</td>\n      <td>114</td>\n      <td>115</td>\n      <td>116</td>\n      <td>5</td>\n    </tr>\n    <tr>\n      <th>2023-01-30</th>\n      <td>117</td>\n      <td>118</td>\n      <td>119</td>\n      <td>120</td>\n      <td>5</td>\n    </tr>\n  </tbody>\n</table>\n</div>"
     },
     "execution_count": 186,
     "metadata": {},
     "output_type": "execute_result"
    }
   ],
   "source": [
    "df.loc[dates[0], \"E\"] = 4\n",
    "df\n"
   ],
   "metadata": {
    "collapsed": false,
    "pycharm": {
     "name": "#%%\n"
    }
   }
  },
  {
   "cell_type": "code",
   "execution_count": 187,
   "outputs": [
    {
     "data": {
      "text/plain": "                A           B           C           D          E\ncount   30.000000   30.000000   30.000000   30.000000  30.000000\nmean    59.000000   60.000000   61.000000   62.000000   4.966667\nstd     35.213634   35.213634   35.213634   35.213634   0.182574\nmin      1.000000    2.000000    3.000000    4.000000   4.000000\n25%     30.000000   31.000000   32.000000   33.000000   5.000000\n50%     59.000000   60.000000   61.000000   62.000000   5.000000\n75%     88.000000   89.000000   90.000000   91.000000   5.000000\nmax    117.000000  118.000000  119.000000  120.000000   5.000000",
      "text/html": "<div>\n<style scoped>\n    .dataframe tbody tr th:only-of-type {\n        vertical-align: middle;\n    }\n\n    .dataframe tbody tr th {\n        vertical-align: top;\n    }\n\n    .dataframe thead th {\n        text-align: right;\n    }\n</style>\n<table border=\"1\" class=\"dataframe\">\n  <thead>\n    <tr style=\"text-align: right;\">\n      <th></th>\n      <th>A</th>\n      <th>B</th>\n      <th>C</th>\n      <th>D</th>\n      <th>E</th>\n    </tr>\n  </thead>\n  <tbody>\n    <tr>\n      <th>count</th>\n      <td>30.000000</td>\n      <td>30.000000</td>\n      <td>30.000000</td>\n      <td>30.000000</td>\n      <td>30.000000</td>\n    </tr>\n    <tr>\n      <th>mean</th>\n      <td>59.000000</td>\n      <td>60.000000</td>\n      <td>61.000000</td>\n      <td>62.000000</td>\n      <td>4.966667</td>\n    </tr>\n    <tr>\n      <th>std</th>\n      <td>35.213634</td>\n      <td>35.213634</td>\n      <td>35.213634</td>\n      <td>35.213634</td>\n      <td>0.182574</td>\n    </tr>\n    <tr>\n      <th>min</th>\n      <td>1.000000</td>\n      <td>2.000000</td>\n      <td>3.000000</td>\n      <td>4.000000</td>\n      <td>4.000000</td>\n    </tr>\n    <tr>\n      <th>25%</th>\n      <td>30.000000</td>\n      <td>31.000000</td>\n      <td>32.000000</td>\n      <td>33.000000</td>\n      <td>5.000000</td>\n    </tr>\n    <tr>\n      <th>50%</th>\n      <td>59.000000</td>\n      <td>60.000000</td>\n      <td>61.000000</td>\n      <td>62.000000</td>\n      <td>5.000000</td>\n    </tr>\n    <tr>\n      <th>75%</th>\n      <td>88.000000</td>\n      <td>89.000000</td>\n      <td>90.000000</td>\n      <td>91.000000</td>\n      <td>5.000000</td>\n    </tr>\n    <tr>\n      <th>max</th>\n      <td>117.000000</td>\n      <td>118.000000</td>\n      <td>119.000000</td>\n      <td>120.000000</td>\n      <td>5.000000</td>\n    </tr>\n  </tbody>\n</table>\n</div>"
     },
     "execution_count": 187,
     "metadata": {},
     "output_type": "execute_result"
    }
   ],
   "source": [
    "df.describe()\n"
   ],
   "metadata": {
    "collapsed": false,
    "pycharm": {
     "name": "#%%\n"
    }
   }
  },
  {
   "cell_type": "code",
   "execution_count": 190,
   "outputs": [
    {
     "data": {
      "text/plain": "                A           B           C           D          E\ncount   30.000000   30.000000   30.000000   30.000000  30.000000\nmean    59.000000   60.000000   61.000000   62.000000   4.966667\nstd     35.213634   35.213634   35.213634   35.213634   0.182574\nmin      1.000000    2.000000    3.000000    4.000000   4.000000\n25%     30.000000   31.000000   32.000000   33.000000   5.000000\n50%     59.000000   60.000000   61.000000   62.000000   5.000000\n75%     88.000000   89.000000   90.000000   91.000000   5.000000\nmax    117.000000  118.000000  119.000000  120.000000   5.000000",
      "text/html": "<div>\n<style scoped>\n    .dataframe tbody tr th:only-of-type {\n        vertical-align: middle;\n    }\n\n    .dataframe tbody tr th {\n        vertical-align: top;\n    }\n\n    .dataframe thead th {\n        text-align: right;\n    }\n</style>\n<table border=\"1\" class=\"dataframe\">\n  <thead>\n    <tr style=\"text-align: right;\">\n      <th></th>\n      <th>A</th>\n      <th>B</th>\n      <th>C</th>\n      <th>D</th>\n      <th>E</th>\n    </tr>\n  </thead>\n  <tbody>\n    <tr>\n      <th>count</th>\n      <td>30.000000</td>\n      <td>30.000000</td>\n      <td>30.000000</td>\n      <td>30.000000</td>\n      <td>30.000000</td>\n    </tr>\n    <tr>\n      <th>mean</th>\n      <td>59.000000</td>\n      <td>60.000000</td>\n      <td>61.000000</td>\n      <td>62.000000</td>\n      <td>4.966667</td>\n    </tr>\n    <tr>\n      <th>std</th>\n      <td>35.213634</td>\n      <td>35.213634</td>\n      <td>35.213634</td>\n      <td>35.213634</td>\n      <td>0.182574</td>\n    </tr>\n    <tr>\n      <th>min</th>\n      <td>1.000000</td>\n      <td>2.000000</td>\n      <td>3.000000</td>\n      <td>4.000000</td>\n      <td>4.000000</td>\n    </tr>\n    <tr>\n      <th>25%</th>\n      <td>30.000000</td>\n      <td>31.000000</td>\n      <td>32.000000</td>\n      <td>33.000000</td>\n      <td>5.000000</td>\n    </tr>\n    <tr>\n      <th>50%</th>\n      <td>59.000000</td>\n      <td>60.000000</td>\n      <td>61.000000</td>\n      <td>62.000000</td>\n      <td>5.000000</td>\n    </tr>\n    <tr>\n      <th>75%</th>\n      <td>88.000000</td>\n      <td>89.000000</td>\n      <td>90.000000</td>\n      <td>91.000000</td>\n      <td>5.000000</td>\n    </tr>\n    <tr>\n      <th>max</th>\n      <td>117.000000</td>\n      <td>118.000000</td>\n      <td>119.000000</td>\n      <td>120.000000</td>\n      <td>5.000000</td>\n    </tr>\n  </tbody>\n</table>\n</div>"
     },
     "execution_count": 190,
     "metadata": {},
     "output_type": "execute_result"
    }
   ],
   "source": [
    "desc = df.describe()\n",
    "desc"
   ],
   "metadata": {
    "collapsed": false,
    "pycharm": {
     "name": "#%%\n"
    }
   }
  },
  {
   "cell_type": "code",
   "execution_count": 191,
   "outputs": [
    {
     "data": {
      "text/plain": "59.0"
     },
     "execution_count": 191,
     "metadata": {},
     "output_type": "execute_result"
    }
   ],
   "source": [
    "desc.loc[\"mean\", \"A\"]\n"
   ],
   "metadata": {
    "collapsed": false,
    "pycharm": {
     "name": "#%%\n"
    }
   }
  },
  {
   "cell_type": "code",
   "execution_count": 194,
   "outputs": [
    {
     "data": {
      "text/plain": "                         A      B      C      D     E  mean\n2023-01-01 00:00:00    1.0    2.0    3.0    4.0   4.0  59.0\n2023-01-02 00:00:00    5.0    6.0    7.0    8.0   5.0  59.0\n2023-01-03 00:00:00    9.0   10.0   11.0   12.0   5.0  59.0\n2023-01-04 00:00:00   13.0   14.0   15.0   16.0   5.0  59.0\n2023-01-05 00:00:00   17.0   18.0   19.0   20.0   5.0  59.0\n2023-01-06 00:00:00   21.0   22.0   23.0   24.0   5.0  59.0\n2023-01-07 00:00:00   25.0   26.0   27.0   28.0   5.0  59.0\n2023-01-08 00:00:00   29.0   30.0   31.0   32.0   5.0  59.0\n2023-01-09 00:00:00   33.0   34.0   35.0   36.0   5.0  59.0\n2023-01-10 00:00:00   37.0   38.0   39.0   40.0   5.0  59.0\n2023-01-11 00:00:00   41.0   42.0   43.0   44.0   5.0  59.0\n2023-01-12 00:00:00   45.0   46.0   47.0   48.0   5.0  59.0\n2023-01-13 00:00:00   49.0   50.0   51.0   52.0   5.0  59.0\n2023-01-14 00:00:00   53.0   54.0   55.0   56.0   5.0  59.0\n2023-01-15 00:00:00   57.0   58.0   59.0   60.0   5.0  59.0\n2023-01-16 00:00:00   61.0   62.0   63.0   64.0   5.0  59.0\n2023-01-17 00:00:00   65.0   66.0   67.0   68.0   5.0  59.0\n2023-01-18 00:00:00   69.0   70.0   71.0   72.0   5.0  59.0\n2023-01-19 00:00:00   73.0   74.0   75.0   76.0   5.0  59.0\n2023-01-20 00:00:00   77.0   78.0   79.0   80.0   5.0  59.0\n2023-01-21 00:00:00   81.0   82.0   83.0   84.0   5.0  59.0\n2023-01-22 00:00:00   85.0   86.0   87.0   88.0   5.0  59.0\n2023-01-23 00:00:00   89.0   90.0   91.0   92.0   5.0  59.0\n2023-01-24 00:00:00   93.0   94.0   95.0   96.0   5.0  59.0\n2023-01-25 00:00:00   97.0   98.0   99.0  100.0   5.0  59.0\n2023-01-26 00:00:00  101.0  102.0  103.0  104.0   5.0  59.0\n2023-01-27 00:00:00  105.0  106.0  107.0  108.0   5.0  59.0\n2023-01-28 00:00:00  109.0  110.0  111.0  112.0   5.0  59.0\n2023-01-29 00:00:00  113.0  114.0  115.0  116.0   5.0  59.0\n2023-01-30 00:00:00  117.0  118.0  119.0  120.0   5.0  59.0\nmean                  59.0   59.0   59.0   59.0  59.0  59.0",
      "text/html": "<div>\n<style scoped>\n    .dataframe tbody tr th:only-of-type {\n        vertical-align: middle;\n    }\n\n    .dataframe tbody tr th {\n        vertical-align: top;\n    }\n\n    .dataframe thead th {\n        text-align: right;\n    }\n</style>\n<table border=\"1\" class=\"dataframe\">\n  <thead>\n    <tr style=\"text-align: right;\">\n      <th></th>\n      <th>A</th>\n      <th>B</th>\n      <th>C</th>\n      <th>D</th>\n      <th>E</th>\n      <th>mean</th>\n    </tr>\n  </thead>\n  <tbody>\n    <tr>\n      <th>2023-01-01 00:00:00</th>\n      <td>1.0</td>\n      <td>2.0</td>\n      <td>3.0</td>\n      <td>4.0</td>\n      <td>4.0</td>\n      <td>59.0</td>\n    </tr>\n    <tr>\n      <th>2023-01-02 00:00:00</th>\n      <td>5.0</td>\n      <td>6.0</td>\n      <td>7.0</td>\n      <td>8.0</td>\n      <td>5.0</td>\n      <td>59.0</td>\n    </tr>\n    <tr>\n      <th>2023-01-03 00:00:00</th>\n      <td>9.0</td>\n      <td>10.0</td>\n      <td>11.0</td>\n      <td>12.0</td>\n      <td>5.0</td>\n      <td>59.0</td>\n    </tr>\n    <tr>\n      <th>2023-01-04 00:00:00</th>\n      <td>13.0</td>\n      <td>14.0</td>\n      <td>15.0</td>\n      <td>16.0</td>\n      <td>5.0</td>\n      <td>59.0</td>\n    </tr>\n    <tr>\n      <th>2023-01-05 00:00:00</th>\n      <td>17.0</td>\n      <td>18.0</td>\n      <td>19.0</td>\n      <td>20.0</td>\n      <td>5.0</td>\n      <td>59.0</td>\n    </tr>\n    <tr>\n      <th>2023-01-06 00:00:00</th>\n      <td>21.0</td>\n      <td>22.0</td>\n      <td>23.0</td>\n      <td>24.0</td>\n      <td>5.0</td>\n      <td>59.0</td>\n    </tr>\n    <tr>\n      <th>2023-01-07 00:00:00</th>\n      <td>25.0</td>\n      <td>26.0</td>\n      <td>27.0</td>\n      <td>28.0</td>\n      <td>5.0</td>\n      <td>59.0</td>\n    </tr>\n    <tr>\n      <th>2023-01-08 00:00:00</th>\n      <td>29.0</td>\n      <td>30.0</td>\n      <td>31.0</td>\n      <td>32.0</td>\n      <td>5.0</td>\n      <td>59.0</td>\n    </tr>\n    <tr>\n      <th>2023-01-09 00:00:00</th>\n      <td>33.0</td>\n      <td>34.0</td>\n      <td>35.0</td>\n      <td>36.0</td>\n      <td>5.0</td>\n      <td>59.0</td>\n    </tr>\n    <tr>\n      <th>2023-01-10 00:00:00</th>\n      <td>37.0</td>\n      <td>38.0</td>\n      <td>39.0</td>\n      <td>40.0</td>\n      <td>5.0</td>\n      <td>59.0</td>\n    </tr>\n    <tr>\n      <th>2023-01-11 00:00:00</th>\n      <td>41.0</td>\n      <td>42.0</td>\n      <td>43.0</td>\n      <td>44.0</td>\n      <td>5.0</td>\n      <td>59.0</td>\n    </tr>\n    <tr>\n      <th>2023-01-12 00:00:00</th>\n      <td>45.0</td>\n      <td>46.0</td>\n      <td>47.0</td>\n      <td>48.0</td>\n      <td>5.0</td>\n      <td>59.0</td>\n    </tr>\n    <tr>\n      <th>2023-01-13 00:00:00</th>\n      <td>49.0</td>\n      <td>50.0</td>\n      <td>51.0</td>\n      <td>52.0</td>\n      <td>5.0</td>\n      <td>59.0</td>\n    </tr>\n    <tr>\n      <th>2023-01-14 00:00:00</th>\n      <td>53.0</td>\n      <td>54.0</td>\n      <td>55.0</td>\n      <td>56.0</td>\n      <td>5.0</td>\n      <td>59.0</td>\n    </tr>\n    <tr>\n      <th>2023-01-15 00:00:00</th>\n      <td>57.0</td>\n      <td>58.0</td>\n      <td>59.0</td>\n      <td>60.0</td>\n      <td>5.0</td>\n      <td>59.0</td>\n    </tr>\n    <tr>\n      <th>2023-01-16 00:00:00</th>\n      <td>61.0</td>\n      <td>62.0</td>\n      <td>63.0</td>\n      <td>64.0</td>\n      <td>5.0</td>\n      <td>59.0</td>\n    </tr>\n    <tr>\n      <th>2023-01-17 00:00:00</th>\n      <td>65.0</td>\n      <td>66.0</td>\n      <td>67.0</td>\n      <td>68.0</td>\n      <td>5.0</td>\n      <td>59.0</td>\n    </tr>\n    <tr>\n      <th>2023-01-18 00:00:00</th>\n      <td>69.0</td>\n      <td>70.0</td>\n      <td>71.0</td>\n      <td>72.0</td>\n      <td>5.0</td>\n      <td>59.0</td>\n    </tr>\n    <tr>\n      <th>2023-01-19 00:00:00</th>\n      <td>73.0</td>\n      <td>74.0</td>\n      <td>75.0</td>\n      <td>76.0</td>\n      <td>5.0</td>\n      <td>59.0</td>\n    </tr>\n    <tr>\n      <th>2023-01-20 00:00:00</th>\n      <td>77.0</td>\n      <td>78.0</td>\n      <td>79.0</td>\n      <td>80.0</td>\n      <td>5.0</td>\n      <td>59.0</td>\n    </tr>\n    <tr>\n      <th>2023-01-21 00:00:00</th>\n      <td>81.0</td>\n      <td>82.0</td>\n      <td>83.0</td>\n      <td>84.0</td>\n      <td>5.0</td>\n      <td>59.0</td>\n    </tr>\n    <tr>\n      <th>2023-01-22 00:00:00</th>\n      <td>85.0</td>\n      <td>86.0</td>\n      <td>87.0</td>\n      <td>88.0</td>\n      <td>5.0</td>\n      <td>59.0</td>\n    </tr>\n    <tr>\n      <th>2023-01-23 00:00:00</th>\n      <td>89.0</td>\n      <td>90.0</td>\n      <td>91.0</td>\n      <td>92.0</td>\n      <td>5.0</td>\n      <td>59.0</td>\n    </tr>\n    <tr>\n      <th>2023-01-24 00:00:00</th>\n      <td>93.0</td>\n      <td>94.0</td>\n      <td>95.0</td>\n      <td>96.0</td>\n      <td>5.0</td>\n      <td>59.0</td>\n    </tr>\n    <tr>\n      <th>2023-01-25 00:00:00</th>\n      <td>97.0</td>\n      <td>98.0</td>\n      <td>99.0</td>\n      <td>100.0</td>\n      <td>5.0</td>\n      <td>59.0</td>\n    </tr>\n    <tr>\n      <th>2023-01-26 00:00:00</th>\n      <td>101.0</td>\n      <td>102.0</td>\n      <td>103.0</td>\n      <td>104.0</td>\n      <td>5.0</td>\n      <td>59.0</td>\n    </tr>\n    <tr>\n      <th>2023-01-27 00:00:00</th>\n      <td>105.0</td>\n      <td>106.0</td>\n      <td>107.0</td>\n      <td>108.0</td>\n      <td>5.0</td>\n      <td>59.0</td>\n    </tr>\n    <tr>\n      <th>2023-01-28 00:00:00</th>\n      <td>109.0</td>\n      <td>110.0</td>\n      <td>111.0</td>\n      <td>112.0</td>\n      <td>5.0</td>\n      <td>59.0</td>\n    </tr>\n    <tr>\n      <th>2023-01-29 00:00:00</th>\n      <td>113.0</td>\n      <td>114.0</td>\n      <td>115.0</td>\n      <td>116.0</td>\n      <td>5.0</td>\n      <td>59.0</td>\n    </tr>\n    <tr>\n      <th>2023-01-30 00:00:00</th>\n      <td>117.0</td>\n      <td>118.0</td>\n      <td>119.0</td>\n      <td>120.0</td>\n      <td>5.0</td>\n      <td>59.0</td>\n    </tr>\n    <tr>\n      <th>mean</th>\n      <td>59.0</td>\n      <td>59.0</td>\n      <td>59.0</td>\n      <td>59.0</td>\n      <td>59.0</td>\n      <td>59.0</td>\n    </tr>\n  </tbody>\n</table>\n</div>"
     },
     "execution_count": 194,
     "metadata": {},
     "output_type": "execute_result"
    }
   ],
   "source": [
    "# df.loc[\"mean\", :] = desc.loc[\"mean\", \"A\"]\n",
    "df.loc[:, \"mean\"] = desc.loc[\"mean\", \"A\"]\n",
    "df"
   ],
   "metadata": {
    "collapsed": false,
    "pycharm": {
     "name": "#%%\n"
    }
   }
  },
  {
   "cell_type": "code",
   "execution_count": 199,
   "outputs": [
    {
     "data": {
      "text/plain": "                         A      B      C      D    E  mean\n2023-01-01 00:00:00    1.0    2.0    3.0    4.0  4.0  59.0\n2023-01-02 00:00:00    5.0    6.0    7.0    8.0  5.0  59.0\n2023-01-03 00:00:00    9.0   10.0   11.0   12.0  5.0  59.0\n2023-01-04 00:00:00   13.0   14.0   15.0   16.0  5.0  59.0\n2023-01-05 00:00:00   17.0   18.0   19.0   20.0  5.0  59.0\n2023-01-06 00:00:00   21.0   22.0   23.0   24.0  5.0  59.0\n2023-01-07 00:00:00   25.0   26.0   27.0   28.0  5.0  59.0\n2023-01-08 00:00:00   29.0   30.0   31.0   32.0  5.0  59.0\n2023-01-09 00:00:00   33.0   34.0   35.0   36.0  5.0  59.0\n2023-01-10 00:00:00   37.0   38.0   39.0   40.0  5.0  59.0\n2023-01-11 00:00:00   41.0   42.0   43.0   44.0  5.0  59.0\n2023-01-12 00:00:00   45.0   46.0   47.0   48.0  5.0  59.0\n2023-01-13 00:00:00   49.0   50.0   51.0   52.0  5.0  59.0\n2023-01-14 00:00:00   53.0   54.0   55.0   56.0  5.0  59.0\n2023-01-15 00:00:00   57.0   58.0   59.0   60.0  5.0  59.0\n2023-01-16 00:00:00   61.0   62.0   63.0   64.0  5.0  59.0\n2023-01-17 00:00:00   65.0   66.0   67.0   68.0  5.0  59.0\n2023-01-18 00:00:00   69.0   70.0   71.0   72.0  5.0  59.0\n2023-01-19 00:00:00   73.0   74.0   75.0   76.0  5.0  59.0\n2023-01-20 00:00:00   77.0   78.0   79.0   80.0  5.0  59.0\n2023-01-21 00:00:00   81.0   82.0   83.0   84.0  5.0  59.0\n2023-01-22 00:00:00   85.0   86.0   87.0   88.0  5.0  59.0\n2023-01-23 00:00:00   89.0   90.0   91.0   92.0  5.0  59.0\n2023-01-24 00:00:00   93.0   94.0   95.0   96.0  5.0  59.0\n2023-01-25 00:00:00   97.0   98.0   99.0  100.0  5.0  59.0\n2023-01-26 00:00:00  101.0  102.0  103.0  104.0  5.0  59.0\n2023-01-27 00:00:00  105.0  106.0  107.0  108.0  5.0  59.0\n2023-01-28 00:00:00  109.0  110.0  111.0  112.0  5.0  59.0\n2023-01-29 00:00:00  113.0  114.0  115.0  116.0  5.0  59.0\n2023-01-30 00:00:00  117.0  118.0  119.0  120.0  5.0  59.0",
      "text/html": "<div>\n<style scoped>\n    .dataframe tbody tr th:only-of-type {\n        vertical-align: middle;\n    }\n\n    .dataframe tbody tr th {\n        vertical-align: top;\n    }\n\n    .dataframe thead th {\n        text-align: right;\n    }\n</style>\n<table border=\"1\" class=\"dataframe\">\n  <thead>\n    <tr style=\"text-align: right;\">\n      <th></th>\n      <th>A</th>\n      <th>B</th>\n      <th>C</th>\n      <th>D</th>\n      <th>E</th>\n      <th>mean</th>\n    </tr>\n  </thead>\n  <tbody>\n    <tr>\n      <th>2023-01-01 00:00:00</th>\n      <td>1.0</td>\n      <td>2.0</td>\n      <td>3.0</td>\n      <td>4.0</td>\n      <td>4.0</td>\n      <td>59.0</td>\n    </tr>\n    <tr>\n      <th>2023-01-02 00:00:00</th>\n      <td>5.0</td>\n      <td>6.0</td>\n      <td>7.0</td>\n      <td>8.0</td>\n      <td>5.0</td>\n      <td>59.0</td>\n    </tr>\n    <tr>\n      <th>2023-01-03 00:00:00</th>\n      <td>9.0</td>\n      <td>10.0</td>\n      <td>11.0</td>\n      <td>12.0</td>\n      <td>5.0</td>\n      <td>59.0</td>\n    </tr>\n    <tr>\n      <th>2023-01-04 00:00:00</th>\n      <td>13.0</td>\n      <td>14.0</td>\n      <td>15.0</td>\n      <td>16.0</td>\n      <td>5.0</td>\n      <td>59.0</td>\n    </tr>\n    <tr>\n      <th>2023-01-05 00:00:00</th>\n      <td>17.0</td>\n      <td>18.0</td>\n      <td>19.0</td>\n      <td>20.0</td>\n      <td>5.0</td>\n      <td>59.0</td>\n    </tr>\n    <tr>\n      <th>2023-01-06 00:00:00</th>\n      <td>21.0</td>\n      <td>22.0</td>\n      <td>23.0</td>\n      <td>24.0</td>\n      <td>5.0</td>\n      <td>59.0</td>\n    </tr>\n    <tr>\n      <th>2023-01-07 00:00:00</th>\n      <td>25.0</td>\n      <td>26.0</td>\n      <td>27.0</td>\n      <td>28.0</td>\n      <td>5.0</td>\n      <td>59.0</td>\n    </tr>\n    <tr>\n      <th>2023-01-08 00:00:00</th>\n      <td>29.0</td>\n      <td>30.0</td>\n      <td>31.0</td>\n      <td>32.0</td>\n      <td>5.0</td>\n      <td>59.0</td>\n    </tr>\n    <tr>\n      <th>2023-01-09 00:00:00</th>\n      <td>33.0</td>\n      <td>34.0</td>\n      <td>35.0</td>\n      <td>36.0</td>\n      <td>5.0</td>\n      <td>59.0</td>\n    </tr>\n    <tr>\n      <th>2023-01-10 00:00:00</th>\n      <td>37.0</td>\n      <td>38.0</td>\n      <td>39.0</td>\n      <td>40.0</td>\n      <td>5.0</td>\n      <td>59.0</td>\n    </tr>\n    <tr>\n      <th>2023-01-11 00:00:00</th>\n      <td>41.0</td>\n      <td>42.0</td>\n      <td>43.0</td>\n      <td>44.0</td>\n      <td>5.0</td>\n      <td>59.0</td>\n    </tr>\n    <tr>\n      <th>2023-01-12 00:00:00</th>\n      <td>45.0</td>\n      <td>46.0</td>\n      <td>47.0</td>\n      <td>48.0</td>\n      <td>5.0</td>\n      <td>59.0</td>\n    </tr>\n    <tr>\n      <th>2023-01-13 00:00:00</th>\n      <td>49.0</td>\n      <td>50.0</td>\n      <td>51.0</td>\n      <td>52.0</td>\n      <td>5.0</td>\n      <td>59.0</td>\n    </tr>\n    <tr>\n      <th>2023-01-14 00:00:00</th>\n      <td>53.0</td>\n      <td>54.0</td>\n      <td>55.0</td>\n      <td>56.0</td>\n      <td>5.0</td>\n      <td>59.0</td>\n    </tr>\n    <tr>\n      <th>2023-01-15 00:00:00</th>\n      <td>57.0</td>\n      <td>58.0</td>\n      <td>59.0</td>\n      <td>60.0</td>\n      <td>5.0</td>\n      <td>59.0</td>\n    </tr>\n    <tr>\n      <th>2023-01-16 00:00:00</th>\n      <td>61.0</td>\n      <td>62.0</td>\n      <td>63.0</td>\n      <td>64.0</td>\n      <td>5.0</td>\n      <td>59.0</td>\n    </tr>\n    <tr>\n      <th>2023-01-17 00:00:00</th>\n      <td>65.0</td>\n      <td>66.0</td>\n      <td>67.0</td>\n      <td>68.0</td>\n      <td>5.0</td>\n      <td>59.0</td>\n    </tr>\n    <tr>\n      <th>2023-01-18 00:00:00</th>\n      <td>69.0</td>\n      <td>70.0</td>\n      <td>71.0</td>\n      <td>72.0</td>\n      <td>5.0</td>\n      <td>59.0</td>\n    </tr>\n    <tr>\n      <th>2023-01-19 00:00:00</th>\n      <td>73.0</td>\n      <td>74.0</td>\n      <td>75.0</td>\n      <td>76.0</td>\n      <td>5.0</td>\n      <td>59.0</td>\n    </tr>\n    <tr>\n      <th>2023-01-20 00:00:00</th>\n      <td>77.0</td>\n      <td>78.0</td>\n      <td>79.0</td>\n      <td>80.0</td>\n      <td>5.0</td>\n      <td>59.0</td>\n    </tr>\n    <tr>\n      <th>2023-01-21 00:00:00</th>\n      <td>81.0</td>\n      <td>82.0</td>\n      <td>83.0</td>\n      <td>84.0</td>\n      <td>5.0</td>\n      <td>59.0</td>\n    </tr>\n    <tr>\n      <th>2023-01-22 00:00:00</th>\n      <td>85.0</td>\n      <td>86.0</td>\n      <td>87.0</td>\n      <td>88.0</td>\n      <td>5.0</td>\n      <td>59.0</td>\n    </tr>\n    <tr>\n      <th>2023-01-23 00:00:00</th>\n      <td>89.0</td>\n      <td>90.0</td>\n      <td>91.0</td>\n      <td>92.0</td>\n      <td>5.0</td>\n      <td>59.0</td>\n    </tr>\n    <tr>\n      <th>2023-01-24 00:00:00</th>\n      <td>93.0</td>\n      <td>94.0</td>\n      <td>95.0</td>\n      <td>96.0</td>\n      <td>5.0</td>\n      <td>59.0</td>\n    </tr>\n    <tr>\n      <th>2023-01-25 00:00:00</th>\n      <td>97.0</td>\n      <td>98.0</td>\n      <td>99.0</td>\n      <td>100.0</td>\n      <td>5.0</td>\n      <td>59.0</td>\n    </tr>\n    <tr>\n      <th>2023-01-26 00:00:00</th>\n      <td>101.0</td>\n      <td>102.0</td>\n      <td>103.0</td>\n      <td>104.0</td>\n      <td>5.0</td>\n      <td>59.0</td>\n    </tr>\n    <tr>\n      <th>2023-01-27 00:00:00</th>\n      <td>105.0</td>\n      <td>106.0</td>\n      <td>107.0</td>\n      <td>108.0</td>\n      <td>5.0</td>\n      <td>59.0</td>\n    </tr>\n    <tr>\n      <th>2023-01-28 00:00:00</th>\n      <td>109.0</td>\n      <td>110.0</td>\n      <td>111.0</td>\n      <td>112.0</td>\n      <td>5.0</td>\n      <td>59.0</td>\n    </tr>\n    <tr>\n      <th>2023-01-29 00:00:00</th>\n      <td>113.0</td>\n      <td>114.0</td>\n      <td>115.0</td>\n      <td>116.0</td>\n      <td>5.0</td>\n      <td>59.0</td>\n    </tr>\n    <tr>\n      <th>2023-01-30 00:00:00</th>\n      <td>117.0</td>\n      <td>118.0</td>\n      <td>119.0</td>\n      <td>120.0</td>\n      <td>5.0</td>\n      <td>59.0</td>\n    </tr>\n  </tbody>\n</table>\n</div>"
     },
     "execution_count": 199,
     "metadata": {},
     "output_type": "execute_result"
    }
   ],
   "source": [
    "df4 = df.copy()\n",
    "df4 = df4.iloc[0:-1, :]\n",
    "df4"
   ],
   "metadata": {
    "collapsed": false,
    "pycharm": {
     "name": "#%%\n"
    }
   }
  },
  {
   "cell_type": "code",
   "execution_count": 202,
   "outputs": [
    {
     "data": {
      "text/plain": "2.5"
     },
     "execution_count": 202,
     "metadata": {},
     "output_type": "execute_result"
    }
   ],
   "source": [
    "np.mean(df.iloc[0, 0:4])\n"
   ],
   "metadata": {
    "collapsed": false,
    "pycharm": {
     "name": "#%%\n"
    }
   }
  },
  {
   "cell_type": "code",
   "execution_count": 203,
   "outputs": [
    {
     "data": {
      "text/plain": "31"
     },
     "execution_count": 203,
     "metadata": {},
     "output_type": "execute_result"
    }
   ],
   "source": [
    "len(df)\n"
   ],
   "metadata": {
    "collapsed": false,
    "pycharm": {
     "name": "#%%\n"
    }
   }
  },
  {
   "cell_type": "code",
   "execution_count": 204,
   "outputs": [
    {
     "data": {
      "text/plain": "                         A      B      C      D     E  mean\n2023-01-01 00:00:00    1.0    2.0    3.0    4.0   4.0  59.0\n2023-01-02 00:00:00    5.0    6.0    7.0    8.0   5.0  59.0\n2023-01-03 00:00:00    9.0   10.0   11.0   12.0   5.0  59.0\n2023-01-04 00:00:00   13.0   14.0   15.0   16.0   5.0  59.0\n2023-01-05 00:00:00   17.0   18.0   19.0   20.0   5.0  59.0\n2023-01-06 00:00:00   21.0   22.0   23.0   24.0   5.0  59.0\n2023-01-07 00:00:00   25.0   26.0   27.0   28.0   5.0  59.0\n2023-01-08 00:00:00   29.0   30.0   31.0   32.0   5.0  59.0\n2023-01-09 00:00:00   33.0   34.0   35.0   36.0   5.0  59.0\n2023-01-10 00:00:00   37.0   38.0   39.0   40.0   5.0  59.0\n2023-01-11 00:00:00   41.0   42.0   43.0   44.0   5.0  59.0\n2023-01-12 00:00:00   45.0   46.0   47.0   48.0   5.0  59.0\n2023-01-13 00:00:00   49.0   50.0   51.0   52.0   5.0  59.0\n2023-01-14 00:00:00   53.0   54.0   55.0   56.0   5.0  59.0\n2023-01-15 00:00:00   57.0   58.0   59.0   60.0   5.0  59.0\n2023-01-16 00:00:00   61.0   62.0   63.0   64.0   5.0  59.0\n2023-01-17 00:00:00   65.0   66.0   67.0   68.0   5.0  59.0\n2023-01-18 00:00:00   69.0   70.0   71.0   72.0   5.0  59.0\n2023-01-19 00:00:00   73.0   74.0   75.0   76.0   5.0  59.0\n2023-01-20 00:00:00   77.0   78.0   79.0   80.0   5.0  59.0\n2023-01-21 00:00:00   81.0   82.0   83.0   84.0   5.0  59.0\n2023-01-22 00:00:00   85.0   86.0   87.0   88.0   5.0  59.0\n2023-01-23 00:00:00   89.0   90.0   91.0   92.0   5.0  59.0\n2023-01-24 00:00:00   93.0   94.0   95.0   96.0   5.0  59.0\n2023-01-25 00:00:00   97.0   98.0   99.0  100.0   5.0  59.0\n2023-01-26 00:00:00  101.0  102.0  103.0  104.0   5.0  59.0\n2023-01-27 00:00:00  105.0  106.0  107.0  108.0   5.0  59.0\n2023-01-28 00:00:00  109.0  110.0  111.0  112.0   5.0  59.0\n2023-01-29 00:00:00  113.0  114.0  115.0  116.0   5.0  59.0\n2023-01-30 00:00:00  117.0  118.0  119.0  120.0   5.0  59.0\nmean                  59.0   59.0   59.0   59.0  59.0  59.0",
      "text/html": "<div>\n<style scoped>\n    .dataframe tbody tr th:only-of-type {\n        vertical-align: middle;\n    }\n\n    .dataframe tbody tr th {\n        vertical-align: top;\n    }\n\n    .dataframe thead th {\n        text-align: right;\n    }\n</style>\n<table border=\"1\" class=\"dataframe\">\n  <thead>\n    <tr style=\"text-align: right;\">\n      <th></th>\n      <th>A</th>\n      <th>B</th>\n      <th>C</th>\n      <th>D</th>\n      <th>E</th>\n      <th>mean</th>\n    </tr>\n  </thead>\n  <tbody>\n    <tr>\n      <th>2023-01-01 00:00:00</th>\n      <td>1.0</td>\n      <td>2.0</td>\n      <td>3.0</td>\n      <td>4.0</td>\n      <td>4.0</td>\n      <td>59.0</td>\n    </tr>\n    <tr>\n      <th>2023-01-02 00:00:00</th>\n      <td>5.0</td>\n      <td>6.0</td>\n      <td>7.0</td>\n      <td>8.0</td>\n      <td>5.0</td>\n      <td>59.0</td>\n    </tr>\n    <tr>\n      <th>2023-01-03 00:00:00</th>\n      <td>9.0</td>\n      <td>10.0</td>\n      <td>11.0</td>\n      <td>12.0</td>\n      <td>5.0</td>\n      <td>59.0</td>\n    </tr>\n    <tr>\n      <th>2023-01-04 00:00:00</th>\n      <td>13.0</td>\n      <td>14.0</td>\n      <td>15.0</td>\n      <td>16.0</td>\n      <td>5.0</td>\n      <td>59.0</td>\n    </tr>\n    <tr>\n      <th>2023-01-05 00:00:00</th>\n      <td>17.0</td>\n      <td>18.0</td>\n      <td>19.0</td>\n      <td>20.0</td>\n      <td>5.0</td>\n      <td>59.0</td>\n    </tr>\n    <tr>\n      <th>2023-01-06 00:00:00</th>\n      <td>21.0</td>\n      <td>22.0</td>\n      <td>23.0</td>\n      <td>24.0</td>\n      <td>5.0</td>\n      <td>59.0</td>\n    </tr>\n    <tr>\n      <th>2023-01-07 00:00:00</th>\n      <td>25.0</td>\n      <td>26.0</td>\n      <td>27.0</td>\n      <td>28.0</td>\n      <td>5.0</td>\n      <td>59.0</td>\n    </tr>\n    <tr>\n      <th>2023-01-08 00:00:00</th>\n      <td>29.0</td>\n      <td>30.0</td>\n      <td>31.0</td>\n      <td>32.0</td>\n      <td>5.0</td>\n      <td>59.0</td>\n    </tr>\n    <tr>\n      <th>2023-01-09 00:00:00</th>\n      <td>33.0</td>\n      <td>34.0</td>\n      <td>35.0</td>\n      <td>36.0</td>\n      <td>5.0</td>\n      <td>59.0</td>\n    </tr>\n    <tr>\n      <th>2023-01-10 00:00:00</th>\n      <td>37.0</td>\n      <td>38.0</td>\n      <td>39.0</td>\n      <td>40.0</td>\n      <td>5.0</td>\n      <td>59.0</td>\n    </tr>\n    <tr>\n      <th>2023-01-11 00:00:00</th>\n      <td>41.0</td>\n      <td>42.0</td>\n      <td>43.0</td>\n      <td>44.0</td>\n      <td>5.0</td>\n      <td>59.0</td>\n    </tr>\n    <tr>\n      <th>2023-01-12 00:00:00</th>\n      <td>45.0</td>\n      <td>46.0</td>\n      <td>47.0</td>\n      <td>48.0</td>\n      <td>5.0</td>\n      <td>59.0</td>\n    </tr>\n    <tr>\n      <th>2023-01-13 00:00:00</th>\n      <td>49.0</td>\n      <td>50.0</td>\n      <td>51.0</td>\n      <td>52.0</td>\n      <td>5.0</td>\n      <td>59.0</td>\n    </tr>\n    <tr>\n      <th>2023-01-14 00:00:00</th>\n      <td>53.0</td>\n      <td>54.0</td>\n      <td>55.0</td>\n      <td>56.0</td>\n      <td>5.0</td>\n      <td>59.0</td>\n    </tr>\n    <tr>\n      <th>2023-01-15 00:00:00</th>\n      <td>57.0</td>\n      <td>58.0</td>\n      <td>59.0</td>\n      <td>60.0</td>\n      <td>5.0</td>\n      <td>59.0</td>\n    </tr>\n    <tr>\n      <th>2023-01-16 00:00:00</th>\n      <td>61.0</td>\n      <td>62.0</td>\n      <td>63.0</td>\n      <td>64.0</td>\n      <td>5.0</td>\n      <td>59.0</td>\n    </tr>\n    <tr>\n      <th>2023-01-17 00:00:00</th>\n      <td>65.0</td>\n      <td>66.0</td>\n      <td>67.0</td>\n      <td>68.0</td>\n      <td>5.0</td>\n      <td>59.0</td>\n    </tr>\n    <tr>\n      <th>2023-01-18 00:00:00</th>\n      <td>69.0</td>\n      <td>70.0</td>\n      <td>71.0</td>\n      <td>72.0</td>\n      <td>5.0</td>\n      <td>59.0</td>\n    </tr>\n    <tr>\n      <th>2023-01-19 00:00:00</th>\n      <td>73.0</td>\n      <td>74.0</td>\n      <td>75.0</td>\n      <td>76.0</td>\n      <td>5.0</td>\n      <td>59.0</td>\n    </tr>\n    <tr>\n      <th>2023-01-20 00:00:00</th>\n      <td>77.0</td>\n      <td>78.0</td>\n      <td>79.0</td>\n      <td>80.0</td>\n      <td>5.0</td>\n      <td>59.0</td>\n    </tr>\n    <tr>\n      <th>2023-01-21 00:00:00</th>\n      <td>81.0</td>\n      <td>82.0</td>\n      <td>83.0</td>\n      <td>84.0</td>\n      <td>5.0</td>\n      <td>59.0</td>\n    </tr>\n    <tr>\n      <th>2023-01-22 00:00:00</th>\n      <td>85.0</td>\n      <td>86.0</td>\n      <td>87.0</td>\n      <td>88.0</td>\n      <td>5.0</td>\n      <td>59.0</td>\n    </tr>\n    <tr>\n      <th>2023-01-23 00:00:00</th>\n      <td>89.0</td>\n      <td>90.0</td>\n      <td>91.0</td>\n      <td>92.0</td>\n      <td>5.0</td>\n      <td>59.0</td>\n    </tr>\n    <tr>\n      <th>2023-01-24 00:00:00</th>\n      <td>93.0</td>\n      <td>94.0</td>\n      <td>95.0</td>\n      <td>96.0</td>\n      <td>5.0</td>\n      <td>59.0</td>\n    </tr>\n    <tr>\n      <th>2023-01-25 00:00:00</th>\n      <td>97.0</td>\n      <td>98.0</td>\n      <td>99.0</td>\n      <td>100.0</td>\n      <td>5.0</td>\n      <td>59.0</td>\n    </tr>\n    <tr>\n      <th>2023-01-26 00:00:00</th>\n      <td>101.0</td>\n      <td>102.0</td>\n      <td>103.0</td>\n      <td>104.0</td>\n      <td>5.0</td>\n      <td>59.0</td>\n    </tr>\n    <tr>\n      <th>2023-01-27 00:00:00</th>\n      <td>105.0</td>\n      <td>106.0</td>\n      <td>107.0</td>\n      <td>108.0</td>\n      <td>5.0</td>\n      <td>59.0</td>\n    </tr>\n    <tr>\n      <th>2023-01-28 00:00:00</th>\n      <td>109.0</td>\n      <td>110.0</td>\n      <td>111.0</td>\n      <td>112.0</td>\n      <td>5.0</td>\n      <td>59.0</td>\n    </tr>\n    <tr>\n      <th>2023-01-29 00:00:00</th>\n      <td>113.0</td>\n      <td>114.0</td>\n      <td>115.0</td>\n      <td>116.0</td>\n      <td>5.0</td>\n      <td>59.0</td>\n    </tr>\n    <tr>\n      <th>2023-01-30 00:00:00</th>\n      <td>117.0</td>\n      <td>118.0</td>\n      <td>119.0</td>\n      <td>120.0</td>\n      <td>5.0</td>\n      <td>59.0</td>\n    </tr>\n    <tr>\n      <th>mean</th>\n      <td>59.0</td>\n      <td>59.0</td>\n      <td>59.0</td>\n      <td>59.0</td>\n      <td>59.0</td>\n      <td>59.0</td>\n    </tr>\n  </tbody>\n</table>\n</div>"
     },
     "execution_count": 204,
     "metadata": {},
     "output_type": "execute_result"
    }
   ],
   "source": [
    "df\n"
   ],
   "metadata": {
    "collapsed": false,
    "pycharm": {
     "name": "#%%\n"
    }
   }
  },
  {
   "cell_type": "code",
   "execution_count": 205,
   "outputs": [],
   "source": [
    "df = df4.copy()\n"
   ],
   "metadata": {
    "collapsed": false,
    "pycharm": {
     "name": "#%%\n"
    }
   }
  },
  {
   "cell_type": "code",
   "execution_count": 206,
   "outputs": [
    {
     "data": {
      "text/plain": "                         A      B      C      D    E  mean\n2023-01-01 00:00:00    1.0    2.0    3.0    4.0  4.0  59.0\n2023-01-02 00:00:00    5.0    6.0    7.0    8.0  5.0  59.0\n2023-01-03 00:00:00    9.0   10.0   11.0   12.0  5.0  59.0\n2023-01-04 00:00:00   13.0   14.0   15.0   16.0  5.0  59.0\n2023-01-05 00:00:00   17.0   18.0   19.0   20.0  5.0  59.0\n2023-01-06 00:00:00   21.0   22.0   23.0   24.0  5.0  59.0\n2023-01-07 00:00:00   25.0   26.0   27.0   28.0  5.0  59.0\n2023-01-08 00:00:00   29.0   30.0   31.0   32.0  5.0  59.0\n2023-01-09 00:00:00   33.0   34.0   35.0   36.0  5.0  59.0\n2023-01-10 00:00:00   37.0   38.0   39.0   40.0  5.0  59.0\n2023-01-11 00:00:00   41.0   42.0   43.0   44.0  5.0  59.0\n2023-01-12 00:00:00   45.0   46.0   47.0   48.0  5.0  59.0\n2023-01-13 00:00:00   49.0   50.0   51.0   52.0  5.0  59.0\n2023-01-14 00:00:00   53.0   54.0   55.0   56.0  5.0  59.0\n2023-01-15 00:00:00   57.0   58.0   59.0   60.0  5.0  59.0\n2023-01-16 00:00:00   61.0   62.0   63.0   64.0  5.0  59.0\n2023-01-17 00:00:00   65.0   66.0   67.0   68.0  5.0  59.0\n2023-01-18 00:00:00   69.0   70.0   71.0   72.0  5.0  59.0\n2023-01-19 00:00:00   73.0   74.0   75.0   76.0  5.0  59.0\n2023-01-20 00:00:00   77.0   78.0   79.0   80.0  5.0  59.0\n2023-01-21 00:00:00   81.0   82.0   83.0   84.0  5.0  59.0\n2023-01-22 00:00:00   85.0   86.0   87.0   88.0  5.0  59.0\n2023-01-23 00:00:00   89.0   90.0   91.0   92.0  5.0  59.0\n2023-01-24 00:00:00   93.0   94.0   95.0   96.0  5.0  59.0\n2023-01-25 00:00:00   97.0   98.0   99.0  100.0  5.0  59.0\n2023-01-26 00:00:00  101.0  102.0  103.0  104.0  5.0  59.0\n2023-01-27 00:00:00  105.0  106.0  107.0  108.0  5.0  59.0\n2023-01-28 00:00:00  109.0  110.0  111.0  112.0  5.0  59.0\n2023-01-29 00:00:00  113.0  114.0  115.0  116.0  5.0  59.0\n2023-01-30 00:00:00  117.0  118.0  119.0  120.0  5.0  59.0",
      "text/html": "<div>\n<style scoped>\n    .dataframe tbody tr th:only-of-type {\n        vertical-align: middle;\n    }\n\n    .dataframe tbody tr th {\n        vertical-align: top;\n    }\n\n    .dataframe thead th {\n        text-align: right;\n    }\n</style>\n<table border=\"1\" class=\"dataframe\">\n  <thead>\n    <tr style=\"text-align: right;\">\n      <th></th>\n      <th>A</th>\n      <th>B</th>\n      <th>C</th>\n      <th>D</th>\n      <th>E</th>\n      <th>mean</th>\n    </tr>\n  </thead>\n  <tbody>\n    <tr>\n      <th>2023-01-01 00:00:00</th>\n      <td>1.0</td>\n      <td>2.0</td>\n      <td>3.0</td>\n      <td>4.0</td>\n      <td>4.0</td>\n      <td>59.0</td>\n    </tr>\n    <tr>\n      <th>2023-01-02 00:00:00</th>\n      <td>5.0</td>\n      <td>6.0</td>\n      <td>7.0</td>\n      <td>8.0</td>\n      <td>5.0</td>\n      <td>59.0</td>\n    </tr>\n    <tr>\n      <th>2023-01-03 00:00:00</th>\n      <td>9.0</td>\n      <td>10.0</td>\n      <td>11.0</td>\n      <td>12.0</td>\n      <td>5.0</td>\n      <td>59.0</td>\n    </tr>\n    <tr>\n      <th>2023-01-04 00:00:00</th>\n      <td>13.0</td>\n      <td>14.0</td>\n      <td>15.0</td>\n      <td>16.0</td>\n      <td>5.0</td>\n      <td>59.0</td>\n    </tr>\n    <tr>\n      <th>2023-01-05 00:00:00</th>\n      <td>17.0</td>\n      <td>18.0</td>\n      <td>19.0</td>\n      <td>20.0</td>\n      <td>5.0</td>\n      <td>59.0</td>\n    </tr>\n    <tr>\n      <th>2023-01-06 00:00:00</th>\n      <td>21.0</td>\n      <td>22.0</td>\n      <td>23.0</td>\n      <td>24.0</td>\n      <td>5.0</td>\n      <td>59.0</td>\n    </tr>\n    <tr>\n      <th>2023-01-07 00:00:00</th>\n      <td>25.0</td>\n      <td>26.0</td>\n      <td>27.0</td>\n      <td>28.0</td>\n      <td>5.0</td>\n      <td>59.0</td>\n    </tr>\n    <tr>\n      <th>2023-01-08 00:00:00</th>\n      <td>29.0</td>\n      <td>30.0</td>\n      <td>31.0</td>\n      <td>32.0</td>\n      <td>5.0</td>\n      <td>59.0</td>\n    </tr>\n    <tr>\n      <th>2023-01-09 00:00:00</th>\n      <td>33.0</td>\n      <td>34.0</td>\n      <td>35.0</td>\n      <td>36.0</td>\n      <td>5.0</td>\n      <td>59.0</td>\n    </tr>\n    <tr>\n      <th>2023-01-10 00:00:00</th>\n      <td>37.0</td>\n      <td>38.0</td>\n      <td>39.0</td>\n      <td>40.0</td>\n      <td>5.0</td>\n      <td>59.0</td>\n    </tr>\n    <tr>\n      <th>2023-01-11 00:00:00</th>\n      <td>41.0</td>\n      <td>42.0</td>\n      <td>43.0</td>\n      <td>44.0</td>\n      <td>5.0</td>\n      <td>59.0</td>\n    </tr>\n    <tr>\n      <th>2023-01-12 00:00:00</th>\n      <td>45.0</td>\n      <td>46.0</td>\n      <td>47.0</td>\n      <td>48.0</td>\n      <td>5.0</td>\n      <td>59.0</td>\n    </tr>\n    <tr>\n      <th>2023-01-13 00:00:00</th>\n      <td>49.0</td>\n      <td>50.0</td>\n      <td>51.0</td>\n      <td>52.0</td>\n      <td>5.0</td>\n      <td>59.0</td>\n    </tr>\n    <tr>\n      <th>2023-01-14 00:00:00</th>\n      <td>53.0</td>\n      <td>54.0</td>\n      <td>55.0</td>\n      <td>56.0</td>\n      <td>5.0</td>\n      <td>59.0</td>\n    </tr>\n    <tr>\n      <th>2023-01-15 00:00:00</th>\n      <td>57.0</td>\n      <td>58.0</td>\n      <td>59.0</td>\n      <td>60.0</td>\n      <td>5.0</td>\n      <td>59.0</td>\n    </tr>\n    <tr>\n      <th>2023-01-16 00:00:00</th>\n      <td>61.0</td>\n      <td>62.0</td>\n      <td>63.0</td>\n      <td>64.0</td>\n      <td>5.0</td>\n      <td>59.0</td>\n    </tr>\n    <tr>\n      <th>2023-01-17 00:00:00</th>\n      <td>65.0</td>\n      <td>66.0</td>\n      <td>67.0</td>\n      <td>68.0</td>\n      <td>5.0</td>\n      <td>59.0</td>\n    </tr>\n    <tr>\n      <th>2023-01-18 00:00:00</th>\n      <td>69.0</td>\n      <td>70.0</td>\n      <td>71.0</td>\n      <td>72.0</td>\n      <td>5.0</td>\n      <td>59.0</td>\n    </tr>\n    <tr>\n      <th>2023-01-19 00:00:00</th>\n      <td>73.0</td>\n      <td>74.0</td>\n      <td>75.0</td>\n      <td>76.0</td>\n      <td>5.0</td>\n      <td>59.0</td>\n    </tr>\n    <tr>\n      <th>2023-01-20 00:00:00</th>\n      <td>77.0</td>\n      <td>78.0</td>\n      <td>79.0</td>\n      <td>80.0</td>\n      <td>5.0</td>\n      <td>59.0</td>\n    </tr>\n    <tr>\n      <th>2023-01-21 00:00:00</th>\n      <td>81.0</td>\n      <td>82.0</td>\n      <td>83.0</td>\n      <td>84.0</td>\n      <td>5.0</td>\n      <td>59.0</td>\n    </tr>\n    <tr>\n      <th>2023-01-22 00:00:00</th>\n      <td>85.0</td>\n      <td>86.0</td>\n      <td>87.0</td>\n      <td>88.0</td>\n      <td>5.0</td>\n      <td>59.0</td>\n    </tr>\n    <tr>\n      <th>2023-01-23 00:00:00</th>\n      <td>89.0</td>\n      <td>90.0</td>\n      <td>91.0</td>\n      <td>92.0</td>\n      <td>5.0</td>\n      <td>59.0</td>\n    </tr>\n    <tr>\n      <th>2023-01-24 00:00:00</th>\n      <td>93.0</td>\n      <td>94.0</td>\n      <td>95.0</td>\n      <td>96.0</td>\n      <td>5.0</td>\n      <td>59.0</td>\n    </tr>\n    <tr>\n      <th>2023-01-25 00:00:00</th>\n      <td>97.0</td>\n      <td>98.0</td>\n      <td>99.0</td>\n      <td>100.0</td>\n      <td>5.0</td>\n      <td>59.0</td>\n    </tr>\n    <tr>\n      <th>2023-01-26 00:00:00</th>\n      <td>101.0</td>\n      <td>102.0</td>\n      <td>103.0</td>\n      <td>104.0</td>\n      <td>5.0</td>\n      <td>59.0</td>\n    </tr>\n    <tr>\n      <th>2023-01-27 00:00:00</th>\n      <td>105.0</td>\n      <td>106.0</td>\n      <td>107.0</td>\n      <td>108.0</td>\n      <td>5.0</td>\n      <td>59.0</td>\n    </tr>\n    <tr>\n      <th>2023-01-28 00:00:00</th>\n      <td>109.0</td>\n      <td>110.0</td>\n      <td>111.0</td>\n      <td>112.0</td>\n      <td>5.0</td>\n      <td>59.0</td>\n    </tr>\n    <tr>\n      <th>2023-01-29 00:00:00</th>\n      <td>113.0</td>\n      <td>114.0</td>\n      <td>115.0</td>\n      <td>116.0</td>\n      <td>5.0</td>\n      <td>59.0</td>\n    </tr>\n    <tr>\n      <th>2023-01-30 00:00:00</th>\n      <td>117.0</td>\n      <td>118.0</td>\n      <td>119.0</td>\n      <td>120.0</td>\n      <td>5.0</td>\n      <td>59.0</td>\n    </tr>\n  </tbody>\n</table>\n</div>"
     },
     "execution_count": 206,
     "metadata": {},
     "output_type": "execute_result"
    }
   ],
   "source": [
    "df\n"
   ],
   "metadata": {
    "collapsed": false,
    "pycharm": {
     "name": "#%%\n"
    }
   }
  },
  {
   "cell_type": "markdown",
   "source": [
    "# Assignment\n",
    "Add a column to the existing DataFrame containing the \"mean\" value of the data in each row from \"ABCD\" columns"
   ],
   "metadata": {
    "collapsed": false,
    "pycharm": {
     "name": "#%% md\n"
    }
   }
  },
  {
   "cell_type": "code",
   "execution_count": 226,
   "outputs": [
    {
     "data": {
      "text/plain": "                         A      B      C      D    E   mean\n2023-01-01 00:00:00    1.0    2.0    3.0    4.0  4.0    2.5\n2023-01-02 00:00:00    5.0    6.0    7.0    8.0  5.0    6.5\n2023-01-03 00:00:00    9.0   10.0   11.0   12.0  5.0   10.5\n2023-01-04 00:00:00   13.0   14.0   15.0   16.0  5.0   14.5\n2023-01-05 00:00:00   17.0   18.0   19.0   20.0  5.0   18.5\n2023-01-06 00:00:00   21.0   22.0   23.0   24.0  5.0   22.5\n2023-01-07 00:00:00   25.0   26.0   27.0   28.0  5.0   26.5\n2023-01-08 00:00:00   29.0   30.0   31.0   32.0  5.0   30.5\n2023-01-09 00:00:00   33.0   34.0   35.0   36.0  5.0   34.5\n2023-01-10 00:00:00   37.0   38.0   39.0   40.0  5.0   38.5\n2023-01-11 00:00:00   41.0   42.0   43.0   44.0  5.0   42.5\n2023-01-12 00:00:00   45.0   46.0   47.0   48.0  5.0   46.5\n2023-01-13 00:00:00   49.0   50.0   51.0   52.0  5.0   50.5\n2023-01-14 00:00:00   53.0   54.0   55.0   56.0  5.0   54.5\n2023-01-15 00:00:00   57.0   58.0   59.0   60.0  5.0   58.5\n2023-01-16 00:00:00   61.0   62.0   63.0   64.0  5.0   62.5\n2023-01-17 00:00:00   65.0   66.0   67.0   68.0  5.0   66.5\n2023-01-18 00:00:00   69.0   70.0   71.0   72.0  5.0   70.5\n2023-01-19 00:00:00   73.0   74.0   75.0   76.0  5.0   74.5\n2023-01-20 00:00:00   77.0   78.0   79.0   80.0  5.0   78.5\n2023-01-21 00:00:00   81.0   82.0   83.0   84.0  5.0   82.5\n2023-01-22 00:00:00   85.0   86.0   87.0   88.0  5.0   86.5\n2023-01-23 00:00:00   89.0   90.0   91.0   92.0  5.0   90.5\n2023-01-24 00:00:00   93.0   94.0   95.0   96.0  5.0   94.5\n2023-01-25 00:00:00   97.0   98.0   99.0  100.0  5.0   98.5\n2023-01-26 00:00:00  101.0  102.0  103.0  104.0  5.0  102.5\n2023-01-27 00:00:00  105.0  106.0  107.0  108.0  5.0  106.5\n2023-01-28 00:00:00  109.0  110.0  111.0  112.0  5.0  110.5\n2023-01-29 00:00:00  113.0  114.0  115.0  116.0  5.0  114.5\n2023-01-30 00:00:00  117.0  118.0  119.0  120.0  5.0  118.5",
      "text/html": "<div>\n<style scoped>\n    .dataframe tbody tr th:only-of-type {\n        vertical-align: middle;\n    }\n\n    .dataframe tbody tr th {\n        vertical-align: top;\n    }\n\n    .dataframe thead th {\n        text-align: right;\n    }\n</style>\n<table border=\"1\" class=\"dataframe\">\n  <thead>\n    <tr style=\"text-align: right;\">\n      <th></th>\n      <th>A</th>\n      <th>B</th>\n      <th>C</th>\n      <th>D</th>\n      <th>E</th>\n      <th>mean</th>\n    </tr>\n  </thead>\n  <tbody>\n    <tr>\n      <th>2023-01-01 00:00:00</th>\n      <td>1.0</td>\n      <td>2.0</td>\n      <td>3.0</td>\n      <td>4.0</td>\n      <td>4.0</td>\n      <td>2.5</td>\n    </tr>\n    <tr>\n      <th>2023-01-02 00:00:00</th>\n      <td>5.0</td>\n      <td>6.0</td>\n      <td>7.0</td>\n      <td>8.0</td>\n      <td>5.0</td>\n      <td>6.5</td>\n    </tr>\n    <tr>\n      <th>2023-01-03 00:00:00</th>\n      <td>9.0</td>\n      <td>10.0</td>\n      <td>11.0</td>\n      <td>12.0</td>\n      <td>5.0</td>\n      <td>10.5</td>\n    </tr>\n    <tr>\n      <th>2023-01-04 00:00:00</th>\n      <td>13.0</td>\n      <td>14.0</td>\n      <td>15.0</td>\n      <td>16.0</td>\n      <td>5.0</td>\n      <td>14.5</td>\n    </tr>\n    <tr>\n      <th>2023-01-05 00:00:00</th>\n      <td>17.0</td>\n      <td>18.0</td>\n      <td>19.0</td>\n      <td>20.0</td>\n      <td>5.0</td>\n      <td>18.5</td>\n    </tr>\n    <tr>\n      <th>2023-01-06 00:00:00</th>\n      <td>21.0</td>\n      <td>22.0</td>\n      <td>23.0</td>\n      <td>24.0</td>\n      <td>5.0</td>\n      <td>22.5</td>\n    </tr>\n    <tr>\n      <th>2023-01-07 00:00:00</th>\n      <td>25.0</td>\n      <td>26.0</td>\n      <td>27.0</td>\n      <td>28.0</td>\n      <td>5.0</td>\n      <td>26.5</td>\n    </tr>\n    <tr>\n      <th>2023-01-08 00:00:00</th>\n      <td>29.0</td>\n      <td>30.0</td>\n      <td>31.0</td>\n      <td>32.0</td>\n      <td>5.0</td>\n      <td>30.5</td>\n    </tr>\n    <tr>\n      <th>2023-01-09 00:00:00</th>\n      <td>33.0</td>\n      <td>34.0</td>\n      <td>35.0</td>\n      <td>36.0</td>\n      <td>5.0</td>\n      <td>34.5</td>\n    </tr>\n    <tr>\n      <th>2023-01-10 00:00:00</th>\n      <td>37.0</td>\n      <td>38.0</td>\n      <td>39.0</td>\n      <td>40.0</td>\n      <td>5.0</td>\n      <td>38.5</td>\n    </tr>\n    <tr>\n      <th>2023-01-11 00:00:00</th>\n      <td>41.0</td>\n      <td>42.0</td>\n      <td>43.0</td>\n      <td>44.0</td>\n      <td>5.0</td>\n      <td>42.5</td>\n    </tr>\n    <tr>\n      <th>2023-01-12 00:00:00</th>\n      <td>45.0</td>\n      <td>46.0</td>\n      <td>47.0</td>\n      <td>48.0</td>\n      <td>5.0</td>\n      <td>46.5</td>\n    </tr>\n    <tr>\n      <th>2023-01-13 00:00:00</th>\n      <td>49.0</td>\n      <td>50.0</td>\n      <td>51.0</td>\n      <td>52.0</td>\n      <td>5.0</td>\n      <td>50.5</td>\n    </tr>\n    <tr>\n      <th>2023-01-14 00:00:00</th>\n      <td>53.0</td>\n      <td>54.0</td>\n      <td>55.0</td>\n      <td>56.0</td>\n      <td>5.0</td>\n      <td>54.5</td>\n    </tr>\n    <tr>\n      <th>2023-01-15 00:00:00</th>\n      <td>57.0</td>\n      <td>58.0</td>\n      <td>59.0</td>\n      <td>60.0</td>\n      <td>5.0</td>\n      <td>58.5</td>\n    </tr>\n    <tr>\n      <th>2023-01-16 00:00:00</th>\n      <td>61.0</td>\n      <td>62.0</td>\n      <td>63.0</td>\n      <td>64.0</td>\n      <td>5.0</td>\n      <td>62.5</td>\n    </tr>\n    <tr>\n      <th>2023-01-17 00:00:00</th>\n      <td>65.0</td>\n      <td>66.0</td>\n      <td>67.0</td>\n      <td>68.0</td>\n      <td>5.0</td>\n      <td>66.5</td>\n    </tr>\n    <tr>\n      <th>2023-01-18 00:00:00</th>\n      <td>69.0</td>\n      <td>70.0</td>\n      <td>71.0</td>\n      <td>72.0</td>\n      <td>5.0</td>\n      <td>70.5</td>\n    </tr>\n    <tr>\n      <th>2023-01-19 00:00:00</th>\n      <td>73.0</td>\n      <td>74.0</td>\n      <td>75.0</td>\n      <td>76.0</td>\n      <td>5.0</td>\n      <td>74.5</td>\n    </tr>\n    <tr>\n      <th>2023-01-20 00:00:00</th>\n      <td>77.0</td>\n      <td>78.0</td>\n      <td>79.0</td>\n      <td>80.0</td>\n      <td>5.0</td>\n      <td>78.5</td>\n    </tr>\n    <tr>\n      <th>2023-01-21 00:00:00</th>\n      <td>81.0</td>\n      <td>82.0</td>\n      <td>83.0</td>\n      <td>84.0</td>\n      <td>5.0</td>\n      <td>82.5</td>\n    </tr>\n    <tr>\n      <th>2023-01-22 00:00:00</th>\n      <td>85.0</td>\n      <td>86.0</td>\n      <td>87.0</td>\n      <td>88.0</td>\n      <td>5.0</td>\n      <td>86.5</td>\n    </tr>\n    <tr>\n      <th>2023-01-23 00:00:00</th>\n      <td>89.0</td>\n      <td>90.0</td>\n      <td>91.0</td>\n      <td>92.0</td>\n      <td>5.0</td>\n      <td>90.5</td>\n    </tr>\n    <tr>\n      <th>2023-01-24 00:00:00</th>\n      <td>93.0</td>\n      <td>94.0</td>\n      <td>95.0</td>\n      <td>96.0</td>\n      <td>5.0</td>\n      <td>94.5</td>\n    </tr>\n    <tr>\n      <th>2023-01-25 00:00:00</th>\n      <td>97.0</td>\n      <td>98.0</td>\n      <td>99.0</td>\n      <td>100.0</td>\n      <td>5.0</td>\n      <td>98.5</td>\n    </tr>\n    <tr>\n      <th>2023-01-26 00:00:00</th>\n      <td>101.0</td>\n      <td>102.0</td>\n      <td>103.0</td>\n      <td>104.0</td>\n      <td>5.0</td>\n      <td>102.5</td>\n    </tr>\n    <tr>\n      <th>2023-01-27 00:00:00</th>\n      <td>105.0</td>\n      <td>106.0</td>\n      <td>107.0</td>\n      <td>108.0</td>\n      <td>5.0</td>\n      <td>106.5</td>\n    </tr>\n    <tr>\n      <th>2023-01-28 00:00:00</th>\n      <td>109.0</td>\n      <td>110.0</td>\n      <td>111.0</td>\n      <td>112.0</td>\n      <td>5.0</td>\n      <td>110.5</td>\n    </tr>\n    <tr>\n      <th>2023-01-29 00:00:00</th>\n      <td>113.0</td>\n      <td>114.0</td>\n      <td>115.0</td>\n      <td>116.0</td>\n      <td>5.0</td>\n      <td>114.5</td>\n    </tr>\n    <tr>\n      <th>2023-01-30 00:00:00</th>\n      <td>117.0</td>\n      <td>118.0</td>\n      <td>119.0</td>\n      <td>120.0</td>\n      <td>5.0</td>\n      <td>118.5</td>\n    </tr>\n  </tbody>\n</table>\n</div>"
     },
     "execution_count": 226,
     "metadata": {},
     "output_type": "execute_result"
    }
   ],
   "source": [
    "# setting mean by using a loop.\n",
    "\n",
    "# first run a loop of length of DataFrame\n",
    "for i in np.arange(1, len(df)+1):\n",
    "\n",
    "    # Calculate the required mean\n",
    "    required_mean = np.mean(df.iloc[i-1, 0:4])\n",
    "\n",
    "    # find the index of the mean column in the dataframe\n",
    "    mean_index = list(df.columns).index(\"mean\")\n",
    "\n",
    "    # set the calculated mean to the correct location\n",
    "    df.iloc[i-1,mean_index] = required_mean\n",
    "\n",
    "    # end of loop\n",
    "\n",
    "# finding index of mean\n",
    "# list(df.columns).index(\"mean\")\n",
    "df"
   ],
   "metadata": {
    "collapsed": false,
    "pycharm": {
     "name": "#%%\n"
    }
   }
  },
  {
   "cell_type": "code",
   "execution_count": 228,
   "outputs": [
    {
     "data": {
      "text/plain": "                         A      B      C      D    E   mean\n2023-01-01 00:00:00    1.0    2.0    3.0    4.0  4.0    2.5\n2023-01-02 00:00:00    5.0    6.0    7.0    8.0  5.0    6.5\n2023-01-03 00:00:00    9.0   10.0   11.0   12.0  5.0   10.5\n2023-01-04 00:00:00   13.0   14.0   15.0   16.0  5.0   14.5\n2023-01-05 00:00:00   17.0   18.0   19.0   20.0  5.0   18.5\n2023-01-06 00:00:00   21.0   22.0   23.0   24.0  5.0   22.5\n2023-01-07 00:00:00   25.0   26.0   27.0   28.0  5.0   26.5\n2023-01-08 00:00:00   29.0   30.0   31.0   32.0  5.0   30.5\n2023-01-09 00:00:00   33.0   34.0   35.0   36.0  5.0   34.5\n2023-01-10 00:00:00   37.0   38.0   39.0   40.0  5.0   38.5\n2023-01-11 00:00:00   41.0   42.0   43.0   44.0  5.0   42.5\n2023-01-12 00:00:00   45.0   46.0   47.0   48.0  5.0   46.5\n2023-01-13 00:00:00   49.0   50.0   51.0   52.0  5.0   50.5\n2023-01-14 00:00:00   53.0   54.0   55.0   56.0  5.0   54.5\n2023-01-15 00:00:00   57.0   58.0   59.0   60.0  5.0   58.5\n2023-01-16 00:00:00   61.0   62.0   63.0   64.0  5.0   62.5\n2023-01-17 00:00:00   65.0   66.0   67.0   68.0  5.0   66.5\n2023-01-18 00:00:00   69.0   70.0   71.0   72.0  5.0   70.5\n2023-01-19 00:00:00   73.0   74.0   75.0   76.0  5.0   74.5\n2023-01-20 00:00:00   77.0   78.0   79.0   80.0  5.0   78.5\n2023-01-21 00:00:00   81.0   82.0   83.0   84.0  5.0   82.5\n2023-01-22 00:00:00   85.0   86.0   87.0   88.0  5.0   86.5\n2023-01-23 00:00:00   89.0   90.0   91.0   92.0  5.0   90.5\n2023-01-24 00:00:00   93.0   94.0   95.0   96.0  5.0   94.5\n2023-01-25 00:00:00   97.0   98.0   99.0  100.0  5.0   98.5\n2023-01-26 00:00:00 -101.0 -102.0 -103.0 -104.0  5.0 -102.5\n2023-01-27 00:00:00 -105.0 -106.0 -107.0 -108.0  5.0 -106.5\n2023-01-28 00:00:00 -109.0 -110.0 -111.0 -112.0  5.0 -110.5\n2023-01-29 00:00:00 -113.0 -114.0 -115.0 -116.0  5.0 -114.5\n2023-01-30 00:00:00 -117.0 -118.0 -119.0 -120.0  5.0 -118.5",
      "text/html": "<div>\n<style scoped>\n    .dataframe tbody tr th:only-of-type {\n        vertical-align: middle;\n    }\n\n    .dataframe tbody tr th {\n        vertical-align: top;\n    }\n\n    .dataframe thead th {\n        text-align: right;\n    }\n</style>\n<table border=\"1\" class=\"dataframe\">\n  <thead>\n    <tr style=\"text-align: right;\">\n      <th></th>\n      <th>A</th>\n      <th>B</th>\n      <th>C</th>\n      <th>D</th>\n      <th>E</th>\n      <th>mean</th>\n    </tr>\n  </thead>\n  <tbody>\n    <tr>\n      <th>2023-01-01 00:00:00</th>\n      <td>1.0</td>\n      <td>2.0</td>\n      <td>3.0</td>\n      <td>4.0</td>\n      <td>4.0</td>\n      <td>2.5</td>\n    </tr>\n    <tr>\n      <th>2023-01-02 00:00:00</th>\n      <td>5.0</td>\n      <td>6.0</td>\n      <td>7.0</td>\n      <td>8.0</td>\n      <td>5.0</td>\n      <td>6.5</td>\n    </tr>\n    <tr>\n      <th>2023-01-03 00:00:00</th>\n      <td>9.0</td>\n      <td>10.0</td>\n      <td>11.0</td>\n      <td>12.0</td>\n      <td>5.0</td>\n      <td>10.5</td>\n    </tr>\n    <tr>\n      <th>2023-01-04 00:00:00</th>\n      <td>13.0</td>\n      <td>14.0</td>\n      <td>15.0</td>\n      <td>16.0</td>\n      <td>5.0</td>\n      <td>14.5</td>\n    </tr>\n    <tr>\n      <th>2023-01-05 00:00:00</th>\n      <td>17.0</td>\n      <td>18.0</td>\n      <td>19.0</td>\n      <td>20.0</td>\n      <td>5.0</td>\n      <td>18.5</td>\n    </tr>\n    <tr>\n      <th>2023-01-06 00:00:00</th>\n      <td>21.0</td>\n      <td>22.0</td>\n      <td>23.0</td>\n      <td>24.0</td>\n      <td>5.0</td>\n      <td>22.5</td>\n    </tr>\n    <tr>\n      <th>2023-01-07 00:00:00</th>\n      <td>25.0</td>\n      <td>26.0</td>\n      <td>27.0</td>\n      <td>28.0</td>\n      <td>5.0</td>\n      <td>26.5</td>\n    </tr>\n    <tr>\n      <th>2023-01-08 00:00:00</th>\n      <td>29.0</td>\n      <td>30.0</td>\n      <td>31.0</td>\n      <td>32.0</td>\n      <td>5.0</td>\n      <td>30.5</td>\n    </tr>\n    <tr>\n      <th>2023-01-09 00:00:00</th>\n      <td>33.0</td>\n      <td>34.0</td>\n      <td>35.0</td>\n      <td>36.0</td>\n      <td>5.0</td>\n      <td>34.5</td>\n    </tr>\n    <tr>\n      <th>2023-01-10 00:00:00</th>\n      <td>37.0</td>\n      <td>38.0</td>\n      <td>39.0</td>\n      <td>40.0</td>\n      <td>5.0</td>\n      <td>38.5</td>\n    </tr>\n    <tr>\n      <th>2023-01-11 00:00:00</th>\n      <td>41.0</td>\n      <td>42.0</td>\n      <td>43.0</td>\n      <td>44.0</td>\n      <td>5.0</td>\n      <td>42.5</td>\n    </tr>\n    <tr>\n      <th>2023-01-12 00:00:00</th>\n      <td>45.0</td>\n      <td>46.0</td>\n      <td>47.0</td>\n      <td>48.0</td>\n      <td>5.0</td>\n      <td>46.5</td>\n    </tr>\n    <tr>\n      <th>2023-01-13 00:00:00</th>\n      <td>49.0</td>\n      <td>50.0</td>\n      <td>51.0</td>\n      <td>52.0</td>\n      <td>5.0</td>\n      <td>50.5</td>\n    </tr>\n    <tr>\n      <th>2023-01-14 00:00:00</th>\n      <td>53.0</td>\n      <td>54.0</td>\n      <td>55.0</td>\n      <td>56.0</td>\n      <td>5.0</td>\n      <td>54.5</td>\n    </tr>\n    <tr>\n      <th>2023-01-15 00:00:00</th>\n      <td>57.0</td>\n      <td>58.0</td>\n      <td>59.0</td>\n      <td>60.0</td>\n      <td>5.0</td>\n      <td>58.5</td>\n    </tr>\n    <tr>\n      <th>2023-01-16 00:00:00</th>\n      <td>61.0</td>\n      <td>62.0</td>\n      <td>63.0</td>\n      <td>64.0</td>\n      <td>5.0</td>\n      <td>62.5</td>\n    </tr>\n    <tr>\n      <th>2023-01-17 00:00:00</th>\n      <td>65.0</td>\n      <td>66.0</td>\n      <td>67.0</td>\n      <td>68.0</td>\n      <td>5.0</td>\n      <td>66.5</td>\n    </tr>\n    <tr>\n      <th>2023-01-18 00:00:00</th>\n      <td>69.0</td>\n      <td>70.0</td>\n      <td>71.0</td>\n      <td>72.0</td>\n      <td>5.0</td>\n      <td>70.5</td>\n    </tr>\n    <tr>\n      <th>2023-01-19 00:00:00</th>\n      <td>73.0</td>\n      <td>74.0</td>\n      <td>75.0</td>\n      <td>76.0</td>\n      <td>5.0</td>\n      <td>74.5</td>\n    </tr>\n    <tr>\n      <th>2023-01-20 00:00:00</th>\n      <td>77.0</td>\n      <td>78.0</td>\n      <td>79.0</td>\n      <td>80.0</td>\n      <td>5.0</td>\n      <td>78.5</td>\n    </tr>\n    <tr>\n      <th>2023-01-21 00:00:00</th>\n      <td>81.0</td>\n      <td>82.0</td>\n      <td>83.0</td>\n      <td>84.0</td>\n      <td>5.0</td>\n      <td>82.5</td>\n    </tr>\n    <tr>\n      <th>2023-01-22 00:00:00</th>\n      <td>85.0</td>\n      <td>86.0</td>\n      <td>87.0</td>\n      <td>88.0</td>\n      <td>5.0</td>\n      <td>86.5</td>\n    </tr>\n    <tr>\n      <th>2023-01-23 00:00:00</th>\n      <td>89.0</td>\n      <td>90.0</td>\n      <td>91.0</td>\n      <td>92.0</td>\n      <td>5.0</td>\n      <td>90.5</td>\n    </tr>\n    <tr>\n      <th>2023-01-24 00:00:00</th>\n      <td>93.0</td>\n      <td>94.0</td>\n      <td>95.0</td>\n      <td>96.0</td>\n      <td>5.0</td>\n      <td>94.5</td>\n    </tr>\n    <tr>\n      <th>2023-01-25 00:00:00</th>\n      <td>97.0</td>\n      <td>98.0</td>\n      <td>99.0</td>\n      <td>100.0</td>\n      <td>5.0</td>\n      <td>98.5</td>\n    </tr>\n    <tr>\n      <th>2023-01-26 00:00:00</th>\n      <td>-101.0</td>\n      <td>-102.0</td>\n      <td>-103.0</td>\n      <td>-104.0</td>\n      <td>5.0</td>\n      <td>-102.5</td>\n    </tr>\n    <tr>\n      <th>2023-01-27 00:00:00</th>\n      <td>-105.0</td>\n      <td>-106.0</td>\n      <td>-107.0</td>\n      <td>-108.0</td>\n      <td>5.0</td>\n      <td>-106.5</td>\n    </tr>\n    <tr>\n      <th>2023-01-28 00:00:00</th>\n      <td>-109.0</td>\n      <td>-110.0</td>\n      <td>-111.0</td>\n      <td>-112.0</td>\n      <td>5.0</td>\n      <td>-110.5</td>\n    </tr>\n    <tr>\n      <th>2023-01-29 00:00:00</th>\n      <td>-113.0</td>\n      <td>-114.0</td>\n      <td>-115.0</td>\n      <td>-116.0</td>\n      <td>5.0</td>\n      <td>-114.5</td>\n    </tr>\n    <tr>\n      <th>2023-01-30 00:00:00</th>\n      <td>-117.0</td>\n      <td>-118.0</td>\n      <td>-119.0</td>\n      <td>-120.0</td>\n      <td>5.0</td>\n      <td>-118.5</td>\n    </tr>\n  </tbody>\n</table>\n</div>"
     },
     "execution_count": 228,
     "metadata": {},
     "output_type": "execute_result"
    }
   ],
   "source": [
    "# A where operation with setting:\n",
    "df5 = df.copy()\n",
    "df5[df5 > 100] = -df5\n",
    "df5"
   ],
   "metadata": {
    "collapsed": false,
    "pycharm": {
     "name": "#%%\n"
    }
   }
  },
  {
   "cell_type": "markdown",
   "source": [
    "## Missing data\n",
    "pandas primarily uses the value np.nan to represent missing data. It is by default not included in computations. See the [Missing Data](https://pandas.pydata.org/docs/user_guide/missing_data.html#missing-data) section."
   ],
   "metadata": {
    "collapsed": false,
    "pycharm": {
     "name": "#%% md\n"
    }
   }
  },
  {
   "cell_type": "code",
   "execution_count": 229,
   "outputs": [
    {
     "data": {
      "text/plain": "DatetimeIndex(['2023-01-01', '2023-01-02', '2023-01-03', '2023-01-04',\n               '2023-01-05', '2023-01-06', '2023-01-07', '2023-01-08',\n               '2023-01-09', '2023-01-10', '2023-01-11', '2023-01-12',\n               '2023-01-13', '2023-01-14', '2023-01-15', '2023-01-16',\n               '2023-01-17', '2023-01-18', '2023-01-19', '2023-01-20',\n               '2023-01-21', '2023-01-22', '2023-01-23', '2023-01-24',\n               '2023-01-25', '2023-01-26', '2023-01-27', '2023-01-28',\n               '2023-01-29', '2023-01-30'],\n              dtype='datetime64[ns]', freq='D')"
     },
     "execution_count": 229,
     "metadata": {},
     "output_type": "execute_result"
    }
   ],
   "source": [
    "# Reindexing allows you to change/add/delete the index on a specified axis. This returns a copy of the data:\n",
    "dates\n"
   ],
   "metadata": {
    "collapsed": false,
    "pycharm": {
     "name": "#%%\n"
    }
   }
  },
  {
   "cell_type": "code",
   "execution_count": 231,
   "outputs": [
    {
     "data": {
      "text/plain": "               A     B     C     D    E  mean   F\n2023-01-01   1.0   2.0   3.0   4.0  4.0   2.5 NaN\n2023-01-02   5.0   6.0   7.0   8.0  5.0   6.5 NaN\n2023-01-03   9.0  10.0  11.0  12.0  5.0  10.5 NaN\n2023-01-04  13.0  14.0  15.0  16.0  5.0  14.5 NaN",
      "text/html": "<div>\n<style scoped>\n    .dataframe tbody tr th:only-of-type {\n        vertical-align: middle;\n    }\n\n    .dataframe tbody tr th {\n        vertical-align: top;\n    }\n\n    .dataframe thead th {\n        text-align: right;\n    }\n</style>\n<table border=\"1\" class=\"dataframe\">\n  <thead>\n    <tr style=\"text-align: right;\">\n      <th></th>\n      <th>A</th>\n      <th>B</th>\n      <th>C</th>\n      <th>D</th>\n      <th>E</th>\n      <th>mean</th>\n      <th>F</th>\n    </tr>\n  </thead>\n  <tbody>\n    <tr>\n      <th>2023-01-01</th>\n      <td>1.0</td>\n      <td>2.0</td>\n      <td>3.0</td>\n      <td>4.0</td>\n      <td>4.0</td>\n      <td>2.5</td>\n      <td>NaN</td>\n    </tr>\n    <tr>\n      <th>2023-01-02</th>\n      <td>5.0</td>\n      <td>6.0</td>\n      <td>7.0</td>\n      <td>8.0</td>\n      <td>5.0</td>\n      <td>6.5</td>\n      <td>NaN</td>\n    </tr>\n    <tr>\n      <th>2023-01-03</th>\n      <td>9.0</td>\n      <td>10.0</td>\n      <td>11.0</td>\n      <td>12.0</td>\n      <td>5.0</td>\n      <td>10.5</td>\n      <td>NaN</td>\n    </tr>\n    <tr>\n      <th>2023-01-04</th>\n      <td>13.0</td>\n      <td>14.0</td>\n      <td>15.0</td>\n      <td>16.0</td>\n      <td>5.0</td>\n      <td>14.5</td>\n      <td>NaN</td>\n    </tr>\n  </tbody>\n</table>\n</div>"
     },
     "execution_count": 231,
     "metadata": {},
     "output_type": "execute_result"
    }
   ],
   "source": [
    "df1 = df.reindex(index=dates[0:4], columns=list(df.columns) + [\"F\"])\n",
    "df1\n"
   ],
   "metadata": {
    "collapsed": false,
    "pycharm": {
     "name": "#%%\n"
    }
   }
  },
  {
   "cell_type": "code",
   "execution_count": 233,
   "outputs": [
    {
     "data": {
      "text/plain": "               A     B     C     D    E  mean    F\n2023-01-01   1.0   2.0   3.0   4.0  1.0   2.5  1.0\n2023-01-02   5.0   6.0   7.0   8.0  1.0   6.5  1.0\n2023-01-03   9.0  10.0  11.0  12.0  5.0  10.5  NaN\n2023-01-04  13.0  14.0  15.0  16.0  5.0  14.5  NaN",
      "text/html": "<div>\n<style scoped>\n    .dataframe tbody tr th:only-of-type {\n        vertical-align: middle;\n    }\n\n    .dataframe tbody tr th {\n        vertical-align: top;\n    }\n\n    .dataframe thead th {\n        text-align: right;\n    }\n</style>\n<table border=\"1\" class=\"dataframe\">\n  <thead>\n    <tr style=\"text-align: right;\">\n      <th></th>\n      <th>A</th>\n      <th>B</th>\n      <th>C</th>\n      <th>D</th>\n      <th>E</th>\n      <th>mean</th>\n      <th>F</th>\n    </tr>\n  </thead>\n  <tbody>\n    <tr>\n      <th>2023-01-01</th>\n      <td>1.0</td>\n      <td>2.0</td>\n      <td>3.0</td>\n      <td>4.0</td>\n      <td>1.0</td>\n      <td>2.5</td>\n      <td>1.0</td>\n    </tr>\n    <tr>\n      <th>2023-01-02</th>\n      <td>5.0</td>\n      <td>6.0</td>\n      <td>7.0</td>\n      <td>8.0</td>\n      <td>1.0</td>\n      <td>6.5</td>\n      <td>1.0</td>\n    </tr>\n    <tr>\n      <th>2023-01-03</th>\n      <td>9.0</td>\n      <td>10.0</td>\n      <td>11.0</td>\n      <td>12.0</td>\n      <td>5.0</td>\n      <td>10.5</td>\n      <td>NaN</td>\n    </tr>\n    <tr>\n      <th>2023-01-04</th>\n      <td>13.0</td>\n      <td>14.0</td>\n      <td>15.0</td>\n      <td>16.0</td>\n      <td>5.0</td>\n      <td>14.5</td>\n      <td>NaN</td>\n    </tr>\n  </tbody>\n</table>\n</div>"
     },
     "execution_count": 233,
     "metadata": {},
     "output_type": "execute_result"
    }
   ],
   "source": [
    "df1.loc[dates[0]: dates[1], \"F\"] = 1\n",
    "df1\n"
   ],
   "metadata": {
    "collapsed": false,
    "pycharm": {
     "name": "#%%\n"
    }
   }
  },
  {
   "cell_type": "code",
   "execution_count": 234,
   "outputs": [
    {
     "data": {
      "text/plain": "              A    B    C    D    E  mean    F\n2023-01-01  1.0  2.0  3.0  4.0  1.0   2.5  1.0\n2023-01-02  5.0  6.0  7.0  8.0  1.0   6.5  1.0",
      "text/html": "<div>\n<style scoped>\n    .dataframe tbody tr th:only-of-type {\n        vertical-align: middle;\n    }\n\n    .dataframe tbody tr th {\n        vertical-align: top;\n    }\n\n    .dataframe thead th {\n        text-align: right;\n    }\n</style>\n<table border=\"1\" class=\"dataframe\">\n  <thead>\n    <tr style=\"text-align: right;\">\n      <th></th>\n      <th>A</th>\n      <th>B</th>\n      <th>C</th>\n      <th>D</th>\n      <th>E</th>\n      <th>mean</th>\n      <th>F</th>\n    </tr>\n  </thead>\n  <tbody>\n    <tr>\n      <th>2023-01-01</th>\n      <td>1.0</td>\n      <td>2.0</td>\n      <td>3.0</td>\n      <td>4.0</td>\n      <td>1.0</td>\n      <td>2.5</td>\n      <td>1.0</td>\n    </tr>\n    <tr>\n      <th>2023-01-02</th>\n      <td>5.0</td>\n      <td>6.0</td>\n      <td>7.0</td>\n      <td>8.0</td>\n      <td>1.0</td>\n      <td>6.5</td>\n      <td>1.0</td>\n    </tr>\n  </tbody>\n</table>\n</div>"
     },
     "execution_count": 234,
     "metadata": {},
     "output_type": "execute_result"
    }
   ],
   "source": [
    "# DataFrame.dropna() drops any rows that have missing data:\n",
    "df1.dropna(how=\"any\")\n"
   ],
   "metadata": {
    "collapsed": false,
    "pycharm": {
     "name": "#%%\n"
    }
   }
  },
  {
   "cell_type": "code",
   "execution_count": 236,
   "outputs": [
    {
     "data": {
      "text/plain": "               A     B     C     D    E  mean    F\n2023-01-01   1.0   2.0   3.0   4.0  1.0   2.5  1.0\n2023-01-02   5.0   6.0   7.0   8.0  1.0   6.5  1.0\n2023-01-03   9.0  10.0  11.0  12.0  5.0  10.5  NaN\n2023-01-04  13.0  14.0  15.0  16.0  5.0  14.5  NaN",
      "text/html": "<div>\n<style scoped>\n    .dataframe tbody tr th:only-of-type {\n        vertical-align: middle;\n    }\n\n    .dataframe tbody tr th {\n        vertical-align: top;\n    }\n\n    .dataframe thead th {\n        text-align: right;\n    }\n</style>\n<table border=\"1\" class=\"dataframe\">\n  <thead>\n    <tr style=\"text-align: right;\">\n      <th></th>\n      <th>A</th>\n      <th>B</th>\n      <th>C</th>\n      <th>D</th>\n      <th>E</th>\n      <th>mean</th>\n      <th>F</th>\n    </tr>\n  </thead>\n  <tbody>\n    <tr>\n      <th>2023-01-01</th>\n      <td>1.0</td>\n      <td>2.0</td>\n      <td>3.0</td>\n      <td>4.0</td>\n      <td>1.0</td>\n      <td>2.5</td>\n      <td>1.0</td>\n    </tr>\n    <tr>\n      <th>2023-01-02</th>\n      <td>5.0</td>\n      <td>6.0</td>\n      <td>7.0</td>\n      <td>8.0</td>\n      <td>1.0</td>\n      <td>6.5</td>\n      <td>1.0</td>\n    </tr>\n    <tr>\n      <th>2023-01-03</th>\n      <td>9.0</td>\n      <td>10.0</td>\n      <td>11.0</td>\n      <td>12.0</td>\n      <td>5.0</td>\n      <td>10.5</td>\n      <td>NaN</td>\n    </tr>\n    <tr>\n      <th>2023-01-04</th>\n      <td>13.0</td>\n      <td>14.0</td>\n      <td>15.0</td>\n      <td>16.0</td>\n      <td>5.0</td>\n      <td>14.5</td>\n      <td>NaN</td>\n    </tr>\n  </tbody>\n</table>\n</div>"
     },
     "execution_count": 236,
     "metadata": {},
     "output_type": "execute_result"
    }
   ],
   "source": [
    "df1.dropna(how=\"all\")\n"
   ],
   "metadata": {
    "collapsed": false,
    "pycharm": {
     "name": "#%%\n"
    }
   }
  },
  {
   "cell_type": "code",
   "execution_count": 238,
   "outputs": [
    {
     "data": {
      "text/plain": "               A     B     C     D    E  mean    F\n2023-01-01   1.0   2.0   3.0   4.0  1.0   2.5  1.0\n2023-01-02   5.0   6.0   7.0   8.0  1.0   6.5  1.0\n2023-01-03   9.0  10.0  11.0  12.0  5.0  10.5  5.0\n2023-01-04  13.0  14.0  15.0  16.0  5.0  14.5  5.0",
      "text/html": "<div>\n<style scoped>\n    .dataframe tbody tr th:only-of-type {\n        vertical-align: middle;\n    }\n\n    .dataframe tbody tr th {\n        vertical-align: top;\n    }\n\n    .dataframe thead th {\n        text-align: right;\n    }\n</style>\n<table border=\"1\" class=\"dataframe\">\n  <thead>\n    <tr style=\"text-align: right;\">\n      <th></th>\n      <th>A</th>\n      <th>B</th>\n      <th>C</th>\n      <th>D</th>\n      <th>E</th>\n      <th>mean</th>\n      <th>F</th>\n    </tr>\n  </thead>\n  <tbody>\n    <tr>\n      <th>2023-01-01</th>\n      <td>1.0</td>\n      <td>2.0</td>\n      <td>3.0</td>\n      <td>4.0</td>\n      <td>1.0</td>\n      <td>2.5</td>\n      <td>1.0</td>\n    </tr>\n    <tr>\n      <th>2023-01-02</th>\n      <td>5.0</td>\n      <td>6.0</td>\n      <td>7.0</td>\n      <td>8.0</td>\n      <td>1.0</td>\n      <td>6.5</td>\n      <td>1.0</td>\n    </tr>\n    <tr>\n      <th>2023-01-03</th>\n      <td>9.0</td>\n      <td>10.0</td>\n      <td>11.0</td>\n      <td>12.0</td>\n      <td>5.0</td>\n      <td>10.5</td>\n      <td>5.0</td>\n    </tr>\n    <tr>\n      <th>2023-01-04</th>\n      <td>13.0</td>\n      <td>14.0</td>\n      <td>15.0</td>\n      <td>16.0</td>\n      <td>5.0</td>\n      <td>14.5</td>\n      <td>5.0</td>\n    </tr>\n  </tbody>\n</table>\n</div>"
     },
     "execution_count": 238,
     "metadata": {},
     "output_type": "execute_result"
    }
   ],
   "source": [
    "# DataFrame.fillna() fills missing data:\n",
    "df1.copy().fillna(value=5)"
   ],
   "metadata": {
    "collapsed": false,
    "pycharm": {
     "name": "#%%\n"
    }
   }
  },
  {
   "cell_type": "code",
   "execution_count": 239,
   "outputs": [
    {
     "data": {
      "text/plain": "               A     B     C     D    E  mean    F\n2023-01-01   1.0   2.0   3.0   4.0  1.0   2.5  1.0\n2023-01-02   5.0   6.0   7.0   8.0  1.0   6.5  1.0\n2023-01-03   9.0  10.0  11.0  12.0  5.0  10.5  NaN\n2023-01-04  13.0  14.0  15.0  16.0  5.0  14.5  NaN",
      "text/html": "<div>\n<style scoped>\n    .dataframe tbody tr th:only-of-type {\n        vertical-align: middle;\n    }\n\n    .dataframe tbody tr th {\n        vertical-align: top;\n    }\n\n    .dataframe thead th {\n        text-align: right;\n    }\n</style>\n<table border=\"1\" class=\"dataframe\">\n  <thead>\n    <tr style=\"text-align: right;\">\n      <th></th>\n      <th>A</th>\n      <th>B</th>\n      <th>C</th>\n      <th>D</th>\n      <th>E</th>\n      <th>mean</th>\n      <th>F</th>\n    </tr>\n  </thead>\n  <tbody>\n    <tr>\n      <th>2023-01-01</th>\n      <td>1.0</td>\n      <td>2.0</td>\n      <td>3.0</td>\n      <td>4.0</td>\n      <td>1.0</td>\n      <td>2.5</td>\n      <td>1.0</td>\n    </tr>\n    <tr>\n      <th>2023-01-02</th>\n      <td>5.0</td>\n      <td>6.0</td>\n      <td>7.0</td>\n      <td>8.0</td>\n      <td>1.0</td>\n      <td>6.5</td>\n      <td>1.0</td>\n    </tr>\n    <tr>\n      <th>2023-01-03</th>\n      <td>9.0</td>\n      <td>10.0</td>\n      <td>11.0</td>\n      <td>12.0</td>\n      <td>5.0</td>\n      <td>10.5</td>\n      <td>NaN</td>\n    </tr>\n    <tr>\n      <th>2023-01-04</th>\n      <td>13.0</td>\n      <td>14.0</td>\n      <td>15.0</td>\n      <td>16.0</td>\n      <td>5.0</td>\n      <td>14.5</td>\n      <td>NaN</td>\n    </tr>\n  </tbody>\n</table>\n</div>"
     },
     "execution_count": 239,
     "metadata": {},
     "output_type": "execute_result"
    }
   ],
   "source": [
    "df1\n"
   ],
   "metadata": {
    "collapsed": false,
    "pycharm": {
     "name": "#%%\n"
    }
   }
  },
  {
   "cell_type": "code",
   "execution_count": 240,
   "outputs": [
    {
     "data": {
      "text/plain": "                A      B      C      D      E   mean      F\n2023-01-01  False  False  False  False  False  False  False\n2023-01-02  False  False  False  False  False  False  False\n2023-01-03  False  False  False  False  False  False   True\n2023-01-04  False  False  False  False  False  False   True",
      "text/html": "<div>\n<style scoped>\n    .dataframe tbody tr th:only-of-type {\n        vertical-align: middle;\n    }\n\n    .dataframe tbody tr th {\n        vertical-align: top;\n    }\n\n    .dataframe thead th {\n        text-align: right;\n    }\n</style>\n<table border=\"1\" class=\"dataframe\">\n  <thead>\n    <tr style=\"text-align: right;\">\n      <th></th>\n      <th>A</th>\n      <th>B</th>\n      <th>C</th>\n      <th>D</th>\n      <th>E</th>\n      <th>mean</th>\n      <th>F</th>\n    </tr>\n  </thead>\n  <tbody>\n    <tr>\n      <th>2023-01-01</th>\n      <td>False</td>\n      <td>False</td>\n      <td>False</td>\n      <td>False</td>\n      <td>False</td>\n      <td>False</td>\n      <td>False</td>\n    </tr>\n    <tr>\n      <th>2023-01-02</th>\n      <td>False</td>\n      <td>False</td>\n      <td>False</td>\n      <td>False</td>\n      <td>False</td>\n      <td>False</td>\n      <td>False</td>\n    </tr>\n    <tr>\n      <th>2023-01-03</th>\n      <td>False</td>\n      <td>False</td>\n      <td>False</td>\n      <td>False</td>\n      <td>False</td>\n      <td>False</td>\n      <td>True</td>\n    </tr>\n    <tr>\n      <th>2023-01-04</th>\n      <td>False</td>\n      <td>False</td>\n      <td>False</td>\n      <td>False</td>\n      <td>False</td>\n      <td>False</td>\n      <td>True</td>\n    </tr>\n  </tbody>\n</table>\n</div>"
     },
     "execution_count": 240,
     "metadata": {},
     "output_type": "execute_result"
    }
   ],
   "source": [
    "# isna() gets the boolean mask where values are nan:\n",
    "pd.isna(df1)\n"
   ],
   "metadata": {
    "collapsed": false,
    "pycharm": {
     "name": "#%%\n"
    }
   }
  },
  {
   "cell_type": "markdown",
   "source": [
    "## Operations\n",
    "See the [Basic section on Binary Ops](https://pandas.pydata.org/docs/user_guide/basics.html#basics-binop)."
   ],
   "metadata": {
    "collapsed": false,
    "pycharm": {
     "name": "#%% md\n"
    }
   }
  },
  {
   "cell_type": "markdown",
   "source": [
    "## Stats\n",
    "Operations in general exclude missing data.\n"
   ],
   "metadata": {
    "collapsed": false,
    "pycharm": {
     "name": "#%% md\n"
    }
   }
  },
  {
   "cell_type": "code",
   "execution_count": 243,
   "outputs": [
    {
     "data": {
      "text/plain": "A       59.000000\nB       60.000000\nC       61.000000\nD       62.000000\nE        4.966667\nmean    60.500000\ndtype: float64"
     },
     "execution_count": 243,
     "metadata": {},
     "output_type": "execute_result"
    }
   ],
   "source": [
    "# Performing a descriptive statistic:\n",
    "df.mean()"
   ],
   "metadata": {
    "collapsed": false,
    "pycharm": {
     "name": "#%%\n"
    }
   }
  },
  {
   "cell_type": "code",
   "execution_count": 244,
   "outputs": [
    {
     "data": {
      "text/plain": "2023-01-01     2.750000\n2023-01-02     6.250000\n2023-01-03     9.583333\n2023-01-04    12.916667\n2023-01-05    16.250000\n2023-01-06    19.583333\n2023-01-07    22.916667\n2023-01-08    26.250000\n2023-01-09    29.583333\n2023-01-10    32.916667\n2023-01-11    36.250000\n2023-01-12    39.583333\n2023-01-13    42.916667\n2023-01-14    46.250000\n2023-01-15    49.583333\n2023-01-16    52.916667\n2023-01-17    56.250000\n2023-01-18    59.583333\n2023-01-19    62.916667\n2023-01-20    66.250000\n2023-01-21    69.583333\n2023-01-22    72.916667\n2023-01-23    76.250000\n2023-01-24    79.583333\n2023-01-25    82.916667\n2023-01-26    86.250000\n2023-01-27    89.583333\n2023-01-28    92.916667\n2023-01-29    96.250000\n2023-01-30    99.583333\ndtype: float64"
     },
     "execution_count": 244,
     "metadata": {},
     "output_type": "execute_result"
    }
   ],
   "source": [
    "# Same operation on the other axis:\n",
    "df.mean(axis=1)\n"
   ],
   "metadata": {
    "collapsed": false,
    "pycharm": {
     "name": "#%%\n"
    }
   }
  },
  {
   "cell_type": "code",
   "execution_count": 246,
   "outputs": [],
   "source": [
    "df = original_data.copy()\n"
   ],
   "metadata": {
    "collapsed": false,
    "pycharm": {
     "name": "#%%\n"
    }
   }
  },
  {
   "cell_type": "code",
   "execution_count": 247,
   "outputs": [
    {
     "data": {
      "text/plain": "2023-01-01      2.5\n2023-01-02      6.5\n2023-01-03     10.5\n2023-01-04     14.5\n2023-01-05     18.5\n2023-01-06     22.5\n2023-01-07     26.5\n2023-01-08     30.5\n2023-01-09     34.5\n2023-01-10     38.5\n2023-01-11     42.5\n2023-01-12     46.5\n2023-01-13     50.5\n2023-01-14     54.5\n2023-01-15     58.5\n2023-01-16     62.5\n2023-01-17     66.5\n2023-01-18     70.5\n2023-01-19     74.5\n2023-01-20     78.5\n2023-01-21     82.5\n2023-01-22     86.5\n2023-01-23     90.5\n2023-01-24     94.5\n2023-01-25     98.5\n2023-01-26    102.5\n2023-01-27    106.5\n2023-01-28    110.5\n2023-01-29    114.5\n2023-01-30    118.5\nFreq: D, dtype: float64"
     },
     "execution_count": 247,
     "metadata": {},
     "output_type": "execute_result"
    }
   ],
   "source": [
    "df.mean(axis=1)\n"
   ],
   "metadata": {
    "collapsed": false,
    "pycharm": {
     "name": "#%%\n"
    }
   }
  },
  {
   "cell_type": "code",
   "execution_count": 248,
   "outputs": [
    {
     "data": {
      "text/plain": "              A    B    C    D   mean\n2023-01-01    1    2    3    4    2.5\n2023-01-02    5    6    7    8    6.5\n2023-01-03    9   10   11   12   10.5\n2023-01-04   13   14   15   16   14.5\n2023-01-05   17   18   19   20   18.5\n2023-01-06   21   22   23   24   22.5\n2023-01-07   25   26   27   28   26.5\n2023-01-08   29   30   31   32   30.5\n2023-01-09   33   34   35   36   34.5\n2023-01-10   37   38   39   40   38.5\n2023-01-11   41   42   43   44   42.5\n2023-01-12   45   46   47   48   46.5\n2023-01-13   49   50   51   52   50.5\n2023-01-14   53   54   55   56   54.5\n2023-01-15   57   58   59   60   58.5\n2023-01-16   61   62   63   64   62.5\n2023-01-17   65   66   67   68   66.5\n2023-01-18   69   70   71   72   70.5\n2023-01-19   73   74   75   76   74.5\n2023-01-20   77   78   79   80   78.5\n2023-01-21   81   82   83   84   82.5\n2023-01-22   85   86   87   88   86.5\n2023-01-23   89   90   91   92   90.5\n2023-01-24   93   94   95   96   94.5\n2023-01-25   97   98   99  100   98.5\n2023-01-26  101  102  103  104  102.5\n2023-01-27  105  106  107  108  106.5\n2023-01-28  109  110  111  112  110.5\n2023-01-29  113  114  115  116  114.5\n2023-01-30  117  118  119  120  118.5",
      "text/html": "<div>\n<style scoped>\n    .dataframe tbody tr th:only-of-type {\n        vertical-align: middle;\n    }\n\n    .dataframe tbody tr th {\n        vertical-align: top;\n    }\n\n    .dataframe thead th {\n        text-align: right;\n    }\n</style>\n<table border=\"1\" class=\"dataframe\">\n  <thead>\n    <tr style=\"text-align: right;\">\n      <th></th>\n      <th>A</th>\n      <th>B</th>\n      <th>C</th>\n      <th>D</th>\n      <th>mean</th>\n    </tr>\n  </thead>\n  <tbody>\n    <tr>\n      <th>2023-01-01</th>\n      <td>1</td>\n      <td>2</td>\n      <td>3</td>\n      <td>4</td>\n      <td>2.5</td>\n    </tr>\n    <tr>\n      <th>2023-01-02</th>\n      <td>5</td>\n      <td>6</td>\n      <td>7</td>\n      <td>8</td>\n      <td>6.5</td>\n    </tr>\n    <tr>\n      <th>2023-01-03</th>\n      <td>9</td>\n      <td>10</td>\n      <td>11</td>\n      <td>12</td>\n      <td>10.5</td>\n    </tr>\n    <tr>\n      <th>2023-01-04</th>\n      <td>13</td>\n      <td>14</td>\n      <td>15</td>\n      <td>16</td>\n      <td>14.5</td>\n    </tr>\n    <tr>\n      <th>2023-01-05</th>\n      <td>17</td>\n      <td>18</td>\n      <td>19</td>\n      <td>20</td>\n      <td>18.5</td>\n    </tr>\n    <tr>\n      <th>2023-01-06</th>\n      <td>21</td>\n      <td>22</td>\n      <td>23</td>\n      <td>24</td>\n      <td>22.5</td>\n    </tr>\n    <tr>\n      <th>2023-01-07</th>\n      <td>25</td>\n      <td>26</td>\n      <td>27</td>\n      <td>28</td>\n      <td>26.5</td>\n    </tr>\n    <tr>\n      <th>2023-01-08</th>\n      <td>29</td>\n      <td>30</td>\n      <td>31</td>\n      <td>32</td>\n      <td>30.5</td>\n    </tr>\n    <tr>\n      <th>2023-01-09</th>\n      <td>33</td>\n      <td>34</td>\n      <td>35</td>\n      <td>36</td>\n      <td>34.5</td>\n    </tr>\n    <tr>\n      <th>2023-01-10</th>\n      <td>37</td>\n      <td>38</td>\n      <td>39</td>\n      <td>40</td>\n      <td>38.5</td>\n    </tr>\n    <tr>\n      <th>2023-01-11</th>\n      <td>41</td>\n      <td>42</td>\n      <td>43</td>\n      <td>44</td>\n      <td>42.5</td>\n    </tr>\n    <tr>\n      <th>2023-01-12</th>\n      <td>45</td>\n      <td>46</td>\n      <td>47</td>\n      <td>48</td>\n      <td>46.5</td>\n    </tr>\n    <tr>\n      <th>2023-01-13</th>\n      <td>49</td>\n      <td>50</td>\n      <td>51</td>\n      <td>52</td>\n      <td>50.5</td>\n    </tr>\n    <tr>\n      <th>2023-01-14</th>\n      <td>53</td>\n      <td>54</td>\n      <td>55</td>\n      <td>56</td>\n      <td>54.5</td>\n    </tr>\n    <tr>\n      <th>2023-01-15</th>\n      <td>57</td>\n      <td>58</td>\n      <td>59</td>\n      <td>60</td>\n      <td>58.5</td>\n    </tr>\n    <tr>\n      <th>2023-01-16</th>\n      <td>61</td>\n      <td>62</td>\n      <td>63</td>\n      <td>64</td>\n      <td>62.5</td>\n    </tr>\n    <tr>\n      <th>2023-01-17</th>\n      <td>65</td>\n      <td>66</td>\n      <td>67</td>\n      <td>68</td>\n      <td>66.5</td>\n    </tr>\n    <tr>\n      <th>2023-01-18</th>\n      <td>69</td>\n      <td>70</td>\n      <td>71</td>\n      <td>72</td>\n      <td>70.5</td>\n    </tr>\n    <tr>\n      <th>2023-01-19</th>\n      <td>73</td>\n      <td>74</td>\n      <td>75</td>\n      <td>76</td>\n      <td>74.5</td>\n    </tr>\n    <tr>\n      <th>2023-01-20</th>\n      <td>77</td>\n      <td>78</td>\n      <td>79</td>\n      <td>80</td>\n      <td>78.5</td>\n    </tr>\n    <tr>\n      <th>2023-01-21</th>\n      <td>81</td>\n      <td>82</td>\n      <td>83</td>\n      <td>84</td>\n      <td>82.5</td>\n    </tr>\n    <tr>\n      <th>2023-01-22</th>\n      <td>85</td>\n      <td>86</td>\n      <td>87</td>\n      <td>88</td>\n      <td>86.5</td>\n    </tr>\n    <tr>\n      <th>2023-01-23</th>\n      <td>89</td>\n      <td>90</td>\n      <td>91</td>\n      <td>92</td>\n      <td>90.5</td>\n    </tr>\n    <tr>\n      <th>2023-01-24</th>\n      <td>93</td>\n      <td>94</td>\n      <td>95</td>\n      <td>96</td>\n      <td>94.5</td>\n    </tr>\n    <tr>\n      <th>2023-01-25</th>\n      <td>97</td>\n      <td>98</td>\n      <td>99</td>\n      <td>100</td>\n      <td>98.5</td>\n    </tr>\n    <tr>\n      <th>2023-01-26</th>\n      <td>101</td>\n      <td>102</td>\n      <td>103</td>\n      <td>104</td>\n      <td>102.5</td>\n    </tr>\n    <tr>\n      <th>2023-01-27</th>\n      <td>105</td>\n      <td>106</td>\n      <td>107</td>\n      <td>108</td>\n      <td>106.5</td>\n    </tr>\n    <tr>\n      <th>2023-01-28</th>\n      <td>109</td>\n      <td>110</td>\n      <td>111</td>\n      <td>112</td>\n      <td>110.5</td>\n    </tr>\n    <tr>\n      <th>2023-01-29</th>\n      <td>113</td>\n      <td>114</td>\n      <td>115</td>\n      <td>116</td>\n      <td>114.5</td>\n    </tr>\n    <tr>\n      <th>2023-01-30</th>\n      <td>117</td>\n      <td>118</td>\n      <td>119</td>\n      <td>120</td>\n      <td>118.5</td>\n    </tr>\n  </tbody>\n</table>\n</div>"
     },
     "execution_count": 248,
     "metadata": {},
     "output_type": "execute_result"
    }
   ],
   "source": [
    "# Great, a simple way to assign mean to the whole data frame\n",
    "df.loc[:, \"mean\"] = df.mean(axis=1)\n",
    "df\n"
   ],
   "metadata": {
    "collapsed": false,
    "pycharm": {
     "name": "#%%\n"
    }
   }
  },
  {
   "cell_type": "code",
   "execution_count": 264,
   "outputs": [
    {
     "data": {
      "text/plain": "2023-01-01    NaN\n2023-01-02    NaN\n2023-01-03    1.0\n2023-01-04    3.0\n2023-01-05    5.0\n2023-01-06    NaN\nFreq: D, dtype: float64"
     },
     "execution_count": 264,
     "metadata": {},
     "output_type": "execute_result"
    }
   ],
   "source": [
    "# Operating with objects that have different dimensionality and need alignment. In addition, pandas automatically broadcasts along the specified dimension:\n",
    "s1 = pd.Series([1,3,5,np.nan, 6,8], index=dates[0:6]).shift(2)\n",
    "s1\n"
   ],
   "metadata": {
    "collapsed": false,
    "pycharm": {
     "name": "#%%\n"
    }
   }
  },
  {
   "cell_type": "code",
   "execution_count": 262,
   "outputs": [
    {
     "data": {
      "text/plain": "2023-01-01    55.0\n2023-01-02    55.0\n2023-01-03     1.0\n2023-01-04     3.0\n2023-01-05     5.0\n2023-01-06     NaN\nFreq: D, dtype: float64"
     },
     "execution_count": 262,
     "metadata": {},
     "output_type": "execute_result"
    }
   ],
   "source": [
    "s2 = pd.Series([1,3,5,np.nan, 6,8], index=dates[0:6]).shift(periods=2, fill_value=55)\n",
    "s2"
   ],
   "metadata": {
    "collapsed": false,
    "pycharm": {
     "name": "#%%\n"
    }
   }
  },
  {
   "cell_type": "code",
   "execution_count": 265,
   "outputs": [
    {
     "data": {
      "text/plain": "               A     B     C     D  mean\n2023-01-01   NaN   NaN   NaN   NaN   NaN\n2023-01-02   NaN   NaN   NaN   NaN   NaN\n2023-01-03   8.0   9.0  10.0  11.0   9.5\n2023-01-04  10.0  11.0  12.0  13.0  11.5\n2023-01-05  12.0  13.0  14.0  15.0  13.5\n2023-01-06   NaN   NaN   NaN   NaN   NaN\n2023-01-07   NaN   NaN   NaN   NaN   NaN\n2023-01-08   NaN   NaN   NaN   NaN   NaN\n2023-01-09   NaN   NaN   NaN   NaN   NaN\n2023-01-10   NaN   NaN   NaN   NaN   NaN\n2023-01-11   NaN   NaN   NaN   NaN   NaN\n2023-01-12   NaN   NaN   NaN   NaN   NaN\n2023-01-13   NaN   NaN   NaN   NaN   NaN\n2023-01-14   NaN   NaN   NaN   NaN   NaN\n2023-01-15   NaN   NaN   NaN   NaN   NaN\n2023-01-16   NaN   NaN   NaN   NaN   NaN\n2023-01-17   NaN   NaN   NaN   NaN   NaN\n2023-01-18   NaN   NaN   NaN   NaN   NaN\n2023-01-19   NaN   NaN   NaN   NaN   NaN\n2023-01-20   NaN   NaN   NaN   NaN   NaN\n2023-01-21   NaN   NaN   NaN   NaN   NaN\n2023-01-22   NaN   NaN   NaN   NaN   NaN\n2023-01-23   NaN   NaN   NaN   NaN   NaN\n2023-01-24   NaN   NaN   NaN   NaN   NaN\n2023-01-25   NaN   NaN   NaN   NaN   NaN\n2023-01-26   NaN   NaN   NaN   NaN   NaN\n2023-01-27   NaN   NaN   NaN   NaN   NaN\n2023-01-28   NaN   NaN   NaN   NaN   NaN\n2023-01-29   NaN   NaN   NaN   NaN   NaN\n2023-01-30   NaN   NaN   NaN   NaN   NaN",
      "text/html": "<div>\n<style scoped>\n    .dataframe tbody tr th:only-of-type {\n        vertical-align: middle;\n    }\n\n    .dataframe tbody tr th {\n        vertical-align: top;\n    }\n\n    .dataframe thead th {\n        text-align: right;\n    }\n</style>\n<table border=\"1\" class=\"dataframe\">\n  <thead>\n    <tr style=\"text-align: right;\">\n      <th></th>\n      <th>A</th>\n      <th>B</th>\n      <th>C</th>\n      <th>D</th>\n      <th>mean</th>\n    </tr>\n  </thead>\n  <tbody>\n    <tr>\n      <th>2023-01-01</th>\n      <td>NaN</td>\n      <td>NaN</td>\n      <td>NaN</td>\n      <td>NaN</td>\n      <td>NaN</td>\n    </tr>\n    <tr>\n      <th>2023-01-02</th>\n      <td>NaN</td>\n      <td>NaN</td>\n      <td>NaN</td>\n      <td>NaN</td>\n      <td>NaN</td>\n    </tr>\n    <tr>\n      <th>2023-01-03</th>\n      <td>8.0</td>\n      <td>9.0</td>\n      <td>10.0</td>\n      <td>11.0</td>\n      <td>9.5</td>\n    </tr>\n    <tr>\n      <th>2023-01-04</th>\n      <td>10.0</td>\n      <td>11.0</td>\n      <td>12.0</td>\n      <td>13.0</td>\n      <td>11.5</td>\n    </tr>\n    <tr>\n      <th>2023-01-05</th>\n      <td>12.0</td>\n      <td>13.0</td>\n      <td>14.0</td>\n      <td>15.0</td>\n      <td>13.5</td>\n    </tr>\n    <tr>\n      <th>2023-01-06</th>\n      <td>NaN</td>\n      <td>NaN</td>\n      <td>NaN</td>\n      <td>NaN</td>\n      <td>NaN</td>\n    </tr>\n    <tr>\n      <th>2023-01-07</th>\n      <td>NaN</td>\n      <td>NaN</td>\n      <td>NaN</td>\n      <td>NaN</td>\n      <td>NaN</td>\n    </tr>\n    <tr>\n      <th>2023-01-08</th>\n      <td>NaN</td>\n      <td>NaN</td>\n      <td>NaN</td>\n      <td>NaN</td>\n      <td>NaN</td>\n    </tr>\n    <tr>\n      <th>2023-01-09</th>\n      <td>NaN</td>\n      <td>NaN</td>\n      <td>NaN</td>\n      <td>NaN</td>\n      <td>NaN</td>\n    </tr>\n    <tr>\n      <th>2023-01-10</th>\n      <td>NaN</td>\n      <td>NaN</td>\n      <td>NaN</td>\n      <td>NaN</td>\n      <td>NaN</td>\n    </tr>\n    <tr>\n      <th>2023-01-11</th>\n      <td>NaN</td>\n      <td>NaN</td>\n      <td>NaN</td>\n      <td>NaN</td>\n      <td>NaN</td>\n    </tr>\n    <tr>\n      <th>2023-01-12</th>\n      <td>NaN</td>\n      <td>NaN</td>\n      <td>NaN</td>\n      <td>NaN</td>\n      <td>NaN</td>\n    </tr>\n    <tr>\n      <th>2023-01-13</th>\n      <td>NaN</td>\n      <td>NaN</td>\n      <td>NaN</td>\n      <td>NaN</td>\n      <td>NaN</td>\n    </tr>\n    <tr>\n      <th>2023-01-14</th>\n      <td>NaN</td>\n      <td>NaN</td>\n      <td>NaN</td>\n      <td>NaN</td>\n      <td>NaN</td>\n    </tr>\n    <tr>\n      <th>2023-01-15</th>\n      <td>NaN</td>\n      <td>NaN</td>\n      <td>NaN</td>\n      <td>NaN</td>\n      <td>NaN</td>\n    </tr>\n    <tr>\n      <th>2023-01-16</th>\n      <td>NaN</td>\n      <td>NaN</td>\n      <td>NaN</td>\n      <td>NaN</td>\n      <td>NaN</td>\n    </tr>\n    <tr>\n      <th>2023-01-17</th>\n      <td>NaN</td>\n      <td>NaN</td>\n      <td>NaN</td>\n      <td>NaN</td>\n      <td>NaN</td>\n    </tr>\n    <tr>\n      <th>2023-01-18</th>\n      <td>NaN</td>\n      <td>NaN</td>\n      <td>NaN</td>\n      <td>NaN</td>\n      <td>NaN</td>\n    </tr>\n    <tr>\n      <th>2023-01-19</th>\n      <td>NaN</td>\n      <td>NaN</td>\n      <td>NaN</td>\n      <td>NaN</td>\n      <td>NaN</td>\n    </tr>\n    <tr>\n      <th>2023-01-20</th>\n      <td>NaN</td>\n      <td>NaN</td>\n      <td>NaN</td>\n      <td>NaN</td>\n      <td>NaN</td>\n    </tr>\n    <tr>\n      <th>2023-01-21</th>\n      <td>NaN</td>\n      <td>NaN</td>\n      <td>NaN</td>\n      <td>NaN</td>\n      <td>NaN</td>\n    </tr>\n    <tr>\n      <th>2023-01-22</th>\n      <td>NaN</td>\n      <td>NaN</td>\n      <td>NaN</td>\n      <td>NaN</td>\n      <td>NaN</td>\n    </tr>\n    <tr>\n      <th>2023-01-23</th>\n      <td>NaN</td>\n      <td>NaN</td>\n      <td>NaN</td>\n      <td>NaN</td>\n      <td>NaN</td>\n    </tr>\n    <tr>\n      <th>2023-01-24</th>\n      <td>NaN</td>\n      <td>NaN</td>\n      <td>NaN</td>\n      <td>NaN</td>\n      <td>NaN</td>\n    </tr>\n    <tr>\n      <th>2023-01-25</th>\n      <td>NaN</td>\n      <td>NaN</td>\n      <td>NaN</td>\n      <td>NaN</td>\n      <td>NaN</td>\n    </tr>\n    <tr>\n      <th>2023-01-26</th>\n      <td>NaN</td>\n      <td>NaN</td>\n      <td>NaN</td>\n      <td>NaN</td>\n      <td>NaN</td>\n    </tr>\n    <tr>\n      <th>2023-01-27</th>\n      <td>NaN</td>\n      <td>NaN</td>\n      <td>NaN</td>\n      <td>NaN</td>\n      <td>NaN</td>\n    </tr>\n    <tr>\n      <th>2023-01-28</th>\n      <td>NaN</td>\n      <td>NaN</td>\n      <td>NaN</td>\n      <td>NaN</td>\n      <td>NaN</td>\n    </tr>\n    <tr>\n      <th>2023-01-29</th>\n      <td>NaN</td>\n      <td>NaN</td>\n      <td>NaN</td>\n      <td>NaN</td>\n      <td>NaN</td>\n    </tr>\n    <tr>\n      <th>2023-01-30</th>\n      <td>NaN</td>\n      <td>NaN</td>\n      <td>NaN</td>\n      <td>NaN</td>\n      <td>NaN</td>\n    </tr>\n  </tbody>\n</table>\n</div>"
     },
     "execution_count": 265,
     "metadata": {},
     "output_type": "execute_result"
    }
   ],
   "source": [
    "df.sub(s1, axis=\"index\")\n"
   ],
   "metadata": {
    "collapsed": false,
    "pycharm": {
     "name": "#%%\n"
    }
   }
  },
  {
   "cell_type": "code",
   "execution_count": null,
   "outputs": [],
   "source": [],
   "metadata": {
    "collapsed": false,
    "pycharm": {
     "name": "#%%\n"
    }
   }
  }
 ],
 "metadata": {
  "kernelspec": {
   "display_name": "Python 3",
   "language": "python",
   "name": "python3"
  },
  "language_info": {
   "codemirror_mode": {
    "name": "ipython",
    "version": 2
   },
   "file_extension": ".py",
   "mimetype": "text/x-python",
   "name": "python",
   "nbconvert_exporter": "python",
   "pygments_lexer": "ipython2",
   "version": "2.7.6"
  }
 },
 "nbformat": 4,
 "nbformat_minor": 0
}