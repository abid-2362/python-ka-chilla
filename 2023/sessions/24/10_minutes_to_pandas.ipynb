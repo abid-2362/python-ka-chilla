{
 "cells": [
  {
   "cell_type": "markdown",
   "source": [
    "# 10 Minutes to Pandas\n",
    "[reference](https://pandas.pydata.org/docs/user_guide/10min.html)\n",
    "https://pandas.pydata.org/docs/user_guide/10min.html\n",
    "\n",
    "fiverr.com/abd_soft\n"
   ],
   "metadata": {
    "collapsed": false,
    "pycharm": {
     "name": "#%% md\n"
    }
   }
  },
  {
   "cell_type": "markdown",
   "source": [
    "## Object creation\n"
   ],
   "metadata": {
    "collapsed": false,
    "pycharm": {
     "name": "#%% md\n"
    }
   }
  },
  {
   "cell_type": "code",
   "execution_count": 2,
   "outputs": [
    {
     "data": {
      "text/plain": "0    1\n1    2\n2    3\n3    4\n4    5\n5    6\ndtype: int32"
     },
     "execution_count": 2,
     "metadata": {},
     "output_type": "execute_result"
    }
   ],
   "source": [
    "import pandas as pd\n",
    "import numpy as np\n",
    "\n",
    "arr1 = np.array([1,2,3,4,5,6])\n",
    "s = pd.Series(arr1)\n",
    "s\n"
   ],
   "metadata": {
    "collapsed": false,
    "pycharm": {
     "name": "#%%\n"
    }
   }
  },
  {
   "cell_type": "code",
   "execution_count": 5,
   "outputs": [
    {
     "data": {
      "text/plain": "DatetimeIndex(['2023-01-01', '2023-01-02', '2023-01-03', '2023-01-04',\n               '2023-01-05', '2023-01-06', '2023-01-07', '2023-01-08',\n               '2023-01-09', '2023-01-10', '2023-01-11', '2023-01-12',\n               '2023-01-13', '2023-01-14', '2023-01-15', '2023-01-16',\n               '2023-01-17', '2023-01-18', '2023-01-19', '2023-01-20',\n               '2023-01-21', '2023-01-22', '2023-01-23', '2023-01-24',\n               '2023-01-25', '2023-01-26', '2023-01-27', '2023-01-28',\n               '2023-01-29', '2023-01-30'],\n              dtype='datetime64[ns]', freq='D')"
     },
     "execution_count": 5,
     "metadata": {},
     "output_type": "execute_result"
    }
   ],
   "source": [
    "# Creating a DataFrame by passing a NumPy array, with a datetime index using date_range() and labeled columns:\n",
    "dates = pd.date_range(\"20230101\", periods=30)\n",
    "dates"
   ],
   "metadata": {
    "collapsed": false,
    "pycharm": {
     "name": "#%%\n"
    }
   }
  },
  {
   "cell_type": "code",
   "execution_count": 11,
   "outputs": [
    {
     "data": {
      "text/plain": "array([[  1,   2,   3,   4],\n       [  5,   6,   7,   8],\n       [  9,  10,  11,  12],\n       [ 13,  14,  15,  16],\n       [ 17,  18,  19,  20],\n       [ 21,  22,  23,  24],\n       [ 25,  26,  27,  28],\n       [ 29,  30,  31,  32],\n       [ 33,  34,  35,  36],\n       [ 37,  38,  39,  40],\n       [ 41,  42,  43,  44],\n       [ 45,  46,  47,  48],\n       [ 49,  50,  51,  52],\n       [ 53,  54,  55,  56],\n       [ 57,  58,  59,  60],\n       [ 61,  62,  63,  64],\n       [ 65,  66,  67,  68],\n       [ 69,  70,  71,  72],\n       [ 73,  74,  75,  76],\n       [ 77,  78,  79,  80],\n       [ 81,  82,  83,  84],\n       [ 85,  86,  87,  88],\n       [ 89,  90,  91,  92],\n       [ 93,  94,  95,  96],\n       [ 97,  98,  99, 100],\n       [101, 102, 103, 104],\n       [105, 106, 107, 108],\n       [109, 110, 111, 112],\n       [113, 114, 115, 116],\n       [117, 118, 119, 120]])"
     },
     "execution_count": 11,
     "metadata": {},
     "output_type": "execute_result"
    }
   ],
   "source": [
    "arr = np.arange(1, 121)\n",
    "arr_2d = arr.reshape(30,4)\n",
    "arr_2d"
   ],
   "metadata": {
    "collapsed": false,
    "pycharm": {
     "name": "#%%\n"
    }
   }
  },
  {
   "cell_type": "code",
   "execution_count": 245,
   "outputs": [
    {
     "data": {
      "text/plain": "              A    B    C    D\n2023-01-01    1    2    3    4\n2023-01-02    5    6    7    8\n2023-01-03    9   10   11   12\n2023-01-04   13   14   15   16\n2023-01-05   17   18   19   20\n2023-01-06   21   22   23   24\n2023-01-07   25   26   27   28\n2023-01-08   29   30   31   32\n2023-01-09   33   34   35   36\n2023-01-10   37   38   39   40\n2023-01-11   41   42   43   44\n2023-01-12   45   46   47   48\n2023-01-13   49   50   51   52\n2023-01-14   53   54   55   56\n2023-01-15   57   58   59   60\n2023-01-16   61   62   63   64\n2023-01-17   65   66   67   68\n2023-01-18   69   70   71   72\n2023-01-19   73   74   75   76\n2023-01-20   77   78   79   80\n2023-01-21   81   82   83   84\n2023-01-22   85   86   87   88\n2023-01-23   89   90   91   92\n2023-01-24   93   94   95   96\n2023-01-25   97   98   99  100\n2023-01-26  101  102  103  104\n2023-01-27  105  106  107  108\n2023-01-28  109  110  111  112\n2023-01-29  113  114  115  116\n2023-01-30  117  118  119  120",
      "text/html": "<div>\n<style scoped>\n    .dataframe tbody tr th:only-of-type {\n        vertical-align: middle;\n    }\n\n    .dataframe tbody tr th {\n        vertical-align: top;\n    }\n\n    .dataframe thead th {\n        text-align: right;\n    }\n</style>\n<table border=\"1\" class=\"dataframe\">\n  <thead>\n    <tr style=\"text-align: right;\">\n      <th></th>\n      <th>A</th>\n      <th>B</th>\n      <th>C</th>\n      <th>D</th>\n    </tr>\n  </thead>\n  <tbody>\n    <tr>\n      <th>2023-01-01</th>\n      <td>1</td>\n      <td>2</td>\n      <td>3</td>\n      <td>4</td>\n    </tr>\n    <tr>\n      <th>2023-01-02</th>\n      <td>5</td>\n      <td>6</td>\n      <td>7</td>\n      <td>8</td>\n    </tr>\n    <tr>\n      <th>2023-01-03</th>\n      <td>9</td>\n      <td>10</td>\n      <td>11</td>\n      <td>12</td>\n    </tr>\n    <tr>\n      <th>2023-01-04</th>\n      <td>13</td>\n      <td>14</td>\n      <td>15</td>\n      <td>16</td>\n    </tr>\n    <tr>\n      <th>2023-01-05</th>\n      <td>17</td>\n      <td>18</td>\n      <td>19</td>\n      <td>20</td>\n    </tr>\n    <tr>\n      <th>2023-01-06</th>\n      <td>21</td>\n      <td>22</td>\n      <td>23</td>\n      <td>24</td>\n    </tr>\n    <tr>\n      <th>2023-01-07</th>\n      <td>25</td>\n      <td>26</td>\n      <td>27</td>\n      <td>28</td>\n    </tr>\n    <tr>\n      <th>2023-01-08</th>\n      <td>29</td>\n      <td>30</td>\n      <td>31</td>\n      <td>32</td>\n    </tr>\n    <tr>\n      <th>2023-01-09</th>\n      <td>33</td>\n      <td>34</td>\n      <td>35</td>\n      <td>36</td>\n    </tr>\n    <tr>\n      <th>2023-01-10</th>\n      <td>37</td>\n      <td>38</td>\n      <td>39</td>\n      <td>40</td>\n    </tr>\n    <tr>\n      <th>2023-01-11</th>\n      <td>41</td>\n      <td>42</td>\n      <td>43</td>\n      <td>44</td>\n    </tr>\n    <tr>\n      <th>2023-01-12</th>\n      <td>45</td>\n      <td>46</td>\n      <td>47</td>\n      <td>48</td>\n    </tr>\n    <tr>\n      <th>2023-01-13</th>\n      <td>49</td>\n      <td>50</td>\n      <td>51</td>\n      <td>52</td>\n    </tr>\n    <tr>\n      <th>2023-01-14</th>\n      <td>53</td>\n      <td>54</td>\n      <td>55</td>\n      <td>56</td>\n    </tr>\n    <tr>\n      <th>2023-01-15</th>\n      <td>57</td>\n      <td>58</td>\n      <td>59</td>\n      <td>60</td>\n    </tr>\n    <tr>\n      <th>2023-01-16</th>\n      <td>61</td>\n      <td>62</td>\n      <td>63</td>\n      <td>64</td>\n    </tr>\n    <tr>\n      <th>2023-01-17</th>\n      <td>65</td>\n      <td>66</td>\n      <td>67</td>\n      <td>68</td>\n    </tr>\n    <tr>\n      <th>2023-01-18</th>\n      <td>69</td>\n      <td>70</td>\n      <td>71</td>\n      <td>72</td>\n    </tr>\n    <tr>\n      <th>2023-01-19</th>\n      <td>73</td>\n      <td>74</td>\n      <td>75</td>\n      <td>76</td>\n    </tr>\n    <tr>\n      <th>2023-01-20</th>\n      <td>77</td>\n      <td>78</td>\n      <td>79</td>\n      <td>80</td>\n    </tr>\n    <tr>\n      <th>2023-01-21</th>\n      <td>81</td>\n      <td>82</td>\n      <td>83</td>\n      <td>84</td>\n    </tr>\n    <tr>\n      <th>2023-01-22</th>\n      <td>85</td>\n      <td>86</td>\n      <td>87</td>\n      <td>88</td>\n    </tr>\n    <tr>\n      <th>2023-01-23</th>\n      <td>89</td>\n      <td>90</td>\n      <td>91</td>\n      <td>92</td>\n    </tr>\n    <tr>\n      <th>2023-01-24</th>\n      <td>93</td>\n      <td>94</td>\n      <td>95</td>\n      <td>96</td>\n    </tr>\n    <tr>\n      <th>2023-01-25</th>\n      <td>97</td>\n      <td>98</td>\n      <td>99</td>\n      <td>100</td>\n    </tr>\n    <tr>\n      <th>2023-01-26</th>\n      <td>101</td>\n      <td>102</td>\n      <td>103</td>\n      <td>104</td>\n    </tr>\n    <tr>\n      <th>2023-01-27</th>\n      <td>105</td>\n      <td>106</td>\n      <td>107</td>\n      <td>108</td>\n    </tr>\n    <tr>\n      <th>2023-01-28</th>\n      <td>109</td>\n      <td>110</td>\n      <td>111</td>\n      <td>112</td>\n    </tr>\n    <tr>\n      <th>2023-01-29</th>\n      <td>113</td>\n      <td>114</td>\n      <td>115</td>\n      <td>116</td>\n    </tr>\n    <tr>\n      <th>2023-01-30</th>\n      <td>117</td>\n      <td>118</td>\n      <td>119</td>\n      <td>120</td>\n    </tr>\n  </tbody>\n</table>\n</div>"
     },
     "execution_count": 245,
     "metadata": {},
     "output_type": "execute_result"
    }
   ],
   "source": [
    "# df = pd.DataFrame(np.random.randn(30,4), index=dates, columns=list(\"ABCD\"))\n",
    "arr = np.arange(1, 120)\n",
    "len(arr)\n",
    "df = pd.DataFrame(arr_2d, index=dates, columns=list(\"ABCD\"))\n",
    "original_data = df.copy()\n",
    "df"
   ],
   "metadata": {
    "collapsed": false,
    "pycharm": {
     "name": "#%%\n"
    }
   }
  },
  {
   "cell_type": "code",
   "execution_count": 15,
   "outputs": [
    {
     "data": {
      "text/plain": "     A          B    C  D      E    F\n0  1.0 2013-01-02  1.0  3   test  foo\n1  1.0 2013-01-02  1.0  3  train  foo\n2  1.0 2013-01-02  1.0  3   test  foo\n3  1.0 2013-01-02  1.0  3  train  foo",
      "text/html": "<div>\n<style scoped>\n    .dataframe tbody tr th:only-of-type {\n        vertical-align: middle;\n    }\n\n    .dataframe tbody tr th {\n        vertical-align: top;\n    }\n\n    .dataframe thead th {\n        text-align: right;\n    }\n</style>\n<table border=\"1\" class=\"dataframe\">\n  <thead>\n    <tr style=\"text-align: right;\">\n      <th></th>\n      <th>A</th>\n      <th>B</th>\n      <th>C</th>\n      <th>D</th>\n      <th>E</th>\n      <th>F</th>\n    </tr>\n  </thead>\n  <tbody>\n    <tr>\n      <th>0</th>\n      <td>1.0</td>\n      <td>2013-01-02</td>\n      <td>1.0</td>\n      <td>3</td>\n      <td>test</td>\n      <td>foo</td>\n    </tr>\n    <tr>\n      <th>1</th>\n      <td>1.0</td>\n      <td>2013-01-02</td>\n      <td>1.0</td>\n      <td>3</td>\n      <td>train</td>\n      <td>foo</td>\n    </tr>\n    <tr>\n      <th>2</th>\n      <td>1.0</td>\n      <td>2013-01-02</td>\n      <td>1.0</td>\n      <td>3</td>\n      <td>test</td>\n      <td>foo</td>\n    </tr>\n    <tr>\n      <th>3</th>\n      <td>1.0</td>\n      <td>2013-01-02</td>\n      <td>1.0</td>\n      <td>3</td>\n      <td>train</td>\n      <td>foo</td>\n    </tr>\n  </tbody>\n</table>\n</div>"
     },
     "execution_count": 15,
     "metadata": {},
     "output_type": "execute_result"
    }
   ],
   "source": [
    "# Creating a DataFrame by passing a dictionary of objects that can be converted into a series-like structure:\n",
    "df2 = pd.DataFrame(\n",
    "    {\n",
    "        \"A\": 1.0,\n",
    "        \"B\": pd.Timestamp(\"20130102\"),\n",
    "        \"C\": pd.Series(1, index=list(range(4)), dtype=\"float32\"),\n",
    "        \"D\": np.array([3] * 4, dtype=\"int32\"),\n",
    "        \"E\": pd.Categorical([\"test\", \"train\", \"test\", \"train\"]),\n",
    "        \"F\": \"foo\",\n",
    "    }\n",
    ")\n",
    "df2\n"
   ],
   "metadata": {
    "collapsed": false,
    "pycharm": {
     "name": "#%%\n"
    }
   }
  },
  {
   "cell_type": "code",
   "execution_count": 25,
   "outputs": [
    {
     "data": {
      "text/plain": "0    1.0\n1    1.0\n2    1.0\n3    1.0\ndtype: float32"
     },
     "execution_count": 25,
     "metadata": {},
     "output_type": "execute_result"
    }
   ],
   "source": [
    "# testing what are the outputs of the given inputs in above df2\n",
    "pd.Series(1, index=list(range(4)), dtype=\"float32\")\n"
   ],
   "metadata": {
    "collapsed": false,
    "pycharm": {
     "name": "#%%\n"
    }
   }
  },
  {
   "cell_type": "code",
   "execution_count": 22,
   "outputs": [
    {
     "data": {
      "text/plain": "array([3, 3, 3, 3])"
     },
     "execution_count": 22,
     "metadata": {},
     "output_type": "execute_result"
    }
   ],
   "source": [
    "np.array([3] * 4, dtype=\"int32\")\n"
   ],
   "metadata": {
    "collapsed": false,
    "pycharm": {
     "name": "#%%\n"
    }
   }
  },
  {
   "cell_type": "code",
   "execution_count": 24,
   "outputs": [
    {
     "data": {
      "text/plain": "['test', 'train', 'test', 'train']\nCategories (2, object): ['test', 'train']"
     },
     "execution_count": 24,
     "metadata": {},
     "output_type": "execute_result"
    }
   ],
   "source": [
    "pd.Categorical([\"test\", \"train\", \"test\", \"train\"])\n"
   ],
   "metadata": {
    "collapsed": false,
    "pycharm": {
     "name": "#%%\n"
    }
   }
  },
  {
   "cell_type": "code",
   "execution_count": 26,
   "outputs": [
    {
     "data": {
      "text/plain": "     A          B    C  D      E    F\n0  1.0 2013-01-02  1.0  3   test  foo\n1  1.0 2013-01-02  1.0  3  train  foo\n2  1.0 2013-01-02  1.0  3   test  foo\n3  1.0 2013-01-02  1.0  3  train  foo",
      "text/html": "<div>\n<style scoped>\n    .dataframe tbody tr th:only-of-type {\n        vertical-align: middle;\n    }\n\n    .dataframe tbody tr th {\n        vertical-align: top;\n    }\n\n    .dataframe thead th {\n        text-align: right;\n    }\n</style>\n<table border=\"1\" class=\"dataframe\">\n  <thead>\n    <tr style=\"text-align: right;\">\n      <th></th>\n      <th>A</th>\n      <th>B</th>\n      <th>C</th>\n      <th>D</th>\n      <th>E</th>\n      <th>F</th>\n    </tr>\n  </thead>\n  <tbody>\n    <tr>\n      <th>0</th>\n      <td>1.0</td>\n      <td>2013-01-02</td>\n      <td>1.0</td>\n      <td>3</td>\n      <td>test</td>\n      <td>foo</td>\n    </tr>\n    <tr>\n      <th>1</th>\n      <td>1.0</td>\n      <td>2013-01-02</td>\n      <td>1.0</td>\n      <td>3</td>\n      <td>train</td>\n      <td>foo</td>\n    </tr>\n    <tr>\n      <th>2</th>\n      <td>1.0</td>\n      <td>2013-01-02</td>\n      <td>1.0</td>\n      <td>3</td>\n      <td>test</td>\n      <td>foo</td>\n    </tr>\n    <tr>\n      <th>3</th>\n      <td>1.0</td>\n      <td>2013-01-02</td>\n      <td>1.0</td>\n      <td>3</td>\n      <td>train</td>\n      <td>foo</td>\n    </tr>\n  </tbody>\n</table>\n</div>"
     },
     "execution_count": 26,
     "metadata": {},
     "output_type": "execute_result"
    }
   ],
   "source": [
    "# now we have a new dataframe df2 from a dictionary\n",
    "df2\n"
   ],
   "metadata": {
    "collapsed": false,
    "pycharm": {
     "name": "#%%\n"
    }
   }
  },
  {
   "cell_type": "code",
   "execution_count": 27,
   "outputs": [
    {
     "data": {
      "text/plain": "A           float64\nB    datetime64[ns]\nC           float32\nD             int32\nE          category\nF            object\ndtype: object"
     },
     "execution_count": 27,
     "metadata": {},
     "output_type": "execute_result"
    }
   ],
   "source": [
    "# The columns of the resulting DataFrame have different dtypes:\n",
    "df2.dtypes\n"
   ],
   "metadata": {
    "collapsed": false,
    "pycharm": {
     "name": "#%%\n"
    }
   }
  },
  {
   "cell_type": "code",
   "execution_count": 37,
   "outputs": [
    {
     "data": {
      "text/plain": "0    1.0\n1    1.0\n2    1.0\n3    1.0\nName: A, dtype: float64"
     },
     "execution_count": 37,
     "metadata": {},
     "output_type": "execute_result"
    }
   ],
   "source": [
    "df2.A\n"
   ],
   "metadata": {
    "collapsed": false,
    "pycharm": {
     "name": "#%%\n"
    }
   }
  },
  {
   "cell_type": "markdown",
   "source": [
    "## Viewing data\n"
   ],
   "metadata": {
    "collapsed": false,
    "pycharm": {
     "name": "#%% md\n"
    }
   }
  },
  {
   "cell_type": "code",
   "execution_count": 39,
   "outputs": [
    {
     "data": {
      "text/plain": "             A   B   C   D\n2023-01-01   1   2   3   4\n2023-01-02   5   6   7   8\n2023-01-03   9  10  11  12\n2023-01-04  13  14  15  16\n2023-01-05  17  18  19  20",
      "text/html": "<div>\n<style scoped>\n    .dataframe tbody tr th:only-of-type {\n        vertical-align: middle;\n    }\n\n    .dataframe tbody tr th {\n        vertical-align: top;\n    }\n\n    .dataframe thead th {\n        text-align: right;\n    }\n</style>\n<table border=\"1\" class=\"dataframe\">\n  <thead>\n    <tr style=\"text-align: right;\">\n      <th></th>\n      <th>A</th>\n      <th>B</th>\n      <th>C</th>\n      <th>D</th>\n    </tr>\n  </thead>\n  <tbody>\n    <tr>\n      <th>2023-01-01</th>\n      <td>1</td>\n      <td>2</td>\n      <td>3</td>\n      <td>4</td>\n    </tr>\n    <tr>\n      <th>2023-01-02</th>\n      <td>5</td>\n      <td>6</td>\n      <td>7</td>\n      <td>8</td>\n    </tr>\n    <tr>\n      <th>2023-01-03</th>\n      <td>9</td>\n      <td>10</td>\n      <td>11</td>\n      <td>12</td>\n    </tr>\n    <tr>\n      <th>2023-01-04</th>\n      <td>13</td>\n      <td>14</td>\n      <td>15</td>\n      <td>16</td>\n    </tr>\n    <tr>\n      <th>2023-01-05</th>\n      <td>17</td>\n      <td>18</td>\n      <td>19</td>\n      <td>20</td>\n    </tr>\n  </tbody>\n</table>\n</div>"
     },
     "execution_count": 39,
     "metadata": {},
     "output_type": "execute_result"
    }
   ],
   "source": [
    "# Use DataFrame.head() and DataFrame.tail() to view the top and bottom rows of the frame respectively:\n",
    "df.head()"
   ],
   "metadata": {
    "collapsed": false,
    "pycharm": {
     "name": "#%%\n"
    }
   }
  },
  {
   "cell_type": "code",
   "execution_count": 41,
   "outputs": [
    {
     "data": {
      "text/plain": "              A    B    C    D\n2023-01-28  109  110  111  112\n2023-01-29  113  114  115  116\n2023-01-30  117  118  119  120",
      "text/html": "<div>\n<style scoped>\n    .dataframe tbody tr th:only-of-type {\n        vertical-align: middle;\n    }\n\n    .dataframe tbody tr th {\n        vertical-align: top;\n    }\n\n    .dataframe thead th {\n        text-align: right;\n    }\n</style>\n<table border=\"1\" class=\"dataframe\">\n  <thead>\n    <tr style=\"text-align: right;\">\n      <th></th>\n      <th>A</th>\n      <th>B</th>\n      <th>C</th>\n      <th>D</th>\n    </tr>\n  </thead>\n  <tbody>\n    <tr>\n      <th>2023-01-28</th>\n      <td>109</td>\n      <td>110</td>\n      <td>111</td>\n      <td>112</td>\n    </tr>\n    <tr>\n      <th>2023-01-29</th>\n      <td>113</td>\n      <td>114</td>\n      <td>115</td>\n      <td>116</td>\n    </tr>\n    <tr>\n      <th>2023-01-30</th>\n      <td>117</td>\n      <td>118</td>\n      <td>119</td>\n      <td>120</td>\n    </tr>\n  </tbody>\n</table>\n</div>"
     },
     "execution_count": 41,
     "metadata": {},
     "output_type": "execute_result"
    }
   ],
   "source": [
    "df.tail(3)\n"
   ],
   "metadata": {
    "collapsed": false,
    "pycharm": {
     "name": "#%%\n"
    }
   }
  },
  {
   "cell_type": "code",
   "execution_count": 44,
   "outputs": [
    {
     "data": {
      "text/plain": "DatetimeIndex(['2023-01-01', '2023-01-02', '2023-01-03', '2023-01-04',\n               '2023-01-05', '2023-01-06', '2023-01-07', '2023-01-08',\n               '2023-01-09', '2023-01-10', '2023-01-11', '2023-01-12',\n               '2023-01-13', '2023-01-14', '2023-01-15', '2023-01-16',\n               '2023-01-17', '2023-01-18', '2023-01-19', '2023-01-20',\n               '2023-01-21', '2023-01-22', '2023-01-23', '2023-01-24',\n               '2023-01-25', '2023-01-26', '2023-01-27', '2023-01-28',\n               '2023-01-29', '2023-01-30'],\n              dtype='datetime64[ns]', freq='D')"
     },
     "execution_count": 44,
     "metadata": {},
     "output_type": "execute_result"
    }
   ],
   "source": [
    "# Display the DataFrame.index or DataFrame.columns:\n",
    "df.index"
   ],
   "metadata": {
    "collapsed": false,
    "pycharm": {
     "name": "#%%\n"
    }
   }
  },
  {
   "cell_type": "code",
   "execution_count": 45,
   "outputs": [
    {
     "data": {
      "text/plain": "Index(['A', 'B', 'C', 'D'], dtype='object')"
     },
     "execution_count": 45,
     "metadata": {},
     "output_type": "execute_result"
    }
   ],
   "source": [
    "df.columns\n"
   ],
   "metadata": {
    "collapsed": false,
    "pycharm": {
     "name": "#%%\n"
    }
   }
  },
  {
   "cell_type": "code",
   "execution_count": 47,
   "outputs": [
    {
     "data": {
      "text/plain": "              E    F    G    H\n2023-01-01    1    2    3    4\n2023-01-02    5    6    7    8\n2023-01-03    9   10   11   12\n2023-01-04   13   14   15   16\n2023-01-05   17   18   19   20\n2023-01-06   21   22   23   24\n2023-01-07   25   26   27   28\n2023-01-08   29   30   31   32\n2023-01-09   33   34   35   36\n2023-01-10   37   38   39   40\n2023-01-11   41   42   43   44\n2023-01-12   45   46   47   48\n2023-01-13   49   50   51   52\n2023-01-14   53   54   55   56\n2023-01-15   57   58   59   60\n2023-01-16   61   62   63   64\n2023-01-17   65   66   67   68\n2023-01-18   69   70   71   72\n2023-01-19   73   74   75   76\n2023-01-20   77   78   79   80\n2023-01-21   81   82   83   84\n2023-01-22   85   86   87   88\n2023-01-23   89   90   91   92\n2023-01-24   93   94   95   96\n2023-01-25   97   98   99  100\n2023-01-26  101  102  103  104\n2023-01-27  105  106  107  108\n2023-01-28  109  110  111  112\n2023-01-29  113  114  115  116\n2023-01-30  117  118  119  120",
      "text/html": "<div>\n<style scoped>\n    .dataframe tbody tr th:only-of-type {\n        vertical-align: middle;\n    }\n\n    .dataframe tbody tr th {\n        vertical-align: top;\n    }\n\n    .dataframe thead th {\n        text-align: right;\n    }\n</style>\n<table border=\"1\" class=\"dataframe\">\n  <thead>\n    <tr style=\"text-align: right;\">\n      <th></th>\n      <th>E</th>\n      <th>F</th>\n      <th>G</th>\n      <th>H</th>\n    </tr>\n  </thead>\n  <tbody>\n    <tr>\n      <th>2023-01-01</th>\n      <td>1</td>\n      <td>2</td>\n      <td>3</td>\n      <td>4</td>\n    </tr>\n    <tr>\n      <th>2023-01-02</th>\n      <td>5</td>\n      <td>6</td>\n      <td>7</td>\n      <td>8</td>\n    </tr>\n    <tr>\n      <th>2023-01-03</th>\n      <td>9</td>\n      <td>10</td>\n      <td>11</td>\n      <td>12</td>\n    </tr>\n    <tr>\n      <th>2023-01-04</th>\n      <td>13</td>\n      <td>14</td>\n      <td>15</td>\n      <td>16</td>\n    </tr>\n    <tr>\n      <th>2023-01-05</th>\n      <td>17</td>\n      <td>18</td>\n      <td>19</td>\n      <td>20</td>\n    </tr>\n    <tr>\n      <th>2023-01-06</th>\n      <td>21</td>\n      <td>22</td>\n      <td>23</td>\n      <td>24</td>\n    </tr>\n    <tr>\n      <th>2023-01-07</th>\n      <td>25</td>\n      <td>26</td>\n      <td>27</td>\n      <td>28</td>\n    </tr>\n    <tr>\n      <th>2023-01-08</th>\n      <td>29</td>\n      <td>30</td>\n      <td>31</td>\n      <td>32</td>\n    </tr>\n    <tr>\n      <th>2023-01-09</th>\n      <td>33</td>\n      <td>34</td>\n      <td>35</td>\n      <td>36</td>\n    </tr>\n    <tr>\n      <th>2023-01-10</th>\n      <td>37</td>\n      <td>38</td>\n      <td>39</td>\n      <td>40</td>\n    </tr>\n    <tr>\n      <th>2023-01-11</th>\n      <td>41</td>\n      <td>42</td>\n      <td>43</td>\n      <td>44</td>\n    </tr>\n    <tr>\n      <th>2023-01-12</th>\n      <td>45</td>\n      <td>46</td>\n      <td>47</td>\n      <td>48</td>\n    </tr>\n    <tr>\n      <th>2023-01-13</th>\n      <td>49</td>\n      <td>50</td>\n      <td>51</td>\n      <td>52</td>\n    </tr>\n    <tr>\n      <th>2023-01-14</th>\n      <td>53</td>\n      <td>54</td>\n      <td>55</td>\n      <td>56</td>\n    </tr>\n    <tr>\n      <th>2023-01-15</th>\n      <td>57</td>\n      <td>58</td>\n      <td>59</td>\n      <td>60</td>\n    </tr>\n    <tr>\n      <th>2023-01-16</th>\n      <td>61</td>\n      <td>62</td>\n      <td>63</td>\n      <td>64</td>\n    </tr>\n    <tr>\n      <th>2023-01-17</th>\n      <td>65</td>\n      <td>66</td>\n      <td>67</td>\n      <td>68</td>\n    </tr>\n    <tr>\n      <th>2023-01-18</th>\n      <td>69</td>\n      <td>70</td>\n      <td>71</td>\n      <td>72</td>\n    </tr>\n    <tr>\n      <th>2023-01-19</th>\n      <td>73</td>\n      <td>74</td>\n      <td>75</td>\n      <td>76</td>\n    </tr>\n    <tr>\n      <th>2023-01-20</th>\n      <td>77</td>\n      <td>78</td>\n      <td>79</td>\n      <td>80</td>\n    </tr>\n    <tr>\n      <th>2023-01-21</th>\n      <td>81</td>\n      <td>82</td>\n      <td>83</td>\n      <td>84</td>\n    </tr>\n    <tr>\n      <th>2023-01-22</th>\n      <td>85</td>\n      <td>86</td>\n      <td>87</td>\n      <td>88</td>\n    </tr>\n    <tr>\n      <th>2023-01-23</th>\n      <td>89</td>\n      <td>90</td>\n      <td>91</td>\n      <td>92</td>\n    </tr>\n    <tr>\n      <th>2023-01-24</th>\n      <td>93</td>\n      <td>94</td>\n      <td>95</td>\n      <td>96</td>\n    </tr>\n    <tr>\n      <th>2023-01-25</th>\n      <td>97</td>\n      <td>98</td>\n      <td>99</td>\n      <td>100</td>\n    </tr>\n    <tr>\n      <th>2023-01-26</th>\n      <td>101</td>\n      <td>102</td>\n      <td>103</td>\n      <td>104</td>\n    </tr>\n    <tr>\n      <th>2023-01-27</th>\n      <td>105</td>\n      <td>106</td>\n      <td>107</td>\n      <td>108</td>\n    </tr>\n    <tr>\n      <th>2023-01-28</th>\n      <td>109</td>\n      <td>110</td>\n      <td>111</td>\n      <td>112</td>\n    </tr>\n    <tr>\n      <th>2023-01-29</th>\n      <td>113</td>\n      <td>114</td>\n      <td>115</td>\n      <td>116</td>\n    </tr>\n    <tr>\n      <th>2023-01-30</th>\n      <td>117</td>\n      <td>118</td>\n      <td>119</td>\n      <td>120</td>\n    </tr>\n  </tbody>\n</table>\n</div>"
     },
     "execution_count": 47,
     "metadata": {},
     "output_type": "execute_result"
    }
   ],
   "source": [
    "df.columns = list(\"EFGH\")\n",
    "df"
   ],
   "metadata": {
    "collapsed": false,
    "pycharm": {
     "name": "#%%\n"
    }
   }
  },
  {
   "cell_type": "code",
   "execution_count": 48,
   "outputs": [
    {
     "data": {
      "text/plain": "Index(['E', 'F', 'G', 'H'], dtype='object')"
     },
     "execution_count": 48,
     "metadata": {},
     "output_type": "execute_result"
    }
   ],
   "source": [
    "df.columns\n"
   ],
   "metadata": {
    "collapsed": false,
    "pycharm": {
     "name": "#%%\n"
    }
   }
  },
  {
   "cell_type": "code",
   "execution_count": 51,
   "outputs": [
    {
     "data": {
      "text/plain": "              A    B    C    D\n2023-01-01    1    2    3    4\n2023-01-02    5    6    7    8\n2023-01-03    9   10   11   12\n2023-01-04   13   14   15   16\n2023-01-05   17   18   19   20\n2023-01-06   21   22   23   24\n2023-01-07   25   26   27   28\n2023-01-08   29   30   31   32\n2023-01-09   33   34   35   36\n2023-01-10   37   38   39   40\n2023-01-11   41   42   43   44\n2023-01-12   45   46   47   48\n2023-01-13   49   50   51   52\n2023-01-14   53   54   55   56\n2023-01-15   57   58   59   60\n2023-01-16   61   62   63   64\n2023-01-17   65   66   67   68\n2023-01-18   69   70   71   72\n2023-01-19   73   74   75   76\n2023-01-20   77   78   79   80\n2023-01-21   81   82   83   84\n2023-01-22   85   86   87   88\n2023-01-23   89   90   91   92\n2023-01-24   93   94   95   96\n2023-01-25   97   98   99  100\n2023-01-26  101  102  103  104\n2023-01-27  105  106  107  108\n2023-01-28  109  110  111  112\n2023-01-29  113  114  115  116\n2023-01-30  117  118  119  120",
      "text/html": "<div>\n<style scoped>\n    .dataframe tbody tr th:only-of-type {\n        vertical-align: middle;\n    }\n\n    .dataframe tbody tr th {\n        vertical-align: top;\n    }\n\n    .dataframe thead th {\n        text-align: right;\n    }\n</style>\n<table border=\"1\" class=\"dataframe\">\n  <thead>\n    <tr style=\"text-align: right;\">\n      <th></th>\n      <th>A</th>\n      <th>B</th>\n      <th>C</th>\n      <th>D</th>\n    </tr>\n  </thead>\n  <tbody>\n    <tr>\n      <th>2023-01-01</th>\n      <td>1</td>\n      <td>2</td>\n      <td>3</td>\n      <td>4</td>\n    </tr>\n    <tr>\n      <th>2023-01-02</th>\n      <td>5</td>\n      <td>6</td>\n      <td>7</td>\n      <td>8</td>\n    </tr>\n    <tr>\n      <th>2023-01-03</th>\n      <td>9</td>\n      <td>10</td>\n      <td>11</td>\n      <td>12</td>\n    </tr>\n    <tr>\n      <th>2023-01-04</th>\n      <td>13</td>\n      <td>14</td>\n      <td>15</td>\n      <td>16</td>\n    </tr>\n    <tr>\n      <th>2023-01-05</th>\n      <td>17</td>\n      <td>18</td>\n      <td>19</td>\n      <td>20</td>\n    </tr>\n    <tr>\n      <th>2023-01-06</th>\n      <td>21</td>\n      <td>22</td>\n      <td>23</td>\n      <td>24</td>\n    </tr>\n    <tr>\n      <th>2023-01-07</th>\n      <td>25</td>\n      <td>26</td>\n      <td>27</td>\n      <td>28</td>\n    </tr>\n    <tr>\n      <th>2023-01-08</th>\n      <td>29</td>\n      <td>30</td>\n      <td>31</td>\n      <td>32</td>\n    </tr>\n    <tr>\n      <th>2023-01-09</th>\n      <td>33</td>\n      <td>34</td>\n      <td>35</td>\n      <td>36</td>\n    </tr>\n    <tr>\n      <th>2023-01-10</th>\n      <td>37</td>\n      <td>38</td>\n      <td>39</td>\n      <td>40</td>\n    </tr>\n    <tr>\n      <th>2023-01-11</th>\n      <td>41</td>\n      <td>42</td>\n      <td>43</td>\n      <td>44</td>\n    </tr>\n    <tr>\n      <th>2023-01-12</th>\n      <td>45</td>\n      <td>46</td>\n      <td>47</td>\n      <td>48</td>\n    </tr>\n    <tr>\n      <th>2023-01-13</th>\n      <td>49</td>\n      <td>50</td>\n      <td>51</td>\n      <td>52</td>\n    </tr>\n    <tr>\n      <th>2023-01-14</th>\n      <td>53</td>\n      <td>54</td>\n      <td>55</td>\n      <td>56</td>\n    </tr>\n    <tr>\n      <th>2023-01-15</th>\n      <td>57</td>\n      <td>58</td>\n      <td>59</td>\n      <td>60</td>\n    </tr>\n    <tr>\n      <th>2023-01-16</th>\n      <td>61</td>\n      <td>62</td>\n      <td>63</td>\n      <td>64</td>\n    </tr>\n    <tr>\n      <th>2023-01-17</th>\n      <td>65</td>\n      <td>66</td>\n      <td>67</td>\n      <td>68</td>\n    </tr>\n    <tr>\n      <th>2023-01-18</th>\n      <td>69</td>\n      <td>70</td>\n      <td>71</td>\n      <td>72</td>\n    </tr>\n    <tr>\n      <th>2023-01-19</th>\n      <td>73</td>\n      <td>74</td>\n      <td>75</td>\n      <td>76</td>\n    </tr>\n    <tr>\n      <th>2023-01-20</th>\n      <td>77</td>\n      <td>78</td>\n      <td>79</td>\n      <td>80</td>\n    </tr>\n    <tr>\n      <th>2023-01-21</th>\n      <td>81</td>\n      <td>82</td>\n      <td>83</td>\n      <td>84</td>\n    </tr>\n    <tr>\n      <th>2023-01-22</th>\n      <td>85</td>\n      <td>86</td>\n      <td>87</td>\n      <td>88</td>\n    </tr>\n    <tr>\n      <th>2023-01-23</th>\n      <td>89</td>\n      <td>90</td>\n      <td>91</td>\n      <td>92</td>\n    </tr>\n    <tr>\n      <th>2023-01-24</th>\n      <td>93</td>\n      <td>94</td>\n      <td>95</td>\n      <td>96</td>\n    </tr>\n    <tr>\n      <th>2023-01-25</th>\n      <td>97</td>\n      <td>98</td>\n      <td>99</td>\n      <td>100</td>\n    </tr>\n    <tr>\n      <th>2023-01-26</th>\n      <td>101</td>\n      <td>102</td>\n      <td>103</td>\n      <td>104</td>\n    </tr>\n    <tr>\n      <th>2023-01-27</th>\n      <td>105</td>\n      <td>106</td>\n      <td>107</td>\n      <td>108</td>\n    </tr>\n    <tr>\n      <th>2023-01-28</th>\n      <td>109</td>\n      <td>110</td>\n      <td>111</td>\n      <td>112</td>\n    </tr>\n    <tr>\n      <th>2023-01-29</th>\n      <td>113</td>\n      <td>114</td>\n      <td>115</td>\n      <td>116</td>\n    </tr>\n    <tr>\n      <th>2023-01-30</th>\n      <td>117</td>\n      <td>118</td>\n      <td>119</td>\n      <td>120</td>\n    </tr>\n  </tbody>\n</table>\n</div>"
     },
     "execution_count": 51,
     "metadata": {},
     "output_type": "execute_result"
    }
   ],
   "source": [
    "df.columns = list(\"ABCD\")\n",
    "df"
   ],
   "metadata": {
    "collapsed": false,
    "pycharm": {
     "name": "#%%\n"
    }
   }
  },
  {
   "cell_type": "code",
   "execution_count": 53,
   "outputs": [
    {
     "data": {
      "text/plain": "array([[  1,   2,   3,   4],\n       [  5,   6,   7,   8],\n       [  9,  10,  11,  12],\n       [ 13,  14,  15,  16],\n       [ 17,  18,  19,  20],\n       [ 21,  22,  23,  24],\n       [ 25,  26,  27,  28],\n       [ 29,  30,  31,  32],\n       [ 33,  34,  35,  36],\n       [ 37,  38,  39,  40],\n       [ 41,  42,  43,  44],\n       [ 45,  46,  47,  48],\n       [ 49,  50,  51,  52],\n       [ 53,  54,  55,  56],\n       [ 57,  58,  59,  60],\n       [ 61,  62,  63,  64],\n       [ 65,  66,  67,  68],\n       [ 69,  70,  71,  72],\n       [ 73,  74,  75,  76],\n       [ 77,  78,  79,  80],\n       [ 81,  82,  83,  84],\n       [ 85,  86,  87,  88],\n       [ 89,  90,  91,  92],\n       [ 93,  94,  95,  96],\n       [ 97,  98,  99, 100],\n       [101, 102, 103, 104],\n       [105, 106, 107, 108],\n       [109, 110, 111, 112],\n       [113, 114, 115, 116],\n       [117, 118, 119, 120]])"
     },
     "execution_count": 53,
     "metadata": {},
     "output_type": "execute_result"
    }
   ],
   "source": [
    "# DataFrame.to_numpy() gives a NumPy representation of the underlying data. Note that this can be an expensive operation when your DataFrame has columns with different data types, which comes down to a fundamental difference between pandas and NumPy: NumPy arrays have one dtype for the entire array, while pandas DataFrames have one dtype per column. When you call DataFrame.to_numpy(), pandas will find the NumPy dtype that can hold all of the dtypes in the DataFrame. This may end up being object, which requires casting every value to a Python object.\n",
    "\n",
    "# For df, our DataFrame of all floating-point values, and DataFrame.to_numpy() is fast and doesn’t require copying data:\n",
    "df.to_numpy()"
   ],
   "metadata": {
    "collapsed": false,
    "pycharm": {
     "name": "#%%\n"
    }
   }
  },
  {
   "cell_type": "code",
   "execution_count": 55,
   "outputs": [],
   "source": [
    "# For df2, the DataFrame with multiple dtypes, DataFrame.to_numpy() is relatively expensive:\n",
    "np_data = df2.to_numpy()"
   ],
   "metadata": {
    "collapsed": false,
    "pycharm": {
     "name": "#%%\n"
    }
   }
  },
  {
   "cell_type": "code",
   "execution_count": 59,
   "outputs": [
    {
     "data": {
      "text/plain": "dtype('O')"
     },
     "execution_count": 59,
     "metadata": {},
     "output_type": "execute_result"
    }
   ],
   "source": [
    "np_data.dtype\n"
   ],
   "metadata": {
    "collapsed": false,
    "pycharm": {
     "name": "#%%\n"
    }
   }
  },
  {
   "cell_type": "code",
   "execution_count": 60,
   "outputs": [
    {
     "data": {
      "text/plain": "numpy.ndarray"
     },
     "execution_count": 60,
     "metadata": {},
     "output_type": "execute_result"
    }
   ],
   "source": [
    "type(np_data)\n"
   ],
   "metadata": {
    "collapsed": false,
    "pycharm": {
     "name": "#%%\n"
    }
   }
  },
  {
   "cell_type": "code",
   "execution_count": 61,
   "outputs": [
    {
     "data": {
      "text/plain": "array([[1.0, Timestamp('2013-01-02 00:00:00'), 1.0, 3, 'test', 'foo'],\n       [1.0, Timestamp('2013-01-02 00:00:00'), 1.0, 3, 'train', 'foo'],\n       [1.0, Timestamp('2013-01-02 00:00:00'), 1.0, 3, 'test', 'foo'],\n       [1.0, Timestamp('2013-01-02 00:00:00'), 1.0, 3, 'train', 'foo']],\n      dtype=object)"
     },
     "execution_count": 61,
     "metadata": {},
     "output_type": "execute_result"
    }
   ],
   "source": [
    "# DataFrame.to_numpy() does not include the index or column labels in the output.\n",
    "np_data"
   ],
   "metadata": {
    "collapsed": false,
    "pycharm": {
     "name": "#%%\n"
    }
   }
  },
  {
   "cell_type": "code",
   "execution_count": 62,
   "outputs": [
    {
     "data": {
      "text/plain": "                A           B           C           D\ncount   30.000000   30.000000   30.000000   30.000000\nmean    59.000000   60.000000   61.000000   62.000000\nstd     35.213634   35.213634   35.213634   35.213634\nmin      1.000000    2.000000    3.000000    4.000000\n25%     30.000000   31.000000   32.000000   33.000000\n50%     59.000000   60.000000   61.000000   62.000000\n75%     88.000000   89.000000   90.000000   91.000000\nmax    117.000000  118.000000  119.000000  120.000000",
      "text/html": "<div>\n<style scoped>\n    .dataframe tbody tr th:only-of-type {\n        vertical-align: middle;\n    }\n\n    .dataframe tbody tr th {\n        vertical-align: top;\n    }\n\n    .dataframe thead th {\n        text-align: right;\n    }\n</style>\n<table border=\"1\" class=\"dataframe\">\n  <thead>\n    <tr style=\"text-align: right;\">\n      <th></th>\n      <th>A</th>\n      <th>B</th>\n      <th>C</th>\n      <th>D</th>\n    </tr>\n  </thead>\n  <tbody>\n    <tr>\n      <th>count</th>\n      <td>30.000000</td>\n      <td>30.000000</td>\n      <td>30.000000</td>\n      <td>30.000000</td>\n    </tr>\n    <tr>\n      <th>mean</th>\n      <td>59.000000</td>\n      <td>60.000000</td>\n      <td>61.000000</td>\n      <td>62.000000</td>\n    </tr>\n    <tr>\n      <th>std</th>\n      <td>35.213634</td>\n      <td>35.213634</td>\n      <td>35.213634</td>\n      <td>35.213634</td>\n    </tr>\n    <tr>\n      <th>min</th>\n      <td>1.000000</td>\n      <td>2.000000</td>\n      <td>3.000000</td>\n      <td>4.000000</td>\n    </tr>\n    <tr>\n      <th>25%</th>\n      <td>30.000000</td>\n      <td>31.000000</td>\n      <td>32.000000</td>\n      <td>33.000000</td>\n    </tr>\n    <tr>\n      <th>50%</th>\n      <td>59.000000</td>\n      <td>60.000000</td>\n      <td>61.000000</td>\n      <td>62.000000</td>\n    </tr>\n    <tr>\n      <th>75%</th>\n      <td>88.000000</td>\n      <td>89.000000</td>\n      <td>90.000000</td>\n      <td>91.000000</td>\n    </tr>\n    <tr>\n      <th>max</th>\n      <td>117.000000</td>\n      <td>118.000000</td>\n      <td>119.000000</td>\n      <td>120.000000</td>\n    </tr>\n  </tbody>\n</table>\n</div>"
     },
     "execution_count": 62,
     "metadata": {},
     "output_type": "execute_result"
    }
   ],
   "source": [
    "# describe() shows a quick statistic summary of your data:\n",
    "df.describe()\n"
   ],
   "metadata": {
    "collapsed": false,
    "pycharm": {
     "name": "#%%\n"
    }
   }
  },
  {
   "cell_type": "code",
   "execution_count": 63,
   "outputs": [
    {
     "data": {
      "text/plain": "   2023-01-01  2023-01-02  2023-01-03  2023-01-04  2023-01-05  2023-01-06  \\\nA           1           5           9          13          17          21   \nB           2           6          10          14          18          22   \nC           3           7          11          15          19          23   \nD           4           8          12          16          20          24   \n\n   2023-01-07  2023-01-08  2023-01-09  2023-01-10  ...  2023-01-21  \\\nA          25          29          33          37  ...          81   \nB          26          30          34          38  ...          82   \nC          27          31          35          39  ...          83   \nD          28          32          36          40  ...          84   \n\n   2023-01-22  2023-01-23  2023-01-24  2023-01-25  2023-01-26  2023-01-27  \\\nA          85          89          93          97         101         105   \nB          86          90          94          98         102         106   \nC          87          91          95          99         103         107   \nD          88          92          96         100         104         108   \n\n   2023-01-28  2023-01-29  2023-01-30  \nA         109         113         117  \nB         110         114         118  \nC         111         115         119  \nD         112         116         120  \n\n[4 rows x 30 columns]",
      "text/html": "<div>\n<style scoped>\n    .dataframe tbody tr th:only-of-type {\n        vertical-align: middle;\n    }\n\n    .dataframe tbody tr th {\n        vertical-align: top;\n    }\n\n    .dataframe thead th {\n        text-align: right;\n    }\n</style>\n<table border=\"1\" class=\"dataframe\">\n  <thead>\n    <tr style=\"text-align: right;\">\n      <th></th>\n      <th>2023-01-01</th>\n      <th>2023-01-02</th>\n      <th>2023-01-03</th>\n      <th>2023-01-04</th>\n      <th>2023-01-05</th>\n      <th>2023-01-06</th>\n      <th>2023-01-07</th>\n      <th>2023-01-08</th>\n      <th>2023-01-09</th>\n      <th>2023-01-10</th>\n      <th>...</th>\n      <th>2023-01-21</th>\n      <th>2023-01-22</th>\n      <th>2023-01-23</th>\n      <th>2023-01-24</th>\n      <th>2023-01-25</th>\n      <th>2023-01-26</th>\n      <th>2023-01-27</th>\n      <th>2023-01-28</th>\n      <th>2023-01-29</th>\n      <th>2023-01-30</th>\n    </tr>\n  </thead>\n  <tbody>\n    <tr>\n      <th>A</th>\n      <td>1</td>\n      <td>5</td>\n      <td>9</td>\n      <td>13</td>\n      <td>17</td>\n      <td>21</td>\n      <td>25</td>\n      <td>29</td>\n      <td>33</td>\n      <td>37</td>\n      <td>...</td>\n      <td>81</td>\n      <td>85</td>\n      <td>89</td>\n      <td>93</td>\n      <td>97</td>\n      <td>101</td>\n      <td>105</td>\n      <td>109</td>\n      <td>113</td>\n      <td>117</td>\n    </tr>\n    <tr>\n      <th>B</th>\n      <td>2</td>\n      <td>6</td>\n      <td>10</td>\n      <td>14</td>\n      <td>18</td>\n      <td>22</td>\n      <td>26</td>\n      <td>30</td>\n      <td>34</td>\n      <td>38</td>\n      <td>...</td>\n      <td>82</td>\n      <td>86</td>\n      <td>90</td>\n      <td>94</td>\n      <td>98</td>\n      <td>102</td>\n      <td>106</td>\n      <td>110</td>\n      <td>114</td>\n      <td>118</td>\n    </tr>\n    <tr>\n      <th>C</th>\n      <td>3</td>\n      <td>7</td>\n      <td>11</td>\n      <td>15</td>\n      <td>19</td>\n      <td>23</td>\n      <td>27</td>\n      <td>31</td>\n      <td>35</td>\n      <td>39</td>\n      <td>...</td>\n      <td>83</td>\n      <td>87</td>\n      <td>91</td>\n      <td>95</td>\n      <td>99</td>\n      <td>103</td>\n      <td>107</td>\n      <td>111</td>\n      <td>115</td>\n      <td>119</td>\n    </tr>\n    <tr>\n      <th>D</th>\n      <td>4</td>\n      <td>8</td>\n      <td>12</td>\n      <td>16</td>\n      <td>20</td>\n      <td>24</td>\n      <td>28</td>\n      <td>32</td>\n      <td>36</td>\n      <td>40</td>\n      <td>...</td>\n      <td>84</td>\n      <td>88</td>\n      <td>92</td>\n      <td>96</td>\n      <td>100</td>\n      <td>104</td>\n      <td>108</td>\n      <td>112</td>\n      <td>116</td>\n      <td>120</td>\n    </tr>\n  </tbody>\n</table>\n<p>4 rows × 30 columns</p>\n</div>"
     },
     "execution_count": 63,
     "metadata": {},
     "output_type": "execute_result"
    }
   ],
   "source": [
    "# Transposing your data: i.e. rows become columns and columns become rows.\n",
    "df.T"
   ],
   "metadata": {
    "collapsed": false,
    "pycharm": {
     "name": "#%%\n"
    }
   }
  },
  {
   "cell_type": "code",
   "execution_count": 64,
   "outputs": [
    {
     "data": {
      "text/plain": "              A    B    C    D\n2023-01-01    1    2    3    4\n2023-01-02    5    6    7    8\n2023-01-03    9   10   11   12\n2023-01-04   13   14   15   16\n2023-01-05   17   18   19   20\n2023-01-06   21   22   23   24\n2023-01-07   25   26   27   28\n2023-01-08   29   30   31   32\n2023-01-09   33   34   35   36\n2023-01-10   37   38   39   40\n2023-01-11   41   42   43   44\n2023-01-12   45   46   47   48\n2023-01-13   49   50   51   52\n2023-01-14   53   54   55   56\n2023-01-15   57   58   59   60\n2023-01-16   61   62   63   64\n2023-01-17   65   66   67   68\n2023-01-18   69   70   71   72\n2023-01-19   73   74   75   76\n2023-01-20   77   78   79   80\n2023-01-21   81   82   83   84\n2023-01-22   85   86   87   88\n2023-01-23   89   90   91   92\n2023-01-24   93   94   95   96\n2023-01-25   97   98   99  100\n2023-01-26  101  102  103  104\n2023-01-27  105  106  107  108\n2023-01-28  109  110  111  112\n2023-01-29  113  114  115  116\n2023-01-30  117  118  119  120",
      "text/html": "<div>\n<style scoped>\n    .dataframe tbody tr th:only-of-type {\n        vertical-align: middle;\n    }\n\n    .dataframe tbody tr th {\n        vertical-align: top;\n    }\n\n    .dataframe thead th {\n        text-align: right;\n    }\n</style>\n<table border=\"1\" class=\"dataframe\">\n  <thead>\n    <tr style=\"text-align: right;\">\n      <th></th>\n      <th>A</th>\n      <th>B</th>\n      <th>C</th>\n      <th>D</th>\n    </tr>\n  </thead>\n  <tbody>\n    <tr>\n      <th>2023-01-01</th>\n      <td>1</td>\n      <td>2</td>\n      <td>3</td>\n      <td>4</td>\n    </tr>\n    <tr>\n      <th>2023-01-02</th>\n      <td>5</td>\n      <td>6</td>\n      <td>7</td>\n      <td>8</td>\n    </tr>\n    <tr>\n      <th>2023-01-03</th>\n      <td>9</td>\n      <td>10</td>\n      <td>11</td>\n      <td>12</td>\n    </tr>\n    <tr>\n      <th>2023-01-04</th>\n      <td>13</td>\n      <td>14</td>\n      <td>15</td>\n      <td>16</td>\n    </tr>\n    <tr>\n      <th>2023-01-05</th>\n      <td>17</td>\n      <td>18</td>\n      <td>19</td>\n      <td>20</td>\n    </tr>\n    <tr>\n      <th>2023-01-06</th>\n      <td>21</td>\n      <td>22</td>\n      <td>23</td>\n      <td>24</td>\n    </tr>\n    <tr>\n      <th>2023-01-07</th>\n      <td>25</td>\n      <td>26</td>\n      <td>27</td>\n      <td>28</td>\n    </tr>\n    <tr>\n      <th>2023-01-08</th>\n      <td>29</td>\n      <td>30</td>\n      <td>31</td>\n      <td>32</td>\n    </tr>\n    <tr>\n      <th>2023-01-09</th>\n      <td>33</td>\n      <td>34</td>\n      <td>35</td>\n      <td>36</td>\n    </tr>\n    <tr>\n      <th>2023-01-10</th>\n      <td>37</td>\n      <td>38</td>\n      <td>39</td>\n      <td>40</td>\n    </tr>\n    <tr>\n      <th>2023-01-11</th>\n      <td>41</td>\n      <td>42</td>\n      <td>43</td>\n      <td>44</td>\n    </tr>\n    <tr>\n      <th>2023-01-12</th>\n      <td>45</td>\n      <td>46</td>\n      <td>47</td>\n      <td>48</td>\n    </tr>\n    <tr>\n      <th>2023-01-13</th>\n      <td>49</td>\n      <td>50</td>\n      <td>51</td>\n      <td>52</td>\n    </tr>\n    <tr>\n      <th>2023-01-14</th>\n      <td>53</td>\n      <td>54</td>\n      <td>55</td>\n      <td>56</td>\n    </tr>\n    <tr>\n      <th>2023-01-15</th>\n      <td>57</td>\n      <td>58</td>\n      <td>59</td>\n      <td>60</td>\n    </tr>\n    <tr>\n      <th>2023-01-16</th>\n      <td>61</td>\n      <td>62</td>\n      <td>63</td>\n      <td>64</td>\n    </tr>\n    <tr>\n      <th>2023-01-17</th>\n      <td>65</td>\n      <td>66</td>\n      <td>67</td>\n      <td>68</td>\n    </tr>\n    <tr>\n      <th>2023-01-18</th>\n      <td>69</td>\n      <td>70</td>\n      <td>71</td>\n      <td>72</td>\n    </tr>\n    <tr>\n      <th>2023-01-19</th>\n      <td>73</td>\n      <td>74</td>\n      <td>75</td>\n      <td>76</td>\n    </tr>\n    <tr>\n      <th>2023-01-20</th>\n      <td>77</td>\n      <td>78</td>\n      <td>79</td>\n      <td>80</td>\n    </tr>\n    <tr>\n      <th>2023-01-21</th>\n      <td>81</td>\n      <td>82</td>\n      <td>83</td>\n      <td>84</td>\n    </tr>\n    <tr>\n      <th>2023-01-22</th>\n      <td>85</td>\n      <td>86</td>\n      <td>87</td>\n      <td>88</td>\n    </tr>\n    <tr>\n      <th>2023-01-23</th>\n      <td>89</td>\n      <td>90</td>\n      <td>91</td>\n      <td>92</td>\n    </tr>\n    <tr>\n      <th>2023-01-24</th>\n      <td>93</td>\n      <td>94</td>\n      <td>95</td>\n      <td>96</td>\n    </tr>\n    <tr>\n      <th>2023-01-25</th>\n      <td>97</td>\n      <td>98</td>\n      <td>99</td>\n      <td>100</td>\n    </tr>\n    <tr>\n      <th>2023-01-26</th>\n      <td>101</td>\n      <td>102</td>\n      <td>103</td>\n      <td>104</td>\n    </tr>\n    <tr>\n      <th>2023-01-27</th>\n      <td>105</td>\n      <td>106</td>\n      <td>107</td>\n      <td>108</td>\n    </tr>\n    <tr>\n      <th>2023-01-28</th>\n      <td>109</td>\n      <td>110</td>\n      <td>111</td>\n      <td>112</td>\n    </tr>\n    <tr>\n      <th>2023-01-29</th>\n      <td>113</td>\n      <td>114</td>\n      <td>115</td>\n      <td>116</td>\n    </tr>\n    <tr>\n      <th>2023-01-30</th>\n      <td>117</td>\n      <td>118</td>\n      <td>119</td>\n      <td>120</td>\n    </tr>\n  </tbody>\n</table>\n</div>"
     },
     "execution_count": 64,
     "metadata": {},
     "output_type": "execute_result"
    }
   ],
   "source": [
    "# DataFrame.sort_index() sorts by an axis:\n",
    "df.sort_index()\n"
   ],
   "metadata": {
    "collapsed": false,
    "pycharm": {
     "name": "#%%\n"
    }
   }
  },
  {
   "cell_type": "code",
   "execution_count": 66,
   "outputs": [
    {
     "data": {
      "text/plain": "              A    B    C    D\n2023-01-30  117  118  119  120\n2023-01-29  113  114  115  116\n2023-01-28  109  110  111  112\n2023-01-27  105  106  107  108\n2023-01-26  101  102  103  104\n2023-01-25   97   98   99  100\n2023-01-24   93   94   95   96\n2023-01-23   89   90   91   92\n2023-01-22   85   86   87   88\n2023-01-21   81   82   83   84\n2023-01-20   77   78   79   80\n2023-01-19   73   74   75   76\n2023-01-18   69   70   71   72\n2023-01-17   65   66   67   68\n2023-01-16   61   62   63   64\n2023-01-15   57   58   59   60\n2023-01-14   53   54   55   56\n2023-01-13   49   50   51   52\n2023-01-12   45   46   47   48\n2023-01-11   41   42   43   44\n2023-01-10   37   38   39   40\n2023-01-09   33   34   35   36\n2023-01-08   29   30   31   32\n2023-01-07   25   26   27   28\n2023-01-06   21   22   23   24\n2023-01-05   17   18   19   20\n2023-01-04   13   14   15   16\n2023-01-03    9   10   11   12\n2023-01-02    5    6    7    8\n2023-01-01    1    2    3    4",
      "text/html": "<div>\n<style scoped>\n    .dataframe tbody tr th:only-of-type {\n        vertical-align: middle;\n    }\n\n    .dataframe tbody tr th {\n        vertical-align: top;\n    }\n\n    .dataframe thead th {\n        text-align: right;\n    }\n</style>\n<table border=\"1\" class=\"dataframe\">\n  <thead>\n    <tr style=\"text-align: right;\">\n      <th></th>\n      <th>A</th>\n      <th>B</th>\n      <th>C</th>\n      <th>D</th>\n    </tr>\n  </thead>\n  <tbody>\n    <tr>\n      <th>2023-01-30</th>\n      <td>117</td>\n      <td>118</td>\n      <td>119</td>\n      <td>120</td>\n    </tr>\n    <tr>\n      <th>2023-01-29</th>\n      <td>113</td>\n      <td>114</td>\n      <td>115</td>\n      <td>116</td>\n    </tr>\n    <tr>\n      <th>2023-01-28</th>\n      <td>109</td>\n      <td>110</td>\n      <td>111</td>\n      <td>112</td>\n    </tr>\n    <tr>\n      <th>2023-01-27</th>\n      <td>105</td>\n      <td>106</td>\n      <td>107</td>\n      <td>108</td>\n    </tr>\n    <tr>\n      <th>2023-01-26</th>\n      <td>101</td>\n      <td>102</td>\n      <td>103</td>\n      <td>104</td>\n    </tr>\n    <tr>\n      <th>2023-01-25</th>\n      <td>97</td>\n      <td>98</td>\n      <td>99</td>\n      <td>100</td>\n    </tr>\n    <tr>\n      <th>2023-01-24</th>\n      <td>93</td>\n      <td>94</td>\n      <td>95</td>\n      <td>96</td>\n    </tr>\n    <tr>\n      <th>2023-01-23</th>\n      <td>89</td>\n      <td>90</td>\n      <td>91</td>\n      <td>92</td>\n    </tr>\n    <tr>\n      <th>2023-01-22</th>\n      <td>85</td>\n      <td>86</td>\n      <td>87</td>\n      <td>88</td>\n    </tr>\n    <tr>\n      <th>2023-01-21</th>\n      <td>81</td>\n      <td>82</td>\n      <td>83</td>\n      <td>84</td>\n    </tr>\n    <tr>\n      <th>2023-01-20</th>\n      <td>77</td>\n      <td>78</td>\n      <td>79</td>\n      <td>80</td>\n    </tr>\n    <tr>\n      <th>2023-01-19</th>\n      <td>73</td>\n      <td>74</td>\n      <td>75</td>\n      <td>76</td>\n    </tr>\n    <tr>\n      <th>2023-01-18</th>\n      <td>69</td>\n      <td>70</td>\n      <td>71</td>\n      <td>72</td>\n    </tr>\n    <tr>\n      <th>2023-01-17</th>\n      <td>65</td>\n      <td>66</td>\n      <td>67</td>\n      <td>68</td>\n    </tr>\n    <tr>\n      <th>2023-01-16</th>\n      <td>61</td>\n      <td>62</td>\n      <td>63</td>\n      <td>64</td>\n    </tr>\n    <tr>\n      <th>2023-01-15</th>\n      <td>57</td>\n      <td>58</td>\n      <td>59</td>\n      <td>60</td>\n    </tr>\n    <tr>\n      <th>2023-01-14</th>\n      <td>53</td>\n      <td>54</td>\n      <td>55</td>\n      <td>56</td>\n    </tr>\n    <tr>\n      <th>2023-01-13</th>\n      <td>49</td>\n      <td>50</td>\n      <td>51</td>\n      <td>52</td>\n    </tr>\n    <tr>\n      <th>2023-01-12</th>\n      <td>45</td>\n      <td>46</td>\n      <td>47</td>\n      <td>48</td>\n    </tr>\n    <tr>\n      <th>2023-01-11</th>\n      <td>41</td>\n      <td>42</td>\n      <td>43</td>\n      <td>44</td>\n    </tr>\n    <tr>\n      <th>2023-01-10</th>\n      <td>37</td>\n      <td>38</td>\n      <td>39</td>\n      <td>40</td>\n    </tr>\n    <tr>\n      <th>2023-01-09</th>\n      <td>33</td>\n      <td>34</td>\n      <td>35</td>\n      <td>36</td>\n    </tr>\n    <tr>\n      <th>2023-01-08</th>\n      <td>29</td>\n      <td>30</td>\n      <td>31</td>\n      <td>32</td>\n    </tr>\n    <tr>\n      <th>2023-01-07</th>\n      <td>25</td>\n      <td>26</td>\n      <td>27</td>\n      <td>28</td>\n    </tr>\n    <tr>\n      <th>2023-01-06</th>\n      <td>21</td>\n      <td>22</td>\n      <td>23</td>\n      <td>24</td>\n    </tr>\n    <tr>\n      <th>2023-01-05</th>\n      <td>17</td>\n      <td>18</td>\n      <td>19</td>\n      <td>20</td>\n    </tr>\n    <tr>\n      <th>2023-01-04</th>\n      <td>13</td>\n      <td>14</td>\n      <td>15</td>\n      <td>16</td>\n    </tr>\n    <tr>\n      <th>2023-01-03</th>\n      <td>9</td>\n      <td>10</td>\n      <td>11</td>\n      <td>12</td>\n    </tr>\n    <tr>\n      <th>2023-01-02</th>\n      <td>5</td>\n      <td>6</td>\n      <td>7</td>\n      <td>8</td>\n    </tr>\n    <tr>\n      <th>2023-01-01</th>\n      <td>1</td>\n      <td>2</td>\n      <td>3</td>\n      <td>4</td>\n    </tr>\n  </tbody>\n</table>\n</div>"
     },
     "execution_count": 66,
     "metadata": {},
     "output_type": "execute_result"
    }
   ],
   "source": [
    "df.sort_index(ascending=False)"
   ],
   "metadata": {
    "collapsed": false,
    "pycharm": {
     "name": "#%%\n"
    }
   }
  },
  {
   "cell_type": "code",
   "execution_count": 70,
   "outputs": [
    {
     "data": {
      "text/plain": "              D    C    B    A\n2023-01-01    4    3    2    1\n2023-01-02    8    7    6    5\n2023-01-03   12   11   10    9\n2023-01-04   16   15   14   13\n2023-01-05   20   19   18   17\n2023-01-06   24   23   22   21\n2023-01-07   28   27   26   25\n2023-01-08   32   31   30   29\n2023-01-09   36   35   34   33\n2023-01-10   40   39   38   37\n2023-01-11   44   43   42   41\n2023-01-12   48   47   46   45\n2023-01-13   52   51   50   49\n2023-01-14   56   55   54   53\n2023-01-15   60   59   58   57\n2023-01-16   64   63   62   61\n2023-01-17   68   67   66   65\n2023-01-18   72   71   70   69\n2023-01-19   76   75   74   73\n2023-01-20   80   79   78   77\n2023-01-21   84   83   82   81\n2023-01-22   88   87   86   85\n2023-01-23   92   91   90   89\n2023-01-24   96   95   94   93\n2023-01-25  100   99   98   97\n2023-01-26  104  103  102  101\n2023-01-27  108  107  106  105\n2023-01-28  112  111  110  109\n2023-01-29  116  115  114  113\n2023-01-30  120  119  118  117",
      "text/html": "<div>\n<style scoped>\n    .dataframe tbody tr th:only-of-type {\n        vertical-align: middle;\n    }\n\n    .dataframe tbody tr th {\n        vertical-align: top;\n    }\n\n    .dataframe thead th {\n        text-align: right;\n    }\n</style>\n<table border=\"1\" class=\"dataframe\">\n  <thead>\n    <tr style=\"text-align: right;\">\n      <th></th>\n      <th>D</th>\n      <th>C</th>\n      <th>B</th>\n      <th>A</th>\n    </tr>\n  </thead>\n  <tbody>\n    <tr>\n      <th>2023-01-01</th>\n      <td>4</td>\n      <td>3</td>\n      <td>2</td>\n      <td>1</td>\n    </tr>\n    <tr>\n      <th>2023-01-02</th>\n      <td>8</td>\n      <td>7</td>\n      <td>6</td>\n      <td>5</td>\n    </tr>\n    <tr>\n      <th>2023-01-03</th>\n      <td>12</td>\n      <td>11</td>\n      <td>10</td>\n      <td>9</td>\n    </tr>\n    <tr>\n      <th>2023-01-04</th>\n      <td>16</td>\n      <td>15</td>\n      <td>14</td>\n      <td>13</td>\n    </tr>\n    <tr>\n      <th>2023-01-05</th>\n      <td>20</td>\n      <td>19</td>\n      <td>18</td>\n      <td>17</td>\n    </tr>\n    <tr>\n      <th>2023-01-06</th>\n      <td>24</td>\n      <td>23</td>\n      <td>22</td>\n      <td>21</td>\n    </tr>\n    <tr>\n      <th>2023-01-07</th>\n      <td>28</td>\n      <td>27</td>\n      <td>26</td>\n      <td>25</td>\n    </tr>\n    <tr>\n      <th>2023-01-08</th>\n      <td>32</td>\n      <td>31</td>\n      <td>30</td>\n      <td>29</td>\n    </tr>\n    <tr>\n      <th>2023-01-09</th>\n      <td>36</td>\n      <td>35</td>\n      <td>34</td>\n      <td>33</td>\n    </tr>\n    <tr>\n      <th>2023-01-10</th>\n      <td>40</td>\n      <td>39</td>\n      <td>38</td>\n      <td>37</td>\n    </tr>\n    <tr>\n      <th>2023-01-11</th>\n      <td>44</td>\n      <td>43</td>\n      <td>42</td>\n      <td>41</td>\n    </tr>\n    <tr>\n      <th>2023-01-12</th>\n      <td>48</td>\n      <td>47</td>\n      <td>46</td>\n      <td>45</td>\n    </tr>\n    <tr>\n      <th>2023-01-13</th>\n      <td>52</td>\n      <td>51</td>\n      <td>50</td>\n      <td>49</td>\n    </tr>\n    <tr>\n      <th>2023-01-14</th>\n      <td>56</td>\n      <td>55</td>\n      <td>54</td>\n      <td>53</td>\n    </tr>\n    <tr>\n      <th>2023-01-15</th>\n      <td>60</td>\n      <td>59</td>\n      <td>58</td>\n      <td>57</td>\n    </tr>\n    <tr>\n      <th>2023-01-16</th>\n      <td>64</td>\n      <td>63</td>\n      <td>62</td>\n      <td>61</td>\n    </tr>\n    <tr>\n      <th>2023-01-17</th>\n      <td>68</td>\n      <td>67</td>\n      <td>66</td>\n      <td>65</td>\n    </tr>\n    <tr>\n      <th>2023-01-18</th>\n      <td>72</td>\n      <td>71</td>\n      <td>70</td>\n      <td>69</td>\n    </tr>\n    <tr>\n      <th>2023-01-19</th>\n      <td>76</td>\n      <td>75</td>\n      <td>74</td>\n      <td>73</td>\n    </tr>\n    <tr>\n      <th>2023-01-20</th>\n      <td>80</td>\n      <td>79</td>\n      <td>78</td>\n      <td>77</td>\n    </tr>\n    <tr>\n      <th>2023-01-21</th>\n      <td>84</td>\n      <td>83</td>\n      <td>82</td>\n      <td>81</td>\n    </tr>\n    <tr>\n      <th>2023-01-22</th>\n      <td>88</td>\n      <td>87</td>\n      <td>86</td>\n      <td>85</td>\n    </tr>\n    <tr>\n      <th>2023-01-23</th>\n      <td>92</td>\n      <td>91</td>\n      <td>90</td>\n      <td>89</td>\n    </tr>\n    <tr>\n      <th>2023-01-24</th>\n      <td>96</td>\n      <td>95</td>\n      <td>94</td>\n      <td>93</td>\n    </tr>\n    <tr>\n      <th>2023-01-25</th>\n      <td>100</td>\n      <td>99</td>\n      <td>98</td>\n      <td>97</td>\n    </tr>\n    <tr>\n      <th>2023-01-26</th>\n      <td>104</td>\n      <td>103</td>\n      <td>102</td>\n      <td>101</td>\n    </tr>\n    <tr>\n      <th>2023-01-27</th>\n      <td>108</td>\n      <td>107</td>\n      <td>106</td>\n      <td>105</td>\n    </tr>\n    <tr>\n      <th>2023-01-28</th>\n      <td>112</td>\n      <td>111</td>\n      <td>110</td>\n      <td>109</td>\n    </tr>\n    <tr>\n      <th>2023-01-29</th>\n      <td>116</td>\n      <td>115</td>\n      <td>114</td>\n      <td>113</td>\n    </tr>\n    <tr>\n      <th>2023-01-30</th>\n      <td>120</td>\n      <td>119</td>\n      <td>118</td>\n      <td>117</td>\n    </tr>\n  </tbody>\n</table>\n</div>"
     },
     "execution_count": 70,
     "metadata": {},
     "output_type": "execute_result"
    }
   ],
   "source": [
    "df.sort_index(axis=1, ascending=False)\n"
   ],
   "metadata": {
    "collapsed": false,
    "pycharm": {
     "name": "#%%\n"
    }
   }
  },
  {
   "cell_type": "code",
   "execution_count": 71,
   "outputs": [
    {
     "data": {
      "text/plain": "              A    B    C    D\n2023-01-30  117  118  119  120\n2023-01-29  113  114  115  116\n2023-01-28  109  110  111  112\n2023-01-27  105  106  107  108\n2023-01-26  101  102  103  104\n2023-01-25   97   98   99  100\n2023-01-24   93   94   95   96\n2023-01-23   89   90   91   92\n2023-01-22   85   86   87   88\n2023-01-21   81   82   83   84\n2023-01-20   77   78   79   80\n2023-01-19   73   74   75   76\n2023-01-18   69   70   71   72\n2023-01-17   65   66   67   68\n2023-01-16   61   62   63   64\n2023-01-15   57   58   59   60\n2023-01-14   53   54   55   56\n2023-01-13   49   50   51   52\n2023-01-12   45   46   47   48\n2023-01-11   41   42   43   44\n2023-01-10   37   38   39   40\n2023-01-09   33   34   35   36\n2023-01-08   29   30   31   32\n2023-01-07   25   26   27   28\n2023-01-06   21   22   23   24\n2023-01-05   17   18   19   20\n2023-01-04   13   14   15   16\n2023-01-03    9   10   11   12\n2023-01-02    5    6    7    8\n2023-01-01    1    2    3    4",
      "text/html": "<div>\n<style scoped>\n    .dataframe tbody tr th:only-of-type {\n        vertical-align: middle;\n    }\n\n    .dataframe tbody tr th {\n        vertical-align: top;\n    }\n\n    .dataframe thead th {\n        text-align: right;\n    }\n</style>\n<table border=\"1\" class=\"dataframe\">\n  <thead>\n    <tr style=\"text-align: right;\">\n      <th></th>\n      <th>A</th>\n      <th>B</th>\n      <th>C</th>\n      <th>D</th>\n    </tr>\n  </thead>\n  <tbody>\n    <tr>\n      <th>2023-01-30</th>\n      <td>117</td>\n      <td>118</td>\n      <td>119</td>\n      <td>120</td>\n    </tr>\n    <tr>\n      <th>2023-01-29</th>\n      <td>113</td>\n      <td>114</td>\n      <td>115</td>\n      <td>116</td>\n    </tr>\n    <tr>\n      <th>2023-01-28</th>\n      <td>109</td>\n      <td>110</td>\n      <td>111</td>\n      <td>112</td>\n    </tr>\n    <tr>\n      <th>2023-01-27</th>\n      <td>105</td>\n      <td>106</td>\n      <td>107</td>\n      <td>108</td>\n    </tr>\n    <tr>\n      <th>2023-01-26</th>\n      <td>101</td>\n      <td>102</td>\n      <td>103</td>\n      <td>104</td>\n    </tr>\n    <tr>\n      <th>2023-01-25</th>\n      <td>97</td>\n      <td>98</td>\n      <td>99</td>\n      <td>100</td>\n    </tr>\n    <tr>\n      <th>2023-01-24</th>\n      <td>93</td>\n      <td>94</td>\n      <td>95</td>\n      <td>96</td>\n    </tr>\n    <tr>\n      <th>2023-01-23</th>\n      <td>89</td>\n      <td>90</td>\n      <td>91</td>\n      <td>92</td>\n    </tr>\n    <tr>\n      <th>2023-01-22</th>\n      <td>85</td>\n      <td>86</td>\n      <td>87</td>\n      <td>88</td>\n    </tr>\n    <tr>\n      <th>2023-01-21</th>\n      <td>81</td>\n      <td>82</td>\n      <td>83</td>\n      <td>84</td>\n    </tr>\n    <tr>\n      <th>2023-01-20</th>\n      <td>77</td>\n      <td>78</td>\n      <td>79</td>\n      <td>80</td>\n    </tr>\n    <tr>\n      <th>2023-01-19</th>\n      <td>73</td>\n      <td>74</td>\n      <td>75</td>\n      <td>76</td>\n    </tr>\n    <tr>\n      <th>2023-01-18</th>\n      <td>69</td>\n      <td>70</td>\n      <td>71</td>\n      <td>72</td>\n    </tr>\n    <tr>\n      <th>2023-01-17</th>\n      <td>65</td>\n      <td>66</td>\n      <td>67</td>\n      <td>68</td>\n    </tr>\n    <tr>\n      <th>2023-01-16</th>\n      <td>61</td>\n      <td>62</td>\n      <td>63</td>\n      <td>64</td>\n    </tr>\n    <tr>\n      <th>2023-01-15</th>\n      <td>57</td>\n      <td>58</td>\n      <td>59</td>\n      <td>60</td>\n    </tr>\n    <tr>\n      <th>2023-01-14</th>\n      <td>53</td>\n      <td>54</td>\n      <td>55</td>\n      <td>56</td>\n    </tr>\n    <tr>\n      <th>2023-01-13</th>\n      <td>49</td>\n      <td>50</td>\n      <td>51</td>\n      <td>52</td>\n    </tr>\n    <tr>\n      <th>2023-01-12</th>\n      <td>45</td>\n      <td>46</td>\n      <td>47</td>\n      <td>48</td>\n    </tr>\n    <tr>\n      <th>2023-01-11</th>\n      <td>41</td>\n      <td>42</td>\n      <td>43</td>\n      <td>44</td>\n    </tr>\n    <tr>\n      <th>2023-01-10</th>\n      <td>37</td>\n      <td>38</td>\n      <td>39</td>\n      <td>40</td>\n    </tr>\n    <tr>\n      <th>2023-01-09</th>\n      <td>33</td>\n      <td>34</td>\n      <td>35</td>\n      <td>36</td>\n    </tr>\n    <tr>\n      <th>2023-01-08</th>\n      <td>29</td>\n      <td>30</td>\n      <td>31</td>\n      <td>32</td>\n    </tr>\n    <tr>\n      <th>2023-01-07</th>\n      <td>25</td>\n      <td>26</td>\n      <td>27</td>\n      <td>28</td>\n    </tr>\n    <tr>\n      <th>2023-01-06</th>\n      <td>21</td>\n      <td>22</td>\n      <td>23</td>\n      <td>24</td>\n    </tr>\n    <tr>\n      <th>2023-01-05</th>\n      <td>17</td>\n      <td>18</td>\n      <td>19</td>\n      <td>20</td>\n    </tr>\n    <tr>\n      <th>2023-01-04</th>\n      <td>13</td>\n      <td>14</td>\n      <td>15</td>\n      <td>16</td>\n    </tr>\n    <tr>\n      <th>2023-01-03</th>\n      <td>9</td>\n      <td>10</td>\n      <td>11</td>\n      <td>12</td>\n    </tr>\n    <tr>\n      <th>2023-01-02</th>\n      <td>5</td>\n      <td>6</td>\n      <td>7</td>\n      <td>8</td>\n    </tr>\n    <tr>\n      <th>2023-01-01</th>\n      <td>1</td>\n      <td>2</td>\n      <td>3</td>\n      <td>4</td>\n    </tr>\n  </tbody>\n</table>\n</div>"
     },
     "execution_count": 71,
     "metadata": {},
     "output_type": "execute_result"
    }
   ],
   "source": [
    "df.sort_index(axis=0, ascending=False)\n"
   ],
   "metadata": {
    "collapsed": false,
    "pycharm": {
     "name": "#%%\n"
    }
   }
  },
  {
   "cell_type": "code",
   "execution_count": 72,
   "outputs": [
    {
     "data": {
      "text/plain": "              A    B    C    D\n2023-01-01    1    2    3    4\n2023-01-02    5    6    7    8\n2023-01-03    9   10   11   12\n2023-01-04   13   14   15   16\n2023-01-05   17   18   19   20\n2023-01-06   21   22   23   24\n2023-01-07   25   26   27   28\n2023-01-08   29   30   31   32\n2023-01-09   33   34   35   36\n2023-01-10   37   38   39   40\n2023-01-11   41   42   43   44\n2023-01-12   45   46   47   48\n2023-01-13   49   50   51   52\n2023-01-14   53   54   55   56\n2023-01-15   57   58   59   60\n2023-01-16   61   62   63   64\n2023-01-17   65   66   67   68\n2023-01-18   69   70   71   72\n2023-01-19   73   74   75   76\n2023-01-20   77   78   79   80\n2023-01-21   81   82   83   84\n2023-01-22   85   86   87   88\n2023-01-23   89   90   91   92\n2023-01-24   93   94   95   96\n2023-01-25   97   98   99  100\n2023-01-26  101  102  103  104\n2023-01-27  105  106  107  108\n2023-01-28  109  110  111  112\n2023-01-29  113  114  115  116\n2023-01-30  117  118  119  120",
      "text/html": "<div>\n<style scoped>\n    .dataframe tbody tr th:only-of-type {\n        vertical-align: middle;\n    }\n\n    .dataframe tbody tr th {\n        vertical-align: top;\n    }\n\n    .dataframe thead th {\n        text-align: right;\n    }\n</style>\n<table border=\"1\" class=\"dataframe\">\n  <thead>\n    <tr style=\"text-align: right;\">\n      <th></th>\n      <th>A</th>\n      <th>B</th>\n      <th>C</th>\n      <th>D</th>\n    </tr>\n  </thead>\n  <tbody>\n    <tr>\n      <th>2023-01-01</th>\n      <td>1</td>\n      <td>2</td>\n      <td>3</td>\n      <td>4</td>\n    </tr>\n    <tr>\n      <th>2023-01-02</th>\n      <td>5</td>\n      <td>6</td>\n      <td>7</td>\n      <td>8</td>\n    </tr>\n    <tr>\n      <th>2023-01-03</th>\n      <td>9</td>\n      <td>10</td>\n      <td>11</td>\n      <td>12</td>\n    </tr>\n    <tr>\n      <th>2023-01-04</th>\n      <td>13</td>\n      <td>14</td>\n      <td>15</td>\n      <td>16</td>\n    </tr>\n    <tr>\n      <th>2023-01-05</th>\n      <td>17</td>\n      <td>18</td>\n      <td>19</td>\n      <td>20</td>\n    </tr>\n    <tr>\n      <th>2023-01-06</th>\n      <td>21</td>\n      <td>22</td>\n      <td>23</td>\n      <td>24</td>\n    </tr>\n    <tr>\n      <th>2023-01-07</th>\n      <td>25</td>\n      <td>26</td>\n      <td>27</td>\n      <td>28</td>\n    </tr>\n    <tr>\n      <th>2023-01-08</th>\n      <td>29</td>\n      <td>30</td>\n      <td>31</td>\n      <td>32</td>\n    </tr>\n    <tr>\n      <th>2023-01-09</th>\n      <td>33</td>\n      <td>34</td>\n      <td>35</td>\n      <td>36</td>\n    </tr>\n    <tr>\n      <th>2023-01-10</th>\n      <td>37</td>\n      <td>38</td>\n      <td>39</td>\n      <td>40</td>\n    </tr>\n    <tr>\n      <th>2023-01-11</th>\n      <td>41</td>\n      <td>42</td>\n      <td>43</td>\n      <td>44</td>\n    </tr>\n    <tr>\n      <th>2023-01-12</th>\n      <td>45</td>\n      <td>46</td>\n      <td>47</td>\n      <td>48</td>\n    </tr>\n    <tr>\n      <th>2023-01-13</th>\n      <td>49</td>\n      <td>50</td>\n      <td>51</td>\n      <td>52</td>\n    </tr>\n    <tr>\n      <th>2023-01-14</th>\n      <td>53</td>\n      <td>54</td>\n      <td>55</td>\n      <td>56</td>\n    </tr>\n    <tr>\n      <th>2023-01-15</th>\n      <td>57</td>\n      <td>58</td>\n      <td>59</td>\n      <td>60</td>\n    </tr>\n    <tr>\n      <th>2023-01-16</th>\n      <td>61</td>\n      <td>62</td>\n      <td>63</td>\n      <td>64</td>\n    </tr>\n    <tr>\n      <th>2023-01-17</th>\n      <td>65</td>\n      <td>66</td>\n      <td>67</td>\n      <td>68</td>\n    </tr>\n    <tr>\n      <th>2023-01-18</th>\n      <td>69</td>\n      <td>70</td>\n      <td>71</td>\n      <td>72</td>\n    </tr>\n    <tr>\n      <th>2023-01-19</th>\n      <td>73</td>\n      <td>74</td>\n      <td>75</td>\n      <td>76</td>\n    </tr>\n    <tr>\n      <th>2023-01-20</th>\n      <td>77</td>\n      <td>78</td>\n      <td>79</td>\n      <td>80</td>\n    </tr>\n    <tr>\n      <th>2023-01-21</th>\n      <td>81</td>\n      <td>82</td>\n      <td>83</td>\n      <td>84</td>\n    </tr>\n    <tr>\n      <th>2023-01-22</th>\n      <td>85</td>\n      <td>86</td>\n      <td>87</td>\n      <td>88</td>\n    </tr>\n    <tr>\n      <th>2023-01-23</th>\n      <td>89</td>\n      <td>90</td>\n      <td>91</td>\n      <td>92</td>\n    </tr>\n    <tr>\n      <th>2023-01-24</th>\n      <td>93</td>\n      <td>94</td>\n      <td>95</td>\n      <td>96</td>\n    </tr>\n    <tr>\n      <th>2023-01-25</th>\n      <td>97</td>\n      <td>98</td>\n      <td>99</td>\n      <td>100</td>\n    </tr>\n    <tr>\n      <th>2023-01-26</th>\n      <td>101</td>\n      <td>102</td>\n      <td>103</td>\n      <td>104</td>\n    </tr>\n    <tr>\n      <th>2023-01-27</th>\n      <td>105</td>\n      <td>106</td>\n      <td>107</td>\n      <td>108</td>\n    </tr>\n    <tr>\n      <th>2023-01-28</th>\n      <td>109</td>\n      <td>110</td>\n      <td>111</td>\n      <td>112</td>\n    </tr>\n    <tr>\n      <th>2023-01-29</th>\n      <td>113</td>\n      <td>114</td>\n      <td>115</td>\n      <td>116</td>\n    </tr>\n    <tr>\n      <th>2023-01-30</th>\n      <td>117</td>\n      <td>118</td>\n      <td>119</td>\n      <td>120</td>\n    </tr>\n  </tbody>\n</table>\n</div>"
     },
     "execution_count": 72,
     "metadata": {},
     "output_type": "execute_result"
    }
   ],
   "source": [
    "# DataFrame.sort_values() sorts by values:\n",
    "df.sort_values(by=\"B\")\n"
   ],
   "metadata": {
    "collapsed": false,
    "pycharm": {
     "name": "#%%\n"
    }
   }
  },
  {
   "cell_type": "code",
   "execution_count": 73,
   "outputs": [
    {
     "data": {
      "text/plain": "              A    B    C    D\n2023-01-30  117  118  119  120\n2023-01-29  113  114  115  116\n2023-01-28  109  110  111  112\n2023-01-27  105  106  107  108\n2023-01-26  101  102  103  104\n2023-01-25   97   98   99  100\n2023-01-24   93   94   95   96\n2023-01-23   89   90   91   92\n2023-01-22   85   86   87   88\n2023-01-21   81   82   83   84\n2023-01-20   77   78   79   80\n2023-01-19   73   74   75   76\n2023-01-18   69   70   71   72\n2023-01-17   65   66   67   68\n2023-01-16   61   62   63   64\n2023-01-15   57   58   59   60\n2023-01-14   53   54   55   56\n2023-01-13   49   50   51   52\n2023-01-12   45   46   47   48\n2023-01-11   41   42   43   44\n2023-01-10   37   38   39   40\n2023-01-09   33   34   35   36\n2023-01-08   29   30   31   32\n2023-01-07   25   26   27   28\n2023-01-06   21   22   23   24\n2023-01-05   17   18   19   20\n2023-01-04   13   14   15   16\n2023-01-03    9   10   11   12\n2023-01-02    5    6    7    8\n2023-01-01    1    2    3    4",
      "text/html": "<div>\n<style scoped>\n    .dataframe tbody tr th:only-of-type {\n        vertical-align: middle;\n    }\n\n    .dataframe tbody tr th {\n        vertical-align: top;\n    }\n\n    .dataframe thead th {\n        text-align: right;\n    }\n</style>\n<table border=\"1\" class=\"dataframe\">\n  <thead>\n    <tr style=\"text-align: right;\">\n      <th></th>\n      <th>A</th>\n      <th>B</th>\n      <th>C</th>\n      <th>D</th>\n    </tr>\n  </thead>\n  <tbody>\n    <tr>\n      <th>2023-01-30</th>\n      <td>117</td>\n      <td>118</td>\n      <td>119</td>\n      <td>120</td>\n    </tr>\n    <tr>\n      <th>2023-01-29</th>\n      <td>113</td>\n      <td>114</td>\n      <td>115</td>\n      <td>116</td>\n    </tr>\n    <tr>\n      <th>2023-01-28</th>\n      <td>109</td>\n      <td>110</td>\n      <td>111</td>\n      <td>112</td>\n    </tr>\n    <tr>\n      <th>2023-01-27</th>\n      <td>105</td>\n      <td>106</td>\n      <td>107</td>\n      <td>108</td>\n    </tr>\n    <tr>\n      <th>2023-01-26</th>\n      <td>101</td>\n      <td>102</td>\n      <td>103</td>\n      <td>104</td>\n    </tr>\n    <tr>\n      <th>2023-01-25</th>\n      <td>97</td>\n      <td>98</td>\n      <td>99</td>\n      <td>100</td>\n    </tr>\n    <tr>\n      <th>2023-01-24</th>\n      <td>93</td>\n      <td>94</td>\n      <td>95</td>\n      <td>96</td>\n    </tr>\n    <tr>\n      <th>2023-01-23</th>\n      <td>89</td>\n      <td>90</td>\n      <td>91</td>\n      <td>92</td>\n    </tr>\n    <tr>\n      <th>2023-01-22</th>\n      <td>85</td>\n      <td>86</td>\n      <td>87</td>\n      <td>88</td>\n    </tr>\n    <tr>\n      <th>2023-01-21</th>\n      <td>81</td>\n      <td>82</td>\n      <td>83</td>\n      <td>84</td>\n    </tr>\n    <tr>\n      <th>2023-01-20</th>\n      <td>77</td>\n      <td>78</td>\n      <td>79</td>\n      <td>80</td>\n    </tr>\n    <tr>\n      <th>2023-01-19</th>\n      <td>73</td>\n      <td>74</td>\n      <td>75</td>\n      <td>76</td>\n    </tr>\n    <tr>\n      <th>2023-01-18</th>\n      <td>69</td>\n      <td>70</td>\n      <td>71</td>\n      <td>72</td>\n    </tr>\n    <tr>\n      <th>2023-01-17</th>\n      <td>65</td>\n      <td>66</td>\n      <td>67</td>\n      <td>68</td>\n    </tr>\n    <tr>\n      <th>2023-01-16</th>\n      <td>61</td>\n      <td>62</td>\n      <td>63</td>\n      <td>64</td>\n    </tr>\n    <tr>\n      <th>2023-01-15</th>\n      <td>57</td>\n      <td>58</td>\n      <td>59</td>\n      <td>60</td>\n    </tr>\n    <tr>\n      <th>2023-01-14</th>\n      <td>53</td>\n      <td>54</td>\n      <td>55</td>\n      <td>56</td>\n    </tr>\n    <tr>\n      <th>2023-01-13</th>\n      <td>49</td>\n      <td>50</td>\n      <td>51</td>\n      <td>52</td>\n    </tr>\n    <tr>\n      <th>2023-01-12</th>\n      <td>45</td>\n      <td>46</td>\n      <td>47</td>\n      <td>48</td>\n    </tr>\n    <tr>\n      <th>2023-01-11</th>\n      <td>41</td>\n      <td>42</td>\n      <td>43</td>\n      <td>44</td>\n    </tr>\n    <tr>\n      <th>2023-01-10</th>\n      <td>37</td>\n      <td>38</td>\n      <td>39</td>\n      <td>40</td>\n    </tr>\n    <tr>\n      <th>2023-01-09</th>\n      <td>33</td>\n      <td>34</td>\n      <td>35</td>\n      <td>36</td>\n    </tr>\n    <tr>\n      <th>2023-01-08</th>\n      <td>29</td>\n      <td>30</td>\n      <td>31</td>\n      <td>32</td>\n    </tr>\n    <tr>\n      <th>2023-01-07</th>\n      <td>25</td>\n      <td>26</td>\n      <td>27</td>\n      <td>28</td>\n    </tr>\n    <tr>\n      <th>2023-01-06</th>\n      <td>21</td>\n      <td>22</td>\n      <td>23</td>\n      <td>24</td>\n    </tr>\n    <tr>\n      <th>2023-01-05</th>\n      <td>17</td>\n      <td>18</td>\n      <td>19</td>\n      <td>20</td>\n    </tr>\n    <tr>\n      <th>2023-01-04</th>\n      <td>13</td>\n      <td>14</td>\n      <td>15</td>\n      <td>16</td>\n    </tr>\n    <tr>\n      <th>2023-01-03</th>\n      <td>9</td>\n      <td>10</td>\n      <td>11</td>\n      <td>12</td>\n    </tr>\n    <tr>\n      <th>2023-01-02</th>\n      <td>5</td>\n      <td>6</td>\n      <td>7</td>\n      <td>8</td>\n    </tr>\n    <tr>\n      <th>2023-01-01</th>\n      <td>1</td>\n      <td>2</td>\n      <td>3</td>\n      <td>4</td>\n    </tr>\n  </tbody>\n</table>\n</div>"
     },
     "execution_count": 73,
     "metadata": {},
     "output_type": "execute_result"
    }
   ],
   "source": [
    "df.sort_values(by=\"B\", ascending=False)\n"
   ],
   "metadata": {
    "collapsed": false,
    "pycharm": {
     "name": "#%%\n"
    }
   }
  },
  {
   "cell_type": "markdown",
   "source": [
    "## Getting\n",
    "<span style=\"color:red\"><b>Note</b></span>\n",
    "\n",
    "While standard Python / NumPy expressions for selecting and setting are intuitive and come in handy for interactive work, for production code, we recommend the optimized pandas data access methods, `DataFrame.at()`, `DataFrame.iat()`, `DataFrame.loc()` and `DataFrame.iloc()`."
   ],
   "metadata": {
    "collapsed": false,
    "pycharm": {
     "name": "#%% md\n"
    }
   }
  },
  {
   "cell_type": "code",
   "execution_count": 75,
   "outputs": [
    {
     "data": {
      "text/plain": "2023-01-01      1\n2023-01-02      5\n2023-01-03      9\n2023-01-04     13\n2023-01-05     17\n2023-01-06     21\n2023-01-07     25\n2023-01-08     29\n2023-01-09     33\n2023-01-10     37\n2023-01-11     41\n2023-01-12     45\n2023-01-13     49\n2023-01-14     53\n2023-01-15     57\n2023-01-16     61\n2023-01-17     65\n2023-01-18     69\n2023-01-19     73\n2023-01-20     77\n2023-01-21     81\n2023-01-22     85\n2023-01-23     89\n2023-01-24     93\n2023-01-25     97\n2023-01-26    101\n2023-01-27    105\n2023-01-28    109\n2023-01-29    113\n2023-01-30    117\nFreq: D, Name: A, dtype: int32"
     },
     "execution_count": 75,
     "metadata": {},
     "output_type": "execute_result"
    }
   ],
   "source": [
    "# Selecting a single column, which yields a Series, equivalent to df.A:\n",
    "df[\"A\"]"
   ],
   "metadata": {
    "collapsed": false,
    "pycharm": {
     "name": "#%%\n"
    }
   }
  },
  {
   "cell_type": "code",
   "execution_count": 76,
   "outputs": [
    {
     "data": {
      "text/plain": "            A   B   C   D\n2023-01-01  1   2   3   4\n2023-01-02  5   6   7   8\n2023-01-03  9  10  11  12",
      "text/html": "<div>\n<style scoped>\n    .dataframe tbody tr th:only-of-type {\n        vertical-align: middle;\n    }\n\n    .dataframe tbody tr th {\n        vertical-align: top;\n    }\n\n    .dataframe thead th {\n        text-align: right;\n    }\n</style>\n<table border=\"1\" class=\"dataframe\">\n  <thead>\n    <tr style=\"text-align: right;\">\n      <th></th>\n      <th>A</th>\n      <th>B</th>\n      <th>C</th>\n      <th>D</th>\n    </tr>\n  </thead>\n  <tbody>\n    <tr>\n      <th>2023-01-01</th>\n      <td>1</td>\n      <td>2</td>\n      <td>3</td>\n      <td>4</td>\n    </tr>\n    <tr>\n      <th>2023-01-02</th>\n      <td>5</td>\n      <td>6</td>\n      <td>7</td>\n      <td>8</td>\n    </tr>\n    <tr>\n      <th>2023-01-03</th>\n      <td>9</td>\n      <td>10</td>\n      <td>11</td>\n      <td>12</td>\n    </tr>\n  </tbody>\n</table>\n</div>"
     },
     "execution_count": 76,
     "metadata": {},
     "output_type": "execute_result"
    }
   ],
   "source": [
    "# Selecting via [] (__getitem__), which slices the rows:\n",
    "df[0:3]\n"
   ],
   "metadata": {
    "collapsed": false,
    "pycharm": {
     "name": "#%%\n"
    }
   }
  },
  {
   "cell_type": "code",
   "execution_count": 77,
   "outputs": [
    {
     "data": {
      "text/plain": "             A   B   C   D\n2023-01-01   1   2   3   4\n2023-01-02   5   6   7   8\n2023-01-03   9  10  11  12\n2023-01-04  13  14  15  16\n2023-01-05  17  18  19  20",
      "text/html": "<div>\n<style scoped>\n    .dataframe tbody tr th:only-of-type {\n        vertical-align: middle;\n    }\n\n    .dataframe tbody tr th {\n        vertical-align: top;\n    }\n\n    .dataframe thead th {\n        text-align: right;\n    }\n</style>\n<table border=\"1\" class=\"dataframe\">\n  <thead>\n    <tr style=\"text-align: right;\">\n      <th></th>\n      <th>A</th>\n      <th>B</th>\n      <th>C</th>\n      <th>D</th>\n    </tr>\n  </thead>\n  <tbody>\n    <tr>\n      <th>2023-01-01</th>\n      <td>1</td>\n      <td>2</td>\n      <td>3</td>\n      <td>4</td>\n    </tr>\n    <tr>\n      <th>2023-01-02</th>\n      <td>5</td>\n      <td>6</td>\n      <td>7</td>\n      <td>8</td>\n    </tr>\n    <tr>\n      <th>2023-01-03</th>\n      <td>9</td>\n      <td>10</td>\n      <td>11</td>\n      <td>12</td>\n    </tr>\n    <tr>\n      <th>2023-01-04</th>\n      <td>13</td>\n      <td>14</td>\n      <td>15</td>\n      <td>16</td>\n    </tr>\n    <tr>\n      <th>2023-01-05</th>\n      <td>17</td>\n      <td>18</td>\n      <td>19</td>\n      <td>20</td>\n    </tr>\n  </tbody>\n</table>\n</div>"
     },
     "execution_count": 77,
     "metadata": {},
     "output_type": "execute_result"
    }
   ],
   "source": [
    "df[\"20230101\": \"20230105\"]\n"
   ],
   "metadata": {
    "collapsed": false,
    "pycharm": {
     "name": "#%%\n"
    }
   }
  },
  {
   "cell_type": "markdown",
   "source": [
    "## Selection by label\n",
    "See more in Selection by Label using `DataFrame.loc()` or `DataFrame.at()`.\n"
   ],
   "metadata": {
    "collapsed": false,
    "pycharm": {
     "name": "#%% md\n"
    }
   }
  },
  {
   "cell_type": "code",
   "execution_count": 81,
   "outputs": [
    {
     "data": {
      "text/plain": "A    1\nB    2\nC    3\nD    4\nName: 2023-01-01 00:00:00, dtype: int32"
     },
     "execution_count": 81,
     "metadata": {},
     "output_type": "execute_result"
    }
   ],
   "source": [
    "# For getting a cross section using a label:\n",
    "# dates[0]\n",
    "# df.loc[\"20230101\"]\n",
    "df.loc[dates[0]]\n"
   ],
   "metadata": {
    "collapsed": false,
    "pycharm": {
     "name": "#%%\n"
    }
   }
  },
  {
   "cell_type": "code",
   "execution_count": 93,
   "outputs": [
    {
     "data": {
      "text/plain": "             C   D\n2023-01-04  15  16\n2023-01-05  19  20",
      "text/html": "<div>\n<style scoped>\n    .dataframe tbody tr th:only-of-type {\n        vertical-align: middle;\n    }\n\n    .dataframe tbody tr th {\n        vertical-align: top;\n    }\n\n    .dataframe thead th {\n        text-align: right;\n    }\n</style>\n<table border=\"1\" class=\"dataframe\">\n  <thead>\n    <tr style=\"text-align: right;\">\n      <th></th>\n      <th>C</th>\n      <th>D</th>\n    </tr>\n  </thead>\n  <tbody>\n    <tr>\n      <th>2023-01-04</th>\n      <td>15</td>\n      <td>16</td>\n    </tr>\n    <tr>\n      <th>2023-01-05</th>\n      <td>19</td>\n      <td>20</td>\n    </tr>\n  </tbody>\n</table>\n</div>"
     },
     "execution_count": 93,
     "metadata": {},
     "output_type": "execute_result"
    }
   ],
   "source": [
    "# Selecting on a multi-axis by label:\n",
    "# these are all valid examples of selection\n",
    "\n",
    "# df.loc[\"20230101\":\"20230105\", [\"A\", \"B\"]]\n",
    "# df.loc[\"20230101\":\"20230105\", list(\"AB\")]\n",
    "# df.loc[\"20230101\":\"20230105\", list(\"AC\")]\n",
    "# df.loc[dates[0:], list(\"CD\")]\n",
    "# df.loc[dates[0:len(dates)], list(\"CD\")]\n",
    "df.loc[dates[3:5], list(\"CD\")]"
   ],
   "metadata": {
    "collapsed": false,
    "pycharm": {
     "name": "#%%\n"
    }
   }
  },
  {
   "cell_type": "code",
   "execution_count": 95,
   "outputs": [
    {
     "data": {
      "text/plain": "             A   B\n2023-01-02   5   6\n2023-01-03   9  10\n2023-01-04  13  14",
      "text/html": "<div>\n<style scoped>\n    .dataframe tbody tr th:only-of-type {\n        vertical-align: middle;\n    }\n\n    .dataframe tbody tr th {\n        vertical-align: top;\n    }\n\n    .dataframe thead th {\n        text-align: right;\n    }\n</style>\n<table border=\"1\" class=\"dataframe\">\n  <thead>\n    <tr style=\"text-align: right;\">\n      <th></th>\n      <th>A</th>\n      <th>B</th>\n    </tr>\n  </thead>\n  <tbody>\n    <tr>\n      <th>2023-01-02</th>\n      <td>5</td>\n      <td>6</td>\n    </tr>\n    <tr>\n      <th>2023-01-03</th>\n      <td>9</td>\n      <td>10</td>\n    </tr>\n    <tr>\n      <th>2023-01-04</th>\n      <td>13</td>\n      <td>14</td>\n    </tr>\n  </tbody>\n</table>\n</div>"
     },
     "execution_count": 95,
     "metadata": {},
     "output_type": "execute_result"
    }
   ],
   "source": [
    "# Showing label slicing, both endpoints are included:\n",
    "df.loc[\"20230102\":\"20230104\", [\"A\", \"B\"]]\n"
   ],
   "metadata": {
    "collapsed": false,
    "pycharm": {
     "name": "#%%\n"
    }
   }
  },
  {
   "cell_type": "code",
   "execution_count": 96,
   "outputs": [
    {
     "data": {
      "text/plain": "A    5\nB    6\nName: 2023-01-02 00:00:00, dtype: int32"
     },
     "execution_count": 96,
     "metadata": {},
     "output_type": "execute_result"
    }
   ],
   "source": [
    "# Reduction in the dimensions of the returned object:\n",
    "df.loc[\"20230102\", [\"A\", \"B\"]]\n"
   ],
   "metadata": {
    "collapsed": false,
    "pycharm": {
     "name": "#%%\n"
    }
   }
  },
  {
   "cell_type": "code",
   "execution_count": 103,
   "outputs": [],
   "source": [
    "# KeyError when entry is not available\n",
    "# df.loc[\"20130102\", [\"A\", \"B\"]]\n"
   ],
   "metadata": {
    "collapsed": false,
    "pycharm": {
     "name": "#%%\n"
    }
   }
  },
  {
   "cell_type": "code",
   "execution_count": 109,
   "outputs": [
    {
     "data": {
      "text/plain": "pandas.core.series.Series"
     },
     "execution_count": 109,
     "metadata": {},
     "output_type": "execute_result"
    }
   ],
   "source": [
    "returned_val = df.loc[dates[0], list(\"D\")]\n",
    "type(returned_val)"
   ],
   "metadata": {
    "collapsed": false,
    "pycharm": {
     "name": "#%%\n"
    }
   }
  },
  {
   "cell_type": "code",
   "execution_count": 111,
   "outputs": [
    {
     "name": "stdout",
     "output_type": "stream",
     "text": [
      "4\n"
     ]
    },
    {
     "data": {
      "text/plain": "numpy.int32"
     },
     "execution_count": 111,
     "metadata": {},
     "output_type": "execute_result"
    }
   ],
   "source": [
    "# For getting a scalar value:\n",
    "returned_val2 = df.loc[dates[0], \"D\"]\n",
    "print(returned_val2)\n",
    "type(returned_val2)"
   ],
   "metadata": {
    "collapsed": false,
    "pycharm": {
     "name": "#%%\n"
    }
   }
  },
  {
   "cell_type": "code",
   "execution_count": 113,
   "outputs": [
    {
     "data": {
      "text/plain": "4"
     },
     "execution_count": 113,
     "metadata": {},
     "output_type": "execute_result"
    }
   ],
   "source": [
    "# For getting fast access to a scalar (equivalent to the prior method):\n",
    "df.at[dates[0], \"D\"]\n"
   ],
   "metadata": {
    "collapsed": false,
    "pycharm": {
     "name": "#%%\n"
    }
   }
  },
  {
   "cell_type": "markdown",
   "source": [
    "## Selection by position\n",
    "See more in Selection by Position using `DataFrame.iloc()` or `DataFrame.at()`.\n"
   ],
   "metadata": {
    "collapsed": false,
    "pycharm": {
     "name": "#%% md\n"
    }
   }
  },
  {
   "cell_type": "code",
   "execution_count": 119,
   "outputs": [
    {
     "data": {
      "text/plain": "A    1\nB    2\nC    3\nD    4\nName: 2023-01-01 00:00:00, dtype: int32"
     },
     "execution_count": 119,
     "metadata": {},
     "output_type": "execute_result"
    }
   ],
   "source": [
    "# Select via the position of the passed integers:\n",
    "df.iloc[0]"
   ],
   "metadata": {
    "collapsed": false,
    "pycharm": {
     "name": "#%%\n"
    }
   }
  },
  {
   "cell_type": "code",
   "execution_count": 124,
   "outputs": [
    {
     "data": {
      "text/plain": "              A    B    C    D\n2023-01-29  113  114  115  116\n2023-01-30  117  118  119  120",
      "text/html": "<div>\n<style scoped>\n    .dataframe tbody tr th:only-of-type {\n        vertical-align: middle;\n    }\n\n    .dataframe tbody tr th {\n        vertical-align: top;\n    }\n\n    .dataframe thead th {\n        text-align: right;\n    }\n</style>\n<table border=\"1\" class=\"dataframe\">\n  <thead>\n    <tr style=\"text-align: right;\">\n      <th></th>\n      <th>A</th>\n      <th>B</th>\n      <th>C</th>\n      <th>D</th>\n    </tr>\n  </thead>\n  <tbody>\n    <tr>\n      <th>2023-01-29</th>\n      <td>113</td>\n      <td>114</td>\n      <td>115</td>\n      <td>116</td>\n    </tr>\n    <tr>\n      <th>2023-01-30</th>\n      <td>117</td>\n      <td>118</td>\n      <td>119</td>\n      <td>120</td>\n    </tr>\n  </tbody>\n</table>\n</div>"
     },
     "execution_count": 124,
     "metadata": {},
     "output_type": "execute_result"
    }
   ],
   "source": [
    "# By integer slices, acting similar to NumPy/Python:\n",
    "\n",
    "# df.iloc[0:5, 0:]\n",
    "# df.iloc[0:5, 0:2]\n",
    "# df.iloc[28:, :]\n",
    "df.iloc[28:, :]"
   ],
   "metadata": {
    "collapsed": false,
    "pycharm": {
     "name": "#%%\n"
    }
   }
  },
  {
   "cell_type": "code",
   "execution_count": 125,
   "outputs": [
    {
     "data": {
      "text/plain": "             A   D\n2023-01-02   5   8\n2023-01-07  25  28",
      "text/html": "<div>\n<style scoped>\n    .dataframe tbody tr th:only-of-type {\n        vertical-align: middle;\n    }\n\n    .dataframe tbody tr th {\n        vertical-align: top;\n    }\n\n    .dataframe thead th {\n        text-align: right;\n    }\n</style>\n<table border=\"1\" class=\"dataframe\">\n  <thead>\n    <tr style=\"text-align: right;\">\n      <th></th>\n      <th>A</th>\n      <th>D</th>\n    </tr>\n  </thead>\n  <tbody>\n    <tr>\n      <th>2023-01-02</th>\n      <td>5</td>\n      <td>8</td>\n    </tr>\n    <tr>\n      <th>2023-01-07</th>\n      <td>25</td>\n      <td>28</td>\n    </tr>\n  </tbody>\n</table>\n</div>"
     },
     "execution_count": 125,
     "metadata": {},
     "output_type": "execute_result"
    }
   ],
   "source": [
    "# By lists of integer position locations, similar to the NumPy/Python style:\n",
    "df.iloc[[1,6], [0,3]]\n"
   ],
   "metadata": {
    "collapsed": false,
    "pycharm": {
     "name": "#%%\n"
    }
   }
  },
  {
   "cell_type": "code",
   "execution_count": 130,
   "outputs": [
    {
     "data": {
      "text/plain": "            A   B   C   D\n2023-01-02  5   6   7   8\n2023-01-03  9  10  11  12",
      "text/html": "<div>\n<style scoped>\n    .dataframe tbody tr th:only-of-type {\n        vertical-align: middle;\n    }\n\n    .dataframe tbody tr th {\n        vertical-align: top;\n    }\n\n    .dataframe thead th {\n        text-align: right;\n    }\n</style>\n<table border=\"1\" class=\"dataframe\">\n  <thead>\n    <tr style=\"text-align: right;\">\n      <th></th>\n      <th>A</th>\n      <th>B</th>\n      <th>C</th>\n      <th>D</th>\n    </tr>\n  </thead>\n  <tbody>\n    <tr>\n      <th>2023-01-02</th>\n      <td>5</td>\n      <td>6</td>\n      <td>7</td>\n      <td>8</td>\n    </tr>\n    <tr>\n      <th>2023-01-03</th>\n      <td>9</td>\n      <td>10</td>\n      <td>11</td>\n      <td>12</td>\n    </tr>\n  </tbody>\n</table>\n</div>"
     },
     "execution_count": 130,
     "metadata": {},
     "output_type": "execute_result"
    }
   ],
   "source": [
    "# For slicing rows explicitly:\n",
    "#  e.g. defining the rows explicitly to slice from the range\n",
    "df.iloc[1:3, :]"
   ],
   "metadata": {
    "collapsed": false,
    "pycharm": {
     "name": "#%%\n"
    }
   }
  },
  {
   "cell_type": "code",
   "execution_count": 138,
   "outputs": [
    {
     "data": {
      "text/plain": "              B    C\n2023-01-01    2    3\n2023-01-02    6    7\n2023-01-03   10   11\n2023-01-04   14   15\n2023-01-05   18   19\n2023-01-06   22   23\n2023-01-07   26   27\n2023-01-08   30   31\n2023-01-09   34   35\n2023-01-10   38   39\n2023-01-11   42   43\n2023-01-12   46   47\n2023-01-13   50   51\n2023-01-14   54   55\n2023-01-15   58   59\n2023-01-16   62   63\n2023-01-17   66   67\n2023-01-18   70   71\n2023-01-19   74   75\n2023-01-20   78   79\n2023-01-21   82   83\n2023-01-22   86   87\n2023-01-23   90   91\n2023-01-24   94   95\n2023-01-25   98   99\n2023-01-26  102  103\n2023-01-27  106  107\n2023-01-28  110  111\n2023-01-29  114  115\n2023-01-30  118  119",
      "text/html": "<div>\n<style scoped>\n    .dataframe tbody tr th:only-of-type {\n        vertical-align: middle;\n    }\n\n    .dataframe tbody tr th {\n        vertical-align: top;\n    }\n\n    .dataframe thead th {\n        text-align: right;\n    }\n</style>\n<table border=\"1\" class=\"dataframe\">\n  <thead>\n    <tr style=\"text-align: right;\">\n      <th></th>\n      <th>B</th>\n      <th>C</th>\n    </tr>\n  </thead>\n  <tbody>\n    <tr>\n      <th>2023-01-01</th>\n      <td>2</td>\n      <td>3</td>\n    </tr>\n    <tr>\n      <th>2023-01-02</th>\n      <td>6</td>\n      <td>7</td>\n    </tr>\n    <tr>\n      <th>2023-01-03</th>\n      <td>10</td>\n      <td>11</td>\n    </tr>\n    <tr>\n      <th>2023-01-04</th>\n      <td>14</td>\n      <td>15</td>\n    </tr>\n    <tr>\n      <th>2023-01-05</th>\n      <td>18</td>\n      <td>19</td>\n    </tr>\n    <tr>\n      <th>2023-01-06</th>\n      <td>22</td>\n      <td>23</td>\n    </tr>\n    <tr>\n      <th>2023-01-07</th>\n      <td>26</td>\n      <td>27</td>\n    </tr>\n    <tr>\n      <th>2023-01-08</th>\n      <td>30</td>\n      <td>31</td>\n    </tr>\n    <tr>\n      <th>2023-01-09</th>\n      <td>34</td>\n      <td>35</td>\n    </tr>\n    <tr>\n      <th>2023-01-10</th>\n      <td>38</td>\n      <td>39</td>\n    </tr>\n    <tr>\n      <th>2023-01-11</th>\n      <td>42</td>\n      <td>43</td>\n    </tr>\n    <tr>\n      <th>2023-01-12</th>\n      <td>46</td>\n      <td>47</td>\n    </tr>\n    <tr>\n      <th>2023-01-13</th>\n      <td>50</td>\n      <td>51</td>\n    </tr>\n    <tr>\n      <th>2023-01-14</th>\n      <td>54</td>\n      <td>55</td>\n    </tr>\n    <tr>\n      <th>2023-01-15</th>\n      <td>58</td>\n      <td>59</td>\n    </tr>\n    <tr>\n      <th>2023-01-16</th>\n      <td>62</td>\n      <td>63</td>\n    </tr>\n    <tr>\n      <th>2023-01-17</th>\n      <td>66</td>\n      <td>67</td>\n    </tr>\n    <tr>\n      <th>2023-01-18</th>\n      <td>70</td>\n      <td>71</td>\n    </tr>\n    <tr>\n      <th>2023-01-19</th>\n      <td>74</td>\n      <td>75</td>\n    </tr>\n    <tr>\n      <th>2023-01-20</th>\n      <td>78</td>\n      <td>79</td>\n    </tr>\n    <tr>\n      <th>2023-01-21</th>\n      <td>82</td>\n      <td>83</td>\n    </tr>\n    <tr>\n      <th>2023-01-22</th>\n      <td>86</td>\n      <td>87</td>\n    </tr>\n    <tr>\n      <th>2023-01-23</th>\n      <td>90</td>\n      <td>91</td>\n    </tr>\n    <tr>\n      <th>2023-01-24</th>\n      <td>94</td>\n      <td>95</td>\n    </tr>\n    <tr>\n      <th>2023-01-25</th>\n      <td>98</td>\n      <td>99</td>\n    </tr>\n    <tr>\n      <th>2023-01-26</th>\n      <td>102</td>\n      <td>103</td>\n    </tr>\n    <tr>\n      <th>2023-01-27</th>\n      <td>106</td>\n      <td>107</td>\n    </tr>\n    <tr>\n      <th>2023-01-28</th>\n      <td>110</td>\n      <td>111</td>\n    </tr>\n    <tr>\n      <th>2023-01-29</th>\n      <td>114</td>\n      <td>115</td>\n    </tr>\n    <tr>\n      <th>2023-01-30</th>\n      <td>118</td>\n      <td>119</td>\n    </tr>\n  </tbody>\n</table>\n</div>"
     },
     "execution_count": 138,
     "metadata": {},
     "output_type": "execute_result"
    }
   ],
   "source": [
    "# For slicing columns explicitly\n",
    "df.iloc[:, 1:3]\n"
   ],
   "metadata": {
    "collapsed": false,
    "pycharm": {
     "name": "#%%\n"
    }
   }
  },
  {
   "cell_type": "code",
   "execution_count": 139,
   "outputs": [
    {
     "data": {
      "text/plain": "             B   C\n2023-01-02   6   7\n2023-01-03  10  11",
      "text/html": "<div>\n<style scoped>\n    .dataframe tbody tr th:only-of-type {\n        vertical-align: middle;\n    }\n\n    .dataframe tbody tr th {\n        vertical-align: top;\n    }\n\n    .dataframe thead th {\n        text-align: right;\n    }\n</style>\n<table border=\"1\" class=\"dataframe\">\n  <thead>\n    <tr style=\"text-align: right;\">\n      <th></th>\n      <th>B</th>\n      <th>C</th>\n    </tr>\n  </thead>\n  <tbody>\n    <tr>\n      <th>2023-01-02</th>\n      <td>6</td>\n      <td>7</td>\n    </tr>\n    <tr>\n      <th>2023-01-03</th>\n      <td>10</td>\n      <td>11</td>\n    </tr>\n  </tbody>\n</table>\n</div>"
     },
     "execution_count": 139,
     "metadata": {},
     "output_type": "execute_result"
    }
   ],
   "source": [
    "# For slicing rows and columns explicitly\n",
    "df.iloc[1:3, 1:3]\n"
   ],
   "metadata": {
    "collapsed": false,
    "pycharm": {
     "name": "#%%\n"
    }
   }
  },
  {
   "cell_type": "code",
   "execution_count": 143,
   "outputs": [
    {
     "data": {
      "text/plain": "15"
     },
     "execution_count": 143,
     "metadata": {},
     "output_type": "execute_result"
    }
   ],
   "source": [
    "# For getting a value explicitly:\n",
    "df.iloc[3,2]"
   ],
   "metadata": {
    "collapsed": false,
    "pycharm": {
     "name": "#%%\n"
    }
   }
  },
  {
   "cell_type": "code",
   "execution_count": 146,
   "outputs": [
    {
     "data": {
      "text/plain": "15"
     },
     "execution_count": 146,
     "metadata": {},
     "output_type": "execute_result"
    }
   ],
   "source": [
    "# For getting fast access to a scalar (equivalent to the prior method):\n",
    "df.iat[3,2]"
   ],
   "metadata": {
    "collapsed": false,
    "pycharm": {
     "name": "#%%\n"
    }
   }
  },
  {
   "cell_type": "markdown",
   "source": [
    "## Boolean indexing\n"
   ],
   "metadata": {
    "collapsed": false,
    "pycharm": {
     "name": "#%% md\n"
    }
   }
  },
  {
   "cell_type": "code",
   "execution_count": 157,
   "outputs": [
    {
     "data": {
      "text/plain": "              A    B    C    D\n2023-01-04   13   14   15   16\n2023-01-05   17   18   19   20\n2023-01-06   21   22   23   24\n2023-01-07   25   26   27   28\n2023-01-08   29   30   31   32\n2023-01-09   33   34   35   36\n2023-01-10   37   38   39   40\n2023-01-11   41   42   43   44\n2023-01-12   45   46   47   48\n2023-01-13   49   50   51   52\n2023-01-14   53   54   55   56\n2023-01-15   57   58   59   60\n2023-01-16   61   62   63   64\n2023-01-17   65   66   67   68\n2023-01-18   69   70   71   72\n2023-01-19   73   74   75   76\n2023-01-20   77   78   79   80\n2023-01-21   81   82   83   84\n2023-01-22   85   86   87   88\n2023-01-23   89   90   91   92\n2023-01-24   93   94   95   96\n2023-01-25   97   98   99  100\n2023-01-26  101  102  103  104\n2023-01-27  105  106  107  108\n2023-01-28  109  110  111  112\n2023-01-29  113  114  115  116\n2023-01-30  117  118  119  120",
      "text/html": "<div>\n<style scoped>\n    .dataframe tbody tr th:only-of-type {\n        vertical-align: middle;\n    }\n\n    .dataframe tbody tr th {\n        vertical-align: top;\n    }\n\n    .dataframe thead th {\n        text-align: right;\n    }\n</style>\n<table border=\"1\" class=\"dataframe\">\n  <thead>\n    <tr style=\"text-align: right;\">\n      <th></th>\n      <th>A</th>\n      <th>B</th>\n      <th>C</th>\n      <th>D</th>\n    </tr>\n  </thead>\n  <tbody>\n    <tr>\n      <th>2023-01-04</th>\n      <td>13</td>\n      <td>14</td>\n      <td>15</td>\n      <td>16</td>\n    </tr>\n    <tr>\n      <th>2023-01-05</th>\n      <td>17</td>\n      <td>18</td>\n      <td>19</td>\n      <td>20</td>\n    </tr>\n    <tr>\n      <th>2023-01-06</th>\n      <td>21</td>\n      <td>22</td>\n      <td>23</td>\n      <td>24</td>\n    </tr>\n    <tr>\n      <th>2023-01-07</th>\n      <td>25</td>\n      <td>26</td>\n      <td>27</td>\n      <td>28</td>\n    </tr>\n    <tr>\n      <th>2023-01-08</th>\n      <td>29</td>\n      <td>30</td>\n      <td>31</td>\n      <td>32</td>\n    </tr>\n    <tr>\n      <th>2023-01-09</th>\n      <td>33</td>\n      <td>34</td>\n      <td>35</td>\n      <td>36</td>\n    </tr>\n    <tr>\n      <th>2023-01-10</th>\n      <td>37</td>\n      <td>38</td>\n      <td>39</td>\n      <td>40</td>\n    </tr>\n    <tr>\n      <th>2023-01-11</th>\n      <td>41</td>\n      <td>42</td>\n      <td>43</td>\n      <td>44</td>\n    </tr>\n    <tr>\n      <th>2023-01-12</th>\n      <td>45</td>\n      <td>46</td>\n      <td>47</td>\n      <td>48</td>\n    </tr>\n    <tr>\n      <th>2023-01-13</th>\n      <td>49</td>\n      <td>50</td>\n      <td>51</td>\n      <td>52</td>\n    </tr>\n    <tr>\n      <th>2023-01-14</th>\n      <td>53</td>\n      <td>54</td>\n      <td>55</td>\n      <td>56</td>\n    </tr>\n    <tr>\n      <th>2023-01-15</th>\n      <td>57</td>\n      <td>58</td>\n      <td>59</td>\n      <td>60</td>\n    </tr>\n    <tr>\n      <th>2023-01-16</th>\n      <td>61</td>\n      <td>62</td>\n      <td>63</td>\n      <td>64</td>\n    </tr>\n    <tr>\n      <th>2023-01-17</th>\n      <td>65</td>\n      <td>66</td>\n      <td>67</td>\n      <td>68</td>\n    </tr>\n    <tr>\n      <th>2023-01-18</th>\n      <td>69</td>\n      <td>70</td>\n      <td>71</td>\n      <td>72</td>\n    </tr>\n    <tr>\n      <th>2023-01-19</th>\n      <td>73</td>\n      <td>74</td>\n      <td>75</td>\n      <td>76</td>\n    </tr>\n    <tr>\n      <th>2023-01-20</th>\n      <td>77</td>\n      <td>78</td>\n      <td>79</td>\n      <td>80</td>\n    </tr>\n    <tr>\n      <th>2023-01-21</th>\n      <td>81</td>\n      <td>82</td>\n      <td>83</td>\n      <td>84</td>\n    </tr>\n    <tr>\n      <th>2023-01-22</th>\n      <td>85</td>\n      <td>86</td>\n      <td>87</td>\n      <td>88</td>\n    </tr>\n    <tr>\n      <th>2023-01-23</th>\n      <td>89</td>\n      <td>90</td>\n      <td>91</td>\n      <td>92</td>\n    </tr>\n    <tr>\n      <th>2023-01-24</th>\n      <td>93</td>\n      <td>94</td>\n      <td>95</td>\n      <td>96</td>\n    </tr>\n    <tr>\n      <th>2023-01-25</th>\n      <td>97</td>\n      <td>98</td>\n      <td>99</td>\n      <td>100</td>\n    </tr>\n    <tr>\n      <th>2023-01-26</th>\n      <td>101</td>\n      <td>102</td>\n      <td>103</td>\n      <td>104</td>\n    </tr>\n    <tr>\n      <th>2023-01-27</th>\n      <td>105</td>\n      <td>106</td>\n      <td>107</td>\n      <td>108</td>\n    </tr>\n    <tr>\n      <th>2023-01-28</th>\n      <td>109</td>\n      <td>110</td>\n      <td>111</td>\n      <td>112</td>\n    </tr>\n    <tr>\n      <th>2023-01-29</th>\n      <td>113</td>\n      <td>114</td>\n      <td>115</td>\n      <td>116</td>\n    </tr>\n    <tr>\n      <th>2023-01-30</th>\n      <td>117</td>\n      <td>118</td>\n      <td>119</td>\n      <td>120</td>\n    </tr>\n  </tbody>\n</table>\n</div>"
     },
     "execution_count": 157,
     "metadata": {},
     "output_type": "execute_result"
    }
   ],
   "source": [
    "# Using a single column’s values to select data:\n",
    "# df[df[\"A\"]>10 & df[\"A\"] < 20] - Not working, need to check how to use multiple conditions?\n",
    "df[df[\"A\"]>10]\n",
    "# df[df[\"A\"]>10].sort_values(by=\"D\", ascending=True)"
   ],
   "metadata": {
    "collapsed": false,
    "pycharm": {
     "name": "#%%\n"
    }
   }
  },
  {
   "cell_type": "code",
   "execution_count": 158,
   "outputs": [
    {
     "data": {
      "text/plain": "                A      B      C      D\n2023-01-01    NaN    NaN    NaN    NaN\n2023-01-02    NaN    NaN    NaN    NaN\n2023-01-03    NaN    NaN   11.0   12.0\n2023-01-04   13.0   14.0   15.0   16.0\n2023-01-05   17.0   18.0   19.0   20.0\n2023-01-06   21.0   22.0   23.0   24.0\n2023-01-07   25.0   26.0   27.0   28.0\n2023-01-08   29.0   30.0   31.0   32.0\n2023-01-09   33.0   34.0   35.0   36.0\n2023-01-10   37.0   38.0   39.0   40.0\n2023-01-11   41.0   42.0   43.0   44.0\n2023-01-12   45.0   46.0   47.0   48.0\n2023-01-13   49.0   50.0   51.0   52.0\n2023-01-14   53.0   54.0   55.0   56.0\n2023-01-15   57.0   58.0   59.0   60.0\n2023-01-16   61.0   62.0   63.0   64.0\n2023-01-17   65.0   66.0   67.0   68.0\n2023-01-18   69.0   70.0   71.0   72.0\n2023-01-19   73.0   74.0   75.0   76.0\n2023-01-20   77.0   78.0   79.0   80.0\n2023-01-21   81.0   82.0   83.0   84.0\n2023-01-22   85.0   86.0   87.0   88.0\n2023-01-23   89.0   90.0   91.0   92.0\n2023-01-24   93.0   94.0   95.0   96.0\n2023-01-25   97.0   98.0   99.0  100.0\n2023-01-26  101.0  102.0  103.0  104.0\n2023-01-27  105.0  106.0  107.0  108.0\n2023-01-28  109.0  110.0  111.0  112.0\n2023-01-29  113.0  114.0  115.0  116.0\n2023-01-30  117.0  118.0  119.0  120.0",
      "text/html": "<div>\n<style scoped>\n    .dataframe tbody tr th:only-of-type {\n        vertical-align: middle;\n    }\n\n    .dataframe tbody tr th {\n        vertical-align: top;\n    }\n\n    .dataframe thead th {\n        text-align: right;\n    }\n</style>\n<table border=\"1\" class=\"dataframe\">\n  <thead>\n    <tr style=\"text-align: right;\">\n      <th></th>\n      <th>A</th>\n      <th>B</th>\n      <th>C</th>\n      <th>D</th>\n    </tr>\n  </thead>\n  <tbody>\n    <tr>\n      <th>2023-01-01</th>\n      <td>NaN</td>\n      <td>NaN</td>\n      <td>NaN</td>\n      <td>NaN</td>\n    </tr>\n    <tr>\n      <th>2023-01-02</th>\n      <td>NaN</td>\n      <td>NaN</td>\n      <td>NaN</td>\n      <td>NaN</td>\n    </tr>\n    <tr>\n      <th>2023-01-03</th>\n      <td>NaN</td>\n      <td>NaN</td>\n      <td>11.0</td>\n      <td>12.0</td>\n    </tr>\n    <tr>\n      <th>2023-01-04</th>\n      <td>13.0</td>\n      <td>14.0</td>\n      <td>15.0</td>\n      <td>16.0</td>\n    </tr>\n    <tr>\n      <th>2023-01-05</th>\n      <td>17.0</td>\n      <td>18.0</td>\n      <td>19.0</td>\n      <td>20.0</td>\n    </tr>\n    <tr>\n      <th>2023-01-06</th>\n      <td>21.0</td>\n      <td>22.0</td>\n      <td>23.0</td>\n      <td>24.0</td>\n    </tr>\n    <tr>\n      <th>2023-01-07</th>\n      <td>25.0</td>\n      <td>26.0</td>\n      <td>27.0</td>\n      <td>28.0</td>\n    </tr>\n    <tr>\n      <th>2023-01-08</th>\n      <td>29.0</td>\n      <td>30.0</td>\n      <td>31.0</td>\n      <td>32.0</td>\n    </tr>\n    <tr>\n      <th>2023-01-09</th>\n      <td>33.0</td>\n      <td>34.0</td>\n      <td>35.0</td>\n      <td>36.0</td>\n    </tr>\n    <tr>\n      <th>2023-01-10</th>\n      <td>37.0</td>\n      <td>38.0</td>\n      <td>39.0</td>\n      <td>40.0</td>\n    </tr>\n    <tr>\n      <th>2023-01-11</th>\n      <td>41.0</td>\n      <td>42.0</td>\n      <td>43.0</td>\n      <td>44.0</td>\n    </tr>\n    <tr>\n      <th>2023-01-12</th>\n      <td>45.0</td>\n      <td>46.0</td>\n      <td>47.0</td>\n      <td>48.0</td>\n    </tr>\n    <tr>\n      <th>2023-01-13</th>\n      <td>49.0</td>\n      <td>50.0</td>\n      <td>51.0</td>\n      <td>52.0</td>\n    </tr>\n    <tr>\n      <th>2023-01-14</th>\n      <td>53.0</td>\n      <td>54.0</td>\n      <td>55.0</td>\n      <td>56.0</td>\n    </tr>\n    <tr>\n      <th>2023-01-15</th>\n      <td>57.0</td>\n      <td>58.0</td>\n      <td>59.0</td>\n      <td>60.0</td>\n    </tr>\n    <tr>\n      <th>2023-01-16</th>\n      <td>61.0</td>\n      <td>62.0</td>\n      <td>63.0</td>\n      <td>64.0</td>\n    </tr>\n    <tr>\n      <th>2023-01-17</th>\n      <td>65.0</td>\n      <td>66.0</td>\n      <td>67.0</td>\n      <td>68.0</td>\n    </tr>\n    <tr>\n      <th>2023-01-18</th>\n      <td>69.0</td>\n      <td>70.0</td>\n      <td>71.0</td>\n      <td>72.0</td>\n    </tr>\n    <tr>\n      <th>2023-01-19</th>\n      <td>73.0</td>\n      <td>74.0</td>\n      <td>75.0</td>\n      <td>76.0</td>\n    </tr>\n    <tr>\n      <th>2023-01-20</th>\n      <td>77.0</td>\n      <td>78.0</td>\n      <td>79.0</td>\n      <td>80.0</td>\n    </tr>\n    <tr>\n      <th>2023-01-21</th>\n      <td>81.0</td>\n      <td>82.0</td>\n      <td>83.0</td>\n      <td>84.0</td>\n    </tr>\n    <tr>\n      <th>2023-01-22</th>\n      <td>85.0</td>\n      <td>86.0</td>\n      <td>87.0</td>\n      <td>88.0</td>\n    </tr>\n    <tr>\n      <th>2023-01-23</th>\n      <td>89.0</td>\n      <td>90.0</td>\n      <td>91.0</td>\n      <td>92.0</td>\n    </tr>\n    <tr>\n      <th>2023-01-24</th>\n      <td>93.0</td>\n      <td>94.0</td>\n      <td>95.0</td>\n      <td>96.0</td>\n    </tr>\n    <tr>\n      <th>2023-01-25</th>\n      <td>97.0</td>\n      <td>98.0</td>\n      <td>99.0</td>\n      <td>100.0</td>\n    </tr>\n    <tr>\n      <th>2023-01-26</th>\n      <td>101.0</td>\n      <td>102.0</td>\n      <td>103.0</td>\n      <td>104.0</td>\n    </tr>\n    <tr>\n      <th>2023-01-27</th>\n      <td>105.0</td>\n      <td>106.0</td>\n      <td>107.0</td>\n      <td>108.0</td>\n    </tr>\n    <tr>\n      <th>2023-01-28</th>\n      <td>109.0</td>\n      <td>110.0</td>\n      <td>111.0</td>\n      <td>112.0</td>\n    </tr>\n    <tr>\n      <th>2023-01-29</th>\n      <td>113.0</td>\n      <td>114.0</td>\n      <td>115.0</td>\n      <td>116.0</td>\n    </tr>\n    <tr>\n      <th>2023-01-30</th>\n      <td>117.0</td>\n      <td>118.0</td>\n      <td>119.0</td>\n      <td>120.0</td>\n    </tr>\n  </tbody>\n</table>\n</div>"
     },
     "execution_count": 158,
     "metadata": {},
     "output_type": "execute_result"
    }
   ],
   "source": [
    "# Selecting values from a DataFrame where a boolean condition is met:\n",
    "df[df > 10]\n"
   ],
   "metadata": {
    "collapsed": false,
    "pycharm": {
     "name": "#%%\n"
    }
   }
  },
  {
   "cell_type": "code",
   "execution_count": 170,
   "outputs": [
    {
     "data": {
      "text/plain": "              A    B    C    D     E\n2023-01-02    5    6    7    8   two\n2023-01-04   13   14   15   16  four\n2023-01-07   25   26   27   28   two\n2023-01-09   33   34   35   36  four\n2023-01-12   45   46   47   48   two\n2023-01-14   53   54   55   56  four\n2023-01-17   65   66   67   68   two\n2023-01-19   73   74   75   76  four\n2023-01-22   85   86   87   88   two\n2023-01-24   93   94   95   96  four\n2023-01-27  105  106  107  108   two\n2023-01-29  113  114  115  116  four",
      "text/html": "<div>\n<style scoped>\n    .dataframe tbody tr th:only-of-type {\n        vertical-align: middle;\n    }\n\n    .dataframe tbody tr th {\n        vertical-align: top;\n    }\n\n    .dataframe thead th {\n        text-align: right;\n    }\n</style>\n<table border=\"1\" class=\"dataframe\">\n  <thead>\n    <tr style=\"text-align: right;\">\n      <th></th>\n      <th>A</th>\n      <th>B</th>\n      <th>C</th>\n      <th>D</th>\n      <th>E</th>\n    </tr>\n  </thead>\n  <tbody>\n    <tr>\n      <th>2023-01-02</th>\n      <td>5</td>\n      <td>6</td>\n      <td>7</td>\n      <td>8</td>\n      <td>two</td>\n    </tr>\n    <tr>\n      <th>2023-01-04</th>\n      <td>13</td>\n      <td>14</td>\n      <td>15</td>\n      <td>16</td>\n      <td>four</td>\n    </tr>\n    <tr>\n      <th>2023-01-07</th>\n      <td>25</td>\n      <td>26</td>\n      <td>27</td>\n      <td>28</td>\n      <td>two</td>\n    </tr>\n    <tr>\n      <th>2023-01-09</th>\n      <td>33</td>\n      <td>34</td>\n      <td>35</td>\n      <td>36</td>\n      <td>four</td>\n    </tr>\n    <tr>\n      <th>2023-01-12</th>\n      <td>45</td>\n      <td>46</td>\n      <td>47</td>\n      <td>48</td>\n      <td>two</td>\n    </tr>\n    <tr>\n      <th>2023-01-14</th>\n      <td>53</td>\n      <td>54</td>\n      <td>55</td>\n      <td>56</td>\n      <td>four</td>\n    </tr>\n    <tr>\n      <th>2023-01-17</th>\n      <td>65</td>\n      <td>66</td>\n      <td>67</td>\n      <td>68</td>\n      <td>two</td>\n    </tr>\n    <tr>\n      <th>2023-01-19</th>\n      <td>73</td>\n      <td>74</td>\n      <td>75</td>\n      <td>76</td>\n      <td>four</td>\n    </tr>\n    <tr>\n      <th>2023-01-22</th>\n      <td>85</td>\n      <td>86</td>\n      <td>87</td>\n      <td>88</td>\n      <td>two</td>\n    </tr>\n    <tr>\n      <th>2023-01-24</th>\n      <td>93</td>\n      <td>94</td>\n      <td>95</td>\n      <td>96</td>\n      <td>four</td>\n    </tr>\n    <tr>\n      <th>2023-01-27</th>\n      <td>105</td>\n      <td>106</td>\n      <td>107</td>\n      <td>108</td>\n      <td>two</td>\n    </tr>\n    <tr>\n      <th>2023-01-29</th>\n      <td>113</td>\n      <td>114</td>\n      <td>115</td>\n      <td>116</td>\n      <td>four</td>\n    </tr>\n  </tbody>\n</table>\n</div>"
     },
     "execution_count": 170,
     "metadata": {},
     "output_type": "execute_result"
    }
   ],
   "source": [
    "# Using the isin() method for filtering:\n",
    "\n",
    "# copy the data frame into new variable\n",
    "df3 = df.copy()\n",
    "# creating_list\n",
    "l = [\"one\", \"two\", \"three\", \"four\", \"five\"] * 6\n",
    "\n",
    "# creating a new column\n",
    "df3[\"E\"] = l\n",
    "\n",
    "# df3[df3[\"E\"].isin([\"two\"])]\n",
    "df3[df3[\"E\"].isin([\"two\", \"four\"])]"
   ],
   "metadata": {
    "collapsed": false,
    "pycharm": {
     "name": "#%%\n"
    }
   }
  },
  {
   "cell_type": "code",
   "execution_count": 171,
   "outputs": [
    {
     "data": {
      "text/plain": "2023-01-01    False\n2023-01-02     True\n2023-01-03    False\n2023-01-04     True\n2023-01-05    False\n2023-01-06    False\n2023-01-07     True\n2023-01-08    False\n2023-01-09     True\n2023-01-10    False\n2023-01-11    False\n2023-01-12     True\n2023-01-13    False\n2023-01-14     True\n2023-01-15    False\n2023-01-16    False\n2023-01-17     True\n2023-01-18    False\n2023-01-19     True\n2023-01-20    False\n2023-01-21    False\n2023-01-22     True\n2023-01-23    False\n2023-01-24     True\n2023-01-25    False\n2023-01-26    False\n2023-01-27     True\n2023-01-28    False\n2023-01-29     True\n2023-01-30    False\nFreq: D, Name: E, dtype: bool"
     },
     "execution_count": 171,
     "metadata": {},
     "output_type": "execute_result"
    }
   ],
   "source": [
    "df3[\"E\"].isin([\"two\", \"four\"])\n"
   ],
   "metadata": {
    "collapsed": false,
    "pycharm": {
     "name": "#%%\n"
    }
   }
  },
  {
   "cell_type": "markdown",
   "source": [
    "# Setting Data\n"
   ],
   "metadata": {
    "collapsed": false,
    "pycharm": {
     "name": "#%% md\n"
    }
   }
  },
  {
   "cell_type": "code",
   "execution_count": 175,
   "outputs": [
    {
     "data": {
      "text/plain": "2013-01-02    1\n2013-01-03    2\n2013-01-04    3\n2013-01-05    4\n2013-01-06    5\n2013-01-07    6\nFreq: D, dtype: int64"
     },
     "execution_count": 175,
     "metadata": {},
     "output_type": "execute_result"
    }
   ],
   "source": [
    "# Setting a new column automatically aligns the data by the indexes:\n",
    "s1 = pd.Series([1, 2, 3, 4, 5, 6], index=pd.date_range(\"20130102\", periods=6))\n",
    "s1"
   ],
   "metadata": {
    "collapsed": false,
    "pycharm": {
     "name": "#%%\n"
    }
   }
  },
  {
   "cell_type": "code",
   "execution_count": 179,
   "outputs": [
    {
     "data": {
      "text/plain": "              A    B    C    D\n2023-01-01    1    2    3    4\n2023-01-02    5    6    7    8\n2023-01-03    9   10   11   12\n2023-01-04   13   14   15   16\n2023-01-05   17   18   19   20\n2023-01-06   21   22   23   24\n2023-01-07   25   26   27   28\n2023-01-08   29   30   31   32\n2023-01-09   33   34   35   36\n2023-01-10   37   38   39   40\n2023-01-11   41   42   43   44\n2023-01-12   45   46   47   48\n2023-01-13   49   50   51   52\n2023-01-14   53   54   55   56\n2023-01-15   57   58   59   60\n2023-01-16   61   62   63   64\n2023-01-17   65   66   67   68\n2023-01-18   69   70   71   72\n2023-01-19   73   74   75   76\n2023-01-20   77   78   79   80\n2023-01-21   81   82   83   84\n2023-01-22   85   86   87   88\n2023-01-23   89   90   91   92\n2023-01-24   93   94   95   96\n2023-01-25   97   98   99  100\n2023-01-26  101  102  103  104\n2023-01-27  105  106  107  108\n2023-01-28  109  110  111  112\n2023-01-29  113  114  115  116\n2023-01-30  117  118  119  120",
      "text/html": "<div>\n<style scoped>\n    .dataframe tbody tr th:only-of-type {\n        vertical-align: middle;\n    }\n\n    .dataframe tbody tr th {\n        vertical-align: top;\n    }\n\n    .dataframe thead th {\n        text-align: right;\n    }\n</style>\n<table border=\"1\" class=\"dataframe\">\n  <thead>\n    <tr style=\"text-align: right;\">\n      <th></th>\n      <th>A</th>\n      <th>B</th>\n      <th>C</th>\n      <th>D</th>\n    </tr>\n  </thead>\n  <tbody>\n    <tr>\n      <th>2023-01-01</th>\n      <td>1</td>\n      <td>2</td>\n      <td>3</td>\n      <td>4</td>\n    </tr>\n    <tr>\n      <th>2023-01-02</th>\n      <td>5</td>\n      <td>6</td>\n      <td>7</td>\n      <td>8</td>\n    </tr>\n    <tr>\n      <th>2023-01-03</th>\n      <td>9</td>\n      <td>10</td>\n      <td>11</td>\n      <td>12</td>\n    </tr>\n    <tr>\n      <th>2023-01-04</th>\n      <td>13</td>\n      <td>14</td>\n      <td>15</td>\n      <td>16</td>\n    </tr>\n    <tr>\n      <th>2023-01-05</th>\n      <td>17</td>\n      <td>18</td>\n      <td>19</td>\n      <td>20</td>\n    </tr>\n    <tr>\n      <th>2023-01-06</th>\n      <td>21</td>\n      <td>22</td>\n      <td>23</td>\n      <td>24</td>\n    </tr>\n    <tr>\n      <th>2023-01-07</th>\n      <td>25</td>\n      <td>26</td>\n      <td>27</td>\n      <td>28</td>\n    </tr>\n    <tr>\n      <th>2023-01-08</th>\n      <td>29</td>\n      <td>30</td>\n      <td>31</td>\n      <td>32</td>\n    </tr>\n    <tr>\n      <th>2023-01-09</th>\n      <td>33</td>\n      <td>34</td>\n      <td>35</td>\n      <td>36</td>\n    </tr>\n    <tr>\n      <th>2023-01-10</th>\n      <td>37</td>\n      <td>38</td>\n      <td>39</td>\n      <td>40</td>\n    </tr>\n    <tr>\n      <th>2023-01-11</th>\n      <td>41</td>\n      <td>42</td>\n      <td>43</td>\n      <td>44</td>\n    </tr>\n    <tr>\n      <th>2023-01-12</th>\n      <td>45</td>\n      <td>46</td>\n      <td>47</td>\n      <td>48</td>\n    </tr>\n    <tr>\n      <th>2023-01-13</th>\n      <td>49</td>\n      <td>50</td>\n      <td>51</td>\n      <td>52</td>\n    </tr>\n    <tr>\n      <th>2023-01-14</th>\n      <td>53</td>\n      <td>54</td>\n      <td>55</td>\n      <td>56</td>\n    </tr>\n    <tr>\n      <th>2023-01-15</th>\n      <td>57</td>\n      <td>58</td>\n      <td>59</td>\n      <td>60</td>\n    </tr>\n    <tr>\n      <th>2023-01-16</th>\n      <td>61</td>\n      <td>62</td>\n      <td>63</td>\n      <td>64</td>\n    </tr>\n    <tr>\n      <th>2023-01-17</th>\n      <td>65</td>\n      <td>66</td>\n      <td>67</td>\n      <td>68</td>\n    </tr>\n    <tr>\n      <th>2023-01-18</th>\n      <td>69</td>\n      <td>70</td>\n      <td>71</td>\n      <td>72</td>\n    </tr>\n    <tr>\n      <th>2023-01-19</th>\n      <td>73</td>\n      <td>74</td>\n      <td>75</td>\n      <td>76</td>\n    </tr>\n    <tr>\n      <th>2023-01-20</th>\n      <td>77</td>\n      <td>78</td>\n      <td>79</td>\n      <td>80</td>\n    </tr>\n    <tr>\n      <th>2023-01-21</th>\n      <td>81</td>\n      <td>82</td>\n      <td>83</td>\n      <td>84</td>\n    </tr>\n    <tr>\n      <th>2023-01-22</th>\n      <td>85</td>\n      <td>86</td>\n      <td>87</td>\n      <td>88</td>\n    </tr>\n    <tr>\n      <th>2023-01-23</th>\n      <td>89</td>\n      <td>90</td>\n      <td>91</td>\n      <td>92</td>\n    </tr>\n    <tr>\n      <th>2023-01-24</th>\n      <td>93</td>\n      <td>94</td>\n      <td>95</td>\n      <td>96</td>\n    </tr>\n    <tr>\n      <th>2023-01-25</th>\n      <td>97</td>\n      <td>98</td>\n      <td>99</td>\n      <td>100</td>\n    </tr>\n    <tr>\n      <th>2023-01-26</th>\n      <td>101</td>\n      <td>102</td>\n      <td>103</td>\n      <td>104</td>\n    </tr>\n    <tr>\n      <th>2023-01-27</th>\n      <td>105</td>\n      <td>106</td>\n      <td>107</td>\n      <td>108</td>\n    </tr>\n    <tr>\n      <th>2023-01-28</th>\n      <td>109</td>\n      <td>110</td>\n      <td>111</td>\n      <td>112</td>\n    </tr>\n    <tr>\n      <th>2023-01-29</th>\n      <td>113</td>\n      <td>114</td>\n      <td>115</td>\n      <td>116</td>\n    </tr>\n    <tr>\n      <th>2023-01-30</th>\n      <td>117</td>\n      <td>118</td>\n      <td>119</td>\n      <td>120</td>\n    </tr>\n  </tbody>\n</table>\n</div>"
     },
     "execution_count": 179,
     "metadata": {},
     "output_type": "execute_result"
    }
   ],
   "source": [
    "# Setting values by label:\n",
    "df.at[dates[0], \"A\"] = 1\n",
    "df"
   ],
   "metadata": {
    "collapsed": false,
    "pycharm": {
     "name": "#%%\n"
    }
   }
  },
  {
   "cell_type": "code",
   "execution_count": 183,
   "outputs": [],
   "source": [
    "# Setting values by position:\n",
    "df.iat[0,0] = 1\n"
   ],
   "metadata": {
    "collapsed": false,
    "pycharm": {
     "name": "#%%\n"
    }
   }
  },
  {
   "cell_type": "code",
   "execution_count": 184,
   "outputs": [
    {
     "data": {
      "text/plain": "2023-01-01      4\n2023-01-02      8\n2023-01-03     12\n2023-01-04     16\n2023-01-05     20\n2023-01-06     24\n2023-01-07     28\n2023-01-08     32\n2023-01-09     36\n2023-01-10     40\n2023-01-11     44\n2023-01-12     48\n2023-01-13     52\n2023-01-14     56\n2023-01-15     60\n2023-01-16     64\n2023-01-17     68\n2023-01-18     72\n2023-01-19     76\n2023-01-20     80\n2023-01-21     84\n2023-01-22     88\n2023-01-23     92\n2023-01-24     96\n2023-01-25    100\n2023-01-26    104\n2023-01-27    108\n2023-01-28    112\n2023-01-29    116\n2023-01-30    120\nFreq: D, Name: D, dtype: int32"
     },
     "execution_count": 184,
     "metadata": {},
     "output_type": "execute_result"
    }
   ],
   "source": [
    "df.loc[:, \"D\"]\n"
   ],
   "metadata": {
    "collapsed": false,
    "pycharm": {
     "name": "#%%\n"
    }
   }
  },
  {
   "cell_type": "code",
   "execution_count": 185,
   "outputs": [
    {
     "data": {
      "text/plain": "              A    B    C    D  E\n2023-01-01    1    2    3    4  5\n2023-01-02    5    6    7    8  5\n2023-01-03    9   10   11   12  5\n2023-01-04   13   14   15   16  5\n2023-01-05   17   18   19   20  5\n2023-01-06   21   22   23   24  5\n2023-01-07   25   26   27   28  5\n2023-01-08   29   30   31   32  5\n2023-01-09   33   34   35   36  5\n2023-01-10   37   38   39   40  5\n2023-01-11   41   42   43   44  5\n2023-01-12   45   46   47   48  5\n2023-01-13   49   50   51   52  5\n2023-01-14   53   54   55   56  5\n2023-01-15   57   58   59   60  5\n2023-01-16   61   62   63   64  5\n2023-01-17   65   66   67   68  5\n2023-01-18   69   70   71   72  5\n2023-01-19   73   74   75   76  5\n2023-01-20   77   78   79   80  5\n2023-01-21   81   82   83   84  5\n2023-01-22   85   86   87   88  5\n2023-01-23   89   90   91   92  5\n2023-01-24   93   94   95   96  5\n2023-01-25   97   98   99  100  5\n2023-01-26  101  102  103  104  5\n2023-01-27  105  106  107  108  5\n2023-01-28  109  110  111  112  5\n2023-01-29  113  114  115  116  5\n2023-01-30  117  118  119  120  5",
      "text/html": "<div>\n<style scoped>\n    .dataframe tbody tr th:only-of-type {\n        vertical-align: middle;\n    }\n\n    .dataframe tbody tr th {\n        vertical-align: top;\n    }\n\n    .dataframe thead th {\n        text-align: right;\n    }\n</style>\n<table border=\"1\" class=\"dataframe\">\n  <thead>\n    <tr style=\"text-align: right;\">\n      <th></th>\n      <th>A</th>\n      <th>B</th>\n      <th>C</th>\n      <th>D</th>\n      <th>E</th>\n    </tr>\n  </thead>\n  <tbody>\n    <tr>\n      <th>2023-01-01</th>\n      <td>1</td>\n      <td>2</td>\n      <td>3</td>\n      <td>4</td>\n      <td>5</td>\n    </tr>\n    <tr>\n      <th>2023-01-02</th>\n      <td>5</td>\n      <td>6</td>\n      <td>7</td>\n      <td>8</td>\n      <td>5</td>\n    </tr>\n    <tr>\n      <th>2023-01-03</th>\n      <td>9</td>\n      <td>10</td>\n      <td>11</td>\n      <td>12</td>\n      <td>5</td>\n    </tr>\n    <tr>\n      <th>2023-01-04</th>\n      <td>13</td>\n      <td>14</td>\n      <td>15</td>\n      <td>16</td>\n      <td>5</td>\n    </tr>\n    <tr>\n      <th>2023-01-05</th>\n      <td>17</td>\n      <td>18</td>\n      <td>19</td>\n      <td>20</td>\n      <td>5</td>\n    </tr>\n    <tr>\n      <th>2023-01-06</th>\n      <td>21</td>\n      <td>22</td>\n      <td>23</td>\n      <td>24</td>\n      <td>5</td>\n    </tr>\n    <tr>\n      <th>2023-01-07</th>\n      <td>25</td>\n      <td>26</td>\n      <td>27</td>\n      <td>28</td>\n      <td>5</td>\n    </tr>\n    <tr>\n      <th>2023-01-08</th>\n      <td>29</td>\n      <td>30</td>\n      <td>31</td>\n      <td>32</td>\n      <td>5</td>\n    </tr>\n    <tr>\n      <th>2023-01-09</th>\n      <td>33</td>\n      <td>34</td>\n      <td>35</td>\n      <td>36</td>\n      <td>5</td>\n    </tr>\n    <tr>\n      <th>2023-01-10</th>\n      <td>37</td>\n      <td>38</td>\n      <td>39</td>\n      <td>40</td>\n      <td>5</td>\n    </tr>\n    <tr>\n      <th>2023-01-11</th>\n      <td>41</td>\n      <td>42</td>\n      <td>43</td>\n      <td>44</td>\n      <td>5</td>\n    </tr>\n    <tr>\n      <th>2023-01-12</th>\n      <td>45</td>\n      <td>46</td>\n      <td>47</td>\n      <td>48</td>\n      <td>5</td>\n    </tr>\n    <tr>\n      <th>2023-01-13</th>\n      <td>49</td>\n      <td>50</td>\n      <td>51</td>\n      <td>52</td>\n      <td>5</td>\n    </tr>\n    <tr>\n      <th>2023-01-14</th>\n      <td>53</td>\n      <td>54</td>\n      <td>55</td>\n      <td>56</td>\n      <td>5</td>\n    </tr>\n    <tr>\n      <th>2023-01-15</th>\n      <td>57</td>\n      <td>58</td>\n      <td>59</td>\n      <td>60</td>\n      <td>5</td>\n    </tr>\n    <tr>\n      <th>2023-01-16</th>\n      <td>61</td>\n      <td>62</td>\n      <td>63</td>\n      <td>64</td>\n      <td>5</td>\n    </tr>\n    <tr>\n      <th>2023-01-17</th>\n      <td>65</td>\n      <td>66</td>\n      <td>67</td>\n      <td>68</td>\n      <td>5</td>\n    </tr>\n    <tr>\n      <th>2023-01-18</th>\n      <td>69</td>\n      <td>70</td>\n      <td>71</td>\n      <td>72</td>\n      <td>5</td>\n    </tr>\n    <tr>\n      <th>2023-01-19</th>\n      <td>73</td>\n      <td>74</td>\n      <td>75</td>\n      <td>76</td>\n      <td>5</td>\n    </tr>\n    <tr>\n      <th>2023-01-20</th>\n      <td>77</td>\n      <td>78</td>\n      <td>79</td>\n      <td>80</td>\n      <td>5</td>\n    </tr>\n    <tr>\n      <th>2023-01-21</th>\n      <td>81</td>\n      <td>82</td>\n      <td>83</td>\n      <td>84</td>\n      <td>5</td>\n    </tr>\n    <tr>\n      <th>2023-01-22</th>\n      <td>85</td>\n      <td>86</td>\n      <td>87</td>\n      <td>88</td>\n      <td>5</td>\n    </tr>\n    <tr>\n      <th>2023-01-23</th>\n      <td>89</td>\n      <td>90</td>\n      <td>91</td>\n      <td>92</td>\n      <td>5</td>\n    </tr>\n    <tr>\n      <th>2023-01-24</th>\n      <td>93</td>\n      <td>94</td>\n      <td>95</td>\n      <td>96</td>\n      <td>5</td>\n    </tr>\n    <tr>\n      <th>2023-01-25</th>\n      <td>97</td>\n      <td>98</td>\n      <td>99</td>\n      <td>100</td>\n      <td>5</td>\n    </tr>\n    <tr>\n      <th>2023-01-26</th>\n      <td>101</td>\n      <td>102</td>\n      <td>103</td>\n      <td>104</td>\n      <td>5</td>\n    </tr>\n    <tr>\n      <th>2023-01-27</th>\n      <td>105</td>\n      <td>106</td>\n      <td>107</td>\n      <td>108</td>\n      <td>5</td>\n    </tr>\n    <tr>\n      <th>2023-01-28</th>\n      <td>109</td>\n      <td>110</td>\n      <td>111</td>\n      <td>112</td>\n      <td>5</td>\n    </tr>\n    <tr>\n      <th>2023-01-29</th>\n      <td>113</td>\n      <td>114</td>\n      <td>115</td>\n      <td>116</td>\n      <td>5</td>\n    </tr>\n    <tr>\n      <th>2023-01-30</th>\n      <td>117</td>\n      <td>118</td>\n      <td>119</td>\n      <td>120</td>\n      <td>5</td>\n    </tr>\n  </tbody>\n</table>\n</div>"
     },
     "execution_count": 185,
     "metadata": {},
     "output_type": "execute_result"
    }
   ],
   "source": [
    "df.loc[:, \"E\"] = np.array([5] * len(df))\n",
    "df"
   ],
   "metadata": {
    "collapsed": false,
    "pycharm": {
     "name": "#%%\n"
    }
   }
  },
  {
   "cell_type": "code",
   "execution_count": 186,
   "outputs": [
    {
     "data": {
      "text/plain": "              A    B    C    D  E\n2023-01-01    1    2    3    4  4\n2023-01-02    5    6    7    8  5\n2023-01-03    9   10   11   12  5\n2023-01-04   13   14   15   16  5\n2023-01-05   17   18   19   20  5\n2023-01-06   21   22   23   24  5\n2023-01-07   25   26   27   28  5\n2023-01-08   29   30   31   32  5\n2023-01-09   33   34   35   36  5\n2023-01-10   37   38   39   40  5\n2023-01-11   41   42   43   44  5\n2023-01-12   45   46   47   48  5\n2023-01-13   49   50   51   52  5\n2023-01-14   53   54   55   56  5\n2023-01-15   57   58   59   60  5\n2023-01-16   61   62   63   64  5\n2023-01-17   65   66   67   68  5\n2023-01-18   69   70   71   72  5\n2023-01-19   73   74   75   76  5\n2023-01-20   77   78   79   80  5\n2023-01-21   81   82   83   84  5\n2023-01-22   85   86   87   88  5\n2023-01-23   89   90   91   92  5\n2023-01-24   93   94   95   96  5\n2023-01-25   97   98   99  100  5\n2023-01-26  101  102  103  104  5\n2023-01-27  105  106  107  108  5\n2023-01-28  109  110  111  112  5\n2023-01-29  113  114  115  116  5\n2023-01-30  117  118  119  120  5",
      "text/html": "<div>\n<style scoped>\n    .dataframe tbody tr th:only-of-type {\n        vertical-align: middle;\n    }\n\n    .dataframe tbody tr th {\n        vertical-align: top;\n    }\n\n    .dataframe thead th {\n        text-align: right;\n    }\n</style>\n<table border=\"1\" class=\"dataframe\">\n  <thead>\n    <tr style=\"text-align: right;\">\n      <th></th>\n      <th>A</th>\n      <th>B</th>\n      <th>C</th>\n      <th>D</th>\n      <th>E</th>\n    </tr>\n  </thead>\n  <tbody>\n    <tr>\n      <th>2023-01-01</th>\n      <td>1</td>\n      <td>2</td>\n      <td>3</td>\n      <td>4</td>\n      <td>4</td>\n    </tr>\n    <tr>\n      <th>2023-01-02</th>\n      <td>5</td>\n      <td>6</td>\n      <td>7</td>\n      <td>8</td>\n      <td>5</td>\n    </tr>\n    <tr>\n      <th>2023-01-03</th>\n      <td>9</td>\n      <td>10</td>\n      <td>11</td>\n      <td>12</td>\n      <td>5</td>\n    </tr>\n    <tr>\n      <th>2023-01-04</th>\n      <td>13</td>\n      <td>14</td>\n      <td>15</td>\n      <td>16</td>\n      <td>5</td>\n    </tr>\n    <tr>\n      <th>2023-01-05</th>\n      <td>17</td>\n      <td>18</td>\n      <td>19</td>\n      <td>20</td>\n      <td>5</td>\n    </tr>\n    <tr>\n      <th>2023-01-06</th>\n      <td>21</td>\n      <td>22</td>\n      <td>23</td>\n      <td>24</td>\n      <td>5</td>\n    </tr>\n    <tr>\n      <th>2023-01-07</th>\n      <td>25</td>\n      <td>26</td>\n      <td>27</td>\n      <td>28</td>\n      <td>5</td>\n    </tr>\n    <tr>\n      <th>2023-01-08</th>\n      <td>29</td>\n      <td>30</td>\n      <td>31</td>\n      <td>32</td>\n      <td>5</td>\n    </tr>\n    <tr>\n      <th>2023-01-09</th>\n      <td>33</td>\n      <td>34</td>\n      <td>35</td>\n      <td>36</td>\n      <td>5</td>\n    </tr>\n    <tr>\n      <th>2023-01-10</th>\n      <td>37</td>\n      <td>38</td>\n      <td>39</td>\n      <td>40</td>\n      <td>5</td>\n    </tr>\n    <tr>\n      <th>2023-01-11</th>\n      <td>41</td>\n      <td>42</td>\n      <td>43</td>\n      <td>44</td>\n      <td>5</td>\n    </tr>\n    <tr>\n      <th>2023-01-12</th>\n      <td>45</td>\n      <td>46</td>\n      <td>47</td>\n      <td>48</td>\n      <td>5</td>\n    </tr>\n    <tr>\n      <th>2023-01-13</th>\n      <td>49</td>\n      <td>50</td>\n      <td>51</td>\n      <td>52</td>\n      <td>5</td>\n    </tr>\n    <tr>\n      <th>2023-01-14</th>\n      <td>53</td>\n      <td>54</td>\n      <td>55</td>\n      <td>56</td>\n      <td>5</td>\n    </tr>\n    <tr>\n      <th>2023-01-15</th>\n      <td>57</td>\n      <td>58</td>\n      <td>59</td>\n      <td>60</td>\n      <td>5</td>\n    </tr>\n    <tr>\n      <th>2023-01-16</th>\n      <td>61</td>\n      <td>62</td>\n      <td>63</td>\n      <td>64</td>\n      <td>5</td>\n    </tr>\n    <tr>\n      <th>2023-01-17</th>\n      <td>65</td>\n      <td>66</td>\n      <td>67</td>\n      <td>68</td>\n      <td>5</td>\n    </tr>\n    <tr>\n      <th>2023-01-18</th>\n      <td>69</td>\n      <td>70</td>\n      <td>71</td>\n      <td>72</td>\n      <td>5</td>\n    </tr>\n    <tr>\n      <th>2023-01-19</th>\n      <td>73</td>\n      <td>74</td>\n      <td>75</td>\n      <td>76</td>\n      <td>5</td>\n    </tr>\n    <tr>\n      <th>2023-01-20</th>\n      <td>77</td>\n      <td>78</td>\n      <td>79</td>\n      <td>80</td>\n      <td>5</td>\n    </tr>\n    <tr>\n      <th>2023-01-21</th>\n      <td>81</td>\n      <td>82</td>\n      <td>83</td>\n      <td>84</td>\n      <td>5</td>\n    </tr>\n    <tr>\n      <th>2023-01-22</th>\n      <td>85</td>\n      <td>86</td>\n      <td>87</td>\n      <td>88</td>\n      <td>5</td>\n    </tr>\n    <tr>\n      <th>2023-01-23</th>\n      <td>89</td>\n      <td>90</td>\n      <td>91</td>\n      <td>92</td>\n      <td>5</td>\n    </tr>\n    <tr>\n      <th>2023-01-24</th>\n      <td>93</td>\n      <td>94</td>\n      <td>95</td>\n      <td>96</td>\n      <td>5</td>\n    </tr>\n    <tr>\n      <th>2023-01-25</th>\n      <td>97</td>\n      <td>98</td>\n      <td>99</td>\n      <td>100</td>\n      <td>5</td>\n    </tr>\n    <tr>\n      <th>2023-01-26</th>\n      <td>101</td>\n      <td>102</td>\n      <td>103</td>\n      <td>104</td>\n      <td>5</td>\n    </tr>\n    <tr>\n      <th>2023-01-27</th>\n      <td>105</td>\n      <td>106</td>\n      <td>107</td>\n      <td>108</td>\n      <td>5</td>\n    </tr>\n    <tr>\n      <th>2023-01-28</th>\n      <td>109</td>\n      <td>110</td>\n      <td>111</td>\n      <td>112</td>\n      <td>5</td>\n    </tr>\n    <tr>\n      <th>2023-01-29</th>\n      <td>113</td>\n      <td>114</td>\n      <td>115</td>\n      <td>116</td>\n      <td>5</td>\n    </tr>\n    <tr>\n      <th>2023-01-30</th>\n      <td>117</td>\n      <td>118</td>\n      <td>119</td>\n      <td>120</td>\n      <td>5</td>\n    </tr>\n  </tbody>\n</table>\n</div>"
     },
     "execution_count": 186,
     "metadata": {},
     "output_type": "execute_result"
    }
   ],
   "source": [
    "df.loc[dates[0], \"E\"] = 4\n",
    "df\n"
   ],
   "metadata": {
    "collapsed": false,
    "pycharm": {
     "name": "#%%\n"
    }
   }
  },
  {
   "cell_type": "code",
   "execution_count": 187,
   "outputs": [
    {
     "data": {
      "text/plain": "                A           B           C           D          E\ncount   30.000000   30.000000   30.000000   30.000000  30.000000\nmean    59.000000   60.000000   61.000000   62.000000   4.966667\nstd     35.213634   35.213634   35.213634   35.213634   0.182574\nmin      1.000000    2.000000    3.000000    4.000000   4.000000\n25%     30.000000   31.000000   32.000000   33.000000   5.000000\n50%     59.000000   60.000000   61.000000   62.000000   5.000000\n75%     88.000000   89.000000   90.000000   91.000000   5.000000\nmax    117.000000  118.000000  119.000000  120.000000   5.000000",
      "text/html": "<div>\n<style scoped>\n    .dataframe tbody tr th:only-of-type {\n        vertical-align: middle;\n    }\n\n    .dataframe tbody tr th {\n        vertical-align: top;\n    }\n\n    .dataframe thead th {\n        text-align: right;\n    }\n</style>\n<table border=\"1\" class=\"dataframe\">\n  <thead>\n    <tr style=\"text-align: right;\">\n      <th></th>\n      <th>A</th>\n      <th>B</th>\n      <th>C</th>\n      <th>D</th>\n      <th>E</th>\n    </tr>\n  </thead>\n  <tbody>\n    <tr>\n      <th>count</th>\n      <td>30.000000</td>\n      <td>30.000000</td>\n      <td>30.000000</td>\n      <td>30.000000</td>\n      <td>30.000000</td>\n    </tr>\n    <tr>\n      <th>mean</th>\n      <td>59.000000</td>\n      <td>60.000000</td>\n      <td>61.000000</td>\n      <td>62.000000</td>\n      <td>4.966667</td>\n    </tr>\n    <tr>\n      <th>std</th>\n      <td>35.213634</td>\n      <td>35.213634</td>\n      <td>35.213634</td>\n      <td>35.213634</td>\n      <td>0.182574</td>\n    </tr>\n    <tr>\n      <th>min</th>\n      <td>1.000000</td>\n      <td>2.000000</td>\n      <td>3.000000</td>\n      <td>4.000000</td>\n      <td>4.000000</td>\n    </tr>\n    <tr>\n      <th>25%</th>\n      <td>30.000000</td>\n      <td>31.000000</td>\n      <td>32.000000</td>\n      <td>33.000000</td>\n      <td>5.000000</td>\n    </tr>\n    <tr>\n      <th>50%</th>\n      <td>59.000000</td>\n      <td>60.000000</td>\n      <td>61.000000</td>\n      <td>62.000000</td>\n      <td>5.000000</td>\n    </tr>\n    <tr>\n      <th>75%</th>\n      <td>88.000000</td>\n      <td>89.000000</td>\n      <td>90.000000</td>\n      <td>91.000000</td>\n      <td>5.000000</td>\n    </tr>\n    <tr>\n      <th>max</th>\n      <td>117.000000</td>\n      <td>118.000000</td>\n      <td>119.000000</td>\n      <td>120.000000</td>\n      <td>5.000000</td>\n    </tr>\n  </tbody>\n</table>\n</div>"
     },
     "execution_count": 187,
     "metadata": {},
     "output_type": "execute_result"
    }
   ],
   "source": [
    "df.describe()\n"
   ],
   "metadata": {
    "collapsed": false,
    "pycharm": {
     "name": "#%%\n"
    }
   }
  },
  {
   "cell_type": "code",
   "execution_count": 190,
   "outputs": [
    {
     "data": {
      "text/plain": "                A           B           C           D          E\ncount   30.000000   30.000000   30.000000   30.000000  30.000000\nmean    59.000000   60.000000   61.000000   62.000000   4.966667\nstd     35.213634   35.213634   35.213634   35.213634   0.182574\nmin      1.000000    2.000000    3.000000    4.000000   4.000000\n25%     30.000000   31.000000   32.000000   33.000000   5.000000\n50%     59.000000   60.000000   61.000000   62.000000   5.000000\n75%     88.000000   89.000000   90.000000   91.000000   5.000000\nmax    117.000000  118.000000  119.000000  120.000000   5.000000",
      "text/html": "<div>\n<style scoped>\n    .dataframe tbody tr th:only-of-type {\n        vertical-align: middle;\n    }\n\n    .dataframe tbody tr th {\n        vertical-align: top;\n    }\n\n    .dataframe thead th {\n        text-align: right;\n    }\n</style>\n<table border=\"1\" class=\"dataframe\">\n  <thead>\n    <tr style=\"text-align: right;\">\n      <th></th>\n      <th>A</th>\n      <th>B</th>\n      <th>C</th>\n      <th>D</th>\n      <th>E</th>\n    </tr>\n  </thead>\n  <tbody>\n    <tr>\n      <th>count</th>\n      <td>30.000000</td>\n      <td>30.000000</td>\n      <td>30.000000</td>\n      <td>30.000000</td>\n      <td>30.000000</td>\n    </tr>\n    <tr>\n      <th>mean</th>\n      <td>59.000000</td>\n      <td>60.000000</td>\n      <td>61.000000</td>\n      <td>62.000000</td>\n      <td>4.966667</td>\n    </tr>\n    <tr>\n      <th>std</th>\n      <td>35.213634</td>\n      <td>35.213634</td>\n      <td>35.213634</td>\n      <td>35.213634</td>\n      <td>0.182574</td>\n    </tr>\n    <tr>\n      <th>min</th>\n      <td>1.000000</td>\n      <td>2.000000</td>\n      <td>3.000000</td>\n      <td>4.000000</td>\n      <td>4.000000</td>\n    </tr>\n    <tr>\n      <th>25%</th>\n      <td>30.000000</td>\n      <td>31.000000</td>\n      <td>32.000000</td>\n      <td>33.000000</td>\n      <td>5.000000</td>\n    </tr>\n    <tr>\n      <th>50%</th>\n      <td>59.000000</td>\n      <td>60.000000</td>\n      <td>61.000000</td>\n      <td>62.000000</td>\n      <td>5.000000</td>\n    </tr>\n    <tr>\n      <th>75%</th>\n      <td>88.000000</td>\n      <td>89.000000</td>\n      <td>90.000000</td>\n      <td>91.000000</td>\n      <td>5.000000</td>\n    </tr>\n    <tr>\n      <th>max</th>\n      <td>117.000000</td>\n      <td>118.000000</td>\n      <td>119.000000</td>\n      <td>120.000000</td>\n      <td>5.000000</td>\n    </tr>\n  </tbody>\n</table>\n</div>"
     },
     "execution_count": 190,
     "metadata": {},
     "output_type": "execute_result"
    }
   ],
   "source": [
    "desc = df.describe()\n",
    "desc"
   ],
   "metadata": {
    "collapsed": false,
    "pycharm": {
     "name": "#%%\n"
    }
   }
  },
  {
   "cell_type": "code",
   "execution_count": 191,
   "outputs": [
    {
     "data": {
      "text/plain": "59.0"
     },
     "execution_count": 191,
     "metadata": {},
     "output_type": "execute_result"
    }
   ],
   "source": [
    "desc.loc[\"mean\", \"A\"]\n"
   ],
   "metadata": {
    "collapsed": false,
    "pycharm": {
     "name": "#%%\n"
    }
   }
  },
  {
   "cell_type": "code",
   "execution_count": 194,
   "outputs": [
    {
     "data": {
      "text/plain": "                         A      B      C      D     E  mean\n2023-01-01 00:00:00    1.0    2.0    3.0    4.0   4.0  59.0\n2023-01-02 00:00:00    5.0    6.0    7.0    8.0   5.0  59.0\n2023-01-03 00:00:00    9.0   10.0   11.0   12.0   5.0  59.0\n2023-01-04 00:00:00   13.0   14.0   15.0   16.0   5.0  59.0\n2023-01-05 00:00:00   17.0   18.0   19.0   20.0   5.0  59.0\n2023-01-06 00:00:00   21.0   22.0   23.0   24.0   5.0  59.0\n2023-01-07 00:00:00   25.0   26.0   27.0   28.0   5.0  59.0\n2023-01-08 00:00:00   29.0   30.0   31.0   32.0   5.0  59.0\n2023-01-09 00:00:00   33.0   34.0   35.0   36.0   5.0  59.0\n2023-01-10 00:00:00   37.0   38.0   39.0   40.0   5.0  59.0\n2023-01-11 00:00:00   41.0   42.0   43.0   44.0   5.0  59.0\n2023-01-12 00:00:00   45.0   46.0   47.0   48.0   5.0  59.0\n2023-01-13 00:00:00   49.0   50.0   51.0   52.0   5.0  59.0\n2023-01-14 00:00:00   53.0   54.0   55.0   56.0   5.0  59.0\n2023-01-15 00:00:00   57.0   58.0   59.0   60.0   5.0  59.0\n2023-01-16 00:00:00   61.0   62.0   63.0   64.0   5.0  59.0\n2023-01-17 00:00:00   65.0   66.0   67.0   68.0   5.0  59.0\n2023-01-18 00:00:00   69.0   70.0   71.0   72.0   5.0  59.0\n2023-01-19 00:00:00   73.0   74.0   75.0   76.0   5.0  59.0\n2023-01-20 00:00:00   77.0   78.0   79.0   80.0   5.0  59.0\n2023-01-21 00:00:00   81.0   82.0   83.0   84.0   5.0  59.0\n2023-01-22 00:00:00   85.0   86.0   87.0   88.0   5.0  59.0\n2023-01-23 00:00:00   89.0   90.0   91.0   92.0   5.0  59.0\n2023-01-24 00:00:00   93.0   94.0   95.0   96.0   5.0  59.0\n2023-01-25 00:00:00   97.0   98.0   99.0  100.0   5.0  59.0\n2023-01-26 00:00:00  101.0  102.0  103.0  104.0   5.0  59.0\n2023-01-27 00:00:00  105.0  106.0  107.0  108.0   5.0  59.0\n2023-01-28 00:00:00  109.0  110.0  111.0  112.0   5.0  59.0\n2023-01-29 00:00:00  113.0  114.0  115.0  116.0   5.0  59.0\n2023-01-30 00:00:00  117.0  118.0  119.0  120.0   5.0  59.0\nmean                  59.0   59.0   59.0   59.0  59.0  59.0",
      "text/html": "<div>\n<style scoped>\n    .dataframe tbody tr th:only-of-type {\n        vertical-align: middle;\n    }\n\n    .dataframe tbody tr th {\n        vertical-align: top;\n    }\n\n    .dataframe thead th {\n        text-align: right;\n    }\n</style>\n<table border=\"1\" class=\"dataframe\">\n  <thead>\n    <tr style=\"text-align: right;\">\n      <th></th>\n      <th>A</th>\n      <th>B</th>\n      <th>C</th>\n      <th>D</th>\n      <th>E</th>\n      <th>mean</th>\n    </tr>\n  </thead>\n  <tbody>\n    <tr>\n      <th>2023-01-01 00:00:00</th>\n      <td>1.0</td>\n      <td>2.0</td>\n      <td>3.0</td>\n      <td>4.0</td>\n      <td>4.0</td>\n      <td>59.0</td>\n    </tr>\n    <tr>\n      <th>2023-01-02 00:00:00</th>\n      <td>5.0</td>\n      <td>6.0</td>\n      <td>7.0</td>\n      <td>8.0</td>\n      <td>5.0</td>\n      <td>59.0</td>\n    </tr>\n    <tr>\n      <th>2023-01-03 00:00:00</th>\n      <td>9.0</td>\n      <td>10.0</td>\n      <td>11.0</td>\n      <td>12.0</td>\n      <td>5.0</td>\n      <td>59.0</td>\n    </tr>\n    <tr>\n      <th>2023-01-04 00:00:00</th>\n      <td>13.0</td>\n      <td>14.0</td>\n      <td>15.0</td>\n      <td>16.0</td>\n      <td>5.0</td>\n      <td>59.0</td>\n    </tr>\n    <tr>\n      <th>2023-01-05 00:00:00</th>\n      <td>17.0</td>\n      <td>18.0</td>\n      <td>19.0</td>\n      <td>20.0</td>\n      <td>5.0</td>\n      <td>59.0</td>\n    </tr>\n    <tr>\n      <th>2023-01-06 00:00:00</th>\n      <td>21.0</td>\n      <td>22.0</td>\n      <td>23.0</td>\n      <td>24.0</td>\n      <td>5.0</td>\n      <td>59.0</td>\n    </tr>\n    <tr>\n      <th>2023-01-07 00:00:00</th>\n      <td>25.0</td>\n      <td>26.0</td>\n      <td>27.0</td>\n      <td>28.0</td>\n      <td>5.0</td>\n      <td>59.0</td>\n    </tr>\n    <tr>\n      <th>2023-01-08 00:00:00</th>\n      <td>29.0</td>\n      <td>30.0</td>\n      <td>31.0</td>\n      <td>32.0</td>\n      <td>5.0</td>\n      <td>59.0</td>\n    </tr>\n    <tr>\n      <th>2023-01-09 00:00:00</th>\n      <td>33.0</td>\n      <td>34.0</td>\n      <td>35.0</td>\n      <td>36.0</td>\n      <td>5.0</td>\n      <td>59.0</td>\n    </tr>\n    <tr>\n      <th>2023-01-10 00:00:00</th>\n      <td>37.0</td>\n      <td>38.0</td>\n      <td>39.0</td>\n      <td>40.0</td>\n      <td>5.0</td>\n      <td>59.0</td>\n    </tr>\n    <tr>\n      <th>2023-01-11 00:00:00</th>\n      <td>41.0</td>\n      <td>42.0</td>\n      <td>43.0</td>\n      <td>44.0</td>\n      <td>5.0</td>\n      <td>59.0</td>\n    </tr>\n    <tr>\n      <th>2023-01-12 00:00:00</th>\n      <td>45.0</td>\n      <td>46.0</td>\n      <td>47.0</td>\n      <td>48.0</td>\n      <td>5.0</td>\n      <td>59.0</td>\n    </tr>\n    <tr>\n      <th>2023-01-13 00:00:00</th>\n      <td>49.0</td>\n      <td>50.0</td>\n      <td>51.0</td>\n      <td>52.0</td>\n      <td>5.0</td>\n      <td>59.0</td>\n    </tr>\n    <tr>\n      <th>2023-01-14 00:00:00</th>\n      <td>53.0</td>\n      <td>54.0</td>\n      <td>55.0</td>\n      <td>56.0</td>\n      <td>5.0</td>\n      <td>59.0</td>\n    </tr>\n    <tr>\n      <th>2023-01-15 00:00:00</th>\n      <td>57.0</td>\n      <td>58.0</td>\n      <td>59.0</td>\n      <td>60.0</td>\n      <td>5.0</td>\n      <td>59.0</td>\n    </tr>\n    <tr>\n      <th>2023-01-16 00:00:00</th>\n      <td>61.0</td>\n      <td>62.0</td>\n      <td>63.0</td>\n      <td>64.0</td>\n      <td>5.0</td>\n      <td>59.0</td>\n    </tr>\n    <tr>\n      <th>2023-01-17 00:00:00</th>\n      <td>65.0</td>\n      <td>66.0</td>\n      <td>67.0</td>\n      <td>68.0</td>\n      <td>5.0</td>\n      <td>59.0</td>\n    </tr>\n    <tr>\n      <th>2023-01-18 00:00:00</th>\n      <td>69.0</td>\n      <td>70.0</td>\n      <td>71.0</td>\n      <td>72.0</td>\n      <td>5.0</td>\n      <td>59.0</td>\n    </tr>\n    <tr>\n      <th>2023-01-19 00:00:00</th>\n      <td>73.0</td>\n      <td>74.0</td>\n      <td>75.0</td>\n      <td>76.0</td>\n      <td>5.0</td>\n      <td>59.0</td>\n    </tr>\n    <tr>\n      <th>2023-01-20 00:00:00</th>\n      <td>77.0</td>\n      <td>78.0</td>\n      <td>79.0</td>\n      <td>80.0</td>\n      <td>5.0</td>\n      <td>59.0</td>\n    </tr>\n    <tr>\n      <th>2023-01-21 00:00:00</th>\n      <td>81.0</td>\n      <td>82.0</td>\n      <td>83.0</td>\n      <td>84.0</td>\n      <td>5.0</td>\n      <td>59.0</td>\n    </tr>\n    <tr>\n      <th>2023-01-22 00:00:00</th>\n      <td>85.0</td>\n      <td>86.0</td>\n      <td>87.0</td>\n      <td>88.0</td>\n      <td>5.0</td>\n      <td>59.0</td>\n    </tr>\n    <tr>\n      <th>2023-01-23 00:00:00</th>\n      <td>89.0</td>\n      <td>90.0</td>\n      <td>91.0</td>\n      <td>92.0</td>\n      <td>5.0</td>\n      <td>59.0</td>\n    </tr>\n    <tr>\n      <th>2023-01-24 00:00:00</th>\n      <td>93.0</td>\n      <td>94.0</td>\n      <td>95.0</td>\n      <td>96.0</td>\n      <td>5.0</td>\n      <td>59.0</td>\n    </tr>\n    <tr>\n      <th>2023-01-25 00:00:00</th>\n      <td>97.0</td>\n      <td>98.0</td>\n      <td>99.0</td>\n      <td>100.0</td>\n      <td>5.0</td>\n      <td>59.0</td>\n    </tr>\n    <tr>\n      <th>2023-01-26 00:00:00</th>\n      <td>101.0</td>\n      <td>102.0</td>\n      <td>103.0</td>\n      <td>104.0</td>\n      <td>5.0</td>\n      <td>59.0</td>\n    </tr>\n    <tr>\n      <th>2023-01-27 00:00:00</th>\n      <td>105.0</td>\n      <td>106.0</td>\n      <td>107.0</td>\n      <td>108.0</td>\n      <td>5.0</td>\n      <td>59.0</td>\n    </tr>\n    <tr>\n      <th>2023-01-28 00:00:00</th>\n      <td>109.0</td>\n      <td>110.0</td>\n      <td>111.0</td>\n      <td>112.0</td>\n      <td>5.0</td>\n      <td>59.0</td>\n    </tr>\n    <tr>\n      <th>2023-01-29 00:00:00</th>\n      <td>113.0</td>\n      <td>114.0</td>\n      <td>115.0</td>\n      <td>116.0</td>\n      <td>5.0</td>\n      <td>59.0</td>\n    </tr>\n    <tr>\n      <th>2023-01-30 00:00:00</th>\n      <td>117.0</td>\n      <td>118.0</td>\n      <td>119.0</td>\n      <td>120.0</td>\n      <td>5.0</td>\n      <td>59.0</td>\n    </tr>\n    <tr>\n      <th>mean</th>\n      <td>59.0</td>\n      <td>59.0</td>\n      <td>59.0</td>\n      <td>59.0</td>\n      <td>59.0</td>\n      <td>59.0</td>\n    </tr>\n  </tbody>\n</table>\n</div>"
     },
     "execution_count": 194,
     "metadata": {},
     "output_type": "execute_result"
    }
   ],
   "source": [
    "# df.loc[\"mean\", :] = desc.loc[\"mean\", \"A\"]\n",
    "df.loc[:, \"mean\"] = desc.loc[\"mean\", \"A\"]\n",
    "df"
   ],
   "metadata": {
    "collapsed": false,
    "pycharm": {
     "name": "#%%\n"
    }
   }
  },
  {
   "cell_type": "code",
   "execution_count": 199,
   "outputs": [
    {
     "data": {
      "text/plain": "                         A      B      C      D    E  mean\n2023-01-01 00:00:00    1.0    2.0    3.0    4.0  4.0  59.0\n2023-01-02 00:00:00    5.0    6.0    7.0    8.0  5.0  59.0\n2023-01-03 00:00:00    9.0   10.0   11.0   12.0  5.0  59.0\n2023-01-04 00:00:00   13.0   14.0   15.0   16.0  5.0  59.0\n2023-01-05 00:00:00   17.0   18.0   19.0   20.0  5.0  59.0\n2023-01-06 00:00:00   21.0   22.0   23.0   24.0  5.0  59.0\n2023-01-07 00:00:00   25.0   26.0   27.0   28.0  5.0  59.0\n2023-01-08 00:00:00   29.0   30.0   31.0   32.0  5.0  59.0\n2023-01-09 00:00:00   33.0   34.0   35.0   36.0  5.0  59.0\n2023-01-10 00:00:00   37.0   38.0   39.0   40.0  5.0  59.0\n2023-01-11 00:00:00   41.0   42.0   43.0   44.0  5.0  59.0\n2023-01-12 00:00:00   45.0   46.0   47.0   48.0  5.0  59.0\n2023-01-13 00:00:00   49.0   50.0   51.0   52.0  5.0  59.0\n2023-01-14 00:00:00   53.0   54.0   55.0   56.0  5.0  59.0\n2023-01-15 00:00:00   57.0   58.0   59.0   60.0  5.0  59.0\n2023-01-16 00:00:00   61.0   62.0   63.0   64.0  5.0  59.0\n2023-01-17 00:00:00   65.0   66.0   67.0   68.0  5.0  59.0\n2023-01-18 00:00:00   69.0   70.0   71.0   72.0  5.0  59.0\n2023-01-19 00:00:00   73.0   74.0   75.0   76.0  5.0  59.0\n2023-01-20 00:00:00   77.0   78.0   79.0   80.0  5.0  59.0\n2023-01-21 00:00:00   81.0   82.0   83.0   84.0  5.0  59.0\n2023-01-22 00:00:00   85.0   86.0   87.0   88.0  5.0  59.0\n2023-01-23 00:00:00   89.0   90.0   91.0   92.0  5.0  59.0\n2023-01-24 00:00:00   93.0   94.0   95.0   96.0  5.0  59.0\n2023-01-25 00:00:00   97.0   98.0   99.0  100.0  5.0  59.0\n2023-01-26 00:00:00  101.0  102.0  103.0  104.0  5.0  59.0\n2023-01-27 00:00:00  105.0  106.0  107.0  108.0  5.0  59.0\n2023-01-28 00:00:00  109.0  110.0  111.0  112.0  5.0  59.0\n2023-01-29 00:00:00  113.0  114.0  115.0  116.0  5.0  59.0\n2023-01-30 00:00:00  117.0  118.0  119.0  120.0  5.0  59.0",
      "text/html": "<div>\n<style scoped>\n    .dataframe tbody tr th:only-of-type {\n        vertical-align: middle;\n    }\n\n    .dataframe tbody tr th {\n        vertical-align: top;\n    }\n\n    .dataframe thead th {\n        text-align: right;\n    }\n</style>\n<table border=\"1\" class=\"dataframe\">\n  <thead>\n    <tr style=\"text-align: right;\">\n      <th></th>\n      <th>A</th>\n      <th>B</th>\n      <th>C</th>\n      <th>D</th>\n      <th>E</th>\n      <th>mean</th>\n    </tr>\n  </thead>\n  <tbody>\n    <tr>\n      <th>2023-01-01 00:00:00</th>\n      <td>1.0</td>\n      <td>2.0</td>\n      <td>3.0</td>\n      <td>4.0</td>\n      <td>4.0</td>\n      <td>59.0</td>\n    </tr>\n    <tr>\n      <th>2023-01-02 00:00:00</th>\n      <td>5.0</td>\n      <td>6.0</td>\n      <td>7.0</td>\n      <td>8.0</td>\n      <td>5.0</td>\n      <td>59.0</td>\n    </tr>\n    <tr>\n      <th>2023-01-03 00:00:00</th>\n      <td>9.0</td>\n      <td>10.0</td>\n      <td>11.0</td>\n      <td>12.0</td>\n      <td>5.0</td>\n      <td>59.0</td>\n    </tr>\n    <tr>\n      <th>2023-01-04 00:00:00</th>\n      <td>13.0</td>\n      <td>14.0</td>\n      <td>15.0</td>\n      <td>16.0</td>\n      <td>5.0</td>\n      <td>59.0</td>\n    </tr>\n    <tr>\n      <th>2023-01-05 00:00:00</th>\n      <td>17.0</td>\n      <td>18.0</td>\n      <td>19.0</td>\n      <td>20.0</td>\n      <td>5.0</td>\n      <td>59.0</td>\n    </tr>\n    <tr>\n      <th>2023-01-06 00:00:00</th>\n      <td>21.0</td>\n      <td>22.0</td>\n      <td>23.0</td>\n      <td>24.0</td>\n      <td>5.0</td>\n      <td>59.0</td>\n    </tr>\n    <tr>\n      <th>2023-01-07 00:00:00</th>\n      <td>25.0</td>\n      <td>26.0</td>\n      <td>27.0</td>\n      <td>28.0</td>\n      <td>5.0</td>\n      <td>59.0</td>\n    </tr>\n    <tr>\n      <th>2023-01-08 00:00:00</th>\n      <td>29.0</td>\n      <td>30.0</td>\n      <td>31.0</td>\n      <td>32.0</td>\n      <td>5.0</td>\n      <td>59.0</td>\n    </tr>\n    <tr>\n      <th>2023-01-09 00:00:00</th>\n      <td>33.0</td>\n      <td>34.0</td>\n      <td>35.0</td>\n      <td>36.0</td>\n      <td>5.0</td>\n      <td>59.0</td>\n    </tr>\n    <tr>\n      <th>2023-01-10 00:00:00</th>\n      <td>37.0</td>\n      <td>38.0</td>\n      <td>39.0</td>\n      <td>40.0</td>\n      <td>5.0</td>\n      <td>59.0</td>\n    </tr>\n    <tr>\n      <th>2023-01-11 00:00:00</th>\n      <td>41.0</td>\n      <td>42.0</td>\n      <td>43.0</td>\n      <td>44.0</td>\n      <td>5.0</td>\n      <td>59.0</td>\n    </tr>\n    <tr>\n      <th>2023-01-12 00:00:00</th>\n      <td>45.0</td>\n      <td>46.0</td>\n      <td>47.0</td>\n      <td>48.0</td>\n      <td>5.0</td>\n      <td>59.0</td>\n    </tr>\n    <tr>\n      <th>2023-01-13 00:00:00</th>\n      <td>49.0</td>\n      <td>50.0</td>\n      <td>51.0</td>\n      <td>52.0</td>\n      <td>5.0</td>\n      <td>59.0</td>\n    </tr>\n    <tr>\n      <th>2023-01-14 00:00:00</th>\n      <td>53.0</td>\n      <td>54.0</td>\n      <td>55.0</td>\n      <td>56.0</td>\n      <td>5.0</td>\n      <td>59.0</td>\n    </tr>\n    <tr>\n      <th>2023-01-15 00:00:00</th>\n      <td>57.0</td>\n      <td>58.0</td>\n      <td>59.0</td>\n      <td>60.0</td>\n      <td>5.0</td>\n      <td>59.0</td>\n    </tr>\n    <tr>\n      <th>2023-01-16 00:00:00</th>\n      <td>61.0</td>\n      <td>62.0</td>\n      <td>63.0</td>\n      <td>64.0</td>\n      <td>5.0</td>\n      <td>59.0</td>\n    </tr>\n    <tr>\n      <th>2023-01-17 00:00:00</th>\n      <td>65.0</td>\n      <td>66.0</td>\n      <td>67.0</td>\n      <td>68.0</td>\n      <td>5.0</td>\n      <td>59.0</td>\n    </tr>\n    <tr>\n      <th>2023-01-18 00:00:00</th>\n      <td>69.0</td>\n      <td>70.0</td>\n      <td>71.0</td>\n      <td>72.0</td>\n      <td>5.0</td>\n      <td>59.0</td>\n    </tr>\n    <tr>\n      <th>2023-01-19 00:00:00</th>\n      <td>73.0</td>\n      <td>74.0</td>\n      <td>75.0</td>\n      <td>76.0</td>\n      <td>5.0</td>\n      <td>59.0</td>\n    </tr>\n    <tr>\n      <th>2023-01-20 00:00:00</th>\n      <td>77.0</td>\n      <td>78.0</td>\n      <td>79.0</td>\n      <td>80.0</td>\n      <td>5.0</td>\n      <td>59.0</td>\n    </tr>\n    <tr>\n      <th>2023-01-21 00:00:00</th>\n      <td>81.0</td>\n      <td>82.0</td>\n      <td>83.0</td>\n      <td>84.0</td>\n      <td>5.0</td>\n      <td>59.0</td>\n    </tr>\n    <tr>\n      <th>2023-01-22 00:00:00</th>\n      <td>85.0</td>\n      <td>86.0</td>\n      <td>87.0</td>\n      <td>88.0</td>\n      <td>5.0</td>\n      <td>59.0</td>\n    </tr>\n    <tr>\n      <th>2023-01-23 00:00:00</th>\n      <td>89.0</td>\n      <td>90.0</td>\n      <td>91.0</td>\n      <td>92.0</td>\n      <td>5.0</td>\n      <td>59.0</td>\n    </tr>\n    <tr>\n      <th>2023-01-24 00:00:00</th>\n      <td>93.0</td>\n      <td>94.0</td>\n      <td>95.0</td>\n      <td>96.0</td>\n      <td>5.0</td>\n      <td>59.0</td>\n    </tr>\n    <tr>\n      <th>2023-01-25 00:00:00</th>\n      <td>97.0</td>\n      <td>98.0</td>\n      <td>99.0</td>\n      <td>100.0</td>\n      <td>5.0</td>\n      <td>59.0</td>\n    </tr>\n    <tr>\n      <th>2023-01-26 00:00:00</th>\n      <td>101.0</td>\n      <td>102.0</td>\n      <td>103.0</td>\n      <td>104.0</td>\n      <td>5.0</td>\n      <td>59.0</td>\n    </tr>\n    <tr>\n      <th>2023-01-27 00:00:00</th>\n      <td>105.0</td>\n      <td>106.0</td>\n      <td>107.0</td>\n      <td>108.0</td>\n      <td>5.0</td>\n      <td>59.0</td>\n    </tr>\n    <tr>\n      <th>2023-01-28 00:00:00</th>\n      <td>109.0</td>\n      <td>110.0</td>\n      <td>111.0</td>\n      <td>112.0</td>\n      <td>5.0</td>\n      <td>59.0</td>\n    </tr>\n    <tr>\n      <th>2023-01-29 00:00:00</th>\n      <td>113.0</td>\n      <td>114.0</td>\n      <td>115.0</td>\n      <td>116.0</td>\n      <td>5.0</td>\n      <td>59.0</td>\n    </tr>\n    <tr>\n      <th>2023-01-30 00:00:00</th>\n      <td>117.0</td>\n      <td>118.0</td>\n      <td>119.0</td>\n      <td>120.0</td>\n      <td>5.0</td>\n      <td>59.0</td>\n    </tr>\n  </tbody>\n</table>\n</div>"
     },
     "execution_count": 199,
     "metadata": {},
     "output_type": "execute_result"
    }
   ],
   "source": [
    "df4 = df.copy()\n",
    "df4 = df4.iloc[0:-1, :]\n",
    "df4"
   ],
   "metadata": {
    "collapsed": false,
    "pycharm": {
     "name": "#%%\n"
    }
   }
  },
  {
   "cell_type": "code",
   "execution_count": 202,
   "outputs": [
    {
     "data": {
      "text/plain": "2.5"
     },
     "execution_count": 202,
     "metadata": {},
     "output_type": "execute_result"
    }
   ],
   "source": [
    "np.mean(df.iloc[0, 0:4])\n"
   ],
   "metadata": {
    "collapsed": false,
    "pycharm": {
     "name": "#%%\n"
    }
   }
  },
  {
   "cell_type": "code",
   "execution_count": 203,
   "outputs": [
    {
     "data": {
      "text/plain": "31"
     },
     "execution_count": 203,
     "metadata": {},
     "output_type": "execute_result"
    }
   ],
   "source": [
    "len(df)\n"
   ],
   "metadata": {
    "collapsed": false,
    "pycharm": {
     "name": "#%%\n"
    }
   }
  },
  {
   "cell_type": "code",
   "execution_count": 204,
   "outputs": [
    {
     "data": {
      "text/plain": "                         A      B      C      D     E  mean\n2023-01-01 00:00:00    1.0    2.0    3.0    4.0   4.0  59.0\n2023-01-02 00:00:00    5.0    6.0    7.0    8.0   5.0  59.0\n2023-01-03 00:00:00    9.0   10.0   11.0   12.0   5.0  59.0\n2023-01-04 00:00:00   13.0   14.0   15.0   16.0   5.0  59.0\n2023-01-05 00:00:00   17.0   18.0   19.0   20.0   5.0  59.0\n2023-01-06 00:00:00   21.0   22.0   23.0   24.0   5.0  59.0\n2023-01-07 00:00:00   25.0   26.0   27.0   28.0   5.0  59.0\n2023-01-08 00:00:00   29.0   30.0   31.0   32.0   5.0  59.0\n2023-01-09 00:00:00   33.0   34.0   35.0   36.0   5.0  59.0\n2023-01-10 00:00:00   37.0   38.0   39.0   40.0   5.0  59.0\n2023-01-11 00:00:00   41.0   42.0   43.0   44.0   5.0  59.0\n2023-01-12 00:00:00   45.0   46.0   47.0   48.0   5.0  59.0\n2023-01-13 00:00:00   49.0   50.0   51.0   52.0   5.0  59.0\n2023-01-14 00:00:00   53.0   54.0   55.0   56.0   5.0  59.0\n2023-01-15 00:00:00   57.0   58.0   59.0   60.0   5.0  59.0\n2023-01-16 00:00:00   61.0   62.0   63.0   64.0   5.0  59.0\n2023-01-17 00:00:00   65.0   66.0   67.0   68.0   5.0  59.0\n2023-01-18 00:00:00   69.0   70.0   71.0   72.0   5.0  59.0\n2023-01-19 00:00:00   73.0   74.0   75.0   76.0   5.0  59.0\n2023-01-20 00:00:00   77.0   78.0   79.0   80.0   5.0  59.0\n2023-01-21 00:00:00   81.0   82.0   83.0   84.0   5.0  59.0\n2023-01-22 00:00:00   85.0   86.0   87.0   88.0   5.0  59.0\n2023-01-23 00:00:00   89.0   90.0   91.0   92.0   5.0  59.0\n2023-01-24 00:00:00   93.0   94.0   95.0   96.0   5.0  59.0\n2023-01-25 00:00:00   97.0   98.0   99.0  100.0   5.0  59.0\n2023-01-26 00:00:00  101.0  102.0  103.0  104.0   5.0  59.0\n2023-01-27 00:00:00  105.0  106.0  107.0  108.0   5.0  59.0\n2023-01-28 00:00:00  109.0  110.0  111.0  112.0   5.0  59.0\n2023-01-29 00:00:00  113.0  114.0  115.0  116.0   5.0  59.0\n2023-01-30 00:00:00  117.0  118.0  119.0  120.0   5.0  59.0\nmean                  59.0   59.0   59.0   59.0  59.0  59.0",
      "text/html": "<div>\n<style scoped>\n    .dataframe tbody tr th:only-of-type {\n        vertical-align: middle;\n    }\n\n    .dataframe tbody tr th {\n        vertical-align: top;\n    }\n\n    .dataframe thead th {\n        text-align: right;\n    }\n</style>\n<table border=\"1\" class=\"dataframe\">\n  <thead>\n    <tr style=\"text-align: right;\">\n      <th></th>\n      <th>A</th>\n      <th>B</th>\n      <th>C</th>\n      <th>D</th>\n      <th>E</th>\n      <th>mean</th>\n    </tr>\n  </thead>\n  <tbody>\n    <tr>\n      <th>2023-01-01 00:00:00</th>\n      <td>1.0</td>\n      <td>2.0</td>\n      <td>3.0</td>\n      <td>4.0</td>\n      <td>4.0</td>\n      <td>59.0</td>\n    </tr>\n    <tr>\n      <th>2023-01-02 00:00:00</th>\n      <td>5.0</td>\n      <td>6.0</td>\n      <td>7.0</td>\n      <td>8.0</td>\n      <td>5.0</td>\n      <td>59.0</td>\n    </tr>\n    <tr>\n      <th>2023-01-03 00:00:00</th>\n      <td>9.0</td>\n      <td>10.0</td>\n      <td>11.0</td>\n      <td>12.0</td>\n      <td>5.0</td>\n      <td>59.0</td>\n    </tr>\n    <tr>\n      <th>2023-01-04 00:00:00</th>\n      <td>13.0</td>\n      <td>14.0</td>\n      <td>15.0</td>\n      <td>16.0</td>\n      <td>5.0</td>\n      <td>59.0</td>\n    </tr>\n    <tr>\n      <th>2023-01-05 00:00:00</th>\n      <td>17.0</td>\n      <td>18.0</td>\n      <td>19.0</td>\n      <td>20.0</td>\n      <td>5.0</td>\n      <td>59.0</td>\n    </tr>\n    <tr>\n      <th>2023-01-06 00:00:00</th>\n      <td>21.0</td>\n      <td>22.0</td>\n      <td>23.0</td>\n      <td>24.0</td>\n      <td>5.0</td>\n      <td>59.0</td>\n    </tr>\n    <tr>\n      <th>2023-01-07 00:00:00</th>\n      <td>25.0</td>\n      <td>26.0</td>\n      <td>27.0</td>\n      <td>28.0</td>\n      <td>5.0</td>\n      <td>59.0</td>\n    </tr>\n    <tr>\n      <th>2023-01-08 00:00:00</th>\n      <td>29.0</td>\n      <td>30.0</td>\n      <td>31.0</td>\n      <td>32.0</td>\n      <td>5.0</td>\n      <td>59.0</td>\n    </tr>\n    <tr>\n      <th>2023-01-09 00:00:00</th>\n      <td>33.0</td>\n      <td>34.0</td>\n      <td>35.0</td>\n      <td>36.0</td>\n      <td>5.0</td>\n      <td>59.0</td>\n    </tr>\n    <tr>\n      <th>2023-01-10 00:00:00</th>\n      <td>37.0</td>\n      <td>38.0</td>\n      <td>39.0</td>\n      <td>40.0</td>\n      <td>5.0</td>\n      <td>59.0</td>\n    </tr>\n    <tr>\n      <th>2023-01-11 00:00:00</th>\n      <td>41.0</td>\n      <td>42.0</td>\n      <td>43.0</td>\n      <td>44.0</td>\n      <td>5.0</td>\n      <td>59.0</td>\n    </tr>\n    <tr>\n      <th>2023-01-12 00:00:00</th>\n      <td>45.0</td>\n      <td>46.0</td>\n      <td>47.0</td>\n      <td>48.0</td>\n      <td>5.0</td>\n      <td>59.0</td>\n    </tr>\n    <tr>\n      <th>2023-01-13 00:00:00</th>\n      <td>49.0</td>\n      <td>50.0</td>\n      <td>51.0</td>\n      <td>52.0</td>\n      <td>5.0</td>\n      <td>59.0</td>\n    </tr>\n    <tr>\n      <th>2023-01-14 00:00:00</th>\n      <td>53.0</td>\n      <td>54.0</td>\n      <td>55.0</td>\n      <td>56.0</td>\n      <td>5.0</td>\n      <td>59.0</td>\n    </tr>\n    <tr>\n      <th>2023-01-15 00:00:00</th>\n      <td>57.0</td>\n      <td>58.0</td>\n      <td>59.0</td>\n      <td>60.0</td>\n      <td>5.0</td>\n      <td>59.0</td>\n    </tr>\n    <tr>\n      <th>2023-01-16 00:00:00</th>\n      <td>61.0</td>\n      <td>62.0</td>\n      <td>63.0</td>\n      <td>64.0</td>\n      <td>5.0</td>\n      <td>59.0</td>\n    </tr>\n    <tr>\n      <th>2023-01-17 00:00:00</th>\n      <td>65.0</td>\n      <td>66.0</td>\n      <td>67.0</td>\n      <td>68.0</td>\n      <td>5.0</td>\n      <td>59.0</td>\n    </tr>\n    <tr>\n      <th>2023-01-18 00:00:00</th>\n      <td>69.0</td>\n      <td>70.0</td>\n      <td>71.0</td>\n      <td>72.0</td>\n      <td>5.0</td>\n      <td>59.0</td>\n    </tr>\n    <tr>\n      <th>2023-01-19 00:00:00</th>\n      <td>73.0</td>\n      <td>74.0</td>\n      <td>75.0</td>\n      <td>76.0</td>\n      <td>5.0</td>\n      <td>59.0</td>\n    </tr>\n    <tr>\n      <th>2023-01-20 00:00:00</th>\n      <td>77.0</td>\n      <td>78.0</td>\n      <td>79.0</td>\n      <td>80.0</td>\n      <td>5.0</td>\n      <td>59.0</td>\n    </tr>\n    <tr>\n      <th>2023-01-21 00:00:00</th>\n      <td>81.0</td>\n      <td>82.0</td>\n      <td>83.0</td>\n      <td>84.0</td>\n      <td>5.0</td>\n      <td>59.0</td>\n    </tr>\n    <tr>\n      <th>2023-01-22 00:00:00</th>\n      <td>85.0</td>\n      <td>86.0</td>\n      <td>87.0</td>\n      <td>88.0</td>\n      <td>5.0</td>\n      <td>59.0</td>\n    </tr>\n    <tr>\n      <th>2023-01-23 00:00:00</th>\n      <td>89.0</td>\n      <td>90.0</td>\n      <td>91.0</td>\n      <td>92.0</td>\n      <td>5.0</td>\n      <td>59.0</td>\n    </tr>\n    <tr>\n      <th>2023-01-24 00:00:00</th>\n      <td>93.0</td>\n      <td>94.0</td>\n      <td>95.0</td>\n      <td>96.0</td>\n      <td>5.0</td>\n      <td>59.0</td>\n    </tr>\n    <tr>\n      <th>2023-01-25 00:00:00</th>\n      <td>97.0</td>\n      <td>98.0</td>\n      <td>99.0</td>\n      <td>100.0</td>\n      <td>5.0</td>\n      <td>59.0</td>\n    </tr>\n    <tr>\n      <th>2023-01-26 00:00:00</th>\n      <td>101.0</td>\n      <td>102.0</td>\n      <td>103.0</td>\n      <td>104.0</td>\n      <td>5.0</td>\n      <td>59.0</td>\n    </tr>\n    <tr>\n      <th>2023-01-27 00:00:00</th>\n      <td>105.0</td>\n      <td>106.0</td>\n      <td>107.0</td>\n      <td>108.0</td>\n      <td>5.0</td>\n      <td>59.0</td>\n    </tr>\n    <tr>\n      <th>2023-01-28 00:00:00</th>\n      <td>109.0</td>\n      <td>110.0</td>\n      <td>111.0</td>\n      <td>112.0</td>\n      <td>5.0</td>\n      <td>59.0</td>\n    </tr>\n    <tr>\n      <th>2023-01-29 00:00:00</th>\n      <td>113.0</td>\n      <td>114.0</td>\n      <td>115.0</td>\n      <td>116.0</td>\n      <td>5.0</td>\n      <td>59.0</td>\n    </tr>\n    <tr>\n      <th>2023-01-30 00:00:00</th>\n      <td>117.0</td>\n      <td>118.0</td>\n      <td>119.0</td>\n      <td>120.0</td>\n      <td>5.0</td>\n      <td>59.0</td>\n    </tr>\n    <tr>\n      <th>mean</th>\n      <td>59.0</td>\n      <td>59.0</td>\n      <td>59.0</td>\n      <td>59.0</td>\n      <td>59.0</td>\n      <td>59.0</td>\n    </tr>\n  </tbody>\n</table>\n</div>"
     },
     "execution_count": 204,
     "metadata": {},
     "output_type": "execute_result"
    }
   ],
   "source": [
    "df\n"
   ],
   "metadata": {
    "collapsed": false,
    "pycharm": {
     "name": "#%%\n"
    }
   }
  },
  {
   "cell_type": "code",
   "execution_count": 205,
   "outputs": [],
   "source": [
    "df = df4.copy()\n"
   ],
   "metadata": {
    "collapsed": false,
    "pycharm": {
     "name": "#%%\n"
    }
   }
  },
  {
   "cell_type": "code",
   "execution_count": 206,
   "outputs": [
    {
     "data": {
      "text/plain": "                         A      B      C      D    E  mean\n2023-01-01 00:00:00    1.0    2.0    3.0    4.0  4.0  59.0\n2023-01-02 00:00:00    5.0    6.0    7.0    8.0  5.0  59.0\n2023-01-03 00:00:00    9.0   10.0   11.0   12.0  5.0  59.0\n2023-01-04 00:00:00   13.0   14.0   15.0   16.0  5.0  59.0\n2023-01-05 00:00:00   17.0   18.0   19.0   20.0  5.0  59.0\n2023-01-06 00:00:00   21.0   22.0   23.0   24.0  5.0  59.0\n2023-01-07 00:00:00   25.0   26.0   27.0   28.0  5.0  59.0\n2023-01-08 00:00:00   29.0   30.0   31.0   32.0  5.0  59.0\n2023-01-09 00:00:00   33.0   34.0   35.0   36.0  5.0  59.0\n2023-01-10 00:00:00   37.0   38.0   39.0   40.0  5.0  59.0\n2023-01-11 00:00:00   41.0   42.0   43.0   44.0  5.0  59.0\n2023-01-12 00:00:00   45.0   46.0   47.0   48.0  5.0  59.0\n2023-01-13 00:00:00   49.0   50.0   51.0   52.0  5.0  59.0\n2023-01-14 00:00:00   53.0   54.0   55.0   56.0  5.0  59.0\n2023-01-15 00:00:00   57.0   58.0   59.0   60.0  5.0  59.0\n2023-01-16 00:00:00   61.0   62.0   63.0   64.0  5.0  59.0\n2023-01-17 00:00:00   65.0   66.0   67.0   68.0  5.0  59.0\n2023-01-18 00:00:00   69.0   70.0   71.0   72.0  5.0  59.0\n2023-01-19 00:00:00   73.0   74.0   75.0   76.0  5.0  59.0\n2023-01-20 00:00:00   77.0   78.0   79.0   80.0  5.0  59.0\n2023-01-21 00:00:00   81.0   82.0   83.0   84.0  5.0  59.0\n2023-01-22 00:00:00   85.0   86.0   87.0   88.0  5.0  59.0\n2023-01-23 00:00:00   89.0   90.0   91.0   92.0  5.0  59.0\n2023-01-24 00:00:00   93.0   94.0   95.0   96.0  5.0  59.0\n2023-01-25 00:00:00   97.0   98.0   99.0  100.0  5.0  59.0\n2023-01-26 00:00:00  101.0  102.0  103.0  104.0  5.0  59.0\n2023-01-27 00:00:00  105.0  106.0  107.0  108.0  5.0  59.0\n2023-01-28 00:00:00  109.0  110.0  111.0  112.0  5.0  59.0\n2023-01-29 00:00:00  113.0  114.0  115.0  116.0  5.0  59.0\n2023-01-30 00:00:00  117.0  118.0  119.0  120.0  5.0  59.0",
      "text/html": "<div>\n<style scoped>\n    .dataframe tbody tr th:only-of-type {\n        vertical-align: middle;\n    }\n\n    .dataframe tbody tr th {\n        vertical-align: top;\n    }\n\n    .dataframe thead th {\n        text-align: right;\n    }\n</style>\n<table border=\"1\" class=\"dataframe\">\n  <thead>\n    <tr style=\"text-align: right;\">\n      <th></th>\n      <th>A</th>\n      <th>B</th>\n      <th>C</th>\n      <th>D</th>\n      <th>E</th>\n      <th>mean</th>\n    </tr>\n  </thead>\n  <tbody>\n    <tr>\n      <th>2023-01-01 00:00:00</th>\n      <td>1.0</td>\n      <td>2.0</td>\n      <td>3.0</td>\n      <td>4.0</td>\n      <td>4.0</td>\n      <td>59.0</td>\n    </tr>\n    <tr>\n      <th>2023-01-02 00:00:00</th>\n      <td>5.0</td>\n      <td>6.0</td>\n      <td>7.0</td>\n      <td>8.0</td>\n      <td>5.0</td>\n      <td>59.0</td>\n    </tr>\n    <tr>\n      <th>2023-01-03 00:00:00</th>\n      <td>9.0</td>\n      <td>10.0</td>\n      <td>11.0</td>\n      <td>12.0</td>\n      <td>5.0</td>\n      <td>59.0</td>\n    </tr>\n    <tr>\n      <th>2023-01-04 00:00:00</th>\n      <td>13.0</td>\n      <td>14.0</td>\n      <td>15.0</td>\n      <td>16.0</td>\n      <td>5.0</td>\n      <td>59.0</td>\n    </tr>\n    <tr>\n      <th>2023-01-05 00:00:00</th>\n      <td>17.0</td>\n      <td>18.0</td>\n      <td>19.0</td>\n      <td>20.0</td>\n      <td>5.0</td>\n      <td>59.0</td>\n    </tr>\n    <tr>\n      <th>2023-01-06 00:00:00</th>\n      <td>21.0</td>\n      <td>22.0</td>\n      <td>23.0</td>\n      <td>24.0</td>\n      <td>5.0</td>\n      <td>59.0</td>\n    </tr>\n    <tr>\n      <th>2023-01-07 00:00:00</th>\n      <td>25.0</td>\n      <td>26.0</td>\n      <td>27.0</td>\n      <td>28.0</td>\n      <td>5.0</td>\n      <td>59.0</td>\n    </tr>\n    <tr>\n      <th>2023-01-08 00:00:00</th>\n      <td>29.0</td>\n      <td>30.0</td>\n      <td>31.0</td>\n      <td>32.0</td>\n      <td>5.0</td>\n      <td>59.0</td>\n    </tr>\n    <tr>\n      <th>2023-01-09 00:00:00</th>\n      <td>33.0</td>\n      <td>34.0</td>\n      <td>35.0</td>\n      <td>36.0</td>\n      <td>5.0</td>\n      <td>59.0</td>\n    </tr>\n    <tr>\n      <th>2023-01-10 00:00:00</th>\n      <td>37.0</td>\n      <td>38.0</td>\n      <td>39.0</td>\n      <td>40.0</td>\n      <td>5.0</td>\n      <td>59.0</td>\n    </tr>\n    <tr>\n      <th>2023-01-11 00:00:00</th>\n      <td>41.0</td>\n      <td>42.0</td>\n      <td>43.0</td>\n      <td>44.0</td>\n      <td>5.0</td>\n      <td>59.0</td>\n    </tr>\n    <tr>\n      <th>2023-01-12 00:00:00</th>\n      <td>45.0</td>\n      <td>46.0</td>\n      <td>47.0</td>\n      <td>48.0</td>\n      <td>5.0</td>\n      <td>59.0</td>\n    </tr>\n    <tr>\n      <th>2023-01-13 00:00:00</th>\n      <td>49.0</td>\n      <td>50.0</td>\n      <td>51.0</td>\n      <td>52.0</td>\n      <td>5.0</td>\n      <td>59.0</td>\n    </tr>\n    <tr>\n      <th>2023-01-14 00:00:00</th>\n      <td>53.0</td>\n      <td>54.0</td>\n      <td>55.0</td>\n      <td>56.0</td>\n      <td>5.0</td>\n      <td>59.0</td>\n    </tr>\n    <tr>\n      <th>2023-01-15 00:00:00</th>\n      <td>57.0</td>\n      <td>58.0</td>\n      <td>59.0</td>\n      <td>60.0</td>\n      <td>5.0</td>\n      <td>59.0</td>\n    </tr>\n    <tr>\n      <th>2023-01-16 00:00:00</th>\n      <td>61.0</td>\n      <td>62.0</td>\n      <td>63.0</td>\n      <td>64.0</td>\n      <td>5.0</td>\n      <td>59.0</td>\n    </tr>\n    <tr>\n      <th>2023-01-17 00:00:00</th>\n      <td>65.0</td>\n      <td>66.0</td>\n      <td>67.0</td>\n      <td>68.0</td>\n      <td>5.0</td>\n      <td>59.0</td>\n    </tr>\n    <tr>\n      <th>2023-01-18 00:00:00</th>\n      <td>69.0</td>\n      <td>70.0</td>\n      <td>71.0</td>\n      <td>72.0</td>\n      <td>5.0</td>\n      <td>59.0</td>\n    </tr>\n    <tr>\n      <th>2023-01-19 00:00:00</th>\n      <td>73.0</td>\n      <td>74.0</td>\n      <td>75.0</td>\n      <td>76.0</td>\n      <td>5.0</td>\n      <td>59.0</td>\n    </tr>\n    <tr>\n      <th>2023-01-20 00:00:00</th>\n      <td>77.0</td>\n      <td>78.0</td>\n      <td>79.0</td>\n      <td>80.0</td>\n      <td>5.0</td>\n      <td>59.0</td>\n    </tr>\n    <tr>\n      <th>2023-01-21 00:00:00</th>\n      <td>81.0</td>\n      <td>82.0</td>\n      <td>83.0</td>\n      <td>84.0</td>\n      <td>5.0</td>\n      <td>59.0</td>\n    </tr>\n    <tr>\n      <th>2023-01-22 00:00:00</th>\n      <td>85.0</td>\n      <td>86.0</td>\n      <td>87.0</td>\n      <td>88.0</td>\n      <td>5.0</td>\n      <td>59.0</td>\n    </tr>\n    <tr>\n      <th>2023-01-23 00:00:00</th>\n      <td>89.0</td>\n      <td>90.0</td>\n      <td>91.0</td>\n      <td>92.0</td>\n      <td>5.0</td>\n      <td>59.0</td>\n    </tr>\n    <tr>\n      <th>2023-01-24 00:00:00</th>\n      <td>93.0</td>\n      <td>94.0</td>\n      <td>95.0</td>\n      <td>96.0</td>\n      <td>5.0</td>\n      <td>59.0</td>\n    </tr>\n    <tr>\n      <th>2023-01-25 00:00:00</th>\n      <td>97.0</td>\n      <td>98.0</td>\n      <td>99.0</td>\n      <td>100.0</td>\n      <td>5.0</td>\n      <td>59.0</td>\n    </tr>\n    <tr>\n      <th>2023-01-26 00:00:00</th>\n      <td>101.0</td>\n      <td>102.0</td>\n      <td>103.0</td>\n      <td>104.0</td>\n      <td>5.0</td>\n      <td>59.0</td>\n    </tr>\n    <tr>\n      <th>2023-01-27 00:00:00</th>\n      <td>105.0</td>\n      <td>106.0</td>\n      <td>107.0</td>\n      <td>108.0</td>\n      <td>5.0</td>\n      <td>59.0</td>\n    </tr>\n    <tr>\n      <th>2023-01-28 00:00:00</th>\n      <td>109.0</td>\n      <td>110.0</td>\n      <td>111.0</td>\n      <td>112.0</td>\n      <td>5.0</td>\n      <td>59.0</td>\n    </tr>\n    <tr>\n      <th>2023-01-29 00:00:00</th>\n      <td>113.0</td>\n      <td>114.0</td>\n      <td>115.0</td>\n      <td>116.0</td>\n      <td>5.0</td>\n      <td>59.0</td>\n    </tr>\n    <tr>\n      <th>2023-01-30 00:00:00</th>\n      <td>117.0</td>\n      <td>118.0</td>\n      <td>119.0</td>\n      <td>120.0</td>\n      <td>5.0</td>\n      <td>59.0</td>\n    </tr>\n  </tbody>\n</table>\n</div>"
     },
     "execution_count": 206,
     "metadata": {},
     "output_type": "execute_result"
    }
   ],
   "source": [
    "df\n"
   ],
   "metadata": {
    "collapsed": false,
    "pycharm": {
     "name": "#%%\n"
    }
   }
  },
  {
   "cell_type": "markdown",
   "source": [
    "# Assignment\n",
    "Add a column to the existing DataFrame containing the \"mean\" value of the data in each row from \"ABCD\" columns"
   ],
   "metadata": {
    "collapsed": false,
    "pycharm": {
     "name": "#%% md\n"
    }
   }
  },
  {
   "cell_type": "code",
   "execution_count": 226,
   "outputs": [
    {
     "data": {
      "text/plain": "                         A      B      C      D    E   mean\n2023-01-01 00:00:00    1.0    2.0    3.0    4.0  4.0    2.5\n2023-01-02 00:00:00    5.0    6.0    7.0    8.0  5.0    6.5\n2023-01-03 00:00:00    9.0   10.0   11.0   12.0  5.0   10.5\n2023-01-04 00:00:00   13.0   14.0   15.0   16.0  5.0   14.5\n2023-01-05 00:00:00   17.0   18.0   19.0   20.0  5.0   18.5\n2023-01-06 00:00:00   21.0   22.0   23.0   24.0  5.0   22.5\n2023-01-07 00:00:00   25.0   26.0   27.0   28.0  5.0   26.5\n2023-01-08 00:00:00   29.0   30.0   31.0   32.0  5.0   30.5\n2023-01-09 00:00:00   33.0   34.0   35.0   36.0  5.0   34.5\n2023-01-10 00:00:00   37.0   38.0   39.0   40.0  5.0   38.5\n2023-01-11 00:00:00   41.0   42.0   43.0   44.0  5.0   42.5\n2023-01-12 00:00:00   45.0   46.0   47.0   48.0  5.0   46.5\n2023-01-13 00:00:00   49.0   50.0   51.0   52.0  5.0   50.5\n2023-01-14 00:00:00   53.0   54.0   55.0   56.0  5.0   54.5\n2023-01-15 00:00:00   57.0   58.0   59.0   60.0  5.0   58.5\n2023-01-16 00:00:00   61.0   62.0   63.0   64.0  5.0   62.5\n2023-01-17 00:00:00   65.0   66.0   67.0   68.0  5.0   66.5\n2023-01-18 00:00:00   69.0   70.0   71.0   72.0  5.0   70.5\n2023-01-19 00:00:00   73.0   74.0   75.0   76.0  5.0   74.5\n2023-01-20 00:00:00   77.0   78.0   79.0   80.0  5.0   78.5\n2023-01-21 00:00:00   81.0   82.0   83.0   84.0  5.0   82.5\n2023-01-22 00:00:00   85.0   86.0   87.0   88.0  5.0   86.5\n2023-01-23 00:00:00   89.0   90.0   91.0   92.0  5.0   90.5\n2023-01-24 00:00:00   93.0   94.0   95.0   96.0  5.0   94.5\n2023-01-25 00:00:00   97.0   98.0   99.0  100.0  5.0   98.5\n2023-01-26 00:00:00  101.0  102.0  103.0  104.0  5.0  102.5\n2023-01-27 00:00:00  105.0  106.0  107.0  108.0  5.0  106.5\n2023-01-28 00:00:00  109.0  110.0  111.0  112.0  5.0  110.5\n2023-01-29 00:00:00  113.0  114.0  115.0  116.0  5.0  114.5\n2023-01-30 00:00:00  117.0  118.0  119.0  120.0  5.0  118.5",
      "text/html": "<div>\n<style scoped>\n    .dataframe tbody tr th:only-of-type {\n        vertical-align: middle;\n    }\n\n    .dataframe tbody tr th {\n        vertical-align: top;\n    }\n\n    .dataframe thead th {\n        text-align: right;\n    }\n</style>\n<table border=\"1\" class=\"dataframe\">\n  <thead>\n    <tr style=\"text-align: right;\">\n      <th></th>\n      <th>A</th>\n      <th>B</th>\n      <th>C</th>\n      <th>D</th>\n      <th>E</th>\n      <th>mean</th>\n    </tr>\n  </thead>\n  <tbody>\n    <tr>\n      <th>2023-01-01 00:00:00</th>\n      <td>1.0</td>\n      <td>2.0</td>\n      <td>3.0</td>\n      <td>4.0</td>\n      <td>4.0</td>\n      <td>2.5</td>\n    </tr>\n    <tr>\n      <th>2023-01-02 00:00:00</th>\n      <td>5.0</td>\n      <td>6.0</td>\n      <td>7.0</td>\n      <td>8.0</td>\n      <td>5.0</td>\n      <td>6.5</td>\n    </tr>\n    <tr>\n      <th>2023-01-03 00:00:00</th>\n      <td>9.0</td>\n      <td>10.0</td>\n      <td>11.0</td>\n      <td>12.0</td>\n      <td>5.0</td>\n      <td>10.5</td>\n    </tr>\n    <tr>\n      <th>2023-01-04 00:00:00</th>\n      <td>13.0</td>\n      <td>14.0</td>\n      <td>15.0</td>\n      <td>16.0</td>\n      <td>5.0</td>\n      <td>14.5</td>\n    </tr>\n    <tr>\n      <th>2023-01-05 00:00:00</th>\n      <td>17.0</td>\n      <td>18.0</td>\n      <td>19.0</td>\n      <td>20.0</td>\n      <td>5.0</td>\n      <td>18.5</td>\n    </tr>\n    <tr>\n      <th>2023-01-06 00:00:00</th>\n      <td>21.0</td>\n      <td>22.0</td>\n      <td>23.0</td>\n      <td>24.0</td>\n      <td>5.0</td>\n      <td>22.5</td>\n    </tr>\n    <tr>\n      <th>2023-01-07 00:00:00</th>\n      <td>25.0</td>\n      <td>26.0</td>\n      <td>27.0</td>\n      <td>28.0</td>\n      <td>5.0</td>\n      <td>26.5</td>\n    </tr>\n    <tr>\n      <th>2023-01-08 00:00:00</th>\n      <td>29.0</td>\n      <td>30.0</td>\n      <td>31.0</td>\n      <td>32.0</td>\n      <td>5.0</td>\n      <td>30.5</td>\n    </tr>\n    <tr>\n      <th>2023-01-09 00:00:00</th>\n      <td>33.0</td>\n      <td>34.0</td>\n      <td>35.0</td>\n      <td>36.0</td>\n      <td>5.0</td>\n      <td>34.5</td>\n    </tr>\n    <tr>\n      <th>2023-01-10 00:00:00</th>\n      <td>37.0</td>\n      <td>38.0</td>\n      <td>39.0</td>\n      <td>40.0</td>\n      <td>5.0</td>\n      <td>38.5</td>\n    </tr>\n    <tr>\n      <th>2023-01-11 00:00:00</th>\n      <td>41.0</td>\n      <td>42.0</td>\n      <td>43.0</td>\n      <td>44.0</td>\n      <td>5.0</td>\n      <td>42.5</td>\n    </tr>\n    <tr>\n      <th>2023-01-12 00:00:00</th>\n      <td>45.0</td>\n      <td>46.0</td>\n      <td>47.0</td>\n      <td>48.0</td>\n      <td>5.0</td>\n      <td>46.5</td>\n    </tr>\n    <tr>\n      <th>2023-01-13 00:00:00</th>\n      <td>49.0</td>\n      <td>50.0</td>\n      <td>51.0</td>\n      <td>52.0</td>\n      <td>5.0</td>\n      <td>50.5</td>\n    </tr>\n    <tr>\n      <th>2023-01-14 00:00:00</th>\n      <td>53.0</td>\n      <td>54.0</td>\n      <td>55.0</td>\n      <td>56.0</td>\n      <td>5.0</td>\n      <td>54.5</td>\n    </tr>\n    <tr>\n      <th>2023-01-15 00:00:00</th>\n      <td>57.0</td>\n      <td>58.0</td>\n      <td>59.0</td>\n      <td>60.0</td>\n      <td>5.0</td>\n      <td>58.5</td>\n    </tr>\n    <tr>\n      <th>2023-01-16 00:00:00</th>\n      <td>61.0</td>\n      <td>62.0</td>\n      <td>63.0</td>\n      <td>64.0</td>\n      <td>5.0</td>\n      <td>62.5</td>\n    </tr>\n    <tr>\n      <th>2023-01-17 00:00:00</th>\n      <td>65.0</td>\n      <td>66.0</td>\n      <td>67.0</td>\n      <td>68.0</td>\n      <td>5.0</td>\n      <td>66.5</td>\n    </tr>\n    <tr>\n      <th>2023-01-18 00:00:00</th>\n      <td>69.0</td>\n      <td>70.0</td>\n      <td>71.0</td>\n      <td>72.0</td>\n      <td>5.0</td>\n      <td>70.5</td>\n    </tr>\n    <tr>\n      <th>2023-01-19 00:00:00</th>\n      <td>73.0</td>\n      <td>74.0</td>\n      <td>75.0</td>\n      <td>76.0</td>\n      <td>5.0</td>\n      <td>74.5</td>\n    </tr>\n    <tr>\n      <th>2023-01-20 00:00:00</th>\n      <td>77.0</td>\n      <td>78.0</td>\n      <td>79.0</td>\n      <td>80.0</td>\n      <td>5.0</td>\n      <td>78.5</td>\n    </tr>\n    <tr>\n      <th>2023-01-21 00:00:00</th>\n      <td>81.0</td>\n      <td>82.0</td>\n      <td>83.0</td>\n      <td>84.0</td>\n      <td>5.0</td>\n      <td>82.5</td>\n    </tr>\n    <tr>\n      <th>2023-01-22 00:00:00</th>\n      <td>85.0</td>\n      <td>86.0</td>\n      <td>87.0</td>\n      <td>88.0</td>\n      <td>5.0</td>\n      <td>86.5</td>\n    </tr>\n    <tr>\n      <th>2023-01-23 00:00:00</th>\n      <td>89.0</td>\n      <td>90.0</td>\n      <td>91.0</td>\n      <td>92.0</td>\n      <td>5.0</td>\n      <td>90.5</td>\n    </tr>\n    <tr>\n      <th>2023-01-24 00:00:00</th>\n      <td>93.0</td>\n      <td>94.0</td>\n      <td>95.0</td>\n      <td>96.0</td>\n      <td>5.0</td>\n      <td>94.5</td>\n    </tr>\n    <tr>\n      <th>2023-01-25 00:00:00</th>\n      <td>97.0</td>\n      <td>98.0</td>\n      <td>99.0</td>\n      <td>100.0</td>\n      <td>5.0</td>\n      <td>98.5</td>\n    </tr>\n    <tr>\n      <th>2023-01-26 00:00:00</th>\n      <td>101.0</td>\n      <td>102.0</td>\n      <td>103.0</td>\n      <td>104.0</td>\n      <td>5.0</td>\n      <td>102.5</td>\n    </tr>\n    <tr>\n      <th>2023-01-27 00:00:00</th>\n      <td>105.0</td>\n      <td>106.0</td>\n      <td>107.0</td>\n      <td>108.0</td>\n      <td>5.0</td>\n      <td>106.5</td>\n    </tr>\n    <tr>\n      <th>2023-01-28 00:00:00</th>\n      <td>109.0</td>\n      <td>110.0</td>\n      <td>111.0</td>\n      <td>112.0</td>\n      <td>5.0</td>\n      <td>110.5</td>\n    </tr>\n    <tr>\n      <th>2023-01-29 00:00:00</th>\n      <td>113.0</td>\n      <td>114.0</td>\n      <td>115.0</td>\n      <td>116.0</td>\n      <td>5.0</td>\n      <td>114.5</td>\n    </tr>\n    <tr>\n      <th>2023-01-30 00:00:00</th>\n      <td>117.0</td>\n      <td>118.0</td>\n      <td>119.0</td>\n      <td>120.0</td>\n      <td>5.0</td>\n      <td>118.5</td>\n    </tr>\n  </tbody>\n</table>\n</div>"
     },
     "execution_count": 226,
     "metadata": {},
     "output_type": "execute_result"
    }
   ],
   "source": [
    "# setting mean by using a loop.\n",
    "\n",
    "# first run a loop of length of DataFrame\n",
    "for i in np.arange(1, len(df)+1):\n",
    "\n",
    "    # Calculate the required mean\n",
    "    required_mean = np.mean(df.iloc[i-1, 0:4])\n",
    "\n",
    "    # find the index of the mean column in the dataframe\n",
    "    mean_index = list(df.columns).index(\"mean\")\n",
    "\n",
    "    # set the calculated mean to the correct location\n",
    "    df.iloc[i-1,mean_index] = required_mean\n",
    "\n",
    "    # end of loop\n",
    "\n",
    "# finding index of mean\n",
    "# list(df.columns).index(\"mean\")\n",
    "df"
   ],
   "metadata": {
    "collapsed": false,
    "pycharm": {
     "name": "#%%\n"
    }
   }
  },
  {
   "cell_type": "code",
   "execution_count": 228,
   "outputs": [
    {
     "data": {
      "text/plain": "                         A      B      C      D    E   mean\n2023-01-01 00:00:00    1.0    2.0    3.0    4.0  4.0    2.5\n2023-01-02 00:00:00    5.0    6.0    7.0    8.0  5.0    6.5\n2023-01-03 00:00:00    9.0   10.0   11.0   12.0  5.0   10.5\n2023-01-04 00:00:00   13.0   14.0   15.0   16.0  5.0   14.5\n2023-01-05 00:00:00   17.0   18.0   19.0   20.0  5.0   18.5\n2023-01-06 00:00:00   21.0   22.0   23.0   24.0  5.0   22.5\n2023-01-07 00:00:00   25.0   26.0   27.0   28.0  5.0   26.5\n2023-01-08 00:00:00   29.0   30.0   31.0   32.0  5.0   30.5\n2023-01-09 00:00:00   33.0   34.0   35.0   36.0  5.0   34.5\n2023-01-10 00:00:00   37.0   38.0   39.0   40.0  5.0   38.5\n2023-01-11 00:00:00   41.0   42.0   43.0   44.0  5.0   42.5\n2023-01-12 00:00:00   45.0   46.0   47.0   48.0  5.0   46.5\n2023-01-13 00:00:00   49.0   50.0   51.0   52.0  5.0   50.5\n2023-01-14 00:00:00   53.0   54.0   55.0   56.0  5.0   54.5\n2023-01-15 00:00:00   57.0   58.0   59.0   60.0  5.0   58.5\n2023-01-16 00:00:00   61.0   62.0   63.0   64.0  5.0   62.5\n2023-01-17 00:00:00   65.0   66.0   67.0   68.0  5.0   66.5\n2023-01-18 00:00:00   69.0   70.0   71.0   72.0  5.0   70.5\n2023-01-19 00:00:00   73.0   74.0   75.0   76.0  5.0   74.5\n2023-01-20 00:00:00   77.0   78.0   79.0   80.0  5.0   78.5\n2023-01-21 00:00:00   81.0   82.0   83.0   84.0  5.0   82.5\n2023-01-22 00:00:00   85.0   86.0   87.0   88.0  5.0   86.5\n2023-01-23 00:00:00   89.0   90.0   91.0   92.0  5.0   90.5\n2023-01-24 00:00:00   93.0   94.0   95.0   96.0  5.0   94.5\n2023-01-25 00:00:00   97.0   98.0   99.0  100.0  5.0   98.5\n2023-01-26 00:00:00 -101.0 -102.0 -103.0 -104.0  5.0 -102.5\n2023-01-27 00:00:00 -105.0 -106.0 -107.0 -108.0  5.0 -106.5\n2023-01-28 00:00:00 -109.0 -110.0 -111.0 -112.0  5.0 -110.5\n2023-01-29 00:00:00 -113.0 -114.0 -115.0 -116.0  5.0 -114.5\n2023-01-30 00:00:00 -117.0 -118.0 -119.0 -120.0  5.0 -118.5",
      "text/html": "<div>\n<style scoped>\n    .dataframe tbody tr th:only-of-type {\n        vertical-align: middle;\n    }\n\n    .dataframe tbody tr th {\n        vertical-align: top;\n    }\n\n    .dataframe thead th {\n        text-align: right;\n    }\n</style>\n<table border=\"1\" class=\"dataframe\">\n  <thead>\n    <tr style=\"text-align: right;\">\n      <th></th>\n      <th>A</th>\n      <th>B</th>\n      <th>C</th>\n      <th>D</th>\n      <th>E</th>\n      <th>mean</th>\n    </tr>\n  </thead>\n  <tbody>\n    <tr>\n      <th>2023-01-01 00:00:00</th>\n      <td>1.0</td>\n      <td>2.0</td>\n      <td>3.0</td>\n      <td>4.0</td>\n      <td>4.0</td>\n      <td>2.5</td>\n    </tr>\n    <tr>\n      <th>2023-01-02 00:00:00</th>\n      <td>5.0</td>\n      <td>6.0</td>\n      <td>7.0</td>\n      <td>8.0</td>\n      <td>5.0</td>\n      <td>6.5</td>\n    </tr>\n    <tr>\n      <th>2023-01-03 00:00:00</th>\n      <td>9.0</td>\n      <td>10.0</td>\n      <td>11.0</td>\n      <td>12.0</td>\n      <td>5.0</td>\n      <td>10.5</td>\n    </tr>\n    <tr>\n      <th>2023-01-04 00:00:00</th>\n      <td>13.0</td>\n      <td>14.0</td>\n      <td>15.0</td>\n      <td>16.0</td>\n      <td>5.0</td>\n      <td>14.5</td>\n    </tr>\n    <tr>\n      <th>2023-01-05 00:00:00</th>\n      <td>17.0</td>\n      <td>18.0</td>\n      <td>19.0</td>\n      <td>20.0</td>\n      <td>5.0</td>\n      <td>18.5</td>\n    </tr>\n    <tr>\n      <th>2023-01-06 00:00:00</th>\n      <td>21.0</td>\n      <td>22.0</td>\n      <td>23.0</td>\n      <td>24.0</td>\n      <td>5.0</td>\n      <td>22.5</td>\n    </tr>\n    <tr>\n      <th>2023-01-07 00:00:00</th>\n      <td>25.0</td>\n      <td>26.0</td>\n      <td>27.0</td>\n      <td>28.0</td>\n      <td>5.0</td>\n      <td>26.5</td>\n    </tr>\n    <tr>\n      <th>2023-01-08 00:00:00</th>\n      <td>29.0</td>\n      <td>30.0</td>\n      <td>31.0</td>\n      <td>32.0</td>\n      <td>5.0</td>\n      <td>30.5</td>\n    </tr>\n    <tr>\n      <th>2023-01-09 00:00:00</th>\n      <td>33.0</td>\n      <td>34.0</td>\n      <td>35.0</td>\n      <td>36.0</td>\n      <td>5.0</td>\n      <td>34.5</td>\n    </tr>\n    <tr>\n      <th>2023-01-10 00:00:00</th>\n      <td>37.0</td>\n      <td>38.0</td>\n      <td>39.0</td>\n      <td>40.0</td>\n      <td>5.0</td>\n      <td>38.5</td>\n    </tr>\n    <tr>\n      <th>2023-01-11 00:00:00</th>\n      <td>41.0</td>\n      <td>42.0</td>\n      <td>43.0</td>\n      <td>44.0</td>\n      <td>5.0</td>\n      <td>42.5</td>\n    </tr>\n    <tr>\n      <th>2023-01-12 00:00:00</th>\n      <td>45.0</td>\n      <td>46.0</td>\n      <td>47.0</td>\n      <td>48.0</td>\n      <td>5.0</td>\n      <td>46.5</td>\n    </tr>\n    <tr>\n      <th>2023-01-13 00:00:00</th>\n      <td>49.0</td>\n      <td>50.0</td>\n      <td>51.0</td>\n      <td>52.0</td>\n      <td>5.0</td>\n      <td>50.5</td>\n    </tr>\n    <tr>\n      <th>2023-01-14 00:00:00</th>\n      <td>53.0</td>\n      <td>54.0</td>\n      <td>55.0</td>\n      <td>56.0</td>\n      <td>5.0</td>\n      <td>54.5</td>\n    </tr>\n    <tr>\n      <th>2023-01-15 00:00:00</th>\n      <td>57.0</td>\n      <td>58.0</td>\n      <td>59.0</td>\n      <td>60.0</td>\n      <td>5.0</td>\n      <td>58.5</td>\n    </tr>\n    <tr>\n      <th>2023-01-16 00:00:00</th>\n      <td>61.0</td>\n      <td>62.0</td>\n      <td>63.0</td>\n      <td>64.0</td>\n      <td>5.0</td>\n      <td>62.5</td>\n    </tr>\n    <tr>\n      <th>2023-01-17 00:00:00</th>\n      <td>65.0</td>\n      <td>66.0</td>\n      <td>67.0</td>\n      <td>68.0</td>\n      <td>5.0</td>\n      <td>66.5</td>\n    </tr>\n    <tr>\n      <th>2023-01-18 00:00:00</th>\n      <td>69.0</td>\n      <td>70.0</td>\n      <td>71.0</td>\n      <td>72.0</td>\n      <td>5.0</td>\n      <td>70.5</td>\n    </tr>\n    <tr>\n      <th>2023-01-19 00:00:00</th>\n      <td>73.0</td>\n      <td>74.0</td>\n      <td>75.0</td>\n      <td>76.0</td>\n      <td>5.0</td>\n      <td>74.5</td>\n    </tr>\n    <tr>\n      <th>2023-01-20 00:00:00</th>\n      <td>77.0</td>\n      <td>78.0</td>\n      <td>79.0</td>\n      <td>80.0</td>\n      <td>5.0</td>\n      <td>78.5</td>\n    </tr>\n    <tr>\n      <th>2023-01-21 00:00:00</th>\n      <td>81.0</td>\n      <td>82.0</td>\n      <td>83.0</td>\n      <td>84.0</td>\n      <td>5.0</td>\n      <td>82.5</td>\n    </tr>\n    <tr>\n      <th>2023-01-22 00:00:00</th>\n      <td>85.0</td>\n      <td>86.0</td>\n      <td>87.0</td>\n      <td>88.0</td>\n      <td>5.0</td>\n      <td>86.5</td>\n    </tr>\n    <tr>\n      <th>2023-01-23 00:00:00</th>\n      <td>89.0</td>\n      <td>90.0</td>\n      <td>91.0</td>\n      <td>92.0</td>\n      <td>5.0</td>\n      <td>90.5</td>\n    </tr>\n    <tr>\n      <th>2023-01-24 00:00:00</th>\n      <td>93.0</td>\n      <td>94.0</td>\n      <td>95.0</td>\n      <td>96.0</td>\n      <td>5.0</td>\n      <td>94.5</td>\n    </tr>\n    <tr>\n      <th>2023-01-25 00:00:00</th>\n      <td>97.0</td>\n      <td>98.0</td>\n      <td>99.0</td>\n      <td>100.0</td>\n      <td>5.0</td>\n      <td>98.5</td>\n    </tr>\n    <tr>\n      <th>2023-01-26 00:00:00</th>\n      <td>-101.0</td>\n      <td>-102.0</td>\n      <td>-103.0</td>\n      <td>-104.0</td>\n      <td>5.0</td>\n      <td>-102.5</td>\n    </tr>\n    <tr>\n      <th>2023-01-27 00:00:00</th>\n      <td>-105.0</td>\n      <td>-106.0</td>\n      <td>-107.0</td>\n      <td>-108.0</td>\n      <td>5.0</td>\n      <td>-106.5</td>\n    </tr>\n    <tr>\n      <th>2023-01-28 00:00:00</th>\n      <td>-109.0</td>\n      <td>-110.0</td>\n      <td>-111.0</td>\n      <td>-112.0</td>\n      <td>5.0</td>\n      <td>-110.5</td>\n    </tr>\n    <tr>\n      <th>2023-01-29 00:00:00</th>\n      <td>-113.0</td>\n      <td>-114.0</td>\n      <td>-115.0</td>\n      <td>-116.0</td>\n      <td>5.0</td>\n      <td>-114.5</td>\n    </tr>\n    <tr>\n      <th>2023-01-30 00:00:00</th>\n      <td>-117.0</td>\n      <td>-118.0</td>\n      <td>-119.0</td>\n      <td>-120.0</td>\n      <td>5.0</td>\n      <td>-118.5</td>\n    </tr>\n  </tbody>\n</table>\n</div>"
     },
     "execution_count": 228,
     "metadata": {},
     "output_type": "execute_result"
    }
   ],
   "source": [
    "# A where operation with setting:\n",
    "df5 = df.copy()\n",
    "df5[df5 > 100] = -df5\n",
    "df5"
   ],
   "metadata": {
    "collapsed": false,
    "pycharm": {
     "name": "#%%\n"
    }
   }
  },
  {
   "cell_type": "markdown",
   "source": [
    "## Missing data\n",
    "pandas primarily uses the value np.nan to represent missing data. It is by default not included in computations. See the [Missing Data](https://pandas.pydata.org/docs/user_guide/missing_data.html#missing-data) section."
   ],
   "metadata": {
    "collapsed": false,
    "pycharm": {
     "name": "#%% md\n"
    }
   }
  },
  {
   "cell_type": "code",
   "execution_count": 229,
   "outputs": [
    {
     "data": {
      "text/plain": "DatetimeIndex(['2023-01-01', '2023-01-02', '2023-01-03', '2023-01-04',\n               '2023-01-05', '2023-01-06', '2023-01-07', '2023-01-08',\n               '2023-01-09', '2023-01-10', '2023-01-11', '2023-01-12',\n               '2023-01-13', '2023-01-14', '2023-01-15', '2023-01-16',\n               '2023-01-17', '2023-01-18', '2023-01-19', '2023-01-20',\n               '2023-01-21', '2023-01-22', '2023-01-23', '2023-01-24',\n               '2023-01-25', '2023-01-26', '2023-01-27', '2023-01-28',\n               '2023-01-29', '2023-01-30'],\n              dtype='datetime64[ns]', freq='D')"
     },
     "execution_count": 229,
     "metadata": {},
     "output_type": "execute_result"
    }
   ],
   "source": [
    "# Reindexing allows you to change/add/delete the index on a specified axis. This returns a copy of the data:\n",
    "dates\n"
   ],
   "metadata": {
    "collapsed": false,
    "pycharm": {
     "name": "#%%\n"
    }
   }
  },
  {
   "cell_type": "code",
   "execution_count": 231,
   "outputs": [
    {
     "data": {
      "text/plain": "               A     B     C     D    E  mean   F\n2023-01-01   1.0   2.0   3.0   4.0  4.0   2.5 NaN\n2023-01-02   5.0   6.0   7.0   8.0  5.0   6.5 NaN\n2023-01-03   9.0  10.0  11.0  12.0  5.0  10.5 NaN\n2023-01-04  13.0  14.0  15.0  16.0  5.0  14.5 NaN",
      "text/html": "<div>\n<style scoped>\n    .dataframe tbody tr th:only-of-type {\n        vertical-align: middle;\n    }\n\n    .dataframe tbody tr th {\n        vertical-align: top;\n    }\n\n    .dataframe thead th {\n        text-align: right;\n    }\n</style>\n<table border=\"1\" class=\"dataframe\">\n  <thead>\n    <tr style=\"text-align: right;\">\n      <th></th>\n      <th>A</th>\n      <th>B</th>\n      <th>C</th>\n      <th>D</th>\n      <th>E</th>\n      <th>mean</th>\n      <th>F</th>\n    </tr>\n  </thead>\n  <tbody>\n    <tr>\n      <th>2023-01-01</th>\n      <td>1.0</td>\n      <td>2.0</td>\n      <td>3.0</td>\n      <td>4.0</td>\n      <td>4.0</td>\n      <td>2.5</td>\n      <td>NaN</td>\n    </tr>\n    <tr>\n      <th>2023-01-02</th>\n      <td>5.0</td>\n      <td>6.0</td>\n      <td>7.0</td>\n      <td>8.0</td>\n      <td>5.0</td>\n      <td>6.5</td>\n      <td>NaN</td>\n    </tr>\n    <tr>\n      <th>2023-01-03</th>\n      <td>9.0</td>\n      <td>10.0</td>\n      <td>11.0</td>\n      <td>12.0</td>\n      <td>5.0</td>\n      <td>10.5</td>\n      <td>NaN</td>\n    </tr>\n    <tr>\n      <th>2023-01-04</th>\n      <td>13.0</td>\n      <td>14.0</td>\n      <td>15.0</td>\n      <td>16.0</td>\n      <td>5.0</td>\n      <td>14.5</td>\n      <td>NaN</td>\n    </tr>\n  </tbody>\n</table>\n</div>"
     },
     "execution_count": 231,
     "metadata": {},
     "output_type": "execute_result"
    }
   ],
   "source": [
    "df1 = df.reindex(index=dates[0:4], columns=list(df.columns) + [\"F\"])\n",
    "df1\n"
   ],
   "metadata": {
    "collapsed": false,
    "pycharm": {
     "name": "#%%\n"
    }
   }
  },
  {
   "cell_type": "code",
   "execution_count": 233,
   "outputs": [
    {
     "data": {
      "text/plain": "               A     B     C     D    E  mean    F\n2023-01-01   1.0   2.0   3.0   4.0  1.0   2.5  1.0\n2023-01-02   5.0   6.0   7.0   8.0  1.0   6.5  1.0\n2023-01-03   9.0  10.0  11.0  12.0  5.0  10.5  NaN\n2023-01-04  13.0  14.0  15.0  16.0  5.0  14.5  NaN",
      "text/html": "<div>\n<style scoped>\n    .dataframe tbody tr th:only-of-type {\n        vertical-align: middle;\n    }\n\n    .dataframe tbody tr th {\n        vertical-align: top;\n    }\n\n    .dataframe thead th {\n        text-align: right;\n    }\n</style>\n<table border=\"1\" class=\"dataframe\">\n  <thead>\n    <tr style=\"text-align: right;\">\n      <th></th>\n      <th>A</th>\n      <th>B</th>\n      <th>C</th>\n      <th>D</th>\n      <th>E</th>\n      <th>mean</th>\n      <th>F</th>\n    </tr>\n  </thead>\n  <tbody>\n    <tr>\n      <th>2023-01-01</th>\n      <td>1.0</td>\n      <td>2.0</td>\n      <td>3.0</td>\n      <td>4.0</td>\n      <td>1.0</td>\n      <td>2.5</td>\n      <td>1.0</td>\n    </tr>\n    <tr>\n      <th>2023-01-02</th>\n      <td>5.0</td>\n      <td>6.0</td>\n      <td>7.0</td>\n      <td>8.0</td>\n      <td>1.0</td>\n      <td>6.5</td>\n      <td>1.0</td>\n    </tr>\n    <tr>\n      <th>2023-01-03</th>\n      <td>9.0</td>\n      <td>10.0</td>\n      <td>11.0</td>\n      <td>12.0</td>\n      <td>5.0</td>\n      <td>10.5</td>\n      <td>NaN</td>\n    </tr>\n    <tr>\n      <th>2023-01-04</th>\n      <td>13.0</td>\n      <td>14.0</td>\n      <td>15.0</td>\n      <td>16.0</td>\n      <td>5.0</td>\n      <td>14.5</td>\n      <td>NaN</td>\n    </tr>\n  </tbody>\n</table>\n</div>"
     },
     "execution_count": 233,
     "metadata": {},
     "output_type": "execute_result"
    }
   ],
   "source": [
    "df1.loc[dates[0]: dates[1], \"F\"] = 1\n",
    "df1\n"
   ],
   "metadata": {
    "collapsed": false,
    "pycharm": {
     "name": "#%%\n"
    }
   }
  },
  {
   "cell_type": "code",
   "execution_count": 234,
   "outputs": [
    {
     "data": {
      "text/plain": "              A    B    C    D    E  mean    F\n2023-01-01  1.0  2.0  3.0  4.0  1.0   2.5  1.0\n2023-01-02  5.0  6.0  7.0  8.0  1.0   6.5  1.0",
      "text/html": "<div>\n<style scoped>\n    .dataframe tbody tr th:only-of-type {\n        vertical-align: middle;\n    }\n\n    .dataframe tbody tr th {\n        vertical-align: top;\n    }\n\n    .dataframe thead th {\n        text-align: right;\n    }\n</style>\n<table border=\"1\" class=\"dataframe\">\n  <thead>\n    <tr style=\"text-align: right;\">\n      <th></th>\n      <th>A</th>\n      <th>B</th>\n      <th>C</th>\n      <th>D</th>\n      <th>E</th>\n      <th>mean</th>\n      <th>F</th>\n    </tr>\n  </thead>\n  <tbody>\n    <tr>\n      <th>2023-01-01</th>\n      <td>1.0</td>\n      <td>2.0</td>\n      <td>3.0</td>\n      <td>4.0</td>\n      <td>1.0</td>\n      <td>2.5</td>\n      <td>1.0</td>\n    </tr>\n    <tr>\n      <th>2023-01-02</th>\n      <td>5.0</td>\n      <td>6.0</td>\n      <td>7.0</td>\n      <td>8.0</td>\n      <td>1.0</td>\n      <td>6.5</td>\n      <td>1.0</td>\n    </tr>\n  </tbody>\n</table>\n</div>"
     },
     "execution_count": 234,
     "metadata": {},
     "output_type": "execute_result"
    }
   ],
   "source": [
    "# DataFrame.dropna() drops any rows that have missing data:\n",
    "df1.dropna(how=\"any\")\n"
   ],
   "metadata": {
    "collapsed": false,
    "pycharm": {
     "name": "#%%\n"
    }
   }
  },
  {
   "cell_type": "code",
   "execution_count": 236,
   "outputs": [
    {
     "data": {
      "text/plain": "               A     B     C     D    E  mean    F\n2023-01-01   1.0   2.0   3.0   4.0  1.0   2.5  1.0\n2023-01-02   5.0   6.0   7.0   8.0  1.0   6.5  1.0\n2023-01-03   9.0  10.0  11.0  12.0  5.0  10.5  NaN\n2023-01-04  13.0  14.0  15.0  16.0  5.0  14.5  NaN",
      "text/html": "<div>\n<style scoped>\n    .dataframe tbody tr th:only-of-type {\n        vertical-align: middle;\n    }\n\n    .dataframe tbody tr th {\n        vertical-align: top;\n    }\n\n    .dataframe thead th {\n        text-align: right;\n    }\n</style>\n<table border=\"1\" class=\"dataframe\">\n  <thead>\n    <tr style=\"text-align: right;\">\n      <th></th>\n      <th>A</th>\n      <th>B</th>\n      <th>C</th>\n      <th>D</th>\n      <th>E</th>\n      <th>mean</th>\n      <th>F</th>\n    </tr>\n  </thead>\n  <tbody>\n    <tr>\n      <th>2023-01-01</th>\n      <td>1.0</td>\n      <td>2.0</td>\n      <td>3.0</td>\n      <td>4.0</td>\n      <td>1.0</td>\n      <td>2.5</td>\n      <td>1.0</td>\n    </tr>\n    <tr>\n      <th>2023-01-02</th>\n      <td>5.0</td>\n      <td>6.0</td>\n      <td>7.0</td>\n      <td>8.0</td>\n      <td>1.0</td>\n      <td>6.5</td>\n      <td>1.0</td>\n    </tr>\n    <tr>\n      <th>2023-01-03</th>\n      <td>9.0</td>\n      <td>10.0</td>\n      <td>11.0</td>\n      <td>12.0</td>\n      <td>5.0</td>\n      <td>10.5</td>\n      <td>NaN</td>\n    </tr>\n    <tr>\n      <th>2023-01-04</th>\n      <td>13.0</td>\n      <td>14.0</td>\n      <td>15.0</td>\n      <td>16.0</td>\n      <td>5.0</td>\n      <td>14.5</td>\n      <td>NaN</td>\n    </tr>\n  </tbody>\n</table>\n</div>"
     },
     "execution_count": 236,
     "metadata": {},
     "output_type": "execute_result"
    }
   ],
   "source": [
    "df1.dropna(how=\"all\")\n"
   ],
   "metadata": {
    "collapsed": false,
    "pycharm": {
     "name": "#%%\n"
    }
   }
  },
  {
   "cell_type": "code",
   "execution_count": 238,
   "outputs": [
    {
     "data": {
      "text/plain": "               A     B     C     D    E  mean    F\n2023-01-01   1.0   2.0   3.0   4.0  1.0   2.5  1.0\n2023-01-02   5.0   6.0   7.0   8.0  1.0   6.5  1.0\n2023-01-03   9.0  10.0  11.0  12.0  5.0  10.5  5.0\n2023-01-04  13.0  14.0  15.0  16.0  5.0  14.5  5.0",
      "text/html": "<div>\n<style scoped>\n    .dataframe tbody tr th:only-of-type {\n        vertical-align: middle;\n    }\n\n    .dataframe tbody tr th {\n        vertical-align: top;\n    }\n\n    .dataframe thead th {\n        text-align: right;\n    }\n</style>\n<table border=\"1\" class=\"dataframe\">\n  <thead>\n    <tr style=\"text-align: right;\">\n      <th></th>\n      <th>A</th>\n      <th>B</th>\n      <th>C</th>\n      <th>D</th>\n      <th>E</th>\n      <th>mean</th>\n      <th>F</th>\n    </tr>\n  </thead>\n  <tbody>\n    <tr>\n      <th>2023-01-01</th>\n      <td>1.0</td>\n      <td>2.0</td>\n      <td>3.0</td>\n      <td>4.0</td>\n      <td>1.0</td>\n      <td>2.5</td>\n      <td>1.0</td>\n    </tr>\n    <tr>\n      <th>2023-01-02</th>\n      <td>5.0</td>\n      <td>6.0</td>\n      <td>7.0</td>\n      <td>8.0</td>\n      <td>1.0</td>\n      <td>6.5</td>\n      <td>1.0</td>\n    </tr>\n    <tr>\n      <th>2023-01-03</th>\n      <td>9.0</td>\n      <td>10.0</td>\n      <td>11.0</td>\n      <td>12.0</td>\n      <td>5.0</td>\n      <td>10.5</td>\n      <td>5.0</td>\n    </tr>\n    <tr>\n      <th>2023-01-04</th>\n      <td>13.0</td>\n      <td>14.0</td>\n      <td>15.0</td>\n      <td>16.0</td>\n      <td>5.0</td>\n      <td>14.5</td>\n      <td>5.0</td>\n    </tr>\n  </tbody>\n</table>\n</div>"
     },
     "execution_count": 238,
     "metadata": {},
     "output_type": "execute_result"
    }
   ],
   "source": [
    "# DataFrame.fillna() fills missing data:\n",
    "df1.copy().fillna(value=5)"
   ],
   "metadata": {
    "collapsed": false,
    "pycharm": {
     "name": "#%%\n"
    }
   }
  },
  {
   "cell_type": "code",
   "execution_count": 239,
   "outputs": [
    {
     "data": {
      "text/plain": "               A     B     C     D    E  mean    F\n2023-01-01   1.0   2.0   3.0   4.0  1.0   2.5  1.0\n2023-01-02   5.0   6.0   7.0   8.0  1.0   6.5  1.0\n2023-01-03   9.0  10.0  11.0  12.0  5.0  10.5  NaN\n2023-01-04  13.0  14.0  15.0  16.0  5.0  14.5  NaN",
      "text/html": "<div>\n<style scoped>\n    .dataframe tbody tr th:only-of-type {\n        vertical-align: middle;\n    }\n\n    .dataframe tbody tr th {\n        vertical-align: top;\n    }\n\n    .dataframe thead th {\n        text-align: right;\n    }\n</style>\n<table border=\"1\" class=\"dataframe\">\n  <thead>\n    <tr style=\"text-align: right;\">\n      <th></th>\n      <th>A</th>\n      <th>B</th>\n      <th>C</th>\n      <th>D</th>\n      <th>E</th>\n      <th>mean</th>\n      <th>F</th>\n    </tr>\n  </thead>\n  <tbody>\n    <tr>\n      <th>2023-01-01</th>\n      <td>1.0</td>\n      <td>2.0</td>\n      <td>3.0</td>\n      <td>4.0</td>\n      <td>1.0</td>\n      <td>2.5</td>\n      <td>1.0</td>\n    </tr>\n    <tr>\n      <th>2023-01-02</th>\n      <td>5.0</td>\n      <td>6.0</td>\n      <td>7.0</td>\n      <td>8.0</td>\n      <td>1.0</td>\n      <td>6.5</td>\n      <td>1.0</td>\n    </tr>\n    <tr>\n      <th>2023-01-03</th>\n      <td>9.0</td>\n      <td>10.0</td>\n      <td>11.0</td>\n      <td>12.0</td>\n      <td>5.0</td>\n      <td>10.5</td>\n      <td>NaN</td>\n    </tr>\n    <tr>\n      <th>2023-01-04</th>\n      <td>13.0</td>\n      <td>14.0</td>\n      <td>15.0</td>\n      <td>16.0</td>\n      <td>5.0</td>\n      <td>14.5</td>\n      <td>NaN</td>\n    </tr>\n  </tbody>\n</table>\n</div>"
     },
     "execution_count": 239,
     "metadata": {},
     "output_type": "execute_result"
    }
   ],
   "source": [
    "df1\n"
   ],
   "metadata": {
    "collapsed": false,
    "pycharm": {
     "name": "#%%\n"
    }
   }
  },
  {
   "cell_type": "code",
   "execution_count": 240,
   "outputs": [
    {
     "data": {
      "text/plain": "                A      B      C      D      E   mean      F\n2023-01-01  False  False  False  False  False  False  False\n2023-01-02  False  False  False  False  False  False  False\n2023-01-03  False  False  False  False  False  False   True\n2023-01-04  False  False  False  False  False  False   True",
      "text/html": "<div>\n<style scoped>\n    .dataframe tbody tr th:only-of-type {\n        vertical-align: middle;\n    }\n\n    .dataframe tbody tr th {\n        vertical-align: top;\n    }\n\n    .dataframe thead th {\n        text-align: right;\n    }\n</style>\n<table border=\"1\" class=\"dataframe\">\n  <thead>\n    <tr style=\"text-align: right;\">\n      <th></th>\n      <th>A</th>\n      <th>B</th>\n      <th>C</th>\n      <th>D</th>\n      <th>E</th>\n      <th>mean</th>\n      <th>F</th>\n    </tr>\n  </thead>\n  <tbody>\n    <tr>\n      <th>2023-01-01</th>\n      <td>False</td>\n      <td>False</td>\n      <td>False</td>\n      <td>False</td>\n      <td>False</td>\n      <td>False</td>\n      <td>False</td>\n    </tr>\n    <tr>\n      <th>2023-01-02</th>\n      <td>False</td>\n      <td>False</td>\n      <td>False</td>\n      <td>False</td>\n      <td>False</td>\n      <td>False</td>\n      <td>False</td>\n    </tr>\n    <tr>\n      <th>2023-01-03</th>\n      <td>False</td>\n      <td>False</td>\n      <td>False</td>\n      <td>False</td>\n      <td>False</td>\n      <td>False</td>\n      <td>True</td>\n    </tr>\n    <tr>\n      <th>2023-01-04</th>\n      <td>False</td>\n      <td>False</td>\n      <td>False</td>\n      <td>False</td>\n      <td>False</td>\n      <td>False</td>\n      <td>True</td>\n    </tr>\n  </tbody>\n</table>\n</div>"
     },
     "execution_count": 240,
     "metadata": {},
     "output_type": "execute_result"
    }
   ],
   "source": [
    "# isna() gets the boolean mask where values are nan:\n",
    "pd.isna(df1)\n"
   ],
   "metadata": {
    "collapsed": false,
    "pycharm": {
     "name": "#%%\n"
    }
   }
  },
  {
   "cell_type": "markdown",
   "source": [
    "## Operations\n",
    "See the [Basic section on Binary Ops](https://pandas.pydata.org/docs/user_guide/basics.html#basics-binop)."
   ],
   "metadata": {
    "collapsed": false,
    "pycharm": {
     "name": "#%% md\n"
    }
   }
  },
  {
   "cell_type": "markdown",
   "source": [
    "## Stats\n",
    "Operations in general exclude missing data.\n"
   ],
   "metadata": {
    "collapsed": false,
    "pycharm": {
     "name": "#%% md\n"
    }
   }
  },
  {
   "cell_type": "code",
   "execution_count": 243,
   "outputs": [
    {
     "data": {
      "text/plain": "A       59.000000\nB       60.000000\nC       61.000000\nD       62.000000\nE        4.966667\nmean    60.500000\ndtype: float64"
     },
     "execution_count": 243,
     "metadata": {},
     "output_type": "execute_result"
    }
   ],
   "source": [
    "# Performing a descriptive statistic:\n",
    "df.mean()"
   ],
   "metadata": {
    "collapsed": false,
    "pycharm": {
     "name": "#%%\n"
    }
   }
  },
  {
   "cell_type": "code",
   "execution_count": 244,
   "outputs": [
    {
     "data": {
      "text/plain": "2023-01-01     2.750000\n2023-01-02     6.250000\n2023-01-03     9.583333\n2023-01-04    12.916667\n2023-01-05    16.250000\n2023-01-06    19.583333\n2023-01-07    22.916667\n2023-01-08    26.250000\n2023-01-09    29.583333\n2023-01-10    32.916667\n2023-01-11    36.250000\n2023-01-12    39.583333\n2023-01-13    42.916667\n2023-01-14    46.250000\n2023-01-15    49.583333\n2023-01-16    52.916667\n2023-01-17    56.250000\n2023-01-18    59.583333\n2023-01-19    62.916667\n2023-01-20    66.250000\n2023-01-21    69.583333\n2023-01-22    72.916667\n2023-01-23    76.250000\n2023-01-24    79.583333\n2023-01-25    82.916667\n2023-01-26    86.250000\n2023-01-27    89.583333\n2023-01-28    92.916667\n2023-01-29    96.250000\n2023-01-30    99.583333\ndtype: float64"
     },
     "execution_count": 244,
     "metadata": {},
     "output_type": "execute_result"
    }
   ],
   "source": [
    "# Same operation on the other axis:\n",
    "df.mean(axis=1)\n"
   ],
   "metadata": {
    "collapsed": false,
    "pycharm": {
     "name": "#%%\n"
    }
   }
  },
  {
   "cell_type": "code",
   "execution_count": 246,
   "outputs": [],
   "source": [
    "df = original_data.copy()\n"
   ],
   "metadata": {
    "collapsed": false,
    "pycharm": {
     "name": "#%%\n"
    }
   }
  },
  {
   "cell_type": "code",
   "execution_count": 247,
   "outputs": [
    {
     "data": {
      "text/plain": "2023-01-01      2.5\n2023-01-02      6.5\n2023-01-03     10.5\n2023-01-04     14.5\n2023-01-05     18.5\n2023-01-06     22.5\n2023-01-07     26.5\n2023-01-08     30.5\n2023-01-09     34.5\n2023-01-10     38.5\n2023-01-11     42.5\n2023-01-12     46.5\n2023-01-13     50.5\n2023-01-14     54.5\n2023-01-15     58.5\n2023-01-16     62.5\n2023-01-17     66.5\n2023-01-18     70.5\n2023-01-19     74.5\n2023-01-20     78.5\n2023-01-21     82.5\n2023-01-22     86.5\n2023-01-23     90.5\n2023-01-24     94.5\n2023-01-25     98.5\n2023-01-26    102.5\n2023-01-27    106.5\n2023-01-28    110.5\n2023-01-29    114.5\n2023-01-30    118.5\nFreq: D, dtype: float64"
     },
     "execution_count": 247,
     "metadata": {},
     "output_type": "execute_result"
    }
   ],
   "source": [
    "df.mean(axis=1)\n"
   ],
   "metadata": {
    "collapsed": false,
    "pycharm": {
     "name": "#%%\n"
    }
   }
  },
  {
   "cell_type": "code",
   "execution_count": 248,
   "outputs": [
    {
     "data": {
      "text/plain": "              A    B    C    D   mean\n2023-01-01    1    2    3    4    2.5\n2023-01-02    5    6    7    8    6.5\n2023-01-03    9   10   11   12   10.5\n2023-01-04   13   14   15   16   14.5\n2023-01-05   17   18   19   20   18.5\n2023-01-06   21   22   23   24   22.5\n2023-01-07   25   26   27   28   26.5\n2023-01-08   29   30   31   32   30.5\n2023-01-09   33   34   35   36   34.5\n2023-01-10   37   38   39   40   38.5\n2023-01-11   41   42   43   44   42.5\n2023-01-12   45   46   47   48   46.5\n2023-01-13   49   50   51   52   50.5\n2023-01-14   53   54   55   56   54.5\n2023-01-15   57   58   59   60   58.5\n2023-01-16   61   62   63   64   62.5\n2023-01-17   65   66   67   68   66.5\n2023-01-18   69   70   71   72   70.5\n2023-01-19   73   74   75   76   74.5\n2023-01-20   77   78   79   80   78.5\n2023-01-21   81   82   83   84   82.5\n2023-01-22   85   86   87   88   86.5\n2023-01-23   89   90   91   92   90.5\n2023-01-24   93   94   95   96   94.5\n2023-01-25   97   98   99  100   98.5\n2023-01-26  101  102  103  104  102.5\n2023-01-27  105  106  107  108  106.5\n2023-01-28  109  110  111  112  110.5\n2023-01-29  113  114  115  116  114.5\n2023-01-30  117  118  119  120  118.5",
      "text/html": "<div>\n<style scoped>\n    .dataframe tbody tr th:only-of-type {\n        vertical-align: middle;\n    }\n\n    .dataframe tbody tr th {\n        vertical-align: top;\n    }\n\n    .dataframe thead th {\n        text-align: right;\n    }\n</style>\n<table border=\"1\" class=\"dataframe\">\n  <thead>\n    <tr style=\"text-align: right;\">\n      <th></th>\n      <th>A</th>\n      <th>B</th>\n      <th>C</th>\n      <th>D</th>\n      <th>mean</th>\n    </tr>\n  </thead>\n  <tbody>\n    <tr>\n      <th>2023-01-01</th>\n      <td>1</td>\n      <td>2</td>\n      <td>3</td>\n      <td>4</td>\n      <td>2.5</td>\n    </tr>\n    <tr>\n      <th>2023-01-02</th>\n      <td>5</td>\n      <td>6</td>\n      <td>7</td>\n      <td>8</td>\n      <td>6.5</td>\n    </tr>\n    <tr>\n      <th>2023-01-03</th>\n      <td>9</td>\n      <td>10</td>\n      <td>11</td>\n      <td>12</td>\n      <td>10.5</td>\n    </tr>\n    <tr>\n      <th>2023-01-04</th>\n      <td>13</td>\n      <td>14</td>\n      <td>15</td>\n      <td>16</td>\n      <td>14.5</td>\n    </tr>\n    <tr>\n      <th>2023-01-05</th>\n      <td>17</td>\n      <td>18</td>\n      <td>19</td>\n      <td>20</td>\n      <td>18.5</td>\n    </tr>\n    <tr>\n      <th>2023-01-06</th>\n      <td>21</td>\n      <td>22</td>\n      <td>23</td>\n      <td>24</td>\n      <td>22.5</td>\n    </tr>\n    <tr>\n      <th>2023-01-07</th>\n      <td>25</td>\n      <td>26</td>\n      <td>27</td>\n      <td>28</td>\n      <td>26.5</td>\n    </tr>\n    <tr>\n      <th>2023-01-08</th>\n      <td>29</td>\n      <td>30</td>\n      <td>31</td>\n      <td>32</td>\n      <td>30.5</td>\n    </tr>\n    <tr>\n      <th>2023-01-09</th>\n      <td>33</td>\n      <td>34</td>\n      <td>35</td>\n      <td>36</td>\n      <td>34.5</td>\n    </tr>\n    <tr>\n      <th>2023-01-10</th>\n      <td>37</td>\n      <td>38</td>\n      <td>39</td>\n      <td>40</td>\n      <td>38.5</td>\n    </tr>\n    <tr>\n      <th>2023-01-11</th>\n      <td>41</td>\n      <td>42</td>\n      <td>43</td>\n      <td>44</td>\n      <td>42.5</td>\n    </tr>\n    <tr>\n      <th>2023-01-12</th>\n      <td>45</td>\n      <td>46</td>\n      <td>47</td>\n      <td>48</td>\n      <td>46.5</td>\n    </tr>\n    <tr>\n      <th>2023-01-13</th>\n      <td>49</td>\n      <td>50</td>\n      <td>51</td>\n      <td>52</td>\n      <td>50.5</td>\n    </tr>\n    <tr>\n      <th>2023-01-14</th>\n      <td>53</td>\n      <td>54</td>\n      <td>55</td>\n      <td>56</td>\n      <td>54.5</td>\n    </tr>\n    <tr>\n      <th>2023-01-15</th>\n      <td>57</td>\n      <td>58</td>\n      <td>59</td>\n      <td>60</td>\n      <td>58.5</td>\n    </tr>\n    <tr>\n      <th>2023-01-16</th>\n      <td>61</td>\n      <td>62</td>\n      <td>63</td>\n      <td>64</td>\n      <td>62.5</td>\n    </tr>\n    <tr>\n      <th>2023-01-17</th>\n      <td>65</td>\n      <td>66</td>\n      <td>67</td>\n      <td>68</td>\n      <td>66.5</td>\n    </tr>\n    <tr>\n      <th>2023-01-18</th>\n      <td>69</td>\n      <td>70</td>\n      <td>71</td>\n      <td>72</td>\n      <td>70.5</td>\n    </tr>\n    <tr>\n      <th>2023-01-19</th>\n      <td>73</td>\n      <td>74</td>\n      <td>75</td>\n      <td>76</td>\n      <td>74.5</td>\n    </tr>\n    <tr>\n      <th>2023-01-20</th>\n      <td>77</td>\n      <td>78</td>\n      <td>79</td>\n      <td>80</td>\n      <td>78.5</td>\n    </tr>\n    <tr>\n      <th>2023-01-21</th>\n      <td>81</td>\n      <td>82</td>\n      <td>83</td>\n      <td>84</td>\n      <td>82.5</td>\n    </tr>\n    <tr>\n      <th>2023-01-22</th>\n      <td>85</td>\n      <td>86</td>\n      <td>87</td>\n      <td>88</td>\n      <td>86.5</td>\n    </tr>\n    <tr>\n      <th>2023-01-23</th>\n      <td>89</td>\n      <td>90</td>\n      <td>91</td>\n      <td>92</td>\n      <td>90.5</td>\n    </tr>\n    <tr>\n      <th>2023-01-24</th>\n      <td>93</td>\n      <td>94</td>\n      <td>95</td>\n      <td>96</td>\n      <td>94.5</td>\n    </tr>\n    <tr>\n      <th>2023-01-25</th>\n      <td>97</td>\n      <td>98</td>\n      <td>99</td>\n      <td>100</td>\n      <td>98.5</td>\n    </tr>\n    <tr>\n      <th>2023-01-26</th>\n      <td>101</td>\n      <td>102</td>\n      <td>103</td>\n      <td>104</td>\n      <td>102.5</td>\n    </tr>\n    <tr>\n      <th>2023-01-27</th>\n      <td>105</td>\n      <td>106</td>\n      <td>107</td>\n      <td>108</td>\n      <td>106.5</td>\n    </tr>\n    <tr>\n      <th>2023-01-28</th>\n      <td>109</td>\n      <td>110</td>\n      <td>111</td>\n      <td>112</td>\n      <td>110.5</td>\n    </tr>\n    <tr>\n      <th>2023-01-29</th>\n      <td>113</td>\n      <td>114</td>\n      <td>115</td>\n      <td>116</td>\n      <td>114.5</td>\n    </tr>\n    <tr>\n      <th>2023-01-30</th>\n      <td>117</td>\n      <td>118</td>\n      <td>119</td>\n      <td>120</td>\n      <td>118.5</td>\n    </tr>\n  </tbody>\n</table>\n</div>"
     },
     "execution_count": 248,
     "metadata": {},
     "output_type": "execute_result"
    }
   ],
   "source": [
    "# Great, a simple way to assign mean to the whole data frame\n",
    "df.loc[:, \"mean\"] = df.mean(axis=1)\n",
    "df\n"
   ],
   "metadata": {
    "collapsed": false,
    "pycharm": {
     "name": "#%%\n"
    }
   }
  },
  {
   "cell_type": "code",
   "execution_count": 264,
   "outputs": [
    {
     "data": {
      "text/plain": "2023-01-01    NaN\n2023-01-02    NaN\n2023-01-03    1.0\n2023-01-04    3.0\n2023-01-05    5.0\n2023-01-06    NaN\nFreq: D, dtype: float64"
     },
     "execution_count": 264,
     "metadata": {},
     "output_type": "execute_result"
    }
   ],
   "source": [
    "# Operating with objects that have different dimensionality and need alignment. In addition, pandas automatically broadcasts along the specified dimension:\n",
    "s1 = pd.Series([1,3,5,np.nan, 6,8], index=dates[0:6]).shift(2)\n",
    "s1\n"
   ],
   "metadata": {
    "collapsed": false,
    "pycharm": {
     "name": "#%%\n"
    }
   }
  },
  {
   "cell_type": "code",
   "execution_count": 262,
   "outputs": [
    {
     "data": {
      "text/plain": "2023-01-01    55.0\n2023-01-02    55.0\n2023-01-03     1.0\n2023-01-04     3.0\n2023-01-05     5.0\n2023-01-06     NaN\nFreq: D, dtype: float64"
     },
     "execution_count": 262,
     "metadata": {},
     "output_type": "execute_result"
    }
   ],
   "source": [
    "s2 = pd.Series([1,3,5,np.nan, 6,8], index=dates[0:6]).shift(periods=2, fill_value=55)\n",
    "s2"
   ],
   "metadata": {
    "collapsed": false,
    "pycharm": {
     "name": "#%%\n"
    }
   }
  },
  {
   "cell_type": "code",
   "execution_count": 265,
   "outputs": [
    {
     "data": {
      "text/plain": "               A     B     C     D  mean\n2023-01-01   NaN   NaN   NaN   NaN   NaN\n2023-01-02   NaN   NaN   NaN   NaN   NaN\n2023-01-03   8.0   9.0  10.0  11.0   9.5\n2023-01-04  10.0  11.0  12.0  13.0  11.5\n2023-01-05  12.0  13.0  14.0  15.0  13.5\n2023-01-06   NaN   NaN   NaN   NaN   NaN\n2023-01-07   NaN   NaN   NaN   NaN   NaN\n2023-01-08   NaN   NaN   NaN   NaN   NaN\n2023-01-09   NaN   NaN   NaN   NaN   NaN\n2023-01-10   NaN   NaN   NaN   NaN   NaN\n2023-01-11   NaN   NaN   NaN   NaN   NaN\n2023-01-12   NaN   NaN   NaN   NaN   NaN\n2023-01-13   NaN   NaN   NaN   NaN   NaN\n2023-01-14   NaN   NaN   NaN   NaN   NaN\n2023-01-15   NaN   NaN   NaN   NaN   NaN\n2023-01-16   NaN   NaN   NaN   NaN   NaN\n2023-01-17   NaN   NaN   NaN   NaN   NaN\n2023-01-18   NaN   NaN   NaN   NaN   NaN\n2023-01-19   NaN   NaN   NaN   NaN   NaN\n2023-01-20   NaN   NaN   NaN   NaN   NaN\n2023-01-21   NaN   NaN   NaN   NaN   NaN\n2023-01-22   NaN   NaN   NaN   NaN   NaN\n2023-01-23   NaN   NaN   NaN   NaN   NaN\n2023-01-24   NaN   NaN   NaN   NaN   NaN\n2023-01-25   NaN   NaN   NaN   NaN   NaN\n2023-01-26   NaN   NaN   NaN   NaN   NaN\n2023-01-27   NaN   NaN   NaN   NaN   NaN\n2023-01-28   NaN   NaN   NaN   NaN   NaN\n2023-01-29   NaN   NaN   NaN   NaN   NaN\n2023-01-30   NaN   NaN   NaN   NaN   NaN",
      "text/html": "<div>\n<style scoped>\n    .dataframe tbody tr th:only-of-type {\n        vertical-align: middle;\n    }\n\n    .dataframe tbody tr th {\n        vertical-align: top;\n    }\n\n    .dataframe thead th {\n        text-align: right;\n    }\n</style>\n<table border=\"1\" class=\"dataframe\">\n  <thead>\n    <tr style=\"text-align: right;\">\n      <th></th>\n      <th>A</th>\n      <th>B</th>\n      <th>C</th>\n      <th>D</th>\n      <th>mean</th>\n    </tr>\n  </thead>\n  <tbody>\n    <tr>\n      <th>2023-01-01</th>\n      <td>NaN</td>\n      <td>NaN</td>\n      <td>NaN</td>\n      <td>NaN</td>\n      <td>NaN</td>\n    </tr>\n    <tr>\n      <th>2023-01-02</th>\n      <td>NaN</td>\n      <td>NaN</td>\n      <td>NaN</td>\n      <td>NaN</td>\n      <td>NaN</td>\n    </tr>\n    <tr>\n      <th>2023-01-03</th>\n      <td>8.0</td>\n      <td>9.0</td>\n      <td>10.0</td>\n      <td>11.0</td>\n      <td>9.5</td>\n    </tr>\n    <tr>\n      <th>2023-01-04</th>\n      <td>10.0</td>\n      <td>11.0</td>\n      <td>12.0</td>\n      <td>13.0</td>\n      <td>11.5</td>\n    </tr>\n    <tr>\n      <th>2023-01-05</th>\n      <td>12.0</td>\n      <td>13.0</td>\n      <td>14.0</td>\n      <td>15.0</td>\n      <td>13.5</td>\n    </tr>\n    <tr>\n      <th>2023-01-06</th>\n      <td>NaN</td>\n      <td>NaN</td>\n      <td>NaN</td>\n      <td>NaN</td>\n      <td>NaN</td>\n    </tr>\n    <tr>\n      <th>2023-01-07</th>\n      <td>NaN</td>\n      <td>NaN</td>\n      <td>NaN</td>\n      <td>NaN</td>\n      <td>NaN</td>\n    </tr>\n    <tr>\n      <th>2023-01-08</th>\n      <td>NaN</td>\n      <td>NaN</td>\n      <td>NaN</td>\n      <td>NaN</td>\n      <td>NaN</td>\n    </tr>\n    <tr>\n      <th>2023-01-09</th>\n      <td>NaN</td>\n      <td>NaN</td>\n      <td>NaN</td>\n      <td>NaN</td>\n      <td>NaN</td>\n    </tr>\n    <tr>\n      <th>2023-01-10</th>\n      <td>NaN</td>\n      <td>NaN</td>\n      <td>NaN</td>\n      <td>NaN</td>\n      <td>NaN</td>\n    </tr>\n    <tr>\n      <th>2023-01-11</th>\n      <td>NaN</td>\n      <td>NaN</td>\n      <td>NaN</td>\n      <td>NaN</td>\n      <td>NaN</td>\n    </tr>\n    <tr>\n      <th>2023-01-12</th>\n      <td>NaN</td>\n      <td>NaN</td>\n      <td>NaN</td>\n      <td>NaN</td>\n      <td>NaN</td>\n    </tr>\n    <tr>\n      <th>2023-01-13</th>\n      <td>NaN</td>\n      <td>NaN</td>\n      <td>NaN</td>\n      <td>NaN</td>\n      <td>NaN</td>\n    </tr>\n    <tr>\n      <th>2023-01-14</th>\n      <td>NaN</td>\n      <td>NaN</td>\n      <td>NaN</td>\n      <td>NaN</td>\n      <td>NaN</td>\n    </tr>\n    <tr>\n      <th>2023-01-15</th>\n      <td>NaN</td>\n      <td>NaN</td>\n      <td>NaN</td>\n      <td>NaN</td>\n      <td>NaN</td>\n    </tr>\n    <tr>\n      <th>2023-01-16</th>\n      <td>NaN</td>\n      <td>NaN</td>\n      <td>NaN</td>\n      <td>NaN</td>\n      <td>NaN</td>\n    </tr>\n    <tr>\n      <th>2023-01-17</th>\n      <td>NaN</td>\n      <td>NaN</td>\n      <td>NaN</td>\n      <td>NaN</td>\n      <td>NaN</td>\n    </tr>\n    <tr>\n      <th>2023-01-18</th>\n      <td>NaN</td>\n      <td>NaN</td>\n      <td>NaN</td>\n      <td>NaN</td>\n      <td>NaN</td>\n    </tr>\n    <tr>\n      <th>2023-01-19</th>\n      <td>NaN</td>\n      <td>NaN</td>\n      <td>NaN</td>\n      <td>NaN</td>\n      <td>NaN</td>\n    </tr>\n    <tr>\n      <th>2023-01-20</th>\n      <td>NaN</td>\n      <td>NaN</td>\n      <td>NaN</td>\n      <td>NaN</td>\n      <td>NaN</td>\n    </tr>\n    <tr>\n      <th>2023-01-21</th>\n      <td>NaN</td>\n      <td>NaN</td>\n      <td>NaN</td>\n      <td>NaN</td>\n      <td>NaN</td>\n    </tr>\n    <tr>\n      <th>2023-01-22</th>\n      <td>NaN</td>\n      <td>NaN</td>\n      <td>NaN</td>\n      <td>NaN</td>\n      <td>NaN</td>\n    </tr>\n    <tr>\n      <th>2023-01-23</th>\n      <td>NaN</td>\n      <td>NaN</td>\n      <td>NaN</td>\n      <td>NaN</td>\n      <td>NaN</td>\n    </tr>\n    <tr>\n      <th>2023-01-24</th>\n      <td>NaN</td>\n      <td>NaN</td>\n      <td>NaN</td>\n      <td>NaN</td>\n      <td>NaN</td>\n    </tr>\n    <tr>\n      <th>2023-01-25</th>\n      <td>NaN</td>\n      <td>NaN</td>\n      <td>NaN</td>\n      <td>NaN</td>\n      <td>NaN</td>\n    </tr>\n    <tr>\n      <th>2023-01-26</th>\n      <td>NaN</td>\n      <td>NaN</td>\n      <td>NaN</td>\n      <td>NaN</td>\n      <td>NaN</td>\n    </tr>\n    <tr>\n      <th>2023-01-27</th>\n      <td>NaN</td>\n      <td>NaN</td>\n      <td>NaN</td>\n      <td>NaN</td>\n      <td>NaN</td>\n    </tr>\n    <tr>\n      <th>2023-01-28</th>\n      <td>NaN</td>\n      <td>NaN</td>\n      <td>NaN</td>\n      <td>NaN</td>\n      <td>NaN</td>\n    </tr>\n    <tr>\n      <th>2023-01-29</th>\n      <td>NaN</td>\n      <td>NaN</td>\n      <td>NaN</td>\n      <td>NaN</td>\n      <td>NaN</td>\n    </tr>\n    <tr>\n      <th>2023-01-30</th>\n      <td>NaN</td>\n      <td>NaN</td>\n      <td>NaN</td>\n      <td>NaN</td>\n      <td>NaN</td>\n    </tr>\n  </tbody>\n</table>\n</div>"
     },
     "execution_count": 265,
     "metadata": {},
     "output_type": "execute_result"
    }
   ],
   "source": [
    "df.sub(s1, axis=\"index\")\n"
   ],
   "metadata": {
    "collapsed": false,
    "pycharm": {
     "name": "#%%\n"
    }
   }
  },
  {
   "cell_type": "markdown",
   "source": [
    "## Apply\n",
    "`DataFrame.apply()` applies a user defined function to the data:\n"
   ],
   "metadata": {
    "collapsed": false,
    "pycharm": {
     "name": "#%% md\n"
    }
   }
  },
  {
   "cell_type": "code",
   "execution_count": 267,
   "outputs": [
    {
     "data": {
      "text/plain": "               A     B     C     D    mean\n2023-01-01     1     2     3     4     2.5\n2023-01-02     6     8    10    12     9.0\n2023-01-03    15    18    21    24    19.5\n2023-01-04    28    32    36    40    34.0\n2023-01-05    45    50    55    60    52.5\n2023-01-06    66    72    78    84    75.0\n2023-01-07    91    98   105   112   101.5\n2023-01-08   120   128   136   144   132.0\n2023-01-09   153   162   171   180   166.5\n2023-01-10   190   200   210   220   205.0\n2023-01-11   231   242   253   264   247.5\n2023-01-12   276   288   300   312   294.0\n2023-01-13   325   338   351   364   344.5\n2023-01-14   378   392   406   420   399.0\n2023-01-15   435   450   465   480   457.5\n2023-01-16   496   512   528   544   520.0\n2023-01-17   561   578   595   612   586.5\n2023-01-18   630   648   666   684   657.0\n2023-01-19   703   722   741   760   731.5\n2023-01-20   780   800   820   840   810.0\n2023-01-21   861   882   903   924   892.5\n2023-01-22   946   968   990  1012   979.0\n2023-01-23  1035  1058  1081  1104  1069.5\n2023-01-24  1128  1152  1176  1200  1164.0\n2023-01-25  1225  1250  1275  1300  1262.5\n2023-01-26  1326  1352  1378  1404  1365.0\n2023-01-27  1431  1458  1485  1512  1471.5\n2023-01-28  1540  1568  1596  1624  1582.0\n2023-01-29  1653  1682  1711  1740  1696.5\n2023-01-30  1770  1800  1830  1860  1815.0",
      "text/html": "<div>\n<style scoped>\n    .dataframe tbody tr th:only-of-type {\n        vertical-align: middle;\n    }\n\n    .dataframe tbody tr th {\n        vertical-align: top;\n    }\n\n    .dataframe thead th {\n        text-align: right;\n    }\n</style>\n<table border=\"1\" class=\"dataframe\">\n  <thead>\n    <tr style=\"text-align: right;\">\n      <th></th>\n      <th>A</th>\n      <th>B</th>\n      <th>C</th>\n      <th>D</th>\n      <th>mean</th>\n    </tr>\n  </thead>\n  <tbody>\n    <tr>\n      <th>2023-01-01</th>\n      <td>1</td>\n      <td>2</td>\n      <td>3</td>\n      <td>4</td>\n      <td>2.5</td>\n    </tr>\n    <tr>\n      <th>2023-01-02</th>\n      <td>6</td>\n      <td>8</td>\n      <td>10</td>\n      <td>12</td>\n      <td>9.0</td>\n    </tr>\n    <tr>\n      <th>2023-01-03</th>\n      <td>15</td>\n      <td>18</td>\n      <td>21</td>\n      <td>24</td>\n      <td>19.5</td>\n    </tr>\n    <tr>\n      <th>2023-01-04</th>\n      <td>28</td>\n      <td>32</td>\n      <td>36</td>\n      <td>40</td>\n      <td>34.0</td>\n    </tr>\n    <tr>\n      <th>2023-01-05</th>\n      <td>45</td>\n      <td>50</td>\n      <td>55</td>\n      <td>60</td>\n      <td>52.5</td>\n    </tr>\n    <tr>\n      <th>2023-01-06</th>\n      <td>66</td>\n      <td>72</td>\n      <td>78</td>\n      <td>84</td>\n      <td>75.0</td>\n    </tr>\n    <tr>\n      <th>2023-01-07</th>\n      <td>91</td>\n      <td>98</td>\n      <td>105</td>\n      <td>112</td>\n      <td>101.5</td>\n    </tr>\n    <tr>\n      <th>2023-01-08</th>\n      <td>120</td>\n      <td>128</td>\n      <td>136</td>\n      <td>144</td>\n      <td>132.0</td>\n    </tr>\n    <tr>\n      <th>2023-01-09</th>\n      <td>153</td>\n      <td>162</td>\n      <td>171</td>\n      <td>180</td>\n      <td>166.5</td>\n    </tr>\n    <tr>\n      <th>2023-01-10</th>\n      <td>190</td>\n      <td>200</td>\n      <td>210</td>\n      <td>220</td>\n      <td>205.0</td>\n    </tr>\n    <tr>\n      <th>2023-01-11</th>\n      <td>231</td>\n      <td>242</td>\n      <td>253</td>\n      <td>264</td>\n      <td>247.5</td>\n    </tr>\n    <tr>\n      <th>2023-01-12</th>\n      <td>276</td>\n      <td>288</td>\n      <td>300</td>\n      <td>312</td>\n      <td>294.0</td>\n    </tr>\n    <tr>\n      <th>2023-01-13</th>\n      <td>325</td>\n      <td>338</td>\n      <td>351</td>\n      <td>364</td>\n      <td>344.5</td>\n    </tr>\n    <tr>\n      <th>2023-01-14</th>\n      <td>378</td>\n      <td>392</td>\n      <td>406</td>\n      <td>420</td>\n      <td>399.0</td>\n    </tr>\n    <tr>\n      <th>2023-01-15</th>\n      <td>435</td>\n      <td>450</td>\n      <td>465</td>\n      <td>480</td>\n      <td>457.5</td>\n    </tr>\n    <tr>\n      <th>2023-01-16</th>\n      <td>496</td>\n      <td>512</td>\n      <td>528</td>\n      <td>544</td>\n      <td>520.0</td>\n    </tr>\n    <tr>\n      <th>2023-01-17</th>\n      <td>561</td>\n      <td>578</td>\n      <td>595</td>\n      <td>612</td>\n      <td>586.5</td>\n    </tr>\n    <tr>\n      <th>2023-01-18</th>\n      <td>630</td>\n      <td>648</td>\n      <td>666</td>\n      <td>684</td>\n      <td>657.0</td>\n    </tr>\n    <tr>\n      <th>2023-01-19</th>\n      <td>703</td>\n      <td>722</td>\n      <td>741</td>\n      <td>760</td>\n      <td>731.5</td>\n    </tr>\n    <tr>\n      <th>2023-01-20</th>\n      <td>780</td>\n      <td>800</td>\n      <td>820</td>\n      <td>840</td>\n      <td>810.0</td>\n    </tr>\n    <tr>\n      <th>2023-01-21</th>\n      <td>861</td>\n      <td>882</td>\n      <td>903</td>\n      <td>924</td>\n      <td>892.5</td>\n    </tr>\n    <tr>\n      <th>2023-01-22</th>\n      <td>946</td>\n      <td>968</td>\n      <td>990</td>\n      <td>1012</td>\n      <td>979.0</td>\n    </tr>\n    <tr>\n      <th>2023-01-23</th>\n      <td>1035</td>\n      <td>1058</td>\n      <td>1081</td>\n      <td>1104</td>\n      <td>1069.5</td>\n    </tr>\n    <tr>\n      <th>2023-01-24</th>\n      <td>1128</td>\n      <td>1152</td>\n      <td>1176</td>\n      <td>1200</td>\n      <td>1164.0</td>\n    </tr>\n    <tr>\n      <th>2023-01-25</th>\n      <td>1225</td>\n      <td>1250</td>\n      <td>1275</td>\n      <td>1300</td>\n      <td>1262.5</td>\n    </tr>\n    <tr>\n      <th>2023-01-26</th>\n      <td>1326</td>\n      <td>1352</td>\n      <td>1378</td>\n      <td>1404</td>\n      <td>1365.0</td>\n    </tr>\n    <tr>\n      <th>2023-01-27</th>\n      <td>1431</td>\n      <td>1458</td>\n      <td>1485</td>\n      <td>1512</td>\n      <td>1471.5</td>\n    </tr>\n    <tr>\n      <th>2023-01-28</th>\n      <td>1540</td>\n      <td>1568</td>\n      <td>1596</td>\n      <td>1624</td>\n      <td>1582.0</td>\n    </tr>\n    <tr>\n      <th>2023-01-29</th>\n      <td>1653</td>\n      <td>1682</td>\n      <td>1711</td>\n      <td>1740</td>\n      <td>1696.5</td>\n    </tr>\n    <tr>\n      <th>2023-01-30</th>\n      <td>1770</td>\n      <td>1800</td>\n      <td>1830</td>\n      <td>1860</td>\n      <td>1815.0</td>\n    </tr>\n  </tbody>\n</table>\n</div>"
     },
     "execution_count": 267,
     "metadata": {},
     "output_type": "execute_result"
    }
   ],
   "source": [
    "test_data = df.copy()\n",
    "test_data.apply(np.cumsum)\n"
   ],
   "metadata": {
    "collapsed": false,
    "pycharm": {
     "name": "#%%\n"
    }
   }
  },
  {
   "cell_type": "code",
   "execution_count": 268,
   "outputs": [],
   "source": [
    "test_data = df.copy()\n"
   ],
   "metadata": {
    "collapsed": false,
    "pycharm": {
     "name": "#%%\n"
    }
   }
  },
  {
   "cell_type": "code",
   "execution_count": 269,
   "outputs": [
    {
     "data": {
      "text/plain": "A       116.0\nB       116.0\nC       116.0\nD       116.0\nmean    116.0\ndtype: float64"
     },
     "execution_count": 269,
     "metadata": {},
     "output_type": "execute_result"
    }
   ],
   "source": [
    "test_data.apply(lambda x: x.max() - x.min())\n"
   ],
   "metadata": {
    "collapsed": false,
    "pycharm": {
     "name": "#%%\n"
    }
   }
  },
  {
   "cell_type": "code",
   "execution_count": 270,
   "outputs": [
    {
     "data": {
      "text/plain": "              A    B    C    D   mean\n2023-01-01    1    2    3    4    2.5\n2023-01-02    5    6    7    8    6.5\n2023-01-03    9   10   11   12   10.5\n2023-01-04   13   14   15   16   14.5\n2023-01-05   17   18   19   20   18.5\n2023-01-06   21   22   23   24   22.5\n2023-01-07   25   26   27   28   26.5\n2023-01-08   29   30   31   32   30.5\n2023-01-09   33   34   35   36   34.5\n2023-01-10   37   38   39   40   38.5\n2023-01-11   41   42   43   44   42.5\n2023-01-12   45   46   47   48   46.5\n2023-01-13   49   50   51   52   50.5\n2023-01-14   53   54   55   56   54.5\n2023-01-15   57   58   59   60   58.5\n2023-01-16   61   62   63   64   62.5\n2023-01-17   65   66   67   68   66.5\n2023-01-18   69   70   71   72   70.5\n2023-01-19   73   74   75   76   74.5\n2023-01-20   77   78   79   80   78.5\n2023-01-21   81   82   83   84   82.5\n2023-01-22   85   86   87   88   86.5\n2023-01-23   89   90   91   92   90.5\n2023-01-24   93   94   95   96   94.5\n2023-01-25   97   98   99  100   98.5\n2023-01-26  101  102  103  104  102.5\n2023-01-27  105  106  107  108  106.5\n2023-01-28  109  110  111  112  110.5\n2023-01-29  113  114  115  116  114.5\n2023-01-30  117  118  119  120  118.5",
      "text/html": "<div>\n<style scoped>\n    .dataframe tbody tr th:only-of-type {\n        vertical-align: middle;\n    }\n\n    .dataframe tbody tr th {\n        vertical-align: top;\n    }\n\n    .dataframe thead th {\n        text-align: right;\n    }\n</style>\n<table border=\"1\" class=\"dataframe\">\n  <thead>\n    <tr style=\"text-align: right;\">\n      <th></th>\n      <th>A</th>\n      <th>B</th>\n      <th>C</th>\n      <th>D</th>\n      <th>mean</th>\n    </tr>\n  </thead>\n  <tbody>\n    <tr>\n      <th>2023-01-01</th>\n      <td>1</td>\n      <td>2</td>\n      <td>3</td>\n      <td>4</td>\n      <td>2.5</td>\n    </tr>\n    <tr>\n      <th>2023-01-02</th>\n      <td>5</td>\n      <td>6</td>\n      <td>7</td>\n      <td>8</td>\n      <td>6.5</td>\n    </tr>\n    <tr>\n      <th>2023-01-03</th>\n      <td>9</td>\n      <td>10</td>\n      <td>11</td>\n      <td>12</td>\n      <td>10.5</td>\n    </tr>\n    <tr>\n      <th>2023-01-04</th>\n      <td>13</td>\n      <td>14</td>\n      <td>15</td>\n      <td>16</td>\n      <td>14.5</td>\n    </tr>\n    <tr>\n      <th>2023-01-05</th>\n      <td>17</td>\n      <td>18</td>\n      <td>19</td>\n      <td>20</td>\n      <td>18.5</td>\n    </tr>\n    <tr>\n      <th>2023-01-06</th>\n      <td>21</td>\n      <td>22</td>\n      <td>23</td>\n      <td>24</td>\n      <td>22.5</td>\n    </tr>\n    <tr>\n      <th>2023-01-07</th>\n      <td>25</td>\n      <td>26</td>\n      <td>27</td>\n      <td>28</td>\n      <td>26.5</td>\n    </tr>\n    <tr>\n      <th>2023-01-08</th>\n      <td>29</td>\n      <td>30</td>\n      <td>31</td>\n      <td>32</td>\n      <td>30.5</td>\n    </tr>\n    <tr>\n      <th>2023-01-09</th>\n      <td>33</td>\n      <td>34</td>\n      <td>35</td>\n      <td>36</td>\n      <td>34.5</td>\n    </tr>\n    <tr>\n      <th>2023-01-10</th>\n      <td>37</td>\n      <td>38</td>\n      <td>39</td>\n      <td>40</td>\n      <td>38.5</td>\n    </tr>\n    <tr>\n      <th>2023-01-11</th>\n      <td>41</td>\n      <td>42</td>\n      <td>43</td>\n      <td>44</td>\n      <td>42.5</td>\n    </tr>\n    <tr>\n      <th>2023-01-12</th>\n      <td>45</td>\n      <td>46</td>\n      <td>47</td>\n      <td>48</td>\n      <td>46.5</td>\n    </tr>\n    <tr>\n      <th>2023-01-13</th>\n      <td>49</td>\n      <td>50</td>\n      <td>51</td>\n      <td>52</td>\n      <td>50.5</td>\n    </tr>\n    <tr>\n      <th>2023-01-14</th>\n      <td>53</td>\n      <td>54</td>\n      <td>55</td>\n      <td>56</td>\n      <td>54.5</td>\n    </tr>\n    <tr>\n      <th>2023-01-15</th>\n      <td>57</td>\n      <td>58</td>\n      <td>59</td>\n      <td>60</td>\n      <td>58.5</td>\n    </tr>\n    <tr>\n      <th>2023-01-16</th>\n      <td>61</td>\n      <td>62</td>\n      <td>63</td>\n      <td>64</td>\n      <td>62.5</td>\n    </tr>\n    <tr>\n      <th>2023-01-17</th>\n      <td>65</td>\n      <td>66</td>\n      <td>67</td>\n      <td>68</td>\n      <td>66.5</td>\n    </tr>\n    <tr>\n      <th>2023-01-18</th>\n      <td>69</td>\n      <td>70</td>\n      <td>71</td>\n      <td>72</td>\n      <td>70.5</td>\n    </tr>\n    <tr>\n      <th>2023-01-19</th>\n      <td>73</td>\n      <td>74</td>\n      <td>75</td>\n      <td>76</td>\n      <td>74.5</td>\n    </tr>\n    <tr>\n      <th>2023-01-20</th>\n      <td>77</td>\n      <td>78</td>\n      <td>79</td>\n      <td>80</td>\n      <td>78.5</td>\n    </tr>\n    <tr>\n      <th>2023-01-21</th>\n      <td>81</td>\n      <td>82</td>\n      <td>83</td>\n      <td>84</td>\n      <td>82.5</td>\n    </tr>\n    <tr>\n      <th>2023-01-22</th>\n      <td>85</td>\n      <td>86</td>\n      <td>87</td>\n      <td>88</td>\n      <td>86.5</td>\n    </tr>\n    <tr>\n      <th>2023-01-23</th>\n      <td>89</td>\n      <td>90</td>\n      <td>91</td>\n      <td>92</td>\n      <td>90.5</td>\n    </tr>\n    <tr>\n      <th>2023-01-24</th>\n      <td>93</td>\n      <td>94</td>\n      <td>95</td>\n      <td>96</td>\n      <td>94.5</td>\n    </tr>\n    <tr>\n      <th>2023-01-25</th>\n      <td>97</td>\n      <td>98</td>\n      <td>99</td>\n      <td>100</td>\n      <td>98.5</td>\n    </tr>\n    <tr>\n      <th>2023-01-26</th>\n      <td>101</td>\n      <td>102</td>\n      <td>103</td>\n      <td>104</td>\n      <td>102.5</td>\n    </tr>\n    <tr>\n      <th>2023-01-27</th>\n      <td>105</td>\n      <td>106</td>\n      <td>107</td>\n      <td>108</td>\n      <td>106.5</td>\n    </tr>\n    <tr>\n      <th>2023-01-28</th>\n      <td>109</td>\n      <td>110</td>\n      <td>111</td>\n      <td>112</td>\n      <td>110.5</td>\n    </tr>\n    <tr>\n      <th>2023-01-29</th>\n      <td>113</td>\n      <td>114</td>\n      <td>115</td>\n      <td>116</td>\n      <td>114.5</td>\n    </tr>\n    <tr>\n      <th>2023-01-30</th>\n      <td>117</td>\n      <td>118</td>\n      <td>119</td>\n      <td>120</td>\n      <td>118.5</td>\n    </tr>\n  </tbody>\n</table>\n</div>"
     },
     "execution_count": 270,
     "metadata": {},
     "output_type": "execute_result"
    }
   ],
   "source": [
    "test_data\n"
   ],
   "metadata": {
    "collapsed": false,
    "pycharm": {
     "name": "#%%\n"
    }
   }
  },
  {
   "cell_type": "markdown",
   "source": [
    "## Histogramming\n",
    "See more at [Histogramming and Discretization](https://pandas.pydata.org/docs/user_guide/basics.html#basics-discretization).\n"
   ],
   "metadata": {
    "collapsed": false,
    "pycharm": {
     "name": "#%% md\n"
    }
   }
  },
  {
   "cell_type": "code",
   "execution_count": 271,
   "outputs": [
    {
     "data": {
      "text/plain": "0    4\n1    6\n2    4\n3    3\n4    5\n5    4\n6    1\n7    3\n8    1\n9    6\ndtype: int32"
     },
     "execution_count": 271,
     "metadata": {},
     "output_type": "execute_result"
    }
   ],
   "source": [
    "s = pd.Series(np.random.randint(0, 7, size=10))\n",
    "s\n"
   ],
   "metadata": {
    "collapsed": false,
    "pycharm": {
     "name": "#%%\n"
    }
   }
  },
  {
   "cell_type": "code",
   "execution_count": 272,
   "outputs": [
    {
     "data": {
      "text/plain": "4    3\n6    2\n3    2\n1    2\n5    1\ndtype: int64"
     },
     "execution_count": 272,
     "metadata": {},
     "output_type": "execute_result"
    }
   ],
   "source": [
    "s.value_counts()\n"
   ],
   "metadata": {
    "collapsed": false,
    "pycharm": {
     "name": "#%%\n"
    }
   }
  },
  {
   "cell_type": "markdown",
   "source": [
    "## String Methods\n",
    "Series is equipped with a set of string processing methods in the str attribute that make it easy to operate on each element of the array, as in the code snippet below. Note that pattern-matching in `str` generally uses [regular expressions](https://docs.python.org/3/library/re.html) by default (and in some cases always uses them). See more at [Vectorized String Methods](https://pandas.pydata.org/docs/user_guide/text.html#text-string-methods).\n"
   ],
   "metadata": {
    "collapsed": false,
    "pycharm": {
     "name": "#%% md\n"
    }
   }
  },
  {
   "cell_type": "code",
   "execution_count": 273,
   "outputs": [
    {
     "data": {
      "text/plain": "0       a\n1       b\n2       c\n3    aaba\n4    baca\n5     NaN\n6    caba\n7     dog\n8     cat\ndtype: object"
     },
     "execution_count": 273,
     "metadata": {},
     "output_type": "execute_result"
    }
   ],
   "source": [
    "s = pd.Series([\"A\", \"B\", \"C\", \"Aaba\", \"Baca\", np.nan, \"CABA\", \"dog\", \"cat\"])\n",
    "s.str.lower()\n"
   ],
   "metadata": {
    "collapsed": false,
    "pycharm": {
     "name": "#%%\n"
    }
   }
  },
  {
   "cell_type": "code",
   "execution_count": 275,
   "outputs": [
    {
     "name": "stdout",
     "output_type": "stream",
     "text": [
      "<pandas.core.strings.accessor.StringMethods object at 0x000001B899DCBD30>\n"
     ]
    }
   ],
   "source": [
    "print(s.str)\n"
   ],
   "metadata": {
    "collapsed": false,
    "pycharm": {
     "name": "#%%\n"
    }
   }
  },
  {
   "cell_type": "markdown",
   "source": [
    "## Merge"
   ],
   "metadata": {
    "collapsed": false,
    "pycharm": {
     "name": "#%% md\n"
    }
   }
  },
  {
   "cell_type": "markdown",
   "source": [
    "## concat\n",
    "\n",
    "pandas provides various facilities for easily combining together Series and DataFrame objects with various kinds of set logic for the indexes and relational algebra functionality in the case of join / merge-type operations.\n",
    "\n",
    "See the [Merging section](https://pandas.pydata.org/docs/user_guide/merging.html#merging).\n",
    "\n",
    "Concatenating pandas objects together along an axis with [concat()](https://pandas.pydata.org/docs/reference/api/pandas.concat.html#pandas.concat):\n"
   ],
   "metadata": {
    "collapsed": false,
    "pycharm": {
     "name": "#%% md\n"
    }
   }
  },
  {
   "cell_type": "code",
   "execution_count": 276,
   "outputs": [
    {
     "data": {
      "text/plain": "          0         1         2         3\n0 -0.370743 -1.098338  0.044564  0.732757\n1  1.439221  0.607933  0.391922  0.572369\n2 -1.120110 -0.088718 -1.631697 -2.492990\n3 -1.533743  0.678994 -1.160236 -0.220239\n4 -1.356726  0.742685 -0.480450  0.130504\n5 -0.369372 -0.047318 -0.373065 -0.896775\n6 -0.394541  0.197282  0.512641 -0.842950\n7  0.369414 -0.438037  1.468084  1.717126\n8 -1.575301  2.260104 -0.325831 -1.388426\n9  1.317619  2.447329 -1.680563 -0.776887",
      "text/html": "<div>\n<style scoped>\n    .dataframe tbody tr th:only-of-type {\n        vertical-align: middle;\n    }\n\n    .dataframe tbody tr th {\n        vertical-align: top;\n    }\n\n    .dataframe thead th {\n        text-align: right;\n    }\n</style>\n<table border=\"1\" class=\"dataframe\">\n  <thead>\n    <tr style=\"text-align: right;\">\n      <th></th>\n      <th>0</th>\n      <th>1</th>\n      <th>2</th>\n      <th>3</th>\n    </tr>\n  </thead>\n  <tbody>\n    <tr>\n      <th>0</th>\n      <td>-0.370743</td>\n      <td>-1.098338</td>\n      <td>0.044564</td>\n      <td>0.732757</td>\n    </tr>\n    <tr>\n      <th>1</th>\n      <td>1.439221</td>\n      <td>0.607933</td>\n      <td>0.391922</td>\n      <td>0.572369</td>\n    </tr>\n    <tr>\n      <th>2</th>\n      <td>-1.120110</td>\n      <td>-0.088718</td>\n      <td>-1.631697</td>\n      <td>-2.492990</td>\n    </tr>\n    <tr>\n      <th>3</th>\n      <td>-1.533743</td>\n      <td>0.678994</td>\n      <td>-1.160236</td>\n      <td>-0.220239</td>\n    </tr>\n    <tr>\n      <th>4</th>\n      <td>-1.356726</td>\n      <td>0.742685</td>\n      <td>-0.480450</td>\n      <td>0.130504</td>\n    </tr>\n    <tr>\n      <th>5</th>\n      <td>-0.369372</td>\n      <td>-0.047318</td>\n      <td>-0.373065</td>\n      <td>-0.896775</td>\n    </tr>\n    <tr>\n      <th>6</th>\n      <td>-0.394541</td>\n      <td>0.197282</td>\n      <td>0.512641</td>\n      <td>-0.842950</td>\n    </tr>\n    <tr>\n      <th>7</th>\n      <td>0.369414</td>\n      <td>-0.438037</td>\n      <td>1.468084</td>\n      <td>1.717126</td>\n    </tr>\n    <tr>\n      <th>8</th>\n      <td>-1.575301</td>\n      <td>2.260104</td>\n      <td>-0.325831</td>\n      <td>-1.388426</td>\n    </tr>\n    <tr>\n      <th>9</th>\n      <td>1.317619</td>\n      <td>2.447329</td>\n      <td>-1.680563</td>\n      <td>-0.776887</td>\n    </tr>\n  </tbody>\n</table>\n</div>"
     },
     "execution_count": 276,
     "metadata": {},
     "output_type": "execute_result"
    }
   ],
   "source": [
    "df = pd.DataFrame(np.random.randn(10, 4))\n",
    "df\n"
   ],
   "metadata": {
    "collapsed": false,
    "pycharm": {
     "name": "#%%\n"
    }
   }
  },
  {
   "cell_type": "code",
   "execution_count": 278,
   "outputs": [
    {
     "data": {
      "text/plain": "[          0         1         2         3\n 0 -0.370743 -1.098338  0.044564  0.732757\n 1  1.439221  0.607933  0.391922  0.572369\n 2 -1.120110 -0.088718 -1.631697 -2.492990,\n           0         1         2         3\n 3 -1.533743  0.678994 -1.160236 -0.220239\n 4 -1.356726  0.742685 -0.480450  0.130504\n 5 -0.369372 -0.047318 -0.373065 -0.896775\n 6 -0.394541  0.197282  0.512641 -0.842950,\n           0         1         2         3\n 7  0.369414 -0.438037  1.468084  1.717126\n 8 -1.575301  2.260104 -0.325831 -1.388426\n 9  1.317619  2.447329 -1.680563 -0.776887]"
     },
     "execution_count": 278,
     "metadata": {},
     "output_type": "execute_result"
    }
   ],
   "source": [
    "# break it into pieces\n",
    "pieces = [df[:3], df[3:7], df[7:]]\n",
    "pieces\n"
   ],
   "metadata": {
    "collapsed": false,
    "pycharm": {
     "name": "#%%\n"
    }
   }
  },
  {
   "cell_type": "code",
   "execution_count": 279,
   "outputs": [
    {
     "data": {
      "text/plain": "list"
     },
     "execution_count": 279,
     "metadata": {},
     "output_type": "execute_result"
    }
   ],
   "source": [
    "type(pieces)\n"
   ],
   "metadata": {
    "collapsed": false,
    "pycharm": {
     "name": "#%%\n"
    }
   }
  },
  {
   "cell_type": "code",
   "execution_count": 280,
   "outputs": [
    {
     "data": {
      "text/plain": "          0         1         2         3\n0 -0.370743 -1.098338  0.044564  0.732757\n1  1.439221  0.607933  0.391922  0.572369\n2 -1.120110 -0.088718 -1.631697 -2.492990",
      "text/html": "<div>\n<style scoped>\n    .dataframe tbody tr th:only-of-type {\n        vertical-align: middle;\n    }\n\n    .dataframe tbody tr th {\n        vertical-align: top;\n    }\n\n    .dataframe thead th {\n        text-align: right;\n    }\n</style>\n<table border=\"1\" class=\"dataframe\">\n  <thead>\n    <tr style=\"text-align: right;\">\n      <th></th>\n      <th>0</th>\n      <th>1</th>\n      <th>2</th>\n      <th>3</th>\n    </tr>\n  </thead>\n  <tbody>\n    <tr>\n      <th>0</th>\n      <td>-0.370743</td>\n      <td>-1.098338</td>\n      <td>0.044564</td>\n      <td>0.732757</td>\n    </tr>\n    <tr>\n      <th>1</th>\n      <td>1.439221</td>\n      <td>0.607933</td>\n      <td>0.391922</td>\n      <td>0.572369</td>\n    </tr>\n    <tr>\n      <th>2</th>\n      <td>-1.120110</td>\n      <td>-0.088718</td>\n      <td>-1.631697</td>\n      <td>-2.492990</td>\n    </tr>\n  </tbody>\n</table>\n</div>"
     },
     "execution_count": 280,
     "metadata": {},
     "output_type": "execute_result"
    }
   ],
   "source": [
    "pieces[0]\n"
   ],
   "metadata": {
    "collapsed": false,
    "pycharm": {
     "name": "#%%\n"
    }
   }
  },
  {
   "cell_type": "code",
   "execution_count": 281,
   "outputs": [
    {
     "data": {
      "text/plain": "          0         1         2         3\n0 -0.370743 -1.098338  0.044564  0.732757\n1  1.439221  0.607933  0.391922  0.572369\n2 -1.120110 -0.088718 -1.631697 -2.492990\n3 -1.533743  0.678994 -1.160236 -0.220239\n4 -1.356726  0.742685 -0.480450  0.130504\n5 -0.369372 -0.047318 -0.373065 -0.896775\n6 -0.394541  0.197282  0.512641 -0.842950\n7  0.369414 -0.438037  1.468084  1.717126\n8 -1.575301  2.260104 -0.325831 -1.388426\n9  1.317619  2.447329 -1.680563 -0.776887",
      "text/html": "<div>\n<style scoped>\n    .dataframe tbody tr th:only-of-type {\n        vertical-align: middle;\n    }\n\n    .dataframe tbody tr th {\n        vertical-align: top;\n    }\n\n    .dataframe thead th {\n        text-align: right;\n    }\n</style>\n<table border=\"1\" class=\"dataframe\">\n  <thead>\n    <tr style=\"text-align: right;\">\n      <th></th>\n      <th>0</th>\n      <th>1</th>\n      <th>2</th>\n      <th>3</th>\n    </tr>\n  </thead>\n  <tbody>\n    <tr>\n      <th>0</th>\n      <td>-0.370743</td>\n      <td>-1.098338</td>\n      <td>0.044564</td>\n      <td>0.732757</td>\n    </tr>\n    <tr>\n      <th>1</th>\n      <td>1.439221</td>\n      <td>0.607933</td>\n      <td>0.391922</td>\n      <td>0.572369</td>\n    </tr>\n    <tr>\n      <th>2</th>\n      <td>-1.120110</td>\n      <td>-0.088718</td>\n      <td>-1.631697</td>\n      <td>-2.492990</td>\n    </tr>\n    <tr>\n      <th>3</th>\n      <td>-1.533743</td>\n      <td>0.678994</td>\n      <td>-1.160236</td>\n      <td>-0.220239</td>\n    </tr>\n    <tr>\n      <th>4</th>\n      <td>-1.356726</td>\n      <td>0.742685</td>\n      <td>-0.480450</td>\n      <td>0.130504</td>\n    </tr>\n    <tr>\n      <th>5</th>\n      <td>-0.369372</td>\n      <td>-0.047318</td>\n      <td>-0.373065</td>\n      <td>-0.896775</td>\n    </tr>\n    <tr>\n      <th>6</th>\n      <td>-0.394541</td>\n      <td>0.197282</td>\n      <td>0.512641</td>\n      <td>-0.842950</td>\n    </tr>\n    <tr>\n      <th>7</th>\n      <td>0.369414</td>\n      <td>-0.438037</td>\n      <td>1.468084</td>\n      <td>1.717126</td>\n    </tr>\n    <tr>\n      <th>8</th>\n      <td>-1.575301</td>\n      <td>2.260104</td>\n      <td>-0.325831</td>\n      <td>-1.388426</td>\n    </tr>\n    <tr>\n      <th>9</th>\n      <td>1.317619</td>\n      <td>2.447329</td>\n      <td>-1.680563</td>\n      <td>-0.776887</td>\n    </tr>\n  </tbody>\n</table>\n</div>"
     },
     "execution_count": 281,
     "metadata": {},
     "output_type": "execute_result"
    }
   ],
   "source": [
    "pd.concat(pieces)\n"
   ],
   "metadata": {
    "collapsed": false,
    "pycharm": {
     "name": "#%%\n"
    }
   }
  },
  {
   "cell_type": "markdown",
   "source": [
    "#### Note\n",
    "Adding a column to a DataFrame is relatively fast. However, adding a row requires a copy, and may be expensive. We recommend passing a pre-built list of records to the DataFrame constructor instead of building a DataFrame by iteratively appending records to it.\n"
   ],
   "metadata": {
    "collapsed": false,
    "pycharm": {
     "name": "#%% md\n"
    }
   }
  },
  {
   "cell_type": "markdown",
   "source": [
    "## Join\n",
    "[`merge()`](https://pandas.pydata.org/docs/reference/api/pandas.merge.html#pandas.merge) enables SQL style join types along specific columns. See the [Database style joining section](https://pandas.pydata.org/docs/user_guide/merging.html#merging-join)."
   ],
   "metadata": {
    "collapsed": false,
    "pycharm": {
     "name": "#%% md\n"
    }
   }
  },
  {
   "cell_type": "code",
   "execution_count": 313,
   "outputs": [
    {
     "name": "stdout",
     "output_type": "stream",
     "text": [
      "         city  temperature\n",
      "0  faisalabad            7\n",
      "1      lahore            5\n",
      "2     sialkot            9\n",
      "         city  humidity\n",
      "0  faisalabad        30\n",
      "1      lahore        25\n",
      "2   islamabad        20\n"
     ]
    },
    {
     "data": {
      "text/plain": "       city_x  temperature      city_y  humidity\n0  faisalabad            7  faisalabad        30\n1  faisalabad            7      lahore        25\n2  faisalabad            7   islamabad        20\n3      lahore            5  faisalabad        30\n4      lahore            5      lahore        25\n5      lahore            5   islamabad        20\n6     sialkot            9  faisalabad        30\n7     sialkot            9      lahore        25\n8     sialkot            9   islamabad        20",
      "text/html": "<div>\n<style scoped>\n    .dataframe tbody tr th:only-of-type {\n        vertical-align: middle;\n    }\n\n    .dataframe tbody tr th {\n        vertical-align: top;\n    }\n\n    .dataframe thead th {\n        text-align: right;\n    }\n</style>\n<table border=\"1\" class=\"dataframe\">\n  <thead>\n    <tr style=\"text-align: right;\">\n      <th></th>\n      <th>city_x</th>\n      <th>temperature</th>\n      <th>city_y</th>\n      <th>humidity</th>\n    </tr>\n  </thead>\n  <tbody>\n    <tr>\n      <th>0</th>\n      <td>faisalabad</td>\n      <td>7</td>\n      <td>faisalabad</td>\n      <td>30</td>\n    </tr>\n    <tr>\n      <th>1</th>\n      <td>faisalabad</td>\n      <td>7</td>\n      <td>lahore</td>\n      <td>25</td>\n    </tr>\n    <tr>\n      <th>2</th>\n      <td>faisalabad</td>\n      <td>7</td>\n      <td>islamabad</td>\n      <td>20</td>\n    </tr>\n    <tr>\n      <th>3</th>\n      <td>lahore</td>\n      <td>5</td>\n      <td>faisalabad</td>\n      <td>30</td>\n    </tr>\n    <tr>\n      <th>4</th>\n      <td>lahore</td>\n      <td>5</td>\n      <td>lahore</td>\n      <td>25</td>\n    </tr>\n    <tr>\n      <th>5</th>\n      <td>lahore</td>\n      <td>5</td>\n      <td>islamabad</td>\n      <td>20</td>\n    </tr>\n    <tr>\n      <th>6</th>\n      <td>sialkot</td>\n      <td>9</td>\n      <td>faisalabad</td>\n      <td>30</td>\n    </tr>\n    <tr>\n      <th>7</th>\n      <td>sialkot</td>\n      <td>9</td>\n      <td>lahore</td>\n      <td>25</td>\n    </tr>\n    <tr>\n      <th>8</th>\n      <td>sialkot</td>\n      <td>9</td>\n      <td>islamabad</td>\n      <td>20</td>\n    </tr>\n  </tbody>\n</table>\n</div>"
     },
     "execution_count": 313,
     "metadata": {},
     "output_type": "execute_result"
    }
   ],
   "source": [
    "left = pd.DataFrame(\n",
    "    {\n",
    "        \"city\": [\"faisalabad\", \"lahore\", \"sialkot\"],\n",
    "        \"temperature\": [7, 5, 9]\n",
    "    }\n",
    ")\n",
    "right = pd.DataFrame(\n",
    "    {\n",
    "        \"city\": [\"faisalabad\", \"lahore\", \"islamabad\"],\n",
    "        \"humidity\": [30, 25, 20]\n",
    "    }\n",
    ")\n",
    "print(left)\n",
    "print(right)\n",
    "\n",
    "# pd.merge(left, right, on=\"key\")\n",
    "pd.merge(left=left, right=right, how=\"cross\")\n",
    "# how=joint name;\n",
    "# how{‘left’, ‘right’, ‘outer’, ‘inner’, ‘cross’}, default ‘inner’\n"
   ],
   "metadata": {
    "collapsed": false,
    "pycharm": {
     "name": "#%%\n"
    }
   }
  },
  {
   "cell_type": "markdown",
   "source": [
    "## Cross Join\n",
    "![](../../../images/cross_join.png)"
   ],
   "metadata": {
    "collapsed": false,
    "pycharm": {
     "name": "#%% md\n"
    }
   }
  },
  {
   "cell_type": "code",
   "execution_count": 315,
   "outputs": [
    {
     "name": "stdout",
     "output_type": "stream",
     "text": [
      "         city  temperature\n",
      "0  faisalabad            7\n",
      "1      lahore            5\n",
      "2     sialkot            9\n",
      "         city  humidity\n",
      "0  faisalabad        30\n",
      "1      lahore        25\n",
      "2   islamabad        20\n"
     ]
    },
    {
     "data": {
      "text/plain": "         city  temperature  humidity\n0  faisalabad          7.0      30.0\n3   islamabad          NaN      20.0\n1      lahore          5.0      25.0\n2     sialkot          9.0       NaN",
      "text/html": "<div>\n<style scoped>\n    .dataframe tbody tr th:only-of-type {\n        vertical-align: middle;\n    }\n\n    .dataframe tbody tr th {\n        vertical-align: top;\n    }\n\n    .dataframe thead th {\n        text-align: right;\n    }\n</style>\n<table border=\"1\" class=\"dataframe\">\n  <thead>\n    <tr style=\"text-align: right;\">\n      <th></th>\n      <th>city</th>\n      <th>temperature</th>\n      <th>humidity</th>\n    </tr>\n  </thead>\n  <tbody>\n    <tr>\n      <th>0</th>\n      <td>faisalabad</td>\n      <td>7.0</td>\n      <td>30.0</td>\n    </tr>\n    <tr>\n      <th>3</th>\n      <td>islamabad</td>\n      <td>NaN</td>\n      <td>20.0</td>\n    </tr>\n    <tr>\n      <th>1</th>\n      <td>lahore</td>\n      <td>5.0</td>\n      <td>25.0</td>\n    </tr>\n    <tr>\n      <th>2</th>\n      <td>sialkot</td>\n      <td>9.0</td>\n      <td>NaN</td>\n    </tr>\n  </tbody>\n</table>\n</div>"
     },
     "execution_count": 315,
     "metadata": {},
     "output_type": "execute_result"
    }
   ],
   "source": [
    "left = pd.DataFrame(\n",
    "    {\n",
    "        \"city\": [\"faisalabad\", \"lahore\", \"sialkot\"],\n",
    "        \"temperature\": [7, 5, 9]\n",
    "    }\n",
    ")\n",
    "right = pd.DataFrame(\n",
    "    {\n",
    "        \"city\": [\"faisalabad\", \"lahore\", \"islamabad\"],\n",
    "        \"humidity\": [30, 25, 20]\n",
    "    }\n",
    ")\n",
    "print(left)\n",
    "print(right)\n",
    "\n",
    "# pd.merge(left, right, on=\"key\")\n",
    "pd.merge(left=left, right=right, on=\"city\", how=\"outer\").sort_values(by=\"city\", ascending=True)\n",
    "# how=joint name;\n",
    "# how{‘left’, ‘right’, ‘outer’, ‘inner’, ‘cross’}, default ‘inner’\n"
   ],
   "metadata": {
    "collapsed": false,
    "pycharm": {
     "name": "#%%\n"
    }
   }
  },
  {
   "cell_type": "code",
   "execution_count": 295,
   "outputs": [
    {
     "name": "stdout",
     "output_type": "stream",
     "text": [
      "   key  lval\n",
      "0  foo     1\n",
      "1  bar     2\n",
      "   key  rval\n",
      "0  foo     4\n",
      "1  bar     5\n"
     ]
    },
    {
     "data": {
      "text/plain": "   key  lval  rval\n0  foo     1     4\n1  bar     2     5",
      "text/html": "<div>\n<style scoped>\n    .dataframe tbody tr th:only-of-type {\n        vertical-align: middle;\n    }\n\n    .dataframe tbody tr th {\n        vertical-align: top;\n    }\n\n    .dataframe thead th {\n        text-align: right;\n    }\n</style>\n<table border=\"1\" class=\"dataframe\">\n  <thead>\n    <tr style=\"text-align: right;\">\n      <th></th>\n      <th>key</th>\n      <th>lval</th>\n      <th>rval</th>\n    </tr>\n  </thead>\n  <tbody>\n    <tr>\n      <th>0</th>\n      <td>foo</td>\n      <td>1</td>\n      <td>4</td>\n    </tr>\n    <tr>\n      <th>1</th>\n      <td>bar</td>\n      <td>2</td>\n      <td>5</td>\n    </tr>\n  </tbody>\n</table>\n</div>"
     },
     "execution_count": 295,
     "metadata": {},
     "output_type": "execute_result"
    }
   ],
   "source": [
    "left = pd.DataFrame(\n",
    "    {\n",
    "        \"key\": [\"foo\", \"bar\"],\n",
    "        \"lval\": [1, 2]\n",
    "    }\n",
    ")\n",
    "right = pd.DataFrame(\n",
    "    {\n",
    "        \"key\": [\"foo\", \"bar\"],\n",
    "        \"rval\": [4, 5]\n",
    "    }\n",
    ")\n",
    "print(left)\n",
    "print(right)\n",
    "pd.merge(left, right, on=\"key\")\n"
   ],
   "metadata": {
    "collapsed": false,
    "pycharm": {
     "name": "#%%\n"
    }
   }
  },
  {
   "cell_type": "markdown",
   "source": [
    "## Grouping\n",
    "By “group by” we are referring to a process involving one or more of the following steps:\n",
    "\n",
    "> - Splitting the data into groups based on some criteria\n",
    "> - Applying a function to each group independently\n",
    "> - Combining the results into a data structure\n",
    "\n",
    "See the [Grouping section](https://pandas.pydata.org/docs/user_guide/groupby.html#groupby)."
   ],
   "metadata": {
    "collapsed": false,
    "pycharm": {
     "name": "#%% md\n"
    }
   }
  },
  {
   "cell_type": "code",
   "execution_count": 329,
   "outputs": [
    {
     "data": {
      "text/plain": "     A      B  C   D   E\n0  foo    one  1   9  17\n1  bar    one  2  10  18\n2  foo    two  3  11  19\n3  bar  three  4  12  20\n4  foo    two  5  13  21\n5  bar    two  6  14  22\n6  foo    one  7  15  23\n7  foo  three  8  16  24",
      "text/html": "<div>\n<style scoped>\n    .dataframe tbody tr th:only-of-type {\n        vertical-align: middle;\n    }\n\n    .dataframe tbody tr th {\n        vertical-align: top;\n    }\n\n    .dataframe thead th {\n        text-align: right;\n    }\n</style>\n<table border=\"1\" class=\"dataframe\">\n  <thead>\n    <tr style=\"text-align: right;\">\n      <th></th>\n      <th>A</th>\n      <th>B</th>\n      <th>C</th>\n      <th>D</th>\n      <th>E</th>\n    </tr>\n  </thead>\n  <tbody>\n    <tr>\n      <th>0</th>\n      <td>foo</td>\n      <td>one</td>\n      <td>1</td>\n      <td>9</td>\n      <td>17</td>\n    </tr>\n    <tr>\n      <th>1</th>\n      <td>bar</td>\n      <td>one</td>\n      <td>2</td>\n      <td>10</td>\n      <td>18</td>\n    </tr>\n    <tr>\n      <th>2</th>\n      <td>foo</td>\n      <td>two</td>\n      <td>3</td>\n      <td>11</td>\n      <td>19</td>\n    </tr>\n    <tr>\n      <th>3</th>\n      <td>bar</td>\n      <td>three</td>\n      <td>4</td>\n      <td>12</td>\n      <td>20</td>\n    </tr>\n    <tr>\n      <th>4</th>\n      <td>foo</td>\n      <td>two</td>\n      <td>5</td>\n      <td>13</td>\n      <td>21</td>\n    </tr>\n    <tr>\n      <th>5</th>\n      <td>bar</td>\n      <td>two</td>\n      <td>6</td>\n      <td>14</td>\n      <td>22</td>\n    </tr>\n    <tr>\n      <th>6</th>\n      <td>foo</td>\n      <td>one</td>\n      <td>7</td>\n      <td>15</td>\n      <td>23</td>\n    </tr>\n    <tr>\n      <th>7</th>\n      <td>foo</td>\n      <td>three</td>\n      <td>8</td>\n      <td>16</td>\n      <td>24</td>\n    </tr>\n  </tbody>\n</table>\n</div>"
     },
     "execution_count": 329,
     "metadata": {},
     "output_type": "execute_result"
    }
   ],
   "source": [
    "df2 = pd.DataFrame(\n",
    "    {\n",
    "        \"A\": [\"foo\", \"bar\", \"foo\", \"bar\", \"foo\", \"bar\", \"foo\", \"foo\"],\n",
    "        \"B\": [\"one\", \"one\", \"two\", \"three\", \"two\", \"two\", \"one\", \"three\"],\n",
    "        \"C\": np.arange(1,9),\n",
    "        \"D\": np.arange(9, 17),\n",
    "        \"E\": np.arange(17,25)\n",
    "    }\n",
    ")\n",
    "df2\n"
   ],
   "metadata": {
    "collapsed": false,
    "pycharm": {
     "name": "#%%\n"
    }
   }
  },
  {
   "cell_type": "code",
   "execution_count": 330,
   "outputs": [
    {
     "data": {
      "text/plain": "      C   D\nA          \nbar  12  36\nfoo  24  64",
      "text/html": "<div>\n<style scoped>\n    .dataframe tbody tr th:only-of-type {\n        vertical-align: middle;\n    }\n\n    .dataframe tbody tr th {\n        vertical-align: top;\n    }\n\n    .dataframe thead th {\n        text-align: right;\n    }\n</style>\n<table border=\"1\" class=\"dataframe\">\n  <thead>\n    <tr style=\"text-align: right;\">\n      <th></th>\n      <th>C</th>\n      <th>D</th>\n    </tr>\n    <tr>\n      <th>A</th>\n      <th></th>\n      <th></th>\n    </tr>\n  </thead>\n  <tbody>\n    <tr>\n      <th>bar</th>\n      <td>12</td>\n      <td>36</td>\n    </tr>\n    <tr>\n      <th>foo</th>\n      <td>24</td>\n      <td>64</td>\n    </tr>\n  </tbody>\n</table>\n</div>"
     },
     "execution_count": 330,
     "metadata": {},
     "output_type": "execute_result"
    }
   ],
   "source": [
    "# Grouping and then applying the sum() function to the resulting groups:\n",
    "df2.groupby(\"A\")[[\"C\", \"D\"]].sum()\n"
   ],
   "metadata": {
    "collapsed": false,
    "pycharm": {
     "name": "#%%\n"
    }
   }
  },
  {
   "cell_type": "code",
   "execution_count": 331,
   "outputs": [
    {
     "data": {
      "text/plain": "           C   D   E\nA   B               \nbar one    2  10  18\n    three  4  12  20\n    two    6  14  22\nfoo one    8  24  40\n    three  8  16  24\n    two    8  24  40",
      "text/html": "<div>\n<style scoped>\n    .dataframe tbody tr th:only-of-type {\n        vertical-align: middle;\n    }\n\n    .dataframe tbody tr th {\n        vertical-align: top;\n    }\n\n    .dataframe thead th {\n        text-align: right;\n    }\n</style>\n<table border=\"1\" class=\"dataframe\">\n  <thead>\n    <tr style=\"text-align: right;\">\n      <th></th>\n      <th></th>\n      <th>C</th>\n      <th>D</th>\n      <th>E</th>\n    </tr>\n    <tr>\n      <th>A</th>\n      <th>B</th>\n      <th></th>\n      <th></th>\n      <th></th>\n    </tr>\n  </thead>\n  <tbody>\n    <tr>\n      <th rowspan=\"3\" valign=\"top\">bar</th>\n      <th>one</th>\n      <td>2</td>\n      <td>10</td>\n      <td>18</td>\n    </tr>\n    <tr>\n      <th>three</th>\n      <td>4</td>\n      <td>12</td>\n      <td>20</td>\n    </tr>\n    <tr>\n      <th>two</th>\n      <td>6</td>\n      <td>14</td>\n      <td>22</td>\n    </tr>\n    <tr>\n      <th rowspan=\"3\" valign=\"top\">foo</th>\n      <th>one</th>\n      <td>8</td>\n      <td>24</td>\n      <td>40</td>\n    </tr>\n    <tr>\n      <th>three</th>\n      <td>8</td>\n      <td>16</td>\n      <td>24</td>\n    </tr>\n    <tr>\n      <th>two</th>\n      <td>8</td>\n      <td>24</td>\n      <td>40</td>\n    </tr>\n  </tbody>\n</table>\n</div>"
     },
     "execution_count": 331,
     "metadata": {},
     "output_type": "execute_result"
    }
   ],
   "source": [
    "# Grouping by multiple columns forms a hierarchical index, and again we can apply the sum() function:\n",
    "df2.groupby([\"A\", \"B\"]).sum()\n"
   ],
   "metadata": {
    "collapsed": false,
    "pycharm": {
     "name": "#%%\n"
    }
   }
  },
  {
   "cell_type": "markdown",
   "source": [
    "## Reshaping\n",
    "See the sections on [Hierarchical Indexing](https://pandas.pydata.org/docs/user_guide/advanced.html#advanced-hierarchical) and [Reshaping](https://pandas.pydata.org/docs/user_guide/reshaping.html#reshaping-stacking)."
   ],
   "metadata": {
    "collapsed": false,
    "pycharm": {
     "name": "#%% md\n"
    }
   }
  },
  {
   "cell_type": "markdown",
   "source": [
    "## Stack\n"
   ],
   "metadata": {
    "collapsed": false,
    "pycharm": {
     "name": "#%% md\n"
    }
   }
  },
  {
   "cell_type": "code",
   "execution_count": 334,
   "outputs": [
    {
     "name": "stdout",
     "output_type": "stream",
     "text": [
      "MultiIndex([('bar', 'one'),\n",
      "            ('bar', 'two'),\n",
      "            ('baz', 'one'),\n",
      "            ('baz', 'two'),\n",
      "            ('foo', 'one'),\n",
      "            ('foo', 'two'),\n",
      "            ('qux', 'one'),\n",
      "            ('qux', 'two')],\n",
      "           names=['first', 'second'])\n"
     ]
    },
    {
     "data": {
      "text/plain": "              A  B\nfirst second      \nbar   one     1  2\n      two     3  4\nbaz   one     5  6\n      two     7  8",
      "text/html": "<div>\n<style scoped>\n    .dataframe tbody tr th:only-of-type {\n        vertical-align: middle;\n    }\n\n    .dataframe tbody tr th {\n        vertical-align: top;\n    }\n\n    .dataframe thead th {\n        text-align: right;\n    }\n</style>\n<table border=\"1\" class=\"dataframe\">\n  <thead>\n    <tr style=\"text-align: right;\">\n      <th></th>\n      <th></th>\n      <th>A</th>\n      <th>B</th>\n    </tr>\n    <tr>\n      <th>first</th>\n      <th>second</th>\n      <th></th>\n      <th></th>\n    </tr>\n  </thead>\n  <tbody>\n    <tr>\n      <th rowspan=\"2\" valign=\"top\">bar</th>\n      <th>one</th>\n      <td>1</td>\n      <td>2</td>\n    </tr>\n    <tr>\n      <th>two</th>\n      <td>3</td>\n      <td>4</td>\n    </tr>\n    <tr>\n      <th rowspan=\"2\" valign=\"top\">baz</th>\n      <th>one</th>\n      <td>5</td>\n      <td>6</td>\n    </tr>\n    <tr>\n      <th>two</th>\n      <td>7</td>\n      <td>8</td>\n    </tr>\n  </tbody>\n</table>\n</div>"
     },
     "execution_count": 334,
     "metadata": {},
     "output_type": "execute_result"
    }
   ],
   "source": [
    "tuples = list(\n",
    "    zip(\n",
    "        [\"bar\", \"bar\", \"baz\", \"baz\", \"foo\", \"foo\", \"qux\", \"qux\"],\n",
    "        [\"one\", \"two\", \"one\", \"two\", \"one\", \"two\", \"one\", \"two\"],\n",
    "    )\n",
    ")\n",
    "index = pd.MultiIndex.from_tuples(tuples, names=[\"first\", \"second\"])\n",
    "print(index)\n",
    "\n",
    "df = pd.DataFrame(np.arange(1, 17).reshape(8,2), index=index, columns=[\"A\", \"B\"])\n",
    "df3 = df[:4]\n",
    "df3\n"
   ],
   "metadata": {
    "collapsed": false,
    "pycharm": {
     "name": "#%%\n"
    }
   }
  },
  {
   "cell_type": "code",
   "execution_count": 335,
   "outputs": [
    {
     "data": {
      "text/plain": "first  second   \nbar    one     A    1\n               B    2\n       two     A    3\n               B    4\nbaz    one     A    5\n               B    6\n       two     A    7\n               B    8\ndtype: int32"
     },
     "execution_count": 335,
     "metadata": {},
     "output_type": "execute_result"
    }
   ],
   "source": [
    "# The stack() method “compresses” a level in the DataFrame’s columns:\n",
    "stacked = df3.stack()\n",
    "stacked\n"
   ],
   "metadata": {
    "collapsed": false,
    "pycharm": {
     "name": "#%%\n"
    }
   }
  },
  {
   "cell_type": "code",
   "execution_count": 336,
   "outputs": [
    {
     "data": {
      "text/plain": "              A  B\nfirst second      \nbar   one     1  2\n      two     3  4\nbaz   one     5  6\n      two     7  8",
      "text/html": "<div>\n<style scoped>\n    .dataframe tbody tr th:only-of-type {\n        vertical-align: middle;\n    }\n\n    .dataframe tbody tr th {\n        vertical-align: top;\n    }\n\n    .dataframe thead th {\n        text-align: right;\n    }\n</style>\n<table border=\"1\" class=\"dataframe\">\n  <thead>\n    <tr style=\"text-align: right;\">\n      <th></th>\n      <th></th>\n      <th>A</th>\n      <th>B</th>\n    </tr>\n    <tr>\n      <th>first</th>\n      <th>second</th>\n      <th></th>\n      <th></th>\n    </tr>\n  </thead>\n  <tbody>\n    <tr>\n      <th rowspan=\"2\" valign=\"top\">bar</th>\n      <th>one</th>\n      <td>1</td>\n      <td>2</td>\n    </tr>\n    <tr>\n      <th>two</th>\n      <td>3</td>\n      <td>4</td>\n    </tr>\n    <tr>\n      <th rowspan=\"2\" valign=\"top\">baz</th>\n      <th>one</th>\n      <td>5</td>\n      <td>6</td>\n    </tr>\n    <tr>\n      <th>two</th>\n      <td>7</td>\n      <td>8</td>\n    </tr>\n  </tbody>\n</table>\n</div>"
     },
     "execution_count": 336,
     "metadata": {},
     "output_type": "execute_result"
    }
   ],
   "source": [
    "stacked.unstack()\n"
   ],
   "metadata": {
    "collapsed": false,
    "pycharm": {
     "name": "#%%\n"
    }
   }
  },
  {
   "cell_type": "markdown",
   "source": [
    "## Pivot tables\n",
    "See the section on [Pivot Tables](https://pandas.pydata.org/docs/user_guide/reshaping.html#reshaping-pivot)."
   ],
   "metadata": {
    "collapsed": false,
    "pycharm": {
     "name": "#%% md\n"
    }
   }
  },
  {
   "cell_type": "code",
   "execution_count": 339,
   "outputs": [
    {
     "data": {
      "text/plain": "        A  B    C   D   E\n0     one  A  foo   1   1\n1     one  B  foo   2   2\n2     two  C  foo   3   3\n3   three  A  bar   4   4\n4     one  B  bar   5   5\n5     one  C  bar   6   6\n6     two  A  foo   7   7\n7   three  B  foo   8   8\n8     one  C  foo   9   9\n9     one  A  bar  10  10\n10    two  B  bar  11  11\n11  three  C  bar  12  12",
      "text/html": "<div>\n<style scoped>\n    .dataframe tbody tr th:only-of-type {\n        vertical-align: middle;\n    }\n\n    .dataframe tbody tr th {\n        vertical-align: top;\n    }\n\n    .dataframe thead th {\n        text-align: right;\n    }\n</style>\n<table border=\"1\" class=\"dataframe\">\n  <thead>\n    <tr style=\"text-align: right;\">\n      <th></th>\n      <th>A</th>\n      <th>B</th>\n      <th>C</th>\n      <th>D</th>\n      <th>E</th>\n    </tr>\n  </thead>\n  <tbody>\n    <tr>\n      <th>0</th>\n      <td>one</td>\n      <td>A</td>\n      <td>foo</td>\n      <td>1</td>\n      <td>1</td>\n    </tr>\n    <tr>\n      <th>1</th>\n      <td>one</td>\n      <td>B</td>\n      <td>foo</td>\n      <td>2</td>\n      <td>2</td>\n    </tr>\n    <tr>\n      <th>2</th>\n      <td>two</td>\n      <td>C</td>\n      <td>foo</td>\n      <td>3</td>\n      <td>3</td>\n    </tr>\n    <tr>\n      <th>3</th>\n      <td>three</td>\n      <td>A</td>\n      <td>bar</td>\n      <td>4</td>\n      <td>4</td>\n    </tr>\n    <tr>\n      <th>4</th>\n      <td>one</td>\n      <td>B</td>\n      <td>bar</td>\n      <td>5</td>\n      <td>5</td>\n    </tr>\n    <tr>\n      <th>5</th>\n      <td>one</td>\n      <td>C</td>\n      <td>bar</td>\n      <td>6</td>\n      <td>6</td>\n    </tr>\n    <tr>\n      <th>6</th>\n      <td>two</td>\n      <td>A</td>\n      <td>foo</td>\n      <td>7</td>\n      <td>7</td>\n    </tr>\n    <tr>\n      <th>7</th>\n      <td>three</td>\n      <td>B</td>\n      <td>foo</td>\n      <td>8</td>\n      <td>8</td>\n    </tr>\n    <tr>\n      <th>8</th>\n      <td>one</td>\n      <td>C</td>\n      <td>foo</td>\n      <td>9</td>\n      <td>9</td>\n    </tr>\n    <tr>\n      <th>9</th>\n      <td>one</td>\n      <td>A</td>\n      <td>bar</td>\n      <td>10</td>\n      <td>10</td>\n    </tr>\n    <tr>\n      <th>10</th>\n      <td>two</td>\n      <td>B</td>\n      <td>bar</td>\n      <td>11</td>\n      <td>11</td>\n    </tr>\n    <tr>\n      <th>11</th>\n      <td>three</td>\n      <td>C</td>\n      <td>bar</td>\n      <td>12</td>\n      <td>12</td>\n    </tr>\n  </tbody>\n</table>\n</div>"
     },
     "execution_count": 339,
     "metadata": {},
     "output_type": "execute_result"
    }
   ],
   "source": [
    "df2 = pd.DataFrame(\n",
    "    {\n",
    "        \"A\": [\"one\", \"one\", \"two\", \"three\"] * 3,\n",
    "        \"B\": [\"A\", \"B\", \"C\"] * 4,\n",
    "        \"C\": [\"foo\", \"foo\", \"foo\", \"bar\", \"bar\", \"bar\"] * 2,\n",
    "        \"D\": np.arange(1,13),\n",
    "        \"E\": np.arange(1,13),\n",
    "    }\n",
    ")\n",
    "df2\n"
   ],
   "metadata": {
    "collapsed": false,
    "pycharm": {
     "name": "#%%\n"
    }
   }
  },
  {
   "cell_type": "code",
   "execution_count": 340,
   "outputs": [
    {
     "data": {
      "text/plain": "C         bar  foo\nA     B           \none   A  10.0  1.0\n      B   5.0  2.0\n      C   6.0  9.0\nthree A   4.0  NaN\n      B   NaN  8.0\n      C  12.0  NaN\ntwo   A   NaN  7.0\n      B  11.0  NaN\n      C   NaN  3.0",
      "text/html": "<div>\n<style scoped>\n    .dataframe tbody tr th:only-of-type {\n        vertical-align: middle;\n    }\n\n    .dataframe tbody tr th {\n        vertical-align: top;\n    }\n\n    .dataframe thead th {\n        text-align: right;\n    }\n</style>\n<table border=\"1\" class=\"dataframe\">\n  <thead>\n    <tr style=\"text-align: right;\">\n      <th></th>\n      <th>C</th>\n      <th>bar</th>\n      <th>foo</th>\n    </tr>\n    <tr>\n      <th>A</th>\n      <th>B</th>\n      <th></th>\n      <th></th>\n    </tr>\n  </thead>\n  <tbody>\n    <tr>\n      <th rowspan=\"3\" valign=\"top\">one</th>\n      <th>A</th>\n      <td>10.0</td>\n      <td>1.0</td>\n    </tr>\n    <tr>\n      <th>B</th>\n      <td>5.0</td>\n      <td>2.0</td>\n    </tr>\n    <tr>\n      <th>C</th>\n      <td>6.0</td>\n      <td>9.0</td>\n    </tr>\n    <tr>\n      <th rowspan=\"3\" valign=\"top\">three</th>\n      <th>A</th>\n      <td>4.0</td>\n      <td>NaN</td>\n    </tr>\n    <tr>\n      <th>B</th>\n      <td>NaN</td>\n      <td>8.0</td>\n    </tr>\n    <tr>\n      <th>C</th>\n      <td>12.0</td>\n      <td>NaN</td>\n    </tr>\n    <tr>\n      <th rowspan=\"3\" valign=\"top\">two</th>\n      <th>A</th>\n      <td>NaN</td>\n      <td>7.0</td>\n    </tr>\n    <tr>\n      <th>B</th>\n      <td>11.0</td>\n      <td>NaN</td>\n    </tr>\n    <tr>\n      <th>C</th>\n      <td>NaN</td>\n      <td>3.0</td>\n    </tr>\n  </tbody>\n</table>\n</div>"
     },
     "execution_count": 340,
     "metadata": {},
     "output_type": "execute_result"
    }
   ],
   "source": [
    "# todo:: check what is pivot table?\n",
    "pd.pivot_table(df2, values=\"D\", index=[\"A\", \"B\"], columns=[\"C\"])\n"
   ],
   "metadata": {
    "collapsed": false,
    "pycharm": {
     "name": "#%%\n"
    }
   }
  },
  {
   "cell_type": "markdown",
   "source": [
    "## Time series\n",
    "pandas has simple, powerful, and efficient functionality for performing resampling operations during frequency conversion (e.g., converting secondly data into 5-minutely data). This is extremely common in, but not limited to, financial applications. See the [Time Series section](https://pandas.pydata.org/docs/user_guide/timeseries.html#timeseries).\n"
   ],
   "metadata": {
    "collapsed": false,
    "pycharm": {
     "name": "#%% md\n"
    }
   }
  },
  {
   "cell_type": "code",
   "execution_count": 342,
   "outputs": [
    {
     "data": {
      "text/plain": "DatetimeIndex(['2023-01-01 00:00:00', '2023-01-01 00:00:01',\n               '2023-01-01 00:00:02', '2023-01-01 00:00:03',\n               '2023-01-01 00:00:04', '2023-01-01 00:00:05',\n               '2023-01-01 00:00:06', '2023-01-01 00:00:07',\n               '2023-01-01 00:00:08', '2023-01-01 00:00:09',\n               '2023-01-01 00:00:10', '2023-01-01 00:00:11',\n               '2023-01-01 00:00:12', '2023-01-01 00:00:13',\n               '2023-01-01 00:00:14', '2023-01-01 00:00:15',\n               '2023-01-01 00:00:16', '2023-01-01 00:00:17',\n               '2023-01-01 00:00:18', '2023-01-01 00:00:19',\n               '2023-01-01 00:00:20', '2023-01-01 00:00:21',\n               '2023-01-01 00:00:22', '2023-01-01 00:00:23',\n               '2023-01-01 00:00:24', '2023-01-01 00:00:25',\n               '2023-01-01 00:00:26', '2023-01-01 00:00:27',\n               '2023-01-01 00:00:28', '2023-01-01 00:00:29',\n               '2023-01-01 00:00:30', '2023-01-01 00:00:31',\n               '2023-01-01 00:00:32', '2023-01-01 00:00:33',\n               '2023-01-01 00:00:34', '2023-01-01 00:00:35',\n               '2023-01-01 00:00:36', '2023-01-01 00:00:37',\n               '2023-01-01 00:00:38', '2023-01-01 00:00:39',\n               '2023-01-01 00:00:40', '2023-01-01 00:00:41',\n               '2023-01-01 00:00:42', '2023-01-01 00:00:43',\n               '2023-01-01 00:00:44', '2023-01-01 00:00:45',\n               '2023-01-01 00:00:46', '2023-01-01 00:00:47',\n               '2023-01-01 00:00:48', '2023-01-01 00:00:49',\n               '2023-01-01 00:00:50', '2023-01-01 00:00:51',\n               '2023-01-01 00:00:52', '2023-01-01 00:00:53',\n               '2023-01-01 00:00:54', '2023-01-01 00:00:55',\n               '2023-01-01 00:00:56', '2023-01-01 00:00:57',\n               '2023-01-01 00:00:58', '2023-01-01 00:00:59',\n               '2023-01-01 00:01:00', '2023-01-01 00:01:01',\n               '2023-01-01 00:01:02', '2023-01-01 00:01:03',\n               '2023-01-01 00:01:04', '2023-01-01 00:01:05',\n               '2023-01-01 00:01:06', '2023-01-01 00:01:07',\n               '2023-01-01 00:01:08', '2023-01-01 00:01:09',\n               '2023-01-01 00:01:10', '2023-01-01 00:01:11',\n               '2023-01-01 00:01:12', '2023-01-01 00:01:13',\n               '2023-01-01 00:01:14', '2023-01-01 00:01:15',\n               '2023-01-01 00:01:16', '2023-01-01 00:01:17',\n               '2023-01-01 00:01:18', '2023-01-01 00:01:19',\n               '2023-01-01 00:01:20', '2023-01-01 00:01:21',\n               '2023-01-01 00:01:22', '2023-01-01 00:01:23',\n               '2023-01-01 00:01:24', '2023-01-01 00:01:25',\n               '2023-01-01 00:01:26', '2023-01-01 00:01:27',\n               '2023-01-01 00:01:28', '2023-01-01 00:01:29',\n               '2023-01-01 00:01:30', '2023-01-01 00:01:31',\n               '2023-01-01 00:01:32', '2023-01-01 00:01:33',\n               '2023-01-01 00:01:34', '2023-01-01 00:01:35',\n               '2023-01-01 00:01:36', '2023-01-01 00:01:37',\n               '2023-01-01 00:01:38', '2023-01-01 00:01:39'],\n              dtype='datetime64[ns]', freq='S')"
     },
     "execution_count": 342,
     "metadata": {},
     "output_type": "execute_result"
    }
   ],
   "source": [
    "rng = pd.date_range(\"1/1/2023\", periods=100, freq=\"S\")\n",
    "rng"
   ],
   "metadata": {
    "collapsed": false,
    "pycharm": {
     "name": "#%%\n"
    }
   }
  },
  {
   "cell_type": "code",
   "execution_count": 344,
   "outputs": [
    {
     "data": {
      "text/plain": "2023-01-01 00:00:00     66\n2023-01-01 00:00:01    342\n2023-01-01 00:00:02    444\n2023-01-01 00:00:03    211\n2023-01-01 00:00:04    308\n                      ... \n2023-01-01 00:01:35    402\n2023-01-01 00:01:36     82\n2023-01-01 00:01:37    390\n2023-01-01 00:01:38    230\n2023-01-01 00:01:39    397\nFreq: S, Length: 100, dtype: int32"
     },
     "execution_count": 344,
     "metadata": {},
     "output_type": "execute_result"
    }
   ],
   "source": [
    "ts = pd.Series(np.random.randint(0, 500, len(rng)), index=rng)\n",
    "ts"
   ],
   "metadata": {
    "collapsed": false,
    "pycharm": {
     "name": "#%%\n"
    }
   }
  },
  {
   "cell_type": "code",
   "execution_count": 355,
   "outputs": [
    {
     "data": {
      "text/plain": "2023-01-01 00:00:00    8423\n2023-01-01 00:00:30    6796\n2023-01-01 00:01:00    7074\n2023-01-01 00:01:30    3345\nFreq: 30S, dtype: int32"
     },
     "execution_count": 355,
     "metadata": {},
     "output_type": "execute_result"
    }
   ],
   "source": [
    "ts.resample(\"30S\").sum()\n"
   ],
   "metadata": {
    "collapsed": false,
    "pycharm": {
     "name": "#%%\n"
    }
   }
  },
  {
   "cell_type": "code",
   "execution_count": 357,
   "outputs": [
    {
     "data": {
      "text/plain": "2023-03-06    91\n2023-03-07    39\n2023-03-08    75\n2023-03-09    10\n2023-03-10    63\nFreq: D, dtype: int32"
     },
     "execution_count": 357,
     "metadata": {},
     "output_type": "execute_result"
    }
   ],
   "source": [
    "# Series.tz_localize() localizes a time series to a time zone:\n",
    "rng = pd.date_range(\"3/6/2023 00:00\", periods=5, freq=\"D\")\n",
    "ts = pd.Series( np.random.randint(0, 100, len(rng)), index=rng )\n",
    "ts\n"
   ],
   "metadata": {
    "collapsed": false,
    "pycharm": {
     "name": "#%%\n"
    }
   }
  },
  {
   "cell_type": "code",
   "execution_count": 360,
   "outputs": [
    {
     "data": {
      "text/plain": "['Africa/Abidjan',\n 'Africa/Accra',\n 'Africa/Addis_Ababa',\n 'Africa/Algiers',\n 'Africa/Asmara',\n 'Africa/Asmera',\n 'Africa/Bamako',\n 'Africa/Bangui',\n 'Africa/Banjul',\n 'Africa/Bissau',\n 'Africa/Blantyre',\n 'Africa/Brazzaville',\n 'Africa/Bujumbura',\n 'Africa/Cairo',\n 'Africa/Casablanca',\n 'Africa/Ceuta',\n 'Africa/Conakry',\n 'Africa/Dakar',\n 'Africa/Dar_es_Salaam',\n 'Africa/Djibouti',\n 'Africa/Douala',\n 'Africa/El_Aaiun',\n 'Africa/Freetown',\n 'Africa/Gaborone',\n 'Africa/Harare',\n 'Africa/Johannesburg',\n 'Africa/Juba',\n 'Africa/Kampala',\n 'Africa/Khartoum',\n 'Africa/Kigali',\n 'Africa/Kinshasa',\n 'Africa/Lagos',\n 'Africa/Libreville',\n 'Africa/Lome',\n 'Africa/Luanda',\n 'Africa/Lubumbashi',\n 'Africa/Lusaka',\n 'Africa/Malabo',\n 'Africa/Maputo',\n 'Africa/Maseru',\n 'Africa/Mbabane',\n 'Africa/Mogadishu',\n 'Africa/Monrovia',\n 'Africa/Nairobi',\n 'Africa/Ndjamena',\n 'Africa/Niamey',\n 'Africa/Nouakchott',\n 'Africa/Ouagadougou',\n 'Africa/Porto-Novo',\n 'Africa/Sao_Tome',\n 'Africa/Timbuktu',\n 'Africa/Tripoli',\n 'Africa/Tunis',\n 'Africa/Windhoek',\n 'America/Adak',\n 'America/Anchorage',\n 'America/Anguilla',\n 'America/Antigua',\n 'America/Araguaina',\n 'America/Argentina/Buenos_Aires',\n 'America/Argentina/Catamarca',\n 'America/Argentina/ComodRivadavia',\n 'America/Argentina/Cordoba',\n 'America/Argentina/Jujuy',\n 'America/Argentina/La_Rioja',\n 'America/Argentina/Mendoza',\n 'America/Argentina/Rio_Gallegos',\n 'America/Argentina/Salta',\n 'America/Argentina/San_Juan',\n 'America/Argentina/San_Luis',\n 'America/Argentina/Tucuman',\n 'America/Argentina/Ushuaia',\n 'America/Aruba',\n 'America/Asuncion',\n 'America/Atikokan',\n 'America/Atka',\n 'America/Bahia',\n 'America/Bahia_Banderas',\n 'America/Barbados',\n 'America/Belem',\n 'America/Belize',\n 'America/Blanc-Sablon',\n 'America/Boa_Vista',\n 'America/Bogota',\n 'America/Boise',\n 'America/Buenos_Aires',\n 'America/Cambridge_Bay',\n 'America/Campo_Grande',\n 'America/Cancun',\n 'America/Caracas',\n 'America/Catamarca',\n 'America/Cayenne',\n 'America/Cayman',\n 'America/Chicago',\n 'America/Chihuahua',\n 'America/Coral_Harbour',\n 'America/Cordoba',\n 'America/Costa_Rica',\n 'America/Creston',\n 'America/Cuiaba',\n 'America/Curacao',\n 'America/Danmarkshavn',\n 'America/Dawson',\n 'America/Dawson_Creek',\n 'America/Denver',\n 'America/Detroit',\n 'America/Dominica',\n 'America/Edmonton',\n 'America/Eirunepe',\n 'America/El_Salvador',\n 'America/Ensenada',\n 'America/Fort_Nelson',\n 'America/Fort_Wayne',\n 'America/Fortaleza',\n 'America/Glace_Bay',\n 'America/Godthab',\n 'America/Goose_Bay',\n 'America/Grand_Turk',\n 'America/Grenada',\n 'America/Guadeloupe',\n 'America/Guatemala',\n 'America/Guayaquil',\n 'America/Guyana',\n 'America/Halifax',\n 'America/Havana',\n 'America/Hermosillo',\n 'America/Indiana/Indianapolis',\n 'America/Indiana/Knox',\n 'America/Indiana/Marengo',\n 'America/Indiana/Petersburg',\n 'America/Indiana/Tell_City',\n 'America/Indiana/Vevay',\n 'America/Indiana/Vincennes',\n 'America/Indiana/Winamac',\n 'America/Indianapolis',\n 'America/Inuvik',\n 'America/Iqaluit',\n 'America/Jamaica',\n 'America/Jujuy',\n 'America/Juneau',\n 'America/Kentucky/Louisville',\n 'America/Kentucky/Monticello',\n 'America/Knox_IN',\n 'America/Kralendijk',\n 'America/La_Paz',\n 'America/Lima',\n 'America/Los_Angeles',\n 'America/Louisville',\n 'America/Lower_Princes',\n 'America/Maceio',\n 'America/Managua',\n 'America/Manaus',\n 'America/Marigot',\n 'America/Martinique',\n 'America/Matamoros',\n 'America/Mazatlan',\n 'America/Mendoza',\n 'America/Menominee',\n 'America/Merida',\n 'America/Metlakatla',\n 'America/Mexico_City',\n 'America/Miquelon',\n 'America/Moncton',\n 'America/Monterrey',\n 'America/Montevideo',\n 'America/Montreal',\n 'America/Montserrat',\n 'America/Nassau',\n 'America/New_York',\n 'America/Nipigon',\n 'America/Nome',\n 'America/Noronha',\n 'America/North_Dakota/Beulah',\n 'America/North_Dakota/Center',\n 'America/North_Dakota/New_Salem',\n 'America/Nuuk',\n 'America/Ojinaga',\n 'America/Panama',\n 'America/Pangnirtung',\n 'America/Paramaribo',\n 'America/Phoenix',\n 'America/Port-au-Prince',\n 'America/Port_of_Spain',\n 'America/Porto_Acre',\n 'America/Porto_Velho',\n 'America/Puerto_Rico',\n 'America/Punta_Arenas',\n 'America/Rainy_River',\n 'America/Rankin_Inlet',\n 'America/Recife',\n 'America/Regina',\n 'America/Resolute',\n 'America/Rio_Branco',\n 'America/Rosario',\n 'America/Santa_Isabel',\n 'America/Santarem',\n 'America/Santiago',\n 'America/Santo_Domingo',\n 'America/Sao_Paulo',\n 'America/Scoresbysund',\n 'America/Shiprock',\n 'America/Sitka',\n 'America/St_Barthelemy',\n 'America/St_Johns',\n 'America/St_Kitts',\n 'America/St_Lucia',\n 'America/St_Thomas',\n 'America/St_Vincent',\n 'America/Swift_Current',\n 'America/Tegucigalpa',\n 'America/Thule',\n 'America/Thunder_Bay',\n 'America/Tijuana',\n 'America/Toronto',\n 'America/Tortola',\n 'America/Vancouver',\n 'America/Virgin',\n 'America/Whitehorse',\n 'America/Winnipeg',\n 'America/Yakutat',\n 'America/Yellowknife',\n 'Antarctica/Casey',\n 'Antarctica/Davis',\n 'Antarctica/DumontDUrville',\n 'Antarctica/Macquarie',\n 'Antarctica/Mawson',\n 'Antarctica/McMurdo',\n 'Antarctica/Palmer',\n 'Antarctica/Rothera',\n 'Antarctica/South_Pole',\n 'Antarctica/Syowa',\n 'Antarctica/Troll',\n 'Antarctica/Vostok',\n 'Arctic/Longyearbyen',\n 'Asia/Aden',\n 'Asia/Almaty',\n 'Asia/Amman',\n 'Asia/Anadyr',\n 'Asia/Aqtau',\n 'Asia/Aqtobe',\n 'Asia/Ashgabat',\n 'Asia/Ashkhabad',\n 'Asia/Atyrau',\n 'Asia/Baghdad',\n 'Asia/Bahrain',\n 'Asia/Baku',\n 'Asia/Bangkok',\n 'Asia/Barnaul',\n 'Asia/Beirut',\n 'Asia/Bishkek',\n 'Asia/Brunei',\n 'Asia/Calcutta',\n 'Asia/Chita',\n 'Asia/Choibalsan',\n 'Asia/Chongqing',\n 'Asia/Chungking',\n 'Asia/Colombo',\n 'Asia/Dacca',\n 'Asia/Damascus',\n 'Asia/Dhaka',\n 'Asia/Dili',\n 'Asia/Dubai',\n 'Asia/Dushanbe',\n 'Asia/Famagusta',\n 'Asia/Gaza',\n 'Asia/Harbin',\n 'Asia/Hebron',\n 'Asia/Ho_Chi_Minh',\n 'Asia/Hong_Kong',\n 'Asia/Hovd',\n 'Asia/Irkutsk',\n 'Asia/Istanbul',\n 'Asia/Jakarta',\n 'Asia/Jayapura',\n 'Asia/Jerusalem',\n 'Asia/Kabul',\n 'Asia/Kamchatka',\n 'Asia/Karachi',\n 'Asia/Kashgar',\n 'Asia/Kathmandu',\n 'Asia/Katmandu',\n 'Asia/Khandyga',\n 'Asia/Kolkata',\n 'Asia/Krasnoyarsk',\n 'Asia/Kuala_Lumpur',\n 'Asia/Kuching',\n 'Asia/Kuwait',\n 'Asia/Macao',\n 'Asia/Macau',\n 'Asia/Magadan',\n 'Asia/Makassar',\n 'Asia/Manila',\n 'Asia/Muscat',\n 'Asia/Nicosia',\n 'Asia/Novokuznetsk',\n 'Asia/Novosibirsk',\n 'Asia/Omsk',\n 'Asia/Oral',\n 'Asia/Phnom_Penh',\n 'Asia/Pontianak',\n 'Asia/Pyongyang',\n 'Asia/Qatar',\n 'Asia/Qostanay',\n 'Asia/Qyzylorda',\n 'Asia/Rangoon',\n 'Asia/Riyadh',\n 'Asia/Saigon',\n 'Asia/Sakhalin',\n 'Asia/Samarkand',\n 'Asia/Seoul',\n 'Asia/Shanghai',\n 'Asia/Singapore',\n 'Asia/Srednekolymsk',\n 'Asia/Taipei',\n 'Asia/Tashkent',\n 'Asia/Tbilisi',\n 'Asia/Tehran',\n 'Asia/Tel_Aviv',\n 'Asia/Thimbu',\n 'Asia/Thimphu',\n 'Asia/Tokyo',\n 'Asia/Tomsk',\n 'Asia/Ujung_Pandang',\n 'Asia/Ulaanbaatar',\n 'Asia/Ulan_Bator',\n 'Asia/Urumqi',\n 'Asia/Ust-Nera',\n 'Asia/Vientiane',\n 'Asia/Vladivostok',\n 'Asia/Yakutsk',\n 'Asia/Yangon',\n 'Asia/Yekaterinburg',\n 'Asia/Yerevan',\n 'Atlantic/Azores',\n 'Atlantic/Bermuda',\n 'Atlantic/Canary',\n 'Atlantic/Cape_Verde',\n 'Atlantic/Faeroe',\n 'Atlantic/Faroe',\n 'Atlantic/Jan_Mayen',\n 'Atlantic/Madeira',\n 'Atlantic/Reykjavik',\n 'Atlantic/South_Georgia',\n 'Atlantic/St_Helena',\n 'Atlantic/Stanley',\n 'Australia/ACT',\n 'Australia/Adelaide',\n 'Australia/Brisbane',\n 'Australia/Broken_Hill',\n 'Australia/Canberra',\n 'Australia/Currie',\n 'Australia/Darwin',\n 'Australia/Eucla',\n 'Australia/Hobart',\n 'Australia/LHI',\n 'Australia/Lindeman',\n 'Australia/Lord_Howe',\n 'Australia/Melbourne',\n 'Australia/NSW',\n 'Australia/North',\n 'Australia/Perth',\n 'Australia/Queensland',\n 'Australia/South',\n 'Australia/Sydney',\n 'Australia/Tasmania',\n 'Australia/Victoria',\n 'Australia/West',\n 'Australia/Yancowinna',\n 'Brazil/Acre',\n 'Brazil/DeNoronha',\n 'Brazil/East',\n 'Brazil/West',\n 'CET',\n 'CST6CDT',\n 'Canada/Atlantic',\n 'Canada/Central',\n 'Canada/Eastern',\n 'Canada/Mountain',\n 'Canada/Newfoundland',\n 'Canada/Pacific',\n 'Canada/Saskatchewan',\n 'Canada/Yukon',\n 'Chile/Continental',\n 'Chile/EasterIsland',\n 'Cuba',\n 'EET',\n 'EST',\n 'EST5EDT',\n 'Egypt',\n 'Eire',\n 'Etc/GMT',\n 'Etc/GMT+0',\n 'Etc/GMT+1',\n 'Etc/GMT+10',\n 'Etc/GMT+11',\n 'Etc/GMT+12',\n 'Etc/GMT+2',\n 'Etc/GMT+3',\n 'Etc/GMT+4',\n 'Etc/GMT+5',\n 'Etc/GMT+6',\n 'Etc/GMT+7',\n 'Etc/GMT+8',\n 'Etc/GMT+9',\n 'Etc/GMT-0',\n 'Etc/GMT-1',\n 'Etc/GMT-10',\n 'Etc/GMT-11',\n 'Etc/GMT-12',\n 'Etc/GMT-13',\n 'Etc/GMT-14',\n 'Etc/GMT-2',\n 'Etc/GMT-3',\n 'Etc/GMT-4',\n 'Etc/GMT-5',\n 'Etc/GMT-6',\n 'Etc/GMT-7',\n 'Etc/GMT-8',\n 'Etc/GMT-9',\n 'Etc/GMT0',\n 'Etc/Greenwich',\n 'Etc/UCT',\n 'Etc/UTC',\n 'Etc/Universal',\n 'Etc/Zulu',\n 'Europe/Amsterdam',\n 'Europe/Andorra',\n 'Europe/Astrakhan',\n 'Europe/Athens',\n 'Europe/Belfast',\n 'Europe/Belgrade',\n 'Europe/Berlin',\n 'Europe/Bratislava',\n 'Europe/Brussels',\n 'Europe/Bucharest',\n 'Europe/Budapest',\n 'Europe/Busingen',\n 'Europe/Chisinau',\n 'Europe/Copenhagen',\n 'Europe/Dublin',\n 'Europe/Gibraltar',\n 'Europe/Guernsey',\n 'Europe/Helsinki',\n 'Europe/Isle_of_Man',\n 'Europe/Istanbul',\n 'Europe/Jersey',\n 'Europe/Kaliningrad',\n 'Europe/Kiev',\n 'Europe/Kirov',\n 'Europe/Lisbon',\n 'Europe/Ljubljana',\n 'Europe/London',\n 'Europe/Luxembourg',\n 'Europe/Madrid',\n 'Europe/Malta',\n 'Europe/Mariehamn',\n 'Europe/Minsk',\n 'Europe/Monaco',\n 'Europe/Moscow',\n 'Europe/Nicosia',\n 'Europe/Oslo',\n 'Europe/Paris',\n 'Europe/Podgorica',\n 'Europe/Prague',\n 'Europe/Riga',\n 'Europe/Rome',\n 'Europe/Samara',\n 'Europe/San_Marino',\n 'Europe/Sarajevo',\n 'Europe/Saratov',\n 'Europe/Simferopol',\n 'Europe/Skopje',\n 'Europe/Sofia',\n 'Europe/Stockholm',\n 'Europe/Tallinn',\n 'Europe/Tirane',\n 'Europe/Tiraspol',\n 'Europe/Ulyanovsk',\n 'Europe/Uzhgorod',\n 'Europe/Vaduz',\n 'Europe/Vatican',\n 'Europe/Vienna',\n 'Europe/Vilnius',\n 'Europe/Volgograd',\n 'Europe/Warsaw',\n 'Europe/Zagreb',\n 'Europe/Zaporozhye',\n 'Europe/Zurich',\n 'GB',\n 'GB-Eire',\n 'GMT',\n 'GMT+0',\n 'GMT-0',\n 'GMT0',\n 'Greenwich',\n 'HST',\n 'Hongkong',\n 'Iceland',\n 'Indian/Antananarivo',\n 'Indian/Chagos',\n 'Indian/Christmas',\n 'Indian/Cocos',\n 'Indian/Comoro',\n 'Indian/Kerguelen',\n 'Indian/Mahe',\n 'Indian/Maldives',\n 'Indian/Mauritius',\n 'Indian/Mayotte',\n 'Indian/Reunion',\n 'Iran',\n 'Israel',\n 'Jamaica',\n 'Japan',\n 'Kwajalein',\n 'Libya',\n 'MET',\n 'MST',\n 'MST7MDT',\n 'Mexico/BajaNorte',\n 'Mexico/BajaSur',\n 'Mexico/General',\n 'NZ',\n 'NZ-CHAT',\n 'Navajo',\n 'PRC',\n 'PST8PDT',\n 'Pacific/Apia',\n 'Pacific/Auckland',\n 'Pacific/Bougainville',\n 'Pacific/Chatham',\n 'Pacific/Chuuk',\n 'Pacific/Easter',\n 'Pacific/Efate',\n 'Pacific/Enderbury',\n 'Pacific/Fakaofo',\n 'Pacific/Fiji',\n 'Pacific/Funafuti',\n 'Pacific/Galapagos',\n 'Pacific/Gambier',\n 'Pacific/Guadalcanal',\n 'Pacific/Guam',\n 'Pacific/Honolulu',\n 'Pacific/Johnston',\n 'Pacific/Kanton',\n 'Pacific/Kiritimati',\n 'Pacific/Kosrae',\n 'Pacific/Kwajalein',\n 'Pacific/Majuro',\n 'Pacific/Marquesas',\n 'Pacific/Midway',\n 'Pacific/Nauru',\n 'Pacific/Niue',\n 'Pacific/Norfolk',\n 'Pacific/Noumea',\n 'Pacific/Pago_Pago',\n 'Pacific/Palau',\n 'Pacific/Pitcairn',\n 'Pacific/Pohnpei',\n 'Pacific/Ponape',\n 'Pacific/Port_Moresby',\n 'Pacific/Rarotonga',\n 'Pacific/Saipan',\n 'Pacific/Samoa',\n 'Pacific/Tahiti',\n 'Pacific/Tarawa',\n 'Pacific/Tongatapu',\n 'Pacific/Truk',\n 'Pacific/Wake',\n 'Pacific/Wallis',\n 'Pacific/Yap',\n 'Poland',\n 'Portugal',\n 'ROC',\n 'ROK',\n 'Singapore',\n 'Turkey',\n 'UCT',\n 'US/Alaska',\n 'US/Aleutian',\n 'US/Arizona',\n 'US/Central',\n 'US/East-Indiana',\n 'US/Eastern',\n 'US/Hawaii',\n 'US/Indiana-Starke',\n 'US/Michigan',\n 'US/Mountain',\n 'US/Pacific',\n 'US/Samoa',\n 'UTC',\n 'Universal',\n 'W-SU',\n 'WET',\n 'Zulu']"
     },
     "execution_count": 360,
     "metadata": {},
     "output_type": "execute_result"
    }
   ],
   "source": [
    "import pytz\n",
    "pytz.all_timezones"
   ],
   "metadata": {
    "collapsed": false,
    "pycharm": {
     "name": "#%%\n"
    }
   }
  },
  {
   "cell_type": "code",
   "execution_count": 361,
   "outputs": [
    {
     "data": {
      "text/plain": "2023-03-06 00:00:00+05:00    91\n2023-03-07 00:00:00+05:00    39\n2023-03-08 00:00:00+05:00    75\n2023-03-09 00:00:00+05:00    10\n2023-03-10 00:00:00+05:00    63\ndtype: int32"
     },
     "execution_count": 361,
     "metadata": {},
     "output_type": "execute_result"
    }
   ],
   "source": [
    "ts_utc = ts.tz_localize(pytz.timezone('Asia/Tashkent'))\n",
    "ts_utc"
   ],
   "metadata": {
    "collapsed": false,
    "pycharm": {
     "name": "#%%\n"
    }
   }
  },
  {
   "cell_type": "code",
   "execution_count": null,
   "outputs": [],
   "source": [],
   "metadata": {
    "collapsed": false,
    "pycharm": {
     "name": "#%%\n"
    }
   }
  }
 ],
 "metadata": {
  "kernelspec": {
   "display_name": "Python 3",
   "language": "python",
   "name": "python3"
  },
  "language_info": {
   "codemirror_mode": {
    "name": "ipython",
    "version": 2
   },
   "file_extension": ".py",
   "mimetype": "text/x-python",
   "name": "python",
   "nbconvert_exporter": "python",
   "pygments_lexer": "ipython2",
   "version": "2.7.6"
  }
 },
 "nbformat": 4,
 "nbformat_minor": 0
}