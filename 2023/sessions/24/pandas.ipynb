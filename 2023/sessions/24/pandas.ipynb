{
 "cells": [
  {
   "cell_type": "code",
   "execution_count": 1,
   "outputs": [],
   "source": [
    "import pandas as pd\n",
    "import numpy as np\n"
   ],
   "metadata": {
    "collapsed": false,
    "pycharm": {
     "name": "#%%\n"
    }
   }
  },
  {
   "cell_type": "code",
   "execution_count": 3,
   "outputs": [
    {
     "data": {
      "text/plain": "0    2.0\n1    3.0\n2    NaN\n3    4.0\n4    5.0\n5    6.0\n6    7.0\n7    8.0\n8    9.0\ndtype: float64"
     },
     "execution_count": 3,
     "metadata": {},
     "output_type": "execute_result"
    }
   ],
   "source": [
    "# object creation\n",
    "s = pd.Series([2,3,np.nan, 4,5,6,7,8,9])\n",
    "s\n"
   ],
   "metadata": {
    "collapsed": false,
    "pycharm": {
     "name": "#%%\n"
    }
   }
  },
  {
   "cell_type": "code",
   "execution_count": 5,
   "outputs": [
    {
     "data": {
      "text/plain": "DatetimeIndex(['2023-01-01', '2023-01-02', '2023-01-03', '2023-01-04',\n               '2023-01-05', '2023-01-06', '2023-01-07', '2023-01-08',\n               '2023-01-09', '2023-01-10', '2023-01-11', '2023-01-12',\n               '2023-01-13', '2023-01-14', '2023-01-15', '2023-01-16',\n               '2023-01-17', '2023-01-18', '2023-01-19', '2023-01-20'],\n              dtype='datetime64[ns]', freq='D')"
     },
     "execution_count": 5,
     "metadata": {},
     "output_type": "execute_result"
    }
   ],
   "source": [
    "dates = pd.date_range(\"20230101\", periods=20)\n",
    "dates\n"
   ],
   "metadata": {
    "collapsed": false,
    "pycharm": {
     "name": "#%%\n"
    }
   }
  },
  {
   "cell_type": "code",
   "execution_count": 8,
   "outputs": [
    {
     "data": {
      "text/plain": "                   A         B         C         D\n2023-01-01  0.969244 -0.275383  0.472920  0.913498\n2023-01-02 -0.742519  1.198160  0.158542  0.022001\n2023-01-03  1.701510 -0.003072  0.461254  0.468313\n2023-01-04  0.280510 -0.737603 -0.064989 -1.344459\n2023-01-05 -0.258890 -0.060425 -2.823442 -1.517649\n2023-01-06 -1.737499  0.470024  1.606774 -0.211318\n2023-01-07 -1.616904 -0.742504  0.024770 -0.033910\n2023-01-08 -0.860648 -0.079177  1.357355  0.199488\n2023-01-09  0.847035  1.660792  1.612657 -0.531548\n2023-01-10 -1.300168  0.057380  0.318083 -1.106126\n2023-01-11 -2.911141  0.039498 -1.012401 -0.917399\n2023-01-12 -0.613194 -0.103776  0.011891 -0.378094\n2023-01-13  1.280489  1.334041  0.058914  0.125265\n2023-01-14  0.653830  1.048530 -0.184511 -0.262399\n2023-01-15 -0.721583 -1.207847  0.577291 -1.243151\n2023-01-16  0.634939 -0.298520 -0.991224 -0.871550\n2023-01-17 -0.591964  0.436926 -0.311377  1.804791\n2023-01-18  1.204392  0.421123 -0.279040 -1.854771\n2023-01-19  1.097515  1.039644  0.765778 -0.199468\n2023-01-20 -0.014306 -0.368703 -0.637829 -0.705589",
      "text/html": "<div>\n<style scoped>\n    .dataframe tbody tr th:only-of-type {\n        vertical-align: middle;\n    }\n\n    .dataframe tbody tr th {\n        vertical-align: top;\n    }\n\n    .dataframe thead th {\n        text-align: right;\n    }\n</style>\n<table border=\"1\" class=\"dataframe\">\n  <thead>\n    <tr style=\"text-align: right;\">\n      <th></th>\n      <th>A</th>\n      <th>B</th>\n      <th>C</th>\n      <th>D</th>\n    </tr>\n  </thead>\n  <tbody>\n    <tr>\n      <th>2023-01-01</th>\n      <td>0.969244</td>\n      <td>-0.275383</td>\n      <td>0.472920</td>\n      <td>0.913498</td>\n    </tr>\n    <tr>\n      <th>2023-01-02</th>\n      <td>-0.742519</td>\n      <td>1.198160</td>\n      <td>0.158542</td>\n      <td>0.022001</td>\n    </tr>\n    <tr>\n      <th>2023-01-03</th>\n      <td>1.701510</td>\n      <td>-0.003072</td>\n      <td>0.461254</td>\n      <td>0.468313</td>\n    </tr>\n    <tr>\n      <th>2023-01-04</th>\n      <td>0.280510</td>\n      <td>-0.737603</td>\n      <td>-0.064989</td>\n      <td>-1.344459</td>\n    </tr>\n    <tr>\n      <th>2023-01-05</th>\n      <td>-0.258890</td>\n      <td>-0.060425</td>\n      <td>-2.823442</td>\n      <td>-1.517649</td>\n    </tr>\n    <tr>\n      <th>2023-01-06</th>\n      <td>-1.737499</td>\n      <td>0.470024</td>\n      <td>1.606774</td>\n      <td>-0.211318</td>\n    </tr>\n    <tr>\n      <th>2023-01-07</th>\n      <td>-1.616904</td>\n      <td>-0.742504</td>\n      <td>0.024770</td>\n      <td>-0.033910</td>\n    </tr>\n    <tr>\n      <th>2023-01-08</th>\n      <td>-0.860648</td>\n      <td>-0.079177</td>\n      <td>1.357355</td>\n      <td>0.199488</td>\n    </tr>\n    <tr>\n      <th>2023-01-09</th>\n      <td>0.847035</td>\n      <td>1.660792</td>\n      <td>1.612657</td>\n      <td>-0.531548</td>\n    </tr>\n    <tr>\n      <th>2023-01-10</th>\n      <td>-1.300168</td>\n      <td>0.057380</td>\n      <td>0.318083</td>\n      <td>-1.106126</td>\n    </tr>\n    <tr>\n      <th>2023-01-11</th>\n      <td>-2.911141</td>\n      <td>0.039498</td>\n      <td>-1.012401</td>\n      <td>-0.917399</td>\n    </tr>\n    <tr>\n      <th>2023-01-12</th>\n      <td>-0.613194</td>\n      <td>-0.103776</td>\n      <td>0.011891</td>\n      <td>-0.378094</td>\n    </tr>\n    <tr>\n      <th>2023-01-13</th>\n      <td>1.280489</td>\n      <td>1.334041</td>\n      <td>0.058914</td>\n      <td>0.125265</td>\n    </tr>\n    <tr>\n      <th>2023-01-14</th>\n      <td>0.653830</td>\n      <td>1.048530</td>\n      <td>-0.184511</td>\n      <td>-0.262399</td>\n    </tr>\n    <tr>\n      <th>2023-01-15</th>\n      <td>-0.721583</td>\n      <td>-1.207847</td>\n      <td>0.577291</td>\n      <td>-1.243151</td>\n    </tr>\n    <tr>\n      <th>2023-01-16</th>\n      <td>0.634939</td>\n      <td>-0.298520</td>\n      <td>-0.991224</td>\n      <td>-0.871550</td>\n    </tr>\n    <tr>\n      <th>2023-01-17</th>\n      <td>-0.591964</td>\n      <td>0.436926</td>\n      <td>-0.311377</td>\n      <td>1.804791</td>\n    </tr>\n    <tr>\n      <th>2023-01-18</th>\n      <td>1.204392</td>\n      <td>0.421123</td>\n      <td>-0.279040</td>\n      <td>-1.854771</td>\n    </tr>\n    <tr>\n      <th>2023-01-19</th>\n      <td>1.097515</td>\n      <td>1.039644</td>\n      <td>0.765778</td>\n      <td>-0.199468</td>\n    </tr>\n    <tr>\n      <th>2023-01-20</th>\n      <td>-0.014306</td>\n      <td>-0.368703</td>\n      <td>-0.637829</td>\n      <td>-0.705589</td>\n    </tr>\n  </tbody>\n</table>\n</div>"
     },
     "execution_count": 8,
     "metadata": {},
     "output_type": "execute_result"
    }
   ],
   "source": [
    "df = pd.DataFrame(np.random.randn(20,4), index=dates, columns=list(\"ABCD\"))\n",
    "df\n"
   ],
   "metadata": {
    "collapsed": false,
    "pycharm": {
     "name": "#%%\n"
    }
   }
  },
  {
   "cell_type": "code",
   "execution_count": 9,
   "outputs": [
    {
     "data": {
      "text/plain": "1"
     },
     "execution_count": 9,
     "metadata": {},
     "output_type": "execute_result"
    }
   ],
   "source": [
    "dates.ndim\n"
   ],
   "metadata": {
    "collapsed": false,
    "pycharm": {
     "name": "#%%\n"
    }
   }
  },
  {
   "cell_type": "code",
   "execution_count": 10,
   "outputs": [
    {
     "data": {
      "text/plain": "DatetimeIndex(['2023-01-01', '2023-01-02', '2023-01-03', '2023-01-04',\n               '2023-01-05', '2023-01-06', '2023-01-07', '2023-01-08',\n               '2023-01-09', '2023-01-10', '2023-01-11', '2023-01-12',\n               '2023-01-13', '2023-01-14', '2023-01-15', '2023-01-16',\n               '2023-01-17', '2023-01-18', '2023-01-19', '2023-01-20'],\n              dtype='datetime64[ns]', freq='D')"
     },
     "execution_count": 10,
     "metadata": {},
     "output_type": "execute_result"
    }
   ],
   "source": [
    "dates\n"
   ],
   "metadata": {
    "collapsed": false,
    "pycharm": {
     "name": "#%%\n"
    }
   }
  },
  {
   "cell_type": "code",
   "execution_count": 11,
   "outputs": [
    {
     "data": {
      "text/plain": "dtype('<M8[ns]')"
     },
     "execution_count": 11,
     "metadata": {},
     "output_type": "execute_result"
    }
   ],
   "source": [
    "dates.dtype\n"
   ],
   "metadata": {
    "collapsed": false,
    "pycharm": {
     "name": "#%%\n"
    }
   }
  },
  {
   "cell_type": "code",
   "execution_count": 14,
   "outputs": [
    {
     "data": {
      "text/plain": "     A          B    C  D      E    F\n0  1.0 2013-01-02  1.0  3   test  foo\n1  1.0 2013-01-02  1.0  3  train  foo\n2  1.0 2013-01-02  1.0  3   test  foo\n3  1.0 2013-01-02  1.0  3  train  foo",
      "text/html": "<div>\n<style scoped>\n    .dataframe tbody tr th:only-of-type {\n        vertical-align: middle;\n    }\n\n    .dataframe tbody tr th {\n        vertical-align: top;\n    }\n\n    .dataframe thead th {\n        text-align: right;\n    }\n</style>\n<table border=\"1\" class=\"dataframe\">\n  <thead>\n    <tr style=\"text-align: right;\">\n      <th></th>\n      <th>A</th>\n      <th>B</th>\n      <th>C</th>\n      <th>D</th>\n      <th>E</th>\n      <th>F</th>\n    </tr>\n  </thead>\n  <tbody>\n    <tr>\n      <th>0</th>\n      <td>1.0</td>\n      <td>2013-01-02</td>\n      <td>1.0</td>\n      <td>3</td>\n      <td>test</td>\n      <td>foo</td>\n    </tr>\n    <tr>\n      <th>1</th>\n      <td>1.0</td>\n      <td>2013-01-02</td>\n      <td>1.0</td>\n      <td>3</td>\n      <td>train</td>\n      <td>foo</td>\n    </tr>\n    <tr>\n      <th>2</th>\n      <td>1.0</td>\n      <td>2013-01-02</td>\n      <td>1.0</td>\n      <td>3</td>\n      <td>test</td>\n      <td>foo</td>\n    </tr>\n    <tr>\n      <th>3</th>\n      <td>1.0</td>\n      <td>2013-01-02</td>\n      <td>1.0</td>\n      <td>3</td>\n      <td>train</td>\n      <td>foo</td>\n    </tr>\n  </tbody>\n</table>\n</div>"
     },
     "execution_count": 14,
     "metadata": {},
     "output_type": "execute_result"
    }
   ],
   "source": [
    "df2 = pd.DataFrame(\n",
    "    {\n",
    "        \"A\": 1.0,\n",
    "        \"B\": pd.Timestamp(\"20130102\"),\n",
    "        \"C\": pd.Series(1, index=list(range(4)), dtype=\"float32\"),\n",
    "        \"D\": np.array([3]*4, dtype=\"int32\"),\n",
    "        \"E\": pd.Categorical([\"test\", \"train\", \"test\", \"train\"]),\n",
    "        \"F\": \"foo\"\n",
    "    }\n",
    ")\n",
    "df2\n"
   ],
   "metadata": {
    "collapsed": false,
    "pycharm": {
     "name": "#%%\n"
    }
   }
  },
  {
   "cell_type": "code",
   "execution_count": null,
   "outputs": [],
   "source": [],
   "metadata": {
    "collapsed": false,
    "pycharm": {
     "name": "#%%\n"
    }
   }
  }
 ],
 "metadata": {
  "kernelspec": {
   "display_name": "Python 3",
   "language": "python",
   "name": "python3"
  },
  "language_info": {
   "codemirror_mode": {
    "name": "ipython",
    "version": 2
   },
   "file_extension": ".py",
   "mimetype": "text/x-python",
   "name": "python",
   "nbconvert_exporter": "python",
   "pygments_lexer": "ipython2",
   "version": "2.7.6"
  }
 },
 "nbformat": 4,
 "nbformat_minor": 0
}