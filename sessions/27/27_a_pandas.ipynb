{
 "cells": [
  {
   "cell_type": "markdown",
   "metadata": {
    "collapsed": true,
    "pycharm": {
     "name": "#%% md\n"
    }
   },
   "source": [
    "# Steps to Data Manipulation\n",
    "1. Data Collection\n",
    "2. Data Wrangling\n",
    "    1. Cleaning\n",
    "    2. Filtering\n",
    "    3. Ignoring/deleting\n",
    "    4. Arrange/join\n",
    "    5. Combining\n",
    "    6. Splitting\n",
    "    7. Calculating Missing Data\n",
    "    8. Removing Duplicates\n",
    "    9. Scrapping\n",
    "3. Final Data (Ready for analysis)\n",
    "4. Drawing Plots or Reports\n",
    "5. Presenting Data"
   ]
  },
  {
   "cell_type": "markdown",
   "source": [
    "# Types of Analytics\n",
    "- Descriptive Analytics: What happened?\n",
    "- Diagnostic Analytcis: Why did it happen?\n",
    "- Predictive Analytics: What is likely to happen in the future?\n",
    "- Prescriptive Analytics: What is the best course of action to take?"
   ],
   "metadata": {
    "collapsed": false,
    "pycharm": {
     "name": "#%% md\n"
    }
   }
  }
 ],
 "metadata": {
  "kernelspec": {
   "display_name": "Python 3",
   "language": "python",
   "name": "python3"
  },
  "language_info": {
   "codemirror_mode": {
    "name": "ipython",
    "version": 2
   },
   "file_extension": ".py",
   "mimetype": "text/x-python",
   "name": "python",
   "nbconvert_exporter": "python",
   "pygments_lexer": "ipython2",
   "version": "2.7.6"
  }
 },
 "nbformat": 4,
 "nbformat_minor": 0
}