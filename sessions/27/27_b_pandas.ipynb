{
 "cells": [
  {
   "cell_type": "markdown",
   "metadata": {
    "collapsed": true,
    "pycharm": {
     "name": "#%% md\n"
    }
   },
   "source": [
    "# Learning Pandas With Dr. Ammar Tufail"
   ]
  },
  {
   "cell_type": "code",
   "execution_count": 76,
   "metadata": {
    "collapsed": false,
    "pycharm": {
     "name": "#%%\n"
    }
   },
   "outputs": [],
   "source": [
    "import numpy as np\n",
    "# import libraries\n",
    "import pandas as pd"
   ]
  },
  {
   "cell_type": "code",
   "execution_count": 77,
   "metadata": {
    "collapsed": false,
    "pycharm": {
     "name": "#%%\n"
    }
   },
   "outputs": [
    {
     "data": {
      "text/plain": "0    1.0\n1    3.0\n2    NaN\n3    5.0\n4    7.0\n5    8.0\n6    9.0\ndtype: float64"
     },
     "execution_count": 77,
     "metadata": {},
     "output_type": "execute_result"
    }
   ],
   "source": [
    "# Object Creation\n",
    "sample_series = pd.Series([1, 3, np.nan, 5, 7, 8, 9])\n",
    "sample_series"
   ]
  },
  {
   "cell_type": "code",
   "execution_count": 78,
   "metadata": {
    "collapsed": false,
    "pycharm": {
     "name": "#%%\n"
    }
   },
   "outputs": [
    {
     "data": {
      "text/plain": "DatetimeIndex(['2022-01-01', '2022-01-02', '2022-01-03', '2022-01-04',\n               '2022-01-05', '2022-01-06', '2022-01-07', '2022-01-08',\n               '2022-01-09', '2022-01-10', '2022-01-11', '2022-01-12',\n               '2022-01-13', '2022-01-14', '2022-01-15', '2022-01-16',\n               '2022-01-17', '2022-01-18', '2022-01-19', '2022-01-20'],\n              dtype='datetime64[ns]', freq='D')"
     },
     "execution_count": 78,
     "metadata": {},
     "output_type": "execute_result"
    }
   ],
   "source": [
    "# Creating date range by pandas\n",
    "dates = pd.date_range(\"20220101\", periods=20)\n",
    "dates"
   ]
  },
  {
   "cell_type": "code",
   "execution_count": 79,
   "metadata": {
    "collapsed": false,
    "pycharm": {
     "name": "#%%\n"
    }
   },
   "outputs": [
    {
     "data": {
      "text/plain": "array([[-1.06301134,  0.46089624, -1.7789289 ,  0.84887228],\n       [-0.57892716,  0.95001586, -0.62506204, -1.28478935],\n       [ 1.84199174, -0.24165677, -1.03196933,  0.67833603],\n       [-0.75409569,  1.33108553,  0.9652746 , -0.74313757],\n       [ 1.00309225, -1.28559331,  0.19952747, -1.1490591 ],\n       [-0.39305088, -0.57199408,  0.83360896, -0.12616482],\n       [ 0.08352278, -0.26640556,  0.81618058,  1.38926521],\n       [ 0.0192892 , -1.89235129, -1.67272372,  0.46975966],\n       [-0.27350248,  0.52018485, -0.84996835,  1.05416889],\n       [-1.10967097,  1.33774475,  0.34733211, -0.51797207],\n       [-1.26363632,  1.04786057,  0.78790717,  0.71313271],\n       [-1.37631508,  0.96965598,  1.44984103, -0.6429145 ],\n       [ 1.81216367, -2.70219848,  1.17294909, -0.38529561],\n       [-0.32859365,  0.37164506,  1.02751473, -0.86967547],\n       [ 0.01101568,  0.08884473,  0.91504808, -0.86505108],\n       [ 1.13889745, -0.65602376,  1.38234912, -0.19966093],\n       [-2.33922004,  2.03671186,  0.87393015, -0.07260258],\n       [-1.696726  , -0.35215788, -0.21830029,  1.90524774],\n       [ 0.28630631,  0.06227838, -0.37884037,  0.40613377],\n       [-0.61162289,  0.98553776,  0.92437121,  1.06787892]])"
     },
     "execution_count": 79,
     "metadata": {},
     "output_type": "execute_result"
    }
   ],
   "source": [
    "# Create a 2 dimensional array by using numpy random.randn function\n",
    "random_array = np.random.randn(20, 4)\n",
    "random_array"
   ]
  },
  {
   "cell_type": "code",
   "execution_count": 80,
   "metadata": {
    "collapsed": false,
    "pycharm": {
     "name": "#%%\n"
    }
   },
   "outputs": [
    {
     "data": {
      "text/plain": "                   A         B         C         D\n2022-01-01 -1.063011  0.460896 -1.778929  0.848872\n2022-01-02 -0.578927  0.950016 -0.625062 -1.284789\n2022-01-03  1.841992 -0.241657 -1.031969  0.678336\n2022-01-04 -0.754096  1.331086  0.965275 -0.743138\n2022-01-05  1.003092 -1.285593  0.199527 -1.149059\n2022-01-06 -0.393051 -0.571994  0.833609 -0.126165\n2022-01-07  0.083523 -0.266406  0.816181  1.389265\n2022-01-08  0.019289 -1.892351 -1.672724  0.469760\n2022-01-09 -0.273502  0.520185 -0.849968  1.054169\n2022-01-10 -1.109671  1.337745  0.347332 -0.517972\n2022-01-11 -1.263636  1.047861  0.787907  0.713133\n2022-01-12 -1.376315  0.969656  1.449841 -0.642914\n2022-01-13  1.812164 -2.702198  1.172949 -0.385296\n2022-01-14 -0.328594  0.371645  1.027515 -0.869675\n2022-01-15  0.011016  0.088845  0.915048 -0.865051\n2022-01-16  1.138897 -0.656024  1.382349 -0.199661\n2022-01-17 -2.339220  2.036712  0.873930 -0.072603\n2022-01-18 -1.696726 -0.352158 -0.218300  1.905248\n2022-01-19  0.286306  0.062278 -0.378840  0.406134\n2022-01-20 -0.611623  0.985538  0.924371  1.067879",
      "text/html": "<div>\n<style scoped>\n    .dataframe tbody tr th:only-of-type {\n        vertical-align: middle;\n    }\n\n    .dataframe tbody tr th {\n        vertical-align: top;\n    }\n\n    .dataframe thead th {\n        text-align: right;\n    }\n</style>\n<table border=\"1\" class=\"dataframe\">\n  <thead>\n    <tr style=\"text-align: right;\">\n      <th></th>\n      <th>A</th>\n      <th>B</th>\n      <th>C</th>\n      <th>D</th>\n    </tr>\n  </thead>\n  <tbody>\n    <tr>\n      <th>2022-01-01</th>\n      <td>-1.063011</td>\n      <td>0.460896</td>\n      <td>-1.778929</td>\n      <td>0.848872</td>\n    </tr>\n    <tr>\n      <th>2022-01-02</th>\n      <td>-0.578927</td>\n      <td>0.950016</td>\n      <td>-0.625062</td>\n      <td>-1.284789</td>\n    </tr>\n    <tr>\n      <th>2022-01-03</th>\n      <td>1.841992</td>\n      <td>-0.241657</td>\n      <td>-1.031969</td>\n      <td>0.678336</td>\n    </tr>\n    <tr>\n      <th>2022-01-04</th>\n      <td>-0.754096</td>\n      <td>1.331086</td>\n      <td>0.965275</td>\n      <td>-0.743138</td>\n    </tr>\n    <tr>\n      <th>2022-01-05</th>\n      <td>1.003092</td>\n      <td>-1.285593</td>\n      <td>0.199527</td>\n      <td>-1.149059</td>\n    </tr>\n    <tr>\n      <th>2022-01-06</th>\n      <td>-0.393051</td>\n      <td>-0.571994</td>\n      <td>0.833609</td>\n      <td>-0.126165</td>\n    </tr>\n    <tr>\n      <th>2022-01-07</th>\n      <td>0.083523</td>\n      <td>-0.266406</td>\n      <td>0.816181</td>\n      <td>1.389265</td>\n    </tr>\n    <tr>\n      <th>2022-01-08</th>\n      <td>0.019289</td>\n      <td>-1.892351</td>\n      <td>-1.672724</td>\n      <td>0.469760</td>\n    </tr>\n    <tr>\n      <th>2022-01-09</th>\n      <td>-0.273502</td>\n      <td>0.520185</td>\n      <td>-0.849968</td>\n      <td>1.054169</td>\n    </tr>\n    <tr>\n      <th>2022-01-10</th>\n      <td>-1.109671</td>\n      <td>1.337745</td>\n      <td>0.347332</td>\n      <td>-0.517972</td>\n    </tr>\n    <tr>\n      <th>2022-01-11</th>\n      <td>-1.263636</td>\n      <td>1.047861</td>\n      <td>0.787907</td>\n      <td>0.713133</td>\n    </tr>\n    <tr>\n      <th>2022-01-12</th>\n      <td>-1.376315</td>\n      <td>0.969656</td>\n      <td>1.449841</td>\n      <td>-0.642914</td>\n    </tr>\n    <tr>\n      <th>2022-01-13</th>\n      <td>1.812164</td>\n      <td>-2.702198</td>\n      <td>1.172949</td>\n      <td>-0.385296</td>\n    </tr>\n    <tr>\n      <th>2022-01-14</th>\n      <td>-0.328594</td>\n      <td>0.371645</td>\n      <td>1.027515</td>\n      <td>-0.869675</td>\n    </tr>\n    <tr>\n      <th>2022-01-15</th>\n      <td>0.011016</td>\n      <td>0.088845</td>\n      <td>0.915048</td>\n      <td>-0.865051</td>\n    </tr>\n    <tr>\n      <th>2022-01-16</th>\n      <td>1.138897</td>\n      <td>-0.656024</td>\n      <td>1.382349</td>\n      <td>-0.199661</td>\n    </tr>\n    <tr>\n      <th>2022-01-17</th>\n      <td>-2.339220</td>\n      <td>2.036712</td>\n      <td>0.873930</td>\n      <td>-0.072603</td>\n    </tr>\n    <tr>\n      <th>2022-01-18</th>\n      <td>-1.696726</td>\n      <td>-0.352158</td>\n      <td>-0.218300</td>\n      <td>1.905248</td>\n    </tr>\n    <tr>\n      <th>2022-01-19</th>\n      <td>0.286306</td>\n      <td>0.062278</td>\n      <td>-0.378840</td>\n      <td>0.406134</td>\n    </tr>\n    <tr>\n      <th>2022-01-20</th>\n      <td>-0.611623</td>\n      <td>0.985538</td>\n      <td>0.924371</td>\n      <td>1.067879</td>\n    </tr>\n  </tbody>\n</table>\n</div>"
     },
     "execution_count": 80,
     "metadata": {},
     "output_type": "execute_result"
    }
   ],
   "source": [
    "# Creating DataFrame\n",
    "# sample_data_frame = pd.DataFrame(random_array, index=dates, columns=\"abcd\")\n",
    "# TypeError: Index(...) must be called with a collection of some kind, 'abcd' was passed\n",
    "\n",
    "sample_data_frame = pd.DataFrame(random_array, index=dates, columns=list(\"ABCD\"))\n",
    "sample_data_frame"
   ]
  },
  {
   "cell_type": "code",
   "execution_count": 81,
   "metadata": {
    "collapsed": false,
    "pycharm": {
     "name": "#%%\n"
    }
   },
   "outputs": [
    {
     "data": {
      "text/plain": "     A          B    C  D      E        F\n0  1.0 2013-01-02  3.0  3   girl  females\n1  1.0 2013-01-02  3.0  3  woman  females\n2  1.0 2013-01-02  3.0  3   girl  females\n3  1.0 2013-01-02  3.0  3  woman  females\n4  1.0 2013-01-02  3.0  3   girl  females",
      "text/html": "<div>\n<style scoped>\n    .dataframe tbody tr th:only-of-type {\n        vertical-align: middle;\n    }\n\n    .dataframe tbody tr th {\n        vertical-align: top;\n    }\n\n    .dataframe thead th {\n        text-align: right;\n    }\n</style>\n<table border=\"1\" class=\"dataframe\">\n  <thead>\n    <tr style=\"text-align: right;\">\n      <th></th>\n      <th>A</th>\n      <th>B</th>\n      <th>C</th>\n      <th>D</th>\n      <th>E</th>\n      <th>F</th>\n    </tr>\n  </thead>\n  <tbody>\n    <tr>\n      <th>0</th>\n      <td>1.0</td>\n      <td>2013-01-02</td>\n      <td>3.0</td>\n      <td>3</td>\n      <td>girl</td>\n      <td>females</td>\n    </tr>\n    <tr>\n      <th>1</th>\n      <td>1.0</td>\n      <td>2013-01-02</td>\n      <td>3.0</td>\n      <td>3</td>\n      <td>woman</td>\n      <td>females</td>\n    </tr>\n    <tr>\n      <th>2</th>\n      <td>1.0</td>\n      <td>2013-01-02</td>\n      <td>3.0</td>\n      <td>3</td>\n      <td>girl</td>\n      <td>females</td>\n    </tr>\n    <tr>\n      <th>3</th>\n      <td>1.0</td>\n      <td>2013-01-02</td>\n      <td>3.0</td>\n      <td>3</td>\n      <td>woman</td>\n      <td>females</td>\n    </tr>\n    <tr>\n      <th>4</th>\n      <td>1.0</td>\n      <td>2013-01-02</td>\n      <td>3.0</td>\n      <td>3</td>\n      <td>girl</td>\n      <td>females</td>\n    </tr>\n  </tbody>\n</table>\n</div>"
     },
     "execution_count": 81,
     "metadata": {},
     "output_type": "execute_result"
    }
   ],
   "source": [
    "# Creating Data Frame using pandas\n",
    "data_frame2 = pd.DataFrame(\n",
    "    {\n",
    "        \"A\": 1.0,\n",
    "        \"B\": pd.Timestamp(\"20130102\"),\n",
    "        \"C\": pd.Series(3, index=list(range(5)), dtype=np.float32),\n",
    "        \"D\": np.array([3] * 5, dtype=\"int32\"),\n",
    "        \"E\": pd.Categorical([\"girl\", \"woman\", \"girl\", \"woman\", \"girl\"]),\n",
    "        \"F\": \"females\"\n",
    "    }\n",
    ")\n",
    "\n",
    "data_frame2"
   ]
  },
  {
   "cell_type": "code",
   "execution_count": 82,
   "metadata": {
    "collapsed": false,
    "pycharm": {
     "name": "#%%\n"
    }
   },
   "outputs": [
    {
     "data": {
      "text/plain": "A           float64\nB    datetime64[ns]\nC           float32\nD             int32\nE          category\nF            object\ndtype: object"
     },
     "execution_count": 82,
     "metadata": {},
     "output_type": "execute_result"
    }
   ],
   "source": [
    "data_frame2.dtypes"
   ]
  },
  {
   "cell_type": "code",
   "execution_count": 83,
   "metadata": {
    "collapsed": false,
    "pycharm": {
     "name": "#%%\n"
    }
   },
   "outputs": [
    {
     "data": {
      "text/plain": "     A          B    C  D      E        F\n0  1.0 2013-01-02  3.0  3   girl  females\n1  1.0 2013-01-02  3.0  3  woman  females\n2  1.0 2013-01-02  3.0  3   girl  females\n3  1.0 2013-01-02  3.0  3  woman  females\n4  1.0 2013-01-02  3.0  3   girl  females",
      "text/html": "<div>\n<style scoped>\n    .dataframe tbody tr th:only-of-type {\n        vertical-align: middle;\n    }\n\n    .dataframe tbody tr th {\n        vertical-align: top;\n    }\n\n    .dataframe thead th {\n        text-align: right;\n    }\n</style>\n<table border=\"1\" class=\"dataframe\">\n  <thead>\n    <tr style=\"text-align: right;\">\n      <th></th>\n      <th>A</th>\n      <th>B</th>\n      <th>C</th>\n      <th>D</th>\n      <th>E</th>\n      <th>F</th>\n    </tr>\n  </thead>\n  <tbody>\n    <tr>\n      <th>0</th>\n      <td>1.0</td>\n      <td>2013-01-02</td>\n      <td>3.0</td>\n      <td>3</td>\n      <td>girl</td>\n      <td>females</td>\n    </tr>\n    <tr>\n      <th>1</th>\n      <td>1.0</td>\n      <td>2013-01-02</td>\n      <td>3.0</td>\n      <td>3</td>\n      <td>woman</td>\n      <td>females</td>\n    </tr>\n    <tr>\n      <th>2</th>\n      <td>1.0</td>\n      <td>2013-01-02</td>\n      <td>3.0</td>\n      <td>3</td>\n      <td>girl</td>\n      <td>females</td>\n    </tr>\n    <tr>\n      <th>3</th>\n      <td>1.0</td>\n      <td>2013-01-02</td>\n      <td>3.0</td>\n      <td>3</td>\n      <td>woman</td>\n      <td>females</td>\n    </tr>\n    <tr>\n      <th>4</th>\n      <td>1.0</td>\n      <td>2013-01-02</td>\n      <td>3.0</td>\n      <td>3</td>\n      <td>girl</td>\n      <td>females</td>\n    </tr>\n  </tbody>\n</table>\n</div>"
     },
     "execution_count": 83,
     "metadata": {},
     "output_type": "execute_result"
    }
   ],
   "source": [
    "data_frame2.head()"
   ]
  },
  {
   "cell_type": "code",
   "execution_count": 84,
   "metadata": {
    "collapsed": false,
    "pycharm": {
     "name": "#%%\n"
    }
   },
   "outputs": [
    {
     "data": {
      "text/plain": "     A          B    C  D      E        F\n3  1.0 2013-01-02  3.0  3  woman  females\n4  1.0 2013-01-02  3.0  3   girl  females",
      "text/html": "<div>\n<style scoped>\n    .dataframe tbody tr th:only-of-type {\n        vertical-align: middle;\n    }\n\n    .dataframe tbody tr th {\n        vertical-align: top;\n    }\n\n    .dataframe thead th {\n        text-align: right;\n    }\n</style>\n<table border=\"1\" class=\"dataframe\">\n  <thead>\n    <tr style=\"text-align: right;\">\n      <th></th>\n      <th>A</th>\n      <th>B</th>\n      <th>C</th>\n      <th>D</th>\n      <th>E</th>\n      <th>F</th>\n    </tr>\n  </thead>\n  <tbody>\n    <tr>\n      <th>3</th>\n      <td>1.0</td>\n      <td>2013-01-02</td>\n      <td>3.0</td>\n      <td>3</td>\n      <td>woman</td>\n      <td>females</td>\n    </tr>\n    <tr>\n      <th>4</th>\n      <td>1.0</td>\n      <td>2013-01-02</td>\n      <td>3.0</td>\n      <td>3</td>\n      <td>girl</td>\n      <td>females</td>\n    </tr>\n  </tbody>\n</table>\n</div>"
     },
     "execution_count": 84,
     "metadata": {},
     "output_type": "execute_result"
    }
   ],
   "source": [
    "data_frame2.tail(2)"
   ]
  },
  {
   "cell_type": "code",
   "execution_count": 85,
   "metadata": {
    "collapsed": false,
    "pycharm": {
     "name": "#%%\n"
    }
   },
   "outputs": [
    {
     "data": {
      "text/plain": "     A          B    C  D      E        F\n0  1.0 2022-01-01  3.0  3   girl  females\n1  1.0 2022-01-02  3.0  3  woman  females\n2  1.0 2022-01-03  3.0  3   girl  females\n3  1.0 2022-01-04  3.0  3  woman  females\n4  1.0 2022-01-05  3.0  3   girl  females",
      "text/html": "<div>\n<style scoped>\n    .dataframe tbody tr th:only-of-type {\n        vertical-align: middle;\n    }\n\n    .dataframe tbody tr th {\n        vertical-align: top;\n    }\n\n    .dataframe thead th {\n        text-align: right;\n    }\n</style>\n<table border=\"1\" class=\"dataframe\">\n  <thead>\n    <tr style=\"text-align: right;\">\n      <th></th>\n      <th>A</th>\n      <th>B</th>\n      <th>C</th>\n      <th>D</th>\n      <th>E</th>\n      <th>F</th>\n    </tr>\n  </thead>\n  <tbody>\n    <tr>\n      <th>0</th>\n      <td>1.0</td>\n      <td>2022-01-01</td>\n      <td>3.0</td>\n      <td>3</td>\n      <td>girl</td>\n      <td>females</td>\n    </tr>\n    <tr>\n      <th>1</th>\n      <td>1.0</td>\n      <td>2022-01-02</td>\n      <td>3.0</td>\n      <td>3</td>\n      <td>woman</td>\n      <td>females</td>\n    </tr>\n    <tr>\n      <th>2</th>\n      <td>1.0</td>\n      <td>2022-01-03</td>\n      <td>3.0</td>\n      <td>3</td>\n      <td>girl</td>\n      <td>females</td>\n    </tr>\n    <tr>\n      <th>3</th>\n      <td>1.0</td>\n      <td>2022-01-04</td>\n      <td>3.0</td>\n      <td>3</td>\n      <td>woman</td>\n      <td>females</td>\n    </tr>\n    <tr>\n      <th>4</th>\n      <td>1.0</td>\n      <td>2022-01-05</td>\n      <td>3.0</td>\n      <td>3</td>\n      <td>girl</td>\n      <td>females</td>\n    </tr>\n  </tbody>\n</table>\n</div>"
     },
     "execution_count": 85,
     "metadata": {},
     "output_type": "execute_result"
    }
   ],
   "source": [
    "# Creating Data Frame using pandas\n",
    "data_frame3 = pd.DataFrame(\n",
    "    {\n",
    "        \"A\": 1.0,\n",
    "        \"B\": dates[:5],\n",
    "        \"C\": pd.Series(3, index=list(range(5)), dtype=np.float32),\n",
    "        \"D\": np.array([3] * 5, dtype=\"int32\"),\n",
    "        \"E\": pd.Categorical([\"girl\", \"woman\", \"girl\", \"woman\", \"girl\"]),\n",
    "        \"F\": \"females\"\n",
    "    }\n",
    ")\n",
    "\n",
    "data_frame3"
   ]
  },
  {
   "cell_type": "code",
   "execution_count": 86,
   "metadata": {
    "collapsed": false,
    "pycharm": {
     "name": "#%%\n"
    }
   },
   "outputs": [
    {
     "data": {
      "text/plain": "     A          B    C  D      E        F\n0  1.0 2022-01-01  3.0  3   girl  females\n1  1.0 2022-01-02  3.0  3  woman  females",
      "text/html": "<div>\n<style scoped>\n    .dataframe tbody tr th:only-of-type {\n        vertical-align: middle;\n    }\n\n    .dataframe tbody tr th {\n        vertical-align: top;\n    }\n\n    .dataframe thead th {\n        text-align: right;\n    }\n</style>\n<table border=\"1\" class=\"dataframe\">\n  <thead>\n    <tr style=\"text-align: right;\">\n      <th></th>\n      <th>A</th>\n      <th>B</th>\n      <th>C</th>\n      <th>D</th>\n      <th>E</th>\n      <th>F</th>\n    </tr>\n  </thead>\n  <tbody>\n    <tr>\n      <th>0</th>\n      <td>1.0</td>\n      <td>2022-01-01</td>\n      <td>3.0</td>\n      <td>3</td>\n      <td>girl</td>\n      <td>females</td>\n    </tr>\n    <tr>\n      <th>1</th>\n      <td>1.0</td>\n      <td>2022-01-02</td>\n      <td>3.0</td>\n      <td>3</td>\n      <td>woman</td>\n      <td>females</td>\n    </tr>\n  </tbody>\n</table>\n</div>"
     },
     "execution_count": 86,
     "metadata": {},
     "output_type": "execute_result"
    }
   ],
   "source": [
    "data_frame3.head(2)"
   ]
  },
  {
   "cell_type": "code",
   "execution_count": 87,
   "metadata": {
    "collapsed": false,
    "pycharm": {
     "name": "#%%\n"
    }
   },
   "outputs": [
    {
     "data": {
      "text/plain": "     A          B    C  D      E        F\n3  1.0 2022-01-04  3.0  3  woman  females\n4  1.0 2022-01-05  3.0  3   girl  females",
      "text/html": "<div>\n<style scoped>\n    .dataframe tbody tr th:only-of-type {\n        vertical-align: middle;\n    }\n\n    .dataframe tbody tr th {\n        vertical-align: top;\n    }\n\n    .dataframe thead th {\n        text-align: right;\n    }\n</style>\n<table border=\"1\" class=\"dataframe\">\n  <thead>\n    <tr style=\"text-align: right;\">\n      <th></th>\n      <th>A</th>\n      <th>B</th>\n      <th>C</th>\n      <th>D</th>\n      <th>E</th>\n      <th>F</th>\n    </tr>\n  </thead>\n  <tbody>\n    <tr>\n      <th>3</th>\n      <td>1.0</td>\n      <td>2022-01-04</td>\n      <td>3.0</td>\n      <td>3</td>\n      <td>woman</td>\n      <td>females</td>\n    </tr>\n    <tr>\n      <th>4</th>\n      <td>1.0</td>\n      <td>2022-01-05</td>\n      <td>3.0</td>\n      <td>3</td>\n      <td>girl</td>\n      <td>females</td>\n    </tr>\n  </tbody>\n</table>\n</div>"
     },
     "execution_count": 87,
     "metadata": {},
     "output_type": "execute_result"
    }
   ],
   "source": [
    "data_frame3.tail(2)"
   ]
  },
  {
   "cell_type": "code",
   "execution_count": 88,
   "metadata": {
    "collapsed": false,
    "pycharm": {
     "name": "#%%\n"
    }
   },
   "outputs": [
    {
     "data": {
      "text/plain": "DatetimeIndex(['2022-01-01', '2022-01-02', '2022-01-03', '2022-01-04',\n               '2022-01-05', '2022-01-06', '2022-01-07', '2022-01-08',\n               '2022-01-09', '2022-01-10', '2022-01-11', '2022-01-12',\n               '2022-01-13', '2022-01-14', '2022-01-15', '2022-01-16',\n               '2022-01-17', '2022-01-18', '2022-01-19', '2022-01-20'],\n              dtype='datetime64[ns]', freq='D')"
     },
     "execution_count": 88,
     "metadata": {},
     "output_type": "execute_result"
    }
   ],
   "source": [
    "sample_data_frame.index"
   ]
  },
  {
   "cell_type": "code",
   "execution_count": 89,
   "metadata": {},
   "outputs": [
    {
     "data": {
      "text/plain": "Int64Index([0, 1, 2, 3, 4], dtype='int64')"
     },
     "execution_count": 89,
     "metadata": {},
     "output_type": "execute_result"
    }
   ],
   "source": [
    "data_frame3.index"
   ]
  },
  {
   "cell_type": "code",
   "execution_count": 90,
   "metadata": {},
   "outputs": [
    {
     "data": {
      "text/plain": "array([[-1.06301134,  0.46089624, -1.7789289 ,  0.84887228],\n       [-0.57892716,  0.95001586, -0.62506204, -1.28478935],\n       [ 1.84199174, -0.24165677, -1.03196933,  0.67833603],\n       [-0.75409569,  1.33108553,  0.9652746 , -0.74313757],\n       [ 1.00309225, -1.28559331,  0.19952747, -1.1490591 ],\n       [-0.39305088, -0.57199408,  0.83360896, -0.12616482],\n       [ 0.08352278, -0.26640556,  0.81618058,  1.38926521],\n       [ 0.0192892 , -1.89235129, -1.67272372,  0.46975966],\n       [-0.27350248,  0.52018485, -0.84996835,  1.05416889],\n       [-1.10967097,  1.33774475,  0.34733211, -0.51797207],\n       [-1.26363632,  1.04786057,  0.78790717,  0.71313271],\n       [-1.37631508,  0.96965598,  1.44984103, -0.6429145 ],\n       [ 1.81216367, -2.70219848,  1.17294909, -0.38529561],\n       [-0.32859365,  0.37164506,  1.02751473, -0.86967547],\n       [ 0.01101568,  0.08884473,  0.91504808, -0.86505108],\n       [ 1.13889745, -0.65602376,  1.38234912, -0.19966093],\n       [-2.33922004,  2.03671186,  0.87393015, -0.07260258],\n       [-1.696726  , -0.35215788, -0.21830029,  1.90524774],\n       [ 0.28630631,  0.06227838, -0.37884037,  0.40613377],\n       [-0.61162289,  0.98553776,  0.92437121,  1.06787892]])"
     },
     "execution_count": 90,
     "metadata": {},
     "output_type": "execute_result"
    }
   ],
   "source": [
    "sample_data_frame.to_numpy()"
   ]
  },
  {
   "cell_type": "code",
   "execution_count": 91,
   "metadata": {},
   "outputs": [
    {
     "data": {
      "text/plain": "                   A         B         C         D\n2022-01-01 -1.063011  0.460896 -1.778929  0.848872\n2022-01-02 -0.578927  0.950016 -0.625062 -1.284789\n2022-01-03  1.841992 -0.241657 -1.031969  0.678336\n2022-01-04 -0.754096  1.331086  0.965275 -0.743138\n2022-01-05  1.003092 -1.285593  0.199527 -1.149059\n2022-01-06 -0.393051 -0.571994  0.833609 -0.126165\n2022-01-07  0.083523 -0.266406  0.816181  1.389265\n2022-01-08  0.019289 -1.892351 -1.672724  0.469760\n2022-01-09 -0.273502  0.520185 -0.849968  1.054169\n2022-01-10 -1.109671  1.337745  0.347332 -0.517972\n2022-01-11 -1.263636  1.047861  0.787907  0.713133\n2022-01-12 -1.376315  0.969656  1.449841 -0.642914\n2022-01-13  1.812164 -2.702198  1.172949 -0.385296\n2022-01-14 -0.328594  0.371645  1.027515 -0.869675\n2022-01-15  0.011016  0.088845  0.915048 -0.865051\n2022-01-16  1.138897 -0.656024  1.382349 -0.199661\n2022-01-17 -2.339220  2.036712  0.873930 -0.072603\n2022-01-18 -1.696726 -0.352158 -0.218300  1.905248\n2022-01-19  0.286306  0.062278 -0.378840  0.406134\n2022-01-20 -0.611623  0.985538  0.924371  1.067879",
      "text/html": "<div>\n<style scoped>\n    .dataframe tbody tr th:only-of-type {\n        vertical-align: middle;\n    }\n\n    .dataframe tbody tr th {\n        vertical-align: top;\n    }\n\n    .dataframe thead th {\n        text-align: right;\n    }\n</style>\n<table border=\"1\" class=\"dataframe\">\n  <thead>\n    <tr style=\"text-align: right;\">\n      <th></th>\n      <th>A</th>\n      <th>B</th>\n      <th>C</th>\n      <th>D</th>\n    </tr>\n  </thead>\n  <tbody>\n    <tr>\n      <th>2022-01-01</th>\n      <td>-1.063011</td>\n      <td>0.460896</td>\n      <td>-1.778929</td>\n      <td>0.848872</td>\n    </tr>\n    <tr>\n      <th>2022-01-02</th>\n      <td>-0.578927</td>\n      <td>0.950016</td>\n      <td>-0.625062</td>\n      <td>-1.284789</td>\n    </tr>\n    <tr>\n      <th>2022-01-03</th>\n      <td>1.841992</td>\n      <td>-0.241657</td>\n      <td>-1.031969</td>\n      <td>0.678336</td>\n    </tr>\n    <tr>\n      <th>2022-01-04</th>\n      <td>-0.754096</td>\n      <td>1.331086</td>\n      <td>0.965275</td>\n      <td>-0.743138</td>\n    </tr>\n    <tr>\n      <th>2022-01-05</th>\n      <td>1.003092</td>\n      <td>-1.285593</td>\n      <td>0.199527</td>\n      <td>-1.149059</td>\n    </tr>\n    <tr>\n      <th>2022-01-06</th>\n      <td>-0.393051</td>\n      <td>-0.571994</td>\n      <td>0.833609</td>\n      <td>-0.126165</td>\n    </tr>\n    <tr>\n      <th>2022-01-07</th>\n      <td>0.083523</td>\n      <td>-0.266406</td>\n      <td>0.816181</td>\n      <td>1.389265</td>\n    </tr>\n    <tr>\n      <th>2022-01-08</th>\n      <td>0.019289</td>\n      <td>-1.892351</td>\n      <td>-1.672724</td>\n      <td>0.469760</td>\n    </tr>\n    <tr>\n      <th>2022-01-09</th>\n      <td>-0.273502</td>\n      <td>0.520185</td>\n      <td>-0.849968</td>\n      <td>1.054169</td>\n    </tr>\n    <tr>\n      <th>2022-01-10</th>\n      <td>-1.109671</td>\n      <td>1.337745</td>\n      <td>0.347332</td>\n      <td>-0.517972</td>\n    </tr>\n    <tr>\n      <th>2022-01-11</th>\n      <td>-1.263636</td>\n      <td>1.047861</td>\n      <td>0.787907</td>\n      <td>0.713133</td>\n    </tr>\n    <tr>\n      <th>2022-01-12</th>\n      <td>-1.376315</td>\n      <td>0.969656</td>\n      <td>1.449841</td>\n      <td>-0.642914</td>\n    </tr>\n    <tr>\n      <th>2022-01-13</th>\n      <td>1.812164</td>\n      <td>-2.702198</td>\n      <td>1.172949</td>\n      <td>-0.385296</td>\n    </tr>\n    <tr>\n      <th>2022-01-14</th>\n      <td>-0.328594</td>\n      <td>0.371645</td>\n      <td>1.027515</td>\n      <td>-0.869675</td>\n    </tr>\n    <tr>\n      <th>2022-01-15</th>\n      <td>0.011016</td>\n      <td>0.088845</td>\n      <td>0.915048</td>\n      <td>-0.865051</td>\n    </tr>\n    <tr>\n      <th>2022-01-16</th>\n      <td>1.138897</td>\n      <td>-0.656024</td>\n      <td>1.382349</td>\n      <td>-0.199661</td>\n    </tr>\n    <tr>\n      <th>2022-01-17</th>\n      <td>-2.339220</td>\n      <td>2.036712</td>\n      <td>0.873930</td>\n      <td>-0.072603</td>\n    </tr>\n    <tr>\n      <th>2022-01-18</th>\n      <td>-1.696726</td>\n      <td>-0.352158</td>\n      <td>-0.218300</td>\n      <td>1.905248</td>\n    </tr>\n    <tr>\n      <th>2022-01-19</th>\n      <td>0.286306</td>\n      <td>0.062278</td>\n      <td>-0.378840</td>\n      <td>0.406134</td>\n    </tr>\n    <tr>\n      <th>2022-01-20</th>\n      <td>-0.611623</td>\n      <td>0.985538</td>\n      <td>0.924371</td>\n      <td>1.067879</td>\n    </tr>\n  </tbody>\n</table>\n</div>"
     },
     "execution_count": 91,
     "metadata": {},
     "output_type": "execute_result"
    }
   ],
   "source": [
    "sample_data_frame"
   ]
  },
  {
   "cell_type": "code",
   "execution_count": 92,
   "metadata": {},
   "outputs": [
    {
     "data": {
      "text/plain": "array([[1.0, Timestamp('2022-01-01 00:00:00'), 3.0, 3, 'girl', 'females'],\n       [1.0, Timestamp('2022-01-02 00:00:00'), 3.0, 3, 'woman',\n        'females'],\n       [1.0, Timestamp('2022-01-03 00:00:00'), 3.0, 3, 'girl', 'females'],\n       [1.0, Timestamp('2022-01-04 00:00:00'), 3.0, 3, 'woman',\n        'females'],\n       [1.0, Timestamp('2022-01-05 00:00:00'), 3.0, 3, 'girl', 'females']],\n      dtype=object)"
     },
     "execution_count": 92,
     "metadata": {},
     "output_type": "execute_result"
    }
   ],
   "source": [
    "data_frame3.to_numpy()"
   ]
  },
  {
   "cell_type": "code",
   "execution_count": 93,
   "metadata": {},
   "outputs": [
    {
     "data": {
      "text/plain": "               A          B          C          D\ncount  20.000000  20.000000  20.000000  20.000000\nmean   -0.279605   0.109704   0.257002   0.083824\nstd     1.107971   1.159863   0.999605   0.908008\nmin    -2.339220  -2.702198  -1.778929  -1.284789\n25%    -1.074676  -0.407117  -0.440396  -0.667970\n50%    -0.360822   0.230245   0.802044  -0.099384\n75%     0.134219   0.973626   0.934597   0.747068\nmax     1.841992   2.036712   1.449841   1.905248",
      "text/html": "<div>\n<style scoped>\n    .dataframe tbody tr th:only-of-type {\n        vertical-align: middle;\n    }\n\n    .dataframe tbody tr th {\n        vertical-align: top;\n    }\n\n    .dataframe thead th {\n        text-align: right;\n    }\n</style>\n<table border=\"1\" class=\"dataframe\">\n  <thead>\n    <tr style=\"text-align: right;\">\n      <th></th>\n      <th>A</th>\n      <th>B</th>\n      <th>C</th>\n      <th>D</th>\n    </tr>\n  </thead>\n  <tbody>\n    <tr>\n      <th>count</th>\n      <td>20.000000</td>\n      <td>20.000000</td>\n      <td>20.000000</td>\n      <td>20.000000</td>\n    </tr>\n    <tr>\n      <th>mean</th>\n      <td>-0.279605</td>\n      <td>0.109704</td>\n      <td>0.257002</td>\n      <td>0.083824</td>\n    </tr>\n    <tr>\n      <th>std</th>\n      <td>1.107971</td>\n      <td>1.159863</td>\n      <td>0.999605</td>\n      <td>0.908008</td>\n    </tr>\n    <tr>\n      <th>min</th>\n      <td>-2.339220</td>\n      <td>-2.702198</td>\n      <td>-1.778929</td>\n      <td>-1.284789</td>\n    </tr>\n    <tr>\n      <th>25%</th>\n      <td>-1.074676</td>\n      <td>-0.407117</td>\n      <td>-0.440396</td>\n      <td>-0.667970</td>\n    </tr>\n    <tr>\n      <th>50%</th>\n      <td>-0.360822</td>\n      <td>0.230245</td>\n      <td>0.802044</td>\n      <td>-0.099384</td>\n    </tr>\n    <tr>\n      <th>75%</th>\n      <td>0.134219</td>\n      <td>0.973626</td>\n      <td>0.934597</td>\n      <td>0.747068</td>\n    </tr>\n    <tr>\n      <th>max</th>\n      <td>1.841992</td>\n      <td>2.036712</td>\n      <td>1.449841</td>\n      <td>1.905248</td>\n    </tr>\n  </tbody>\n</table>\n</div>"
     },
     "execution_count": 93,
     "metadata": {},
     "output_type": "execute_result"
    }
   ],
   "source": [
    "sample_data_frame.describe()"
   ]
  },
  {
   "cell_type": "code",
   "execution_count": 94,
   "metadata": {},
   "outputs": [
    {
     "data": {
      "text/plain": "   2022-01-01  2022-01-02  2022-01-03  2022-01-04  2022-01-05  2022-01-06  \\\nA   -1.063011   -0.578927    1.841992   -0.754096    1.003092   -0.393051   \nB    0.460896    0.950016   -0.241657    1.331086   -1.285593   -0.571994   \nC   -1.778929   -0.625062   -1.031969    0.965275    0.199527    0.833609   \nD    0.848872   -1.284789    0.678336   -0.743138   -1.149059   -0.126165   \n\n   2022-01-07  2022-01-08  2022-01-09  2022-01-10  2022-01-11  2022-01-12  \\\nA    0.083523    0.019289   -0.273502   -1.109671   -1.263636   -1.376315   \nB   -0.266406   -1.892351    0.520185    1.337745    1.047861    0.969656   \nC    0.816181   -1.672724   -0.849968    0.347332    0.787907    1.449841   \nD    1.389265    0.469760    1.054169   -0.517972    0.713133   -0.642914   \n\n   2022-01-13  2022-01-14  2022-01-15  2022-01-16  2022-01-17  2022-01-18  \\\nA    1.812164   -0.328594    0.011016    1.138897   -2.339220   -1.696726   \nB   -2.702198    0.371645    0.088845   -0.656024    2.036712   -0.352158   \nC    1.172949    1.027515    0.915048    1.382349    0.873930   -0.218300   \nD   -0.385296   -0.869675   -0.865051   -0.199661   -0.072603    1.905248   \n\n   2022-01-19  2022-01-20  \nA    0.286306   -0.611623  \nB    0.062278    0.985538  \nC   -0.378840    0.924371  \nD    0.406134    1.067879  ",
      "text/html": "<div>\n<style scoped>\n    .dataframe tbody tr th:only-of-type {\n        vertical-align: middle;\n    }\n\n    .dataframe tbody tr th {\n        vertical-align: top;\n    }\n\n    .dataframe thead th {\n        text-align: right;\n    }\n</style>\n<table border=\"1\" class=\"dataframe\">\n  <thead>\n    <tr style=\"text-align: right;\">\n      <th></th>\n      <th>2022-01-01</th>\n      <th>2022-01-02</th>\n      <th>2022-01-03</th>\n      <th>2022-01-04</th>\n      <th>2022-01-05</th>\n      <th>2022-01-06</th>\n      <th>2022-01-07</th>\n      <th>2022-01-08</th>\n      <th>2022-01-09</th>\n      <th>2022-01-10</th>\n      <th>2022-01-11</th>\n      <th>2022-01-12</th>\n      <th>2022-01-13</th>\n      <th>2022-01-14</th>\n      <th>2022-01-15</th>\n      <th>2022-01-16</th>\n      <th>2022-01-17</th>\n      <th>2022-01-18</th>\n      <th>2022-01-19</th>\n      <th>2022-01-20</th>\n    </tr>\n  </thead>\n  <tbody>\n    <tr>\n      <th>A</th>\n      <td>-1.063011</td>\n      <td>-0.578927</td>\n      <td>1.841992</td>\n      <td>-0.754096</td>\n      <td>1.003092</td>\n      <td>-0.393051</td>\n      <td>0.083523</td>\n      <td>0.019289</td>\n      <td>-0.273502</td>\n      <td>-1.109671</td>\n      <td>-1.263636</td>\n      <td>-1.376315</td>\n      <td>1.812164</td>\n      <td>-0.328594</td>\n      <td>0.011016</td>\n      <td>1.138897</td>\n      <td>-2.339220</td>\n      <td>-1.696726</td>\n      <td>0.286306</td>\n      <td>-0.611623</td>\n    </tr>\n    <tr>\n      <th>B</th>\n      <td>0.460896</td>\n      <td>0.950016</td>\n      <td>-0.241657</td>\n      <td>1.331086</td>\n      <td>-1.285593</td>\n      <td>-0.571994</td>\n      <td>-0.266406</td>\n      <td>-1.892351</td>\n      <td>0.520185</td>\n      <td>1.337745</td>\n      <td>1.047861</td>\n      <td>0.969656</td>\n      <td>-2.702198</td>\n      <td>0.371645</td>\n      <td>0.088845</td>\n      <td>-0.656024</td>\n      <td>2.036712</td>\n      <td>-0.352158</td>\n      <td>0.062278</td>\n      <td>0.985538</td>\n    </tr>\n    <tr>\n      <th>C</th>\n      <td>-1.778929</td>\n      <td>-0.625062</td>\n      <td>-1.031969</td>\n      <td>0.965275</td>\n      <td>0.199527</td>\n      <td>0.833609</td>\n      <td>0.816181</td>\n      <td>-1.672724</td>\n      <td>-0.849968</td>\n      <td>0.347332</td>\n      <td>0.787907</td>\n      <td>1.449841</td>\n      <td>1.172949</td>\n      <td>1.027515</td>\n      <td>0.915048</td>\n      <td>1.382349</td>\n      <td>0.873930</td>\n      <td>-0.218300</td>\n      <td>-0.378840</td>\n      <td>0.924371</td>\n    </tr>\n    <tr>\n      <th>D</th>\n      <td>0.848872</td>\n      <td>-1.284789</td>\n      <td>0.678336</td>\n      <td>-0.743138</td>\n      <td>-1.149059</td>\n      <td>-0.126165</td>\n      <td>1.389265</td>\n      <td>0.469760</td>\n      <td>1.054169</td>\n      <td>-0.517972</td>\n      <td>0.713133</td>\n      <td>-0.642914</td>\n      <td>-0.385296</td>\n      <td>-0.869675</td>\n      <td>-0.865051</td>\n      <td>-0.199661</td>\n      <td>-0.072603</td>\n      <td>1.905248</td>\n      <td>0.406134</td>\n      <td>1.067879</td>\n    </tr>\n  </tbody>\n</table>\n</div>"
     },
     "execution_count": 94,
     "metadata": {},
     "output_type": "execute_result"
    }
   ],
   "source": [
    "# Pandas DataFrame: transpose(); T is not callable\n",
    "t = sample_data_frame.T\n",
    "t"
   ]
  },
  {
   "cell_type": "code",
   "execution_count": 95,
   "metadata": {},
   "outputs": [
    {
     "data": {
      "text/plain": "                   A         B         C         D\n2022-01-01 -1.063011  0.460896 -1.778929  0.848872\n2022-01-02 -0.578927  0.950016 -0.625062 -1.284789\n2022-01-03  1.841992 -0.241657 -1.031969  0.678336\n2022-01-04 -0.754096  1.331086  0.965275 -0.743138",
      "text/html": "<div>\n<style scoped>\n    .dataframe tbody tr th:only-of-type {\n        vertical-align: middle;\n    }\n\n    .dataframe tbody tr th {\n        vertical-align: top;\n    }\n\n    .dataframe thead th {\n        text-align: right;\n    }\n</style>\n<table border=\"1\" class=\"dataframe\">\n  <thead>\n    <tr style=\"text-align: right;\">\n      <th></th>\n      <th>A</th>\n      <th>B</th>\n      <th>C</th>\n      <th>D</th>\n    </tr>\n  </thead>\n  <tbody>\n    <tr>\n      <th>2022-01-01</th>\n      <td>-1.063011</td>\n      <td>0.460896</td>\n      <td>-1.778929</td>\n      <td>0.848872</td>\n    </tr>\n    <tr>\n      <th>2022-01-02</th>\n      <td>-0.578927</td>\n      <td>0.950016</td>\n      <td>-0.625062</td>\n      <td>-1.284789</td>\n    </tr>\n    <tr>\n      <th>2022-01-03</th>\n      <td>1.841992</td>\n      <td>-0.241657</td>\n      <td>-1.031969</td>\n      <td>0.678336</td>\n    </tr>\n    <tr>\n      <th>2022-01-04</th>\n      <td>-0.754096</td>\n      <td>1.331086</td>\n      <td>0.965275</td>\n      <td>-0.743138</td>\n    </tr>\n  </tbody>\n</table>\n</div>"
     },
     "execution_count": 95,
     "metadata": {},
     "output_type": "execute_result"
    }
   ],
   "source": [
    "# sample_data_frame.sort_index(axis=0, ascending=False)\n",
    "# sample_data_frame.sort_values(by=\"D\", ascending=True)\n",
    "\n",
    "sample_data_frame[0:4].sort_index(axis=1, ascending=True)\n"
   ]
  },
  {
   "cell_type": "markdown",
   "source": [
    "### What is axis in pandas DataFrame?\n",
    "![IMG](https://railsware.com/blog/wp-content/uploads/2018/11/data-frame-axes.png)"
   ],
   "metadata": {
    "collapsed": false,
    "pycharm": {
     "name": "#%% md\n"
    }
   }
  },
  {
   "cell_type": "code",
   "execution_count": 96,
   "outputs": [],
   "source": [
    "# sample_data_frame[0:4].sort_index(axis=0, ascending=True)"
   ],
   "metadata": {
    "collapsed": false,
    "pycharm": {
     "name": "#%%\n"
    }
   }
  },
  {
   "cell_type": "code",
   "execution_count": 97,
   "outputs": [
    {
     "data": {
      "text/plain": "                   A         B         C         D\n2022-01-01 -1.063011  0.460896 -1.778929  0.848872\n2022-01-02 -0.578927  0.950016 -0.625062 -1.284789",
      "text/html": "<div>\n<style scoped>\n    .dataframe tbody tr th:only-of-type {\n        vertical-align: middle;\n    }\n\n    .dataframe tbody tr th {\n        vertical-align: top;\n    }\n\n    .dataframe thead th {\n        text-align: right;\n    }\n</style>\n<table border=\"1\" class=\"dataframe\">\n  <thead>\n    <tr style=\"text-align: right;\">\n      <th></th>\n      <th>A</th>\n      <th>B</th>\n      <th>C</th>\n      <th>D</th>\n    </tr>\n  </thead>\n  <tbody>\n    <tr>\n      <th>2022-01-01</th>\n      <td>-1.063011</td>\n      <td>0.460896</td>\n      <td>-1.778929</td>\n      <td>0.848872</td>\n    </tr>\n    <tr>\n      <th>2022-01-02</th>\n      <td>-0.578927</td>\n      <td>0.950016</td>\n      <td>-0.625062</td>\n      <td>-1.284789</td>\n    </tr>\n  </tbody>\n</table>\n</div>"
     },
     "execution_count": 97,
     "metadata": {},
     "output_type": "execute_result"
    }
   ],
   "source": [
    "# data selection by row\n",
    "sample_data_frame[0:2]"
   ],
   "metadata": {
    "collapsed": false,
    "pycharm": {
     "name": "#%%\n"
    }
   }
  },
  {
   "cell_type": "code",
   "execution_count": 98,
   "outputs": [
    {
     "data": {
      "text/plain": "DatetimeIndex(['2022-01-01', '2022-01-02', '2022-01-03', '2022-01-04',\n               '2022-01-05', '2022-01-06', '2022-01-07', '2022-01-08',\n               '2022-01-09', '2022-01-10', '2022-01-11', '2022-01-12',\n               '2022-01-13', '2022-01-14', '2022-01-15', '2022-01-16',\n               '2022-01-17', '2022-01-18', '2022-01-19', '2022-01-20'],\n              dtype='datetime64[ns]', freq='D')"
     },
     "execution_count": 98,
     "metadata": {},
     "output_type": "execute_result"
    }
   ],
   "source": [
    "dates"
   ],
   "metadata": {
    "collapsed": false,
    "pycharm": {
     "name": "#%%\n"
    }
   }
  },
  {
   "cell_type": "code",
   "execution_count": 113,
   "outputs": [
    {
     "data": {
      "text/plain": "     A          B      E        F\n0  1.0 2022-01-01   girl  females\n3  1.0 2022-01-04  woman  females",
      "text/html": "<div>\n<style scoped>\n    .dataframe tbody tr th:only-of-type {\n        vertical-align: middle;\n    }\n\n    .dataframe tbody tr th {\n        vertical-align: top;\n    }\n\n    .dataframe thead th {\n        text-align: right;\n    }\n</style>\n<table border=\"1\" class=\"dataframe\">\n  <thead>\n    <tr style=\"text-align: right;\">\n      <th></th>\n      <th>A</th>\n      <th>B</th>\n      <th>E</th>\n      <th>F</th>\n    </tr>\n  </thead>\n  <tbody>\n    <tr>\n      <th>0</th>\n      <td>1.0</td>\n      <td>2022-01-01</td>\n      <td>girl</td>\n      <td>females</td>\n    </tr>\n    <tr>\n      <th>3</th>\n      <td>1.0</td>\n      <td>2022-01-04</td>\n      <td>woman</td>\n      <td>females</td>\n    </tr>\n  </tbody>\n</table>\n</div>"
     },
     "execution_count": 113,
     "metadata": {},
     "output_type": "execute_result"
    }
   ],
   "source": [
    "# selecting specific numbers to retrieve data\n",
    "# data_frame3.loc[(0,3), [\"A\", \"B\", \"E\",\"F\"]]\n",
    "data_frame3.loc[[0,3], [\"A\", \"B\", \"E\",\"F\"]]"
   ],
   "metadata": {
    "collapsed": false,
    "pycharm": {
     "name": "#%%\n"
    }
   }
  },
  {
   "cell_type": "code",
   "execution_count": 116,
   "outputs": [
    {
     "data": {
      "text/plain": "     A          B      E        F\n0  1.0 2022-01-01   girl  females\n1  1.0 2022-01-02  woman  females\n2  1.0 2022-01-03   girl  females",
      "text/html": "<div>\n<style scoped>\n    .dataframe tbody tr th:only-of-type {\n        vertical-align: middle;\n    }\n\n    .dataframe tbody tr th {\n        vertical-align: top;\n    }\n\n    .dataframe thead th {\n        text-align: right;\n    }\n</style>\n<table border=\"1\" class=\"dataframe\">\n  <thead>\n    <tr style=\"text-align: right;\">\n      <th></th>\n      <th>A</th>\n      <th>B</th>\n      <th>E</th>\n      <th>F</th>\n    </tr>\n  </thead>\n  <tbody>\n    <tr>\n      <th>0</th>\n      <td>1.0</td>\n      <td>2022-01-01</td>\n      <td>girl</td>\n      <td>females</td>\n    </tr>\n    <tr>\n      <th>1</th>\n      <td>1.0</td>\n      <td>2022-01-02</td>\n      <td>woman</td>\n      <td>females</td>\n    </tr>\n    <tr>\n      <th>2</th>\n      <td>1.0</td>\n      <td>2022-01-03</td>\n      <td>girl</td>\n      <td>females</td>\n    </tr>\n  </tbody>\n</table>\n</div>"
     },
     "execution_count": 116,
     "metadata": {},
     "output_type": "execute_result"
    }
   ],
   "source": [
    "# selecting a range to retrieve data\n",
    "data_frame3.loc[0:2, [\"A\", \"B\", \"E\",\"F\"]]"
   ],
   "metadata": {
    "collapsed": false,
    "pycharm": {
     "name": "#%%\n"
    }
   }
  },
  {
   "cell_type": "code",
   "execution_count": 119,
   "outputs": [
    {
     "data": {
      "text/plain": "'girl'"
     },
     "execution_count": 119,
     "metadata": {},
     "output_type": "execute_result"
    }
   ],
   "source": [
    "# Accessing value on a specific location\n",
    "# Thing to remember that its a property and not a function, so should be used square brackets instead of round brackets\n",
    "# Docs shows that this is an indexing mixin, so we can provide custom values by using square brackets\n",
    "data_frame2.at[0, \"E\"]"
   ],
   "metadata": {
    "collapsed": false,
    "pycharm": {
     "name": "#%%\n"
    }
   }
  },
  {
   "cell_type": "code",
   "execution_count": 139,
   "outputs": [
    {
     "data": {
      "text/plain": "0     girl\n1    woman\n2     girl\n3    woman\n4     girl\nName: E, dtype: category\nCategories (2, object): ['girl', 'woman']"
     },
     "execution_count": 139,
     "metadata": {},
     "output_type": "execute_result"
    }
   ],
   "source": [
    "# Accessing value on a specific index location i.e. iloc\n",
    "# data_frame2.iloc[rows, columns]\n",
    "# data_frame2.iloc[0:3, 0:] # from rows 0 to 3, column 0 to all\n",
    "# data_frame2.iloc[0:3, 0:1] # from rows 0 to 3, column 0 to 1\n",
    "# data_frame2.iloc[0:3, 4] # from rows 0 to 3, column 4\n",
    "# data_frame2.iloc[3, 4] # from rows 4 (index 3), column 5(index 4)\n",
    "\n",
    "# data_frame2.iloc[3] # from rows 4 (index 3), columns all\n",
    "# data_frame2.iloc[3, :] # from rows 4 (index 3), columns all - same as above\n",
    "data_frame2.iloc[:, 4] # from all rows, columns column 5(index 4)"
   ],
   "metadata": {
    "collapsed": false,
    "pycharm": {
     "name": "#%%\n"
    }
   }
  },
  {
   "cell_type": "code",
   "execution_count": 143,
   "outputs": [
    {
     "data": {
      "text/plain": "                   A         B         C         D\n2022-01-03  1.841992 -0.241657 -1.031969  0.678336\n2022-01-13  1.812164 -2.702198  1.172949 -0.385296",
      "text/html": "<div>\n<style scoped>\n    .dataframe tbody tr th:only-of-type {\n        vertical-align: middle;\n    }\n\n    .dataframe tbody tr th {\n        vertical-align: top;\n    }\n\n    .dataframe thead th {\n        text-align: right;\n    }\n</style>\n<table border=\"1\" class=\"dataframe\">\n  <thead>\n    <tr style=\"text-align: right;\">\n      <th></th>\n      <th>A</th>\n      <th>B</th>\n      <th>C</th>\n      <th>D</th>\n    </tr>\n  </thead>\n  <tbody>\n    <tr>\n      <th>2022-01-03</th>\n      <td>1.841992</td>\n      <td>-0.241657</td>\n      <td>-1.031969</td>\n      <td>0.678336</td>\n    </tr>\n    <tr>\n      <th>2022-01-13</th>\n      <td>1.812164</td>\n      <td>-2.702198</td>\n      <td>1.172949</td>\n      <td>-0.385296</td>\n    </tr>\n  </tbody>\n</table>\n</div>"
     },
     "execution_count": 143,
     "metadata": {},
     "output_type": "execute_result"
    }
   ],
   "source": [
    "# Filtering data\n",
    "sample_data_frame[sample_data_frame[\"A\"] > 1.2] # subset of data where value of a is greater than given value"
   ],
   "metadata": {
    "collapsed": false,
    "pycharm": {
     "name": "#%%\n"
    }
   }
  },
  {
   "cell_type": "code",
   "execution_count": 144,
   "outputs": [
    {
     "data": {
      "text/plain": "                   A         B         C         D\n2022-01-01       NaN  0.460896       NaN  0.848872\n2022-01-02       NaN  0.950016       NaN       NaN\n2022-01-03  1.841992       NaN       NaN  0.678336\n2022-01-04       NaN  1.331086  0.965275       NaN\n2022-01-05  1.003092       NaN  0.199527       NaN\n2022-01-06       NaN       NaN  0.833609       NaN\n2022-01-07  0.083523       NaN  0.816181  1.389265\n2022-01-08  0.019289       NaN       NaN  0.469760\n2022-01-09       NaN  0.520185       NaN  1.054169\n2022-01-10       NaN  1.337745  0.347332       NaN\n2022-01-11       NaN  1.047861  0.787907  0.713133\n2022-01-12       NaN  0.969656  1.449841       NaN\n2022-01-13  1.812164       NaN  1.172949       NaN\n2022-01-14       NaN  0.371645  1.027515       NaN\n2022-01-15  0.011016  0.088845  0.915048       NaN\n2022-01-16  1.138897       NaN  1.382349       NaN\n2022-01-17       NaN  2.036712  0.873930       NaN\n2022-01-18       NaN       NaN       NaN  1.905248\n2022-01-19  0.286306  0.062278       NaN  0.406134\n2022-01-20       NaN  0.985538  0.924371  1.067879",
      "text/html": "<div>\n<style scoped>\n    .dataframe tbody tr th:only-of-type {\n        vertical-align: middle;\n    }\n\n    .dataframe tbody tr th {\n        vertical-align: top;\n    }\n\n    .dataframe thead th {\n        text-align: right;\n    }\n</style>\n<table border=\"1\" class=\"dataframe\">\n  <thead>\n    <tr style=\"text-align: right;\">\n      <th></th>\n      <th>A</th>\n      <th>B</th>\n      <th>C</th>\n      <th>D</th>\n    </tr>\n  </thead>\n  <tbody>\n    <tr>\n      <th>2022-01-01</th>\n      <td>NaN</td>\n      <td>0.460896</td>\n      <td>NaN</td>\n      <td>0.848872</td>\n    </tr>\n    <tr>\n      <th>2022-01-02</th>\n      <td>NaN</td>\n      <td>0.950016</td>\n      <td>NaN</td>\n      <td>NaN</td>\n    </tr>\n    <tr>\n      <th>2022-01-03</th>\n      <td>1.841992</td>\n      <td>NaN</td>\n      <td>NaN</td>\n      <td>0.678336</td>\n    </tr>\n    <tr>\n      <th>2022-01-04</th>\n      <td>NaN</td>\n      <td>1.331086</td>\n      <td>0.965275</td>\n      <td>NaN</td>\n    </tr>\n    <tr>\n      <th>2022-01-05</th>\n      <td>1.003092</td>\n      <td>NaN</td>\n      <td>0.199527</td>\n      <td>NaN</td>\n    </tr>\n    <tr>\n      <th>2022-01-06</th>\n      <td>NaN</td>\n      <td>NaN</td>\n      <td>0.833609</td>\n      <td>NaN</td>\n    </tr>\n    <tr>\n      <th>2022-01-07</th>\n      <td>0.083523</td>\n      <td>NaN</td>\n      <td>0.816181</td>\n      <td>1.389265</td>\n    </tr>\n    <tr>\n      <th>2022-01-08</th>\n      <td>0.019289</td>\n      <td>NaN</td>\n      <td>NaN</td>\n      <td>0.469760</td>\n    </tr>\n    <tr>\n      <th>2022-01-09</th>\n      <td>NaN</td>\n      <td>0.520185</td>\n      <td>NaN</td>\n      <td>1.054169</td>\n    </tr>\n    <tr>\n      <th>2022-01-10</th>\n      <td>NaN</td>\n      <td>1.337745</td>\n      <td>0.347332</td>\n      <td>NaN</td>\n    </tr>\n    <tr>\n      <th>2022-01-11</th>\n      <td>NaN</td>\n      <td>1.047861</td>\n      <td>0.787907</td>\n      <td>0.713133</td>\n    </tr>\n    <tr>\n      <th>2022-01-12</th>\n      <td>NaN</td>\n      <td>0.969656</td>\n      <td>1.449841</td>\n      <td>NaN</td>\n    </tr>\n    <tr>\n      <th>2022-01-13</th>\n      <td>1.812164</td>\n      <td>NaN</td>\n      <td>1.172949</td>\n      <td>NaN</td>\n    </tr>\n    <tr>\n      <th>2022-01-14</th>\n      <td>NaN</td>\n      <td>0.371645</td>\n      <td>1.027515</td>\n      <td>NaN</td>\n    </tr>\n    <tr>\n      <th>2022-01-15</th>\n      <td>0.011016</td>\n      <td>0.088845</td>\n      <td>0.915048</td>\n      <td>NaN</td>\n    </tr>\n    <tr>\n      <th>2022-01-16</th>\n      <td>1.138897</td>\n      <td>NaN</td>\n      <td>1.382349</td>\n      <td>NaN</td>\n    </tr>\n    <tr>\n      <th>2022-01-17</th>\n      <td>NaN</td>\n      <td>2.036712</td>\n      <td>0.873930</td>\n      <td>NaN</td>\n    </tr>\n    <tr>\n      <th>2022-01-18</th>\n      <td>NaN</td>\n      <td>NaN</td>\n      <td>NaN</td>\n      <td>1.905248</td>\n    </tr>\n    <tr>\n      <th>2022-01-19</th>\n      <td>0.286306</td>\n      <td>0.062278</td>\n      <td>NaN</td>\n      <td>0.406134</td>\n    </tr>\n    <tr>\n      <th>2022-01-20</th>\n      <td>NaN</td>\n      <td>0.985538</td>\n      <td>0.924371</td>\n      <td>1.067879</td>\n    </tr>\n  </tbody>\n</table>\n</div>"
     },
     "execution_count": 144,
     "metadata": {},
     "output_type": "execute_result"
    }
   ],
   "source": [
    "sample_data_frame[sample_data_frame > 0] # subset of data where value all fields are greater than given value"
   ],
   "metadata": {
    "collapsed": false,
    "pycharm": {
     "name": "#%%\n"
    }
   }
  }
 ],
 "metadata": {
  "kernelspec": {
   "display_name": "Python 3",
   "language": "python",
   "name": "python3"
  },
  "language_info": {
   "codemirror_mode": {
    "name": "ipython",
    "version": 2
   },
   "file_extension": ".py",
   "mimetype": "text/x-python",
   "name": "python",
   "nbconvert_exporter": "python",
   "pygments_lexer": "ipython2",
   "version": "2.7.6"
  }
 },
 "nbformat": 4,
 "nbformat_minor": 0
}