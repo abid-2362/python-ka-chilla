{
 "cells": [
  {
   "cell_type": "markdown",
   "metadata": {
    "collapsed": true,
    "pycharm": {
     "name": "#%% md\n"
    }
   },
   "source": [
    "# Learning Pandas With Dr. Ammar Tufail"
   ]
  },
  {
   "cell_type": "code",
   "execution_count": 23,
   "metadata": {
    "collapsed": false,
    "pycharm": {
     "name": "#%%\n"
    }
   },
   "outputs": [],
   "source": [
    "import numpy as np\n",
    "# import libraries\n",
    "import pandas as pd"
   ]
  },
  {
   "cell_type": "code",
   "execution_count": 24,
   "metadata": {
    "collapsed": false,
    "pycharm": {
     "name": "#%%\n"
    }
   },
   "outputs": [
    {
     "data": {
      "text/plain": "0    1.0\n1    3.0\n2    NaN\n3    5.0\n4    7.0\n5    8.0\n6    9.0\ndtype: float64"
     },
     "execution_count": 24,
     "metadata": {},
     "output_type": "execute_result"
    }
   ],
   "source": [
    "# Object Creation\n",
    "sample_series = pd.Series([1, 3, np.nan, 5, 7, 8, 9])\n",
    "sample_series"
   ]
  },
  {
   "cell_type": "code",
   "execution_count": 25,
   "metadata": {
    "collapsed": false,
    "pycharm": {
     "name": "#%%\n"
    }
   },
   "outputs": [
    {
     "data": {
      "text/plain": "DatetimeIndex(['2022-01-01', '2022-01-02', '2022-01-03', '2022-01-04',\n               '2022-01-05', '2022-01-06', '2022-01-07', '2022-01-08',\n               '2022-01-09', '2022-01-10', '2022-01-11', '2022-01-12',\n               '2022-01-13', '2022-01-14', '2022-01-15', '2022-01-16',\n               '2022-01-17', '2022-01-18', '2022-01-19', '2022-01-20'],\n              dtype='datetime64[ns]', freq='D')"
     },
     "execution_count": 25,
     "metadata": {},
     "output_type": "execute_result"
    }
   ],
   "source": [
    "# Creating date range by pandas\n",
    "dates = pd.date_range(\"20220101\", periods=20)\n",
    "dates"
   ]
  },
  {
   "cell_type": "code",
   "execution_count": 26,
   "metadata": {
    "collapsed": false,
    "pycharm": {
     "name": "#%%\n"
    }
   },
   "outputs": [
    {
     "data": {
      "text/plain": "array([[ 0.55843696, -2.14358193, -1.04491573, -0.42014331],\n       [-1.4551199 , -0.73062499, -1.05582721,  0.93724211],\n       [-1.00357843, -2.07577779,  1.12102831, -0.91031404],\n       [ 1.01627963,  0.51756165, -1.02551538, -1.85607554],\n       [ 1.86848015,  2.03715226,  1.03256231,  0.19081161],\n       [ 0.89607479,  0.81718761, -1.32113317,  0.10760895],\n       [ 1.25362462, -0.69318376, -0.70104971,  1.87058584],\n       [-0.77273973,  0.77545826, -0.24195267, -0.66355302],\n       [-1.13156872,  0.02015053, -0.31700978,  1.02679149],\n       [-0.45181479, -1.06728081,  0.42467161, -1.08012469],\n       [-1.58934798, -1.68057148,  2.02909991, -0.04197276],\n       [ 1.13222044,  1.30116685,  1.15494015,  0.83908287],\n       [ 0.13845928,  0.00464934,  1.43437825,  2.62454893],\n       [ 0.29670714,  0.54350232, -0.11723992, -1.688556  ],\n       [-0.93584341, -1.41952935, -0.48256241, -0.78644328],\n       [ 0.30844906, -0.3353353 , -1.45153386,  0.03059135],\n       [ 0.66034584, -0.7022528 , -1.29153859, -1.8461975 ],\n       [ 0.42591341, -0.01402308,  1.15007152, -1.97698046],\n       [ 1.57467546,  1.25246661, -1.43344631,  2.205638  ],\n       [ 0.61364208,  0.85994717,  0.55189   ,  0.62735943]])"
     },
     "execution_count": 26,
     "metadata": {},
     "output_type": "execute_result"
    }
   ],
   "source": [
    "# Create a 2 dimensional array by using numpy random.randn function\n",
    "random_array = np.random.randn(20, 4)\n",
    "random_array"
   ]
  },
  {
   "cell_type": "code",
   "execution_count": 27,
   "metadata": {
    "collapsed": false,
    "pycharm": {
     "name": "#%%\n"
    }
   },
   "outputs": [
    {
     "data": {
      "text/plain": "                   A         B         C         D\n2022-01-01  0.558437 -2.143582 -1.044916 -0.420143\n2022-01-02 -1.455120 -0.730625 -1.055827  0.937242\n2022-01-03 -1.003578 -2.075778  1.121028 -0.910314\n2022-01-04  1.016280  0.517562 -1.025515 -1.856076\n2022-01-05  1.868480  2.037152  1.032562  0.190812\n2022-01-06  0.896075  0.817188 -1.321133  0.107609\n2022-01-07  1.253625 -0.693184 -0.701050  1.870586\n2022-01-08 -0.772740  0.775458 -0.241953 -0.663553\n2022-01-09 -1.131569  0.020151 -0.317010  1.026791\n2022-01-10 -0.451815 -1.067281  0.424672 -1.080125\n2022-01-11 -1.589348 -1.680571  2.029100 -0.041973\n2022-01-12  1.132220  1.301167  1.154940  0.839083\n2022-01-13  0.138459  0.004649  1.434378  2.624549\n2022-01-14  0.296707  0.543502 -0.117240 -1.688556\n2022-01-15 -0.935843 -1.419529 -0.482562 -0.786443\n2022-01-16  0.308449 -0.335335 -1.451534  0.030591\n2022-01-17  0.660346 -0.702253 -1.291539 -1.846197\n2022-01-18  0.425913 -0.014023  1.150072 -1.976980\n2022-01-19  1.574675  1.252467 -1.433446  2.205638\n2022-01-20  0.613642  0.859947  0.551890  0.627359",
      "text/html": "<div>\n<style scoped>\n    .dataframe tbody tr th:only-of-type {\n        vertical-align: middle;\n    }\n\n    .dataframe tbody tr th {\n        vertical-align: top;\n    }\n\n    .dataframe thead th {\n        text-align: right;\n    }\n</style>\n<table border=\"1\" class=\"dataframe\">\n  <thead>\n    <tr style=\"text-align: right;\">\n      <th></th>\n      <th>A</th>\n      <th>B</th>\n      <th>C</th>\n      <th>D</th>\n    </tr>\n  </thead>\n  <tbody>\n    <tr>\n      <th>2022-01-01</th>\n      <td>0.558437</td>\n      <td>-2.143582</td>\n      <td>-1.044916</td>\n      <td>-0.420143</td>\n    </tr>\n    <tr>\n      <th>2022-01-02</th>\n      <td>-1.455120</td>\n      <td>-0.730625</td>\n      <td>-1.055827</td>\n      <td>0.937242</td>\n    </tr>\n    <tr>\n      <th>2022-01-03</th>\n      <td>-1.003578</td>\n      <td>-2.075778</td>\n      <td>1.121028</td>\n      <td>-0.910314</td>\n    </tr>\n    <tr>\n      <th>2022-01-04</th>\n      <td>1.016280</td>\n      <td>0.517562</td>\n      <td>-1.025515</td>\n      <td>-1.856076</td>\n    </tr>\n    <tr>\n      <th>2022-01-05</th>\n      <td>1.868480</td>\n      <td>2.037152</td>\n      <td>1.032562</td>\n      <td>0.190812</td>\n    </tr>\n    <tr>\n      <th>2022-01-06</th>\n      <td>0.896075</td>\n      <td>0.817188</td>\n      <td>-1.321133</td>\n      <td>0.107609</td>\n    </tr>\n    <tr>\n      <th>2022-01-07</th>\n      <td>1.253625</td>\n      <td>-0.693184</td>\n      <td>-0.701050</td>\n      <td>1.870586</td>\n    </tr>\n    <tr>\n      <th>2022-01-08</th>\n      <td>-0.772740</td>\n      <td>0.775458</td>\n      <td>-0.241953</td>\n      <td>-0.663553</td>\n    </tr>\n    <tr>\n      <th>2022-01-09</th>\n      <td>-1.131569</td>\n      <td>0.020151</td>\n      <td>-0.317010</td>\n      <td>1.026791</td>\n    </tr>\n    <tr>\n      <th>2022-01-10</th>\n      <td>-0.451815</td>\n      <td>-1.067281</td>\n      <td>0.424672</td>\n      <td>-1.080125</td>\n    </tr>\n    <tr>\n      <th>2022-01-11</th>\n      <td>-1.589348</td>\n      <td>-1.680571</td>\n      <td>2.029100</td>\n      <td>-0.041973</td>\n    </tr>\n    <tr>\n      <th>2022-01-12</th>\n      <td>1.132220</td>\n      <td>1.301167</td>\n      <td>1.154940</td>\n      <td>0.839083</td>\n    </tr>\n    <tr>\n      <th>2022-01-13</th>\n      <td>0.138459</td>\n      <td>0.004649</td>\n      <td>1.434378</td>\n      <td>2.624549</td>\n    </tr>\n    <tr>\n      <th>2022-01-14</th>\n      <td>0.296707</td>\n      <td>0.543502</td>\n      <td>-0.117240</td>\n      <td>-1.688556</td>\n    </tr>\n    <tr>\n      <th>2022-01-15</th>\n      <td>-0.935843</td>\n      <td>-1.419529</td>\n      <td>-0.482562</td>\n      <td>-0.786443</td>\n    </tr>\n    <tr>\n      <th>2022-01-16</th>\n      <td>0.308449</td>\n      <td>-0.335335</td>\n      <td>-1.451534</td>\n      <td>0.030591</td>\n    </tr>\n    <tr>\n      <th>2022-01-17</th>\n      <td>0.660346</td>\n      <td>-0.702253</td>\n      <td>-1.291539</td>\n      <td>-1.846197</td>\n    </tr>\n    <tr>\n      <th>2022-01-18</th>\n      <td>0.425913</td>\n      <td>-0.014023</td>\n      <td>1.150072</td>\n      <td>-1.976980</td>\n    </tr>\n    <tr>\n      <th>2022-01-19</th>\n      <td>1.574675</td>\n      <td>1.252467</td>\n      <td>-1.433446</td>\n      <td>2.205638</td>\n    </tr>\n    <tr>\n      <th>2022-01-20</th>\n      <td>0.613642</td>\n      <td>0.859947</td>\n      <td>0.551890</td>\n      <td>0.627359</td>\n    </tr>\n  </tbody>\n</table>\n</div>"
     },
     "execution_count": 27,
     "metadata": {},
     "output_type": "execute_result"
    }
   ],
   "source": [
    "# Creating DataFrame\n",
    "# sample_data_frame = pd.DataFrame(random_array, index=dates, columns=\"abcd\")\n",
    "# TypeError: Index(...) must be called with a collection of some kind, 'abcd' was passed\n",
    "\n",
    "sample_data_frame = pd.DataFrame(random_array, index=dates, columns=list(\"ABCD\"))\n",
    "sample_data_frame"
   ]
  },
  {
   "cell_type": "code",
   "execution_count": 28,
   "metadata": {
    "collapsed": false,
    "pycharm": {
     "name": "#%%\n"
    }
   },
   "outputs": [
    {
     "data": {
      "text/plain": "     A          B    C  D      E        F\n0  1.0 2013-01-02  3.0  3   girl  females\n1  1.0 2013-01-02  3.0  3  woman  females\n2  1.0 2013-01-02  3.0  3   girl  females\n3  1.0 2013-01-02  3.0  3  woman  females\n4  1.0 2013-01-02  3.0  3   girl  females",
      "text/html": "<div>\n<style scoped>\n    .dataframe tbody tr th:only-of-type {\n        vertical-align: middle;\n    }\n\n    .dataframe tbody tr th {\n        vertical-align: top;\n    }\n\n    .dataframe thead th {\n        text-align: right;\n    }\n</style>\n<table border=\"1\" class=\"dataframe\">\n  <thead>\n    <tr style=\"text-align: right;\">\n      <th></th>\n      <th>A</th>\n      <th>B</th>\n      <th>C</th>\n      <th>D</th>\n      <th>E</th>\n      <th>F</th>\n    </tr>\n  </thead>\n  <tbody>\n    <tr>\n      <th>0</th>\n      <td>1.0</td>\n      <td>2013-01-02</td>\n      <td>3.0</td>\n      <td>3</td>\n      <td>girl</td>\n      <td>females</td>\n    </tr>\n    <tr>\n      <th>1</th>\n      <td>1.0</td>\n      <td>2013-01-02</td>\n      <td>3.0</td>\n      <td>3</td>\n      <td>woman</td>\n      <td>females</td>\n    </tr>\n    <tr>\n      <th>2</th>\n      <td>1.0</td>\n      <td>2013-01-02</td>\n      <td>3.0</td>\n      <td>3</td>\n      <td>girl</td>\n      <td>females</td>\n    </tr>\n    <tr>\n      <th>3</th>\n      <td>1.0</td>\n      <td>2013-01-02</td>\n      <td>3.0</td>\n      <td>3</td>\n      <td>woman</td>\n      <td>females</td>\n    </tr>\n    <tr>\n      <th>4</th>\n      <td>1.0</td>\n      <td>2013-01-02</td>\n      <td>3.0</td>\n      <td>3</td>\n      <td>girl</td>\n      <td>females</td>\n    </tr>\n  </tbody>\n</table>\n</div>"
     },
     "execution_count": 28,
     "metadata": {},
     "output_type": "execute_result"
    }
   ],
   "source": [
    "# Creating Data Frame using pandas\n",
    "data_frame2 = pd.DataFrame(\n",
    "    {\n",
    "        \"A\": 1.0,\n",
    "        \"B\": pd.Timestamp(\"20130102\"),\n",
    "        \"C\": pd.Series(3, index=list(range(5)), dtype=np.float32),\n",
    "        \"D\": np.array([3] * 5, dtype=\"int32\"),\n",
    "        \"E\": pd.Categorical([\"girl\", \"woman\", \"girl\", \"woman\", \"girl\"]),\n",
    "        \"F\": \"females\"\n",
    "    }\n",
    ")\n",
    "\n",
    "data_frame2"
   ]
  },
  {
   "cell_type": "code",
   "execution_count": 29,
   "metadata": {
    "collapsed": false,
    "pycharm": {
     "name": "#%%\n"
    }
   },
   "outputs": [
    {
     "data": {
      "text/plain": "A           float64\nB    datetime64[ns]\nC           float32\nD             int32\nE          category\nF            object\ndtype: object"
     },
     "execution_count": 29,
     "metadata": {},
     "output_type": "execute_result"
    }
   ],
   "source": [
    "data_frame2.dtypes"
   ]
  },
  {
   "cell_type": "code",
   "execution_count": 30,
   "metadata": {
    "collapsed": false,
    "pycharm": {
     "name": "#%%\n"
    }
   },
   "outputs": [
    {
     "data": {
      "text/plain": "     A          B    C  D      E        F\n0  1.0 2013-01-02  3.0  3   girl  females\n1  1.0 2013-01-02  3.0  3  woman  females\n2  1.0 2013-01-02  3.0  3   girl  females\n3  1.0 2013-01-02  3.0  3  woman  females\n4  1.0 2013-01-02  3.0  3   girl  females",
      "text/html": "<div>\n<style scoped>\n    .dataframe tbody tr th:only-of-type {\n        vertical-align: middle;\n    }\n\n    .dataframe tbody tr th {\n        vertical-align: top;\n    }\n\n    .dataframe thead th {\n        text-align: right;\n    }\n</style>\n<table border=\"1\" class=\"dataframe\">\n  <thead>\n    <tr style=\"text-align: right;\">\n      <th></th>\n      <th>A</th>\n      <th>B</th>\n      <th>C</th>\n      <th>D</th>\n      <th>E</th>\n      <th>F</th>\n    </tr>\n  </thead>\n  <tbody>\n    <tr>\n      <th>0</th>\n      <td>1.0</td>\n      <td>2013-01-02</td>\n      <td>3.0</td>\n      <td>3</td>\n      <td>girl</td>\n      <td>females</td>\n    </tr>\n    <tr>\n      <th>1</th>\n      <td>1.0</td>\n      <td>2013-01-02</td>\n      <td>3.0</td>\n      <td>3</td>\n      <td>woman</td>\n      <td>females</td>\n    </tr>\n    <tr>\n      <th>2</th>\n      <td>1.0</td>\n      <td>2013-01-02</td>\n      <td>3.0</td>\n      <td>3</td>\n      <td>girl</td>\n      <td>females</td>\n    </tr>\n    <tr>\n      <th>3</th>\n      <td>1.0</td>\n      <td>2013-01-02</td>\n      <td>3.0</td>\n      <td>3</td>\n      <td>woman</td>\n      <td>females</td>\n    </tr>\n    <tr>\n      <th>4</th>\n      <td>1.0</td>\n      <td>2013-01-02</td>\n      <td>3.0</td>\n      <td>3</td>\n      <td>girl</td>\n      <td>females</td>\n    </tr>\n  </tbody>\n</table>\n</div>"
     },
     "execution_count": 30,
     "metadata": {},
     "output_type": "execute_result"
    }
   ],
   "source": [
    "data_frame2.head()"
   ]
  },
  {
   "cell_type": "code",
   "execution_count": 31,
   "metadata": {
    "collapsed": false,
    "pycharm": {
     "name": "#%%\n"
    }
   },
   "outputs": [
    {
     "data": {
      "text/plain": "     A          B    C  D      E        F\n3  1.0 2013-01-02  3.0  3  woman  females\n4  1.0 2013-01-02  3.0  3   girl  females",
      "text/html": "<div>\n<style scoped>\n    .dataframe tbody tr th:only-of-type {\n        vertical-align: middle;\n    }\n\n    .dataframe tbody tr th {\n        vertical-align: top;\n    }\n\n    .dataframe thead th {\n        text-align: right;\n    }\n</style>\n<table border=\"1\" class=\"dataframe\">\n  <thead>\n    <tr style=\"text-align: right;\">\n      <th></th>\n      <th>A</th>\n      <th>B</th>\n      <th>C</th>\n      <th>D</th>\n      <th>E</th>\n      <th>F</th>\n    </tr>\n  </thead>\n  <tbody>\n    <tr>\n      <th>3</th>\n      <td>1.0</td>\n      <td>2013-01-02</td>\n      <td>3.0</td>\n      <td>3</td>\n      <td>woman</td>\n      <td>females</td>\n    </tr>\n    <tr>\n      <th>4</th>\n      <td>1.0</td>\n      <td>2013-01-02</td>\n      <td>3.0</td>\n      <td>3</td>\n      <td>girl</td>\n      <td>females</td>\n    </tr>\n  </tbody>\n</table>\n</div>"
     },
     "execution_count": 31,
     "metadata": {},
     "output_type": "execute_result"
    }
   ],
   "source": [
    "data_frame2.tail(2)"
   ]
  },
  {
   "cell_type": "code",
   "execution_count": 32,
   "metadata": {
    "collapsed": false,
    "pycharm": {
     "name": "#%%\n"
    }
   },
   "outputs": [
    {
     "data": {
      "text/plain": "     A          B    C  D      E        F\n0  1.0 2022-01-01  3.0  3   girl  females\n1  1.0 2022-01-02  3.0  3  woman  females\n2  1.0 2022-01-03  3.0  3   girl  females\n3  1.0 2022-01-04  3.0  3  woman  females\n4  1.0 2022-01-05  3.0  3   girl  females",
      "text/html": "<div>\n<style scoped>\n    .dataframe tbody tr th:only-of-type {\n        vertical-align: middle;\n    }\n\n    .dataframe tbody tr th {\n        vertical-align: top;\n    }\n\n    .dataframe thead th {\n        text-align: right;\n    }\n</style>\n<table border=\"1\" class=\"dataframe\">\n  <thead>\n    <tr style=\"text-align: right;\">\n      <th></th>\n      <th>A</th>\n      <th>B</th>\n      <th>C</th>\n      <th>D</th>\n      <th>E</th>\n      <th>F</th>\n    </tr>\n  </thead>\n  <tbody>\n    <tr>\n      <th>0</th>\n      <td>1.0</td>\n      <td>2022-01-01</td>\n      <td>3.0</td>\n      <td>3</td>\n      <td>girl</td>\n      <td>females</td>\n    </tr>\n    <tr>\n      <th>1</th>\n      <td>1.0</td>\n      <td>2022-01-02</td>\n      <td>3.0</td>\n      <td>3</td>\n      <td>woman</td>\n      <td>females</td>\n    </tr>\n    <tr>\n      <th>2</th>\n      <td>1.0</td>\n      <td>2022-01-03</td>\n      <td>3.0</td>\n      <td>3</td>\n      <td>girl</td>\n      <td>females</td>\n    </tr>\n    <tr>\n      <th>3</th>\n      <td>1.0</td>\n      <td>2022-01-04</td>\n      <td>3.0</td>\n      <td>3</td>\n      <td>woman</td>\n      <td>females</td>\n    </tr>\n    <tr>\n      <th>4</th>\n      <td>1.0</td>\n      <td>2022-01-05</td>\n      <td>3.0</td>\n      <td>3</td>\n      <td>girl</td>\n      <td>females</td>\n    </tr>\n  </tbody>\n</table>\n</div>"
     },
     "execution_count": 32,
     "metadata": {},
     "output_type": "execute_result"
    }
   ],
   "source": [
    "# Creating Data Frame using pandas\n",
    "data_frame3 = pd.DataFrame(\n",
    "    {\n",
    "        \"A\": 1.0,\n",
    "        \"B\": dates[:5],\n",
    "        \"C\": pd.Series(3, index=list(range(5)), dtype=np.float32),\n",
    "        \"D\": np.array([3] * 5, dtype=\"int32\"),\n",
    "        \"E\": pd.Categorical([\"girl\", \"woman\", \"girl\", \"woman\", \"girl\"]),\n",
    "        \"F\": \"females\"\n",
    "    }\n",
    ")\n",
    "\n",
    "data_frame3"
   ]
  },
  {
   "cell_type": "code",
   "execution_count": 33,
   "metadata": {
    "collapsed": false,
    "pycharm": {
     "name": "#%%\n"
    }
   },
   "outputs": [
    {
     "data": {
      "text/plain": "     A          B    C  D      E        F\n0  1.0 2022-01-01  3.0  3   girl  females\n1  1.0 2022-01-02  3.0  3  woman  females",
      "text/html": "<div>\n<style scoped>\n    .dataframe tbody tr th:only-of-type {\n        vertical-align: middle;\n    }\n\n    .dataframe tbody tr th {\n        vertical-align: top;\n    }\n\n    .dataframe thead th {\n        text-align: right;\n    }\n</style>\n<table border=\"1\" class=\"dataframe\">\n  <thead>\n    <tr style=\"text-align: right;\">\n      <th></th>\n      <th>A</th>\n      <th>B</th>\n      <th>C</th>\n      <th>D</th>\n      <th>E</th>\n      <th>F</th>\n    </tr>\n  </thead>\n  <tbody>\n    <tr>\n      <th>0</th>\n      <td>1.0</td>\n      <td>2022-01-01</td>\n      <td>3.0</td>\n      <td>3</td>\n      <td>girl</td>\n      <td>females</td>\n    </tr>\n    <tr>\n      <th>1</th>\n      <td>1.0</td>\n      <td>2022-01-02</td>\n      <td>3.0</td>\n      <td>3</td>\n      <td>woman</td>\n      <td>females</td>\n    </tr>\n  </tbody>\n</table>\n</div>"
     },
     "execution_count": 33,
     "metadata": {},
     "output_type": "execute_result"
    }
   ],
   "source": [
    "data_frame3.head(2)"
   ]
  },
  {
   "cell_type": "code",
   "execution_count": 34,
   "metadata": {
    "collapsed": false,
    "pycharm": {
     "name": "#%%\n"
    }
   },
   "outputs": [
    {
     "data": {
      "text/plain": "     A          B    C  D      E        F\n3  1.0 2022-01-04  3.0  3  woman  females\n4  1.0 2022-01-05  3.0  3   girl  females",
      "text/html": "<div>\n<style scoped>\n    .dataframe tbody tr th:only-of-type {\n        vertical-align: middle;\n    }\n\n    .dataframe tbody tr th {\n        vertical-align: top;\n    }\n\n    .dataframe thead th {\n        text-align: right;\n    }\n</style>\n<table border=\"1\" class=\"dataframe\">\n  <thead>\n    <tr style=\"text-align: right;\">\n      <th></th>\n      <th>A</th>\n      <th>B</th>\n      <th>C</th>\n      <th>D</th>\n      <th>E</th>\n      <th>F</th>\n    </tr>\n  </thead>\n  <tbody>\n    <tr>\n      <th>3</th>\n      <td>1.0</td>\n      <td>2022-01-04</td>\n      <td>3.0</td>\n      <td>3</td>\n      <td>woman</td>\n      <td>females</td>\n    </tr>\n    <tr>\n      <th>4</th>\n      <td>1.0</td>\n      <td>2022-01-05</td>\n      <td>3.0</td>\n      <td>3</td>\n      <td>girl</td>\n      <td>females</td>\n    </tr>\n  </tbody>\n</table>\n</div>"
     },
     "execution_count": 34,
     "metadata": {},
     "output_type": "execute_result"
    }
   ],
   "source": [
    "data_frame3.tail(2)"
   ]
  },
  {
   "cell_type": "code",
   "execution_count": 35,
   "metadata": {
    "collapsed": false,
    "pycharm": {
     "name": "#%%\n"
    }
   },
   "outputs": [
    {
     "data": {
      "text/plain": "DatetimeIndex(['2022-01-01', '2022-01-02', '2022-01-03', '2022-01-04',\n               '2022-01-05', '2022-01-06', '2022-01-07', '2022-01-08',\n               '2022-01-09', '2022-01-10', '2022-01-11', '2022-01-12',\n               '2022-01-13', '2022-01-14', '2022-01-15', '2022-01-16',\n               '2022-01-17', '2022-01-18', '2022-01-19', '2022-01-20'],\n              dtype='datetime64[ns]', freq='D')"
     },
     "execution_count": 35,
     "metadata": {},
     "output_type": "execute_result"
    }
   ],
   "source": [
    "sample_data_frame.index"
   ]
  },
  {
   "cell_type": "code",
   "execution_count": 36,
   "metadata": {},
   "outputs": [
    {
     "data": {
      "text/plain": "Int64Index([0, 1, 2, 3, 4], dtype='int64')"
     },
     "execution_count": 36,
     "metadata": {},
     "output_type": "execute_result"
    }
   ],
   "source": [
    "data_frame3.index"
   ]
  },
  {
   "cell_type": "code",
   "execution_count": 37,
   "metadata": {},
   "outputs": [
    {
     "data": {
      "text/plain": "array([[ 0.55843696, -2.14358193, -1.04491573, -0.42014331],\n       [-1.4551199 , -0.73062499, -1.05582721,  0.93724211],\n       [-1.00357843, -2.07577779,  1.12102831, -0.91031404],\n       [ 1.01627963,  0.51756165, -1.02551538, -1.85607554],\n       [ 1.86848015,  2.03715226,  1.03256231,  0.19081161],\n       [ 0.89607479,  0.81718761, -1.32113317,  0.10760895],\n       [ 1.25362462, -0.69318376, -0.70104971,  1.87058584],\n       [-0.77273973,  0.77545826, -0.24195267, -0.66355302],\n       [-1.13156872,  0.02015053, -0.31700978,  1.02679149],\n       [-0.45181479, -1.06728081,  0.42467161, -1.08012469],\n       [-1.58934798, -1.68057148,  2.02909991, -0.04197276],\n       [ 1.13222044,  1.30116685,  1.15494015,  0.83908287],\n       [ 0.13845928,  0.00464934,  1.43437825,  2.62454893],\n       [ 0.29670714,  0.54350232, -0.11723992, -1.688556  ],\n       [-0.93584341, -1.41952935, -0.48256241, -0.78644328],\n       [ 0.30844906, -0.3353353 , -1.45153386,  0.03059135],\n       [ 0.66034584, -0.7022528 , -1.29153859, -1.8461975 ],\n       [ 0.42591341, -0.01402308,  1.15007152, -1.97698046],\n       [ 1.57467546,  1.25246661, -1.43344631,  2.205638  ],\n       [ 0.61364208,  0.85994717,  0.55189   ,  0.62735943]])"
     },
     "execution_count": 37,
     "metadata": {},
     "output_type": "execute_result"
    }
   ],
   "source": [
    "sample_data_frame.to_numpy()"
   ]
  },
  {
   "cell_type": "code",
   "execution_count": 38,
   "metadata": {},
   "outputs": [
    {
     "data": {
      "text/plain": "                   A         B         C         D\n2022-01-01  0.558437 -2.143582 -1.044916 -0.420143\n2022-01-02 -1.455120 -0.730625 -1.055827  0.937242\n2022-01-03 -1.003578 -2.075778  1.121028 -0.910314\n2022-01-04  1.016280  0.517562 -1.025515 -1.856076\n2022-01-05  1.868480  2.037152  1.032562  0.190812\n2022-01-06  0.896075  0.817188 -1.321133  0.107609\n2022-01-07  1.253625 -0.693184 -0.701050  1.870586\n2022-01-08 -0.772740  0.775458 -0.241953 -0.663553\n2022-01-09 -1.131569  0.020151 -0.317010  1.026791\n2022-01-10 -0.451815 -1.067281  0.424672 -1.080125\n2022-01-11 -1.589348 -1.680571  2.029100 -0.041973\n2022-01-12  1.132220  1.301167  1.154940  0.839083\n2022-01-13  0.138459  0.004649  1.434378  2.624549\n2022-01-14  0.296707  0.543502 -0.117240 -1.688556\n2022-01-15 -0.935843 -1.419529 -0.482562 -0.786443\n2022-01-16  0.308449 -0.335335 -1.451534  0.030591\n2022-01-17  0.660346 -0.702253 -1.291539 -1.846197\n2022-01-18  0.425913 -0.014023  1.150072 -1.976980\n2022-01-19  1.574675  1.252467 -1.433446  2.205638\n2022-01-20  0.613642  0.859947  0.551890  0.627359",
      "text/html": "<div>\n<style scoped>\n    .dataframe tbody tr th:only-of-type {\n        vertical-align: middle;\n    }\n\n    .dataframe tbody tr th {\n        vertical-align: top;\n    }\n\n    .dataframe thead th {\n        text-align: right;\n    }\n</style>\n<table border=\"1\" class=\"dataframe\">\n  <thead>\n    <tr style=\"text-align: right;\">\n      <th></th>\n      <th>A</th>\n      <th>B</th>\n      <th>C</th>\n      <th>D</th>\n    </tr>\n  </thead>\n  <tbody>\n    <tr>\n      <th>2022-01-01</th>\n      <td>0.558437</td>\n      <td>-2.143582</td>\n      <td>-1.044916</td>\n      <td>-0.420143</td>\n    </tr>\n    <tr>\n      <th>2022-01-02</th>\n      <td>-1.455120</td>\n      <td>-0.730625</td>\n      <td>-1.055827</td>\n      <td>0.937242</td>\n    </tr>\n    <tr>\n      <th>2022-01-03</th>\n      <td>-1.003578</td>\n      <td>-2.075778</td>\n      <td>1.121028</td>\n      <td>-0.910314</td>\n    </tr>\n    <tr>\n      <th>2022-01-04</th>\n      <td>1.016280</td>\n      <td>0.517562</td>\n      <td>-1.025515</td>\n      <td>-1.856076</td>\n    </tr>\n    <tr>\n      <th>2022-01-05</th>\n      <td>1.868480</td>\n      <td>2.037152</td>\n      <td>1.032562</td>\n      <td>0.190812</td>\n    </tr>\n    <tr>\n      <th>2022-01-06</th>\n      <td>0.896075</td>\n      <td>0.817188</td>\n      <td>-1.321133</td>\n      <td>0.107609</td>\n    </tr>\n    <tr>\n      <th>2022-01-07</th>\n      <td>1.253625</td>\n      <td>-0.693184</td>\n      <td>-0.701050</td>\n      <td>1.870586</td>\n    </tr>\n    <tr>\n      <th>2022-01-08</th>\n      <td>-0.772740</td>\n      <td>0.775458</td>\n      <td>-0.241953</td>\n      <td>-0.663553</td>\n    </tr>\n    <tr>\n      <th>2022-01-09</th>\n      <td>-1.131569</td>\n      <td>0.020151</td>\n      <td>-0.317010</td>\n      <td>1.026791</td>\n    </tr>\n    <tr>\n      <th>2022-01-10</th>\n      <td>-0.451815</td>\n      <td>-1.067281</td>\n      <td>0.424672</td>\n      <td>-1.080125</td>\n    </tr>\n    <tr>\n      <th>2022-01-11</th>\n      <td>-1.589348</td>\n      <td>-1.680571</td>\n      <td>2.029100</td>\n      <td>-0.041973</td>\n    </tr>\n    <tr>\n      <th>2022-01-12</th>\n      <td>1.132220</td>\n      <td>1.301167</td>\n      <td>1.154940</td>\n      <td>0.839083</td>\n    </tr>\n    <tr>\n      <th>2022-01-13</th>\n      <td>0.138459</td>\n      <td>0.004649</td>\n      <td>1.434378</td>\n      <td>2.624549</td>\n    </tr>\n    <tr>\n      <th>2022-01-14</th>\n      <td>0.296707</td>\n      <td>0.543502</td>\n      <td>-0.117240</td>\n      <td>-1.688556</td>\n    </tr>\n    <tr>\n      <th>2022-01-15</th>\n      <td>-0.935843</td>\n      <td>-1.419529</td>\n      <td>-0.482562</td>\n      <td>-0.786443</td>\n    </tr>\n    <tr>\n      <th>2022-01-16</th>\n      <td>0.308449</td>\n      <td>-0.335335</td>\n      <td>-1.451534</td>\n      <td>0.030591</td>\n    </tr>\n    <tr>\n      <th>2022-01-17</th>\n      <td>0.660346</td>\n      <td>-0.702253</td>\n      <td>-1.291539</td>\n      <td>-1.846197</td>\n    </tr>\n    <tr>\n      <th>2022-01-18</th>\n      <td>0.425913</td>\n      <td>-0.014023</td>\n      <td>1.150072</td>\n      <td>-1.976980</td>\n    </tr>\n    <tr>\n      <th>2022-01-19</th>\n      <td>1.574675</td>\n      <td>1.252467</td>\n      <td>-1.433446</td>\n      <td>2.205638</td>\n    </tr>\n    <tr>\n      <th>2022-01-20</th>\n      <td>0.613642</td>\n      <td>0.859947</td>\n      <td>0.551890</td>\n      <td>0.627359</td>\n    </tr>\n  </tbody>\n</table>\n</div>"
     },
     "execution_count": 38,
     "metadata": {},
     "output_type": "execute_result"
    }
   ],
   "source": [
    "sample_data_frame"
   ]
  },
  {
   "cell_type": "code",
   "execution_count": 39,
   "metadata": {},
   "outputs": [
    {
     "data": {
      "text/plain": "array([[1.0, Timestamp('2022-01-01 00:00:00'), 3.0, 3, 'girl', 'females'],\n       [1.0, Timestamp('2022-01-02 00:00:00'), 3.0, 3, 'woman',\n        'females'],\n       [1.0, Timestamp('2022-01-03 00:00:00'), 3.0, 3, 'girl', 'females'],\n       [1.0, Timestamp('2022-01-04 00:00:00'), 3.0, 3, 'woman',\n        'females'],\n       [1.0, Timestamp('2022-01-05 00:00:00'), 3.0, 3, 'girl', 'females']],\n      dtype=object)"
     },
     "execution_count": 39,
     "metadata": {},
     "output_type": "execute_result"
    }
   ],
   "source": [
    "data_frame3.to_numpy()"
   ]
  },
  {
   "cell_type": "code",
   "execution_count": 40,
   "metadata": {},
   "outputs": [
    {
     "data": {
      "text/plain": "               A          B          C          D\ncount  20.000000  20.000000  20.000000  20.000000\nmean    0.170165  -0.136646  -0.079254  -0.040505\nstd     1.031026   1.172334   1.106061   1.360035\nmin    -1.589348  -2.143582  -1.451534  -1.976980\n25%    -0.813516  -0.814789  -1.047644  -0.952767\n50%     0.367181  -0.004687  -0.279481  -0.005691\n75%     0.926126   0.785891   1.054679   0.863623\nmax     1.868480   2.037152   2.029100   2.624549",
      "text/html": "<div>\n<style scoped>\n    .dataframe tbody tr th:only-of-type {\n        vertical-align: middle;\n    }\n\n    .dataframe tbody tr th {\n        vertical-align: top;\n    }\n\n    .dataframe thead th {\n        text-align: right;\n    }\n</style>\n<table border=\"1\" class=\"dataframe\">\n  <thead>\n    <tr style=\"text-align: right;\">\n      <th></th>\n      <th>A</th>\n      <th>B</th>\n      <th>C</th>\n      <th>D</th>\n    </tr>\n  </thead>\n  <tbody>\n    <tr>\n      <th>count</th>\n      <td>20.000000</td>\n      <td>20.000000</td>\n      <td>20.000000</td>\n      <td>20.000000</td>\n    </tr>\n    <tr>\n      <th>mean</th>\n      <td>0.170165</td>\n      <td>-0.136646</td>\n      <td>-0.079254</td>\n      <td>-0.040505</td>\n    </tr>\n    <tr>\n      <th>std</th>\n      <td>1.031026</td>\n      <td>1.172334</td>\n      <td>1.106061</td>\n      <td>1.360035</td>\n    </tr>\n    <tr>\n      <th>min</th>\n      <td>-1.589348</td>\n      <td>-2.143582</td>\n      <td>-1.451534</td>\n      <td>-1.976980</td>\n    </tr>\n    <tr>\n      <th>25%</th>\n      <td>-0.813516</td>\n      <td>-0.814789</td>\n      <td>-1.047644</td>\n      <td>-0.952767</td>\n    </tr>\n    <tr>\n      <th>50%</th>\n      <td>0.367181</td>\n      <td>-0.004687</td>\n      <td>-0.279481</td>\n      <td>-0.005691</td>\n    </tr>\n    <tr>\n      <th>75%</th>\n      <td>0.926126</td>\n      <td>0.785891</td>\n      <td>1.054679</td>\n      <td>0.863623</td>\n    </tr>\n    <tr>\n      <th>max</th>\n      <td>1.868480</td>\n      <td>2.037152</td>\n      <td>2.029100</td>\n      <td>2.624549</td>\n    </tr>\n  </tbody>\n</table>\n</div>"
     },
     "execution_count": 40,
     "metadata": {},
     "output_type": "execute_result"
    }
   ],
   "source": [
    "sample_data_frame.describe()"
   ]
  },
  {
   "cell_type": "code",
   "execution_count": 41,
   "metadata": {},
   "outputs": [
    {
     "data": {
      "text/plain": "   2022-01-01  2022-01-02  2022-01-03  2022-01-04  2022-01-05  2022-01-06  \\\nA    0.558437   -1.455120   -1.003578    1.016280    1.868480    0.896075   \nB   -2.143582   -0.730625   -2.075778    0.517562    2.037152    0.817188   \nC   -1.044916   -1.055827    1.121028   -1.025515    1.032562   -1.321133   \nD   -0.420143    0.937242   -0.910314   -1.856076    0.190812    0.107609   \n\n   2022-01-07  2022-01-08  2022-01-09  2022-01-10  2022-01-11  2022-01-12  \\\nA    1.253625   -0.772740   -1.131569   -0.451815   -1.589348    1.132220   \nB   -0.693184    0.775458    0.020151   -1.067281   -1.680571    1.301167   \nC   -0.701050   -0.241953   -0.317010    0.424672    2.029100    1.154940   \nD    1.870586   -0.663553    1.026791   -1.080125   -0.041973    0.839083   \n\n   2022-01-13  2022-01-14  2022-01-15  2022-01-16  2022-01-17  2022-01-18  \\\nA    0.138459    0.296707   -0.935843    0.308449    0.660346    0.425913   \nB    0.004649    0.543502   -1.419529   -0.335335   -0.702253   -0.014023   \nC    1.434378   -0.117240   -0.482562   -1.451534   -1.291539    1.150072   \nD    2.624549   -1.688556   -0.786443    0.030591   -1.846197   -1.976980   \n\n   2022-01-19  2022-01-20  \nA    1.574675    0.613642  \nB    1.252467    0.859947  \nC   -1.433446    0.551890  \nD    2.205638    0.627359  ",
      "text/html": "<div>\n<style scoped>\n    .dataframe tbody tr th:only-of-type {\n        vertical-align: middle;\n    }\n\n    .dataframe tbody tr th {\n        vertical-align: top;\n    }\n\n    .dataframe thead th {\n        text-align: right;\n    }\n</style>\n<table border=\"1\" class=\"dataframe\">\n  <thead>\n    <tr style=\"text-align: right;\">\n      <th></th>\n      <th>2022-01-01</th>\n      <th>2022-01-02</th>\n      <th>2022-01-03</th>\n      <th>2022-01-04</th>\n      <th>2022-01-05</th>\n      <th>2022-01-06</th>\n      <th>2022-01-07</th>\n      <th>2022-01-08</th>\n      <th>2022-01-09</th>\n      <th>2022-01-10</th>\n      <th>2022-01-11</th>\n      <th>2022-01-12</th>\n      <th>2022-01-13</th>\n      <th>2022-01-14</th>\n      <th>2022-01-15</th>\n      <th>2022-01-16</th>\n      <th>2022-01-17</th>\n      <th>2022-01-18</th>\n      <th>2022-01-19</th>\n      <th>2022-01-20</th>\n    </tr>\n  </thead>\n  <tbody>\n    <tr>\n      <th>A</th>\n      <td>0.558437</td>\n      <td>-1.455120</td>\n      <td>-1.003578</td>\n      <td>1.016280</td>\n      <td>1.868480</td>\n      <td>0.896075</td>\n      <td>1.253625</td>\n      <td>-0.772740</td>\n      <td>-1.131569</td>\n      <td>-0.451815</td>\n      <td>-1.589348</td>\n      <td>1.132220</td>\n      <td>0.138459</td>\n      <td>0.296707</td>\n      <td>-0.935843</td>\n      <td>0.308449</td>\n      <td>0.660346</td>\n      <td>0.425913</td>\n      <td>1.574675</td>\n      <td>0.613642</td>\n    </tr>\n    <tr>\n      <th>B</th>\n      <td>-2.143582</td>\n      <td>-0.730625</td>\n      <td>-2.075778</td>\n      <td>0.517562</td>\n      <td>2.037152</td>\n      <td>0.817188</td>\n      <td>-0.693184</td>\n      <td>0.775458</td>\n      <td>0.020151</td>\n      <td>-1.067281</td>\n      <td>-1.680571</td>\n      <td>1.301167</td>\n      <td>0.004649</td>\n      <td>0.543502</td>\n      <td>-1.419529</td>\n      <td>-0.335335</td>\n      <td>-0.702253</td>\n      <td>-0.014023</td>\n      <td>1.252467</td>\n      <td>0.859947</td>\n    </tr>\n    <tr>\n      <th>C</th>\n      <td>-1.044916</td>\n      <td>-1.055827</td>\n      <td>1.121028</td>\n      <td>-1.025515</td>\n      <td>1.032562</td>\n      <td>-1.321133</td>\n      <td>-0.701050</td>\n      <td>-0.241953</td>\n      <td>-0.317010</td>\n      <td>0.424672</td>\n      <td>2.029100</td>\n      <td>1.154940</td>\n      <td>1.434378</td>\n      <td>-0.117240</td>\n      <td>-0.482562</td>\n      <td>-1.451534</td>\n      <td>-1.291539</td>\n      <td>1.150072</td>\n      <td>-1.433446</td>\n      <td>0.551890</td>\n    </tr>\n    <tr>\n      <th>D</th>\n      <td>-0.420143</td>\n      <td>0.937242</td>\n      <td>-0.910314</td>\n      <td>-1.856076</td>\n      <td>0.190812</td>\n      <td>0.107609</td>\n      <td>1.870586</td>\n      <td>-0.663553</td>\n      <td>1.026791</td>\n      <td>-1.080125</td>\n      <td>-0.041973</td>\n      <td>0.839083</td>\n      <td>2.624549</td>\n      <td>-1.688556</td>\n      <td>-0.786443</td>\n      <td>0.030591</td>\n      <td>-1.846197</td>\n      <td>-1.976980</td>\n      <td>2.205638</td>\n      <td>0.627359</td>\n    </tr>\n  </tbody>\n</table>\n</div>"
     },
     "execution_count": 41,
     "metadata": {},
     "output_type": "execute_result"
    }
   ],
   "source": [
    "# Pandas DataFrame: transpose(); T is not callable\n",
    "t = sample_data_frame.T\n",
    "t"
   ]
  },
  {
   "cell_type": "code",
   "execution_count": 59,
   "metadata": {},
   "outputs": [
    {
     "data": {
      "text/plain": "                   A         B         C         D\n2022-01-01  0.558437 -2.143582 -1.044916 -0.420143\n2022-01-02 -1.455120 -0.730625 -1.055827  0.937242\n2022-01-03 -1.003578 -2.075778  1.121028 -0.910314\n2022-01-04  1.016280  0.517562 -1.025515 -1.856076",
      "text/html": "<div>\n<style scoped>\n    .dataframe tbody tr th:only-of-type {\n        vertical-align: middle;\n    }\n\n    .dataframe tbody tr th {\n        vertical-align: top;\n    }\n\n    .dataframe thead th {\n        text-align: right;\n    }\n</style>\n<table border=\"1\" class=\"dataframe\">\n  <thead>\n    <tr style=\"text-align: right;\">\n      <th></th>\n      <th>A</th>\n      <th>B</th>\n      <th>C</th>\n      <th>D</th>\n    </tr>\n  </thead>\n  <tbody>\n    <tr>\n      <th>2022-01-01</th>\n      <td>0.558437</td>\n      <td>-2.143582</td>\n      <td>-1.044916</td>\n      <td>-0.420143</td>\n    </tr>\n    <tr>\n      <th>2022-01-02</th>\n      <td>-1.455120</td>\n      <td>-0.730625</td>\n      <td>-1.055827</td>\n      <td>0.937242</td>\n    </tr>\n    <tr>\n      <th>2022-01-03</th>\n      <td>-1.003578</td>\n      <td>-2.075778</td>\n      <td>1.121028</td>\n      <td>-0.910314</td>\n    </tr>\n    <tr>\n      <th>2022-01-04</th>\n      <td>1.016280</td>\n      <td>0.517562</td>\n      <td>-1.025515</td>\n      <td>-1.856076</td>\n    </tr>\n  </tbody>\n</table>\n</div>"
     },
     "execution_count": 59,
     "metadata": {},
     "output_type": "execute_result"
    }
   ],
   "source": [
    "# sample_data_frame.sort_index(axis=0, ascending=False)\n",
    "# sample_data_frame.sort_values(by=\"D\", ascending=True)\n",
    "\n",
    "sample_data_frame[0:4].sort_index(axis=1, ascending=True)\n"
   ]
  },
  {
   "cell_type": "markdown",
   "source": [
    "### What is axis in pandas DataFrame?\n",
    "![IMG](https://railsware.com/blog/wp-content/uploads/2018/11/data-frame-axes.png)"
   ],
   "metadata": {
    "collapsed": false,
    "pycharm": {
     "name": "#%% md\n"
    }
   }
  },
  {
   "cell_type": "code",
   "execution_count": 58,
   "outputs": [
    {
     "data": {
      "text/plain": "                   A         B         C         D\n2022-01-01  0.558437 -2.143582 -1.044916 -0.420143\n2022-01-02 -1.455120 -0.730625 -1.055827  0.937242\n2022-01-03 -1.003578 -2.075778  1.121028 -0.910314\n2022-01-04  1.016280  0.517562 -1.025515 -1.856076",
      "text/html": "<div>\n<style scoped>\n    .dataframe tbody tr th:only-of-type {\n        vertical-align: middle;\n    }\n\n    .dataframe tbody tr th {\n        vertical-align: top;\n    }\n\n    .dataframe thead th {\n        text-align: right;\n    }\n</style>\n<table border=\"1\" class=\"dataframe\">\n  <thead>\n    <tr style=\"text-align: right;\">\n      <th></th>\n      <th>A</th>\n      <th>B</th>\n      <th>C</th>\n      <th>D</th>\n    </tr>\n  </thead>\n  <tbody>\n    <tr>\n      <th>2022-01-01</th>\n      <td>0.558437</td>\n      <td>-2.143582</td>\n      <td>-1.044916</td>\n      <td>-0.420143</td>\n    </tr>\n    <tr>\n      <th>2022-01-02</th>\n      <td>-1.455120</td>\n      <td>-0.730625</td>\n      <td>-1.055827</td>\n      <td>0.937242</td>\n    </tr>\n    <tr>\n      <th>2022-01-03</th>\n      <td>-1.003578</td>\n      <td>-2.075778</td>\n      <td>1.121028</td>\n      <td>-0.910314</td>\n    </tr>\n    <tr>\n      <th>2022-01-04</th>\n      <td>1.016280</td>\n      <td>0.517562</td>\n      <td>-1.025515</td>\n      <td>-1.856076</td>\n    </tr>\n  </tbody>\n</table>\n</div>"
     },
     "execution_count": 58,
     "metadata": {},
     "output_type": "execute_result"
    }
   ],
   "source": [
    "# sample_data_frame[0:4].sort_index(axis=0, ascending=True)"
   ],
   "metadata": {
    "collapsed": false,
    "pycharm": {
     "name": "#%%\n"
    }
   }
  },
  {
   "cell_type": "code",
   "execution_count": null,
   "outputs": [],
   "source": [],
   "metadata": {
    "collapsed": false,
    "pycharm": {
     "name": "#%%\n"
    }
   }
  }
 ],
 "metadata": {
  "kernelspec": {
   "display_name": "Python 3",
   "language": "python",
   "name": "python3"
  },
  "language_info": {
   "codemirror_mode": {
    "name": "ipython",
    "version": 2
   },
   "file_extension": ".py",
   "mimetype": "text/x-python",
   "name": "python",
   "nbconvert_exporter": "python",
   "pygments_lexer": "ipython2",
   "version": "2.7.6"
  }
 },
 "nbformat": 4,
 "nbformat_minor": 0
}