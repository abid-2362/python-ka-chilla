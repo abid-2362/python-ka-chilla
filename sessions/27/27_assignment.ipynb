{
 "cells": [
  {
   "cell_type": "code",
   "execution_count": 21,
   "metadata": {
    "collapsed": true
   },
   "outputs": [],
   "source": [
    "# Assignment\n",
    "# 1. Create a new dataframe. 20 rows, 5 Series[columns [A-E]], containing random numerical data\n",
    "# 2. Extend a new Series [column [mean]] with mean of all Series [columns] in the row\n",
    "# 3. Take a subset of the newly created Series [column[mean]] into another variable.\n",
    "\n",
    "# Importing required libraries\n",
    "import pandas as pd\n",
    "import numpy as np\n",
    "\n",
    "# generating indexing array\n",
    "indexing_arr = np.arange(1, 21)\n",
    "\n",
    "# Generating a sample data frame\n",
    "data_frame = pd.DataFrame(data=np.arange(1, 101).reshape(20,5), index=indexing_arr, columns=list('ABCDE'))\n",
    "# data_frame\n"
   ]
  },
  {
   "cell_type": "code",
   "execution_count": 23,
   "outputs": [
    {
     "data": {
      "text/plain": "     A   B   C   D    E  mean\n1    1   2   3   4    5     1\n2    6   7   8   9   10     2\n3   11  12  13  14   15     3\n4   16  17  18  19   20     4\n5   21  22  23  24   25     5\n6   26  27  28  29   30     6\n7   31  32  33  34   35     7\n8   36  37  38  39   40     8\n9   41  42  43  44   45     9\n10  46  47  48  49   50    10\n11  51  52  53  54   55    11\n12  56  57  58  59   60    12\n13  61  62  63  64   65    13\n14  66  67  68  69   70    14\n15  71  72  73  74   75    15\n16  76  77  78  79   80    16\n17  81  82  83  84   85    17\n18  86  87  88  89   90    18\n19  91  92  93  94   95    19\n20  96  97  98  99  100    20",
      "text/html": "<div>\n<style scoped>\n    .dataframe tbody tr th:only-of-type {\n        vertical-align: middle;\n    }\n\n    .dataframe tbody tr th {\n        vertical-align: top;\n    }\n\n    .dataframe thead th {\n        text-align: right;\n    }\n</style>\n<table border=\"1\" class=\"dataframe\">\n  <thead>\n    <tr style=\"text-align: right;\">\n      <th></th>\n      <th>A</th>\n      <th>B</th>\n      <th>C</th>\n      <th>D</th>\n      <th>E</th>\n      <th>mean</th>\n    </tr>\n  </thead>\n  <tbody>\n    <tr>\n      <th>1</th>\n      <td>1</td>\n      <td>2</td>\n      <td>3</td>\n      <td>4</td>\n      <td>5</td>\n      <td>1</td>\n    </tr>\n    <tr>\n      <th>2</th>\n      <td>6</td>\n      <td>7</td>\n      <td>8</td>\n      <td>9</td>\n      <td>10</td>\n      <td>2</td>\n    </tr>\n    <tr>\n      <th>3</th>\n      <td>11</td>\n      <td>12</td>\n      <td>13</td>\n      <td>14</td>\n      <td>15</td>\n      <td>3</td>\n    </tr>\n    <tr>\n      <th>4</th>\n      <td>16</td>\n      <td>17</td>\n      <td>18</td>\n      <td>19</td>\n      <td>20</td>\n      <td>4</td>\n    </tr>\n    <tr>\n      <th>5</th>\n      <td>21</td>\n      <td>22</td>\n      <td>23</td>\n      <td>24</td>\n      <td>25</td>\n      <td>5</td>\n    </tr>\n    <tr>\n      <th>6</th>\n      <td>26</td>\n      <td>27</td>\n      <td>28</td>\n      <td>29</td>\n      <td>30</td>\n      <td>6</td>\n    </tr>\n    <tr>\n      <th>7</th>\n      <td>31</td>\n      <td>32</td>\n      <td>33</td>\n      <td>34</td>\n      <td>35</td>\n      <td>7</td>\n    </tr>\n    <tr>\n      <th>8</th>\n      <td>36</td>\n      <td>37</td>\n      <td>38</td>\n      <td>39</td>\n      <td>40</td>\n      <td>8</td>\n    </tr>\n    <tr>\n      <th>9</th>\n      <td>41</td>\n      <td>42</td>\n      <td>43</td>\n      <td>44</td>\n      <td>45</td>\n      <td>9</td>\n    </tr>\n    <tr>\n      <th>10</th>\n      <td>46</td>\n      <td>47</td>\n      <td>48</td>\n      <td>49</td>\n      <td>50</td>\n      <td>10</td>\n    </tr>\n    <tr>\n      <th>11</th>\n      <td>51</td>\n      <td>52</td>\n      <td>53</td>\n      <td>54</td>\n      <td>55</td>\n      <td>11</td>\n    </tr>\n    <tr>\n      <th>12</th>\n      <td>56</td>\n      <td>57</td>\n      <td>58</td>\n      <td>59</td>\n      <td>60</td>\n      <td>12</td>\n    </tr>\n    <tr>\n      <th>13</th>\n      <td>61</td>\n      <td>62</td>\n      <td>63</td>\n      <td>64</td>\n      <td>65</td>\n      <td>13</td>\n    </tr>\n    <tr>\n      <th>14</th>\n      <td>66</td>\n      <td>67</td>\n      <td>68</td>\n      <td>69</td>\n      <td>70</td>\n      <td>14</td>\n    </tr>\n    <tr>\n      <th>15</th>\n      <td>71</td>\n      <td>72</td>\n      <td>73</td>\n      <td>74</td>\n      <td>75</td>\n      <td>15</td>\n    </tr>\n    <tr>\n      <th>16</th>\n      <td>76</td>\n      <td>77</td>\n      <td>78</td>\n      <td>79</td>\n      <td>80</td>\n      <td>16</td>\n    </tr>\n    <tr>\n      <th>17</th>\n      <td>81</td>\n      <td>82</td>\n      <td>83</td>\n      <td>84</td>\n      <td>85</td>\n      <td>17</td>\n    </tr>\n    <tr>\n      <th>18</th>\n      <td>86</td>\n      <td>87</td>\n      <td>88</td>\n      <td>89</td>\n      <td>90</td>\n      <td>18</td>\n    </tr>\n    <tr>\n      <th>19</th>\n      <td>91</td>\n      <td>92</td>\n      <td>93</td>\n      <td>94</td>\n      <td>95</td>\n      <td>19</td>\n    </tr>\n    <tr>\n      <th>20</th>\n      <td>96</td>\n      <td>97</td>\n      <td>98</td>\n      <td>99</td>\n      <td>100</td>\n      <td>20</td>\n    </tr>\n  </tbody>\n</table>\n</div>"
     },
     "execution_count": 23,
     "metadata": {},
     "output_type": "execute_result"
    }
   ],
   "source": [
    "# Add a new column mean (First simply add a column), then replace it with\n",
    "data_frame[\"mean\"] = indexing_arr\n",
    "data_frame"
   ],
   "metadata": {
    "collapsed": false,
    "pycharm": {
     "name": "#%%\n"
    }
   }
  },
  {
   "cell_type": "code",
   "execution_count": 25,
   "outputs": [
    {
     "data": {
      "text/plain": "3.0"
     },
     "execution_count": 25,
     "metadata": {},
     "output_type": "execute_result"
    }
   ],
   "source": [
    "# calculating mean of first row\n",
    "np.mean(data_frame.loc[1, \"A\":\"E\"])"
   ],
   "metadata": {
    "collapsed": false,
    "pycharm": {
     "name": "#%%\n"
    }
   }
  },
  {
   "cell_type": "code",
   "execution_count": 28,
   "outputs": [
    {
     "data": {
      "text/plain": "     A   B   C   D    E  mean\n1    1   2   3   4    5     3\n2    6   7   8   9   10     2\n3   11  12  13  14   15     3\n4   16  17  18  19   20     4\n5   21  22  23  24   25     5\n6   26  27  28  29   30     6\n7   31  32  33  34   35     7\n8   36  37  38  39   40     8\n9   41  42  43  44   45     9\n10  46  47  48  49   50    10\n11  51  52  53  54   55    11\n12  56  57  58  59   60    12\n13  61  62  63  64   65    13\n14  66  67  68  69   70    14\n15  71  72  73  74   75    15\n16  76  77  78  79   80    16\n17  81  82  83  84   85    17\n18  86  87  88  89   90    18\n19  91  92  93  94   95    19\n20  96  97  98  99  100    20",
      "text/html": "<div>\n<style scoped>\n    .dataframe tbody tr th:only-of-type {\n        vertical-align: middle;\n    }\n\n    .dataframe tbody tr th {\n        vertical-align: top;\n    }\n\n    .dataframe thead th {\n        text-align: right;\n    }\n</style>\n<table border=\"1\" class=\"dataframe\">\n  <thead>\n    <tr style=\"text-align: right;\">\n      <th></th>\n      <th>A</th>\n      <th>B</th>\n      <th>C</th>\n      <th>D</th>\n      <th>E</th>\n      <th>mean</th>\n    </tr>\n  </thead>\n  <tbody>\n    <tr>\n      <th>1</th>\n      <td>1</td>\n      <td>2</td>\n      <td>3</td>\n      <td>4</td>\n      <td>5</td>\n      <td>3</td>\n    </tr>\n    <tr>\n      <th>2</th>\n      <td>6</td>\n      <td>7</td>\n      <td>8</td>\n      <td>9</td>\n      <td>10</td>\n      <td>2</td>\n    </tr>\n    <tr>\n      <th>3</th>\n      <td>11</td>\n      <td>12</td>\n      <td>13</td>\n      <td>14</td>\n      <td>15</td>\n      <td>3</td>\n    </tr>\n    <tr>\n      <th>4</th>\n      <td>16</td>\n      <td>17</td>\n      <td>18</td>\n      <td>19</td>\n      <td>20</td>\n      <td>4</td>\n    </tr>\n    <tr>\n      <th>5</th>\n      <td>21</td>\n      <td>22</td>\n      <td>23</td>\n      <td>24</td>\n      <td>25</td>\n      <td>5</td>\n    </tr>\n    <tr>\n      <th>6</th>\n      <td>26</td>\n      <td>27</td>\n      <td>28</td>\n      <td>29</td>\n      <td>30</td>\n      <td>6</td>\n    </tr>\n    <tr>\n      <th>7</th>\n      <td>31</td>\n      <td>32</td>\n      <td>33</td>\n      <td>34</td>\n      <td>35</td>\n      <td>7</td>\n    </tr>\n    <tr>\n      <th>8</th>\n      <td>36</td>\n      <td>37</td>\n      <td>38</td>\n      <td>39</td>\n      <td>40</td>\n      <td>8</td>\n    </tr>\n    <tr>\n      <th>9</th>\n      <td>41</td>\n      <td>42</td>\n      <td>43</td>\n      <td>44</td>\n      <td>45</td>\n      <td>9</td>\n    </tr>\n    <tr>\n      <th>10</th>\n      <td>46</td>\n      <td>47</td>\n      <td>48</td>\n      <td>49</td>\n      <td>50</td>\n      <td>10</td>\n    </tr>\n    <tr>\n      <th>11</th>\n      <td>51</td>\n      <td>52</td>\n      <td>53</td>\n      <td>54</td>\n      <td>55</td>\n      <td>11</td>\n    </tr>\n    <tr>\n      <th>12</th>\n      <td>56</td>\n      <td>57</td>\n      <td>58</td>\n      <td>59</td>\n      <td>60</td>\n      <td>12</td>\n    </tr>\n    <tr>\n      <th>13</th>\n      <td>61</td>\n      <td>62</td>\n      <td>63</td>\n      <td>64</td>\n      <td>65</td>\n      <td>13</td>\n    </tr>\n    <tr>\n      <th>14</th>\n      <td>66</td>\n      <td>67</td>\n      <td>68</td>\n      <td>69</td>\n      <td>70</td>\n      <td>14</td>\n    </tr>\n    <tr>\n      <th>15</th>\n      <td>71</td>\n      <td>72</td>\n      <td>73</td>\n      <td>74</td>\n      <td>75</td>\n      <td>15</td>\n    </tr>\n    <tr>\n      <th>16</th>\n      <td>76</td>\n      <td>77</td>\n      <td>78</td>\n      <td>79</td>\n      <td>80</td>\n      <td>16</td>\n    </tr>\n    <tr>\n      <th>17</th>\n      <td>81</td>\n      <td>82</td>\n      <td>83</td>\n      <td>84</td>\n      <td>85</td>\n      <td>17</td>\n    </tr>\n    <tr>\n      <th>18</th>\n      <td>86</td>\n      <td>87</td>\n      <td>88</td>\n      <td>89</td>\n      <td>90</td>\n      <td>18</td>\n    </tr>\n    <tr>\n      <th>19</th>\n      <td>91</td>\n      <td>92</td>\n      <td>93</td>\n      <td>94</td>\n      <td>95</td>\n      <td>19</td>\n    </tr>\n    <tr>\n      <th>20</th>\n      <td>96</td>\n      <td>97</td>\n      <td>98</td>\n      <td>99</td>\n      <td>100</td>\n      <td>20</td>\n    </tr>\n  </tbody>\n</table>\n</div>"
     },
     "execution_count": 28,
     "metadata": {},
     "output_type": "execute_result"
    }
   ],
   "source": [
    "# setting value in the mean Series [column]\n",
    "data_frame.loc[1, \"mean\"] = np.mean(data_frame.loc[1, \"A\":\"E\"])\n",
    "data_frame"
   ],
   "metadata": {
    "collapsed": false,
    "pycharm": {
     "name": "#%%\n"
    }
   }
  },
  {
   "cell_type": "code",
   "execution_count": 29,
   "outputs": [
    {
     "data": {
      "text/plain": "     A   B   C   D    E  mean\n1    1   2   3   4    5     3\n2    6   7   8   9   10     8\n3   11  12  13  14   15    13\n4   16  17  18  19   20    18\n5   21  22  23  24   25    23\n6   26  27  28  29   30    28\n7   31  32  33  34   35    33\n8   36  37  38  39   40    38\n9   41  42  43  44   45    43\n10  46  47  48  49   50    48\n11  51  52  53  54   55    53\n12  56  57  58  59   60    58\n13  61  62  63  64   65    63\n14  66  67  68  69   70    68\n15  71  72  73  74   75    73\n16  76  77  78  79   80    78\n17  81  82  83  84   85    83\n18  86  87  88  89   90    88\n19  91  92  93  94   95    93\n20  96  97  98  99  100    98",
      "text/html": "<div>\n<style scoped>\n    .dataframe tbody tr th:only-of-type {\n        vertical-align: middle;\n    }\n\n    .dataframe tbody tr th {\n        vertical-align: top;\n    }\n\n    .dataframe thead th {\n        text-align: right;\n    }\n</style>\n<table border=\"1\" class=\"dataframe\">\n  <thead>\n    <tr style=\"text-align: right;\">\n      <th></th>\n      <th>A</th>\n      <th>B</th>\n      <th>C</th>\n      <th>D</th>\n      <th>E</th>\n      <th>mean</th>\n    </tr>\n  </thead>\n  <tbody>\n    <tr>\n      <th>1</th>\n      <td>1</td>\n      <td>2</td>\n      <td>3</td>\n      <td>4</td>\n      <td>5</td>\n      <td>3</td>\n    </tr>\n    <tr>\n      <th>2</th>\n      <td>6</td>\n      <td>7</td>\n      <td>8</td>\n      <td>9</td>\n      <td>10</td>\n      <td>8</td>\n    </tr>\n    <tr>\n      <th>3</th>\n      <td>11</td>\n      <td>12</td>\n      <td>13</td>\n      <td>14</td>\n      <td>15</td>\n      <td>13</td>\n    </tr>\n    <tr>\n      <th>4</th>\n      <td>16</td>\n      <td>17</td>\n      <td>18</td>\n      <td>19</td>\n      <td>20</td>\n      <td>18</td>\n    </tr>\n    <tr>\n      <th>5</th>\n      <td>21</td>\n      <td>22</td>\n      <td>23</td>\n      <td>24</td>\n      <td>25</td>\n      <td>23</td>\n    </tr>\n    <tr>\n      <th>6</th>\n      <td>26</td>\n      <td>27</td>\n      <td>28</td>\n      <td>29</td>\n      <td>30</td>\n      <td>28</td>\n    </tr>\n    <tr>\n      <th>7</th>\n      <td>31</td>\n      <td>32</td>\n      <td>33</td>\n      <td>34</td>\n      <td>35</td>\n      <td>33</td>\n    </tr>\n    <tr>\n      <th>8</th>\n      <td>36</td>\n      <td>37</td>\n      <td>38</td>\n      <td>39</td>\n      <td>40</td>\n      <td>38</td>\n    </tr>\n    <tr>\n      <th>9</th>\n      <td>41</td>\n      <td>42</td>\n      <td>43</td>\n      <td>44</td>\n      <td>45</td>\n      <td>43</td>\n    </tr>\n    <tr>\n      <th>10</th>\n      <td>46</td>\n      <td>47</td>\n      <td>48</td>\n      <td>49</td>\n      <td>50</td>\n      <td>48</td>\n    </tr>\n    <tr>\n      <th>11</th>\n      <td>51</td>\n      <td>52</td>\n      <td>53</td>\n      <td>54</td>\n      <td>55</td>\n      <td>53</td>\n    </tr>\n    <tr>\n      <th>12</th>\n      <td>56</td>\n      <td>57</td>\n      <td>58</td>\n      <td>59</td>\n      <td>60</td>\n      <td>58</td>\n    </tr>\n    <tr>\n      <th>13</th>\n      <td>61</td>\n      <td>62</td>\n      <td>63</td>\n      <td>64</td>\n      <td>65</td>\n      <td>63</td>\n    </tr>\n    <tr>\n      <th>14</th>\n      <td>66</td>\n      <td>67</td>\n      <td>68</td>\n      <td>69</td>\n      <td>70</td>\n      <td>68</td>\n    </tr>\n    <tr>\n      <th>15</th>\n      <td>71</td>\n      <td>72</td>\n      <td>73</td>\n      <td>74</td>\n      <td>75</td>\n      <td>73</td>\n    </tr>\n    <tr>\n      <th>16</th>\n      <td>76</td>\n      <td>77</td>\n      <td>78</td>\n      <td>79</td>\n      <td>80</td>\n      <td>78</td>\n    </tr>\n    <tr>\n      <th>17</th>\n      <td>81</td>\n      <td>82</td>\n      <td>83</td>\n      <td>84</td>\n      <td>85</td>\n      <td>83</td>\n    </tr>\n    <tr>\n      <th>18</th>\n      <td>86</td>\n      <td>87</td>\n      <td>88</td>\n      <td>89</td>\n      <td>90</td>\n      <td>88</td>\n    </tr>\n    <tr>\n      <th>19</th>\n      <td>91</td>\n      <td>92</td>\n      <td>93</td>\n      <td>94</td>\n      <td>95</td>\n      <td>93</td>\n    </tr>\n    <tr>\n      <th>20</th>\n      <td>96</td>\n      <td>97</td>\n      <td>98</td>\n      <td>99</td>\n      <td>100</td>\n      <td>98</td>\n    </tr>\n  </tbody>\n</table>\n</div>"
     },
     "execution_count": 29,
     "metadata": {},
     "output_type": "execute_result"
    }
   ],
   "source": [
    "# looping through indices and changing value to mean\n",
    "for x in indexing_arr:\n",
    "    data_frame.loc[x, \"mean\"] = np.mean(data_frame.loc[x, \"A\":\"E\"])\n",
    "\n",
    "data_frame"
   ],
   "metadata": {
    "collapsed": false,
    "pycharm": {
     "name": "#%%\n"
    }
   }
  },
  {
   "cell_type": "code",
   "execution_count": 30,
   "outputs": [
    {
     "data": {
      "text/plain": "1      3\n2      8\n3     13\n4     18\n5     23\n6     28\n7     33\n8     38\n9     43\n10    48\n11    53\n12    58\n13    63\n14    68\n15    73\n16    78\n17    83\n18    88\n19    93\n20    98\nName: mean, dtype: int32"
     },
     "execution_count": 30,
     "metadata": {},
     "output_type": "execute_result"
    }
   ],
   "source": [
    "# storing mean subset into a different variable\n",
    "mean_series = data_frame.loc[0:, \"mean\"]\n",
    "mean_series"
   ],
   "metadata": {
    "collapsed": false,
    "pycharm": {
     "name": "#%%\n"
    }
   }
  },
  {
   "cell_type": "code",
   "execution_count": null,
   "outputs": [],
   "source": [
    "# Assignment Completed"
   ],
   "metadata": {
    "collapsed": false,
    "pycharm": {
     "name": "#%%\n"
    }
   }
  }
 ],
 "metadata": {
  "kernelspec": {
   "display_name": "Python 3",
   "language": "python",
   "name": "python3"
  },
  "language_info": {
   "codemirror_mode": {
    "name": "ipython",
    "version": 2
   },
   "file_extension": ".py",
   "mimetype": "text/x-python",
   "name": "python",
   "nbconvert_exporter": "python",
   "pygments_lexer": "ipython2",
   "version": "2.7.6"
  }
 },
 "nbformat": 4,
 "nbformat_minor": 0
}