{
 "cells": [
  {
   "cell_type": "markdown",
   "metadata": {
    "collapsed": true,
    "pycharm": {
     "name": "#%% md\n"
    }
   },
   "source": [
    "# Population Graph Pakistan\n",
    "[Abid Ali](https://github.com/abid-2362)\n",
    "\n",
    "Genarating Rural, Urban, and Total Population line graph of Pakistan.\n",
    "\n",
    "Data: 1990-2018\n",
    "Data Source: [FAOSTAT](https://www.fao.org/faostat/en/#country/165)"
   ]
  },
  {
   "cell_type": "code",
   "execution_count": 76,
   "outputs": [],
   "source": [
    "# importing libraries\n",
    "import matplotlib.pyplot as plt\n",
    "import pandas as pd\n",
    "import seaborn as sns\n"
   ],
   "metadata": {
    "collapsed": false,
    "pycharm": {
     "name": "#%%\n"
    }
   }
  },
  {
   "cell_type": "code",
   "execution_count": 77,
   "outputs": [],
   "source": [
    "# Define required function to add population\n",
    "def add_total(year, total):\n",
    "    \"\"\"Adds Total Population Value after each year row\n",
    "\n",
    "        Args:\n",
    "            year: Year to add total population\n",
    "\n",
    "            total: Total population for the provided year\n",
    "\n",
    "        Returns:\n",
    "            None\n",
    "    \"\"\"\n",
    "    rindex = list(required_data.loc[required_data['Year'] == year].index)[-1]\n",
    "    new_index = rindex + 0.5\n",
    "    required_data.loc[new_index] = {'Element': 'Total Population', 'Year': year, 'Value': total}"
   ],
   "metadata": {
    "collapsed": false,
    "pycharm": {
     "name": "#%%\n"
    }
   }
  },
  {
   "cell_type": "code",
   "execution_count": 78,
   "outputs": [],
   "source": [
    "# loading required data\n",
    "required_columns = [\"Element\", \"Year\", \"Value\"]\n",
    "# load only required data\n",
    "required_data = pd.read_csv(\"../../data/FAOSTAT_data_rural_urban_population.csv\", usecols=required_columns)"
   ],
   "metadata": {
    "collapsed": false,
    "pycharm": {
     "name": "#%%\n"
    }
   }
  },
  {
   "cell_type": "code",
   "execution_count": 79,
   "outputs": [
    {
     "data": {
      "text/plain": "             Element  Year  Value\n0   Rural population  1990     74\n1   Urban population  1990     32\n2   Urban population  1991     34\n3   Rural population  1991     76\n4   Rural population  1992     78\n5   Urban population  1992     35\n6   Urban population  1993     36\n7   Rural population  1993     80\n8   Rural population  1994     81\n9   Urban population  1994     37\n10  Urban population  1995     39\n11  Rural population  1995     83\n12  Rural population  1996     85\n13  Urban population  1996     40\n14  Urban population  1997     41\n15  Rural population  1997     87\n16  Rural population  1998     89\n17  Urban population  1998     43\n18  Urban population  1999     44\n19  Rural population  1999     91\n20  Rural population  2000     92\n21  Urban population  2000     45\n22  Urban population  2001     46\n23  Rural population  2001     94\n24  Rural population  2002     96\n25  Urban population  2002     48\n26  Urban population  2003     49\n27  Rural population  2003     98\n28  Rural population  2004     99\n29  Urban population  2004     50\n30  Urban population  2005     52\n31  Rural population  2005    101\n32  Rural population  2006    103\n33  Urban population  2006     53\n34  Urban population  2007     55\n35  Rural population  2007    105\n36  Rural population  2008    107\n37  Urban population  2008     56\n38  Urban population  2009     58\n39  Rural population  2009    108\n40  Rural population  2010    110\n41  Urban population  2010     59\n42  Urban population  2011     61\n43  Rural population  2011    112\n44  Rural population  2012    114\n45  Urban population  2012     62\n46  Urban population  2013     64\n47  Rural population  2013    116\n48  Rural population  2014    119\n49  Urban population  2014     66\n50  Urban population  2015     68\n51  Rural population  2015    121\n52  Rural population  2016    123\n53  Urban population  2016     70\n54  Urban population  2017     71\n55  Rural population  2017    125\n56  Rural population  2018    127\n57  Urban population  2018     73",
      "text/html": "<div>\n<style scoped>\n    .dataframe tbody tr th:only-of-type {\n        vertical-align: middle;\n    }\n\n    .dataframe tbody tr th {\n        vertical-align: top;\n    }\n\n    .dataframe thead th {\n        text-align: right;\n    }\n</style>\n<table border=\"1\" class=\"dataframe\">\n  <thead>\n    <tr style=\"text-align: right;\">\n      <th></th>\n      <th>Element</th>\n      <th>Year</th>\n      <th>Value</th>\n    </tr>\n  </thead>\n  <tbody>\n    <tr>\n      <th>0</th>\n      <td>Rural population</td>\n      <td>1990</td>\n      <td>74</td>\n    </tr>\n    <tr>\n      <th>1</th>\n      <td>Urban population</td>\n      <td>1990</td>\n      <td>32</td>\n    </tr>\n    <tr>\n      <th>2</th>\n      <td>Urban population</td>\n      <td>1991</td>\n      <td>34</td>\n    </tr>\n    <tr>\n      <th>3</th>\n      <td>Rural population</td>\n      <td>1991</td>\n      <td>76</td>\n    </tr>\n    <tr>\n      <th>4</th>\n      <td>Rural population</td>\n      <td>1992</td>\n      <td>78</td>\n    </tr>\n    <tr>\n      <th>5</th>\n      <td>Urban population</td>\n      <td>1992</td>\n      <td>35</td>\n    </tr>\n    <tr>\n      <th>6</th>\n      <td>Urban population</td>\n      <td>1993</td>\n      <td>36</td>\n    </tr>\n    <tr>\n      <th>7</th>\n      <td>Rural population</td>\n      <td>1993</td>\n      <td>80</td>\n    </tr>\n    <tr>\n      <th>8</th>\n      <td>Rural population</td>\n      <td>1994</td>\n      <td>81</td>\n    </tr>\n    <tr>\n      <th>9</th>\n      <td>Urban population</td>\n      <td>1994</td>\n      <td>37</td>\n    </tr>\n    <tr>\n      <th>10</th>\n      <td>Urban population</td>\n      <td>1995</td>\n      <td>39</td>\n    </tr>\n    <tr>\n      <th>11</th>\n      <td>Rural population</td>\n      <td>1995</td>\n      <td>83</td>\n    </tr>\n    <tr>\n      <th>12</th>\n      <td>Rural population</td>\n      <td>1996</td>\n      <td>85</td>\n    </tr>\n    <tr>\n      <th>13</th>\n      <td>Urban population</td>\n      <td>1996</td>\n      <td>40</td>\n    </tr>\n    <tr>\n      <th>14</th>\n      <td>Urban population</td>\n      <td>1997</td>\n      <td>41</td>\n    </tr>\n    <tr>\n      <th>15</th>\n      <td>Rural population</td>\n      <td>1997</td>\n      <td>87</td>\n    </tr>\n    <tr>\n      <th>16</th>\n      <td>Rural population</td>\n      <td>1998</td>\n      <td>89</td>\n    </tr>\n    <tr>\n      <th>17</th>\n      <td>Urban population</td>\n      <td>1998</td>\n      <td>43</td>\n    </tr>\n    <tr>\n      <th>18</th>\n      <td>Urban population</td>\n      <td>1999</td>\n      <td>44</td>\n    </tr>\n    <tr>\n      <th>19</th>\n      <td>Rural population</td>\n      <td>1999</td>\n      <td>91</td>\n    </tr>\n    <tr>\n      <th>20</th>\n      <td>Rural population</td>\n      <td>2000</td>\n      <td>92</td>\n    </tr>\n    <tr>\n      <th>21</th>\n      <td>Urban population</td>\n      <td>2000</td>\n      <td>45</td>\n    </tr>\n    <tr>\n      <th>22</th>\n      <td>Urban population</td>\n      <td>2001</td>\n      <td>46</td>\n    </tr>\n    <tr>\n      <th>23</th>\n      <td>Rural population</td>\n      <td>2001</td>\n      <td>94</td>\n    </tr>\n    <tr>\n      <th>24</th>\n      <td>Rural population</td>\n      <td>2002</td>\n      <td>96</td>\n    </tr>\n    <tr>\n      <th>25</th>\n      <td>Urban population</td>\n      <td>2002</td>\n      <td>48</td>\n    </tr>\n    <tr>\n      <th>26</th>\n      <td>Urban population</td>\n      <td>2003</td>\n      <td>49</td>\n    </tr>\n    <tr>\n      <th>27</th>\n      <td>Rural population</td>\n      <td>2003</td>\n      <td>98</td>\n    </tr>\n    <tr>\n      <th>28</th>\n      <td>Rural population</td>\n      <td>2004</td>\n      <td>99</td>\n    </tr>\n    <tr>\n      <th>29</th>\n      <td>Urban population</td>\n      <td>2004</td>\n      <td>50</td>\n    </tr>\n    <tr>\n      <th>30</th>\n      <td>Urban population</td>\n      <td>2005</td>\n      <td>52</td>\n    </tr>\n    <tr>\n      <th>31</th>\n      <td>Rural population</td>\n      <td>2005</td>\n      <td>101</td>\n    </tr>\n    <tr>\n      <th>32</th>\n      <td>Rural population</td>\n      <td>2006</td>\n      <td>103</td>\n    </tr>\n    <tr>\n      <th>33</th>\n      <td>Urban population</td>\n      <td>2006</td>\n      <td>53</td>\n    </tr>\n    <tr>\n      <th>34</th>\n      <td>Urban population</td>\n      <td>2007</td>\n      <td>55</td>\n    </tr>\n    <tr>\n      <th>35</th>\n      <td>Rural population</td>\n      <td>2007</td>\n      <td>105</td>\n    </tr>\n    <tr>\n      <th>36</th>\n      <td>Rural population</td>\n      <td>2008</td>\n      <td>107</td>\n    </tr>\n    <tr>\n      <th>37</th>\n      <td>Urban population</td>\n      <td>2008</td>\n      <td>56</td>\n    </tr>\n    <tr>\n      <th>38</th>\n      <td>Urban population</td>\n      <td>2009</td>\n      <td>58</td>\n    </tr>\n    <tr>\n      <th>39</th>\n      <td>Rural population</td>\n      <td>2009</td>\n      <td>108</td>\n    </tr>\n    <tr>\n      <th>40</th>\n      <td>Rural population</td>\n      <td>2010</td>\n      <td>110</td>\n    </tr>\n    <tr>\n      <th>41</th>\n      <td>Urban population</td>\n      <td>2010</td>\n      <td>59</td>\n    </tr>\n    <tr>\n      <th>42</th>\n      <td>Urban population</td>\n      <td>2011</td>\n      <td>61</td>\n    </tr>\n    <tr>\n      <th>43</th>\n      <td>Rural population</td>\n      <td>2011</td>\n      <td>112</td>\n    </tr>\n    <tr>\n      <th>44</th>\n      <td>Rural population</td>\n      <td>2012</td>\n      <td>114</td>\n    </tr>\n    <tr>\n      <th>45</th>\n      <td>Urban population</td>\n      <td>2012</td>\n      <td>62</td>\n    </tr>\n    <tr>\n      <th>46</th>\n      <td>Urban population</td>\n      <td>2013</td>\n      <td>64</td>\n    </tr>\n    <tr>\n      <th>47</th>\n      <td>Rural population</td>\n      <td>2013</td>\n      <td>116</td>\n    </tr>\n    <tr>\n      <th>48</th>\n      <td>Rural population</td>\n      <td>2014</td>\n      <td>119</td>\n    </tr>\n    <tr>\n      <th>49</th>\n      <td>Urban population</td>\n      <td>2014</td>\n      <td>66</td>\n    </tr>\n    <tr>\n      <th>50</th>\n      <td>Urban population</td>\n      <td>2015</td>\n      <td>68</td>\n    </tr>\n    <tr>\n      <th>51</th>\n      <td>Rural population</td>\n      <td>2015</td>\n      <td>121</td>\n    </tr>\n    <tr>\n      <th>52</th>\n      <td>Rural population</td>\n      <td>2016</td>\n      <td>123</td>\n    </tr>\n    <tr>\n      <th>53</th>\n      <td>Urban population</td>\n      <td>2016</td>\n      <td>70</td>\n    </tr>\n    <tr>\n      <th>54</th>\n      <td>Urban population</td>\n      <td>2017</td>\n      <td>71</td>\n    </tr>\n    <tr>\n      <th>55</th>\n      <td>Rural population</td>\n      <td>2017</td>\n      <td>125</td>\n    </tr>\n    <tr>\n      <th>56</th>\n      <td>Rural population</td>\n      <td>2018</td>\n      <td>127</td>\n    </tr>\n    <tr>\n      <th>57</th>\n      <td>Urban population</td>\n      <td>2018</td>\n      <td>73</td>\n    </tr>\n  </tbody>\n</table>\n</div>"
     },
     "execution_count": 79,
     "metadata": {},
     "output_type": "execute_result"
    }
   ],
   "source": [
    "# Current data is in Thousands, Convert into Million i.e. from K to M\n",
    "required_data[\"Value\"] = required_data[\"Value\"].apply(lambda x: int(x // 1000))\n",
    "required_data"
   ],
   "metadata": {
    "collapsed": false,
    "pycharm": {
     "name": "#%%\n"
    }
   }
  },
  {
   "cell_type": "code",
   "execution_count": 80,
   "outputs": [
    {
     "data": {
      "text/plain": "Year\n1990    106\n1991    110\n1992    113\n1993    116\n1994    118\n1995    122\n1996    125\n1997    128\n1998    132\n1999    135\n2000    137\n2001    140\n2002    144\n2003    147\n2004    149\n2005    153\n2006    156\n2007    160\n2008    163\n2009    166\n2010    169\n2011    173\n2012    176\n2013    180\n2014    185\n2015    189\n2016    193\n2017    196\n2018    200\nName: Value, dtype: int64"
     },
     "execution_count": 80,
     "metadata": {},
     "output_type": "execute_result"
    }
   ],
   "source": [
    "year_sum = required_data.groupby([\"Year\"])[\"Value\"].sum()\n",
    "year_sum"
   ],
   "metadata": {
    "collapsed": false,
    "pycharm": {
     "name": "#%%\n"
    }
   }
  },
  {
   "cell_type": "code",
   "execution_count": 81,
   "outputs": [
    {
     "data": {
      "text/plain": "[1990,\n 1991,\n 1992,\n 1993,\n 1994,\n 1995,\n 1996,\n 1997,\n 1998,\n 1999,\n 2000,\n 2001,\n 2002,\n 2003,\n 2004,\n 2005,\n 2006,\n 2007,\n 2008,\n 2009,\n 2010,\n 2011,\n 2012,\n 2013,\n 2014,\n 2015,\n 2016,\n 2017,\n 2018]"
     },
     "execution_count": 81,
     "metadata": {},
     "output_type": "execute_result"
    }
   ],
   "source": [
    "years_list = list(year_sum.index)\n",
    "years_list"
   ],
   "metadata": {
    "collapsed": false,
    "pycharm": {
     "name": "#%%\n"
    }
   }
  },
  {
   "cell_type": "code",
   "execution_count": 82,
   "outputs": [
    {
     "data": {
      "text/plain": "               Element  Year  Value\n0.0   Rural population  1990     74\n1.0   Urban population  1990     32\n2.0   Urban population  1991     34\n3.0   Rural population  1991     76\n4.0   Rural population  1992     78\n...                ...   ...    ...\n49.5  Total Population  2014    185\n51.5  Total Population  2015    189\n53.5  Total Population  2016    193\n55.5  Total Population  2017    196\n57.5  Total Population  2018    200\n\n[87 rows x 3 columns]",
      "text/html": "<div>\n<style scoped>\n    .dataframe tbody tr th:only-of-type {\n        vertical-align: middle;\n    }\n\n    .dataframe tbody tr th {\n        vertical-align: top;\n    }\n\n    .dataframe thead th {\n        text-align: right;\n    }\n</style>\n<table border=\"1\" class=\"dataframe\">\n  <thead>\n    <tr style=\"text-align: right;\">\n      <th></th>\n      <th>Element</th>\n      <th>Year</th>\n      <th>Value</th>\n    </tr>\n  </thead>\n  <tbody>\n    <tr>\n      <th>0.0</th>\n      <td>Rural population</td>\n      <td>1990</td>\n      <td>74</td>\n    </tr>\n    <tr>\n      <th>1.0</th>\n      <td>Urban population</td>\n      <td>1990</td>\n      <td>32</td>\n    </tr>\n    <tr>\n      <th>2.0</th>\n      <td>Urban population</td>\n      <td>1991</td>\n      <td>34</td>\n    </tr>\n    <tr>\n      <th>3.0</th>\n      <td>Rural population</td>\n      <td>1991</td>\n      <td>76</td>\n    </tr>\n    <tr>\n      <th>4.0</th>\n      <td>Rural population</td>\n      <td>1992</td>\n      <td>78</td>\n    </tr>\n    <tr>\n      <th>...</th>\n      <td>...</td>\n      <td>...</td>\n      <td>...</td>\n    </tr>\n    <tr>\n      <th>49.5</th>\n      <td>Total Population</td>\n      <td>2014</td>\n      <td>185</td>\n    </tr>\n    <tr>\n      <th>51.5</th>\n      <td>Total Population</td>\n      <td>2015</td>\n      <td>189</td>\n    </tr>\n    <tr>\n      <th>53.5</th>\n      <td>Total Population</td>\n      <td>2016</td>\n      <td>193</td>\n    </tr>\n    <tr>\n      <th>55.5</th>\n      <td>Total Population</td>\n      <td>2017</td>\n      <td>196</td>\n    </tr>\n    <tr>\n      <th>57.5</th>\n      <td>Total Population</td>\n      <td>2018</td>\n      <td>200</td>\n    </tr>\n  </tbody>\n</table>\n<p>87 rows × 3 columns</p>\n</div>"
     },
     "execution_count": 82,
     "metadata": {},
     "output_type": "execute_result"
    }
   ],
   "source": [
    "# add Total Population Value after each year in a loop\n",
    "for index_year, total_value in year_sum.iteritems():\n",
    "    add_total(index_year, total_value)\n",
    "\n",
    "required_data"
   ],
   "metadata": {
    "collapsed": false,
    "pycharm": {
     "name": "#%%\n"
    }
   }
  },
  {
   "cell_type": "code",
   "execution_count": 83,
   "outputs": [
    {
     "data": {
      "text/plain": "             Element  Year  Value\n0   Rural population  1990     74\n1   Urban population  1990     32\n2   Total Population  1990    106\n3   Urban population  1991     34\n4   Rural population  1991     76\n..               ...   ...    ...\n82  Rural population  2017    125\n83  Total Population  2017    196\n84  Rural population  2018    127\n85  Urban population  2018     73\n86  Total Population  2018    200\n\n[87 rows x 3 columns]",
      "text/html": "<div>\n<style scoped>\n    .dataframe tbody tr th:only-of-type {\n        vertical-align: middle;\n    }\n\n    .dataframe tbody tr th {\n        vertical-align: top;\n    }\n\n    .dataframe thead th {\n        text-align: right;\n    }\n</style>\n<table border=\"1\" class=\"dataframe\">\n  <thead>\n    <tr style=\"text-align: right;\">\n      <th></th>\n      <th>Element</th>\n      <th>Year</th>\n      <th>Value</th>\n    </tr>\n  </thead>\n  <tbody>\n    <tr>\n      <th>0</th>\n      <td>Rural population</td>\n      <td>1990</td>\n      <td>74</td>\n    </tr>\n    <tr>\n      <th>1</th>\n      <td>Urban population</td>\n      <td>1990</td>\n      <td>32</td>\n    </tr>\n    <tr>\n      <th>2</th>\n      <td>Total Population</td>\n      <td>1990</td>\n      <td>106</td>\n    </tr>\n    <tr>\n      <th>3</th>\n      <td>Urban population</td>\n      <td>1991</td>\n      <td>34</td>\n    </tr>\n    <tr>\n      <th>4</th>\n      <td>Rural population</td>\n      <td>1991</td>\n      <td>76</td>\n    </tr>\n    <tr>\n      <th>...</th>\n      <td>...</td>\n      <td>...</td>\n      <td>...</td>\n    </tr>\n    <tr>\n      <th>82</th>\n      <td>Rural population</td>\n      <td>2017</td>\n      <td>125</td>\n    </tr>\n    <tr>\n      <th>83</th>\n      <td>Total Population</td>\n      <td>2017</td>\n      <td>196</td>\n    </tr>\n    <tr>\n      <th>84</th>\n      <td>Rural population</td>\n      <td>2018</td>\n      <td>127</td>\n    </tr>\n    <tr>\n      <th>85</th>\n      <td>Urban population</td>\n      <td>2018</td>\n      <td>73</td>\n    </tr>\n    <tr>\n      <th>86</th>\n      <td>Total Population</td>\n      <td>2018</td>\n      <td>200</td>\n    </tr>\n  </tbody>\n</table>\n<p>87 rows × 3 columns</p>\n</div>"
     },
     "execution_count": 83,
     "metadata": {},
     "output_type": "execute_result"
    }
   ],
   "source": [
    "# sort and reset index\n",
    "required_data = required_data.sort_index().reset_index(drop=True)\n",
    "required_data"
   ],
   "metadata": {
    "collapsed": false,
    "pycharm": {
     "name": "#%%\n"
    }
   }
  },
  {
   "cell_type": "code",
   "execution_count": 86,
   "outputs": [],
   "source": [
    "# Save modified data\n",
    "required_data.to_csv(\"../../data/rural_urban_total_population_pakistan.csv\", index=False)"
   ],
   "metadata": {
    "collapsed": false,
    "pycharm": {
     "name": "#%%\n"
    }
   }
  },
  {
   "cell_type": "code",
   "execution_count": 85,
   "outputs": [
    {
     "data": {
      "text/plain": "<Figure size 432x288 with 1 Axes>",
      "image/png": "[encoded data removed]"
     },
     "metadata": {
      "needs_background": "light"
     },
     "output_type": "display_data"
    }
   ],
   "source": [
    "# Draw a line graph\n",
    "sns.lineplot(x=\"Year\", y=\"Value\", hue=\"Element\", data=required_data)\n",
    "plt.title(\"Pakistan Rural and Urban Population 1990-2018\")\n",
    "plt.xlabel(\"Year\")\n",
    "plt.ylabel(\"Population (Million)\")\n",
    "plt.show()\n",
    "\n"
   ],
   "metadata": {
    "collapsed": false,
    "pycharm": {
     "name": "#%%\n"
    }
   }
  }
 ],
 "metadata": {
  "kernelspec": {
   "display_name": "Python 3",
   "language": "python",
   "name": "python3"
  },
  "language_info": {
   "codemirror_mode": {
    "name": "ipython",
    "version": 2
   },
   "file_extension": ".py",
   "mimetype": "text/x-python",
   "name": "python",
   "nbconvert_exporter": "python",
   "pygments_lexer": "ipython2",
   "version": "2.7.6"
  }
 },
 "nbformat": 4,
 "nbformat_minor": 0
}