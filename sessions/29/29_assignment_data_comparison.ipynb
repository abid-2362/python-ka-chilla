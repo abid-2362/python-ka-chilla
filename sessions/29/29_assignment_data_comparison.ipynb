{
 "cells": [
  {
   "cell_type": "code",
   "execution_count": 29,
   "metadata": {
    "collapsed": true
   },
   "outputs": [],
   "source": [
    "#importing libraries\n",
    "import pandas as pd\n",
    "import numpy as np\n",
    "import matplotlib.pyplot as plt\n",
    "import seaborn as sns"
   ]
  },
  {
   "cell_type": "code",
   "execution_count": 20,
   "outputs": [
    {
     "ename": "KeyError",
     "evalue": "'Value'",
     "output_type": "error",
     "traceback": [
      "\u001B[1;31m---------------------------------------------------------------------------\u001B[0m",
      "\u001B[1;31mKeyError\u001B[0m                                  Traceback (most recent call last)",
      "Input \u001B[1;32mIn [20]\u001B[0m, in \u001B[0;36m<cell line: 4>\u001B[1;34m()\u001B[0m\n\u001B[0;32m      2\u001B[0m required_data \u001B[38;5;241m=\u001B[39m data\u001B[38;5;241m.\u001B[39mloc[\u001B[38;5;241m0\u001B[39m:,[\u001B[38;5;124m\"\u001B[39m\u001B[38;5;124mElement\u001B[39m\u001B[38;5;124m\"\u001B[39m,\u001B[38;5;124m\"\u001B[39m\u001B[38;5;124mYear\u001B[39m\u001B[38;5;124m\"\u001B[39m, \u001B[38;5;124m\"\u001B[39m\u001B[38;5;124mValue\u001B[39m\u001B[38;5;124m\"\u001B[39m]]\n\u001B[0;32m      3\u001B[0m \u001B[38;5;66;03m# required_data.apply(lambda x: int(x*1000))\u001B[39;00m\n\u001B[1;32m----> 4\u001B[0m \u001B[43mrequired_data\u001B[49m\u001B[38;5;241;43m.\u001B[39;49m\u001B[43mapply\u001B[49m\u001B[43m(\u001B[49m\u001B[38;5;28;43;01mlambda\u001B[39;49;00m\u001B[43m \u001B[49m\u001B[43mx\u001B[49m\u001B[43m:\u001B[49m\u001B[43m \u001B[49m\u001B[43mx\u001B[49m\u001B[43m[\u001B[49m\u001B[38;5;124;43m\"\u001B[39;49m\u001B[38;5;124;43mValue\u001B[39;49m\u001B[38;5;124;43m\"\u001B[39;49m\u001B[43m]\u001B[49m\u001B[38;5;241;43m*\u001B[39;49m\u001B[38;5;241;43m1000\u001B[39;49m\u001B[43m)\u001B[49m\n",
      "File \u001B[1;32mC:\\Python310\\lib\\site-packages\\pandas\\core\\frame.py:8833\u001B[0m, in \u001B[0;36mDataFrame.apply\u001B[1;34m(self, func, axis, raw, result_type, args, **kwargs)\u001B[0m\n\u001B[0;32m   8822\u001B[0m \u001B[38;5;28;01mfrom\u001B[39;00m \u001B[38;5;21;01mpandas\u001B[39;00m\u001B[38;5;21;01m.\u001B[39;00m\u001B[38;5;21;01mcore\u001B[39;00m\u001B[38;5;21;01m.\u001B[39;00m\u001B[38;5;21;01mapply\u001B[39;00m \u001B[38;5;28;01mimport\u001B[39;00m frame_apply\n\u001B[0;32m   8824\u001B[0m op \u001B[38;5;241m=\u001B[39m frame_apply(\n\u001B[0;32m   8825\u001B[0m     \u001B[38;5;28mself\u001B[39m,\n\u001B[0;32m   8826\u001B[0m     func\u001B[38;5;241m=\u001B[39mfunc,\n\u001B[1;32m   (...)\u001B[0m\n\u001B[0;32m   8831\u001B[0m     kwargs\u001B[38;5;241m=\u001B[39mkwargs,\n\u001B[0;32m   8832\u001B[0m )\n\u001B[1;32m-> 8833\u001B[0m \u001B[38;5;28;01mreturn\u001B[39;00m \u001B[43mop\u001B[49m\u001B[38;5;241;43m.\u001B[39;49m\u001B[43mapply\u001B[49m\u001B[43m(\u001B[49m\u001B[43m)\u001B[49m\u001B[38;5;241m.\u001B[39m__finalize__(\u001B[38;5;28mself\u001B[39m, method\u001B[38;5;241m=\u001B[39m\u001B[38;5;124m\"\u001B[39m\u001B[38;5;124mapply\u001B[39m\u001B[38;5;124m\"\u001B[39m)\n",
      "File \u001B[1;32mC:\\Python310\\lib\\site-packages\\pandas\\core\\apply.py:727\u001B[0m, in \u001B[0;36mFrameApply.apply\u001B[1;34m(self)\u001B[0m\n\u001B[0;32m    724\u001B[0m \u001B[38;5;28;01melif\u001B[39;00m \u001B[38;5;28mself\u001B[39m\u001B[38;5;241m.\u001B[39mraw:\n\u001B[0;32m    725\u001B[0m     \u001B[38;5;28;01mreturn\u001B[39;00m \u001B[38;5;28mself\u001B[39m\u001B[38;5;241m.\u001B[39mapply_raw()\n\u001B[1;32m--> 727\u001B[0m \u001B[38;5;28;01mreturn\u001B[39;00m \u001B[38;5;28;43mself\u001B[39;49m\u001B[38;5;241;43m.\u001B[39;49m\u001B[43mapply_standard\u001B[49m\u001B[43m(\u001B[49m\u001B[43m)\u001B[49m\n",
      "File \u001B[1;32mC:\\Python310\\lib\\site-packages\\pandas\\core\\apply.py:851\u001B[0m, in \u001B[0;36mFrameApply.apply_standard\u001B[1;34m(self)\u001B[0m\n\u001B[0;32m    850\u001B[0m \u001B[38;5;28;01mdef\u001B[39;00m \u001B[38;5;21mapply_standard\u001B[39m(\u001B[38;5;28mself\u001B[39m):\n\u001B[1;32m--> 851\u001B[0m     results, res_index \u001B[38;5;241m=\u001B[39m \u001B[38;5;28;43mself\u001B[39;49m\u001B[38;5;241;43m.\u001B[39;49m\u001B[43mapply_series_generator\u001B[49m\u001B[43m(\u001B[49m\u001B[43m)\u001B[49m\n\u001B[0;32m    853\u001B[0m     \u001B[38;5;66;03m# wrap results\u001B[39;00m\n\u001B[0;32m    854\u001B[0m     \u001B[38;5;28;01mreturn\u001B[39;00m \u001B[38;5;28mself\u001B[39m\u001B[38;5;241m.\u001B[39mwrap_results(results, res_index)\n",
      "File \u001B[1;32mC:\\Python310\\lib\\site-packages\\pandas\\core\\apply.py:867\u001B[0m, in \u001B[0;36mFrameApply.apply_series_generator\u001B[1;34m(self)\u001B[0m\n\u001B[0;32m    864\u001B[0m \u001B[38;5;28;01mwith\u001B[39;00m option_context(\u001B[38;5;124m\"\u001B[39m\u001B[38;5;124mmode.chained_assignment\u001B[39m\u001B[38;5;124m\"\u001B[39m, \u001B[38;5;28;01mNone\u001B[39;00m):\n\u001B[0;32m    865\u001B[0m     \u001B[38;5;28;01mfor\u001B[39;00m i, v \u001B[38;5;129;01min\u001B[39;00m \u001B[38;5;28menumerate\u001B[39m(series_gen):\n\u001B[0;32m    866\u001B[0m         \u001B[38;5;66;03m# ignore SettingWithCopy here in case the user mutates\u001B[39;00m\n\u001B[1;32m--> 867\u001B[0m         results[i] \u001B[38;5;241m=\u001B[39m \u001B[38;5;28;43mself\u001B[39;49m\u001B[38;5;241;43m.\u001B[39;49m\u001B[43mf\u001B[49m\u001B[43m(\u001B[49m\u001B[43mv\u001B[49m\u001B[43m)\u001B[49m\n\u001B[0;32m    868\u001B[0m         \u001B[38;5;28;01mif\u001B[39;00m \u001B[38;5;28misinstance\u001B[39m(results[i], ABCSeries):\n\u001B[0;32m    869\u001B[0m             \u001B[38;5;66;03m# If we have a view on v, we need to make a copy because\u001B[39;00m\n\u001B[0;32m    870\u001B[0m             \u001B[38;5;66;03m#  series_generator will swap out the underlying data\u001B[39;00m\n\u001B[0;32m    871\u001B[0m             results[i] \u001B[38;5;241m=\u001B[39m results[i]\u001B[38;5;241m.\u001B[39mcopy(deep\u001B[38;5;241m=\u001B[39m\u001B[38;5;28;01mFalse\u001B[39;00m)\n",
      "Input \u001B[1;32mIn [20]\u001B[0m, in \u001B[0;36m<lambda>\u001B[1;34m(x)\u001B[0m\n\u001B[0;32m      2\u001B[0m required_data \u001B[38;5;241m=\u001B[39m data\u001B[38;5;241m.\u001B[39mloc[\u001B[38;5;241m0\u001B[39m:,[\u001B[38;5;124m\"\u001B[39m\u001B[38;5;124mElement\u001B[39m\u001B[38;5;124m\"\u001B[39m,\u001B[38;5;124m\"\u001B[39m\u001B[38;5;124mYear\u001B[39m\u001B[38;5;124m\"\u001B[39m, \u001B[38;5;124m\"\u001B[39m\u001B[38;5;124mValue\u001B[39m\u001B[38;5;124m\"\u001B[39m]]\n\u001B[0;32m      3\u001B[0m \u001B[38;5;66;03m# required_data.apply(lambda x: int(x*1000))\u001B[39;00m\n\u001B[1;32m----> 4\u001B[0m required_data\u001B[38;5;241m.\u001B[39mapply(\u001B[38;5;28;01mlambda\u001B[39;00m x: \u001B[43mx\u001B[49m\u001B[43m[\u001B[49m\u001B[38;5;124;43m\"\u001B[39;49m\u001B[38;5;124;43mValue\u001B[39;49m\u001B[38;5;124;43m\"\u001B[39;49m\u001B[43m]\u001B[49m\u001B[38;5;241m*\u001B[39m\u001B[38;5;241m1000\u001B[39m)\n",
      "File \u001B[1;32mC:\\Python310\\lib\\site-packages\\pandas\\core\\series.py:958\u001B[0m, in \u001B[0;36mSeries.__getitem__\u001B[1;34m(self, key)\u001B[0m\n\u001B[0;32m    955\u001B[0m     \u001B[38;5;28;01mreturn\u001B[39;00m \u001B[38;5;28mself\u001B[39m\u001B[38;5;241m.\u001B[39m_values[key]\n\u001B[0;32m    957\u001B[0m \u001B[38;5;28;01melif\u001B[39;00m key_is_scalar:\n\u001B[1;32m--> 958\u001B[0m     \u001B[38;5;28;01mreturn\u001B[39;00m \u001B[38;5;28;43mself\u001B[39;49m\u001B[38;5;241;43m.\u001B[39;49m\u001B[43m_get_value\u001B[49m\u001B[43m(\u001B[49m\u001B[43mkey\u001B[49m\u001B[43m)\u001B[49m\n\u001B[0;32m    960\u001B[0m \u001B[38;5;28;01mif\u001B[39;00m is_hashable(key):\n\u001B[0;32m    961\u001B[0m     \u001B[38;5;66;03m# Otherwise index.get_value will raise InvalidIndexError\u001B[39;00m\n\u001B[0;32m    962\u001B[0m     \u001B[38;5;28;01mtry\u001B[39;00m:\n\u001B[0;32m    963\u001B[0m         \u001B[38;5;66;03m# For labels that don't resolve as scalars like tuples and frozensets\u001B[39;00m\n",
      "File \u001B[1;32mC:\\Python310\\lib\\site-packages\\pandas\\core\\series.py:1069\u001B[0m, in \u001B[0;36mSeries._get_value\u001B[1;34m(self, label, takeable)\u001B[0m\n\u001B[0;32m   1066\u001B[0m     \u001B[38;5;28;01mreturn\u001B[39;00m \u001B[38;5;28mself\u001B[39m\u001B[38;5;241m.\u001B[39m_values[label]\n\u001B[0;32m   1068\u001B[0m \u001B[38;5;66;03m# Similar to Index.get_value, but we do not fall back to positional\u001B[39;00m\n\u001B[1;32m-> 1069\u001B[0m loc \u001B[38;5;241m=\u001B[39m \u001B[38;5;28;43mself\u001B[39;49m\u001B[38;5;241;43m.\u001B[39;49m\u001B[43mindex\u001B[49m\u001B[38;5;241;43m.\u001B[39;49m\u001B[43mget_loc\u001B[49m\u001B[43m(\u001B[49m\u001B[43mlabel\u001B[49m\u001B[43m)\u001B[49m\n\u001B[0;32m   1070\u001B[0m \u001B[38;5;28;01mreturn\u001B[39;00m \u001B[38;5;28mself\u001B[39m\u001B[38;5;241m.\u001B[39mindex\u001B[38;5;241m.\u001B[39m_get_values_for_loc(\u001B[38;5;28mself\u001B[39m, loc, label)\n",
      "File \u001B[1;32mC:\\Python310\\lib\\site-packages\\pandas\\core\\indexes\\range.py:389\u001B[0m, in \u001B[0;36mRangeIndex.get_loc\u001B[1;34m(self, key, method, tolerance)\u001B[0m\n\u001B[0;32m    387\u001B[0m             \u001B[38;5;28;01mraise\u001B[39;00m \u001B[38;5;167;01mKeyError\u001B[39;00m(key) \u001B[38;5;28;01mfrom\u001B[39;00m \u001B[38;5;21;01merr\u001B[39;00m\n\u001B[0;32m    388\u001B[0m     \u001B[38;5;28mself\u001B[39m\u001B[38;5;241m.\u001B[39m_check_indexing_error(key)\n\u001B[1;32m--> 389\u001B[0m     \u001B[38;5;28;01mraise\u001B[39;00m \u001B[38;5;167;01mKeyError\u001B[39;00m(key)\n\u001B[0;32m    390\u001B[0m \u001B[38;5;28;01mreturn\u001B[39;00m \u001B[38;5;28msuper\u001B[39m()\u001B[38;5;241m.\u001B[39mget_loc(key, method\u001B[38;5;241m=\u001B[39mmethod, tolerance\u001B[38;5;241m=\u001B[39mtolerance)\n",
      "\u001B[1;31mKeyError\u001B[0m: 'Value'"
     ]
    }
   ],
   "source": [
    "data = pd.read_csv(\"../../data/FAOSTAT_data_rural_urban_population.csv\")\n",
    "required_data = data.loc[0:,[\"Element\",\"Year\", \"Value\"]]\n",
    "# required_data.apply(lambda x: int(x*1000))\n",
    "required_data.apply(lambda x: x[\"Value\"]*1000)"
   ],
   "metadata": {
    "collapsed": false,
    "pycharm": {
     "name": "#%%\n"
    }
   }
  },
  {
   "cell_type": "code",
   "execution_count": 65,
   "outputs": [
    {
     "data": {
      "text/plain": "             Element  Year      Value\n0   Rural population  1990   74754921\n1   Urban population  1990   32923693\n2   Urban population  1991   34133440\n3   Rural population  1991   76596980\n4   Rural population  1992   78397927\n5   Urban population  1992   35349208\n6   Urban population  1993   36576156\n7   Rural population  1993   80173404\n8   Rural population  1994   81944046\n9   Urban population  1994   37825510\n10  Urban population  1995   39104110\n11  Rural population  1995   83725038\n12  Rural population  1996   85522340\n13  Urban population  1996   40415999\n14  Urban population  1997   41757031\n15  Rural population  1997   87329956\n16  Rural population  1998   89157996\n17  Urban population  1998   43095268\n18  Urban population  1999   44390191\n19  Rural population  1999   91015393\n20  Rural population  2000   92835896\n21  Urban population  2000   45687389\n22  Urban population  2001   46983935\n23  Rural population  2001   94617502\n24  Rural population  2002   96368659\n25  Urban population  2002   48285484\n26  Urban population  2003   49598941\n27  Rural population  2003   98104460\n28  Rural population  2004   99845050\n29  Urban population  2004   50935250\n30  Urban population  2005   52301807\n31  Rural population  2005  101607860\n32  Rural population  2006  103392912\n33  Urban population  2006   53701081\n34  Urban population  2007   55132929\n35  Rural population  2007  105200045\n36  Rural population  2008  107040193\n37  Urban population  2008   56604410\n38  Urban population  2009   58121842\n39  Rural population  2009  108927738\n40  Rural population  2010  110868669\n41  Urban population  2010   59691513\n42  Urban population  2011   61316426\n43  Rural population  2011  112867839\n44  Rural population  2012  114917348\n45  Urban population  2012   62994185\n46  Urban population  2013   64713498\n47  Rural population  2013  116999097\n48  Rural population  2014  119084632\n49  Urban population  2014   66461625\n50  Urban population  2015   68226783\n51  Rural population  2015  121153730\n52  Rural population  2016  123198205\n53  Urban population  2016   70005271\n54  Urban population  2017   71795700\n55  Rural population  2017  125220255\n56  Rural population  2018  127183388\n57  Urban population  2018   73630430",
      "text/html": "<div>\n<style scoped>\n    .dataframe tbody tr th:only-of-type {\n        vertical-align: middle;\n    }\n\n    .dataframe tbody tr th {\n        vertical-align: top;\n    }\n\n    .dataframe thead th {\n        text-align: right;\n    }\n</style>\n<table border=\"1\" class=\"dataframe\">\n  <thead>\n    <tr style=\"text-align: right;\">\n      <th></th>\n      <th>Element</th>\n      <th>Year</th>\n      <th>Value</th>\n    </tr>\n  </thead>\n  <tbody>\n    <tr>\n      <th>0</th>\n      <td>Rural population</td>\n      <td>1990</td>\n      <td>74754921</td>\n    </tr>\n    <tr>\n      <th>1</th>\n      <td>Urban population</td>\n      <td>1990</td>\n      <td>32923693</td>\n    </tr>\n    <tr>\n      <th>2</th>\n      <td>Urban population</td>\n      <td>1991</td>\n      <td>34133440</td>\n    </tr>\n    <tr>\n      <th>3</th>\n      <td>Rural population</td>\n      <td>1991</td>\n      <td>76596980</td>\n    </tr>\n    <tr>\n      <th>4</th>\n      <td>Rural population</td>\n      <td>1992</td>\n      <td>78397927</td>\n    </tr>\n    <tr>\n      <th>5</th>\n      <td>Urban population</td>\n      <td>1992</td>\n      <td>35349208</td>\n    </tr>\n    <tr>\n      <th>6</th>\n      <td>Urban population</td>\n      <td>1993</td>\n      <td>36576156</td>\n    </tr>\n    <tr>\n      <th>7</th>\n      <td>Rural population</td>\n      <td>1993</td>\n      <td>80173404</td>\n    </tr>\n    <tr>\n      <th>8</th>\n      <td>Rural population</td>\n      <td>1994</td>\n      <td>81944046</td>\n    </tr>\n    <tr>\n      <th>9</th>\n      <td>Urban population</td>\n      <td>1994</td>\n      <td>37825510</td>\n    </tr>\n    <tr>\n      <th>10</th>\n      <td>Urban population</td>\n      <td>1995</td>\n      <td>39104110</td>\n    </tr>\n    <tr>\n      <th>11</th>\n      <td>Rural population</td>\n      <td>1995</td>\n      <td>83725038</td>\n    </tr>\n    <tr>\n      <th>12</th>\n      <td>Rural population</td>\n      <td>1996</td>\n      <td>85522340</td>\n    </tr>\n    <tr>\n      <th>13</th>\n      <td>Urban population</td>\n      <td>1996</td>\n      <td>40415999</td>\n    </tr>\n    <tr>\n      <th>14</th>\n      <td>Urban population</td>\n      <td>1997</td>\n      <td>41757031</td>\n    </tr>\n    <tr>\n      <th>15</th>\n      <td>Rural population</td>\n      <td>1997</td>\n      <td>87329956</td>\n    </tr>\n    <tr>\n      <th>16</th>\n      <td>Rural population</td>\n      <td>1998</td>\n      <td>89157996</td>\n    </tr>\n    <tr>\n      <th>17</th>\n      <td>Urban population</td>\n      <td>1998</td>\n      <td>43095268</td>\n    </tr>\n    <tr>\n      <th>18</th>\n      <td>Urban population</td>\n      <td>1999</td>\n      <td>44390191</td>\n    </tr>\n    <tr>\n      <th>19</th>\n      <td>Rural population</td>\n      <td>1999</td>\n      <td>91015393</td>\n    </tr>\n    <tr>\n      <th>20</th>\n      <td>Rural population</td>\n      <td>2000</td>\n      <td>92835896</td>\n    </tr>\n    <tr>\n      <th>21</th>\n      <td>Urban population</td>\n      <td>2000</td>\n      <td>45687389</td>\n    </tr>\n    <tr>\n      <th>22</th>\n      <td>Urban population</td>\n      <td>2001</td>\n      <td>46983935</td>\n    </tr>\n    <tr>\n      <th>23</th>\n      <td>Rural population</td>\n      <td>2001</td>\n      <td>94617502</td>\n    </tr>\n    <tr>\n      <th>24</th>\n      <td>Rural population</td>\n      <td>2002</td>\n      <td>96368659</td>\n    </tr>\n    <tr>\n      <th>25</th>\n      <td>Urban population</td>\n      <td>2002</td>\n      <td>48285484</td>\n    </tr>\n    <tr>\n      <th>26</th>\n      <td>Urban population</td>\n      <td>2003</td>\n      <td>49598941</td>\n    </tr>\n    <tr>\n      <th>27</th>\n      <td>Rural population</td>\n      <td>2003</td>\n      <td>98104460</td>\n    </tr>\n    <tr>\n      <th>28</th>\n      <td>Rural population</td>\n      <td>2004</td>\n      <td>99845050</td>\n    </tr>\n    <tr>\n      <th>29</th>\n      <td>Urban population</td>\n      <td>2004</td>\n      <td>50935250</td>\n    </tr>\n    <tr>\n      <th>30</th>\n      <td>Urban population</td>\n      <td>2005</td>\n      <td>52301807</td>\n    </tr>\n    <tr>\n      <th>31</th>\n      <td>Rural population</td>\n      <td>2005</td>\n      <td>101607860</td>\n    </tr>\n    <tr>\n      <th>32</th>\n      <td>Rural population</td>\n      <td>2006</td>\n      <td>103392912</td>\n    </tr>\n    <tr>\n      <th>33</th>\n      <td>Urban population</td>\n      <td>2006</td>\n      <td>53701081</td>\n    </tr>\n    <tr>\n      <th>34</th>\n      <td>Urban population</td>\n      <td>2007</td>\n      <td>55132929</td>\n    </tr>\n    <tr>\n      <th>35</th>\n      <td>Rural population</td>\n      <td>2007</td>\n      <td>105200045</td>\n    </tr>\n    <tr>\n      <th>36</th>\n      <td>Rural population</td>\n      <td>2008</td>\n      <td>107040193</td>\n    </tr>\n    <tr>\n      <th>37</th>\n      <td>Urban population</td>\n      <td>2008</td>\n      <td>56604410</td>\n    </tr>\n    <tr>\n      <th>38</th>\n      <td>Urban population</td>\n      <td>2009</td>\n      <td>58121842</td>\n    </tr>\n    <tr>\n      <th>39</th>\n      <td>Rural population</td>\n      <td>2009</td>\n      <td>108927738</td>\n    </tr>\n    <tr>\n      <th>40</th>\n      <td>Rural population</td>\n      <td>2010</td>\n      <td>110868669</td>\n    </tr>\n    <tr>\n      <th>41</th>\n      <td>Urban population</td>\n      <td>2010</td>\n      <td>59691513</td>\n    </tr>\n    <tr>\n      <th>42</th>\n      <td>Urban population</td>\n      <td>2011</td>\n      <td>61316426</td>\n    </tr>\n    <tr>\n      <th>43</th>\n      <td>Rural population</td>\n      <td>2011</td>\n      <td>112867839</td>\n    </tr>\n    <tr>\n      <th>44</th>\n      <td>Rural population</td>\n      <td>2012</td>\n      <td>114917348</td>\n    </tr>\n    <tr>\n      <th>45</th>\n      <td>Urban population</td>\n      <td>2012</td>\n      <td>62994185</td>\n    </tr>\n    <tr>\n      <th>46</th>\n      <td>Urban population</td>\n      <td>2013</td>\n      <td>64713498</td>\n    </tr>\n    <tr>\n      <th>47</th>\n      <td>Rural population</td>\n      <td>2013</td>\n      <td>116999097</td>\n    </tr>\n    <tr>\n      <th>48</th>\n      <td>Rural population</td>\n      <td>2014</td>\n      <td>119084632</td>\n    </tr>\n    <tr>\n      <th>49</th>\n      <td>Urban population</td>\n      <td>2014</td>\n      <td>66461625</td>\n    </tr>\n    <tr>\n      <th>50</th>\n      <td>Urban population</td>\n      <td>2015</td>\n      <td>68226783</td>\n    </tr>\n    <tr>\n      <th>51</th>\n      <td>Rural population</td>\n      <td>2015</td>\n      <td>121153730</td>\n    </tr>\n    <tr>\n      <th>52</th>\n      <td>Rural population</td>\n      <td>2016</td>\n      <td>123198205</td>\n    </tr>\n    <tr>\n      <th>53</th>\n      <td>Urban population</td>\n      <td>2016</td>\n      <td>70005271</td>\n    </tr>\n    <tr>\n      <th>54</th>\n      <td>Urban population</td>\n      <td>2017</td>\n      <td>71795700</td>\n    </tr>\n    <tr>\n      <th>55</th>\n      <td>Rural population</td>\n      <td>2017</td>\n      <td>125220255</td>\n    </tr>\n    <tr>\n      <th>56</th>\n      <td>Rural population</td>\n      <td>2018</td>\n      <td>127183388</td>\n    </tr>\n    <tr>\n      <th>57</th>\n      <td>Urban population</td>\n      <td>2018</td>\n      <td>73630430</td>\n    </tr>\n  </tbody>\n</table>\n</div>"
     },
     "execution_count": 65,
     "metadata": {},
     "output_type": "execute_result"
    }
   ],
   "source": [
    "data = pd.read_csv(\"../../data/FAOSTAT_data_rural_urban_population.csv\")\n",
    "required_data = data.loc[0:,[\"Element\",\"Year\", \"Value\"]] # both lines produces same result\n",
    "# required_data = data[[\"Element\",\"Year\", \"Value\"]] # both produces same result\n",
    "\n",
    "required_data[\"Value\"] = required_data[\"Value\"].apply(lambda x: int(x*1000))\n",
    "required_data"
   ],
   "metadata": {
    "collapsed": false,
    "pycharm": {
     "name": "#%%\n"
    }
   }
  },
  {
   "cell_type": "code",
   "execution_count": 38,
   "outputs": [
    {
     "data": {
      "text/plain": "<Figure size 432x288 with 1 Axes>",
      "image/png": "[encoded data removed]"
     },
     "metadata": {
      "needs_background": "light"
     },
     "output_type": "display_data"
    }
   ],
   "source": [
    "sns.lineplot(x=\"Year\", y=\"Value\", hue=\"Element\", data=required_data)\n",
    "plt.show()"
   ],
   "metadata": {
    "collapsed": false,
    "pycharm": {
     "name": "#%%\n"
    }
   }
  },
  {
   "cell_type": "code",
   "execution_count": 73,
   "outputs": [
    {
     "name": "stdout",
     "output_type": "stream",
     "text": [
      "0 74754921\n",
      "1 32923693\n",
      "2 34133440\n",
      "3 76596980\n",
      "4 78397927\n",
      "5 35349208\n",
      "6 36576156\n",
      "7 80173404\n",
      "8 81944046\n",
      "9 37825510\n",
      "10 39104110\n",
      "11 83725038\n",
      "12 85522340\n",
      "13 40415999\n",
      "14 41757031\n",
      "15 87329956\n",
      "16 89157996\n",
      "17 43095268\n",
      "18 44390191\n",
      "19 91015393\n",
      "20 92835896\n",
      "21 45687389\n",
      "22 46983935\n",
      "23 94617502\n",
      "24 96368659\n",
      "25 48285484\n",
      "26 49598941\n",
      "27 98104460\n",
      "28 99845050\n",
      "29 50935250\n",
      "30 52301807\n",
      "31 101607860\n",
      "32 103392912\n",
      "33 53701081\n",
      "34 55132929\n",
      "35 105200045\n",
      "36 107040193\n",
      "37 56604410\n",
      "38 58121842\n",
      "39 108927738\n",
      "40 110868669\n",
      "41 59691513\n",
      "42 61316426\n",
      "43 112867839\n",
      "44 114917348\n",
      "45 62994185\n",
      "46 64713498\n",
      "47 116999097\n",
      "48 119084632\n",
      "49 66461625\n",
      "50 68226783\n",
      "51 121153730\n",
      "52 123198205\n",
      "53 70005271\n",
      "54 71795700\n",
      "55 125220255\n",
      "56 127183388\n",
      "57 73630430\n"
     ]
    }
   ],
   "source": [
    "for index, row in required_data.iterrows():\n",
    "    print (index, row[\"Value\"])\n",
    "# Task: Getting values based on group\n",
    "# required_data.\n",
    "# required_data\n"
   ],
   "metadata": {
    "collapsed": false,
    "pycharm": {
     "name": "#%%\n"
    }
   }
  },
  {
   "cell_type": "code",
   "execution_count": 76,
   "outputs": [
    {
     "data": {
      "text/plain": "Index(['Element', 'Year', 'Value'], dtype='object')"
     },
     "execution_count": 76,
     "metadata": {},
     "output_type": "execute_result"
    }
   ],
   "source": [
    "required_data.columns"
   ],
   "metadata": {
    "collapsed": false,
    "pycharm": {
     "name": "#%%\n"
    }
   }
  },
  {
   "cell_type": "code",
   "execution_count": 77,
   "outputs": [
    {
     "data": {
      "text/plain": "['Element', 'Year', 'Value']"
     },
     "execution_count": 77,
     "metadata": {},
     "output_type": "execute_result"
    }
   ],
   "source": [
    "list(required_data.columns)"
   ],
   "metadata": {
    "collapsed": false,
    "pycharm": {
     "name": "#%%\n"
    }
   }
  }
 ],
 "metadata": {
  "kernelspec": {
   "display_name": "Python 3",
   "language": "python",
   "name": "python3"
  },
  "language_info": {
   "codemirror_mode": {
    "name": "ipython",
    "version": 2
   },
   "file_extension": ".py",
   "mimetype": "text/x-python",
   "name": "python",
   "nbconvert_exporter": "python",
   "pygments_lexer": "ipython2",
   "version": "2.7.6"
  }
 },
 "nbformat": 4,
 "nbformat_minor": 0
}